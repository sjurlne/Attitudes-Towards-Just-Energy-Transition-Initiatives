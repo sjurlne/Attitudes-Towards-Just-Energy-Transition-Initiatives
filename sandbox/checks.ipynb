{
 "cells": [
  {
   "cell_type": "code",
   "execution_count": 1,
   "metadata": {},
   "outputs": [],
   "source": [
    "%load_ext autoreload\n",
    "%autoreload 2\n",
    "\n",
    "import pandas as pd\n",
    "import os\n",
    "import sys\n",
    "\n",
    "import plotly.graph_objects as go\n",
    "import plotly.express as px\n",
    "import pandas as pd\n",
    "\n",
    "\n",
    "import pandas as pd\n",
    "import plotly.express as px\n",
    "import plotly.graph_objs as go\n",
    "\n",
    "sys.path.insert(0, os.path.abspath('../developer'))\n",
    "\n",
    "from config import MOCK_DATA, CODE, OUT, IN\n",
    "from developer.utilities import read_yaml"
   ]
  },
  {
   "cell_type": "markdown",
   "metadata": {},
   "source": [
    "### Overall support"
   ]
  },
  {
   "cell_type": "code",
   "execution_count": 2,
   "metadata": {},
   "outputs": [
    {
     "data": {
      "application/vnd.plotly.v1+json": {
       "config": {
        "plotlyServerURL": "https://plot.ly"
       },
       "data": [
        {
         "error_y": {
          "array": [
           0.015199965181294184,
           0.014994746972853079
          ],
          "arrayminus": [
           0.015199965181294184,
           0.014847975933107826
          ],
          "type": "data",
          "visible": true
         },
         "marker": {
          "color": [
           "red",
           "blue"
          ]
         },
         "name": "Values",
         "type": "bar",
         "width": 0.6,
         "x": [
          "Treated",
          "Control"
         ],
         "y": [
          0.6666666666666666,
          0.6948123620309051
         ]
        }
       ],
       "layout": {
        "bargap": 0.1,
        "barmode": "group",
        "height": 500,
        "template": {
         "data": {
          "bar": [
           {
            "error_x": {
             "color": "#2a3f5f"
            },
            "error_y": {
             "color": "#2a3f5f"
            },
            "marker": {
             "line": {
              "color": "#E5ECF6",
              "width": 0.5
             },
             "pattern": {
              "fillmode": "overlay",
              "size": 10,
              "solidity": 0.2
             }
            },
            "type": "bar"
           }
          ],
          "barpolar": [
           {
            "marker": {
             "line": {
              "color": "#E5ECF6",
              "width": 0.5
             },
             "pattern": {
              "fillmode": "overlay",
              "size": 10,
              "solidity": 0.2
             }
            },
            "type": "barpolar"
           }
          ],
          "carpet": [
           {
            "aaxis": {
             "endlinecolor": "#2a3f5f",
             "gridcolor": "white",
             "linecolor": "white",
             "minorgridcolor": "white",
             "startlinecolor": "#2a3f5f"
            },
            "baxis": {
             "endlinecolor": "#2a3f5f",
             "gridcolor": "white",
             "linecolor": "white",
             "minorgridcolor": "white",
             "startlinecolor": "#2a3f5f"
            },
            "type": "carpet"
           }
          ],
          "choropleth": [
           {
            "colorbar": {
             "outlinewidth": 0,
             "ticks": ""
            },
            "type": "choropleth"
           }
          ],
          "contour": [
           {
            "colorbar": {
             "outlinewidth": 0,
             "ticks": ""
            },
            "colorscale": [
             [
              0,
              "#0d0887"
             ],
             [
              0.1111111111111111,
              "#46039f"
             ],
             [
              0.2222222222222222,
              "#7201a8"
             ],
             [
              0.3333333333333333,
              "#9c179e"
             ],
             [
              0.4444444444444444,
              "#bd3786"
             ],
             [
              0.5555555555555556,
              "#d8576b"
             ],
             [
              0.6666666666666666,
              "#ed7953"
             ],
             [
              0.7777777777777778,
              "#fb9f3a"
             ],
             [
              0.8888888888888888,
              "#fdca26"
             ],
             [
              1,
              "#f0f921"
             ]
            ],
            "type": "contour"
           }
          ],
          "contourcarpet": [
           {
            "colorbar": {
             "outlinewidth": 0,
             "ticks": ""
            },
            "type": "contourcarpet"
           }
          ],
          "heatmap": [
           {
            "colorbar": {
             "outlinewidth": 0,
             "ticks": ""
            },
            "colorscale": [
             [
              0,
              "#0d0887"
             ],
             [
              0.1111111111111111,
              "#46039f"
             ],
             [
              0.2222222222222222,
              "#7201a8"
             ],
             [
              0.3333333333333333,
              "#9c179e"
             ],
             [
              0.4444444444444444,
              "#bd3786"
             ],
             [
              0.5555555555555556,
              "#d8576b"
             ],
             [
              0.6666666666666666,
              "#ed7953"
             ],
             [
              0.7777777777777778,
              "#fb9f3a"
             ],
             [
              0.8888888888888888,
              "#fdca26"
             ],
             [
              1,
              "#f0f921"
             ]
            ],
            "type": "heatmap"
           }
          ],
          "heatmapgl": [
           {
            "colorbar": {
             "outlinewidth": 0,
             "ticks": ""
            },
            "colorscale": [
             [
              0,
              "#0d0887"
             ],
             [
              0.1111111111111111,
              "#46039f"
             ],
             [
              0.2222222222222222,
              "#7201a8"
             ],
             [
              0.3333333333333333,
              "#9c179e"
             ],
             [
              0.4444444444444444,
              "#bd3786"
             ],
             [
              0.5555555555555556,
              "#d8576b"
             ],
             [
              0.6666666666666666,
              "#ed7953"
             ],
             [
              0.7777777777777778,
              "#fb9f3a"
             ],
             [
              0.8888888888888888,
              "#fdca26"
             ],
             [
              1,
              "#f0f921"
             ]
            ],
            "type": "heatmapgl"
           }
          ],
          "histogram": [
           {
            "marker": {
             "pattern": {
              "fillmode": "overlay",
              "size": 10,
              "solidity": 0.2
             }
            },
            "type": "histogram"
           }
          ],
          "histogram2d": [
           {
            "colorbar": {
             "outlinewidth": 0,
             "ticks": ""
            },
            "colorscale": [
             [
              0,
              "#0d0887"
             ],
             [
              0.1111111111111111,
              "#46039f"
             ],
             [
              0.2222222222222222,
              "#7201a8"
             ],
             [
              0.3333333333333333,
              "#9c179e"
             ],
             [
              0.4444444444444444,
              "#bd3786"
             ],
             [
              0.5555555555555556,
              "#d8576b"
             ],
             [
              0.6666666666666666,
              "#ed7953"
             ],
             [
              0.7777777777777778,
              "#fb9f3a"
             ],
             [
              0.8888888888888888,
              "#fdca26"
             ],
             [
              1,
              "#f0f921"
             ]
            ],
            "type": "histogram2d"
           }
          ],
          "histogram2dcontour": [
           {
            "colorbar": {
             "outlinewidth": 0,
             "ticks": ""
            },
            "colorscale": [
             [
              0,
              "#0d0887"
             ],
             [
              0.1111111111111111,
              "#46039f"
             ],
             [
              0.2222222222222222,
              "#7201a8"
             ],
             [
              0.3333333333333333,
              "#9c179e"
             ],
             [
              0.4444444444444444,
              "#bd3786"
             ],
             [
              0.5555555555555556,
              "#d8576b"
             ],
             [
              0.6666666666666666,
              "#ed7953"
             ],
             [
              0.7777777777777778,
              "#fb9f3a"
             ],
             [
              0.8888888888888888,
              "#fdca26"
             ],
             [
              1,
              "#f0f921"
             ]
            ],
            "type": "histogram2dcontour"
           }
          ],
          "mesh3d": [
           {
            "colorbar": {
             "outlinewidth": 0,
             "ticks": ""
            },
            "type": "mesh3d"
           }
          ],
          "parcoords": [
           {
            "line": {
             "colorbar": {
              "outlinewidth": 0,
              "ticks": ""
             }
            },
            "type": "parcoords"
           }
          ],
          "pie": [
           {
            "automargin": true,
            "type": "pie"
           }
          ],
          "scatter": [
           {
            "fillpattern": {
             "fillmode": "overlay",
             "size": 10,
             "solidity": 0.2
            },
            "type": "scatter"
           }
          ],
          "scatter3d": [
           {
            "line": {
             "colorbar": {
              "outlinewidth": 0,
              "ticks": ""
             }
            },
            "marker": {
             "colorbar": {
              "outlinewidth": 0,
              "ticks": ""
             }
            },
            "type": "scatter3d"
           }
          ],
          "scattercarpet": [
           {
            "marker": {
             "colorbar": {
              "outlinewidth": 0,
              "ticks": ""
             }
            },
            "type": "scattercarpet"
           }
          ],
          "scattergeo": [
           {
            "marker": {
             "colorbar": {
              "outlinewidth": 0,
              "ticks": ""
             }
            },
            "type": "scattergeo"
           }
          ],
          "scattergl": [
           {
            "marker": {
             "colorbar": {
              "outlinewidth": 0,
              "ticks": ""
             }
            },
            "type": "scattergl"
           }
          ],
          "scattermapbox": [
           {
            "marker": {
             "colorbar": {
              "outlinewidth": 0,
              "ticks": ""
             }
            },
            "type": "scattermapbox"
           }
          ],
          "scatterpolar": [
           {
            "marker": {
             "colorbar": {
              "outlinewidth": 0,
              "ticks": ""
             }
            },
            "type": "scatterpolar"
           }
          ],
          "scatterpolargl": [
           {
            "marker": {
             "colorbar": {
              "outlinewidth": 0,
              "ticks": ""
             }
            },
            "type": "scatterpolargl"
           }
          ],
          "scatterternary": [
           {
            "marker": {
             "colorbar": {
              "outlinewidth": 0,
              "ticks": ""
             }
            },
            "type": "scatterternary"
           }
          ],
          "surface": [
           {
            "colorbar": {
             "outlinewidth": 0,
             "ticks": ""
            },
            "colorscale": [
             [
              0,
              "#0d0887"
             ],
             [
              0.1111111111111111,
              "#46039f"
             ],
             [
              0.2222222222222222,
              "#7201a8"
             ],
             [
              0.3333333333333333,
              "#9c179e"
             ],
             [
              0.4444444444444444,
              "#bd3786"
             ],
             [
              0.5555555555555556,
              "#d8576b"
             ],
             [
              0.6666666666666666,
              "#ed7953"
             ],
             [
              0.7777777777777778,
              "#fb9f3a"
             ],
             [
              0.8888888888888888,
              "#fdca26"
             ],
             [
              1,
              "#f0f921"
             ]
            ],
            "type": "surface"
           }
          ],
          "table": [
           {
            "cells": {
             "fill": {
              "color": "#EBF0F8"
             },
             "line": {
              "color": "white"
             }
            },
            "header": {
             "fill": {
              "color": "#C8D4E3"
             },
             "line": {
              "color": "white"
             }
            },
            "type": "table"
           }
          ]
         },
         "layout": {
          "annotationdefaults": {
           "arrowcolor": "#2a3f5f",
           "arrowhead": 0,
           "arrowwidth": 1
          },
          "autotypenumbers": "strict",
          "coloraxis": {
           "colorbar": {
            "outlinewidth": 0,
            "ticks": ""
           }
          },
          "colorscale": {
           "diverging": [
            [
             0,
             "#8e0152"
            ],
            [
             0.1,
             "#c51b7d"
            ],
            [
             0.2,
             "#de77ae"
            ],
            [
             0.3,
             "#f1b6da"
            ],
            [
             0.4,
             "#fde0ef"
            ],
            [
             0.5,
             "#f7f7f7"
            ],
            [
             0.6,
             "#e6f5d0"
            ],
            [
             0.7,
             "#b8e186"
            ],
            [
             0.8,
             "#7fbc41"
            ],
            [
             0.9,
             "#4d9221"
            ],
            [
             1,
             "#276419"
            ]
           ],
           "sequential": [
            [
             0,
             "#0d0887"
            ],
            [
             0.1111111111111111,
             "#46039f"
            ],
            [
             0.2222222222222222,
             "#7201a8"
            ],
            [
             0.3333333333333333,
             "#9c179e"
            ],
            [
             0.4444444444444444,
             "#bd3786"
            ],
            [
             0.5555555555555556,
             "#d8576b"
            ],
            [
             0.6666666666666666,
             "#ed7953"
            ],
            [
             0.7777777777777778,
             "#fb9f3a"
            ],
            [
             0.8888888888888888,
             "#fdca26"
            ],
            [
             1,
             "#f0f921"
            ]
           ],
           "sequentialminus": [
            [
             0,
             "#0d0887"
            ],
            [
             0.1111111111111111,
             "#46039f"
            ],
            [
             0.2222222222222222,
             "#7201a8"
            ],
            [
             0.3333333333333333,
             "#9c179e"
            ],
            [
             0.4444444444444444,
             "#bd3786"
            ],
            [
             0.5555555555555556,
             "#d8576b"
            ],
            [
             0.6666666666666666,
             "#ed7953"
            ],
            [
             0.7777777777777778,
             "#fb9f3a"
            ],
            [
             0.8888888888888888,
             "#fdca26"
            ],
            [
             1,
             "#f0f921"
            ]
           ]
          },
          "colorway": [
           "#636efa",
           "#EF553B",
           "#00cc96",
           "#ab63fa",
           "#FFA15A",
           "#19d3f3",
           "#FF6692",
           "#B6E880",
           "#FF97FF",
           "#FECB52"
          ],
          "font": {
           "color": "#2a3f5f"
          },
          "geo": {
           "bgcolor": "white",
           "lakecolor": "white",
           "landcolor": "#E5ECF6",
           "showlakes": true,
           "showland": true,
           "subunitcolor": "white"
          },
          "hoverlabel": {
           "align": "left"
          },
          "hovermode": "closest",
          "mapbox": {
           "style": "light"
          },
          "paper_bgcolor": "white",
          "plot_bgcolor": "#E5ECF6",
          "polar": {
           "angularaxis": {
            "gridcolor": "white",
            "linecolor": "white",
            "ticks": ""
           },
           "bgcolor": "#E5ECF6",
           "radialaxis": {
            "gridcolor": "white",
            "linecolor": "white",
            "ticks": ""
           }
          },
          "scene": {
           "xaxis": {
            "backgroundcolor": "#E5ECF6",
            "gridcolor": "white",
            "gridwidth": 2,
            "linecolor": "white",
            "showbackground": true,
            "ticks": "",
            "zerolinecolor": "white"
           },
           "yaxis": {
            "backgroundcolor": "#E5ECF6",
            "gridcolor": "white",
            "gridwidth": 2,
            "linecolor": "white",
            "showbackground": true,
            "ticks": "",
            "zerolinecolor": "white"
           },
           "zaxis": {
            "backgroundcolor": "#E5ECF6",
            "gridcolor": "white",
            "gridwidth": 2,
            "linecolor": "white",
            "showbackground": true,
            "ticks": "",
            "zerolinecolor": "white"
           }
          },
          "shapedefaults": {
           "line": {
            "color": "#2a3f5f"
           }
          },
          "ternary": {
           "aaxis": {
            "gridcolor": "white",
            "linecolor": "white",
            "ticks": ""
           },
           "baxis": {
            "gridcolor": "white",
            "linecolor": "white",
            "ticks": ""
           },
           "bgcolor": "#E5ECF6",
           "caxis": {
            "gridcolor": "white",
            "linecolor": "white",
            "ticks": ""
           }
          },
          "title": {
           "x": 0.05
          },
          "xaxis": {
           "automargin": true,
           "gridcolor": "white",
           "linecolor": "white",
           "ticks": "",
           "title": {
            "standoff": 15
           },
           "zerolinecolor": "white",
           "zerolinewidth": 2
          },
          "yaxis": {
           "automargin": true,
           "gridcolor": "white",
           "linecolor": "white",
           "ticks": "",
           "title": {
            "standoff": 15
           },
           "zerolinecolor": "white",
           "zerolinewidth": 2
          }
         }
        },
        "title": {
         "text": "Fig C: General support"
        },
        "width": 400,
        "xaxis": {
         "range": [
          -1,
          2
         ],
         "title": {
          "text": "Values"
         }
        },
        "yaxis": {
         "range": [
          0,
          1
         ],
         "title": {
          "text": "Mean"
         }
        }
       }
      }
     },
     "metadata": {},
     "output_type": "display_data"
    }
   ],
   "source": [
    "conjoint = pd.read_csv(OUT / \"data\" / \"data_long.csv\")\n",
    "\n",
    "treated = conjoint[conjoint['treatment_status'] == 1]\n",
    "control = conjoint[conjoint['treatment_status'] == 0]\n",
    "labels = [\"Treated\", \"Control\"]\n",
    "\n",
    "avg_support_treated = treated['support'].astype(int).mean()\n",
    "std_support_treated = treated['support'].astype(int).std()\n",
    "nobs_support_treated = len(treated['support'])\n",
    "\n",
    "avg_support_control = control['support'].astype(int).mean()\n",
    "std_support_control = control['support'].astype(int).std()\n",
    "nobs_support_control = len(control['support'])\n",
    "\n",
    "values = [avg_support_treated, avg_support_control]\n",
    "std_dev = [std_support_treated, std_support_control]\n",
    "labels = [\"Treated\", \"Control\"]\n",
    "\n",
    "# Calculate confidence intervals (assuming a normal distribution)\n",
    "confidence_intervals_treated = [(avg_support_treated - 1.96 * (std_support_treated / (nobs_support_treated) ** 0.5)), avg_support_treated + 1.96 * (std_support_treated / (nobs_support_treated) ** 0.5)]\n",
    "confidence_intervals_control = [(avg_support_control - 1.96 * (std_support_control / (nobs_support_treated) ** 0.5)), avg_support_control + 1.96 * (std_support_control / (nobs_support_control) ** 0.5)]\n",
    "\n",
    "\n",
    "# Create a bar plot with error bars representing confidence intervals\n",
    "fig = go.Figure()\n",
    "\n",
    "fig.add_trace(go.Bar(\n",
    "    x=labels,\n",
    "    y=values,\n",
    "    error_y=dict(\n",
    "                type='data',\n",
    "                array=[max(confidence_intervals_treated) - values[0], max(confidence_intervals_control) - values[1]],\n",
    "                arrayminus=[values[0] - min(confidence_intervals_treated), values[1] - min(confidence_intervals_control)],\n",
    "                visible=True\n",
    "            ),\n",
    "    name='Values',\n",
    "    marker_color=['red', 'blue'],\n",
    "    width=0.6\n",
    "))\n",
    "\n",
    "fig.update_layout(yaxis_range=[0, 1], xaxis_range=[-1,2], width=400, height=500)\n",
    "# Customize the layout\n",
    "fig.update_layout(\n",
    "    title='Fig C: General support',\n",
    "    xaxis=dict(title='Values'),\n",
    "    yaxis=dict(title='Mean'),\n",
    "    barmode='group',\n",
    "    bargap=0.1\n",
    "    \n",
    ")\n",
    "\n",
    "# Show the plot\n",
    "fig.show()"
   ]
  },
  {
   "cell_type": "markdown",
   "metadata": {},
   "source": [
    "##### Regions"
   ]
  },
  {
   "cell_type": "code",
   "execution_count": 3,
   "metadata": {},
   "outputs": [
    {
     "data": {
      "text/plain": [
       "array(['Puducherry', 'Dadra and Nagar Haveli and Daman & Diu', '1',\n",
       "       'Ladakh', 'Tripura'], dtype=object)"
      ]
     },
     "execution_count": 3,
     "metadata": {},
     "output_type": "execute_result"
    }
   ],
   "source": [
    "conjoint = pd.read_csv(OUT / \"data\" / \"data_clean.csv\")\n",
    "\n",
    "conjoint[\"locationFilter\"].unique()"
   ]
  },
  {
   "attachments": {},
   "cell_type": "markdown",
   "metadata": {},
   "source": [
    "#### Frequencies of attributes"
   ]
  },
  {
   "cell_type": "code",
   "execution_count": 4,
   "metadata": {},
   "outputs": [
    {
     "data": {
      "text/html": [
       "<div>\n",
       "<style scoped>\n",
       "    .dataframe tbody tr th:only-of-type {\n",
       "        vertical-align: middle;\n",
       "    }\n",
       "\n",
       "    .dataframe tbody tr th {\n",
       "        vertical-align: top;\n",
       "    }\n",
       "\n",
       "    .dataframe thead th {\n",
       "        text-align: right;\n",
       "    }\n",
       "</style>\n",
       "<table border=\"1\" class=\"dataframe\">\n",
       "  <thead>\n",
       "    <tr style=\"text-align: right;\">\n",
       "      <th></th>\n",
       "      <th>frequency</th>\n",
       "    </tr>\n",
       "    <tr>\n",
       "      <th>Attribute_level</th>\n",
       "      <th></th>\n",
       "    </tr>\n",
       "  </thead>\n",
       "  <tbody>\n",
       "    <tr>\n",
       "      <th>Eliminate2050</th>\n",
       "      <td>0.34</td>\n",
       "    </tr>\n",
       "    <tr>\n",
       "      <th>Eliminate2070</th>\n",
       "      <td>0.33</td>\n",
       "    </tr>\n",
       "    <tr>\n",
       "      <th>Reduce2030</th>\n",
       "      <td>0.33</td>\n",
       "    </tr>\n",
       "    <tr>\n",
       "      <th>EnergyAccess</th>\n",
       "      <td>0.25</td>\n",
       "    </tr>\n",
       "    <tr>\n",
       "      <th>InsureWorkers</th>\n",
       "      <td>0.25</td>\n",
       "    </tr>\n",
       "    <tr>\n",
       "      <th>LowPrices</th>\n",
       "      <td>0.25</td>\n",
       "    </tr>\n",
       "    <tr>\n",
       "      <th>NothingSoc</th>\n",
       "      <td>0.25</td>\n",
       "    </tr>\n",
       "    <tr>\n",
       "      <th>IdentityCoalRegions</th>\n",
       "      <td>0.24</td>\n",
       "    </tr>\n",
       "    <tr>\n",
       "      <th>IndustryCoalRegions</th>\n",
       "      <td>0.25</td>\n",
       "    </tr>\n",
       "    <tr>\n",
       "      <th>NothingEco</th>\n",
       "      <td>0.26</td>\n",
       "    </tr>\n",
       "    <tr>\n",
       "      <th>WorkersCoalRegion</th>\n",
       "      <td>0.24</td>\n",
       "    </tr>\n",
       "    <tr>\n",
       "      <th>Gov&amp;Businesses</th>\n",
       "      <td>0.17</td>\n",
       "    </tr>\n",
       "    <tr>\n",
       "      <th>Gov&amp;CivilSociety</th>\n",
       "      <td>0.16</td>\n",
       "    </tr>\n",
       "    <tr>\n",
       "      <th>Gov&amp;LaborUnions</th>\n",
       "      <td>0.17</td>\n",
       "    </tr>\n",
       "    <tr>\n",
       "      <th>Gov&amp;LocalGov</th>\n",
       "      <td>0.17</td>\n",
       "    </tr>\n",
       "    <tr>\n",
       "      <th>Gov&amp;Researchers</th>\n",
       "      <td>0.16</td>\n",
       "    </tr>\n",
       "    <tr>\n",
       "      <th>GovAlone</th>\n",
       "      <td>0.17</td>\n",
       "    </tr>\n",
       "    <tr>\n",
       "      <th>Fin&amp;TechSupport</th>\n",
       "      <td>0.25</td>\n",
       "    </tr>\n",
       "    <tr>\n",
       "      <th>FinSupportOnly</th>\n",
       "      <td>0.25</td>\n",
       "    </tr>\n",
       "    <tr>\n",
       "      <th>NoInterference</th>\n",
       "      <td>0.24</td>\n",
       "    </tr>\n",
       "    <tr>\n",
       "      <th>TechSupportOnly</th>\n",
       "      <td>0.25</td>\n",
       "    </tr>\n",
       "  </tbody>\n",
       "</table>\n",
       "</div>"
      ],
      "text/plain": [
       "                     frequency\n",
       "Attribute_level               \n",
       "Eliminate2050             0.34\n",
       "Eliminate2070             0.33\n",
       "Reduce2030                0.33\n",
       "EnergyAccess              0.25\n",
       "InsureWorkers             0.25\n",
       "LowPrices                 0.25\n",
       "NothingSoc                0.25\n",
       "IdentityCoalRegions       0.24\n",
       "IndustryCoalRegions       0.25\n",
       "NothingEco                0.26\n",
       "WorkersCoalRegion         0.24\n",
       "Gov&Businesses            0.17\n",
       "Gov&CivilSociety          0.16\n",
       "Gov&LaborUnions           0.17\n",
       "Gov&LocalGov              0.17\n",
       "Gov&Researchers           0.16\n",
       "GovAlone                  0.17\n",
       "Fin&TechSupport           0.25\n",
       "FinSupportOnly            0.25\n",
       "NoInterference            0.24\n",
       "TechSupportOnly           0.25"
      ]
     },
     "execution_count": 4,
     "metadata": {},
     "output_type": "execute_result"
    }
   ],
   "source": [
    "conjoint_reg = pd.read_csv(OUT / \"data\" / \"data_regression.csv\")\n",
    "\n",
    "#conjoint_dummy.columns.str.startswith('att')\n",
    "def frequencies(conjoint_reg):\n",
    "    \n",
    "    frequency_table =  {}\n",
    "    groups = ['att_1', 'att_2','att_3', 'att_4', 'att_5'] #add 6\n",
    "    for group in groups:\n",
    "        total = sum(dict(conjoint_reg.filter(like=group).sum()).values())\n",
    "        frequency_table[group] = {key.replace(f'{group}_', '') : (value / total).round(2) for key, value in dict(conjoint_reg.filter(like=group).sum()).items()}\n",
    "    frequency_table = pd.DataFrame(frequency_table).sum(axis=1)\n",
    "    frequency_table = pd.DataFrame(frequency_table, columns=[\"frequency\"])\n",
    "\n",
    "    frequency_table = frequency_table.rename_axis(\"Attribute_level\")\n",
    "    return frequency_table\n",
    "\n",
    "frequencies(conjoint_reg)"
   ]
  },
  {
   "attachments": {},
   "cell_type": "markdown",
   "metadata": {},
   "source": [
    "#### Time spent on surveys"
   ]
  },
  {
   "cell_type": "code",
   "execution_count": 5,
   "metadata": {},
   "outputs": [
    {
     "data": {
      "application/vnd.plotly.v1+json": {
       "config": {
        "plotlyServerURL": "https://plot.ly"
       },
       "data": [
        {
         "autobinx": false,
         "histnorm": "probability density",
         "legendgroup": "DurationMin",
         "marker": {
          "color": "rgb(31, 119, 180)"
         },
         "name": "DurationMin",
         "opacity": 0.7,
         "type": "histogram",
         "x": [
          3.283333333333333,
          5.45,
          6.383333333333334,
          7.133333333333334,
          5.533333333333333,
          12.066666666666666,
          9.2,
          10.2,
          8.883333333333333,
          12.65,
          10.633333333333333,
          18.933333333333334,
          10.166666666666666,
          17.933333333333334,
          19.116666666666667,
          18.983333333333334,
          5.266666666666667,
          14.033333333333333,
          14.866666666666667,
          5.533333333333333,
          8.916666666666666,
          14.583333333333334,
          20.716666666666665,
          6.233333333333333,
          13.083333333333334,
          6.616666666666666,
          11.166666666666666,
          17.666666666666668,
          5.3,
          7.716666666666667,
          20.8,
          11.216666666666667,
          7.666666666666667,
          9.5,
          14.366666666666667,
          17.433333333333334,
          9.3,
          8.116666666666667,
          7.516666666666667,
          10.216666666666667,
          10.766666666666667,
          9.733333333333333,
          16.283333333333335,
          12.633333333333333,
          13.183333333333334,
          12.216666666666667,
          5.583333333333333,
          15.783333333333333,
          10.95,
          5.933333333333334,
          5.866666666666666,
          13.316666666666666,
          29.816666666666666,
          26.8,
          21.2,
          16.9,
          28.033333333333335,
          27.016666666666666,
          22.416666666666668,
          9.6,
          15.416666666666666,
          22.4,
          25.533333333333335,
          10.416666666666666,
          12.35,
          6.016666666666667,
          14.583333333333334,
          37.083333333333336,
          27.366666666666667,
          3.1666666666666665,
          25.883333333333333,
          21.133333333333333,
          13.983333333333333,
          19.966666666666665,
          17.766666666666666,
          13.466666666666667,
          4.183333333333334,
          17.15,
          18.666666666666668,
          9.933333333333334,
          18.216666666666665,
          11.766666666666667,
          6.033333333333333,
          11.766666666666667,
          14.266666666666667,
          20.966666666666665,
          5.766666666666667,
          13.2,
          52.016666666666666,
          5.016666666666667,
          3.95,
          13.083333333333334,
          8.266666666666667,
          7.9,
          15.216666666666667,
          8.25,
          7.75,
          24.35,
          8.766666666666667,
          6.466666666666667,
          32.9,
          46.75,
          8.9,
          29.5,
          12.133333333333333,
          47.68333333333333,
          28.666666666666668,
          5,
          12.816666666666666,
          35.016666666666666,
          35.46666666666667,
          37.81666666666667,
          11.066666666666666,
          26.916666666666668,
          4.5,
          10.633333333333333,
          13.183333333333334,
          14.066666666666666,
          14.416666666666666,
          3.5,
          13.316666666666666,
          5.533333333333333,
          5.566666666666666,
          11.683333333333334,
          10.35,
          5.516666666666667,
          7.983333333333333,
          18.55,
          9.833333333333334,
          16.65,
          13.8,
          9.316666666666666,
          8.966666666666667,
          8.566666666666666,
          10.083333333333334,
          10.9,
          11.5,
          2.75,
          9.683333333333334,
          10.566666666666666,
          10.983333333333333,
          11,
          18,
          8.283333333333333,
          13.616666666666667,
          14.8,
          12.266666666666667,
          16.766666666666666,
          18.283333333333335,
          16.55,
          14.183333333333334,
          18.116666666666667,
          19.366666666666667,
          6.933333333333334,
          6.866666666666666,
          21.833333333333332,
          11.233333333333333,
          12.35,
          13.066666666666666,
          11.533333333333333,
          4.6,
          7.083333333333333,
          7.983333333333333,
          8.95,
          28.95,
          15.783333333333333,
          30.55,
          28.8,
          17.066666666666666,
          13.466666666666667,
          11.916666666666666,
          23.333333333333332,
          15.583333333333334,
          4.566666666666666,
          27.266666666666666,
          19.333333333333332,
          14.316666666666666,
          14.9,
          37.666666666666664,
          7.45,
          7.866666666666666,
          12.683333333333334,
          19.083333333333332,
          17.9,
          23.766666666666666,
          18.883333333333333,
          7.616666666666666,
          10.966666666666667,
          26.9,
          14.183333333333334,
          15.583333333333334,
          18.833333333333332,
          11.5,
          33.016666666666666,
          2.4833333333333334,
          3.1166666666666667,
          12.066666666666666,
          2.1666666666666665,
          6.616666666666666,
          46.28333333333333,
          2.2666666666666666,
          15.15,
          3.15,
          8.95,
          11.383333333333333,
          15,
          10.383333333333333,
          13.183333333333334,
          4.883333333333334,
          39.766666666666666,
          16.833333333333332,
          5.583333333333333,
          6.566666666666666,
          3.316666666666667,
          12.2,
          7.15,
          9.4,
          4.066666666666666,
          10.933333333333334,
          5.233333333333333,
          9.566666666666666,
          10.183333333333334,
          14.55,
          3.816666666666667,
          8.933333333333334,
          12.533333333333333,
          31.1,
          13.166666666666666,
          17.266666666666666,
          20.35,
          5.033333333333333,
          10.216666666666667,
          13.216666666666667,
          14.45,
          10.316666666666666,
          13.816666666666666,
          17.733333333333334,
          4.483333333333333,
          21.666666666666668,
          8.9,
          22.866666666666667,
          15.516666666666667,
          9.116666666666667,
          25.566666666666666,
          18,
          26.483333333333334,
          4.75,
          10.35,
          7.95,
          7.916666666666667,
          11.25,
          36.266666666666666,
          11.15,
          12.7,
          4.7,
          28.333333333333332,
          19.716666666666665,
          3.3833333333333333,
          19.016666666666666,
          18.016666666666666,
          18.75,
          8.25,
          17.683333333333334,
          43.4,
          4.816666666666666,
          9.033333333333333,
          21.1,
          17.066666666666666,
          4.433333333333334,
          6.233333333333333,
          12.166666666666666,
          19.833333333333332,
          13.633333333333333,
          25.033333333333335,
          10.216666666666667,
          8.35,
          9.133333333333333,
          8.05,
          5.7,
          9.05,
          7.116666666666666,
          41.56666666666667,
          35.05,
          7.316666666666666,
          7.766666666666667,
          11.066666666666666,
          22.466666666666665,
          13.233333333333333,
          10.283333333333333,
          11.833333333333334,
          9.9,
          17.55,
          22.566666666666666,
          4.8,
          17.65,
          29.966666666666665,
          21.916666666666668,
          22.816666666666666,
          8.483333333333333,
          10.316666666666666,
          7.05,
          8.1,
          39.78333333333333,
          24.35,
          10.25,
          30.966666666666665,
          24.15,
          11.466666666666667,
          17.8,
          53.86666666666667,
          5.583333333333333,
          26.466666666666665,
          6.783333333333333,
          12.033333333333333,
          11.233333333333333,
          8.066666666666666,
          29.833333333333332,
          20.483333333333334,
          3.6166666666666667,
          16.416666666666668,
          11.816666666666666,
          7.266666666666667,
          22.616666666666667,
          11.316666666666666,
          14.433333333333334,
          17.483333333333334,
          14.666666666666666,
          16.983333333333334,
          10.8,
          8.283333333333333,
          14.85,
          33.15,
          11.583333333333334,
          16.633333333333333,
          27.816666666666666,
          27.933333333333334,
          13.6,
          14.3,
          56.45,
          3.4833333333333334,
          3.433333333333333,
          3.5166666666666666,
          4.266666666666667,
          4.3,
          3.5833333333333335,
          3.5,
          4.833333333333333,
          4.883333333333334,
          3.1166666666666667,
          3.9166666666666665,
          4.05,
          5.816666666666666,
          4.116666666666666,
          4.766666666666667,
          4.816666666666666,
          5,
          5.133333333333334,
          4.983333333333333,
          3.25,
          4.283333333333333,
          4.733333333333333,
          4.766666666666667,
          4.983333333333333,
          5.433333333333334,
          5.266666666666667,
          5.65,
          5.25,
          5.433333333333334,
          5.366666666666666,
          5.883333333333334,
          5.333333333333333,
          5.783333333333333,
          5.95,
          5.666666666666667,
          6.15,
          6.333333333333333,
          6.316666666666666,
          6.283333333333333,
          6.5,
          6.683333333333334,
          6.65,
          5.383333333333334,
          6.75,
          6.116666666666666,
          6.733333333333333,
          6.666666666666667,
          6.75,
          6.433333333333334,
          6.933333333333334,
          7.016666666666667,
          6.183333333333334,
          5.9,
          7.133333333333334,
          6.116666666666666,
          6.933333333333334,
          6.566666666666666,
          7.516666666666667,
          7.133333333333334,
          7.35,
          7.7,
          7.533333333333333,
          7.65,
          8.333333333333334,
          7.983333333333333,
          8.033333333333333,
          7.816666666666666,
          7.366666666666666,
          7.733333333333333,
          9.1,
          8.15,
          7.366666666666666,
          8.5,
          8.166666666666666,
          8.35,
          8.516666666666667,
          8.35,
          8.766666666666667,
          8.416666666666666,
          8.733333333333333,
          8.616666666666667,
          9.233333333333333,
          8.216666666666667,
          5.466666666666667,
          9.666666666666666,
          8.233333333333333,
          7.766666666666667,
          9.033333333333333,
          5.416666666666667,
          8.733333333333333,
          9.35,
          9.183333333333334,
          9.316666666666666,
          9.566666666666666,
          9.533333333333333,
          9.933333333333334,
          9.75,
          9.866666666666667,
          10,
          8.733333333333333,
          9.55,
          8.716666666666667,
          9.95,
          10.25,
          9.733333333333333,
          9.566666666666666,
          9.2,
          10.233333333333333,
          10.333333333333334,
          10.316666666666666,
          9.983333333333333,
          11.083333333333334,
          10.65,
          10.5,
          10.783333333333333,
          11.05,
          9.65,
          12.483333333333333,
          10.633333333333333,
          11.833333333333334,
          10.6,
          12.066666666666666,
          11.516666666666667,
          12.666666666666666,
          12.016666666666667,
          12.05,
          12.133333333333333,
          11.316666666666666,
          11.75,
          11.416666666666666,
          12.233333333333333,
          12.6,
          11.8,
          12.316666666666666,
          12.3,
          11.516666666666667,
          12.2,
          12.583333333333334,
          13.066666666666666,
          13.05,
          12.833333333333334,
          13.15,
          12.366666666666667,
          13.183333333333334,
          8.4,
          13.283333333333333,
          12.533333333333333,
          12.05,
          13.066666666666666,
          10.416666666666666,
          13.65,
          13.433333333333334,
          13.483333333333333,
          14.533333333333333,
          12.733333333333333,
          13.866666666666667,
          14.683333333333334,
          11.016666666666667,
          13.233333333333333,
          13.716666666666667,
          14.133333333333333,
          13.6,
          14.4,
          14.266666666666667,
          14.25,
          14.616666666666667,
          13.083333333333334,
          13.833333333333334,
          14.966666666666667,
          14.883333333333333,
          14.716666666666667,
          13.816666666666666,
          16.366666666666667,
          15.116666666666667,
          15.233333333333333,
          14.65,
          13.1,
          15.466666666666667,
          15.333333333333334,
          13.166666666666666,
          10.933333333333334,
          15.533333333333333,
          14.9,
          15.85,
          15.733333333333333,
          16.3,
          16.333333333333332,
          15.6,
          16.366666666666667,
          17.166666666666668,
          15.666666666666666,
          15.666666666666666,
          16.1,
          16.45,
          16.3,
          16.033333333333335,
          16.483333333333334,
          15.933333333333334,
          16.616666666666667,
          14.9,
          17.333333333333332,
          16.95,
          17.066666666666666,
          18.4,
          17.7,
          17.266666666666666,
          18.766666666666666,
          16.85,
          17.583333333333332,
          17.866666666666667,
          15.583333333333334,
          18.633333333333333,
          19.25,
          17.933333333333334,
          15.716666666666667,
          18.3,
          18.65,
          18.25,
          18.933333333333334,
          19.833333333333332,
          19.25,
          18.966666666666665,
          19.966666666666665,
          20.5,
          20,
          20.433333333333334,
          20.366666666666667,
          18.133333333333333,
          17.2,
          20.266666666666666,
          20.266666666666666,
          22.5,
          19.75,
          22.4,
          19.666666666666668,
          22.766666666666666,
          19,
          22.116666666666667,
          22.733333333333334,
          23.416666666666668,
          24.633333333333333,
          24.283333333333335,
          5.833333333333333,
          25.066666666666666,
          26.316666666666666,
          26.45,
          26.7,
          27.8,
          28.25,
          28.883333333333333,
          28.6,
          27.8,
          28.933333333333334,
          30.033333333333335,
          30.35,
          30.666666666666668,
          29.083333333333332,
          31.683333333333334,
          5.433333333333334,
          38.31666666666667
         ],
         "xaxis": "x",
         "xbins": {
          "end": 56.45,
          "size": 2,
          "start": 2.1666666666666665
         },
         "yaxis": "y"
        },
        {
         "legendgroup": "DurationMin",
         "marker": {
          "color": "rgb(31, 119, 180)"
         },
         "mode": "lines",
         "name": "DurationMin",
         "showlegend": false,
         "type": "scatter",
         "x": [
          2.1666666666666665,
          2.275233333333333,
          2.3838,
          2.4923666666666664,
          2.6009333333333333,
          2.7095,
          2.8180666666666667,
          2.926633333333333,
          3.0351999999999997,
          3.1437666666666666,
          3.2523333333333335,
          3.3609,
          3.4694666666666665,
          3.5780333333333334,
          3.6866,
          3.795166666666667,
          3.9037333333333333,
          4.0123,
          4.120866666666667,
          4.229433333333334,
          4.338,
          4.446566666666667,
          4.555133333333333,
          4.6637,
          4.772266666666667,
          4.880833333333333,
          4.9894,
          5.097966666666666,
          5.206533333333333,
          5.3151,
          5.4236666666666675,
          5.532233333333334,
          5.6408000000000005,
          5.749366666666667,
          5.857933333333333,
          5.9665,
          6.075066666666667,
          6.183633333333333,
          6.292200000000001,
          6.400766666666668,
          6.509333333333334,
          6.617900000000001,
          6.726466666666667,
          6.8350333333333335,
          6.9436,
          7.052166666666668,
          7.160733333333335,
          7.269300000000001,
          7.377866666666668,
          7.486433333333334,
          7.595000000000001,
          7.703566666666667,
          7.812133333333334,
          7.9207,
          8.029266666666667,
          8.137833333333333,
          8.2464,
          8.354966666666666,
          8.463533333333334,
          8.5721,
          8.680666666666667,
          8.789233333333334,
          8.8978,
          9.006366666666667,
          9.114933333333333,
          9.2235,
          9.332066666666668,
          9.440633333333334,
          9.5492,
          9.657766666666667,
          9.766333333333334,
          9.8749,
          9.983466666666668,
          10.092033333333335,
          10.2006,
          10.309166666666666,
          10.417733333333334,
          10.5263,
          10.634866666666667,
          10.743433333333334,
          10.852,
          10.960566666666667,
          11.069133333333333,
          11.177700000000002,
          11.286266666666666,
          11.394833333333334,
          11.5034,
          11.611966666666667,
          11.720533333333332,
          11.8291,
          11.937666666666669,
          12.046233333333333,
          12.154800000000002,
          12.263366666666666,
          12.371933333333335,
          12.4805,
          12.589066666666668,
          12.697633333333334,
          12.8062,
          12.914766666666667,
          13.023333333333333,
          13.1319,
          13.240466666666666,
          13.349033333333335,
          13.457600000000001,
          13.566166666666668,
          13.674733333333334,
          13.7833,
          13.891866666666667,
          14.000433333333334,
          14.109,
          14.217566666666668,
          14.326133333333333,
          14.434700000000001,
          14.543266666666666,
          14.651833333333334,
          14.7604,
          14.868966666666667,
          14.977533333333335,
          15.0861,
          15.194666666666668,
          15.303233333333333,
          15.411800000000001,
          15.520366666666666,
          15.628933333333334,
          15.7375,
          15.846066666666667,
          15.954633333333334,
          16.063200000000002,
          16.17176666666667,
          16.280333333333335,
          16.388900000000003,
          16.497466666666668,
          16.606033333333336,
          16.7146,
          16.82316666666667,
          16.931733333333334,
          17.040300000000002,
          17.148866666666667,
          17.257433333333335,
          17.366,
          17.474566666666668,
          17.583133333333336,
          17.6917,
          17.80026666666667,
          17.908833333333334,
          18.017400000000002,
          18.125966666666667,
          18.234533333333335,
          18.343100000000003,
          18.451666666666668,
          18.560233333333336,
          18.668800000000005,
          18.77736666666667,
          18.885933333333337,
          18.994500000000002,
          19.10306666666667,
          19.211633333333335,
          19.320200000000003,
          19.42876666666667,
          19.537333333333336,
          19.6459,
          19.75446666666667,
          19.863033333333338,
          19.971600000000002,
          20.080166666666667,
          20.18873333333334,
          20.297300000000003,
          20.405866666666668,
          20.514433333333336,
          20.623000000000005,
          20.73156666666667,
          20.840133333333334,
          20.948700000000006,
          21.05726666666667,
          21.165833333333335,
          21.2744,
          21.382966666666672,
          21.491533333333336,
          21.6001,
          21.708666666666673,
          21.817233333333338,
          21.925800000000002,
          22.034366666666667,
          22.14293333333334,
          22.251500000000004,
          22.36006666666667,
          22.468633333333337,
          22.577200000000005,
          22.68576666666667,
          22.794333333333334,
          22.902900000000002,
          23.01146666666667,
          23.120033333333335,
          23.228600000000004,
          23.337166666666672,
          23.445733333333337,
          23.5543,
          23.66286666666667,
          23.771433333333338,
          23.880000000000003,
          23.98856666666667,
          24.097133333333336,
          24.205700000000004,
          24.31426666666667,
          24.422833333333337,
          24.531400000000005,
          24.63996666666667,
          24.748533333333338,
          24.857100000000003,
          24.96566666666667,
          25.074233333333336,
          25.182800000000004,
          25.29136666666667,
          25.399933333333337,
          25.508500000000005,
          25.61706666666667,
          25.725633333333334,
          25.834200000000003,
          25.94276666666667,
          26.051333333333336,
          26.159900000000004,
          26.268466666666672,
          26.377033333333337,
          26.4856,
          26.59416666666667,
          26.702733333333338,
          26.811300000000003,
          26.919866666666667,
          27.02843333333334,
          27.137000000000004,
          27.24556666666667,
          27.354133333333337,
          27.462700000000005,
          27.57126666666667,
          27.679833333333335,
          27.788400000000006,
          27.89696666666667,
          28.005533333333336,
          28.1141,
          28.222666666666672,
          28.331233333333337,
          28.4398,
          28.54836666666667,
          28.65693333333334,
          28.765500000000003,
          28.874066666666668,
          28.98263333333334,
          29.091200000000004,
          29.19976666666667,
          29.308333333333337,
          29.416900000000005,
          29.52546666666667,
          29.634033333333335,
          29.742600000000003,
          29.85116666666667,
          29.959733333333336,
          30.068300000000004,
          30.176866666666673,
          30.285433333333337,
          30.394000000000002,
          30.50256666666667,
          30.61113333333334,
          30.719700000000003,
          30.82826666666667,
          30.936833333333336,
          31.045400000000004,
          31.15396666666667,
          31.262533333333337,
          31.371100000000006,
          31.47966666666667,
          31.58823333333334,
          31.696800000000003,
          31.80536666666667,
          31.913933333333336,
          32.0225,
          32.13106666666667,
          32.23963333333334,
          32.348200000000006,
          32.45676666666667,
          32.565333333333335,
          32.6739,
          32.78246666666667,
          32.89103333333333,
          32.9996,
          33.10816666666667,
          33.21673333333334,
          33.3253,
          33.433866666666674,
          33.542433333333335,
          33.651,
          33.759566666666665,
          33.86813333333334,
          33.9767,
          34.08526666666667,
          34.19383333333334,
          34.3024,
          34.41096666666667,
          34.519533333333335,
          34.6281,
          34.736666666666665,
          34.84523333333333,
          34.9538,
          35.06236666666667,
          35.17093333333334,
          35.2795,
          35.38806666666667,
          35.49663333333333,
          35.6052,
          35.71376666666667,
          35.82233333333333,
          35.9309,
          36.03946666666667,
          36.14803333333333,
          36.2566,
          36.36516666666667,
          36.473733333333335,
          36.582300000000004,
          36.69086666666667,
          36.79943333333333,
          36.908,
          37.01656666666666,
          37.12513333333333,
          37.233700000000006,
          37.34226666666667,
          37.450833333333335,
          37.559400000000004,
          37.667966666666665,
          37.77653333333333,
          37.8851,
          37.99366666666666,
          38.10223333333334,
          38.210800000000006,
          38.31936666666667,
          38.427933333333335,
          38.5365,
          38.645066666666665,
          38.75363333333333,
          38.8622,
          38.97076666666667,
          39.07933333333334,
          39.1879,
          39.29646666666667,
          39.405033333333336,
          39.5136,
          39.622166666666665,
          39.73073333333334,
          39.8393,
          39.94786666666667,
          40.05643333333333,
          40.165,
          40.27356666666667,
          40.38213333333333,
          40.490700000000004,
          40.59926666666667,
          40.70783333333333,
          40.8164,
          40.92496666666667,
          41.03353333333333,
          41.1421,
          41.250666666666675,
          41.359233333333336,
          41.467800000000004,
          41.576366666666665,
          41.68493333333333,
          41.7935,
          41.90206666666666,
          42.01063333333333,
          42.119200000000006,
          42.22776666666667,
          42.336333333333336,
          42.444900000000004,
          42.553466666666665,
          42.66203333333333,
          42.7706,
          42.87916666666667,
          42.98773333333334,
          43.09630000000001,
          43.20486666666667,
          43.313433333333336,
          43.422,
          43.530566666666665,
          43.639133333333334,
          43.7477,
          43.85626666666667,
          43.96483333333334,
          44.0734,
          44.18196666666667,
          44.290533333333336,
          44.3991,
          44.50766666666667,
          44.61623333333334,
          44.7248,
          44.83336666666667,
          44.94193333333333,
          45.0505,
          45.15906666666667,
          45.267633333333336,
          45.376200000000004,
          45.48476666666667,
          45.593333333333334,
          45.7019,
          45.81046666666667,
          45.91903333333333,
          46.0276,
          46.136166666666675,
          46.244733333333336,
          46.353300000000004,
          46.461866666666666,
          46.570433333333334,
          46.679,
          46.78756666666666,
          46.89613333333334,
          47.00470000000001,
          47.11326666666667,
          47.221833333333336,
          47.330400000000004,
          47.438966666666666,
          47.547533333333334,
          47.6561,
          47.76466666666667,
          47.87323333333334,
          47.9818,
          48.09036666666667,
          48.198933333333336,
          48.3075,
          48.416066666666666,
          48.52463333333334,
          48.6332,
          48.74176666666667,
          48.85033333333334,
          48.9589,
          49.06746666666667,
          49.176033333333336,
          49.2846,
          49.39316666666667,
          49.501733333333334,
          49.6103,
          49.71886666666667,
          49.82743333333333,
          49.936,
          50.04456666666667,
          50.15313333333334,
          50.261700000000005,
          50.37026666666667,
          50.478833333333334,
          50.5874,
          50.69596666666667,
          50.80453333333333,
          50.91310000000001,
          51.02166666666667,
          51.13023333333334,
          51.238800000000005,
          51.347366666666666,
          51.455933333333334,
          51.5645,
          51.673066666666664,
          51.78163333333334,
          51.89020000000001,
          51.99876666666667,
          52.10733333333334,
          52.215900000000005,
          52.324466666666666,
          52.433033333333334,
          52.5416,
          52.65016666666667,
          52.75873333333334,
          52.8673,
          52.97586666666667,
          53.08443333333334,
          53.193,
          53.301566666666666,
          53.41013333333334,
          53.5187,
          53.62726666666667,
          53.73583333333334,
          53.8444,
          53.95296666666667,
          54.06153333333333,
          54.170100000000005,
          54.27866666666667,
          54.387233333333334,
          54.4958,
          54.60436666666667,
          54.71293333333333,
          54.8215,
          54.93006666666667,
          55.03863333333334,
          55.147200000000005,
          55.25576666666667,
          55.364333333333335,
          55.4729,
          55.581466666666664,
          55.69003333333333,
          55.79860000000001,
          55.90716666666667,
          56.01573333333334,
          56.124300000000005,
          56.232866666666666,
          56.341433333333335
         ],
         "xaxis": "x",
         "y": [
          0.016393648859370284,
          0.0172450495053162,
          0.01811610470577563,
          0.019005653127319545,
          0.01991244327904759,
          0.020835138843156548,
          0.021772324747606042,
          0.02272251393803652,
          0.023684154796983343,
          0.024655639149760655,
          0.02563531078828724,
          0.026621474436752383,
          0.02761240507649249,
          0.02860635754190742,
          0.02960157629479027,
          0.03059630528118389,
          0.03158879777288224,
          0.03257732609503388,
          0.03356019114201093,
          0.03453573158579533,
          0.03550233268460311,
          0.03645843460426719,
          0.03740254017098966,
          0.038333221981355206,
          0.03924912880386411,
          0.04014899121557803,
          0.041031626427602316,
          0.041895942263909164,
          0.04274094026924596,
          0.04356571793337747,
          0.04436947003049245,
          0.045151489084057514,
          0.04591116497852571,
          0.0466479837499178,
          0.04736152559720928,
          0.04805146216550237,
          0.04871755316000747,
          0.049359642356757515,
          0.049977653081652924,
          0.05057158323378354,
          0.05114149993197848,
          0.05168753386515336,
          0.052209873427283615,
          0.05270875871676758,
          0.053184475477619154,
          0.05363734905643915,
          0.05406773844457792,
          0.05447603046943866,
          0.054862634192647204,
          0.055227975565973,
          0.055572492388612775,
          0.055896629601894794,
          0.056200834949816626,
          0.05648555502624294,
          0.05675123172222088,
          0.05699829907986778,
          0.0572271805527668,
          0.057438286666881215,
          0.05763201307076004,
          0.05780873895931505,
          0.057968825851747514,
          0.058112616701313353,
          0.05824043531253529,
          0.05835258604017448,
          0.05844935374371915,
          0.0585310039712781,
          0.058597783347498204,
          0.05864992014137813,
          0.05868762499152018,
          0.058711091768352604,
          0.05872049855505278,
          0.05871600873120909,
          0.05869777214556389,
          0.05866592636639752,
          0.05862059800014527,
          0.05856190407061568,
          0.05848995345263877,
          0.05840484835505049,
          0.058306685848612885,
          0.05819555943472249,
          0.05807156065059962,
          0.057934780706078624,
          0.0577853121461624,
          0.05762325053221212,
          0.05744869613306096,
          0.05726175561554554,
          0.057062543721997455,
          0.056851184920232285,
          0.056627815009574235,
          0.05639258266456878,
          0.05614565089633239,
          0.055887198410059846,
          0.05561742083612557,
          0.0553365318115475,
          0.05504476388839376,
          0.05474236924604077,
          0.054429620185083356,
          0.05410680938217418,
          0.053774249887122455,
          0.05343227484623038,
          0.053081236939039274,
          0.05272150751937458,
          0.052353475455762834,
          0.05197754567087842,
          0.05159413738457966,
          0.051203682070236685,
          0.050806621139323875,
          0.050403403374552166,
          0.0499944821370428,
          0.04958031237807256,
          0.04916134749064702,
          0.04873803604047598,
          0.048310818419715455,
          0.047880123470025925,
          0.04744636512397197,
          0.047009939115491936,
          0.04657121981102492,
          0.04613055721286211,
          0.04568827418534989,
          0.04524466395270812,
          0.04479998791444328,
          0.04435447382066099,
          0.0439083143450539,
          0.043461666088029295,
          0.04301464903642003,
          0.0425673464995872,
          0.0421198055345891,
          0.041672037865571526,
          0.0412240212947655,
          0.040775701594600304,
          0.04032699486258942,
          0.03987779031297653,
          0.03942795347177473,
          0.03897732973494108,
          0.03852574824312898,
          0.03807302602087406,
          0.03761897232330929,
          0.03716339312966646,
          0.03670609571997729,
          0.03624689326960868,
          0.035785609395581175,
          0.035322082589054914,
          0.034856170469918485,
          0.03438775380205793,
          0.03391674021157183,
          0.03344306755486995,
          0.032966706889160556,
          0.032487665004194796,
          0.03200598648117893,
          0.031521755252355364,
          0.03103509564275173,
          0.030546172883853747,
          0.030055193097321967,
          0.029562402755188122,
          0.029068087631081103,
          0.028572571264798563,
          0.028076212969815422,
          0.027579405419975136,
          0.027082571857529266,
          0.026586162969767266,
          0.026090653485633636,
          0.02559653854689557,
          0.025104329910552402,
          0.024614552040249513,
          0.0241277381444668,
          0.023644426218215275,
          0.02316515514293297,
          0.022690460896280806,
          0.022220872919681212,
          0.021756910686804836,
          0.021299080510905923,
          0.02084787262305452,
          0.020403758547040917,
          0.01996718879017268,
          0.019538590862488003,
          0.0191183676302063,
          0.018706896002674105,
          0.01830452594576461,
          0.01791157980878583,
          0.01752835194655215,
          0.017155108613481768,
          0.016792088102484306,
          0.01643950109806122,
          0.01609753121051889,
          0.015766335656509818,
          0.015446046050294728,
          0.015136769270143456,
          0.014838588365147318,
          0.0145515634693506,
          0.014275732692469857,
          0.014011112959481986,
          0.013757700774934385,
          0.013515472891873432,
          0.013284386869686294,
          0.01306438150980256,
          0.01285537716298679,
          0.01265727590675888,
          0.012469961596194203,
          0.012293299795872686,
          0.01212713760496439,
          0.01197130339127103,
          0.011825606453406095,
          0.011689836633127056,
          0.011563763902076852,
          0.011447137948811891,
          0.01133968779296658,
          0.011241121453723047,
          0.011151125699424995,
          0.01106936590421972,
          0.010995486036065266,
          0.010929108798347504,
          0.010869835944772139,
          0.010817248784194038,
          0.010770908888694747,
          0.010730359014595327,
          0.010695124242277485,
          0.01066471333676359,
          0.010638620327055268,
          0.010616326298332899,
          0.010597301387345714,
          0.010581006967746106,
          0.010566898008803028,
          0.010554425587923917,
          0.010543039534766237,
          0.010532191182467222,
          0.010521336199690067,
          0.010509937475793936,
          0.010497468030493616,
          0.010483413918880235,
          0.010467277102620272,
          0.010448578258517742,
          0.01042685949639298,
          0.010401686959369614,
          0.010372653281137735,
          0.010339379876536077,
          0.010301519043831794,
          0.010258755859328537,
          0.01021080984736176,
          0.010157436411301497,
          0.010098428013834858,
          0.01003361509750655,
          0.009962866739214654,
          0.009886091035060132,
          0.009803235214597512,
          0.009714285486105392,
          0.009619266616961369,
          0.009518241255549053,
          0.00941130900332316,
          0.009298605247701219,
          0.009180299768322329,
          0.009056595130909107,
          0.00892772488447802,
          0.008793951578965105,
          0.008655564621464003,
          0.008512877990210535,
          0.008366227826194282,
          0.008215969922833891,
          0.008062477134520619,
          0.007906136725020097,
          0.007747347676726678,
          0.007586517981594996,
          0.0074240619342345465,
          0.007260397447151374,
          0.007095943407463637,
          0.006931117093612984,
          0.0067663316696504544,
          0.00660199377360267,
          0.006438501215233974,
          0.00627624079722322,
          0.006115586272383884,
          0.005956896448086461,
          0.005800513447507787,
          0.005646761135748353,
          0.005495943717242273,
          0.005348344509252035,
          0.005204224894608493,
          0.005063823455242978,
          0.004927355286479647,
          0.004795011490528847,
          0.004666958846161811,
          0.004543339650168345,
          0.0044242717249157,
          0.00430984858514996,
          0.004200139756122371,
          0.004095191234189053,
          0.003995026080231423,
          0.003899645135578721,
          0.0038090278495880006,
          0.003723133207648238,
          0.0036419007481240193,
          0.003565251656634837,
          0.0034930899260742464,
          0.0034253035708998354,
          0.003361765884462457,
          0.003302336728480527,
          0.003246863844191744,
          0.0031951841752174705,
          0.003147125192743189,
          0.003102506214237558,
          0.003061139707591664,
          0.0030228325732452647,
          0.00298738739756741,
          0.002954603671462839,
          0.002924278968873155,
          0.0028962100805234475,
          0.002870194098922681,
          0.002846029451252986,
          0.0028235168773732473,
          0.0028024603507117367,
          0.0027826679403283186,
          0.0027639526128866807,
          0.002746132973691472,
          0.0027290339463137327,
          0.0027124873906534345,
          0.0026963326595719115,
          0.002680417094473398,
          0.0026645964604276057,
          0.002648735321608528,
          0.002632707357983499,
          0.002616395624325439,
          0.002599692752745244,
          0.00258250110005504,
          0.0025647328413805825,
          0.002546310011546735,
          0.002527164495866566,
          0.002507237972075113,
          0.002486481805265188,
          0.0024648568978057565,
          0.002442333496353995,
          0.002418890958209792,
          0.0023945174794047152,
          0.0023692097870649242,
          0.0023429727987363423,
          0.0023158192515074856,
          0.00228776930390755,
          0.0022588501136900853,
          0.002229095394732285,
          0.002198544956381991,
          0.002167244228664717,
          0.002135243776817371,
          0.0021025988086398537,
          0.0020693686781471997,
          0.0020356163889602404,
          0.002001408100789877,
          0.001966812642247328,
          0.0019319010330495312,
          0.0018967460184854217,
          0.0018614216187660736,
          0.0018260026956020867,
          0.0017905645380378115,
          0.001755182469228202,
          0.00171993147547544,
          0.0016848858584542275,
          0.001650118911154133,
          0.0016157026176612766,
          0.001581707376498002,
          0.0015482017468466764,
          0.001515252216610205,
          0.0014829229909166528,
          0.0014512757993664577,
          0.00142036972005684,
          0.0013902610182063193,
          0.0013610029970502217,
          0.0013326458585913626,
          0.0013052365717735267,
          0.0012788187457025947,
          0.001253432505672906,
          0.0012291143699648158,
          0.0012058971256621233,
          0.0011838097020909486,
          0.001162877040899811,
          0.0011431199622763402,
          0.0011245550273196933,
          0.0011071943971487444,
          0.0010910456899111214,
          0.0010761118374533806,
          0.0010623909440026658,
          0.001049876149779067,
          0.0010385555029889069,
          0.001028411844126132,
          0.0010194227069154408,
          0.001011560240551618,
          0.0010047911581108498,
          0.0009990767161190254,
          0.0009943727302494348,
          0.0009906296319799025,
          0.000987792570762691,
          0.0009858015658477492,
          0.0009845917113526696,
          0.0009840934374961876,
          0.0009842328301147044,
          0.0009849320096749928,
          0.0009861095699961002,
          0.0009876810758176451,
          0.0009895596172207165,
          0.0009916564177446714,
          0.0009938814918725397,
          0.0009961443464055692,
          0.0009983547191397383,
          0.0010004233472202671,
          0.0010022627566094759,
          0.0010037880632830824,
          0.0010049177760920905,
          0.0010055745907112477,
          0.0010056861637570138,
          0.0010051858560106795,
          0.0010040134337345292,
          0.0010021157173251542,
          0.0009994471670083341,
          0.0009959703959398379,
          0.0009916566019272728,
          0.0009864859100165828,
          0.0009804476193758854,
          0.0009735403492383366,
          0.0009657720801106629,
          0.0009571600879884907,
          0.0009477307709149215,
          0.0009375193688451482,
          0.0009265695794064842,
          0.000914933073739416,
          0.0009026689181409668,
          0.0008898429086782594,
          0.0008765268272706272,
          0.0008627976289287887,
          0.0008487365708680423,
          0.0008344282950611279,
          0.000819959876451282,
          0.0008054198494966484,
          0.0007908972259574908,
          0.0007764805168656829,
          0.0007622567714337695,
          0.0007483106452745776,
          0.0007347235097218893,
          0.0007215726132813461,
          0.0007089303053149129,
          0.0006968633309912573,
          0.0006854322053394521,
          0.0006746906729477222,
          0.0006646852584771076,
          0.0006554549117366666,
          0.0006470307496180039,
          0.0006394358957372806,
          0.000632685417207,
          0.0006267863565810243,
          0.0006217378557060927,
          0.0006175313669915388,
          0.0006141509464934625,
          0.0006115736222157158,
          0.0006097698301702038,
          0.0006087039100232786,
          0.0006083346515904506,
          0.0006086158830326691,
          0.0006094970913555812,
          0.000610924065717333,
          0.0006128395541069205,
          0.0006151839241576975,
          0.0006178958192010515,
          0.000620912801133071,
          0.0006241719722501104,
          0.0006276105688938478,
          0.0006311665205178137,
          0.0006347789686295778,
          0.0006383887409592833,
          0.0006419387771390633,
          0.0006453745031320244,
          0.0006486441526070892,
          0.0006516990344005844,
          0.0006544937461213285,
          0.0006569863348283033,
          0.0006591384065251109,
          0.000660915186961051,
          0.0006622855368940105,
          0.0006632219255463774,
          0.0006637003664646057,
          0.0006637003203705067,
          0.0006632045698644628,
          0.000662199071006191,
          0.0006606727868580707,
          0.0006586175080320247,
          0.0006560276651380668,
          0.0006529001377972282,
          0.0006492340645616698,
          0.0006450306576899391,
          0.0006402930262662833,
          0.0006350260106416601,
          0.0006292360306232482,
          0.0006229309492621673,
          0.0006161199534992851,
          0.0006088134523399688,
          0.0006010229926536587,
          0.0005927611921457927,
          0.0005840416885397013,
          0.0005748791035452437,
          0.0005652890197884416,
          0.0005552879685399775,
          0.0005448934258161202,
          0.000534123814237678,
          0.000522998507923264,
          0.0005115378376627577,
          0.0004997630936639255
         ],
         "yaxis": "y"
        }
       ],
       "layout": {
        "annotations": [
         {
          "arrowhead": 4,
          "ax": 0,
          "ay": -40,
          "showarrow": false,
          "text": "Average: 13.84",
          "x": 13.837813021702836,
          "xref": "x",
          "y": 1.08,
          "yref": "paper"
         },
         {
          "arrowhead": 4,
          "ax": 0,
          "ay": -40,
          "showarrow": false,
          "text": "Median: 12.07",
          "x": 12.066666666666666,
          "xref": "x",
          "y": 1.13,
          "yref": "paper"
         }
        ],
        "barmode": "overlay",
        "hovermode": "closest",
        "legend": {
         "traceorder": "reversed"
        },
        "shapes": [
         {
          "line": {
           "color": "red",
           "dash": "dash",
           "width": 2
          },
          "name": "Average: 13.84",
          "type": "line",
          "x0": 13.837813021702836,
          "x1": 13.837813021702836,
          "xref": "x",
          "y0": 0,
          "y1": 1,
          "yref": "paper"
         },
         {
          "line": {
           "color": "green",
           "dash": "dash",
           "width": 2
          },
          "name": "Median: 12.07",
          "type": "line",
          "x0": 12.066666666666666,
          "x1": 12.066666666666666,
          "xref": "x",
          "y0": 0,
          "y1": 1,
          "yref": "paper"
         }
        ],
        "template": {
         "data": {
          "bar": [
           {
            "error_x": {
             "color": "#2a3f5f"
            },
            "error_y": {
             "color": "#2a3f5f"
            },
            "marker": {
             "line": {
              "color": "#E5ECF6",
              "width": 0.5
             },
             "pattern": {
              "fillmode": "overlay",
              "size": 10,
              "solidity": 0.2
             }
            },
            "type": "bar"
           }
          ],
          "barpolar": [
           {
            "marker": {
             "line": {
              "color": "#E5ECF6",
              "width": 0.5
             },
             "pattern": {
              "fillmode": "overlay",
              "size": 10,
              "solidity": 0.2
             }
            },
            "type": "barpolar"
           }
          ],
          "carpet": [
           {
            "aaxis": {
             "endlinecolor": "#2a3f5f",
             "gridcolor": "white",
             "linecolor": "white",
             "minorgridcolor": "white",
             "startlinecolor": "#2a3f5f"
            },
            "baxis": {
             "endlinecolor": "#2a3f5f",
             "gridcolor": "white",
             "linecolor": "white",
             "minorgridcolor": "white",
             "startlinecolor": "#2a3f5f"
            },
            "type": "carpet"
           }
          ],
          "choropleth": [
           {
            "colorbar": {
             "outlinewidth": 0,
             "ticks": ""
            },
            "type": "choropleth"
           }
          ],
          "contour": [
           {
            "colorbar": {
             "outlinewidth": 0,
             "ticks": ""
            },
            "colorscale": [
             [
              0,
              "#0d0887"
             ],
             [
              0.1111111111111111,
              "#46039f"
             ],
             [
              0.2222222222222222,
              "#7201a8"
             ],
             [
              0.3333333333333333,
              "#9c179e"
             ],
             [
              0.4444444444444444,
              "#bd3786"
             ],
             [
              0.5555555555555556,
              "#d8576b"
             ],
             [
              0.6666666666666666,
              "#ed7953"
             ],
             [
              0.7777777777777778,
              "#fb9f3a"
             ],
             [
              0.8888888888888888,
              "#fdca26"
             ],
             [
              1,
              "#f0f921"
             ]
            ],
            "type": "contour"
           }
          ],
          "contourcarpet": [
           {
            "colorbar": {
             "outlinewidth": 0,
             "ticks": ""
            },
            "type": "contourcarpet"
           }
          ],
          "heatmap": [
           {
            "colorbar": {
             "outlinewidth": 0,
             "ticks": ""
            },
            "colorscale": [
             [
              0,
              "#0d0887"
             ],
             [
              0.1111111111111111,
              "#46039f"
             ],
             [
              0.2222222222222222,
              "#7201a8"
             ],
             [
              0.3333333333333333,
              "#9c179e"
             ],
             [
              0.4444444444444444,
              "#bd3786"
             ],
             [
              0.5555555555555556,
              "#d8576b"
             ],
             [
              0.6666666666666666,
              "#ed7953"
             ],
             [
              0.7777777777777778,
              "#fb9f3a"
             ],
             [
              0.8888888888888888,
              "#fdca26"
             ],
             [
              1,
              "#f0f921"
             ]
            ],
            "type": "heatmap"
           }
          ],
          "heatmapgl": [
           {
            "colorbar": {
             "outlinewidth": 0,
             "ticks": ""
            },
            "colorscale": [
             [
              0,
              "#0d0887"
             ],
             [
              0.1111111111111111,
              "#46039f"
             ],
             [
              0.2222222222222222,
              "#7201a8"
             ],
             [
              0.3333333333333333,
              "#9c179e"
             ],
             [
              0.4444444444444444,
              "#bd3786"
             ],
             [
              0.5555555555555556,
              "#d8576b"
             ],
             [
              0.6666666666666666,
              "#ed7953"
             ],
             [
              0.7777777777777778,
              "#fb9f3a"
             ],
             [
              0.8888888888888888,
              "#fdca26"
             ],
             [
              1,
              "#f0f921"
             ]
            ],
            "type": "heatmapgl"
           }
          ],
          "histogram": [
           {
            "marker": {
             "pattern": {
              "fillmode": "overlay",
              "size": 10,
              "solidity": 0.2
             }
            },
            "type": "histogram"
           }
          ],
          "histogram2d": [
           {
            "colorbar": {
             "outlinewidth": 0,
             "ticks": ""
            },
            "colorscale": [
             [
              0,
              "#0d0887"
             ],
             [
              0.1111111111111111,
              "#46039f"
             ],
             [
              0.2222222222222222,
              "#7201a8"
             ],
             [
              0.3333333333333333,
              "#9c179e"
             ],
             [
              0.4444444444444444,
              "#bd3786"
             ],
             [
              0.5555555555555556,
              "#d8576b"
             ],
             [
              0.6666666666666666,
              "#ed7953"
             ],
             [
              0.7777777777777778,
              "#fb9f3a"
             ],
             [
              0.8888888888888888,
              "#fdca26"
             ],
             [
              1,
              "#f0f921"
             ]
            ],
            "type": "histogram2d"
           }
          ],
          "histogram2dcontour": [
           {
            "colorbar": {
             "outlinewidth": 0,
             "ticks": ""
            },
            "colorscale": [
             [
              0,
              "#0d0887"
             ],
             [
              0.1111111111111111,
              "#46039f"
             ],
             [
              0.2222222222222222,
              "#7201a8"
             ],
             [
              0.3333333333333333,
              "#9c179e"
             ],
             [
              0.4444444444444444,
              "#bd3786"
             ],
             [
              0.5555555555555556,
              "#d8576b"
             ],
             [
              0.6666666666666666,
              "#ed7953"
             ],
             [
              0.7777777777777778,
              "#fb9f3a"
             ],
             [
              0.8888888888888888,
              "#fdca26"
             ],
             [
              1,
              "#f0f921"
             ]
            ],
            "type": "histogram2dcontour"
           }
          ],
          "mesh3d": [
           {
            "colorbar": {
             "outlinewidth": 0,
             "ticks": ""
            },
            "type": "mesh3d"
           }
          ],
          "parcoords": [
           {
            "line": {
             "colorbar": {
              "outlinewidth": 0,
              "ticks": ""
             }
            },
            "type": "parcoords"
           }
          ],
          "pie": [
           {
            "automargin": true,
            "type": "pie"
           }
          ],
          "scatter": [
           {
            "fillpattern": {
             "fillmode": "overlay",
             "size": 10,
             "solidity": 0.2
            },
            "type": "scatter"
           }
          ],
          "scatter3d": [
           {
            "line": {
             "colorbar": {
              "outlinewidth": 0,
              "ticks": ""
             }
            },
            "marker": {
             "colorbar": {
              "outlinewidth": 0,
              "ticks": ""
             }
            },
            "type": "scatter3d"
           }
          ],
          "scattercarpet": [
           {
            "marker": {
             "colorbar": {
              "outlinewidth": 0,
              "ticks": ""
             }
            },
            "type": "scattercarpet"
           }
          ],
          "scattergeo": [
           {
            "marker": {
             "colorbar": {
              "outlinewidth": 0,
              "ticks": ""
             }
            },
            "type": "scattergeo"
           }
          ],
          "scattergl": [
           {
            "marker": {
             "colorbar": {
              "outlinewidth": 0,
              "ticks": ""
             }
            },
            "type": "scattergl"
           }
          ],
          "scattermapbox": [
           {
            "marker": {
             "colorbar": {
              "outlinewidth": 0,
              "ticks": ""
             }
            },
            "type": "scattermapbox"
           }
          ],
          "scatterpolar": [
           {
            "marker": {
             "colorbar": {
              "outlinewidth": 0,
              "ticks": ""
             }
            },
            "type": "scatterpolar"
           }
          ],
          "scatterpolargl": [
           {
            "marker": {
             "colorbar": {
              "outlinewidth": 0,
              "ticks": ""
             }
            },
            "type": "scatterpolargl"
           }
          ],
          "scatterternary": [
           {
            "marker": {
             "colorbar": {
              "outlinewidth": 0,
              "ticks": ""
             }
            },
            "type": "scatterternary"
           }
          ],
          "surface": [
           {
            "colorbar": {
             "outlinewidth": 0,
             "ticks": ""
            },
            "colorscale": [
             [
              0,
              "#0d0887"
             ],
             [
              0.1111111111111111,
              "#46039f"
             ],
             [
              0.2222222222222222,
              "#7201a8"
             ],
             [
              0.3333333333333333,
              "#9c179e"
             ],
             [
              0.4444444444444444,
              "#bd3786"
             ],
             [
              0.5555555555555556,
              "#d8576b"
             ],
             [
              0.6666666666666666,
              "#ed7953"
             ],
             [
              0.7777777777777778,
              "#fb9f3a"
             ],
             [
              0.8888888888888888,
              "#fdca26"
             ],
             [
              1,
              "#f0f921"
             ]
            ],
            "type": "surface"
           }
          ],
          "table": [
           {
            "cells": {
             "fill": {
              "color": "#EBF0F8"
             },
             "line": {
              "color": "white"
             }
            },
            "header": {
             "fill": {
              "color": "#C8D4E3"
             },
             "line": {
              "color": "white"
             }
            },
            "type": "table"
           }
          ]
         },
         "layout": {
          "annotationdefaults": {
           "arrowcolor": "#2a3f5f",
           "arrowhead": 0,
           "arrowwidth": 1
          },
          "autotypenumbers": "strict",
          "coloraxis": {
           "colorbar": {
            "outlinewidth": 0,
            "ticks": ""
           }
          },
          "colorscale": {
           "diverging": [
            [
             0,
             "#8e0152"
            ],
            [
             0.1,
             "#c51b7d"
            ],
            [
             0.2,
             "#de77ae"
            ],
            [
             0.3,
             "#f1b6da"
            ],
            [
             0.4,
             "#fde0ef"
            ],
            [
             0.5,
             "#f7f7f7"
            ],
            [
             0.6,
             "#e6f5d0"
            ],
            [
             0.7,
             "#b8e186"
            ],
            [
             0.8,
             "#7fbc41"
            ],
            [
             0.9,
             "#4d9221"
            ],
            [
             1,
             "#276419"
            ]
           ],
           "sequential": [
            [
             0,
             "#0d0887"
            ],
            [
             0.1111111111111111,
             "#46039f"
            ],
            [
             0.2222222222222222,
             "#7201a8"
            ],
            [
             0.3333333333333333,
             "#9c179e"
            ],
            [
             0.4444444444444444,
             "#bd3786"
            ],
            [
             0.5555555555555556,
             "#d8576b"
            ],
            [
             0.6666666666666666,
             "#ed7953"
            ],
            [
             0.7777777777777778,
             "#fb9f3a"
            ],
            [
             0.8888888888888888,
             "#fdca26"
            ],
            [
             1,
             "#f0f921"
            ]
           ],
           "sequentialminus": [
            [
             0,
             "#0d0887"
            ],
            [
             0.1111111111111111,
             "#46039f"
            ],
            [
             0.2222222222222222,
             "#7201a8"
            ],
            [
             0.3333333333333333,
             "#9c179e"
            ],
            [
             0.4444444444444444,
             "#bd3786"
            ],
            [
             0.5555555555555556,
             "#d8576b"
            ],
            [
             0.6666666666666666,
             "#ed7953"
            ],
            [
             0.7777777777777778,
             "#fb9f3a"
            ],
            [
             0.8888888888888888,
             "#fdca26"
            ],
            [
             1,
             "#f0f921"
            ]
           ]
          },
          "colorway": [
           "#636efa",
           "#EF553B",
           "#00cc96",
           "#ab63fa",
           "#FFA15A",
           "#19d3f3",
           "#FF6692",
           "#B6E880",
           "#FF97FF",
           "#FECB52"
          ],
          "font": {
           "color": "#2a3f5f"
          },
          "geo": {
           "bgcolor": "white",
           "lakecolor": "white",
           "landcolor": "#E5ECF6",
           "showlakes": true,
           "showland": true,
           "subunitcolor": "white"
          },
          "hoverlabel": {
           "align": "left"
          },
          "hovermode": "closest",
          "mapbox": {
           "style": "light"
          },
          "paper_bgcolor": "white",
          "plot_bgcolor": "#E5ECF6",
          "polar": {
           "angularaxis": {
            "gridcolor": "white",
            "linecolor": "white",
            "ticks": ""
           },
           "bgcolor": "#E5ECF6",
           "radialaxis": {
            "gridcolor": "white",
            "linecolor": "white",
            "ticks": ""
           }
          },
          "scene": {
           "xaxis": {
            "backgroundcolor": "#E5ECF6",
            "gridcolor": "white",
            "gridwidth": 2,
            "linecolor": "white",
            "showbackground": true,
            "ticks": "",
            "zerolinecolor": "white"
           },
           "yaxis": {
            "backgroundcolor": "#E5ECF6",
            "gridcolor": "white",
            "gridwidth": 2,
            "linecolor": "white",
            "showbackground": true,
            "ticks": "",
            "zerolinecolor": "white"
           },
           "zaxis": {
            "backgroundcolor": "#E5ECF6",
            "gridcolor": "white",
            "gridwidth": 2,
            "linecolor": "white",
            "showbackground": true,
            "ticks": "",
            "zerolinecolor": "white"
           }
          },
          "shapedefaults": {
           "line": {
            "color": "#2a3f5f"
           }
          },
          "ternary": {
           "aaxis": {
            "gridcolor": "white",
            "linecolor": "white",
            "ticks": ""
           },
           "baxis": {
            "gridcolor": "white",
            "linecolor": "white",
            "ticks": ""
           },
           "bgcolor": "#E5ECF6",
           "caxis": {
            "gridcolor": "white",
            "linecolor": "white",
            "ticks": ""
           }
          },
          "title": {
           "x": 0.05
          },
          "xaxis": {
           "automargin": true,
           "gridcolor": "white",
           "linecolor": "white",
           "ticks": "",
           "title": {
            "standoff": 15
           },
           "zerolinecolor": "white",
           "zerolinewidth": 2
          },
          "yaxis": {
           "automargin": true,
           "gridcolor": "white",
           "linecolor": "white",
           "ticks": "",
           "title": {
            "standoff": 15
           },
           "zerolinecolor": "white",
           "zerolinewidth": 2
          }
         }
        },
        "title": {
         "text": "Fig B: Density plot of time spent for engaged"
        },
        "xaxis": {
         "anchor": "y2",
         "domain": [
          0,
          1
         ],
         "title": {
          "text": "Value"
         },
         "zeroline": false
        },
        "yaxis": {
         "anchor": "free",
         "domain": [
          0,
          1
         ],
         "position": 0,
         "title": {
          "text": "Density"
         }
        }
       }
      }
     },
     "metadata": {},
     "output_type": "display_data"
    }
   ],
   "source": [
    "\n",
    "import plotly.express as px\n",
    "import plotly.figure_factory as ff\n",
    "\n",
    "\n",
    "clean_data = pd.read_csv(OUT / \"data\" / \"data_clean.csv\")\n",
    "\n",
    "clean_data['DurationMin'] = clean_data['Duration (in seconds)'] / 60\n",
    "\n",
    "clean_data = clean_data[clean_data['DurationMin'] < 60]\n",
    "\n",
    "# Calculate the average and median\n",
    "average_duration = clean_data['DurationMin'].mean()\n",
    "median_duration = clean_data['DurationMin'].median()\n",
    "\n",
    "fig = ff.create_distplot([clean_data['DurationMin']], ['DurationMin'], show_curve=True, show_rug=False, bin_size=2.0)\n",
    "\n",
    "fig.add_shape(\n",
    "    type='line',\n",
    "    x0=average_duration,\n",
    "    x1=average_duration,\n",
    "    y0=0,\n",
    "    y1=1,\n",
    "    xref='x',\n",
    "    yref='paper',\n",
    "    line=dict(color='red', width=2, dash='dash'),\n",
    "    name=f'Average: {average_duration:.2f}'\n",
    ")\n",
    "\n",
    "fig.add_shape(\n",
    "    type='line',\n",
    "    x0=median_duration,\n",
    "    x1=median_duration,\n",
    "    y0=0,\n",
    "    y1=1,\n",
    "    xref='x',\n",
    "    yref='paper',\n",
    "    line=dict(color='green', width=2, dash='dash'),\n",
    "    name=f'Median: {median_duration:.2f}'\n",
    ")\n",
    "\n",
    "# Add labels for average and median values\n",
    "fig.add_annotation(\n",
    "    x=average_duration,\n",
    "    y=1.08,\n",
    "    xref='x',\n",
    "    yref='paper',\n",
    "    text=f'Average: {average_duration:.2f}',\n",
    "    showarrow=False,\n",
    "    arrowhead=4,\n",
    "    ax=0,\n",
    "    ay=-40\n",
    ")\n",
    "\n",
    "fig.add_annotation(\n",
    "    x=median_duration,\n",
    "    y=1.13,\n",
    "    xref='x',\n",
    "    yref='paper',\n",
    "    text=f'Median: {median_duration:.2f}',\n",
    "    showarrow=False,\n",
    "    arrowhead=4,\n",
    "    ax=0,\n",
    "    ay=-40\n",
    ")\n",
    "\n",
    "# Update the layout if needed\n",
    "fig.update_layout(\n",
    "    title='Density Plot with Smooth Line',\n",
    "    xaxis_title='Value',\n",
    "    yaxis_title='Density'\n",
    ")\n",
    "# Update the layout if needed\n",
    "fig.update_layout(title='Fig B: Density plot of time spent for engaged', xaxis_title='Value', yaxis_title='Density')\n",
    "\n",
    "\n",
    "# Show the plot\n",
    "fig.show()"
   ]
  },
  {
   "attachments": {},
   "cell_type": "markdown",
   "metadata": {},
   "source": [
    "#### Treatment"
   ]
  },
  {
   "cell_type": "code",
   "execution_count": 6,
   "metadata": {},
   "outputs": [
    {
     "data": {
      "application/vnd.plotly.v1+json": {
       "config": {
        "plotlyServerURL": "https://plot.ly"
       },
       "data": [
        {
         "error_y": {
          "array": [
           0.029999999999999916
          ],
          "arrayminus": [
           0.040000000000000036
          ],
          "type": "data",
          "visible": true
         },
         "marker": {
          "color": "rgb(173, 221, 142)"
         },
         "name": "NoInterference",
         "type": "bar",
         "width": 0.2,
         "x": [
          "NoInterference"
         ],
         "y": [
          0.66
         ]
        },
        {
         "error_y": {
          "array": [
           0.030000000000000027
          ],
          "arrayminus": [
           0.029999999999999916
          ],
          "type": "data",
          "visible": true
         },
         "marker": {
          "color": "rgb(127, 188, 65)"
         },
         "name": "TechSupportOnly",
         "type": "bar",
         "width": 0.2,
         "x": [
          "TechSupportOnly"
         ],
         "y": [
          0.7
         ]
        },
        {
         "error_y": {
          "array": [
           0.029999999999999916
          ],
          "arrayminus": [
           0.030000000000000027
          ],
          "type": "data",
          "visible": true
         },
         "marker": {
          "color": "rgb(78, 139, 37)"
         },
         "name": "FinSupportOnly",
         "type": "bar",
         "width": 0.2,
         "x": [
          "FinSupportOnly"
         ],
         "y": [
          0.68
         ]
        },
        {
         "error_y": {
          "array": [
           0.030000000000000027
          ],
          "arrayminus": [
           0.030000000000000027
          ],
          "type": "data",
          "visible": true
         },
         "marker": {
          "color": "rgb(45, 82, 21)"
         },
         "name": "Fin<br>TechSupport",
         "type": "bar",
         "width": 0.2,
         "x": [
          "Fin<br>TechSupport"
         ],
         "y": [
          0.74
         ]
        },
        {
         "error_y": {
          "array": [
           0.030000000000000027
          ],
          "arrayminus": [
           0.030000000000000027
          ],
          "type": "data",
          "visible": true
         },
         "marker": {
          "color": "rgb(221, 142, 142)"
         },
         "name": "NoInterference",
         "type": "bar",
         "width": 0.2,
         "x": [
          "NoInterference"
         ],
         "y": [
          0.65
         ]
        },
        {
         "error_y": {
          "array": [
           0.029999999999999916
          ],
          "arrayminus": [
           0.030000000000000027
          ],
          "type": "data",
          "visible": true
         },
         "marker": {
          "color": "rgb(188, 65, 65)"
         },
         "name": "TechSupportOnly",
         "type": "bar",
         "width": 0.2,
         "x": [
          "TechSupportOnly"
         ],
         "y": [
          0.68
         ]
        },
        {
         "error_y": {
          "array": [
           0.030000000000000027
          ],
          "arrayminus": [
           0.030000000000000027
          ],
          "type": "data",
          "visible": true
         },
         "marker": {
          "color": "rgb(139, 37, 37)"
         },
         "name": "FinSupportOnly",
         "type": "bar",
         "width": 0.2,
         "x": [
          "FinSupportOnly"
         ],
         "y": [
          0.65
         ]
        },
        {
         "error_y": {
          "array": [
           0.029999999999999916
          ],
          "arrayminus": [
           0.030000000000000027
          ],
          "type": "data",
          "visible": true
         },
         "marker": {
          "color": "rgb(82, 21, 21)"
         },
         "name": "Fin<br>TechSupport",
         "type": "bar",
         "width": 0.2,
         "x": [
          "Fin<br>TechSupport"
         ],
         "y": [
          0.68
         ]
        }
       ],
       "layout": {
        "annotations": [
         {
          "arrowhead": 4,
          "ax": 0,
          "ay": -40,
          "font": {
           "color": "rgb(139, 37, 37)",
           "size": 14
          },
          "showarrow": false,
          "text": "Treatment",
          "x": 1.5,
          "xref": "x",
          "y": 0.95,
          "yref": "paper"
         },
         {
          "arrowhead": 4,
          "ax": 0,
          "ay": -40,
          "font": {
           "color": "rgb(78, 139, 37)",
           "size": 14
          },
          "showarrow": false,
          "text": "Control",
          "x": 1.5,
          "xref": "x",
          "y": 0.9,
          "yref": "paper"
         }
        ],
        "bargap": 0.6,
        "barmode": "group",
        "height": 500,
        "margin": {
         "b": 5,
         "l": 20,
         "r": 20,
         "t": 45
        },
        "paper_bgcolor": "#EADDCA",
        "plot_bgcolor": "rgba(0,0,0,0)",
        "shapes": [
         {
          "line": {
           "dash": "dash"
          },
          "type": "line",
          "x0": 0,
          "x1": 1,
          "xref": "x domain",
          "y0": 0.5,
          "y1": 0.5,
          "yref": "y"
         }
        ],
        "showlegend": false,
        "template": {
         "data": {
          "bar": [
           {
            "error_x": {
             "color": "#2a3f5f"
            },
            "error_y": {
             "color": "#2a3f5f"
            },
            "marker": {
             "line": {
              "color": "#E5ECF6",
              "width": 0.5
             },
             "pattern": {
              "fillmode": "overlay",
              "size": 10,
              "solidity": 0.2
             }
            },
            "type": "bar"
           }
          ],
          "barpolar": [
           {
            "marker": {
             "line": {
              "color": "#E5ECF6",
              "width": 0.5
             },
             "pattern": {
              "fillmode": "overlay",
              "size": 10,
              "solidity": 0.2
             }
            },
            "type": "barpolar"
           }
          ],
          "carpet": [
           {
            "aaxis": {
             "endlinecolor": "#2a3f5f",
             "gridcolor": "white",
             "linecolor": "white",
             "minorgridcolor": "white",
             "startlinecolor": "#2a3f5f"
            },
            "baxis": {
             "endlinecolor": "#2a3f5f",
             "gridcolor": "white",
             "linecolor": "white",
             "minorgridcolor": "white",
             "startlinecolor": "#2a3f5f"
            },
            "type": "carpet"
           }
          ],
          "choropleth": [
           {
            "colorbar": {
             "outlinewidth": 0,
             "ticks": ""
            },
            "type": "choropleth"
           }
          ],
          "contour": [
           {
            "colorbar": {
             "outlinewidth": 0,
             "ticks": ""
            },
            "colorscale": [
             [
              0,
              "#0d0887"
             ],
             [
              0.1111111111111111,
              "#46039f"
             ],
             [
              0.2222222222222222,
              "#7201a8"
             ],
             [
              0.3333333333333333,
              "#9c179e"
             ],
             [
              0.4444444444444444,
              "#bd3786"
             ],
             [
              0.5555555555555556,
              "#d8576b"
             ],
             [
              0.6666666666666666,
              "#ed7953"
             ],
             [
              0.7777777777777778,
              "#fb9f3a"
             ],
             [
              0.8888888888888888,
              "#fdca26"
             ],
             [
              1,
              "#f0f921"
             ]
            ],
            "type": "contour"
           }
          ],
          "contourcarpet": [
           {
            "colorbar": {
             "outlinewidth": 0,
             "ticks": ""
            },
            "type": "contourcarpet"
           }
          ],
          "heatmap": [
           {
            "colorbar": {
             "outlinewidth": 0,
             "ticks": ""
            },
            "colorscale": [
             [
              0,
              "#0d0887"
             ],
             [
              0.1111111111111111,
              "#46039f"
             ],
             [
              0.2222222222222222,
              "#7201a8"
             ],
             [
              0.3333333333333333,
              "#9c179e"
             ],
             [
              0.4444444444444444,
              "#bd3786"
             ],
             [
              0.5555555555555556,
              "#d8576b"
             ],
             [
              0.6666666666666666,
              "#ed7953"
             ],
             [
              0.7777777777777778,
              "#fb9f3a"
             ],
             [
              0.8888888888888888,
              "#fdca26"
             ],
             [
              1,
              "#f0f921"
             ]
            ],
            "type": "heatmap"
           }
          ],
          "heatmapgl": [
           {
            "colorbar": {
             "outlinewidth": 0,
             "ticks": ""
            },
            "colorscale": [
             [
              0,
              "#0d0887"
             ],
             [
              0.1111111111111111,
              "#46039f"
             ],
             [
              0.2222222222222222,
              "#7201a8"
             ],
             [
              0.3333333333333333,
              "#9c179e"
             ],
             [
              0.4444444444444444,
              "#bd3786"
             ],
             [
              0.5555555555555556,
              "#d8576b"
             ],
             [
              0.6666666666666666,
              "#ed7953"
             ],
             [
              0.7777777777777778,
              "#fb9f3a"
             ],
             [
              0.8888888888888888,
              "#fdca26"
             ],
             [
              1,
              "#f0f921"
             ]
            ],
            "type": "heatmapgl"
           }
          ],
          "histogram": [
           {
            "marker": {
             "pattern": {
              "fillmode": "overlay",
              "size": 10,
              "solidity": 0.2
             }
            },
            "type": "histogram"
           }
          ],
          "histogram2d": [
           {
            "colorbar": {
             "outlinewidth": 0,
             "ticks": ""
            },
            "colorscale": [
             [
              0,
              "#0d0887"
             ],
             [
              0.1111111111111111,
              "#46039f"
             ],
             [
              0.2222222222222222,
              "#7201a8"
             ],
             [
              0.3333333333333333,
              "#9c179e"
             ],
             [
              0.4444444444444444,
              "#bd3786"
             ],
             [
              0.5555555555555556,
              "#d8576b"
             ],
             [
              0.6666666666666666,
              "#ed7953"
             ],
             [
              0.7777777777777778,
              "#fb9f3a"
             ],
             [
              0.8888888888888888,
              "#fdca26"
             ],
             [
              1,
              "#f0f921"
             ]
            ],
            "type": "histogram2d"
           }
          ],
          "histogram2dcontour": [
           {
            "colorbar": {
             "outlinewidth": 0,
             "ticks": ""
            },
            "colorscale": [
             [
              0,
              "#0d0887"
             ],
             [
              0.1111111111111111,
              "#46039f"
             ],
             [
              0.2222222222222222,
              "#7201a8"
             ],
             [
              0.3333333333333333,
              "#9c179e"
             ],
             [
              0.4444444444444444,
              "#bd3786"
             ],
             [
              0.5555555555555556,
              "#d8576b"
             ],
             [
              0.6666666666666666,
              "#ed7953"
             ],
             [
              0.7777777777777778,
              "#fb9f3a"
             ],
             [
              0.8888888888888888,
              "#fdca26"
             ],
             [
              1,
              "#f0f921"
             ]
            ],
            "type": "histogram2dcontour"
           }
          ],
          "mesh3d": [
           {
            "colorbar": {
             "outlinewidth": 0,
             "ticks": ""
            },
            "type": "mesh3d"
           }
          ],
          "parcoords": [
           {
            "line": {
             "colorbar": {
              "outlinewidth": 0,
              "ticks": ""
             }
            },
            "type": "parcoords"
           }
          ],
          "pie": [
           {
            "automargin": true,
            "type": "pie"
           }
          ],
          "scatter": [
           {
            "fillpattern": {
             "fillmode": "overlay",
             "size": 10,
             "solidity": 0.2
            },
            "type": "scatter"
           }
          ],
          "scatter3d": [
           {
            "line": {
             "colorbar": {
              "outlinewidth": 0,
              "ticks": ""
             }
            },
            "marker": {
             "colorbar": {
              "outlinewidth": 0,
              "ticks": ""
             }
            },
            "type": "scatter3d"
           }
          ],
          "scattercarpet": [
           {
            "marker": {
             "colorbar": {
              "outlinewidth": 0,
              "ticks": ""
             }
            },
            "type": "scattercarpet"
           }
          ],
          "scattergeo": [
           {
            "marker": {
             "colorbar": {
              "outlinewidth": 0,
              "ticks": ""
             }
            },
            "type": "scattergeo"
           }
          ],
          "scattergl": [
           {
            "marker": {
             "colorbar": {
              "outlinewidth": 0,
              "ticks": ""
             }
            },
            "type": "scattergl"
           }
          ],
          "scattermapbox": [
           {
            "marker": {
             "colorbar": {
              "outlinewidth": 0,
              "ticks": ""
             }
            },
            "type": "scattermapbox"
           }
          ],
          "scatterpolar": [
           {
            "marker": {
             "colorbar": {
              "outlinewidth": 0,
              "ticks": ""
             }
            },
            "type": "scatterpolar"
           }
          ],
          "scatterpolargl": [
           {
            "marker": {
             "colorbar": {
              "outlinewidth": 0,
              "ticks": ""
             }
            },
            "type": "scatterpolargl"
           }
          ],
          "scatterternary": [
           {
            "marker": {
             "colorbar": {
              "outlinewidth": 0,
              "ticks": ""
             }
            },
            "type": "scatterternary"
           }
          ],
          "surface": [
           {
            "colorbar": {
             "outlinewidth": 0,
             "ticks": ""
            },
            "colorscale": [
             [
              0,
              "#0d0887"
             ],
             [
              0.1111111111111111,
              "#46039f"
             ],
             [
              0.2222222222222222,
              "#7201a8"
             ],
             [
              0.3333333333333333,
              "#9c179e"
             ],
             [
              0.4444444444444444,
              "#bd3786"
             ],
             [
              0.5555555555555556,
              "#d8576b"
             ],
             [
              0.6666666666666666,
              "#ed7953"
             ],
             [
              0.7777777777777778,
              "#fb9f3a"
             ],
             [
              0.8888888888888888,
              "#fdca26"
             ],
             [
              1,
              "#f0f921"
             ]
            ],
            "type": "surface"
           }
          ],
          "table": [
           {
            "cells": {
             "fill": {
              "color": "#EBF0F8"
             },
             "line": {
              "color": "white"
             }
            },
            "header": {
             "fill": {
              "color": "#C8D4E3"
             },
             "line": {
              "color": "white"
             }
            },
            "type": "table"
           }
          ]
         },
         "layout": {
          "annotationdefaults": {
           "arrowcolor": "#2a3f5f",
           "arrowhead": 0,
           "arrowwidth": 1
          },
          "autotypenumbers": "strict",
          "coloraxis": {
           "colorbar": {
            "outlinewidth": 0,
            "ticks": ""
           }
          },
          "colorscale": {
           "diverging": [
            [
             0,
             "#8e0152"
            ],
            [
             0.1,
             "#c51b7d"
            ],
            [
             0.2,
             "#de77ae"
            ],
            [
             0.3,
             "#f1b6da"
            ],
            [
             0.4,
             "#fde0ef"
            ],
            [
             0.5,
             "#f7f7f7"
            ],
            [
             0.6,
             "#e6f5d0"
            ],
            [
             0.7,
             "#b8e186"
            ],
            [
             0.8,
             "#7fbc41"
            ],
            [
             0.9,
             "#4d9221"
            ],
            [
             1,
             "#276419"
            ]
           ],
           "sequential": [
            [
             0,
             "#0d0887"
            ],
            [
             0.1111111111111111,
             "#46039f"
            ],
            [
             0.2222222222222222,
             "#7201a8"
            ],
            [
             0.3333333333333333,
             "#9c179e"
            ],
            [
             0.4444444444444444,
             "#bd3786"
            ],
            [
             0.5555555555555556,
             "#d8576b"
            ],
            [
             0.6666666666666666,
             "#ed7953"
            ],
            [
             0.7777777777777778,
             "#fb9f3a"
            ],
            [
             0.8888888888888888,
             "#fdca26"
            ],
            [
             1,
             "#f0f921"
            ]
           ],
           "sequentialminus": [
            [
             0,
             "#0d0887"
            ],
            [
             0.1111111111111111,
             "#46039f"
            ],
            [
             0.2222222222222222,
             "#7201a8"
            ],
            [
             0.3333333333333333,
             "#9c179e"
            ],
            [
             0.4444444444444444,
             "#bd3786"
            ],
            [
             0.5555555555555556,
             "#d8576b"
            ],
            [
             0.6666666666666666,
             "#ed7953"
            ],
            [
             0.7777777777777778,
             "#fb9f3a"
            ],
            [
             0.8888888888888888,
             "#fdca26"
            ],
            [
             1,
             "#f0f921"
            ]
           ]
          },
          "colorway": [
           "#636efa",
           "#EF553B",
           "#00cc96",
           "#ab63fa",
           "#FFA15A",
           "#19d3f3",
           "#FF6692",
           "#B6E880",
           "#FF97FF",
           "#FECB52"
          ],
          "font": {
           "color": "#2a3f5f"
          },
          "geo": {
           "bgcolor": "white",
           "lakecolor": "white",
           "landcolor": "#E5ECF6",
           "showlakes": true,
           "showland": true,
           "subunitcolor": "white"
          },
          "hoverlabel": {
           "align": "left"
          },
          "hovermode": "closest",
          "mapbox": {
           "style": "light"
          },
          "paper_bgcolor": "white",
          "plot_bgcolor": "#E5ECF6",
          "polar": {
           "angularaxis": {
            "gridcolor": "white",
            "linecolor": "white",
            "ticks": ""
           },
           "bgcolor": "#E5ECF6",
           "radialaxis": {
            "gridcolor": "white",
            "linecolor": "white",
            "ticks": ""
           }
          },
          "scene": {
           "xaxis": {
            "backgroundcolor": "#E5ECF6",
            "gridcolor": "white",
            "gridwidth": 2,
            "linecolor": "white",
            "showbackground": true,
            "ticks": "",
            "zerolinecolor": "white"
           },
           "yaxis": {
            "backgroundcolor": "#E5ECF6",
            "gridcolor": "white",
            "gridwidth": 2,
            "linecolor": "white",
            "showbackground": true,
            "ticks": "",
            "zerolinecolor": "white"
           },
           "zaxis": {
            "backgroundcolor": "#E5ECF6",
            "gridcolor": "white",
            "gridwidth": 2,
            "linecolor": "white",
            "showbackground": true,
            "ticks": "",
            "zerolinecolor": "white"
           }
          },
          "shapedefaults": {
           "line": {
            "color": "#2a3f5f"
           }
          },
          "ternary": {
           "aaxis": {
            "gridcolor": "white",
            "linecolor": "white",
            "ticks": ""
           },
           "baxis": {
            "gridcolor": "white",
            "linecolor": "white",
            "ticks": ""
           },
           "bgcolor": "#E5ECF6",
           "caxis": {
            "gridcolor": "white",
            "linecolor": "white",
            "ticks": ""
           }
          },
          "title": {
           "x": 0.05
          },
          "xaxis": {
           "automargin": true,
           "gridcolor": "white",
           "linecolor": "white",
           "ticks": "",
           "title": {
            "standoff": 15
           },
           "zerolinecolor": "white",
           "zerolinewidth": 2
          },
          "yaxis": {
           "automargin": true,
           "gridcolor": "white",
           "linecolor": "white",
           "ticks": "",
           "title": {
            "standoff": 15
           },
           "zerolinecolor": "white",
           "zerolinewidth": 2
          }
         }
        },
        "title": {
         "font": {
          "family": "Computer Modern"
         },
         "text": "Fig 1: Att 5",
         "x": 0.5,
         "xanchor": "center"
        },
        "width": 700,
        "xaxis": {
         "range": [
          -1,
          4
         ],
         "showticklabels": true,
         "title": {}
        },
        "yaxis": {
         "range": [
          0,
          1
         ]
        }
       }
      }
     },
     "metadata": {},
     "output_type": "display_data"
    }
   ],
   "source": [
    "import pandas as pd\n",
    "\n",
    "#categories = ['Reduce2030','Eliminate2050', 'Eliminate2070']\n",
    "#categories = ['LowPrices', 'InsureWorkers', 'EnergyAccess', 'NothingSoc']\n",
    "categories = ['IdentityCoalRegions', 'IndustryCoalRegions', 'WorkersCoalRegion', 'NothingEco']\n",
    "categories = ['Gov&CivilSociety', 'Gov&Researchers', 'Gov&Businesses', 'Gov&LaborUnions', 'Gov&LocalGov', 'GovAlone']\n",
    "categories = ['Fin&TechSupport', 'FinSupportOnly', 'TechSupportOnly', 'NoInterference']\n",
    "\n",
    "def attribute_support(df, attribute, categories):\n",
    "    df = df.copy()\n",
    "\n",
    "    df_control = df[df['treatment_status'] == 0]\n",
    "    df_treated = df[df['treatment_status'] == 1]\n",
    "\n",
    "    df_treated = df_treated[[attribute, 'support']]\n",
    "    df_treated['support'] = df_treated['support'].astype(int)\n",
    "\n",
    "    support_control = {\"Attribute Level\": [], \"Value\": [], \"CI_lower\": [], \"CI_upper\": []}\n",
    "    \n",
    "    for cat in categories[::-1]:\n",
    "        group = df_control[df_control[attribute] == cat]\n",
    "        mean = group['support'].mean()\n",
    "        std_dev = group['support'].std()\n",
    "        n = len(group)\n",
    "        confidence_interval = 1.96 * (std_dev / (n**0.5))  # 95% confidence interval\n",
    "\n",
    "        support_control[\"Attribute Level\"].append(cat.replace('&', '<br>'))\n",
    "        support_control[\"Value\"].append(mean.round(2))\n",
    "        support_control[\"CI_lower\"].append((mean - confidence_interval).round(2))\n",
    "        support_control[\"CI_upper\"].append((mean + confidence_interval).round(2))\n",
    "\n",
    "    df_control = pd.DataFrame(support_control)\n",
    "\n",
    "    support_treated = {\"Attribute Level\": [], \"Value\": [], \"CI_lower\": [], \"CI_upper\": []}\n",
    "    \n",
    "    for cat in categories[::-1]:\n",
    "        group = df_treated[df_treated[attribute] == cat]\n",
    "        mean = group['support'].mean()\n",
    "        std_dev = group['support'].std()\n",
    "        n = len(group)\n",
    "        confidence_interval = 1.96 * (std_dev / (n**0.5))  # 95% confidence interval\n",
    "\n",
    "        support_treated[\"Attribute Level\"].append(cat.replace('&', '<br>'))\n",
    "        support_treated[\"Value\"].append(mean.round(2))\n",
    "        support_treated[\"CI_lower\"].append((mean - confidence_interval).round(2))\n",
    "        support_treated[\"CI_upper\"].append((mean + confidence_interval).round(2))\n",
    "\n",
    "    df_treated = pd.DataFrame(support_treated)\n",
    "\n",
    "    color_scale = [\"rgb(173, 221, 142)\", \"rgb(127, 188, 65)\", \"rgb(78, 139, 37)\", \"rgb(45, 82, 21)\", \"rgb(45, 82, 21)\", \"rgb(45, 82, 21)\",\"rgb(45, 82, 21)\"]\n",
    "\n",
    "    fig = go.Figure()\n",
    "\n",
    "    for i, row in df_control.iterrows():\n",
    "        fig.add_trace(go.Bar(\n",
    "            x=[row[\"Attribute Level\"]],\n",
    "            y=[row[\"Value\"]],\n",
    "            error_y=dict(\n",
    "                type='data',\n",
    "                array=[row[\"CI_upper\"] - row[\"Value\"]],\n",
    "                arrayminus=[row[\"Value\"] - row[\"CI_lower\"]],\n",
    "                visible=True\n",
    "            ),\n",
    "            marker_color=color_scale[i],\n",
    "            name=row[\"Attribute Level\"],\n",
    "            width=0.2\n",
    "        ))\n",
    "\n",
    "    color_scale = [\"rgb(221, 142, 142)\", \"rgb(188, 65, 65)\", \"rgb(139, 37, 37)\", \"rgb(82, 21, 21)\", \"rgb(82, 21, 21)\", \"rgb(82, 21, 21)\", \"rgb(82, 21, 21)\"]\n",
    "\n",
    "\n",
    "    for i, row in df_treated.iterrows():\n",
    "        fig.add_trace(go.Bar(\n",
    "            x=[row[\"Attribute Level\"]],\n",
    "            y=[row[\"Value\"]],\n",
    "            error_y=dict(\n",
    "                type='data',\n",
    "                array=[row[\"CI_upper\"] - row[\"Value\"]],\n",
    "                arrayminus=[row[\"Value\"] - row[\"CI_lower\"]],\n",
    "                visible=True\n",
    "            ),\n",
    "            marker_color=color_scale[i],\n",
    "            name=row[\"Attribute Level\"],\n",
    "            width=0.2\n",
    "        ))\n",
    "\n",
    "    \n",
    "\n",
    "    # Set y-axis range from 0 to 1\n",
    "    fig.update_layout(yaxis_range=[0, 1], xaxis_range=[-1,4], width=700, height=500)\n",
    "\n",
    "    # Add a horizontal line at y=0.5\n",
    "    fig.add_hline(y=0.5, line_dash=\"dash\")\n",
    "\n",
    "\n",
    "    fig.update_layout(barmode=\"group\", bargap=0.6)\n",
    "    \n",
    "    fig.update_layout(\n",
    "        title={\n",
    "            'text': \"Fig 1: Att 5\",\n",
    "            'x': 0.5,\n",
    "            'xanchor': 'center',\n",
    "            'font': {'family': 'Computer Modern'}\n",
    "        },\n",
    "        margin=dict(l=20, r=20, t=45, b=5),\n",
    "        paper_bgcolor=\"#EADDCA\",\n",
    "        plot_bgcolor='rgba(0,0,0,0)',\n",
    "        showlegend=False,  # Show legend for different Attribute Levels\n",
    "        xaxis_showticklabels=True,\n",
    "        xaxis_title=None,\n",
    "    )\n",
    "\n",
    "    fig.add_annotation(\n",
    "            x=1.5,\n",
    "            y=0.95,\n",
    "            xref='x',\n",
    "            yref='paper',\n",
    "            text=f'Treatment',\n",
    "            showarrow=False,\n",
    "            arrowhead=4,\n",
    "            font=dict(\n",
    "                    size=14,\n",
    "                    color=\"rgb(139, 37, 37)\"\n",
    "                ),\n",
    "            ax=0,\n",
    "            ay=-40\n",
    "        )\n",
    "    \n",
    "    fig.add_annotation(\n",
    "            x=1.5,\n",
    "            y=0.9,\n",
    "            xref='x',\n",
    "            yref='paper',\n",
    "            text=f'Control',\n",
    "            showarrow=False,\n",
    "            arrowhead=4,\n",
    "            font=dict(\n",
    "                    size=14,\n",
    "                    color=\"rgb(78, 139, 37)\"\n",
    "                ),\n",
    "            ax=0,\n",
    "            ay=-40\n",
    "        )\n",
    "\n",
    "    return fig\n",
    "\n",
    "data_clean = pd.read_csv(OUT / \"data\" / \"data_long.csv\")\n",
    "\n",
    "attribute_support(data_clean, \"att_5\", categories)"
   ]
  }
 ],
 "metadata": {
  "kernelspec": {
   "display_name": "conjoint",
   "language": "python",
   "name": "python3"
  },
  "language_info": {
   "codemirror_mode": {
    "name": "ipython",
    "version": 3
   },
   "file_extension": ".py",
   "mimetype": "text/x-python",
   "name": "python",
   "nbconvert_exporter": "python",
   "pygments_lexer": "ipython3",
   "version": "3.11.4"
  },
  "orig_nbformat": 4
 },
 "nbformat": 4,
 "nbformat_minor": 2
}
