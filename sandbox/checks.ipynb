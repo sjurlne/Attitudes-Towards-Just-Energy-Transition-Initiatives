{
 "cells": [
  {
   "cell_type": "code",
   "execution_count": 1,
   "metadata": {},
   "outputs": [],
   "source": [
    "%load_ext autoreload\n",
    "%autoreload 2\n",
    "\n",
    "import pandas as pd\n",
    "import os\n",
    "import sys\n",
    "\n",
    "import plotly.graph_objects as go\n",
    "import plotly.express as px\n",
    "import pandas as pd\n",
    "\n",
    "\n",
    "import pandas as pd\n",
    "import plotly.express as px\n",
    "import plotly.graph_objs as go\n",
    "\n",
    "sys.path.insert(0, os.path.abspath('../developer'))\n",
    "\n",
    "from config import MOCK_DATA, CODE, OUT, IN\n",
    "from developer.utilities import read_yaml\n",
    "from analysis.model import load_model"
   ]
  },
  {
   "cell_type": "code",
   "execution_count": 3,
   "metadata": {},
   "outputs": [],
   "source": [
    "model = load_model(OUT / \"models\" / \"model_amce_high_trust.pickle\")"
   ]
  },
  {
   "cell_type": "code",
   "execution_count": 5,
   "metadata": {},
   "outputs": [
    {
     "data": {
      "text/html": [
       "<table class=\"simpletable\">\n",
       "<caption>OLS Regression Results</caption>\n",
       "<tr>\n",
       "  <th>Dep. Variable:</th>         <td>support</td>     <th>  R-squared:         </th> <td>   0.028</td> \n",
       "</tr>\n",
       "<tr>\n",
       "  <th>Model:</th>                   <td>OLS</td>       <th>  Adj. R-squared:    </th> <td>   0.026</td> \n",
       "</tr>\n",
       "<tr>\n",
       "  <th>Method:</th>             <td>Least Squares</td>  <th>  F-statistic:       </th> <td>   520.1</td> \n",
       "</tr>\n",
       "<tr>\n",
       "  <th>Date:</th>             <td>Thu, 14 Sep 2023</td> <th>  Prob (F-statistic):</th>  <td>  0.00</td>  \n",
       "</tr>\n",
       "<tr>\n",
       "  <th>Time:</th>                 <td>17:48:56</td>     <th>  Log-Likelihood:    </th> <td> -7507.9</td> \n",
       "</tr>\n",
       "<tr>\n",
       "  <th>No. Observations:</th>      <td> 12780</td>      <th>  AIC:               </th> <td>1.507e+04</td>\n",
       "</tr>\n",
       "<tr>\n",
       "  <th>Df Residuals:</th>          <td> 12755</td>      <th>  BIC:               </th> <td>1.525e+04</td>\n",
       "</tr>\n",
       "<tr>\n",
       "  <th>Df Model:</th>              <td>    24</td>      <th>                     </th>     <td> </td>    \n",
       "</tr>\n",
       "<tr>\n",
       "  <th>Covariance Type:</th>       <td>cluster</td>     <th>                     </th>     <td> </td>    \n",
       "</tr>\n",
       "</table>\n",
       "<table class=\"simpletable\">\n",
       "<tr>\n",
       "              <td></td>                 <th>coef</th>     <th>std err</th>      <th>z</th>      <th>P>|z|</th>  <th>[0.025</th>    <th>0.975]</th>  \n",
       "</tr>\n",
       "<tr>\n",
       "  <th>const</th>                     <td>    0.4273</td> <td>    0.027</td> <td>   15.579</td> <td> 0.000</td> <td>    0.374</td> <td>    0.481</td>\n",
       "</tr>\n",
       "<tr>\n",
       "  <th>att_1_Eliminate2050</th>       <td>    0.0694</td> <td>    0.010</td> <td>    6.904</td> <td> 0.000</td> <td>    0.050</td> <td>    0.089</td>\n",
       "</tr>\n",
       "<tr>\n",
       "  <th>att_1_Reduce2030</th>          <td>    0.0850</td> <td>    0.011</td> <td>    7.732</td> <td> 0.000</td> <td>    0.063</td> <td>    0.107</td>\n",
       "</tr>\n",
       "<tr>\n",
       "  <th>att_2_EnergyAccess</th>        <td>    0.0752</td> <td>    0.011</td> <td>    6.843</td> <td> 0.000</td> <td>    0.054</td> <td>    0.097</td>\n",
       "</tr>\n",
       "<tr>\n",
       "  <th>att_2_InsureWorkers</th>       <td>    0.0791</td> <td>    0.011</td> <td>    7.017</td> <td> 0.000</td> <td>    0.057</td> <td>    0.101</td>\n",
       "</tr>\n",
       "<tr>\n",
       "  <th>att_2_LowPrices</th>           <td>    0.0773</td> <td>    0.011</td> <td>    7.047</td> <td> 0.000</td> <td>    0.056</td> <td>    0.099</td>\n",
       "</tr>\n",
       "<tr>\n",
       "  <th>att_3_IdentityCoalRegions</th> <td>    0.0430</td> <td>    0.012</td> <td>    3.703</td> <td> 0.000</td> <td>    0.020</td> <td>    0.066</td>\n",
       "</tr>\n",
       "<tr>\n",
       "  <th>att_3_IndustryCoalRegions</th> <td>    0.0633</td> <td>    0.011</td> <td>    5.509</td> <td> 0.000</td> <td>    0.041</td> <td>    0.086</td>\n",
       "</tr>\n",
       "<tr>\n",
       "  <th>att_3_WorkersCoalRegion</th>   <td>    0.0624</td> <td>    0.012</td> <td>    5.361</td> <td> 0.000</td> <td>    0.040</td> <td>    0.085</td>\n",
       "</tr>\n",
       "<tr>\n",
       "  <th>att_4_Gov&Businesses</th>      <td>    0.0299</td> <td>    0.014</td> <td>    2.157</td> <td> 0.031</td> <td>    0.003</td> <td>    0.057</td>\n",
       "</tr>\n",
       "<tr>\n",
       "  <th>att_4_Gov&CivilSociety</th>    <td>    0.0425</td> <td>    0.014</td> <td>    3.065</td> <td> 0.002</td> <td>    0.015</td> <td>    0.070</td>\n",
       "</tr>\n",
       "<tr>\n",
       "  <th>att_4_Gov&LaborUnions</th>     <td>    0.0319</td> <td>    0.014</td> <td>    2.265</td> <td> 0.024</td> <td>    0.004</td> <td>    0.060</td>\n",
       "</tr>\n",
       "<tr>\n",
       "  <th>att_4_Gov&LocalGov</th>        <td>    0.0563</td> <td>    0.014</td> <td>    4.075</td> <td> 0.000</td> <td>    0.029</td> <td>    0.083</td>\n",
       "</tr>\n",
       "<tr>\n",
       "  <th>att_4_Gov&Researchers</th>     <td>    0.0364</td> <td>    0.014</td> <td>    2.600</td> <td> 0.009</td> <td>    0.009</td> <td>    0.064</td>\n",
       "</tr>\n",
       "<tr>\n",
       "  <th>att_5_Fin&TechSupport</th>     <td>    0.0803</td> <td>    0.012</td> <td>    6.660</td> <td> 0.000</td> <td>    0.057</td> <td>    0.104</td>\n",
       "</tr>\n",
       "<tr>\n",
       "  <th>att_5_FinSupportOnly</th>      <td>    0.0157</td> <td>    0.012</td> <td>    1.340</td> <td> 0.180</td> <td>   -0.007</td> <td>    0.039</td>\n",
       "</tr>\n",
       "<tr>\n",
       "  <th>att_5_TechSupportOnly</th>     <td>    0.0162</td> <td>    0.012</td> <td>    1.384</td> <td> 0.166</td> <td>   -0.007</td> <td>    0.039</td>\n",
       "</tr>\n",
       "<tr>\n",
       "  <th>ageFilter</th>                 <td>    0.0004</td> <td>    0.001</td> <td>    0.654</td> <td> 0.513</td> <td>   -0.001</td> <td>    0.002</td>\n",
       "</tr>\n",
       "<tr>\n",
       "  <th>genderFilter</th>              <td>    0.0121</td> <td>    0.015</td> <td>    0.818</td> <td> 0.413</td> <td>   -0.017</td> <td>    0.041</td>\n",
       "</tr>\n",
       "<tr>\n",
       "  <th>district_NorthernZone</th>     <td>    0.0887</td> <td>    0.015</td> <td>    5.967</td> <td> 0.000</td> <td>    0.060</td> <td>    0.118</td>\n",
       "</tr>\n",
       "<tr>\n",
       "  <th>district_NorthEasternZone</th> <td>    0.0339</td> <td>    0.033</td> <td>    1.019</td> <td> 0.308</td> <td>   -0.031</td> <td>    0.099</td>\n",
       "</tr>\n",
       "<tr>\n",
       "  <th>district_CentralZone</th>      <td>    0.0576</td> <td>    0.024</td> <td>    2.398</td> <td> 0.016</td> <td>    0.011</td> <td>    0.105</td>\n",
       "</tr>\n",
       "<tr>\n",
       "  <th>district_EasternZone</th>      <td>    0.0846</td> <td>    0.016</td> <td>    5.197</td> <td> 0.000</td> <td>    0.053</td> <td>    0.116</td>\n",
       "</tr>\n",
       "<tr>\n",
       "  <th>district_WesternZone</th>      <td>    0.1243</td> <td>    0.018</td> <td>    6.850</td> <td> 0.000</td> <td>    0.089</td> <td>    0.160</td>\n",
       "</tr>\n",
       "<tr>\n",
       "  <th>district_SouthernZone</th>     <td>    0.0381</td> <td>    0.017</td> <td>    2.271</td> <td> 0.023</td> <td>    0.005</td> <td>    0.071</td>\n",
       "</tr>\n",
       "<tr>\n",
       "  <th>treatment_status</th>          <td>   -0.0098</td> <td>    0.015</td> <td>   -0.669</td> <td> 0.503</td> <td>   -0.038</td> <td>    0.019</td>\n",
       "</tr>\n",
       "</table>\n",
       "<table class=\"simpletable\">\n",
       "<tr>\n",
       "  <th>Omnibus:</th>       <td>2756.601</td> <th>  Durbin-Watson:     </th> <td>   1.434</td>\n",
       "</tr>\n",
       "<tr>\n",
       "  <th>Prob(Omnibus):</th>  <td> 0.000</td>  <th>  Jarque-Bera (JB):  </th> <td>2566.791</td>\n",
       "</tr>\n",
       "<tr>\n",
       "  <th>Skew:</th>           <td>-1.018</td>  <th>  Prob(JB):          </th> <td>    0.00</td>\n",
       "</tr>\n",
       "<tr>\n",
       "  <th>Kurtosis:</th>       <td> 2.178</td>  <th>  Cond. No.          </th> <td>2.16e+17</td>\n",
       "</tr>\n",
       "</table><br/><br/>Notes:<br/>[1] Standard Errors are robust to cluster correlation (cluster)<br/>[2] The smallest eigenvalue is 4.16e-28. This might indicate that there are<br/>strong multicollinearity problems or that the design matrix is singular."
      ],
      "text/latex": [
       "\\begin{center}\n",
       "\\begin{tabular}{lclc}\n",
       "\\toprule\n",
       "\\textbf{Dep. Variable:}              &     support      & \\textbf{  R-squared:         } &     0.028   \\\\\n",
       "\\textbf{Model:}                      &       OLS        & \\textbf{  Adj. R-squared:    } &     0.026   \\\\\n",
       "\\textbf{Method:}                     &  Least Squares   & \\textbf{  F-statistic:       } &     520.1   \\\\\n",
       "\\textbf{Date:}                       & Thu, 14 Sep 2023 & \\textbf{  Prob (F-statistic):} &     0.00    \\\\\n",
       "\\textbf{Time:}                       &     17:48:56     & \\textbf{  Log-Likelihood:    } &   -7507.9   \\\\\n",
       "\\textbf{No. Observations:}           &       12780      & \\textbf{  AIC:               } & 1.507e+04   \\\\\n",
       "\\textbf{Df Residuals:}               &       12755      & \\textbf{  BIC:               } & 1.525e+04   \\\\\n",
       "\\textbf{Df Model:}                   &          24      & \\textbf{                     } &             \\\\\n",
       "\\textbf{Covariance Type:}            &     cluster      & \\textbf{                     } &             \\\\\n",
       "\\bottomrule\n",
       "\\end{tabular}\n",
       "\\begin{tabular}{lcccccc}\n",
       "                                     & \\textbf{coef} & \\textbf{std err} & \\textbf{z} & \\textbf{P$> |$z$|$} & \\textbf{[0.025} & \\textbf{0.975]}  \\\\\n",
       "\\midrule\n",
       "\\textbf{const}                       &       0.4273  &        0.027     &    15.579  &         0.000        &        0.374    &        0.481     \\\\\n",
       "\\textbf{att\\_1\\_Eliminate2050}       &       0.0694  &        0.010     &     6.904  &         0.000        &        0.050    &        0.089     \\\\\n",
       "\\textbf{att\\_1\\_Reduce2030}          &       0.0850  &        0.011     &     7.732  &         0.000        &        0.063    &        0.107     \\\\\n",
       "\\textbf{att\\_2\\_EnergyAccess}        &       0.0752  &        0.011     &     6.843  &         0.000        &        0.054    &        0.097     \\\\\n",
       "\\textbf{att\\_2\\_InsureWorkers}       &       0.0791  &        0.011     &     7.017  &         0.000        &        0.057    &        0.101     \\\\\n",
       "\\textbf{att\\_2\\_LowPrices}           &       0.0773  &        0.011     &     7.047  &         0.000        &        0.056    &        0.099     \\\\\n",
       "\\textbf{att\\_3\\_IdentityCoalRegions} &       0.0430  &        0.012     &     3.703  &         0.000        &        0.020    &        0.066     \\\\\n",
       "\\textbf{att\\_3\\_IndustryCoalRegions} &       0.0633  &        0.011     &     5.509  &         0.000        &        0.041    &        0.086     \\\\\n",
       "\\textbf{att\\_3\\_WorkersCoalRegion}   &       0.0624  &        0.012     &     5.361  &         0.000        &        0.040    &        0.085     \\\\\n",
       "\\textbf{att\\_4\\_Gov\\&Businesses}     &       0.0299  &        0.014     &     2.157  &         0.031        &        0.003    &        0.057     \\\\\n",
       "\\textbf{att\\_4\\_Gov\\&CivilSociety}   &       0.0425  &        0.014     &     3.065  &         0.002        &        0.015    &        0.070     \\\\\n",
       "\\textbf{att\\_4\\_Gov\\&LaborUnions}    &       0.0319  &        0.014     &     2.265  &         0.024        &        0.004    &        0.060     \\\\\n",
       "\\textbf{att\\_4\\_Gov\\&LocalGov}       &       0.0563  &        0.014     &     4.075  &         0.000        &        0.029    &        0.083     \\\\\n",
       "\\textbf{att\\_4\\_Gov\\&Researchers}    &       0.0364  &        0.014     &     2.600  &         0.009        &        0.009    &        0.064     \\\\\n",
       "\\textbf{att\\_5\\_Fin\\&TechSupport}    &       0.0803  &        0.012     &     6.660  &         0.000        &        0.057    &        0.104     \\\\\n",
       "\\textbf{att\\_5\\_FinSupportOnly}      &       0.0157  &        0.012     &     1.340  &         0.180        &       -0.007    &        0.039     \\\\\n",
       "\\textbf{att\\_5\\_TechSupportOnly}     &       0.0162  &        0.012     &     1.384  &         0.166        &       -0.007    &        0.039     \\\\\n",
       "\\textbf{ageFilter}                   &       0.0004  &        0.001     &     0.654  &         0.513        &       -0.001    &        0.002     \\\\\n",
       "\\textbf{genderFilter}                &       0.0121  &        0.015     &     0.818  &         0.413        &       -0.017    &        0.041     \\\\\n",
       "\\textbf{district\\_NorthernZone}      &       0.0887  &        0.015     &     5.967  &         0.000        &        0.060    &        0.118     \\\\\n",
       "\\textbf{district\\_NorthEasternZone}  &       0.0339  &        0.033     &     1.019  &         0.308        &       -0.031    &        0.099     \\\\\n",
       "\\textbf{district\\_CentralZone}       &       0.0576  &        0.024     &     2.398  &         0.016        &        0.011    &        0.105     \\\\\n",
       "\\textbf{district\\_EasternZone}       &       0.0846  &        0.016     &     5.197  &         0.000        &        0.053    &        0.116     \\\\\n",
       "\\textbf{district\\_WesternZone}       &       0.1243  &        0.018     &     6.850  &         0.000        &        0.089    &        0.160     \\\\\n",
       "\\textbf{district\\_SouthernZone}      &       0.0381  &        0.017     &     2.271  &         0.023        &        0.005    &        0.071     \\\\\n",
       "\\textbf{treatment\\_status}           &      -0.0098  &        0.015     &    -0.669  &         0.503        &       -0.038    &        0.019     \\\\\n",
       "\\bottomrule\n",
       "\\end{tabular}\n",
       "\\begin{tabular}{lclc}\n",
       "\\textbf{Omnibus:}       & 2756.601 & \\textbf{  Durbin-Watson:     } &    1.434  \\\\\n",
       "\\textbf{Prob(Omnibus):} &   0.000  & \\textbf{  Jarque-Bera (JB):  } & 2566.791  \\\\\n",
       "\\textbf{Skew:}          &  -1.018  & \\textbf{  Prob(JB):          } &     0.00  \\\\\n",
       "\\textbf{Kurtosis:}      &   2.178  & \\textbf{  Cond. No.          } & 2.16e+17  \\\\\n",
       "\\bottomrule\n",
       "\\end{tabular}\n",
       "%\\caption{OLS Regression Results}\n",
       "\\end{center}\n",
       "\n",
       "Notes: \\newline\n",
       " [1] Standard Errors are robust to cluster correlation (cluster) \\newline\n",
       " [2] The smallest eigenvalue is 4.16e-28. This might indicate that there are \\newline\n",
       " strong multicollinearity problems or that the design matrix is singular."
      ],
      "text/plain": [
       "<class 'statsmodels.iolib.summary.Summary'>\n",
       "\"\"\"\n",
       "                            OLS Regression Results                            \n",
       "==============================================================================\n",
       "Dep. Variable:                support   R-squared:                       0.028\n",
       "Model:                            OLS   Adj. R-squared:                  0.026\n",
       "Method:                 Least Squares   F-statistic:                     520.1\n",
       "Date:                Thu, 14 Sep 2023   Prob (F-statistic):               0.00\n",
       "Time:                        17:48:56   Log-Likelihood:                -7507.9\n",
       "No. Observations:               12780   AIC:                         1.507e+04\n",
       "Df Residuals:                   12755   BIC:                         1.525e+04\n",
       "Df Model:                          24                                         \n",
       "Covariance Type:              cluster                                         \n",
       "=============================================================================================\n",
       "                                coef    std err          z      P>|z|      [0.025      0.975]\n",
       "---------------------------------------------------------------------------------------------\n",
       "const                         0.4273      0.027     15.579      0.000       0.374       0.481\n",
       "att_1_Eliminate2050           0.0694      0.010      6.904      0.000       0.050       0.089\n",
       "att_1_Reduce2030              0.0850      0.011      7.732      0.000       0.063       0.107\n",
       "att_2_EnergyAccess            0.0752      0.011      6.843      0.000       0.054       0.097\n",
       "att_2_InsureWorkers           0.0791      0.011      7.017      0.000       0.057       0.101\n",
       "att_2_LowPrices               0.0773      0.011      7.047      0.000       0.056       0.099\n",
       "att_3_IdentityCoalRegions     0.0430      0.012      3.703      0.000       0.020       0.066\n",
       "att_3_IndustryCoalRegions     0.0633      0.011      5.509      0.000       0.041       0.086\n",
       "att_3_WorkersCoalRegion       0.0624      0.012      5.361      0.000       0.040       0.085\n",
       "att_4_Gov&Businesses          0.0299      0.014      2.157      0.031       0.003       0.057\n",
       "att_4_Gov&CivilSociety        0.0425      0.014      3.065      0.002       0.015       0.070\n",
       "att_4_Gov&LaborUnions         0.0319      0.014      2.265      0.024       0.004       0.060\n",
       "att_4_Gov&LocalGov            0.0563      0.014      4.075      0.000       0.029       0.083\n",
       "att_4_Gov&Researchers         0.0364      0.014      2.600      0.009       0.009       0.064\n",
       "att_5_Fin&TechSupport         0.0803      0.012      6.660      0.000       0.057       0.104\n",
       "att_5_FinSupportOnly          0.0157      0.012      1.340      0.180      -0.007       0.039\n",
       "att_5_TechSupportOnly         0.0162      0.012      1.384      0.166      -0.007       0.039\n",
       "ageFilter                     0.0004      0.001      0.654      0.513      -0.001       0.002\n",
       "genderFilter                  0.0121      0.015      0.818      0.413      -0.017       0.041\n",
       "district_NorthernZone         0.0887      0.015      5.967      0.000       0.060       0.118\n",
       "district_NorthEasternZone     0.0339      0.033      1.019      0.308      -0.031       0.099\n",
       "district_CentralZone          0.0576      0.024      2.398      0.016       0.011       0.105\n",
       "district_EasternZone          0.0846      0.016      5.197      0.000       0.053       0.116\n",
       "district_WesternZone          0.1243      0.018      6.850      0.000       0.089       0.160\n",
       "district_SouthernZone         0.0381      0.017      2.271      0.023       0.005       0.071\n",
       "treatment_status             -0.0098      0.015     -0.669      0.503      -0.038       0.019\n",
       "==============================================================================\n",
       "Omnibus:                     2756.601   Durbin-Watson:                   1.434\n",
       "Prob(Omnibus):                  0.000   Jarque-Bera (JB):             2566.791\n",
       "Skew:                          -1.018   Prob(JB):                         0.00\n",
       "Kurtosis:                       2.178   Cond. No.                     2.16e+17\n",
       "==============================================================================\n",
       "\n",
       "Notes:\n",
       "[1] Standard Errors are robust to cluster correlation (cluster)\n",
       "[2] The smallest eigenvalue is 4.16e-28. This might indicate that there are\n",
       "strong multicollinearity problems or that the design matrix is singular.\n",
       "\"\"\""
      ]
     },
     "execution_count": 5,
     "metadata": {},
     "output_type": "execute_result"
    }
   ],
   "source": [
    "model.summary()"
   ]
  },
  {
   "cell_type": "markdown",
   "metadata": {},
   "source": [
    "### Overall support"
   ]
  },
  {
   "cell_type": "code",
   "execution_count": 11,
   "metadata": {},
   "outputs": [
    {
     "data": {
      "application/vnd.plotly.v1+json": {
       "config": {
        "plotlyServerURL": "https://plot.ly"
       },
       "data": [
        {
         "error_y": {
          "array": [
           0.009973249156278952,
           0.009885379506189618
          ],
          "arrayminus": [
           0.009973249156278952,
           0.00996363849979054
          ],
          "type": "data",
          "visible": true
         },
         "marker": {
          "color": [
           "red",
           "blue"
          ]
         },
         "name": "Values",
         "type": "bar",
         "width": 0.6,
         "x": [
          "Treated",
          "Control"
         ],
         "y": [
          0.6871387283236994,
          0.6882408724513988
         ]
        }
       ],
       "layout": {
        "bargap": 0.1,
        "barmode": "group",
        "height": 500,
        "template": {
         "data": {
          "bar": [
           {
            "error_x": {
             "color": "#2a3f5f"
            },
            "error_y": {
             "color": "#2a3f5f"
            },
            "marker": {
             "line": {
              "color": "#E5ECF6",
              "width": 0.5
             },
             "pattern": {
              "fillmode": "overlay",
              "size": 10,
              "solidity": 0.2
             }
            },
            "type": "bar"
           }
          ],
          "barpolar": [
           {
            "marker": {
             "line": {
              "color": "#E5ECF6",
              "width": 0.5
             },
             "pattern": {
              "fillmode": "overlay",
              "size": 10,
              "solidity": 0.2
             }
            },
            "type": "barpolar"
           }
          ],
          "carpet": [
           {
            "aaxis": {
             "endlinecolor": "#2a3f5f",
             "gridcolor": "white",
             "linecolor": "white",
             "minorgridcolor": "white",
             "startlinecolor": "#2a3f5f"
            },
            "baxis": {
             "endlinecolor": "#2a3f5f",
             "gridcolor": "white",
             "linecolor": "white",
             "minorgridcolor": "white",
             "startlinecolor": "#2a3f5f"
            },
            "type": "carpet"
           }
          ],
          "choropleth": [
           {
            "colorbar": {
             "outlinewidth": 0,
             "ticks": ""
            },
            "type": "choropleth"
           }
          ],
          "contour": [
           {
            "colorbar": {
             "outlinewidth": 0,
             "ticks": ""
            },
            "colorscale": [
             [
              0,
              "#0d0887"
             ],
             [
              0.1111111111111111,
              "#46039f"
             ],
             [
              0.2222222222222222,
              "#7201a8"
             ],
             [
              0.3333333333333333,
              "#9c179e"
             ],
             [
              0.4444444444444444,
              "#bd3786"
             ],
             [
              0.5555555555555556,
              "#d8576b"
             ],
             [
              0.6666666666666666,
              "#ed7953"
             ],
             [
              0.7777777777777778,
              "#fb9f3a"
             ],
             [
              0.8888888888888888,
              "#fdca26"
             ],
             [
              1,
              "#f0f921"
             ]
            ],
            "type": "contour"
           }
          ],
          "contourcarpet": [
           {
            "colorbar": {
             "outlinewidth": 0,
             "ticks": ""
            },
            "type": "contourcarpet"
           }
          ],
          "heatmap": [
           {
            "colorbar": {
             "outlinewidth": 0,
             "ticks": ""
            },
            "colorscale": [
             [
              0,
              "#0d0887"
             ],
             [
              0.1111111111111111,
              "#46039f"
             ],
             [
              0.2222222222222222,
              "#7201a8"
             ],
             [
              0.3333333333333333,
              "#9c179e"
             ],
             [
              0.4444444444444444,
              "#bd3786"
             ],
             [
              0.5555555555555556,
              "#d8576b"
             ],
             [
              0.6666666666666666,
              "#ed7953"
             ],
             [
              0.7777777777777778,
              "#fb9f3a"
             ],
             [
              0.8888888888888888,
              "#fdca26"
             ],
             [
              1,
              "#f0f921"
             ]
            ],
            "type": "heatmap"
           }
          ],
          "heatmapgl": [
           {
            "colorbar": {
             "outlinewidth": 0,
             "ticks": ""
            },
            "colorscale": [
             [
              0,
              "#0d0887"
             ],
             [
              0.1111111111111111,
              "#46039f"
             ],
             [
              0.2222222222222222,
              "#7201a8"
             ],
             [
              0.3333333333333333,
              "#9c179e"
             ],
             [
              0.4444444444444444,
              "#bd3786"
             ],
             [
              0.5555555555555556,
              "#d8576b"
             ],
             [
              0.6666666666666666,
              "#ed7953"
             ],
             [
              0.7777777777777778,
              "#fb9f3a"
             ],
             [
              0.8888888888888888,
              "#fdca26"
             ],
             [
              1,
              "#f0f921"
             ]
            ],
            "type": "heatmapgl"
           }
          ],
          "histogram": [
           {
            "marker": {
             "pattern": {
              "fillmode": "overlay",
              "size": 10,
              "solidity": 0.2
             }
            },
            "type": "histogram"
           }
          ],
          "histogram2d": [
           {
            "colorbar": {
             "outlinewidth": 0,
             "ticks": ""
            },
            "colorscale": [
             [
              0,
              "#0d0887"
             ],
             [
              0.1111111111111111,
              "#46039f"
             ],
             [
              0.2222222222222222,
              "#7201a8"
             ],
             [
              0.3333333333333333,
              "#9c179e"
             ],
             [
              0.4444444444444444,
              "#bd3786"
             ],
             [
              0.5555555555555556,
              "#d8576b"
             ],
             [
              0.6666666666666666,
              "#ed7953"
             ],
             [
              0.7777777777777778,
              "#fb9f3a"
             ],
             [
              0.8888888888888888,
              "#fdca26"
             ],
             [
              1,
              "#f0f921"
             ]
            ],
            "type": "histogram2d"
           }
          ],
          "histogram2dcontour": [
           {
            "colorbar": {
             "outlinewidth": 0,
             "ticks": ""
            },
            "colorscale": [
             [
              0,
              "#0d0887"
             ],
             [
              0.1111111111111111,
              "#46039f"
             ],
             [
              0.2222222222222222,
              "#7201a8"
             ],
             [
              0.3333333333333333,
              "#9c179e"
             ],
             [
              0.4444444444444444,
              "#bd3786"
             ],
             [
              0.5555555555555556,
              "#d8576b"
             ],
             [
              0.6666666666666666,
              "#ed7953"
             ],
             [
              0.7777777777777778,
              "#fb9f3a"
             ],
             [
              0.8888888888888888,
              "#fdca26"
             ],
             [
              1,
              "#f0f921"
             ]
            ],
            "type": "histogram2dcontour"
           }
          ],
          "mesh3d": [
           {
            "colorbar": {
             "outlinewidth": 0,
             "ticks": ""
            },
            "type": "mesh3d"
           }
          ],
          "parcoords": [
           {
            "line": {
             "colorbar": {
              "outlinewidth": 0,
              "ticks": ""
             }
            },
            "type": "parcoords"
           }
          ],
          "pie": [
           {
            "automargin": true,
            "type": "pie"
           }
          ],
          "scatter": [
           {
            "fillpattern": {
             "fillmode": "overlay",
             "size": 10,
             "solidity": 0.2
            },
            "type": "scatter"
           }
          ],
          "scatter3d": [
           {
            "line": {
             "colorbar": {
              "outlinewidth": 0,
              "ticks": ""
             }
            },
            "marker": {
             "colorbar": {
              "outlinewidth": 0,
              "ticks": ""
             }
            },
            "type": "scatter3d"
           }
          ],
          "scattercarpet": [
           {
            "marker": {
             "colorbar": {
              "outlinewidth": 0,
              "ticks": ""
             }
            },
            "type": "scattercarpet"
           }
          ],
          "scattergeo": [
           {
            "marker": {
             "colorbar": {
              "outlinewidth": 0,
              "ticks": ""
             }
            },
            "type": "scattergeo"
           }
          ],
          "scattergl": [
           {
            "marker": {
             "colorbar": {
              "outlinewidth": 0,
              "ticks": ""
             }
            },
            "type": "scattergl"
           }
          ],
          "scattermapbox": [
           {
            "marker": {
             "colorbar": {
              "outlinewidth": 0,
              "ticks": ""
             }
            },
            "type": "scattermapbox"
           }
          ],
          "scatterpolar": [
           {
            "marker": {
             "colorbar": {
              "outlinewidth": 0,
              "ticks": ""
             }
            },
            "type": "scatterpolar"
           }
          ],
          "scatterpolargl": [
           {
            "marker": {
             "colorbar": {
              "outlinewidth": 0,
              "ticks": ""
             }
            },
            "type": "scatterpolargl"
           }
          ],
          "scatterternary": [
           {
            "marker": {
             "colorbar": {
              "outlinewidth": 0,
              "ticks": ""
             }
            },
            "type": "scatterternary"
           }
          ],
          "surface": [
           {
            "colorbar": {
             "outlinewidth": 0,
             "ticks": ""
            },
            "colorscale": [
             [
              0,
              "#0d0887"
             ],
             [
              0.1111111111111111,
              "#46039f"
             ],
             [
              0.2222222222222222,
              "#7201a8"
             ],
             [
              0.3333333333333333,
              "#9c179e"
             ],
             [
              0.4444444444444444,
              "#bd3786"
             ],
             [
              0.5555555555555556,
              "#d8576b"
             ],
             [
              0.6666666666666666,
              "#ed7953"
             ],
             [
              0.7777777777777778,
              "#fb9f3a"
             ],
             [
              0.8888888888888888,
              "#fdca26"
             ],
             [
              1,
              "#f0f921"
             ]
            ],
            "type": "surface"
           }
          ],
          "table": [
           {
            "cells": {
             "fill": {
              "color": "#EBF0F8"
             },
             "line": {
              "color": "white"
             }
            },
            "header": {
             "fill": {
              "color": "#C8D4E3"
             },
             "line": {
              "color": "white"
             }
            },
            "type": "table"
           }
          ]
         },
         "layout": {
          "annotationdefaults": {
           "arrowcolor": "#2a3f5f",
           "arrowhead": 0,
           "arrowwidth": 1
          },
          "autotypenumbers": "strict",
          "coloraxis": {
           "colorbar": {
            "outlinewidth": 0,
            "ticks": ""
           }
          },
          "colorscale": {
           "diverging": [
            [
             0,
             "#8e0152"
            ],
            [
             0.1,
             "#c51b7d"
            ],
            [
             0.2,
             "#de77ae"
            ],
            [
             0.3,
             "#f1b6da"
            ],
            [
             0.4,
             "#fde0ef"
            ],
            [
             0.5,
             "#f7f7f7"
            ],
            [
             0.6,
             "#e6f5d0"
            ],
            [
             0.7,
             "#b8e186"
            ],
            [
             0.8,
             "#7fbc41"
            ],
            [
             0.9,
             "#4d9221"
            ],
            [
             1,
             "#276419"
            ]
           ],
           "sequential": [
            [
             0,
             "#0d0887"
            ],
            [
             0.1111111111111111,
             "#46039f"
            ],
            [
             0.2222222222222222,
             "#7201a8"
            ],
            [
             0.3333333333333333,
             "#9c179e"
            ],
            [
             0.4444444444444444,
             "#bd3786"
            ],
            [
             0.5555555555555556,
             "#d8576b"
            ],
            [
             0.6666666666666666,
             "#ed7953"
            ],
            [
             0.7777777777777778,
             "#fb9f3a"
            ],
            [
             0.8888888888888888,
             "#fdca26"
            ],
            [
             1,
             "#f0f921"
            ]
           ],
           "sequentialminus": [
            [
             0,
             "#0d0887"
            ],
            [
             0.1111111111111111,
             "#46039f"
            ],
            [
             0.2222222222222222,
             "#7201a8"
            ],
            [
             0.3333333333333333,
             "#9c179e"
            ],
            [
             0.4444444444444444,
             "#bd3786"
            ],
            [
             0.5555555555555556,
             "#d8576b"
            ],
            [
             0.6666666666666666,
             "#ed7953"
            ],
            [
             0.7777777777777778,
             "#fb9f3a"
            ],
            [
             0.8888888888888888,
             "#fdca26"
            ],
            [
             1,
             "#f0f921"
            ]
           ]
          },
          "colorway": [
           "#636efa",
           "#EF553B",
           "#00cc96",
           "#ab63fa",
           "#FFA15A",
           "#19d3f3",
           "#FF6692",
           "#B6E880",
           "#FF97FF",
           "#FECB52"
          ],
          "font": {
           "color": "#2a3f5f"
          },
          "geo": {
           "bgcolor": "white",
           "lakecolor": "white",
           "landcolor": "#E5ECF6",
           "showlakes": true,
           "showland": true,
           "subunitcolor": "white"
          },
          "hoverlabel": {
           "align": "left"
          },
          "hovermode": "closest",
          "mapbox": {
           "style": "light"
          },
          "paper_bgcolor": "white",
          "plot_bgcolor": "#E5ECF6",
          "polar": {
           "angularaxis": {
            "gridcolor": "white",
            "linecolor": "white",
            "ticks": ""
           },
           "bgcolor": "#E5ECF6",
           "radialaxis": {
            "gridcolor": "white",
            "linecolor": "white",
            "ticks": ""
           }
          },
          "scene": {
           "xaxis": {
            "backgroundcolor": "#E5ECF6",
            "gridcolor": "white",
            "gridwidth": 2,
            "linecolor": "white",
            "showbackground": true,
            "ticks": "",
            "zerolinecolor": "white"
           },
           "yaxis": {
            "backgroundcolor": "#E5ECF6",
            "gridcolor": "white",
            "gridwidth": 2,
            "linecolor": "white",
            "showbackground": true,
            "ticks": "",
            "zerolinecolor": "white"
           },
           "zaxis": {
            "backgroundcolor": "#E5ECF6",
            "gridcolor": "white",
            "gridwidth": 2,
            "linecolor": "white",
            "showbackground": true,
            "ticks": "",
            "zerolinecolor": "white"
           }
          },
          "shapedefaults": {
           "line": {
            "color": "#2a3f5f"
           }
          },
          "ternary": {
           "aaxis": {
            "gridcolor": "white",
            "linecolor": "white",
            "ticks": ""
           },
           "baxis": {
            "gridcolor": "white",
            "linecolor": "white",
            "ticks": ""
           },
           "bgcolor": "#E5ECF6",
           "caxis": {
            "gridcolor": "white",
            "linecolor": "white",
            "ticks": ""
           }
          },
          "title": {
           "x": 0.05
          },
          "xaxis": {
           "automargin": true,
           "gridcolor": "white",
           "linecolor": "white",
           "ticks": "",
           "title": {
            "standoff": 15
           },
           "zerolinecolor": "white",
           "zerolinewidth": 2
          },
          "yaxis": {
           "automargin": true,
           "gridcolor": "white",
           "linecolor": "white",
           "ticks": "",
           "title": {
            "standoff": 15
           },
           "zerolinecolor": "white",
           "zerolinewidth": 2
          }
         }
        },
        "title": {
         "text": "Fig C: General support"
        },
        "width": 400,
        "xaxis": {
         "range": [
          -1,
          2
         ],
         "title": {
          "text": "Values"
         }
        },
        "yaxis": {
         "range": [
          0,
          1
         ],
         "title": {
          "text": "Mean"
         }
        }
       }
      }
     },
     "metadata": {},
     "output_type": "display_data"
    }
   ],
   "source": [
    "conjoint = pd.read_csv(OUT / \"data\" / \"data_long.csv\")\n",
    "\n",
    "treated = conjoint[conjoint['treatment_status'] == 1]\n",
    "control = conjoint[conjoint['treatment_status'] == 0]\n",
    "labels = [\"Treated\", \"Control\"]\n",
    "\n",
    "avg_support_treated = treated['support'].astype(int).mean()\n",
    "std_support_treated = treated['support'].astype(int).std()\n",
    "nobs_support_treated = len(treated['support'])\n",
    "\n",
    "avg_support_control = control['support'].astype(int).mean()\n",
    "std_support_control = control['support'].astype(int).std()\n",
    "nobs_support_control = len(control['support'])\n",
    "\n",
    "values = [avg_support_treated, avg_support_control]\n",
    "std_dev = [std_support_treated, std_support_control]\n",
    "labels = [\"Treated\", \"Control\"]\n",
    "\n",
    "# Calculate confidence intervals (assuming a normal distribution)\n",
    "confidence_intervals_treated = [(avg_support_treated - 1.96 * (std_support_treated / (nobs_support_treated) ** 0.5)), avg_support_treated + 1.96 * (std_support_treated / (nobs_support_treated) ** 0.5)]\n",
    "confidence_intervals_control = [(avg_support_control - 1.96 * (std_support_control / (nobs_support_treated) ** 0.5)), avg_support_control + 1.96 * (std_support_control / (nobs_support_control) ** 0.5)]\n",
    "\n",
    "\n",
    "# Create a bar plot with error bars representing confidence intervals\n",
    "fig = go.Figure()\n",
    "\n",
    "fig.add_trace(go.Bar(\n",
    "    x=labels,\n",
    "    y=values,\n",
    "    error_y=dict(\n",
    "                type='data',\n",
    "                array=[max(confidence_intervals_treated) - values[0], max(confidence_intervals_control) - values[1]],\n",
    "                arrayminus=[values[0] - min(confidence_intervals_treated), values[1] - min(confidence_intervals_control)],\n",
    "                visible=True\n",
    "            ),\n",
    "    name='Values',\n",
    "    marker_color=['red', 'blue'],\n",
    "    width=0.6\n",
    "))\n",
    "\n",
    "fig.update_layout(yaxis_range=[0, 1], xaxis_range=[-1,2], width=400, height=500)\n",
    "# Customize the layout\n",
    "fig.update_layout(\n",
    "    title='Fig C: General support',\n",
    "    xaxis=dict(title='Values'),\n",
    "    yaxis=dict(title='Mean'),\n",
    "    barmode='group',\n",
    "    bargap=0.1\n",
    "    \n",
    ")\n",
    "\n",
    "# Show the plot\n",
    "fig.show()"
   ]
  },
  {
   "cell_type": "markdown",
   "metadata": {},
   "source": [
    "##### Regions"
   ]
  },
  {
   "cell_type": "code",
   "execution_count": 12,
   "metadata": {},
   "outputs": [
    {
     "data": {
      "text/plain": [
       "array(['Puducherry', 'Dadra and Nagar Haveli and Daman & Diu',\n",
       "       'Uttar Pradesh', 'Ladakh', 'West Bengal', 'Tripura'], dtype=object)"
      ]
     },
     "execution_count": 12,
     "metadata": {},
     "output_type": "execute_result"
    }
   ],
   "source": [
    "conjoint = pd.read_csv(OUT / \"data\" / \"data_clean.csv\")\n",
    "\n",
    "conjoint[\"locationFilter\"].unique()"
   ]
  },
  {
   "attachments": {},
   "cell_type": "markdown",
   "metadata": {},
   "source": [
    "#### Frequencies of attributes"
   ]
  },
  {
   "cell_type": "code",
   "execution_count": 13,
   "metadata": {},
   "outputs": [
    {
     "data": {
      "text/html": [
       "<div>\n",
       "<style scoped>\n",
       "    .dataframe tbody tr th:only-of-type {\n",
       "        vertical-align: middle;\n",
       "    }\n",
       "\n",
       "    .dataframe tbody tr th {\n",
       "        vertical-align: top;\n",
       "    }\n",
       "\n",
       "    .dataframe thead th {\n",
       "        text-align: right;\n",
       "    }\n",
       "</style>\n",
       "<table border=\"1\" class=\"dataframe\">\n",
       "  <thead>\n",
       "    <tr style=\"text-align: right;\">\n",
       "      <th></th>\n",
       "      <th>frequency</th>\n",
       "    </tr>\n",
       "    <tr>\n",
       "      <th>Attribute_level</th>\n",
       "      <th></th>\n",
       "    </tr>\n",
       "  </thead>\n",
       "  <tbody>\n",
       "    <tr>\n",
       "      <th>Eliminate2050</th>\n",
       "      <td>0.34</td>\n",
       "    </tr>\n",
       "    <tr>\n",
       "      <th>Eliminate2070</th>\n",
       "      <td>0.33</td>\n",
       "    </tr>\n",
       "    <tr>\n",
       "      <th>Reduce2030</th>\n",
       "      <td>0.33</td>\n",
       "    </tr>\n",
       "    <tr>\n",
       "      <th>EnergyAccess</th>\n",
       "      <td>0.25</td>\n",
       "    </tr>\n",
       "    <tr>\n",
       "      <th>InsureWorkers</th>\n",
       "      <td>0.25</td>\n",
       "    </tr>\n",
       "    <tr>\n",
       "      <th>LowPrices</th>\n",
       "      <td>0.25</td>\n",
       "    </tr>\n",
       "    <tr>\n",
       "      <th>NothingSoc</th>\n",
       "      <td>0.25</td>\n",
       "    </tr>\n",
       "    <tr>\n",
       "      <th>IdentityCoalRegions</th>\n",
       "      <td>0.25</td>\n",
       "    </tr>\n",
       "    <tr>\n",
       "      <th>IndustryCoalRegions</th>\n",
       "      <td>0.25</td>\n",
       "    </tr>\n",
       "    <tr>\n",
       "      <th>NothingEco</th>\n",
       "      <td>0.25</td>\n",
       "    </tr>\n",
       "    <tr>\n",
       "      <th>WorkersCoalRegion</th>\n",
       "      <td>0.25</td>\n",
       "    </tr>\n",
       "    <tr>\n",
       "      <th>Gov&amp;Businesses</th>\n",
       "      <td>0.17</td>\n",
       "    </tr>\n",
       "    <tr>\n",
       "      <th>Gov&amp;CivilSociety</th>\n",
       "      <td>0.16</td>\n",
       "    </tr>\n",
       "    <tr>\n",
       "      <th>Gov&amp;LaborUnions</th>\n",
       "      <td>0.17</td>\n",
       "    </tr>\n",
       "    <tr>\n",
       "      <th>Gov&amp;LocalGov</th>\n",
       "      <td>0.17</td>\n",
       "    </tr>\n",
       "    <tr>\n",
       "      <th>Gov&amp;Researchers</th>\n",
       "      <td>0.16</td>\n",
       "    </tr>\n",
       "    <tr>\n",
       "      <th>GovAlone</th>\n",
       "      <td>0.17</td>\n",
       "    </tr>\n",
       "    <tr>\n",
       "      <th>Fin&amp;TechSupport</th>\n",
       "      <td>0.25</td>\n",
       "    </tr>\n",
       "    <tr>\n",
       "      <th>FinSupportOnly</th>\n",
       "      <td>0.25</td>\n",
       "    </tr>\n",
       "    <tr>\n",
       "      <th>NoInterference</th>\n",
       "      <td>0.25</td>\n",
       "    </tr>\n",
       "    <tr>\n",
       "      <th>TechSupportOnly</th>\n",
       "      <td>0.25</td>\n",
       "    </tr>\n",
       "  </tbody>\n",
       "</table>\n",
       "</div>"
      ],
      "text/plain": [
       "                     frequency\n",
       "Attribute_level               \n",
       "Eliminate2050             0.34\n",
       "Eliminate2070             0.33\n",
       "Reduce2030                0.33\n",
       "EnergyAccess              0.25\n",
       "InsureWorkers             0.25\n",
       "LowPrices                 0.25\n",
       "NothingSoc                0.25\n",
       "IdentityCoalRegions       0.25\n",
       "IndustryCoalRegions       0.25\n",
       "NothingEco                0.25\n",
       "WorkersCoalRegion         0.25\n",
       "Gov&Businesses            0.17\n",
       "Gov&CivilSociety          0.16\n",
       "Gov&LaborUnions           0.17\n",
       "Gov&LocalGov              0.17\n",
       "Gov&Researchers           0.16\n",
       "GovAlone                  0.17\n",
       "Fin&TechSupport           0.25\n",
       "FinSupportOnly            0.25\n",
       "NoInterference            0.25\n",
       "TechSupportOnly           0.25"
      ]
     },
     "execution_count": 13,
     "metadata": {},
     "output_type": "execute_result"
    }
   ],
   "source": [
    "conjoint_reg = pd.read_csv(OUT / \"data\" / \"data_regression.csv\")\n",
    "\n",
    "#conjoint_dummy.columns.str.startswith('att')\n",
    "def frequencies(conjoint_reg):\n",
    "    \n",
    "    frequency_table =  {}\n",
    "    groups = ['att_1', 'att_2','att_3', 'att_4', 'att_5'] #add 6\n",
    "    for group in groups:\n",
    "        total = sum(dict(conjoint_reg.filter(like=group).sum()).values())\n",
    "        frequency_table[group] = {key.replace(f'{group}_', '') : (value / total).round(2) for key, value in dict(conjoint_reg.filter(like=group).sum()).items()}\n",
    "    frequency_table = pd.DataFrame(frequency_table).sum(axis=1)\n",
    "    frequency_table = pd.DataFrame(frequency_table, columns=[\"frequency\"])\n",
    "\n",
    "    frequency_table = frequency_table.rename_axis(\"Attribute_level\")\n",
    "    return frequency_table\n",
    "\n",
    "frequencies(conjoint_reg)"
   ]
  },
  {
   "attachments": {},
   "cell_type": "markdown",
   "metadata": {},
   "source": [
    "#### Time spent on surveys"
   ]
  },
  {
   "cell_type": "code",
   "execution_count": 14,
   "metadata": {},
   "outputs": [
    {
     "data": {
      "application/vnd.plotly.v1+json": {
       "config": {
        "plotlyServerURL": "https://plot.ly"
       },
       "data": [
        {
         "autobinx": false,
         "histnorm": "probability density",
         "legendgroup": "DurationMin",
         "marker": {
          "color": "rgb(31, 119, 180)"
         },
         "name": "DurationMin",
         "opacity": 0.7,
         "type": "histogram",
         "x": [
          3.283333333333333,
          5.45,
          6.383333333333334,
          7.133333333333334,
          5.533333333333333,
          12.066666666666666,
          9.2,
          10.2,
          12.65,
          10.633333333333333,
          18.933333333333334,
          10.166666666666666,
          17.933333333333334,
          19.116666666666667,
          18.983333333333334,
          5.266666666666667,
          14.033333333333333,
          14.866666666666667,
          5.533333333333333,
          8.916666666666666,
          14.583333333333334,
          20.716666666666665,
          13.083333333333334,
          6.616666666666666,
          11.166666666666666,
          17.666666666666668,
          5.3,
          7.716666666666667,
          20.8,
          11.216666666666667,
          7.666666666666667,
          9.5,
          14.366666666666667,
          17.433333333333334,
          9.3,
          7.516666666666667,
          10.216666666666667,
          10.766666666666667,
          9.733333333333333,
          16.283333333333335,
          12.633333333333333,
          13.183333333333334,
          12.216666666666667,
          5.583333333333333,
          15.783333333333333,
          10.95,
          5.933333333333334,
          5.866666666666666,
          13.316666666666666,
          29.816666666666666,
          26.8,
          21.2,
          16.9,
          28.033333333333335,
          27.016666666666666,
          22.416666666666668,
          9.6,
          15.416666666666666,
          22.4,
          25.533333333333335,
          10.416666666666666,
          12.35,
          6.016666666666667,
          14.583333333333334,
          37.083333333333336,
          27.366666666666667,
          25.883333333333333,
          21.133333333333333,
          13.983333333333333,
          19.966666666666665,
          17.766666666666666,
          13.466666666666667,
          4.183333333333334,
          17.15,
          18.666666666666668,
          9.933333333333334,
          18.216666666666665,
          11.766666666666667,
          6.033333333333333,
          11.766666666666667,
          14.266666666666667,
          20.966666666666665,
          5.766666666666667,
          13.2,
          52.016666666666666,
          5.016666666666667,
          3.95,
          13.083333333333334,
          8.266666666666667,
          7.9,
          15.216666666666667,
          8.25,
          7.75,
          24.35,
          8.766666666666667,
          6.466666666666667,
          32.9,
          46.75,
          8.9,
          29.5,
          12.133333333333333,
          47.68333333333333,
          28.666666666666668,
          5,
          12.816666666666666,
          35.016666666666666,
          35.46666666666667,
          37.81666666666667,
          11.066666666666666,
          26.916666666666668,
          4.5,
          10.633333333333333,
          13.183333333333334,
          14.066666666666666,
          14.416666666666666,
          3.5,
          13.316666666666666,
          5.533333333333333,
          11.683333333333334,
          10.35,
          5.516666666666667,
          7.983333333333333,
          18.55,
          9.833333333333334,
          16.65,
          13.8,
          9.316666666666666,
          8.966666666666667,
          8.566666666666666,
          10.083333333333334,
          10.9,
          11.5,
          9.683333333333334,
          10.566666666666666,
          10.983333333333333,
          11,
          18,
          8.283333333333333,
          13.616666666666667,
          14.8,
          12.266666666666667,
          16.766666666666666,
          18.283333333333335,
          16.55,
          14.183333333333334,
          18.116666666666667,
          19.366666666666667,
          6.933333333333334,
          6.866666666666666,
          21.833333333333332,
          11.233333333333333,
          12.35,
          13.066666666666666,
          11.533333333333333,
          4.6,
          7.083333333333333,
          7.983333333333333,
          8.95,
          28.95,
          15.783333333333333,
          30.55,
          28.8,
          17.066666666666666,
          13.466666666666667,
          11.916666666666666,
          23.333333333333332,
          15.583333333333334,
          4.566666666666666,
          27.266666666666666,
          19.333333333333332,
          14.316666666666666,
          14.9,
          37.666666666666664,
          7.866666666666666,
          12.683333333333334,
          19.083333333333332,
          17.9,
          23.766666666666666,
          18.883333333333333,
          7.616666666666666,
          10.966666666666667,
          26.9,
          14.183333333333334,
          15.583333333333334,
          18.833333333333332,
          11.5,
          33.016666666666666,
          12.066666666666666,
          6.616666666666666,
          46.28333333333333,
          15.15,
          8.95,
          11.383333333333333,
          15,
          10.383333333333333,
          13.183333333333334,
          4.883333333333334,
          39.766666666666666,
          16.833333333333332,
          5.583333333333333,
          12.2,
          7.15,
          9.4,
          4.066666666666666,
          10.933333333333334,
          5.233333333333333,
          9.566666666666666,
          10.183333333333334,
          14.55,
          3.816666666666667,
          8.933333333333334,
          12.533333333333333,
          31.1,
          13.166666666666666,
          17.266666666666666,
          20.35,
          5.033333333333333,
          10.216666666666667,
          13.216666666666667,
          14.45,
          10.316666666666666,
          13.816666666666666,
          17.733333333333334,
          4.483333333333333,
          21.666666666666668,
          8.9,
          22.866666666666667,
          15.516666666666667,
          9.116666666666667,
          25.566666666666666,
          18,
          26.483333333333334,
          4.75,
          10.35,
          7.95,
          7.916666666666667,
          11.25,
          36.266666666666666,
          11.15,
          12.7,
          4.7,
          28.333333333333332,
          19.716666666666665,
          3.3833333333333333,
          19.016666666666666,
          18.016666666666666,
          18.75,
          8.25,
          17.683333333333334,
          43.4,
          4.816666666666666,
          9.033333333333333,
          21.1,
          17.066666666666666,
          4.433333333333334,
          6.233333333333333,
          12.166666666666666,
          19.833333333333332,
          13.633333333333333,
          25.033333333333335,
          10.216666666666667,
          8.35,
          9.133333333333333,
          8.05,
          5.7,
          9.05,
          7.116666666666666,
          41.56666666666667,
          35.05,
          7.316666666666666,
          7.766666666666667,
          11.066666666666666,
          22.466666666666665,
          13.233333333333333,
          10.283333333333333,
          11.833333333333334,
          9.9,
          17.55,
          22.566666666666666,
          4.8,
          17.65,
          29.966666666666665,
          21.916666666666668,
          22.816666666666666,
          10.316666666666666,
          8.1,
          39.78333333333333,
          24.35,
          10.25,
          30.966666666666665,
          24.15,
          11.466666666666667,
          17.8,
          53.86666666666667,
          5.583333333333333,
          26.466666666666665,
          6.783333333333333,
          12.033333333333333,
          11.233333333333333,
          8.066666666666666,
          29.833333333333332,
          20.483333333333334,
          3.6166666666666667,
          16.416666666666668,
          11.816666666666666,
          7.266666666666667,
          22.616666666666667,
          11.316666666666666,
          14.433333333333334,
          17.483333333333334,
          14.666666666666666,
          16.983333333333334,
          10.8,
          8.283333333333333,
          14.85,
          33.15,
          11.583333333333334,
          16.633333333333333,
          27.816666666666666,
          27.933333333333334,
          13.6,
          14.3,
          56.45,
          3.4833333333333334,
          3.433333333333333,
          3.5166666666666666,
          4.266666666666667,
          4.3,
          3.5833333333333335,
          3.5,
          4.833333333333333,
          4.883333333333334,
          3.1166666666666667,
          3.9166666666666665,
          4.05,
          5.816666666666666,
          4.116666666666666,
          4.766666666666667,
          4.816666666666666,
          5,
          5.133333333333334,
          4.983333333333333,
          3.25,
          4.283333333333333,
          4.733333333333333,
          4.766666666666667,
          4.983333333333333,
          5.433333333333334,
          5.266666666666667,
          5.65,
          5.25,
          5.433333333333334,
          5.366666666666666,
          5.883333333333334,
          5.333333333333333,
          5.783333333333333,
          5.95,
          5.666666666666667,
          6.15,
          6.333333333333333,
          6.316666666666666,
          6.283333333333333,
          6.5,
          6.683333333333334,
          6.65,
          5.383333333333334,
          6.75,
          6.116666666666666,
          6.733333333333333,
          6.666666666666667,
          6.75,
          6.433333333333334,
          7.016666666666667,
          6.183333333333334,
          5.9,
          7.133333333333334,
          6.116666666666666,
          6.933333333333334,
          6.566666666666666,
          7.516666666666667,
          7.133333333333334,
          7.35,
          7.7,
          7.533333333333333,
          7.65,
          8.333333333333334,
          7.983333333333333,
          8.033333333333333,
          7.816666666666666,
          7.366666666666666,
          7.733333333333333,
          9.1,
          7.366666666666666,
          8.5,
          8.166666666666666,
          8.35,
          8.516666666666667,
          8.35,
          8.766666666666667,
          8.416666666666666,
          8.733333333333333,
          8.616666666666667,
          9.233333333333333,
          8.216666666666667,
          5.466666666666667,
          9.666666666666666,
          8.233333333333333,
          7.766666666666667,
          9.033333333333333,
          5.416666666666667,
          8.733333333333333,
          9.35,
          9.183333333333334,
          9.316666666666666,
          9.566666666666666,
          9.533333333333333,
          9.933333333333334,
          9.75,
          9.866666666666667,
          10,
          8.733333333333333,
          9.55,
          8.716666666666667,
          9.95,
          10.25,
          9.733333333333333,
          9.566666666666666,
          9.2,
          10.233333333333333,
          10.333333333333334,
          10.316666666666666,
          9.983333333333333,
          11.083333333333334,
          10.65,
          10.5,
          10.783333333333333,
          11.05,
          9.65,
          12.483333333333333,
          10.633333333333333,
          11.833333333333334,
          10.6,
          12.066666666666666,
          11.516666666666667,
          12.666666666666666,
          12.016666666666667,
          12.05,
          12.133333333333333,
          11.316666666666666,
          11.75,
          11.416666666666666,
          12.233333333333333,
          12.6,
          11.8,
          12.316666666666666,
          12.3,
          11.516666666666667,
          12.2,
          12.583333333333334,
          13.066666666666666,
          13.05,
          12.833333333333334,
          13.15,
          12.366666666666667,
          13.183333333333334,
          8.4,
          13.283333333333333,
          12.533333333333333,
          12.05,
          13.066666666666666,
          10.416666666666666,
          13.65,
          13.433333333333334,
          13.483333333333333,
          14.533333333333333,
          12.733333333333333,
          13.866666666666667,
          14.683333333333334,
          11.016666666666667,
          13.233333333333333,
          13.716666666666667,
          14.133333333333333,
          13.6,
          14.4,
          14.266666666666667,
          14.25,
          14.616666666666667,
          13.083333333333334,
          13.833333333333334,
          14.966666666666667,
          14.883333333333333,
          14.716666666666667,
          13.816666666666666,
          16.366666666666667,
          15.116666666666667,
          15.233333333333333,
          14.65,
          13.1,
          15.466666666666667,
          15.333333333333334,
          13.166666666666666,
          10.933333333333334,
          15.533333333333333,
          14.9,
          15.85,
          15.733333333333333,
          16.3,
          16.333333333333332,
          15.6,
          16.366666666666667,
          17.166666666666668,
          15.666666666666666,
          15.666666666666666,
          16.1,
          16.45,
          16.3,
          16.033333333333335,
          16.483333333333334,
          15.933333333333334,
          16.616666666666667,
          14.9,
          17.333333333333332,
          16.95,
          17.066666666666666,
          18.4,
          17.7,
          17.266666666666666,
          18.766666666666666,
          16.85,
          17.583333333333332,
          17.866666666666667,
          15.583333333333334,
          18.633333333333333,
          19.25,
          17.933333333333334,
          15.716666666666667,
          18.3,
          18.65,
          18.25,
          18.933333333333334,
          19.833333333333332,
          19.25,
          18.966666666666665,
          19.966666666666665,
          20.5,
          20,
          20.433333333333334,
          20.366666666666667,
          18.133333333333333,
          17.2,
          20.266666666666666,
          20.266666666666666,
          22.5,
          19.75,
          22.4,
          19.666666666666668,
          22.766666666666666,
          19,
          22.116666666666667,
          22.733333333333334,
          23.416666666666668,
          24.633333333333333,
          24.283333333333335,
          5.833333333333333,
          25.066666666666666,
          26.316666666666666,
          26.45,
          26.7,
          27.8,
          28.25,
          28.6,
          27.8,
          28.933333333333334,
          30.033333333333335,
          30.666666666666668,
          29.083333333333332,
          31.683333333333334,
          5.433333333333334,
          38.31666666666667,
          37.93333333333333,
          40.083333333333336,
          42.733333333333334,
          58.4,
          21.466666666666665,
          9.5,
          3.3833333333333333,
          5.7,
          39.083333333333336,
          15.233333333333333,
          8.85,
          5.75,
          11.85,
          6.883333333333334,
          7.616666666666666,
          7.866666666666666,
          32.65,
          17.116666666666667,
          16.333333333333332,
          6.866666666666666,
          12.3,
          15.783333333333333,
          15.833333333333334,
          9.65,
          16.183333333333334,
          7.566666666666666,
          24,
          16.433333333333334,
          30.833333333333332,
          31.116666666666667,
          25.283333333333335,
          13.016666666666667,
          6.783333333333333,
          16.883333333333333,
          27.8,
          10.566666666666666,
          10.566666666666666,
          24.983333333333334,
          7.6,
          45.31666666666667,
          11.883333333333333,
          8.4,
          18.9,
          7.466666666666667,
          48.266666666666666,
          16.466666666666665,
          12.533333333333333,
          30.5,
          24.866666666666667,
          21.383333333333333,
          10.016666666666667,
          19.466666666666665,
          34.45,
          16.516666666666666,
          12.266666666666667,
          14.75,
          10.25,
          16.266666666666666,
          6.266666666666667,
          8.266666666666667,
          2.55,
          8.233333333333333,
          18.416666666666668,
          4.916666666666667,
          3.8333333333333335,
          3.25,
          41.733333333333334,
          3.9833333333333334,
          9.4,
          5.916666666666667,
          4.333333333333333,
          6.65,
          9.883333333333333,
          5.583333333333333,
          8.766666666666667,
          5.3,
          5.266666666666667,
          11,
          5.366666666666666,
          7.2,
          7.55,
          11.483333333333333,
          7.75,
          7.8,
          6.45,
          8.2,
          7.833333333333333,
          9.816666666666666,
          9.65,
          7.416666666666667,
          7.166666666666667,
          9.966666666666667,
          7.383333333333334,
          9.816666666666666,
          8.916666666666666,
          10.45,
          8.95,
          13.166666666666666,
          12.116666666666667,
          10.166666666666666,
          10.266666666666667,
          9.716666666666667,
          6.2,
          11.483333333333333,
          9.216666666666667,
          11.65,
          9.55,
          10.35,
          11.766666666666667,
          15.916666666666666,
          6.933333333333334,
          11.35,
          13.183333333333334,
          8.283333333333333,
          3.5166666666666666,
          14.366666666666667,
          15.066666666666666,
          11.333333333333334,
          13.566666666666666,
          10.55,
          7.183333333333334,
          14.966666666666667,
          8.25,
          12.2,
          15.633333333333333,
          11.2,
          9.116666666666667,
          21,
          3.8333333333333335,
          17.7,
          16.433333333333334,
          22.583333333333332,
          16.7,
          8.8,
          17.8,
          22.916666666666668,
          17.733333333333334,
          17.783333333333335,
          19,
          14.9,
          18.066666666666666,
          14.15,
          19.083333333333332,
          13.166666666666666,
          22.983333333333334,
          17.966666666666665,
          18.85,
          18.666666666666668,
          18.583333333333332,
          3.15,
          11.816666666666666,
          18.7,
          18.166666666666668,
          23.583333333333332,
          20.033333333333335,
          12.433333333333334,
          12.183333333333334,
          22.816666666666666,
          20.266666666666666,
          9.283333333333333,
          20.95,
          7.4,
          22.5,
          29.366666666666667,
          23.6,
          26.566666666666666,
          15.083333333333334,
          24.4,
          25.2,
          24.416666666666668,
          6.933333333333334,
          24.583333333333332,
          28.45,
          28.366666666666667,
          30.716666666666665,
          31.783333333333335,
          34.666666666666664,
          38.916666666666664,
          34.65,
          30.783333333333335,
          37.733333333333334,
          35.916666666666664,
          33.63333333333333,
          22.716666666666665,
          54.06666666666667,
          28.483333333333334,
          56.36666666666667,
          46.983333333333334,
          9.15,
          21.083333333333332,
          21,
          18.5,
          5.016666666666667,
          10.8,
          21.3,
          5.833333333333333,
          17.666666666666668,
          10.166666666666666,
          11.633333333333333,
          15.616666666666667,
          5.9,
          24.2,
          37.416666666666664,
          15.033333333333333,
          17.916666666666668,
          28.266666666666666,
          15.666666666666666,
          7.966666666666667,
          17.783333333333335,
          25.533333333333335,
          14.25,
          25.05,
          44.583333333333336,
          10.983333333333333,
          13.266666666666667,
          12.133333333333333,
          11.266666666666667,
          8.1,
          16.866666666666667,
          3.533333333333333,
          27.933333333333334,
          42.63333333333333,
          17.55,
          45.166666666666664,
          5.066666666666666,
          13.083333333333334,
          6.05,
          7.166666666666667,
          4.316666666666666,
          12.983333333333333,
          17.633333333333333,
          17.166666666666668,
          14.233333333333333,
          24.35,
          10.283333333333333,
          23.966666666666665,
          6.383333333333334,
          11.083333333333334,
          7.683333333333334,
          11.7,
          27.533333333333335,
          21.216666666666665,
          13.383333333333333,
          13.1,
          14.183333333333334,
          8.066666666666666,
          37.266666666666666,
          10.1,
          15.7,
          17.2,
          9.466666666666667,
          5.466666666666667,
          20.833333333333332,
          7.633333333333334,
          13.3,
          22.2,
          10.633333333333333,
          3.716666666666667,
          4.216666666666667,
          11.483333333333333,
          14.25,
          10.2,
          5.966666666666667,
          19.916666666666668,
          10.916666666666666,
          8.083333333333334,
          19.616666666666667,
          10.383333333333333,
          8.25,
          16.783333333333335,
          12.95,
          11.1,
          18.3,
          16.15,
          11.616666666666667,
          10.116666666666667,
          12.433333333333334,
          18.733333333333334,
          16.616666666666667,
          7.833333333333333,
          17.35,
          16.35,
          9.7,
          13.016666666666667,
          11.883333333333333,
          3.4166666666666665,
          5.4,
          11.233333333333333,
          10.933333333333334,
          41.35,
          13.333333333333334,
          8.566666666666666,
          8.516666666666667,
          14.75,
          7.183333333333334,
          9.033333333333333,
          9.266666666666667,
          17.483333333333334,
          18.166666666666668,
          12.716666666666667,
          7.383333333333334,
          27.45,
          11.783333333333333,
          16.883333333333333,
          9.133333333333333,
          5.4,
          51.25,
          13.066666666666666,
          3.5166666666666666,
          7.666666666666667,
          12,
          18.5,
          26.083333333333332,
          6.183333333333334,
          33.61666666666667,
          27.433333333333334,
          11.4,
          17.883333333333333,
          13.516666666666667,
          13.083333333333334,
          19.916666666666668,
          20.516666666666666,
          8.133333333333333,
          10.666666666666666,
          19.316666666666666,
          17.8,
          18.05,
          16.316666666666666,
          43.583333333333336,
          3.7333333333333334,
          16.55,
          16.383333333333333,
          15.216666666666667,
          5.566666666666666,
          7.083333333333333,
          8.3,
          24.966666666666665,
          9,
          3.9,
          10.333333333333334,
          3.8,
          27.683333333333334,
          15.166666666666666,
          7.533333333333333,
          8.716666666666667,
          20.816666666666666,
          8.35,
          12.266666666666667,
          39.95,
          7.966666666666667,
          6.8,
          33.1,
          3.8333333333333335,
          7.7,
          6.983333333333333,
          18.1,
          3.5166666666666666,
          4.716666666666667,
          33.56666666666667,
          12.983333333333333,
          8.4,
          11.25,
          16.183333333333334,
          30.383333333333333,
          16.4,
          7.083333333333333,
          4.35,
          12.15,
          25.833333333333332,
          19.933333333333334,
          3.5166666666666666,
          4.766666666666667,
          7.733333333333333,
          11.166666666666666,
          8.783333333333333,
          16.866666666666667,
          16.4,
          12.683333333333334,
          4.35,
          4.25,
          6.416666666666667,
          7,
          4.7,
          7.916666666666667,
          4.766666666666667,
          6.033333333333333,
          9.45,
          9.833333333333334,
          14.7,
          8.95,
          10.566666666666666,
          5.516666666666667,
          9.683333333333334,
          9.216666666666667,
          10.75,
          10.3,
          12.116666666666667,
          13.766666666666667,
          9.666666666666666,
          6.85,
          7.066666666666666,
          14.033333333333333,
          11.433333333333334,
          9.333333333333334,
          13.783333333333333,
          16.216666666666665,
          11.666666666666666,
          19.75,
          15.7,
          10.716666666666667,
          7.033333333333333,
          16.1,
          9.833333333333334,
          14.566666666666666,
          16.2,
          2.033333333333333,
          17.016666666666666,
          11.066666666666666,
          18.316666666666666,
          18.133333333333333,
          13.416666666666666,
          19.7,
          18.4,
          11.15,
          7.883333333333334,
          16.883333333333333,
          16.533333333333335,
          5.783333333333333,
          20.133333333333333,
          7.266666666666667,
          20.966666666666665,
          14.233333333333333,
          4.916666666666667,
          10.133333333333333,
          20.833333333333332,
          20.066666666666666,
          18.3,
          4.816666666666666,
          6.633333333333334,
          20.133333333333333,
          7.3,
          20.083333333333332,
          17.016666666666666,
          7.683333333333334,
          16.5,
          20.266666666666666,
          6.983333333333333,
          15.966666666666667,
          20.25,
          4.966666666666667,
          3.966666666666667,
          9.583333333333334,
          19.2,
          17.916666666666668,
          6.2,
          10.033333333333333,
          24.35,
          12.483333333333333,
          32.516666666666666,
          16.816666666666666,
          6.2,
          21.516666666666666,
          25.4,
          21.65,
          10.183333333333334,
          21.733333333333334,
          19.633333333333333,
          22.3,
          14.733333333333333,
          10.633333333333333,
          24.733333333333334,
          25.516666666666666,
          27.35,
          34.7,
          23.6,
          20.483333333333334,
          29.3,
          31.533333333333335,
          28.583333333333332,
          26.933333333333334,
          27.183333333333334,
          41.416666666666664,
          52.6,
          15.8,
          21.633333333333333,
          2.4833333333333334,
          13.666666666666666,
          5.95,
          6.25,
          14.616666666666667,
          10.216666666666667,
          18.316666666666666,
          6.9,
          7.033333333333333,
          7.416666666666667,
          8.233333333333333,
          7.083333333333333,
          28.816666666666666,
          6.666666666666667,
          7.116666666666666,
          14.816666666666666,
          4.916666666666667,
          9.35,
          8.383333333333333,
          3.4833333333333334,
          13.55,
          9.533333333333333,
          13.55,
          17.016666666666666,
          15.4,
          14.5,
          12.183333333333334,
          11.866666666666667,
          26.45,
          22.666666666666668,
          24.033333333333335,
          25.116666666666667,
          11.283333333333333,
          6.6,
          11.9,
          7.95,
          10.716666666666667,
          27.266666666666666,
          7.25,
          34.38333333333333,
          27.35,
          13.716666666666667,
          38.56666666666667,
          34.81666666666667,
          35.81666666666667,
          5.066666666666666,
          36.03333333333333,
          35.38333333333333,
          43.68333333333333,
          51.53333333333333,
          58.833333333333336,
          30.666666666666668,
          14.55,
          35.416666666666664,
          13.633333333333333,
          13.566666666666666,
          21.633333333333333,
          23.266666666666666,
          16.05,
          50.13333333333333,
          35.81666666666667,
          22.416666666666668,
          13.766666666666667,
          12.85,
          11.05,
          11.45,
          10.016666666666667,
          33.9,
          11.4,
          17.016666666666666,
          16.616666666666667,
          23.5,
          30.633333333333333,
          12.716666666666667,
          11.583333333333334,
          14.233333333333333,
          16.316666666666666,
          23.583333333333332,
          28.25,
          10.283333333333333,
          4.433333333333334,
          8.433333333333334,
          18.816666666666666,
          18.016666666666666,
          41.03333333333333,
          16.35,
          26.783333333333335,
          33.68333333333333,
          5.65,
          11.883333333333333,
          4.383333333333334,
          29.633333333333333,
          14.783333333333333,
          3.3,
          18.283333333333335,
          11.816666666666666,
          8.766666666666667,
          45.483333333333334,
          7.45,
          21.966666666666665,
          31.266666666666666,
          25.383333333333333,
          16.866666666666667,
          13.883333333333333,
          10.9,
          9.55,
          10.216666666666667,
          13.133333333333333,
          7.05,
          6.633333333333334,
          11.816666666666666,
          5.7,
          23.383333333333333,
          32.35,
          20.85,
          3.966666666666667,
          5.083333333333333,
          9.233333333333333,
          12.4,
          14.7,
          9.266666666666667,
          17.316666666666666,
          25.216666666666665,
          31.816666666666666,
          12.25,
          4.75,
          14.1,
          14.483333333333333,
          5.1,
          4.75,
          5.266666666666667,
          15.983333333333333,
          14.083333333333334,
          14.35,
          25,
          14.216666666666667,
          2.5833333333333335,
          8.266666666666667,
          8.366666666666667,
          9.583333333333334,
          9.35,
          8.816666666666666,
          9.616666666666667,
          13.016666666666667,
          10.05,
          4.233333333333333,
          9.133333333333333,
          8.816666666666666,
          9.616666666666667,
          10.216666666666667,
          5.2,
          10.35,
          11.683333333333334,
          9.9,
          9.25,
          13.683333333333334,
          9.533333333333333,
          8.766666666666667,
          7.916666666666667,
          12.183333333333334,
          17,
          12.55,
          10.266666666666667,
          6.466666666666667,
          10.25,
          7.35,
          19.35,
          40.61666666666667,
          16.966666666666665,
          12.45,
          19.316666666666666,
          15.216666666666667,
          25.666666666666668,
          14.066666666666666,
          10.983333333333333,
          15.15,
          18.916666666666668,
          20.1,
          29.116666666666667,
          3.65,
          8.233333333333333,
          4.933333333333334,
          8.566666666666666,
          9,
          4.366666666666666,
          23.316666666666666,
          7.5,
          5.1,
          32.3,
          3.2666666666666666,
          24.416666666666668,
          23.166666666666668,
          8.5,
          57.13333333333333,
          19.016666666666666,
          11.483333333333333,
          33.333333333333336,
          20.85,
          13.616666666666667,
          3.1666666666666665,
          21.9,
          54.2,
          11.95,
          6.3,
          26.733333333333334,
          5.883333333333334,
          5.216666666666667,
          14.583333333333334,
          14.566666666666666,
          14.366666666666667,
          8.616666666666667,
          14.483333333333333,
          12.466666666666667,
          11.083333333333334,
          15.783333333333333,
          8.25,
          13.533333333333333,
          10.716666666666667,
          11.766666666666667,
          8.483333333333333,
          16.433333333333334,
          4.883333333333334,
          14.683333333333334,
          9.016666666666667,
          12.016666666666667,
          13.85,
          14.9,
          40.55,
          20.2,
          31.666666666666668,
          26.066666666666666,
          10.933333333333334,
          8.166666666666666,
          12.783333333333333,
          11.1,
          4.283333333333333,
          50.75,
          23.366666666666667,
          13.483333333333333,
          17.716666666666665,
          6.433333333333334,
          43.233333333333334,
          6.883333333333334,
          12.283333333333333,
          3.45,
          20.616666666666667,
          14.816666666666666,
          4.35,
          9.683333333333334,
          13.266666666666667,
          12.733333333333333,
          4.416666666666667,
          7.133333333333334,
          22.716666666666665,
          10.566666666666666,
          25.266666666666666,
          17.566666666666666,
          9.35,
          15.1,
          15.45,
          4.25,
          21.233333333333334,
          18.566666666666666,
          21.566666666666666,
          21.433333333333334,
          21.583333333333332,
          26.283333333333335,
          16.483333333333334,
          25.866666666666667,
          9.45,
          19.4,
          30.7,
          38.28333333333333,
          10.716666666666667,
          6.85,
          39.38333333333333,
          9.25,
          31.616666666666667,
          31.833333333333332,
          19.95,
          20.483333333333334,
          4.816666666666666,
          16.916666666666668,
          43.88333333333333,
          16.766666666666666,
          5.083333333333333,
          44.68333333333333,
          19.283333333333335,
          7.383333333333334,
          7.5,
          34.75,
          31.233333333333334,
          33.55,
          10.4,
          12.816666666666666,
          3.8,
          4.2,
          5.666666666666667
         ],
         "xaxis": "x",
         "xbins": {
          "end": 58.833333333333336,
          "size": 2,
          "start": 2.033333333333333
         },
         "yaxis": "y"
        },
        {
         "legendgroup": "DurationMin",
         "marker": {
          "color": "rgb(31, 119, 180)"
         },
         "mode": "lines",
         "name": "DurationMin",
         "showlegend": false,
         "type": "scatter",
         "x": [
          2.033333333333333,
          2.146933333333333,
          2.260533333333333,
          2.374133333333333,
          2.4877333333333334,
          2.6013333333333333,
          2.714933333333333,
          2.828533333333333,
          2.9421333333333335,
          3.0557333333333334,
          3.1693333333333333,
          3.2829333333333333,
          3.396533333333333,
          3.510133333333333,
          3.623733333333333,
          3.7373333333333334,
          3.8509333333333333,
          3.9645333333333332,
          4.078133333333334,
          4.1917333333333335,
          4.3053333333333335,
          4.418933333333333,
          4.532533333333333,
          4.646133333333333,
          4.759733333333333,
          4.873333333333333,
          4.986933333333333,
          5.100533333333333,
          5.214133333333333,
          5.327733333333333,
          5.441333333333334,
          5.5549333333333335,
          5.668533333333333,
          5.782133333333333,
          5.895733333333333,
          6.009333333333334,
          6.122933333333334,
          6.236533333333334,
          6.350133333333333,
          6.463733333333334,
          6.577333333333333,
          6.690933333333334,
          6.8045333333333335,
          6.9181333333333335,
          7.031733333333333,
          7.145333333333333,
          7.258933333333333,
          7.372533333333334,
          7.486133333333333,
          7.599733333333334,
          7.713333333333333,
          7.826933333333334,
          7.940533333333334,
          8.054133333333333,
          8.167733333333334,
          8.281333333333334,
          8.394933333333334,
          8.508533333333334,
          8.622133333333334,
          8.735733333333334,
          8.849333333333334,
          8.962933333333334,
          9.076533333333334,
          9.190133333333334,
          9.303733333333334,
          9.417333333333335,
          9.530933333333333,
          9.644533333333335,
          9.758133333333333,
          9.871733333333335,
          9.985333333333333,
          10.098933333333333,
          10.212533333333335,
          10.326133333333335,
          10.439733333333335,
          10.553333333333333,
          10.666933333333333,
          10.780533333333334,
          10.894133333333334,
          11.007733333333334,
          11.121333333333332,
          11.234933333333334,
          11.348533333333334,
          11.462133333333334,
          11.575733333333334,
          11.689333333333334,
          11.802933333333334,
          11.916533333333334,
          12.030133333333334,
          12.143733333333335,
          12.257333333333333,
          12.370933333333333,
          12.484533333333333,
          12.598133333333335,
          12.711733333333335,
          12.825333333333333,
          12.938933333333333,
          13.052533333333335,
          13.166133333333335,
          13.279733333333334,
          13.393333333333333,
          13.506933333333334,
          13.620533333333334,
          13.734133333333334,
          13.847733333333334,
          13.961333333333334,
          14.074933333333334,
          14.188533333333334,
          14.302133333333334,
          14.415733333333336,
          14.529333333333335,
          14.642933333333334,
          14.756533333333334,
          14.870133333333333,
          14.983733333333335,
          15.097333333333335,
          15.210933333333333,
          15.324533333333333,
          15.438133333333335,
          15.551733333333335,
          15.665333333333335,
          15.778933333333333,
          15.892533333333335,
          16.006133333333334,
          16.119733333333336,
          16.233333333333334,
          16.346933333333332,
          16.460533333333334,
          16.574133333333336,
          16.687733333333334,
          16.801333333333336,
          16.914933333333334,
          17.028533333333336,
          17.142133333333334,
          17.255733333333335,
          17.369333333333337,
          17.482933333333335,
          17.596533333333333,
          17.710133333333335,
          17.823733333333337,
          17.937333333333335,
          18.050933333333333,
          18.16453333333333,
          18.278133333333336,
          18.391733333333335,
          18.505333333333333,
          18.618933333333338,
          18.732533333333336,
          18.846133333333334,
          18.959733333333332,
          19.07333333333333,
          19.186933333333336,
          19.300533333333334,
          19.41413333333334,
          19.527733333333337,
          19.641333333333336,
          19.754933333333334,
          19.868533333333332,
          19.982133333333337,
          20.095733333333335,
          20.209333333333333,
          20.32293333333334,
          20.436533333333337,
          20.550133333333335,
          20.663733333333333,
          20.77733333333333,
          20.890933333333336,
          21.004533333333335,
          21.118133333333333,
          21.231733333333338,
          21.345333333333336,
          21.458933333333334,
          21.572533333333332,
          21.686133333333338,
          21.799733333333336,
          21.913333333333334,
          22.026933333333332,
          22.140533333333337,
          22.254133333333336,
          22.367733333333334,
          22.481333333333332,
          22.594933333333337,
          22.708533333333335,
          22.822133333333333,
          22.93573333333333,
          23.04933333333333,
          23.162933333333335,
          23.276533333333333,
          23.39013333333334,
          23.503733333333336,
          23.617333333333335,
          23.730933333333333,
          23.84453333333333,
          23.958133333333336,
          24.071733333333334,
          24.185333333333332,
          24.298933333333338,
          24.412533333333336,
          24.526133333333334,
          24.639733333333332,
          24.75333333333333,
          24.866933333333336,
          24.980533333333334,
          25.09413333333334,
          25.207733333333337,
          25.321333333333335,
          25.434933333333333,
          25.54853333333333,
          25.662133333333337,
          25.775733333333335,
          25.889333333333333,
          26.00293333333334,
          26.116533333333336,
          26.230133333333335,
          26.343733333333333,
          26.457333333333338,
          26.570933333333336,
          26.684533333333334,
          26.79813333333334,
          26.911733333333338,
          27.025333333333336,
          27.138933333333334,
          27.252533333333332,
          27.366133333333337,
          27.479733333333336,
          27.593333333333334,
          27.706933333333332,
          27.820533333333337,
          27.934133333333335,
          28.047733333333333,
          28.16133333333334,
          28.274933333333337,
          28.388533333333335,
          28.502133333333333,
          28.61573333333333,
          28.729333333333336,
          28.842933333333335,
          28.956533333333333,
          29.070133333333338,
          29.183733333333336,
          29.297333333333334,
          29.410933333333332,
          29.52453333333333,
          29.638133333333336,
          29.751733333333334,
          29.86533333333334,
          29.978933333333337,
          30.092533333333336,
          30.206133333333334,
          30.319733333333332,
          30.433333333333337,
          30.546933333333335,
          30.660533333333333,
          30.77413333333334,
          30.887733333333337,
          31.001333333333335,
          31.114933333333333,
          31.22853333333333,
          31.342133333333337,
          31.455733333333335,
          31.56933333333334,
          31.682933333333338,
          31.796533333333336,
          31.910133333333334,
          32.02373333333333,
          32.13733333333334,
          32.250933333333336,
          32.364533333333334,
          32.47813333333334,
          32.59173333333334,
          32.705333333333336,
          32.818933333333334,
          32.93253333333333,
          33.04613333333334,
          33.159733333333335,
          33.27333333333333,
          33.38693333333334,
          33.50053333333334,
          33.614133333333335,
          33.72773333333333,
          33.84133333333334,
          33.95493333333334,
          34.068533333333335,
          34.18213333333333,
          34.29573333333333,
          34.409333333333336,
          34.522933333333334,
          34.63653333333333,
          34.75013333333334,
          34.863733333333336,
          34.977333333333334,
          35.09093333333334,
          35.20453333333334,
          35.318133333333336,
          35.431733333333334,
          35.54533333333333,
          35.65893333333334,
          35.772533333333335,
          35.88613333333333,
          35.99973333333333,
          36.11333333333333,
          36.226933333333335,
          36.34053333333333,
          36.45413333333333,
          36.56773333333333,
          36.681333333333335,
          36.79493333333334,
          36.90853333333334,
          37.022133333333336,
          37.135733333333334,
          37.24933333333333,
          37.36293333333334,
          37.476533333333336,
          37.590133333333334,
          37.70373333333333,
          37.81733333333333,
          37.930933333333336,
          38.044533333333334,
          38.15813333333333,
          38.27173333333333,
          38.38533333333333,
          38.49893333333334,
          38.61253333333334,
          38.72613333333334,
          38.839733333333335,
          38.95333333333333,
          39.06693333333334,
          39.18053333333334,
          39.294133333333335,
          39.40773333333333,
          39.52133333333333,
          39.634933333333336,
          39.748533333333334,
          39.86213333333333,
          39.97573333333333,
          40.08933333333333,
          40.202933333333334,
          40.31653333333334,
          40.43013333333334,
          40.543733333333336,
          40.657333333333334,
          40.77093333333334,
          40.88453333333334,
          40.998133333333335,
          41.11173333333333,
          41.22533333333333,
          41.33893333333334,
          41.452533333333335,
          41.56613333333333,
          41.67973333333333,
          41.79333333333333,
          41.906933333333335,
          42.02053333333333,
          42.13413333333333,
          42.247733333333336,
          42.361333333333334,
          42.47493333333334,
          42.58853333333334,
          42.702133333333336,
          42.815733333333334,
          42.92933333333333,
          43.04293333333334,
          43.156533333333336,
          43.270133333333334,
          43.38373333333333,
          43.49733333333333,
          43.610933333333335,
          43.72453333333333,
          43.83813333333333,
          43.95173333333333,
          44.06533333333333,
          44.17893333333334,
          44.29253333333334,
          44.40613333333334,
          44.519733333333335,
          44.63333333333333,
          44.74693333333334,
          44.860533333333336,
          44.974133333333334,
          45.08773333333333,
          45.20133333333333,
          45.314933333333336,
          45.428533333333334,
          45.54213333333333,
          45.65573333333333,
          45.76933333333333,
          45.882933333333334,
          45.99653333333334,
          46.11013333333334,
          46.223733333333335,
          46.33733333333333,
          46.45093333333334,
          46.56453333333334,
          46.678133333333335,
          46.79173333333333,
          46.90533333333333,
          47.01893333333334,
          47.132533333333335,
          47.24613333333333,
          47.35973333333333,
          47.47333333333333,
          47.586933333333334,
          47.70053333333333,
          47.81413333333334,
          47.927733333333336,
          48.041333333333334,
          48.15493333333334,
          48.26853333333334,
          48.382133333333336,
          48.495733333333334,
          48.60933333333333,
          48.72293333333334,
          48.836533333333335,
          48.95013333333333,
          49.06373333333333,
          49.17733333333333,
          49.290933333333335,
          49.40453333333333,
          49.51813333333333,
          49.63173333333333,
          49.745333333333335,
          49.85893333333334,
          49.97253333333334,
          50.086133333333336,
          50.199733333333334,
          50.31333333333333,
          50.42693333333334,
          50.540533333333336,
          50.654133333333334,
          50.76773333333333,
          50.88133333333334,
          50.994933333333336,
          51.108533333333334,
          51.22213333333333,
          51.33573333333333,
          51.449333333333335,
          51.56293333333334,
          51.67653333333334,
          51.79013333333334,
          51.903733333333335,
          52.01733333333334,
          52.13093333333334,
          52.24453333333334,
          52.358133333333335,
          52.47173333333333,
          52.58533333333334,
          52.698933333333336,
          52.812533333333334,
          52.92613333333333,
          53.03973333333333,
          53.153333333333336,
          53.266933333333334,
          53.38053333333333,
          53.49413333333334,
          53.607733333333336,
          53.72133333333334,
          53.83493333333334,
          53.94853333333334,
          54.062133333333335,
          54.17573333333333,
          54.28933333333334,
          54.40293333333334,
          54.516533333333335,
          54.63013333333333,
          54.74373333333333,
          54.85733333333334,
          54.970933333333335,
          55.08453333333333,
          55.19813333333333,
          55.311733333333336,
          55.42533333333334,
          55.53893333333334,
          55.65253333333334,
          55.766133333333336,
          55.879733333333334,
          55.99333333333334,
          56.10693333333334,
          56.220533333333336,
          56.334133333333334,
          56.44773333333333,
          56.56133333333334,
          56.674933333333335,
          56.78853333333333,
          56.90213333333333,
          57.01573333333333,
          57.12933333333334,
          57.24293333333334,
          57.35653333333334,
          57.47013333333334,
          57.583733333333335,
          57.69733333333334,
          57.81093333333334,
          57.924533333333336,
          58.038133333333334,
          58.15173333333333,
          58.26533333333334,
          58.378933333333336,
          58.492533333333334,
          58.60613333333333,
          58.71973333333333
         ],
         "xaxis": "x",
         "y": [
          0.013024644579813486,
          0.013812551111831314,
          0.014623618214594175,
          0.015456734131075858,
          0.016310673234782046,
          0.017184102806496435,
          0.018075590908994688,
          0.018983615275310513,
          0.019906573109429997,
          0.020842791683073743,
          0.021790539598845964,
          0.02274803857877494,
          0.023713475628412636,
          0.024685015420402738,
          0.025660812737926614,
          0.026639024817783224,
          0.027617823435094092,
          0.02859540657669621,
          0.029570009558116575,
          0.03053991544942983,
          0.031503464688085486,
          0.03245906377165831,
          0.033405192940130654,
          0.03434041277537227,
          0.035263369664579554,
          0.0361728000941461,
          0.03706753376035589,
          0.03794649550299861,
          0.03880870608709999,
          0.039653281876069355,
          0.040479433456317805,
          0.041286463288512855,
          0.0420737624738191,
          0.04284080673452823,
          0.04358715171724919,
          0.04431242773320055,
          0.045016334054092756,
          0.045698632883615836,
          0.04635914312372939,
          0.046997734051915645,
          0.04761431902045971,
          0.04820884928188121,
          0.048781308036086705,
          0.04933170478492505,
          0.04986007006885634,
          0.05036645064872579,
          0.05085090518340534,
          0.05131350044165111,
          0.05175430807418382,
          0.0521734019599622,
          0.05257085612915685,
          0.05294674325458883,
          0.053301133693599026,
          0.0536340950535385,
          0.0539456922464662,
          0.054235987992238846,
          0.054505043724039484,
          0.05475292084649684,
          0.054979682293889026,
          0.0551853943344492,
          0.05537012856640778,
          0.05553396405205754,
          0.05567698953767869,
          0.05579930570951093,
          0.05590102743899049,
          0.05598228597403866,
          0.05604323103718817,
          0.05608403279562958,
          0.0561048836727366,
          0.056105999975174375,
          0.056087623314213485,
          0.05605002180425742,
          0.055993491025790286,
          0.05591835474385927,
          0.05582496537680923,
          0.05571370421321672,
          0.055584981377807215,
          0.055439235549569366,
          0.05527693343731354,
          0.05509856901953787,
          0.05490466255672289,
          0.054695759385084156,
          0.054472428501411756,
          0.05423526094898944,
          0.053984868014729216,
          0.053721879247685955,
          0.05344694030905636,
          0.0531607106636971,
          0.052863861123187916,
          0.05255707125055184,
          0.05224102663700821,
          0.05191641606159987,
          0.051583928545241374,
          0.051244250311723444,
          0.05089806166946292,
          0.050546033829332385,
          0.05018882567570116,
          0.04982708050985566,
          0.04946142278717767,
          0.0490924548718014,
          0.04872075383485402,
          0.048346868324739625,
          0.04797131554015117,
          0.04759457833849361,
          0.047217102514074155,
          0.04683929428166142,
          0.04646151800172803,
          0.046084094183811944,
          0.04570729780383445,
          0.04533135696989198,
          0.04495645196890568,
          0.04458271472356274,
          0.04421022868522495,
          0.043839029183905365,
          0.043469104251107574,
          0.043100395925324386,
          0.042732802043418665,
          0.04236617851405883,
          0.04200034206201063,
          0.04163507342451454,
          0.041270120973409645,
          0.040905204729220775,
          0.04054002072632516,
          0.04017424568168994,
          0.03980754191371453,
          0.03943956245255326,
          0.03906995627907941,
          0.03869837362649167,
          0.03832447127655129,
          0.037947917781626886,
          0.037568398544163314,
          0.03718562068686764,
          0.03679931764980476,
          0.03640925345465984,
          0.03601522658155851,
          0.035617073409949386,
          0.03521467118199256,
          0.03480794045452176,
          0.03439684701379677,
          0.03398140323573787,
          0.03356166888298289,
          0.033137751338724535,
          0.03270980528570814,
          0.03227803184682479,
          0.03184267721126897,
          0.03140403077710567,
          0.03096242284719432,
          0.030518221920649055,
          0.030071831626305293,
          0.029623687347972147,
          0.029174252593547226,
          0.028724015161372556,
          0.02827348315752841,
          0.027823180917162325,
          0.027373644881479316,
          0.02692541947978171,
          0.026479053063013198,
          0.026035093931764283,
          0.02559408649771716,
          0.025156567613185417,
          0.02472306309883445,
          0.024294084494967647,
          0.023870126057036475,
          0.023451662011367138,
          0.023039144082587355,
          0.02263299929994696,
          0.02223362808572459,
          0.021841402625243016,
          0.02145666551471366,
          0.02107972868022187,
          0.020710872558657,
          0.020350345529284407,
          0.019998363582950464,
          0.01965511021457431,
          0.019320736523604852,
          0.018995361506470472,
          0.018679072524691493,
          0.01837192593223429,
          0.01807394784582161,
          0.017785135042245916,
          0.01750545596722939,
          0.017234851841005826,
          0.016973237846538394,
          0.01672050438711126,
          0.016476518400919835,
          0.016241124721214285,
          0.01601414747151189,
          0.015795391486369936,
          0.015584643749189102,
          0.015381674839492489,
          0.015186240383079178,
          0.014998082499385163,
          0.014816931241276006,
          0.01464250602334786,
          0.014474517035604822,
          0.014312666640106062,
          0.014156650748822703,
          0.01400616018149962,
          0.013860882002767997,
          0.013720500838093553,
          0.013584700168359196,
          0.013453163602963154,
          0.01332557613126005,
          0.013201625351979964,
          0.013081002679931463,
          0.012963404528836623,
          0.012848533468567968,
          0.012736099354378387,
          0.012625820424953577,
          0.01251742436530021,
          0.012410649329639324,
          0.012305244918641225,
          0.012200973104545008,
          0.012097609096994326,
          0.011994942141829543,
          0.011892776244635455,
          0.011790930810592381,
          0.011689241192143424,
          0.01158755913619537,
          0.011485753123032048,
          0.011383708589847047,
          0.011281328032795987,
          0.011178530982718494,
          0.01107525385116903,
          0.010971449645094423,
          0.010867087550367322,
          0.010762152386387851,
          0.010656643936043217,
          0.010550576157417297,
          0.010443976285703904,
          0.010336883835743453,
          0.010229349517407385,
          0.010121434077647404,
          0.010013207084350991,
          0.00990474566816009,
          0.00979613323907842,
          0.009687458194993379,
          0.009578812639154015,
          0.009470291123179375,
          0.00936198943133275,
          0.00925400342060958,
          0.009146427929687907,
          0.00903935576802474,
          0.008932876794404524,
          0.008827077092119273,
          0.008722038245748713,
          0.008617836722283705,
          0.008514543357161767,
          0.008412222943728589,
          0.00831093392276056,
          0.008210728167035435,
          0.008111650854563002,
          0.008013740423016322,
          0.007917028597159242,
          0.007821540480651782,
          0.0077272947035280344,
          0.0076343036168632075,
          0.007542573526647042,
          0.00745210495962115,
          0.007362892954770236,
          0.007274927375225266,
          0.007188193236483694,
          0.00710267104801733,
          0.00701833716646118,
          0.006935164159603222,
          0.00685312118127252,
          0.006772174357910633,
          0.0066922871880732175,
          0.00661342095632489,
          0.006535535162946577,
          0.006458587970574126,
          0.006382536668340783,
          0.006307338153328784,
          0.006232949428181161,
          0.006159328112626646,
          0.006086432965478733,
          0.006014224412440187,
          0.005942665073833328,
          0.005871720285244401,
          0.005801358603073337,
          0.005731552286169273,
          0.005662277744156085,
          0.005593515942746289,
          0.00552525275633634,
          0.005457479258487389,
          0.005390191941530356,
          0.005323392857485898,
          0.005257089673740828,
          0.005191295638444768,
          0.00512602945234417,
          0.005061315045708763,
          0.0049971812610720215,
          0.004933661444643693,
          0.004870792951393726,
          0.004808616570891171,
          0.004747175882944381,
          0.00468651655387068,
          0.004626685585771951,
          0.004567730532457955,
          0.00450969869660563,
          0.004452636323339151,
          0.004396587805645906,
          0.004341594916899426,
          0.004287696085246124,
          0.004234925723743165,
          0.004183313628934438,
          0.00413288445905469,
          0.0040836573012996745,
          0.004035645335641539,
          0.0039888556005557825,
          0.003943288863815407,
          0.0038989395992567698,
          0.00385579606818635,
          0.0038138405019335635,
          0.003773049380013001,
          0.003733393796485732,
          0.003694839905444802,
          0.003657349435127618,
          0.00362088025900354,
          0.0035853870113173956,
          0.003550821733998437,
          0.0035171345415724,
          0.003484274290737235,
          0.0034521892415684393,
          0.0034208276978909533,
          0.0033901386151675024,
          0.003360072165281341,
          0.0033305802488036887,
          0.003301616946699513,
          0.0032731389049053226,
          0.0032451056467738314,
          0.003217479809988005,
          0.003190227306166772,
          0.003163317402984372,
          0.003136722730174512,
          0.003110419212261259,
          0.0030843859322263545,
          0.003058604931565375,
          0.0030330609532842378,
          0.0030077411353284103,
          0.002982634662707558,
          0.002957732387170057,
          0.0029330264236901815,
          0.002908509733253685,
          0.002884175701466532,
          0.002860017722371512,
          0.0028360287965449944,
          0.002812201152072112,
          0.00278852589637509,
          0.00276499270611177,
          0.0027415895614861904,
          0.0027183025303395883,
          0.002695115606338437,
          0.0026720106044678753,
          0.0026489671158960422,
          0.002625962523120303,
          0.0026029720751625353,
          0.0025799690214692427,
          0.0025569248021145518,
          0.002533809290919295,
          0.002510591087204764,
          0.0024872378511107194,
          0.002463716676736033,
          0.002439994496816392,
          0.002416038512242972,
          0.002391816639451903,
          0.0023672979685757578,
          0.0023424532252420624,
          0.0023172552290222667,
          0.0022916793417686017,
          0.002265703899413335,
          0.002239310621230653,
          0.002212484991060659,
          0.002185216605550278,
          0.00215749948506114,
          0.002129332343512115,
          0.002100718814048867,
          0.0020716676280495973,
          0.002042192745572513,
          0.002012313435915799,
          0.0019820543074870445,
          0.0019514452866609554,
          0.00192052154573893,
          0.0018893233805120267,
          0.001857896038272833,
          0.0018262894974262818,
          0.0017945582001217457,
          0.0017627607395770946,
          0.0017309595039985692,
          0.0016992202792282067,
          0.0016676118124823414,
          0.0016362053397884937,
          0.0016050740799911755,
          0.0015742926984847988,
          0.0015439367441467673,
          0.0015140820632865266,
          0.0014848041947942011,
          0.0014561777510602913,
          0.0014282757896376332,
          0.0014011691810178963,
          0.0013749259782840939,
          0.0013496107947636754,
          0.0013252841961271463,
          0.001302002113638465,
          0.0012798152854489435,
          0.001258768732919623,
          0.0012389012789440319,
          0.001220245115110757,
          0.0012028254242838993,
          0.0011866600647824192,
          0.0011717593218040136,
          0.0011581257310661773,
          0.0011457539788325415,
          0.0011346308815653146,
          0.0011247354474090364,
          0.001116039020584067,
          0.001108505508571449,
          0.0011020916907278295,
          0.0010967476057061418,
          0.0010924170138021517,
          0.0010890379291270992,
          0.001086543215350331,
          0.0010848612376900045,
          0.001083916562879619,
          0.0010836306980256585,
          0.0010839228586159732,
          0.0010847107554549061,
          0.0010859113900002716,
          0.001087441847465326,
          0.0010892200771273096,
          0.001091165649549569,
          0.0010932004808690192,
          0.001095249514912553,
          0.001097241354669293,
          0.0010991088355412502,
          0.0011007895338015026,
          0.0011022262047830527,
          0.0011033671464787394,
          0.001104166485428052,
          0.0011045843829761979,
          0.0011045871611908614,
          0.00110414734889109,
          0.0011032436493611153,
          0.001101860832372511,
          0.0010999895541067314,
          0.0010976261094453154,
          0.0010947721218685126,
          0.0010914341768692988,
          0.0010876234053458136,
          0.0010833550238807971,
          0.0010786478391532984,
          0.0010735237239592396,
          0.0010680070724480263,
          0.0010621242422180863,
          0.0010559029908611512,
          0.0010493719144098398,
          0.0010425598949320388,
          0.001035495564234879,
          0.0010282067902965203,
          0.00102072019264063,
          0.001013060692411216,
          0.0010052511023984404,
          0.0009973117617132286,
          0.0009892602192136002,
          0.0009811109691523078,
          0.0009728752418476622,
          0.0009645608514815196,
          0.0009561721024052553,
          0.0009477097545918721,
          0.0009391710481164575,
          0.0009305497857855942,
          0.0009218364722771862,
          0.0009130185074046187,
          0.0009040804303930984,
          0.0008950042113617631,
          0.0008857695855534487,
          0.0008763544252556434,
          0.000866735143821695,
          0.0008568871257408875,
          0.0008467851763286718,
          0.0008364039843223959,
          0.0008257185904798852,
          0.0008147048551933879,
          0.00080333991815291,
          0.0007916026432220829,
          0.0007794740419257604,
          0.000766937669288512,
          0.0007539799862021758,
          0.0007405906830318454,
          0.000726762959784011,
          0.0007124937588479004,
          0.0006977839470693564,
          0.0006826384447126571,
          0.0006670662996957747,
          0.000651080706333941,
          0.000634698968680166,
          0.0006179424093948773,
          0.0006008362258953001,
          0.000583409296314934,
          0.0005656939385313148
         ],
         "yaxis": "y"
        }
       ],
       "layout": {
        "annotations": [
         {
          "arrowhead": 4,
          "ax": 0,
          "ay": -40,
          "showarrow": false,
          "text": "Average: 15.11",
          "x": 15.106901615271658,
          "xref": "x",
          "y": 1.08,
          "yref": "paper"
         },
         {
          "arrowhead": 4,
          "ax": 0,
          "ay": -40,
          "showarrow": false,
          "text": "Median: 12.72",
          "x": 12.725,
          "xref": "x",
          "y": 1.13,
          "yref": "paper"
         }
        ],
        "barmode": "overlay",
        "hovermode": "closest",
        "legend": {
         "traceorder": "reversed"
        },
        "shapes": [
         {
          "line": {
           "color": "red",
           "dash": "dash",
           "width": 2
          },
          "name": "Average: 15.11",
          "type": "line",
          "x0": 15.106901615271658,
          "x1": 15.106901615271658,
          "xref": "x",
          "y0": 0,
          "y1": 1,
          "yref": "paper"
         },
         {
          "line": {
           "color": "green",
           "dash": "dash",
           "width": 2
          },
          "name": "Median: 12.72",
          "type": "line",
          "x0": 12.725,
          "x1": 12.725,
          "xref": "x",
          "y0": 0,
          "y1": 1,
          "yref": "paper"
         }
        ],
        "template": {
         "data": {
          "bar": [
           {
            "error_x": {
             "color": "#2a3f5f"
            },
            "error_y": {
             "color": "#2a3f5f"
            },
            "marker": {
             "line": {
              "color": "#E5ECF6",
              "width": 0.5
             },
             "pattern": {
              "fillmode": "overlay",
              "size": 10,
              "solidity": 0.2
             }
            },
            "type": "bar"
           }
          ],
          "barpolar": [
           {
            "marker": {
             "line": {
              "color": "#E5ECF6",
              "width": 0.5
             },
             "pattern": {
              "fillmode": "overlay",
              "size": 10,
              "solidity": 0.2
             }
            },
            "type": "barpolar"
           }
          ],
          "carpet": [
           {
            "aaxis": {
             "endlinecolor": "#2a3f5f",
             "gridcolor": "white",
             "linecolor": "white",
             "minorgridcolor": "white",
             "startlinecolor": "#2a3f5f"
            },
            "baxis": {
             "endlinecolor": "#2a3f5f",
             "gridcolor": "white",
             "linecolor": "white",
             "minorgridcolor": "white",
             "startlinecolor": "#2a3f5f"
            },
            "type": "carpet"
           }
          ],
          "choropleth": [
           {
            "colorbar": {
             "outlinewidth": 0,
             "ticks": ""
            },
            "type": "choropleth"
           }
          ],
          "contour": [
           {
            "colorbar": {
             "outlinewidth": 0,
             "ticks": ""
            },
            "colorscale": [
             [
              0,
              "#0d0887"
             ],
             [
              0.1111111111111111,
              "#46039f"
             ],
             [
              0.2222222222222222,
              "#7201a8"
             ],
             [
              0.3333333333333333,
              "#9c179e"
             ],
             [
              0.4444444444444444,
              "#bd3786"
             ],
             [
              0.5555555555555556,
              "#d8576b"
             ],
             [
              0.6666666666666666,
              "#ed7953"
             ],
             [
              0.7777777777777778,
              "#fb9f3a"
             ],
             [
              0.8888888888888888,
              "#fdca26"
             ],
             [
              1,
              "#f0f921"
             ]
            ],
            "type": "contour"
           }
          ],
          "contourcarpet": [
           {
            "colorbar": {
             "outlinewidth": 0,
             "ticks": ""
            },
            "type": "contourcarpet"
           }
          ],
          "heatmap": [
           {
            "colorbar": {
             "outlinewidth": 0,
             "ticks": ""
            },
            "colorscale": [
             [
              0,
              "#0d0887"
             ],
             [
              0.1111111111111111,
              "#46039f"
             ],
             [
              0.2222222222222222,
              "#7201a8"
             ],
             [
              0.3333333333333333,
              "#9c179e"
             ],
             [
              0.4444444444444444,
              "#bd3786"
             ],
             [
              0.5555555555555556,
              "#d8576b"
             ],
             [
              0.6666666666666666,
              "#ed7953"
             ],
             [
              0.7777777777777778,
              "#fb9f3a"
             ],
             [
              0.8888888888888888,
              "#fdca26"
             ],
             [
              1,
              "#f0f921"
             ]
            ],
            "type": "heatmap"
           }
          ],
          "heatmapgl": [
           {
            "colorbar": {
             "outlinewidth": 0,
             "ticks": ""
            },
            "colorscale": [
             [
              0,
              "#0d0887"
             ],
             [
              0.1111111111111111,
              "#46039f"
             ],
             [
              0.2222222222222222,
              "#7201a8"
             ],
             [
              0.3333333333333333,
              "#9c179e"
             ],
             [
              0.4444444444444444,
              "#bd3786"
             ],
             [
              0.5555555555555556,
              "#d8576b"
             ],
             [
              0.6666666666666666,
              "#ed7953"
             ],
             [
              0.7777777777777778,
              "#fb9f3a"
             ],
             [
              0.8888888888888888,
              "#fdca26"
             ],
             [
              1,
              "#f0f921"
             ]
            ],
            "type": "heatmapgl"
           }
          ],
          "histogram": [
           {
            "marker": {
             "pattern": {
              "fillmode": "overlay",
              "size": 10,
              "solidity": 0.2
             }
            },
            "type": "histogram"
           }
          ],
          "histogram2d": [
           {
            "colorbar": {
             "outlinewidth": 0,
             "ticks": ""
            },
            "colorscale": [
             [
              0,
              "#0d0887"
             ],
             [
              0.1111111111111111,
              "#46039f"
             ],
             [
              0.2222222222222222,
              "#7201a8"
             ],
             [
              0.3333333333333333,
              "#9c179e"
             ],
             [
              0.4444444444444444,
              "#bd3786"
             ],
             [
              0.5555555555555556,
              "#d8576b"
             ],
             [
              0.6666666666666666,
              "#ed7953"
             ],
             [
              0.7777777777777778,
              "#fb9f3a"
             ],
             [
              0.8888888888888888,
              "#fdca26"
             ],
             [
              1,
              "#f0f921"
             ]
            ],
            "type": "histogram2d"
           }
          ],
          "histogram2dcontour": [
           {
            "colorbar": {
             "outlinewidth": 0,
             "ticks": ""
            },
            "colorscale": [
             [
              0,
              "#0d0887"
             ],
             [
              0.1111111111111111,
              "#46039f"
             ],
             [
              0.2222222222222222,
              "#7201a8"
             ],
             [
              0.3333333333333333,
              "#9c179e"
             ],
             [
              0.4444444444444444,
              "#bd3786"
             ],
             [
              0.5555555555555556,
              "#d8576b"
             ],
             [
              0.6666666666666666,
              "#ed7953"
             ],
             [
              0.7777777777777778,
              "#fb9f3a"
             ],
             [
              0.8888888888888888,
              "#fdca26"
             ],
             [
              1,
              "#f0f921"
             ]
            ],
            "type": "histogram2dcontour"
           }
          ],
          "mesh3d": [
           {
            "colorbar": {
             "outlinewidth": 0,
             "ticks": ""
            },
            "type": "mesh3d"
           }
          ],
          "parcoords": [
           {
            "line": {
             "colorbar": {
              "outlinewidth": 0,
              "ticks": ""
             }
            },
            "type": "parcoords"
           }
          ],
          "pie": [
           {
            "automargin": true,
            "type": "pie"
           }
          ],
          "scatter": [
           {
            "fillpattern": {
             "fillmode": "overlay",
             "size": 10,
             "solidity": 0.2
            },
            "type": "scatter"
           }
          ],
          "scatter3d": [
           {
            "line": {
             "colorbar": {
              "outlinewidth": 0,
              "ticks": ""
             }
            },
            "marker": {
             "colorbar": {
              "outlinewidth": 0,
              "ticks": ""
             }
            },
            "type": "scatter3d"
           }
          ],
          "scattercarpet": [
           {
            "marker": {
             "colorbar": {
              "outlinewidth": 0,
              "ticks": ""
             }
            },
            "type": "scattercarpet"
           }
          ],
          "scattergeo": [
           {
            "marker": {
             "colorbar": {
              "outlinewidth": 0,
              "ticks": ""
             }
            },
            "type": "scattergeo"
           }
          ],
          "scattergl": [
           {
            "marker": {
             "colorbar": {
              "outlinewidth": 0,
              "ticks": ""
             }
            },
            "type": "scattergl"
           }
          ],
          "scattermapbox": [
           {
            "marker": {
             "colorbar": {
              "outlinewidth": 0,
              "ticks": ""
             }
            },
            "type": "scattermapbox"
           }
          ],
          "scatterpolar": [
           {
            "marker": {
             "colorbar": {
              "outlinewidth": 0,
              "ticks": ""
             }
            },
            "type": "scatterpolar"
           }
          ],
          "scatterpolargl": [
           {
            "marker": {
             "colorbar": {
              "outlinewidth": 0,
              "ticks": ""
             }
            },
            "type": "scatterpolargl"
           }
          ],
          "scatterternary": [
           {
            "marker": {
             "colorbar": {
              "outlinewidth": 0,
              "ticks": ""
             }
            },
            "type": "scatterternary"
           }
          ],
          "surface": [
           {
            "colorbar": {
             "outlinewidth": 0,
             "ticks": ""
            },
            "colorscale": [
             [
              0,
              "#0d0887"
             ],
             [
              0.1111111111111111,
              "#46039f"
             ],
             [
              0.2222222222222222,
              "#7201a8"
             ],
             [
              0.3333333333333333,
              "#9c179e"
             ],
             [
              0.4444444444444444,
              "#bd3786"
             ],
             [
              0.5555555555555556,
              "#d8576b"
             ],
             [
              0.6666666666666666,
              "#ed7953"
             ],
             [
              0.7777777777777778,
              "#fb9f3a"
             ],
             [
              0.8888888888888888,
              "#fdca26"
             ],
             [
              1,
              "#f0f921"
             ]
            ],
            "type": "surface"
           }
          ],
          "table": [
           {
            "cells": {
             "fill": {
              "color": "#EBF0F8"
             },
             "line": {
              "color": "white"
             }
            },
            "header": {
             "fill": {
              "color": "#C8D4E3"
             },
             "line": {
              "color": "white"
             }
            },
            "type": "table"
           }
          ]
         },
         "layout": {
          "annotationdefaults": {
           "arrowcolor": "#2a3f5f",
           "arrowhead": 0,
           "arrowwidth": 1
          },
          "autotypenumbers": "strict",
          "coloraxis": {
           "colorbar": {
            "outlinewidth": 0,
            "ticks": ""
           }
          },
          "colorscale": {
           "diverging": [
            [
             0,
             "#8e0152"
            ],
            [
             0.1,
             "#c51b7d"
            ],
            [
             0.2,
             "#de77ae"
            ],
            [
             0.3,
             "#f1b6da"
            ],
            [
             0.4,
             "#fde0ef"
            ],
            [
             0.5,
             "#f7f7f7"
            ],
            [
             0.6,
             "#e6f5d0"
            ],
            [
             0.7,
             "#b8e186"
            ],
            [
             0.8,
             "#7fbc41"
            ],
            [
             0.9,
             "#4d9221"
            ],
            [
             1,
             "#276419"
            ]
           ],
           "sequential": [
            [
             0,
             "#0d0887"
            ],
            [
             0.1111111111111111,
             "#46039f"
            ],
            [
             0.2222222222222222,
             "#7201a8"
            ],
            [
             0.3333333333333333,
             "#9c179e"
            ],
            [
             0.4444444444444444,
             "#bd3786"
            ],
            [
             0.5555555555555556,
             "#d8576b"
            ],
            [
             0.6666666666666666,
             "#ed7953"
            ],
            [
             0.7777777777777778,
             "#fb9f3a"
            ],
            [
             0.8888888888888888,
             "#fdca26"
            ],
            [
             1,
             "#f0f921"
            ]
           ],
           "sequentialminus": [
            [
             0,
             "#0d0887"
            ],
            [
             0.1111111111111111,
             "#46039f"
            ],
            [
             0.2222222222222222,
             "#7201a8"
            ],
            [
             0.3333333333333333,
             "#9c179e"
            ],
            [
             0.4444444444444444,
             "#bd3786"
            ],
            [
             0.5555555555555556,
             "#d8576b"
            ],
            [
             0.6666666666666666,
             "#ed7953"
            ],
            [
             0.7777777777777778,
             "#fb9f3a"
            ],
            [
             0.8888888888888888,
             "#fdca26"
            ],
            [
             1,
             "#f0f921"
            ]
           ]
          },
          "colorway": [
           "#636efa",
           "#EF553B",
           "#00cc96",
           "#ab63fa",
           "#FFA15A",
           "#19d3f3",
           "#FF6692",
           "#B6E880",
           "#FF97FF",
           "#FECB52"
          ],
          "font": {
           "color": "#2a3f5f"
          },
          "geo": {
           "bgcolor": "white",
           "lakecolor": "white",
           "landcolor": "#E5ECF6",
           "showlakes": true,
           "showland": true,
           "subunitcolor": "white"
          },
          "hoverlabel": {
           "align": "left"
          },
          "hovermode": "closest",
          "mapbox": {
           "style": "light"
          },
          "paper_bgcolor": "white",
          "plot_bgcolor": "#E5ECF6",
          "polar": {
           "angularaxis": {
            "gridcolor": "white",
            "linecolor": "white",
            "ticks": ""
           },
           "bgcolor": "#E5ECF6",
           "radialaxis": {
            "gridcolor": "white",
            "linecolor": "white",
            "ticks": ""
           }
          },
          "scene": {
           "xaxis": {
            "backgroundcolor": "#E5ECF6",
            "gridcolor": "white",
            "gridwidth": 2,
            "linecolor": "white",
            "showbackground": true,
            "ticks": "",
            "zerolinecolor": "white"
           },
           "yaxis": {
            "backgroundcolor": "#E5ECF6",
            "gridcolor": "white",
            "gridwidth": 2,
            "linecolor": "white",
            "showbackground": true,
            "ticks": "",
            "zerolinecolor": "white"
           },
           "zaxis": {
            "backgroundcolor": "#E5ECF6",
            "gridcolor": "white",
            "gridwidth": 2,
            "linecolor": "white",
            "showbackground": true,
            "ticks": "",
            "zerolinecolor": "white"
           }
          },
          "shapedefaults": {
           "line": {
            "color": "#2a3f5f"
           }
          },
          "ternary": {
           "aaxis": {
            "gridcolor": "white",
            "linecolor": "white",
            "ticks": ""
           },
           "baxis": {
            "gridcolor": "white",
            "linecolor": "white",
            "ticks": ""
           },
           "bgcolor": "#E5ECF6",
           "caxis": {
            "gridcolor": "white",
            "linecolor": "white",
            "ticks": ""
           }
          },
          "title": {
           "x": 0.05
          },
          "xaxis": {
           "automargin": true,
           "gridcolor": "white",
           "linecolor": "white",
           "ticks": "",
           "title": {
            "standoff": 15
           },
           "zerolinecolor": "white",
           "zerolinewidth": 2
          },
          "yaxis": {
           "automargin": true,
           "gridcolor": "white",
           "linecolor": "white",
           "ticks": "",
           "title": {
            "standoff": 15
           },
           "zerolinecolor": "white",
           "zerolinewidth": 2
          }
         }
        },
        "title": {
         "text": "Fig B: Density plot of time spent for engaged"
        },
        "xaxis": {
         "anchor": "y2",
         "domain": [
          0,
          1
         ],
         "title": {
          "text": "Value"
         },
         "zeroline": false
        },
        "yaxis": {
         "anchor": "free",
         "domain": [
          0,
          1
         ],
         "position": 0,
         "title": {
          "text": "Density"
         }
        }
       }
      }
     },
     "metadata": {},
     "output_type": "display_data"
    }
   ],
   "source": [
    "\n",
    "import plotly.express as px\n",
    "import plotly.figure_factory as ff\n",
    "\n",
    "\n",
    "clean_data = pd.read_csv(OUT / \"data\" / \"data_clean.csv\")\n",
    "\n",
    "clean_data['DurationMin'] = clean_data['Duration (in seconds)'] / 60\n",
    "\n",
    "clean_data = clean_data[clean_data['DurationMin'] < 60]\n",
    "\n",
    "# Calculate the average and median\n",
    "average_duration = clean_data['DurationMin'].mean()\n",
    "median_duration = clean_data['DurationMin'].median()\n",
    "\n",
    "fig = ff.create_distplot([clean_data['DurationMin']], ['DurationMin'], show_curve=True, show_rug=False, bin_size=2.0)\n",
    "\n",
    "fig.add_shape(\n",
    "    type='line',\n",
    "    x0=average_duration,\n",
    "    x1=average_duration,\n",
    "    y0=0,\n",
    "    y1=1,\n",
    "    xref='x',\n",
    "    yref='paper',\n",
    "    line=dict(color='red', width=2, dash='dash'),\n",
    "    name=f'Average: {average_duration:.2f}'\n",
    ")\n",
    "\n",
    "fig.add_shape(\n",
    "    type='line',\n",
    "    x0=median_duration,\n",
    "    x1=median_duration,\n",
    "    y0=0,\n",
    "    y1=1,\n",
    "    xref='x',\n",
    "    yref='paper',\n",
    "    line=dict(color='green', width=2, dash='dash'),\n",
    "    name=f'Median: {median_duration:.2f}'\n",
    ")\n",
    "\n",
    "# Add labels for average and median values\n",
    "fig.add_annotation(\n",
    "    x=average_duration,\n",
    "    y=1.08,\n",
    "    xref='x',\n",
    "    yref='paper',\n",
    "    text=f'Average: {average_duration:.2f}',\n",
    "    showarrow=False,\n",
    "    arrowhead=4,\n",
    "    ax=0,\n",
    "    ay=-40\n",
    ")\n",
    "\n",
    "fig.add_annotation(\n",
    "    x=median_duration,\n",
    "    y=1.13,\n",
    "    xref='x',\n",
    "    yref='paper',\n",
    "    text=f'Median: {median_duration:.2f}',\n",
    "    showarrow=False,\n",
    "    arrowhead=4,\n",
    "    ax=0,\n",
    "    ay=-40\n",
    ")\n",
    "\n",
    "# Update the layout if needed\n",
    "fig.update_layout(\n",
    "    title='Density Plot with Smooth Line',\n",
    "    xaxis_title='Value',\n",
    "    yaxis_title='Density'\n",
    ")\n",
    "# Update the layout if needed\n",
    "fig.update_layout(title='Fig B: Density plot of time spent for engaged', xaxis_title='Value', yaxis_title='Density')\n",
    "\n",
    "\n",
    "# Show the plot\n",
    "fig.show()"
   ]
  },
  {
   "cell_type": "markdown",
   "metadata": {},
   "source": [
    "#### Word count"
   ]
  },
  {
   "cell_type": "code",
   "execution_count": 23,
   "metadata": {},
   "outputs": [
    {
     "data": {
      "text/plain": [
       "9.42580164056674"
      ]
     },
     "execution_count": 23,
     "metadata": {},
     "output_type": "execute_result"
    }
   ],
   "source": [
    "clean_data = pd.read_csv(IN / \"main_sample.csv\")\n",
    "\n",
    "clean_data = clean_data.drop([0, 1])\n",
    "\n",
    "clean_data[\"opinion_coal_ind\"]\n",
    "clean_data[\"feedback\"] = clean_data[\"feedback\"].fillna(' ')\n",
    "\n",
    "\n",
    "average_char = clean_data[\"feedback\"].str.len().mean()\n",
    "\n",
    "average_words = clean_data[\"feedback\"].str.split().apply(len).mean()\n",
    "\n",
    "\n",
    "average_words"
   ]
  },
  {
   "attachments": {},
   "cell_type": "markdown",
   "metadata": {},
   "source": [
    "#### Treatment"
   ]
  },
  {
   "cell_type": "code",
   "execution_count": 33,
   "metadata": {},
   "outputs": [],
   "source": [
    "import pandas as pd\n",
    "\n",
    "def attribute_support(df, attribute, categories, att_nr, group1, group2, dummy,extra=\"\"):\n",
    "    df = df.copy()\n",
    "\n",
    "    df_control = df[df[dummy] == 0]\n",
    "    df_treated = df[df[dummy] == 1]\n",
    "\n",
    "    df_treated = df_treated[[attribute, 'support']]\n",
    "    df_treated['support'] = df_treated['support'].astype(int)\n",
    "\n",
    "    support_control = {\"Attribute Level\": [], \"Value\": [], \"CI_lower\": [], \"CI_upper\": []}\n",
    "    \n",
    "    for cat in categories[::-1]:\n",
    "        group = df_control[df_control[attribute] == cat]\n",
    "        mean = group['support'].mean()\n",
    "        std_dev = group['support'].std()\n",
    "        n = len(group)\n",
    "        confidence_interval = 1.96 * (std_dev / (n**0.5))  # 95% confidence interval\n",
    "\n",
    "        support_control[\"Attribute Level\"].append(cat.replace('&', '<br>'))\n",
    "        support_control[\"Value\"].append(mean.round(2))\n",
    "        support_control[\"CI_lower\"].append((mean - confidence_interval).round(2))\n",
    "        support_control[\"CI_upper\"].append((mean + confidence_interval).round(2))\n",
    "\n",
    "    df_control = pd.DataFrame(support_control)\n",
    "\n",
    "    support_treated = {\"Attribute Level\": [], \"Value\": [], \"CI_lower\": [], \"CI_upper\": []}\n",
    "    \n",
    "    for cat in categories[::-1]:\n",
    "        group = df_treated[df_treated[attribute] == cat]\n",
    "        mean = group['support'].mean()\n",
    "        std_dev = group['support'].std()\n",
    "        n = len(group)\n",
    "        confidence_interval = 1.96 * (std_dev / (n**0.5))  # 95% confidence interval\n",
    "\n",
    "        support_treated[\"Attribute Level\"].append(cat.replace('&', '<br>'))\n",
    "        support_treated[\"Value\"].append(mean.round(2))\n",
    "        support_treated[\"CI_lower\"].append((mean - confidence_interval).round(2))\n",
    "        support_treated[\"CI_upper\"].append((mean + confidence_interval).round(2))\n",
    "\n",
    "    df_treated = pd.DataFrame(support_treated)\n",
    "\n",
    "    color_scale = [\"rgb(173, 221, 142)\", \"rgb(127, 188, 65)\", \"rgb(78, 139, 37)\", \"rgb(45, 82, 21)\", \"rgb(45, 82, 21)\", \"rgb(45, 82, 21)\",\"rgb(45, 82, 21)\"]\n",
    "\n",
    "    fig = go.Figure()\n",
    "\n",
    "    for i, row in df_control.iterrows():\n",
    "        fig.add_trace(go.Bar(\n",
    "            x=[row[\"Attribute Level\"]],\n",
    "            y=[row[\"Value\"]],\n",
    "            error_y=dict(\n",
    "                type='data',\n",
    "                array=[row[\"CI_upper\"] - row[\"Value\"]],\n",
    "                arrayminus=[row[\"Value\"] - row[\"CI_lower\"]],\n",
    "                visible=True\n",
    "            ),\n",
    "            marker_color=color_scale[i],\n",
    "            name=row[\"Attribute Level\"],\n",
    "            width=0.2\n",
    "        ))\n",
    "\n",
    "    color_scale = [\"rgb(221, 142, 142)\", \"rgb(188, 65, 65)\", \"rgb(139, 37, 37)\", \"rgb(82, 21, 21)\", \"rgb(82, 21, 21)\", \"rgb(82, 21, 21)\", \"rgb(82, 21, 21)\"]\n",
    "\n",
    "\n",
    "    for i, row in df_treated.iterrows():\n",
    "        fig.add_trace(go.Bar(\n",
    "            x=[row[\"Attribute Level\"]],\n",
    "            y=[row[\"Value\"]],\n",
    "            error_y=dict(\n",
    "                type='data',\n",
    "                array=[row[\"CI_upper\"] - row[\"Value\"]],\n",
    "                arrayminus=[row[\"Value\"] - row[\"CI_lower\"]],\n",
    "                visible=True\n",
    "            ),\n",
    "            marker_color=color_scale[i],\n",
    "            name=row[\"Attribute Level\"],\n",
    "            width=0.2\n",
    "        ))\n",
    "\n",
    "    \n",
    "\n",
    "    # Set y-axis range from 0 to 1\n",
    "    fig.update_layout(yaxis_range=[0, 1], xaxis_range=[-1,6], width=700, height=500)\n",
    "\n",
    "    # Add a horizontal line at y=0.5\n",
    "    fig.add_hline(y=0.5, line_dash=\"dash\")\n",
    "\n",
    "\n",
    "    fig.update_layout(barmode=\"group\", bargap=0.6)\n",
    "    \n",
    "    fig.update_layout(\n",
    "        title={\n",
    "            'text': f\"Fig {att_nr}: Att {att_nr} {extra}\",\n",
    "            'x': 0.5,\n",
    "            'xanchor': 'center',\n",
    "            'font': {'family': 'Computer Modern'}\n",
    "        },\n",
    "        margin=dict(l=20, r=20, t=45, b=5),\n",
    "        paper_bgcolor=\"#EADDCA\",\n",
    "        plot_bgcolor='rgba(0,0,0,0)',\n",
    "        showlegend=False,  # Show legend for different Attribute Levels\n",
    "        xaxis_showticklabels=True,\n",
    "        xaxis_title=None,\n",
    "    )\n",
    "\n",
    "    fig.add_annotation(\n",
    "            x=1.5,\n",
    "            y=0.95,\n",
    "            xref='x',\n",
    "            yref='paper',\n",
    "            text=f'{group2}',\n",
    "            showarrow=False,\n",
    "            arrowhead=4,\n",
    "            font=dict(\n",
    "                    size=14,\n",
    "                    color=\"rgb(139, 37, 37)\"\n",
    "                ),\n",
    "            ax=0,\n",
    "            ay=-40\n",
    "        )\n",
    "    \n",
    "    fig.add_annotation(\n",
    "            x=1.5,\n",
    "            y=0.9,\n",
    "            xref='x',\n",
    "            yref='paper',\n",
    "            text=f'{group1}',\n",
    "            showarrow=False,\n",
    "            arrowhead=4,\n",
    "            font=dict(\n",
    "                    size=14,\n",
    "                    color=\"rgb(78, 139, 37)\"\n",
    "                ),\n",
    "            ax=0,\n",
    "            ay=-40\n",
    "        )\n",
    "\n",
    "    return fig\n",
    "\n",
    "data_clean = pd.read_csv(OUT / \"data\" / \"data_long.csv\")\n",
    "\n",
    "categories = [['Reduce2030','Eliminate2050', 'Eliminate2070'], ['LowPrices', 'InsureWorkers', 'EnergyAccess', 'NothingSoc'], ['IdentityCoalRegions', 'IndustryCoalRegions', 'WorkersCoalRegion', 'NothingEco'],['Gov&CivilSociety', 'Gov&Researchers', 'Gov&Businesses', 'Gov&LaborUnions', 'Gov&LocalGov', 'GovAlone'],['Fin&TechSupport', 'FinSupportOnly', 'TechSupportOnly', 'NoInterference']]\n",
    "\n",
    "group = \"Treatment\"\n",
    "\n",
    "for i in range(1,6):\n",
    "    fig = attribute_support(data_clean, f\"att_{i}\", categories[i-1], f\"{i}\", \"Control\", \"Treated\", dummy=\"treatment_status\",extra='Treatment')\n",
    "    fig.write_image(OUT / \"other_fig\" / f\"fig_{i}_att_{i}_{group}.png\")"
   ]
  },
  {
   "cell_type": "markdown",
   "metadata": {},
   "source": [
    "#### Rating of justice principles\n"
   ]
  },
  {
   "cell_type": "code",
   "execution_count": 50,
   "metadata": {},
   "outputs": [
    {
     "data": {
      "text/plain": [
       "Procedural_least_important       0.271497\n",
       "Distributive_least_important     0.291401\n",
       "Recognitional_least_important    0.199841\n",
       "Restorative_least_important      0.237261\n",
       "dtype: float64"
      ]
     },
     "execution_count": 50,
     "metadata": {},
     "output_type": "execute_result"
    }
   ],
   "source": [
    "clean_data = pd.read_csv(OUT / \"data\" / \"data_clean.csv\")\n",
    "\n",
    "clean_data = clean_data.drop([0,1])\n",
    "\n",
    "dictionary = {'justice_1' : 'Procedural' , 'justice_2' : 'Distributive', 'justice_3' : 'Recognitional', 'justice_8' : 'Restorative'}\n",
    "new_cols = ['Procedural' , 'Distributive', 'Recognitional', 'Restorative']\n",
    "\n",
    "clean_data = clean_data[['justice_1', 'justice_2', 'justice_3', 'justice_8']]\n",
    "\n",
    "clean_data[new_cols] = clean_data[['justice_1', 'justice_2', 'justice_3', 'justice_8']]\n",
    "\n",
    "clean_data = clean_data.dropna()\n",
    "\n",
    "clean_data = clean_data[new_cols].astype(int)\n",
    "\n",
    "most_important_cols = []\n",
    "\n",
    "for col in new_cols:\n",
    "    clean_data[f'{col}_most_important'] = clean_data[col] == 1\n",
    "    most_important_cols.append(f'{col}_most_important')\n",
    "\n",
    "means = clean_data[new_cols].astype(int).mean().round(2)\n",
    "std = clean_data[new_cols].astype(int).std()\n",
    "\n",
    "most_important = clean_data[most_important_cols].mean()\n",
    "\n",
    "least_important_cols = []\n",
    "\n",
    "for col in new_cols:\n",
    "    clean_data[f'{col}_least_important'] = clean_data[col] == 4\n",
    "    least_important_cols.append(f'{col}_least_important')\n",
    "\n",
    "least_important = clean_data[least_important_cols].mean()\n",
    "\n",
    "most_important\n",
    "least_important"
   ]
  },
  {
   "cell_type": "markdown",
   "metadata": {},
   "source": [
    "### Descriptives"
   ]
  },
  {
   "cell_type": "code",
   "execution_count": 3,
   "metadata": {},
   "outputs": [
    {
     "name": "stdout",
     "output_type": "stream",
     "text": [
      "\\begin{tabular}{lcc}\n",
      "Column & N & Descriptive Statistics \\\\ \n",
      "\\hline\n",
      "ageFilter & 1395 & Average: 36.53 \\\\ \n",
      "genderFilter & 1395 & Percentage Share: genderFilter\n",
      "0.0    53.763441\n",
      "1.0    46.236559\n",
      "Name: proportion, dtype: float64 \\\\ \n",
      "\\end{tabular}\n"
     ]
    }
   ],
   "source": [
    "import pandas as pd\n",
    "\n",
    "def generate_descriptive_stats(dataframe, column_names):\n",
    "    stats_dict = {}\n",
    "    \n",
    "    for column_name in column_names:\n",
    "        column = dataframe[column_name]\n",
    "        if pd.api.types.is_numeric_dtype(column):\n",
    "            stats_dict[column_name] = {\n",
    "                'N': len(column),\n",
    "                'Average': column.mean()\n",
    "            }\n",
    "        elif pd.api.types.is_categorical_dtype(column):\n",
    "            category_counts = column.value_counts(normalize=True)\n",
    "            stats_dict[column_name] = {\n",
    "                'N': len(column),\n",
    "                'Percentage Share': category_counts * 100\n",
    "            }\n",
    "        else:\n",
    "            stats_dict[column_name] = {\n",
    "                'Error': 'Column type not recognized as numerical or categorical'\n",
    "            }\n",
    "    \n",
    "    return stats_dict\n",
    "\n",
    "def generate_latex_table(stats_dict):\n",
    "    latex_table = \"\\\\begin{tabular}{lcc}\\n\"\n",
    "    latex_table += \"Column & N & Descriptive Statistics \\\\\\\\ \\n\"\n",
    "    latex_table += \"\\\\hline\\n\"\n",
    "    \n",
    "    for column_name, stats in stats_dict.items():\n",
    "        latex_table += f\"{column_name} & {stats['N']} & \"\n",
    "        for key, value in stats.items():\n",
    "            if key != 'N':\n",
    "                if isinstance(value, float):\n",
    "                    latex_table += f\"{key}: {value:.2f} \"\n",
    "                else:\n",
    "                    latex_table += f\"{key}: {value} \"\n",
    "        latex_table += \"\\\\\\\\ \\n\"\n",
    "    \n",
    "    latex_table += \"\\\\end{tabular}\"\n",
    "    \n",
    "    return latex_table\n",
    "\n",
    "\n",
    "df = pd.read_csv(OUT / \"data\" / \"data_clean.csv\")\n",
    "\n",
    "df['ageFilter'] = df['ageFilter'].astype(int)\n",
    "df['genderFilter'] = df['genderFilter'].astype('category')\n",
    "\n",
    "column_names = ['ageFilter', 'genderFilter']\n",
    "stats_dict = generate_descriptive_stats(df, column_names)\n",
    "latex_table = generate_latex_table(stats_dict)\n",
    "print(latex_table)\n",
    "\n",
    "\n"
   ]
  },
  {
   "cell_type": "code",
   "execution_count": 9,
   "metadata": {},
   "outputs": [
    {
     "name": "stdout",
     "output_type": "stream",
     "text": [
      "\\begin{tabular}{lcc}\n",
      "\\toprule\n",
      "Category & Average & N \\\\\n",
      "\\midrule\n",
      "25-34 & 27.67\\% & 386 \\\\\n",
      "35-44 & 25.02\\% & 349 \\\\\n",
      "18-24 & 19.21\\% & 268 \\\\\n",
      "45-54 & 18.71\\% & 261 \\\\\n",
      "55-64 & 9.18\\% & 128 \\\\\n",
      "0.000000 & 53.76\\% & 750 \\\\\n",
      "1.000000 & 46.24\\% & 645 \\\\\n",
      "NorthernZone & 24.59\\% & 343 \\\\\n",
      "SouthernZone & 24.52\\% & 342 \\\\\n",
      "EasternZone & 22.08\\% & 308 \\\\\n",
      "WesternZone & 16.42\\% & 229 \\\\\n",
      "CentralZone & 8.39\\% & 117 \\\\\n",
      "NorthEasternZone & 4.01\\% & 56 \\\\\n",
      "CoalState & 51.11\\% & 713 \\\\\n",
      "NonCoalState & 48.89\\% & 682 \\\\\n",
      "\\bottomrule\n",
      "\\end{tabular}\n",
      "\n"
     ]
    }
   ],
   "source": [
    "import pandas as pd\n",
    "from tabulate import tabulate\n",
    "\n",
    "def generate_descriptive_stats_table(dataframe, columns):\n",
    "    # Create an empty list to store the rows\n",
    "    rows = []\n",
    "\n",
    "    # Iterate through the columns\n",
    "    for column_name in columns:\n",
    "        column_data = dataframe[column_name]\n",
    "        \n",
    "        if pd.api.types.is_numeric_dtype(column_data):\n",
    "            # For numeric columns, calculate the average and N\n",
    "            average = column_data.mean()\n",
    "            n = column_data.count()\n",
    "            \n",
    "            rows.append([column_name, f'{average:.2f}', n])\n",
    "        elif pd.api.types.is_categorical_dtype(column_data):\n",
    "            # For categorical columns, calculate percentage shares and N for each category\n",
    "            category_counts = column_data.value_counts()\n",
    "            n_total = len(column_data)\n",
    "            \n",
    "            for category, count in category_counts.items():\n",
    "                percentage_share = (count / n_total) * 100\n",
    "                rows.append([category, f'{percentage_share:.2f}\\%', count])\n",
    "    \n",
    "    # Create a DataFrame from the list of rows\n",
    "    result_df = pd.DataFrame(rows, columns=['Category', 'Average', 'N'])\n",
    "    \n",
    "    # Convert the result to LaTeX format\n",
    "    latex_table = result_df.to_latex(index=False, column_format='lcc', escape=False)\n",
    "    \n",
    "    return latex_table\n",
    "\n",
    "df = pd.read_csv(OUT / \"data\" / \"data_clean.csv\")\n",
    "\n",
    "age_bins = [18, 25, 35, 45, 55, 65]\n",
    "age_labels = ['18-24', '25-34', '35-44', '45-54', '55-64']\n",
    "\n",
    "# Use the pd.cut() function to create the categorical column\n",
    "df['age_group'] = pd.cut(df['ageFilter'], bins=age_bins, labels=age_labels, right=False)\n",
    "\n",
    "#df['ageFilter'] = df['ageFilter'].astype('category')\n",
    "df['genderFilter'] = df['genderFilter'].astype('category')\n",
    "df['district'] = df['district'].astype('category')\n",
    "df['coal_state'] = df['coal_state'].replace({1:'CoalState', 0:'NonCoalState'}).astype('category')\n",
    "\n",
    "columns_to_analyze = [\"age_group\", \"genderFilter\", \"district\", \"coal_state\"]\n",
    "latex_output = generate_descriptive_stats_table(df, columns_to_analyze)\n",
    "print(latex_output)"
   ]
  },
  {
   "cell_type": "markdown",
   "metadata": {},
   "source": [
    "### Income Distribution"
   ]
  },
  {
   "cell_type": "code",
   "execution_count": null,
   "metadata": {},
   "outputs": [],
   "source": []
  },
  {
   "cell_type": "markdown",
   "metadata": {},
   "source": [
    "### Proximity to coal plants ( ‘haversine’ formula )"
   ]
  },
  {
   "cell_type": "code",
   "execution_count": 3,
   "metadata": {},
   "outputs": [],
   "source": [
    "import math\n",
    "\n",
    "data_clean = pd.read_csv(IN / \"main_sample.csv\", encoding='utf8')\n",
    "\n",
    "data_clean = data_clean.drop([0, 1])\n",
    "\n",
    "data_clean['LocationLatitude'] = data_clean['LocationLatitude'].astype(float)\n",
    "data_clean['LocationLongitude'] = data_clean['LocationLongitude'].astype(float)\n",
    "\n",
    "\n",
    "\n",
    "def calculate_distance(lat1, lon1, lat2, lon2):\n",
    "    R = 6371000  # meters\n",
    "    rad1 = math.radians(lat1)  # φ, λ in radians φ1\n",
    "    rad2 = math.radians(lat2) #φ2\n",
    "    diff1 = math.radians(lat2 - lat1)\n",
    "    diff2 = math.radians(lon2 - lon1)\n",
    "\n",
    "    a = math.sin(diff1/2) * math.sin(diff1/2) + \\\n",
    "        math.cos(rad1) * math.cos(rad2) * \\\n",
    "        math.sin(diff2/2) * math.sin(diff2/2)\n",
    "    \n",
    "    c = 2 * math.atan2(math.sqrt(a), math.sqrt(1-a))\n",
    "\n",
    "    d = R * c  # in meters\n",
    "\n",
    "    d = d / 1000\n",
    "    d = round(d, 2)\n",
    "    return d\n",
    "\n",
    "def coal_prox_indicator(data_clean):\n",
    "\n",
    "    #https://www.globaldata.com/data-insights/mining/india--five-largest-coal-mines-in-2090702/#:~:text=The%20five%20largest%20coal%20mines,mmtpa%20of%20ROM%20in%202021.\n",
    "    coal_mines = {\n",
    "        'Gevra OC Mine' : [22.337439, 82.546566],\n",
    "        'Bhubaneswari OCP Mine' : [20.965332, 85.162714],\n",
    "        'Dipka OC Project': [22.327948, 82.557578],\n",
    "        'Kusmunda OC Mine' : [22.330294, 82.669243],\n",
    "        'Lakhanpur OCP Mine' : [21.765555, 83.820422],\n",
    "        'Jharia Coalfield' : [23.722714, 86.443399],\n",
    "        'Giridih Coalfield' : [24.154031, 86.301516],\n",
    "        'Bokaro Coalfield' : [23.801295, 85.866097],\n",
    "        'Karanpura Coalfield' : [23.614122, 85.679237],\n",
    "        'Talcher Coalfield' : [20.956791, 85.142703],\n",
    "        'Ib Valley Coalfield' : [21.772643, 83.865977],\n",
    "        'Mand-Raigarh Coalfield' : [22.098944, 83.120011],\n",
    "        'Korba Coalfield' : [22.318300, 82.735459],\n",
    "        'Raniganj' : [23.679794, 87.113957],\n",
    "        'Singrauli' : [24.142592, 82.654972],\n",
    "        'Satpura' : [22.117582, 78.156525],\n",
    "        'Telangana' : [18.708977, 79.531696],\n",
    "        'Telangana 2' : [17.950403, 80.777345],\n",
    "        'Telangana 3' : [17.200932, 80.798911],\n",
    "        'Telangana 4' : [17.458652, 80.654307],\n",
    "        'TamilNadu' : [11.531606, 79.464314],\n",
    "        'Maharashtra' : [18.642455, 79.575385],\n",
    "        'Madhya Pradesh' : [22.275820, 78.957188],\n",
    "        'Assam' : [27.278341, 95.741360],\n",
    "        'Jharkand' : [23.768009, 86.397751],\n",
    "        'Giridih' : [24.153271, 86.302280],\n",
    "        'Namchik' : [27.396511, 96.016445],\n",
    "    }\n",
    "\n",
    "    #https://www.power-technology.com/features/feature-the-top-10-biggest-thermal-power-plants-in-india/?cf-view\n",
    "    coal_plants = {\n",
    "        'Mundra Thermal Power Station, Gujarat' : [22.824412, 69.547972],\n",
    "        'Mundra Ultra Mega Power Plant, Gujarat' : [22.815815, 69.525399],\n",
    "        'Sasan Ultra Mega Power Plant, Madhya Pradesh' : [23.983091, 82.618795],\n",
    "        'Tiroda Thermal Power Plant, Maharashtra' : [21.413246, 79.966920],\n",
    "        'Talcher Super Thermal Power Station, Odisha' : [21.096245, 85.073762],\n",
    "        'Rihand Thermal Power Station, Uttar Pradesh' : [24.027386, 82.790051],\n",
    "        'Sipat Thermal Power Plant, Chhattisgarh' : [22.136485, 82.289925],\n",
    "        'Chandrapur Super Thermal Power Station, Maharashtra' : [20.005170, 79.293512],\n",
    "        'NTPC Dadri, Uttar Pradesh' : [28.597505, 77.607886],\n",
    "    }\n",
    "\n",
    "    for name, coordinates in coal_mines.items():\n",
    "        data_clean[f'coal_mine_prox_{name}'] = data_clean.apply(lambda row: calculate_distance(row['LocationLatitude'], row['LocationLongitude'], coordinates[0], coordinates[1]), axis=1)\n",
    "\n",
    "    for name, coordinates in coal_plants.items():\n",
    "        data_clean[f'coal_plant_prox_{name}'] = data_clean.apply(lambda row: calculate_distance(row['LocationLatitude'], row['LocationLongitude'], coordinates[0], coordinates[1]), axis=1)\n",
    "\n",
    "\n",
    "    matching_columns = [col for col in data_clean.columns if col.startswith(\"coal_mine\")]  #or col.startswith(\"coal_plant\")\n",
    "\n",
    "    # Check if any value in the matching columns is smaller than 100\n",
    "    data_clean['coal_prox'] = data_clean[matching_columns].lt(50).any(axis=1).astype(int)\n",
    "\n",
    "    return data_clean\n",
    "\n",
    "df = coal_prox_indicator(data_clean)"
   ]
  },
  {
   "cell_type": "code",
   "execution_count": 19,
   "metadata": {},
   "outputs": [],
   "source": [
    "data_clean = pd.read_csv(IN / \"main_sample.csv\", encoding='utf8')\n",
    "\n",
    "data_clean = data_clean.drop([0, 1])"
   ]
  }
 ],
 "metadata": {
  "kernelspec": {
   "display_name": "conjoint",
   "language": "python",
   "name": "python3"
  },
  "language_info": {
   "codemirror_mode": {
    "name": "ipython",
    "version": 3
   },
   "file_extension": ".py",
   "mimetype": "text/x-python",
   "name": "python",
   "nbconvert_exporter": "python",
   "pygments_lexer": "ipython3",
   "version": "3.11.4"
  },
  "orig_nbformat": 4
 },
 "nbformat": 4,
 "nbformat_minor": 2
}
