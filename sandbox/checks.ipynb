{
 "cells": [
  {
   "cell_type": "code",
   "execution_count": 3,
   "metadata": {},
   "outputs": [],
   "source": [
    "%load_ext autoreload\n",
    "%autoreload 2\n",
    "\n",
    "import pandas as pd\n",
    "import os\n",
    "import sys\n",
    "\n",
    "import plotly.graph_objects as go\n",
    "import plotly.express as px\n",
    "import pandas as pd\n",
    "\n",
    "\n",
    "import pandas as pd\n",
    "import plotly.express as px\n",
    "import plotly.graph_objs as go\n",
    "\n",
    "sys.path.insert(0, os.path.abspath('../developer'))\n",
    "\n",
    "from config import MOCK_DATA, CODE, OUT, IN\n",
    "from developer.utilities import read_yaml\n",
    "from analysis.model import load_model"
   ]
  },
  {
   "cell_type": "code",
   "execution_count": 3,
   "metadata": {},
   "outputs": [],
   "source": [
    "model = load_model(OUT / \"models\" / \"model_amce_high_trust.pickle\")"
   ]
  },
  {
   "cell_type": "code",
   "execution_count": 5,
   "metadata": {},
   "outputs": [
    {
     "data": {
      "text/html": [
       "<table class=\"simpletable\">\n",
       "<caption>OLS Regression Results</caption>\n",
       "<tr>\n",
       "  <th>Dep. Variable:</th>         <td>support</td>     <th>  R-squared:         </th> <td>   0.028</td> \n",
       "</tr>\n",
       "<tr>\n",
       "  <th>Model:</th>                   <td>OLS</td>       <th>  Adj. R-squared:    </th> <td>   0.026</td> \n",
       "</tr>\n",
       "<tr>\n",
       "  <th>Method:</th>             <td>Least Squares</td>  <th>  F-statistic:       </th> <td>   520.1</td> \n",
       "</tr>\n",
       "<tr>\n",
       "  <th>Date:</th>             <td>Thu, 14 Sep 2023</td> <th>  Prob (F-statistic):</th>  <td>  0.00</td>  \n",
       "</tr>\n",
       "<tr>\n",
       "  <th>Time:</th>                 <td>17:48:56</td>     <th>  Log-Likelihood:    </th> <td> -7507.9</td> \n",
       "</tr>\n",
       "<tr>\n",
       "  <th>No. Observations:</th>      <td> 12780</td>      <th>  AIC:               </th> <td>1.507e+04</td>\n",
       "</tr>\n",
       "<tr>\n",
       "  <th>Df Residuals:</th>          <td> 12755</td>      <th>  BIC:               </th> <td>1.525e+04</td>\n",
       "</tr>\n",
       "<tr>\n",
       "  <th>Df Model:</th>              <td>    24</td>      <th>                     </th>     <td> </td>    \n",
       "</tr>\n",
       "<tr>\n",
       "  <th>Covariance Type:</th>       <td>cluster</td>     <th>                     </th>     <td> </td>    \n",
       "</tr>\n",
       "</table>\n",
       "<table class=\"simpletable\">\n",
       "<tr>\n",
       "              <td></td>                 <th>coef</th>     <th>std err</th>      <th>z</th>      <th>P>|z|</th>  <th>[0.025</th>    <th>0.975]</th>  \n",
       "</tr>\n",
       "<tr>\n",
       "  <th>const</th>                     <td>    0.4273</td> <td>    0.027</td> <td>   15.579</td> <td> 0.000</td> <td>    0.374</td> <td>    0.481</td>\n",
       "</tr>\n",
       "<tr>\n",
       "  <th>att_1_Eliminate2050</th>       <td>    0.0694</td> <td>    0.010</td> <td>    6.904</td> <td> 0.000</td> <td>    0.050</td> <td>    0.089</td>\n",
       "</tr>\n",
       "<tr>\n",
       "  <th>att_1_Reduce2030</th>          <td>    0.0850</td> <td>    0.011</td> <td>    7.732</td> <td> 0.000</td> <td>    0.063</td> <td>    0.107</td>\n",
       "</tr>\n",
       "<tr>\n",
       "  <th>att_2_EnergyAccess</th>        <td>    0.0752</td> <td>    0.011</td> <td>    6.843</td> <td> 0.000</td> <td>    0.054</td> <td>    0.097</td>\n",
       "</tr>\n",
       "<tr>\n",
       "  <th>att_2_InsureWorkers</th>       <td>    0.0791</td> <td>    0.011</td> <td>    7.017</td> <td> 0.000</td> <td>    0.057</td> <td>    0.101</td>\n",
       "</tr>\n",
       "<tr>\n",
       "  <th>att_2_LowPrices</th>           <td>    0.0773</td> <td>    0.011</td> <td>    7.047</td> <td> 0.000</td> <td>    0.056</td> <td>    0.099</td>\n",
       "</tr>\n",
       "<tr>\n",
       "  <th>att_3_IdentityCoalRegions</th> <td>    0.0430</td> <td>    0.012</td> <td>    3.703</td> <td> 0.000</td> <td>    0.020</td> <td>    0.066</td>\n",
       "</tr>\n",
       "<tr>\n",
       "  <th>att_3_IndustryCoalRegions</th> <td>    0.0633</td> <td>    0.011</td> <td>    5.509</td> <td> 0.000</td> <td>    0.041</td> <td>    0.086</td>\n",
       "</tr>\n",
       "<tr>\n",
       "  <th>att_3_WorkersCoalRegion</th>   <td>    0.0624</td> <td>    0.012</td> <td>    5.361</td> <td> 0.000</td> <td>    0.040</td> <td>    0.085</td>\n",
       "</tr>\n",
       "<tr>\n",
       "  <th>att_4_Gov&Businesses</th>      <td>    0.0299</td> <td>    0.014</td> <td>    2.157</td> <td> 0.031</td> <td>    0.003</td> <td>    0.057</td>\n",
       "</tr>\n",
       "<tr>\n",
       "  <th>att_4_Gov&CivilSociety</th>    <td>    0.0425</td> <td>    0.014</td> <td>    3.065</td> <td> 0.002</td> <td>    0.015</td> <td>    0.070</td>\n",
       "</tr>\n",
       "<tr>\n",
       "  <th>att_4_Gov&LaborUnions</th>     <td>    0.0319</td> <td>    0.014</td> <td>    2.265</td> <td> 0.024</td> <td>    0.004</td> <td>    0.060</td>\n",
       "</tr>\n",
       "<tr>\n",
       "  <th>att_4_Gov&LocalGov</th>        <td>    0.0563</td> <td>    0.014</td> <td>    4.075</td> <td> 0.000</td> <td>    0.029</td> <td>    0.083</td>\n",
       "</tr>\n",
       "<tr>\n",
       "  <th>att_4_Gov&Researchers</th>     <td>    0.0364</td> <td>    0.014</td> <td>    2.600</td> <td> 0.009</td> <td>    0.009</td> <td>    0.064</td>\n",
       "</tr>\n",
       "<tr>\n",
       "  <th>att_5_Fin&TechSupport</th>     <td>    0.0803</td> <td>    0.012</td> <td>    6.660</td> <td> 0.000</td> <td>    0.057</td> <td>    0.104</td>\n",
       "</tr>\n",
       "<tr>\n",
       "  <th>att_5_FinSupportOnly</th>      <td>    0.0157</td> <td>    0.012</td> <td>    1.340</td> <td> 0.180</td> <td>   -0.007</td> <td>    0.039</td>\n",
       "</tr>\n",
       "<tr>\n",
       "  <th>att_5_TechSupportOnly</th>     <td>    0.0162</td> <td>    0.012</td> <td>    1.384</td> <td> 0.166</td> <td>   -0.007</td> <td>    0.039</td>\n",
       "</tr>\n",
       "<tr>\n",
       "  <th>ageFilter</th>                 <td>    0.0004</td> <td>    0.001</td> <td>    0.654</td> <td> 0.513</td> <td>   -0.001</td> <td>    0.002</td>\n",
       "</tr>\n",
       "<tr>\n",
       "  <th>genderFilter</th>              <td>    0.0121</td> <td>    0.015</td> <td>    0.818</td> <td> 0.413</td> <td>   -0.017</td> <td>    0.041</td>\n",
       "</tr>\n",
       "<tr>\n",
       "  <th>district_NorthernZone</th>     <td>    0.0887</td> <td>    0.015</td> <td>    5.967</td> <td> 0.000</td> <td>    0.060</td> <td>    0.118</td>\n",
       "</tr>\n",
       "<tr>\n",
       "  <th>district_NorthEasternZone</th> <td>    0.0339</td> <td>    0.033</td> <td>    1.019</td> <td> 0.308</td> <td>   -0.031</td> <td>    0.099</td>\n",
       "</tr>\n",
       "<tr>\n",
       "  <th>district_CentralZone</th>      <td>    0.0576</td> <td>    0.024</td> <td>    2.398</td> <td> 0.016</td> <td>    0.011</td> <td>    0.105</td>\n",
       "</tr>\n",
       "<tr>\n",
       "  <th>district_EasternZone</th>      <td>    0.0846</td> <td>    0.016</td> <td>    5.197</td> <td> 0.000</td> <td>    0.053</td> <td>    0.116</td>\n",
       "</tr>\n",
       "<tr>\n",
       "  <th>district_WesternZone</th>      <td>    0.1243</td> <td>    0.018</td> <td>    6.850</td> <td> 0.000</td> <td>    0.089</td> <td>    0.160</td>\n",
       "</tr>\n",
       "<tr>\n",
       "  <th>district_SouthernZone</th>     <td>    0.0381</td> <td>    0.017</td> <td>    2.271</td> <td> 0.023</td> <td>    0.005</td> <td>    0.071</td>\n",
       "</tr>\n",
       "<tr>\n",
       "  <th>treatment_status</th>          <td>   -0.0098</td> <td>    0.015</td> <td>   -0.669</td> <td> 0.503</td> <td>   -0.038</td> <td>    0.019</td>\n",
       "</tr>\n",
       "</table>\n",
       "<table class=\"simpletable\">\n",
       "<tr>\n",
       "  <th>Omnibus:</th>       <td>2756.601</td> <th>  Durbin-Watson:     </th> <td>   1.434</td>\n",
       "</tr>\n",
       "<tr>\n",
       "  <th>Prob(Omnibus):</th>  <td> 0.000</td>  <th>  Jarque-Bera (JB):  </th> <td>2566.791</td>\n",
       "</tr>\n",
       "<tr>\n",
       "  <th>Skew:</th>           <td>-1.018</td>  <th>  Prob(JB):          </th> <td>    0.00</td>\n",
       "</tr>\n",
       "<tr>\n",
       "  <th>Kurtosis:</th>       <td> 2.178</td>  <th>  Cond. No.          </th> <td>2.16e+17</td>\n",
       "</tr>\n",
       "</table><br/><br/>Notes:<br/>[1] Standard Errors are robust to cluster correlation (cluster)<br/>[2] The smallest eigenvalue is 4.16e-28. This might indicate that there are<br/>strong multicollinearity problems or that the design matrix is singular."
      ],
      "text/latex": [
       "\\begin{center}\n",
       "\\begin{tabular}{lclc}\n",
       "\\toprule\n",
       "\\textbf{Dep. Variable:}              &     support      & \\textbf{  R-squared:         } &     0.028   \\\\\n",
       "\\textbf{Model:}                      &       OLS        & \\textbf{  Adj. R-squared:    } &     0.026   \\\\\n",
       "\\textbf{Method:}                     &  Least Squares   & \\textbf{  F-statistic:       } &     520.1   \\\\\n",
       "\\textbf{Date:}                       & Thu, 14 Sep 2023 & \\textbf{  Prob (F-statistic):} &     0.00    \\\\\n",
       "\\textbf{Time:}                       &     17:48:56     & \\textbf{  Log-Likelihood:    } &   -7507.9   \\\\\n",
       "\\textbf{No. Observations:}           &       12780      & \\textbf{  AIC:               } & 1.507e+04   \\\\\n",
       "\\textbf{Df Residuals:}               &       12755      & \\textbf{  BIC:               } & 1.525e+04   \\\\\n",
       "\\textbf{Df Model:}                   &          24      & \\textbf{                     } &             \\\\\n",
       "\\textbf{Covariance Type:}            &     cluster      & \\textbf{                     } &             \\\\\n",
       "\\bottomrule\n",
       "\\end{tabular}\n",
       "\\begin{tabular}{lcccccc}\n",
       "                                     & \\textbf{coef} & \\textbf{std err} & \\textbf{z} & \\textbf{P$> |$z$|$} & \\textbf{[0.025} & \\textbf{0.975]}  \\\\\n",
       "\\midrule\n",
       "\\textbf{const}                       &       0.4273  &        0.027     &    15.579  &         0.000        &        0.374    &        0.481     \\\\\n",
       "\\textbf{att\\_1\\_Eliminate2050}       &       0.0694  &        0.010     &     6.904  &         0.000        &        0.050    &        0.089     \\\\\n",
       "\\textbf{att\\_1\\_Reduce2030}          &       0.0850  &        0.011     &     7.732  &         0.000        &        0.063    &        0.107     \\\\\n",
       "\\textbf{att\\_2\\_EnergyAccess}        &       0.0752  &        0.011     &     6.843  &         0.000        &        0.054    &        0.097     \\\\\n",
       "\\textbf{att\\_2\\_InsureWorkers}       &       0.0791  &        0.011     &     7.017  &         0.000        &        0.057    &        0.101     \\\\\n",
       "\\textbf{att\\_2\\_LowPrices}           &       0.0773  &        0.011     &     7.047  &         0.000        &        0.056    &        0.099     \\\\\n",
       "\\textbf{att\\_3\\_IdentityCoalRegions} &       0.0430  &        0.012     &     3.703  &         0.000        &        0.020    &        0.066     \\\\\n",
       "\\textbf{att\\_3\\_IndustryCoalRegions} &       0.0633  &        0.011     &     5.509  &         0.000        &        0.041    &        0.086     \\\\\n",
       "\\textbf{att\\_3\\_WorkersCoalRegion}   &       0.0624  &        0.012     &     5.361  &         0.000        &        0.040    &        0.085     \\\\\n",
       "\\textbf{att\\_4\\_Gov\\&Businesses}     &       0.0299  &        0.014     &     2.157  &         0.031        &        0.003    &        0.057     \\\\\n",
       "\\textbf{att\\_4\\_Gov\\&CivilSociety}   &       0.0425  &        0.014     &     3.065  &         0.002        &        0.015    &        0.070     \\\\\n",
       "\\textbf{att\\_4\\_Gov\\&LaborUnions}    &       0.0319  &        0.014     &     2.265  &         0.024        &        0.004    &        0.060     \\\\\n",
       "\\textbf{att\\_4\\_Gov\\&LocalGov}       &       0.0563  &        0.014     &     4.075  &         0.000        &        0.029    &        0.083     \\\\\n",
       "\\textbf{att\\_4\\_Gov\\&Researchers}    &       0.0364  &        0.014     &     2.600  &         0.009        &        0.009    &        0.064     \\\\\n",
       "\\textbf{att\\_5\\_Fin\\&TechSupport}    &       0.0803  &        0.012     &     6.660  &         0.000        &        0.057    &        0.104     \\\\\n",
       "\\textbf{att\\_5\\_FinSupportOnly}      &       0.0157  &        0.012     &     1.340  &         0.180        &       -0.007    &        0.039     \\\\\n",
       "\\textbf{att\\_5\\_TechSupportOnly}     &       0.0162  &        0.012     &     1.384  &         0.166        &       -0.007    &        0.039     \\\\\n",
       "\\textbf{ageFilter}                   &       0.0004  &        0.001     &     0.654  &         0.513        &       -0.001    &        0.002     \\\\\n",
       "\\textbf{genderFilter}                &       0.0121  &        0.015     &     0.818  &         0.413        &       -0.017    &        0.041     \\\\\n",
       "\\textbf{district\\_NorthernZone}      &       0.0887  &        0.015     &     5.967  &         0.000        &        0.060    &        0.118     \\\\\n",
       "\\textbf{district\\_NorthEasternZone}  &       0.0339  &        0.033     &     1.019  &         0.308        &       -0.031    &        0.099     \\\\\n",
       "\\textbf{district\\_CentralZone}       &       0.0576  &        0.024     &     2.398  &         0.016        &        0.011    &        0.105     \\\\\n",
       "\\textbf{district\\_EasternZone}       &       0.0846  &        0.016     &     5.197  &         0.000        &        0.053    &        0.116     \\\\\n",
       "\\textbf{district\\_WesternZone}       &       0.1243  &        0.018     &     6.850  &         0.000        &        0.089    &        0.160     \\\\\n",
       "\\textbf{district\\_SouthernZone}      &       0.0381  &        0.017     &     2.271  &         0.023        &        0.005    &        0.071     \\\\\n",
       "\\textbf{treatment\\_status}           &      -0.0098  &        0.015     &    -0.669  &         0.503        &       -0.038    &        0.019     \\\\\n",
       "\\bottomrule\n",
       "\\end{tabular}\n",
       "\\begin{tabular}{lclc}\n",
       "\\textbf{Omnibus:}       & 2756.601 & \\textbf{  Durbin-Watson:     } &    1.434  \\\\\n",
       "\\textbf{Prob(Omnibus):} &   0.000  & \\textbf{  Jarque-Bera (JB):  } & 2566.791  \\\\\n",
       "\\textbf{Skew:}          &  -1.018  & \\textbf{  Prob(JB):          } &     0.00  \\\\\n",
       "\\textbf{Kurtosis:}      &   2.178  & \\textbf{  Cond. No.          } & 2.16e+17  \\\\\n",
       "\\bottomrule\n",
       "\\end{tabular}\n",
       "%\\caption{OLS Regression Results}\n",
       "\\end{center}\n",
       "\n",
       "Notes: \\newline\n",
       " [1] Standard Errors are robust to cluster correlation (cluster) \\newline\n",
       " [2] The smallest eigenvalue is 4.16e-28. This might indicate that there are \\newline\n",
       " strong multicollinearity problems or that the design matrix is singular."
      ],
      "text/plain": [
       "<class 'statsmodels.iolib.summary.Summary'>\n",
       "\"\"\"\n",
       "                            OLS Regression Results                            \n",
       "==============================================================================\n",
       "Dep. Variable:                support   R-squared:                       0.028\n",
       "Model:                            OLS   Adj. R-squared:                  0.026\n",
       "Method:                 Least Squares   F-statistic:                     520.1\n",
       "Date:                Thu, 14 Sep 2023   Prob (F-statistic):               0.00\n",
       "Time:                        17:48:56   Log-Likelihood:                -7507.9\n",
       "No. Observations:               12780   AIC:                         1.507e+04\n",
       "Df Residuals:                   12755   BIC:                         1.525e+04\n",
       "Df Model:                          24                                         \n",
       "Covariance Type:              cluster                                         \n",
       "=============================================================================================\n",
       "                                coef    std err          z      P>|z|      [0.025      0.975]\n",
       "---------------------------------------------------------------------------------------------\n",
       "const                         0.4273      0.027     15.579      0.000       0.374       0.481\n",
       "att_1_Eliminate2050           0.0694      0.010      6.904      0.000       0.050       0.089\n",
       "att_1_Reduce2030              0.0850      0.011      7.732      0.000       0.063       0.107\n",
       "att_2_EnergyAccess            0.0752      0.011      6.843      0.000       0.054       0.097\n",
       "att_2_InsureWorkers           0.0791      0.011      7.017      0.000       0.057       0.101\n",
       "att_2_LowPrices               0.0773      0.011      7.047      0.000       0.056       0.099\n",
       "att_3_IdentityCoalRegions     0.0430      0.012      3.703      0.000       0.020       0.066\n",
       "att_3_IndustryCoalRegions     0.0633      0.011      5.509      0.000       0.041       0.086\n",
       "att_3_WorkersCoalRegion       0.0624      0.012      5.361      0.000       0.040       0.085\n",
       "att_4_Gov&Businesses          0.0299      0.014      2.157      0.031       0.003       0.057\n",
       "att_4_Gov&CivilSociety        0.0425      0.014      3.065      0.002       0.015       0.070\n",
       "att_4_Gov&LaborUnions         0.0319      0.014      2.265      0.024       0.004       0.060\n",
       "att_4_Gov&LocalGov            0.0563      0.014      4.075      0.000       0.029       0.083\n",
       "att_4_Gov&Researchers         0.0364      0.014      2.600      0.009       0.009       0.064\n",
       "att_5_Fin&TechSupport         0.0803      0.012      6.660      0.000       0.057       0.104\n",
       "att_5_FinSupportOnly          0.0157      0.012      1.340      0.180      -0.007       0.039\n",
       "att_5_TechSupportOnly         0.0162      0.012      1.384      0.166      -0.007       0.039\n",
       "ageFilter                     0.0004      0.001      0.654      0.513      -0.001       0.002\n",
       "genderFilter                  0.0121      0.015      0.818      0.413      -0.017       0.041\n",
       "district_NorthernZone         0.0887      0.015      5.967      0.000       0.060       0.118\n",
       "district_NorthEasternZone     0.0339      0.033      1.019      0.308      -0.031       0.099\n",
       "district_CentralZone          0.0576      0.024      2.398      0.016       0.011       0.105\n",
       "district_EasternZone          0.0846      0.016      5.197      0.000       0.053       0.116\n",
       "district_WesternZone          0.1243      0.018      6.850      0.000       0.089       0.160\n",
       "district_SouthernZone         0.0381      0.017      2.271      0.023       0.005       0.071\n",
       "treatment_status             -0.0098      0.015     -0.669      0.503      -0.038       0.019\n",
       "==============================================================================\n",
       "Omnibus:                     2756.601   Durbin-Watson:                   1.434\n",
       "Prob(Omnibus):                  0.000   Jarque-Bera (JB):             2566.791\n",
       "Skew:                          -1.018   Prob(JB):                         0.00\n",
       "Kurtosis:                       2.178   Cond. No.                     2.16e+17\n",
       "==============================================================================\n",
       "\n",
       "Notes:\n",
       "[1] Standard Errors are robust to cluster correlation (cluster)\n",
       "[2] The smallest eigenvalue is 4.16e-28. This might indicate that there are\n",
       "strong multicollinearity problems or that the design matrix is singular.\n",
       "\"\"\""
      ]
     },
     "execution_count": 5,
     "metadata": {},
     "output_type": "execute_result"
    }
   ],
   "source": [
    "model.summary()"
   ]
  },
  {
   "cell_type": "markdown",
   "metadata": {},
   "source": [
    "### Overall support"
   ]
  },
  {
   "cell_type": "code",
   "execution_count": 11,
   "metadata": {},
   "outputs": [
    {
     "data": {
      "application/vnd.plotly.v1+json": {
       "config": {
        "plotlyServerURL": "https://plot.ly"
       },
       "data": [
        {
         "error_y": {
          "array": [
           0.009973249156278952,
           0.009885379506189618
          ],
          "arrayminus": [
           0.009973249156278952,
           0.00996363849979054
          ],
          "type": "data",
          "visible": true
         },
         "marker": {
          "color": [
           "red",
           "blue"
          ]
         },
         "name": "Values",
         "type": "bar",
         "width": 0.6,
         "x": [
          "Treated",
          "Control"
         ],
         "y": [
          0.6871387283236994,
          0.6882408724513988
         ]
        }
       ],
       "layout": {
        "bargap": 0.1,
        "barmode": "group",
        "height": 500,
        "template": {
         "data": {
          "bar": [
           {
            "error_x": {
             "color": "#2a3f5f"
            },
            "error_y": {
             "color": "#2a3f5f"
            },
            "marker": {
             "line": {
              "color": "#E5ECF6",
              "width": 0.5
             },
             "pattern": {
              "fillmode": "overlay",
              "size": 10,
              "solidity": 0.2
             }
            },
            "type": "bar"
           }
          ],
          "barpolar": [
           {
            "marker": {
             "line": {
              "color": "#E5ECF6",
              "width": 0.5
             },
             "pattern": {
              "fillmode": "overlay",
              "size": 10,
              "solidity": 0.2
             }
            },
            "type": "barpolar"
           }
          ],
          "carpet": [
           {
            "aaxis": {
             "endlinecolor": "#2a3f5f",
             "gridcolor": "white",
             "linecolor": "white",
             "minorgridcolor": "white",
             "startlinecolor": "#2a3f5f"
            },
            "baxis": {
             "endlinecolor": "#2a3f5f",
             "gridcolor": "white",
             "linecolor": "white",
             "minorgridcolor": "white",
             "startlinecolor": "#2a3f5f"
            },
            "type": "carpet"
           }
          ],
          "choropleth": [
           {
            "colorbar": {
             "outlinewidth": 0,
             "ticks": ""
            },
            "type": "choropleth"
           }
          ],
          "contour": [
           {
            "colorbar": {
             "outlinewidth": 0,
             "ticks": ""
            },
            "colorscale": [
             [
              0,
              "#0d0887"
             ],
             [
              0.1111111111111111,
              "#46039f"
             ],
             [
              0.2222222222222222,
              "#7201a8"
             ],
             [
              0.3333333333333333,
              "#9c179e"
             ],
             [
              0.4444444444444444,
              "#bd3786"
             ],
             [
              0.5555555555555556,
              "#d8576b"
             ],
             [
              0.6666666666666666,
              "#ed7953"
             ],
             [
              0.7777777777777778,
              "#fb9f3a"
             ],
             [
              0.8888888888888888,
              "#fdca26"
             ],
             [
              1,
              "#f0f921"
             ]
            ],
            "type": "contour"
           }
          ],
          "contourcarpet": [
           {
            "colorbar": {
             "outlinewidth": 0,
             "ticks": ""
            },
            "type": "contourcarpet"
           }
          ],
          "heatmap": [
           {
            "colorbar": {
             "outlinewidth": 0,
             "ticks": ""
            },
            "colorscale": [
             [
              0,
              "#0d0887"
             ],
             [
              0.1111111111111111,
              "#46039f"
             ],
             [
              0.2222222222222222,
              "#7201a8"
             ],
             [
              0.3333333333333333,
              "#9c179e"
             ],
             [
              0.4444444444444444,
              "#bd3786"
             ],
             [
              0.5555555555555556,
              "#d8576b"
             ],
             [
              0.6666666666666666,
              "#ed7953"
             ],
             [
              0.7777777777777778,
              "#fb9f3a"
             ],
             [
              0.8888888888888888,
              "#fdca26"
             ],
             [
              1,
              "#f0f921"
             ]
            ],
            "type": "heatmap"
           }
          ],
          "heatmapgl": [
           {
            "colorbar": {
             "outlinewidth": 0,
             "ticks": ""
            },
            "colorscale": [
             [
              0,
              "#0d0887"
             ],
             [
              0.1111111111111111,
              "#46039f"
             ],
             [
              0.2222222222222222,
              "#7201a8"
             ],
             [
              0.3333333333333333,
              "#9c179e"
             ],
             [
              0.4444444444444444,
              "#bd3786"
             ],
             [
              0.5555555555555556,
              "#d8576b"
             ],
             [
              0.6666666666666666,
              "#ed7953"
             ],
             [
              0.7777777777777778,
              "#fb9f3a"
             ],
             [
              0.8888888888888888,
              "#fdca26"
             ],
             [
              1,
              "#f0f921"
             ]
            ],
            "type": "heatmapgl"
           }
          ],
          "histogram": [
           {
            "marker": {
             "pattern": {
              "fillmode": "overlay",
              "size": 10,
              "solidity": 0.2
             }
            },
            "type": "histogram"
           }
          ],
          "histogram2d": [
           {
            "colorbar": {
             "outlinewidth": 0,
             "ticks": ""
            },
            "colorscale": [
             [
              0,
              "#0d0887"
             ],
             [
              0.1111111111111111,
              "#46039f"
             ],
             [
              0.2222222222222222,
              "#7201a8"
             ],
             [
              0.3333333333333333,
              "#9c179e"
             ],
             [
              0.4444444444444444,
              "#bd3786"
             ],
             [
              0.5555555555555556,
              "#d8576b"
             ],
             [
              0.6666666666666666,
              "#ed7953"
             ],
             [
              0.7777777777777778,
              "#fb9f3a"
             ],
             [
              0.8888888888888888,
              "#fdca26"
             ],
             [
              1,
              "#f0f921"
             ]
            ],
            "type": "histogram2d"
           }
          ],
          "histogram2dcontour": [
           {
            "colorbar": {
             "outlinewidth": 0,
             "ticks": ""
            },
            "colorscale": [
             [
              0,
              "#0d0887"
             ],
             [
              0.1111111111111111,
              "#46039f"
             ],
             [
              0.2222222222222222,
              "#7201a8"
             ],
             [
              0.3333333333333333,
              "#9c179e"
             ],
             [
              0.4444444444444444,
              "#bd3786"
             ],
             [
              0.5555555555555556,
              "#d8576b"
             ],
             [
              0.6666666666666666,
              "#ed7953"
             ],
             [
              0.7777777777777778,
              "#fb9f3a"
             ],
             [
              0.8888888888888888,
              "#fdca26"
             ],
             [
              1,
              "#f0f921"
             ]
            ],
            "type": "histogram2dcontour"
           }
          ],
          "mesh3d": [
           {
            "colorbar": {
             "outlinewidth": 0,
             "ticks": ""
            },
            "type": "mesh3d"
           }
          ],
          "parcoords": [
           {
            "line": {
             "colorbar": {
              "outlinewidth": 0,
              "ticks": ""
             }
            },
            "type": "parcoords"
           }
          ],
          "pie": [
           {
            "automargin": true,
            "type": "pie"
           }
          ],
          "scatter": [
           {
            "fillpattern": {
             "fillmode": "overlay",
             "size": 10,
             "solidity": 0.2
            },
            "type": "scatter"
           }
          ],
          "scatter3d": [
           {
            "line": {
             "colorbar": {
              "outlinewidth": 0,
              "ticks": ""
             }
            },
            "marker": {
             "colorbar": {
              "outlinewidth": 0,
              "ticks": ""
             }
            },
            "type": "scatter3d"
           }
          ],
          "scattercarpet": [
           {
            "marker": {
             "colorbar": {
              "outlinewidth": 0,
              "ticks": ""
             }
            },
            "type": "scattercarpet"
           }
          ],
          "scattergeo": [
           {
            "marker": {
             "colorbar": {
              "outlinewidth": 0,
              "ticks": ""
             }
            },
            "type": "scattergeo"
           }
          ],
          "scattergl": [
           {
            "marker": {
             "colorbar": {
              "outlinewidth": 0,
              "ticks": ""
             }
            },
            "type": "scattergl"
           }
          ],
          "scattermapbox": [
           {
            "marker": {
             "colorbar": {
              "outlinewidth": 0,
              "ticks": ""
             }
            },
            "type": "scattermapbox"
           }
          ],
          "scatterpolar": [
           {
            "marker": {
             "colorbar": {
              "outlinewidth": 0,
              "ticks": ""
             }
            },
            "type": "scatterpolar"
           }
          ],
          "scatterpolargl": [
           {
            "marker": {
             "colorbar": {
              "outlinewidth": 0,
              "ticks": ""
             }
            },
            "type": "scatterpolargl"
           }
          ],
          "scatterternary": [
           {
            "marker": {
             "colorbar": {
              "outlinewidth": 0,
              "ticks": ""
             }
            },
            "type": "scatterternary"
           }
          ],
          "surface": [
           {
            "colorbar": {
             "outlinewidth": 0,
             "ticks": ""
            },
            "colorscale": [
             [
              0,
              "#0d0887"
             ],
             [
              0.1111111111111111,
              "#46039f"
             ],
             [
              0.2222222222222222,
              "#7201a8"
             ],
             [
              0.3333333333333333,
              "#9c179e"
             ],
             [
              0.4444444444444444,
              "#bd3786"
             ],
             [
              0.5555555555555556,
              "#d8576b"
             ],
             [
              0.6666666666666666,
              "#ed7953"
             ],
             [
              0.7777777777777778,
              "#fb9f3a"
             ],
             [
              0.8888888888888888,
              "#fdca26"
             ],
             [
              1,
              "#f0f921"
             ]
            ],
            "type": "surface"
           }
          ],
          "table": [
           {
            "cells": {
             "fill": {
              "color": "#EBF0F8"
             },
             "line": {
              "color": "white"
             }
            },
            "header": {
             "fill": {
              "color": "#C8D4E3"
             },
             "line": {
              "color": "white"
             }
            },
            "type": "table"
           }
          ]
         },
         "layout": {
          "annotationdefaults": {
           "arrowcolor": "#2a3f5f",
           "arrowhead": 0,
           "arrowwidth": 1
          },
          "autotypenumbers": "strict",
          "coloraxis": {
           "colorbar": {
            "outlinewidth": 0,
            "ticks": ""
           }
          },
          "colorscale": {
           "diverging": [
            [
             0,
             "#8e0152"
            ],
            [
             0.1,
             "#c51b7d"
            ],
            [
             0.2,
             "#de77ae"
            ],
            [
             0.3,
             "#f1b6da"
            ],
            [
             0.4,
             "#fde0ef"
            ],
            [
             0.5,
             "#f7f7f7"
            ],
            [
             0.6,
             "#e6f5d0"
            ],
            [
             0.7,
             "#b8e186"
            ],
            [
             0.8,
             "#7fbc41"
            ],
            [
             0.9,
             "#4d9221"
            ],
            [
             1,
             "#276419"
            ]
           ],
           "sequential": [
            [
             0,
             "#0d0887"
            ],
            [
             0.1111111111111111,
             "#46039f"
            ],
            [
             0.2222222222222222,
             "#7201a8"
            ],
            [
             0.3333333333333333,
             "#9c179e"
            ],
            [
             0.4444444444444444,
             "#bd3786"
            ],
            [
             0.5555555555555556,
             "#d8576b"
            ],
            [
             0.6666666666666666,
             "#ed7953"
            ],
            [
             0.7777777777777778,
             "#fb9f3a"
            ],
            [
             0.8888888888888888,
             "#fdca26"
            ],
            [
             1,
             "#f0f921"
            ]
           ],
           "sequentialminus": [
            [
             0,
             "#0d0887"
            ],
            [
             0.1111111111111111,
             "#46039f"
            ],
            [
             0.2222222222222222,
             "#7201a8"
            ],
            [
             0.3333333333333333,
             "#9c179e"
            ],
            [
             0.4444444444444444,
             "#bd3786"
            ],
            [
             0.5555555555555556,
             "#d8576b"
            ],
            [
             0.6666666666666666,
             "#ed7953"
            ],
            [
             0.7777777777777778,
             "#fb9f3a"
            ],
            [
             0.8888888888888888,
             "#fdca26"
            ],
            [
             1,
             "#f0f921"
            ]
           ]
          },
          "colorway": [
           "#636efa",
           "#EF553B",
           "#00cc96",
           "#ab63fa",
           "#FFA15A",
           "#19d3f3",
           "#FF6692",
           "#B6E880",
           "#FF97FF",
           "#FECB52"
          ],
          "font": {
           "color": "#2a3f5f"
          },
          "geo": {
           "bgcolor": "white",
           "lakecolor": "white",
           "landcolor": "#E5ECF6",
           "showlakes": true,
           "showland": true,
           "subunitcolor": "white"
          },
          "hoverlabel": {
           "align": "left"
          },
          "hovermode": "closest",
          "mapbox": {
           "style": "light"
          },
          "paper_bgcolor": "white",
          "plot_bgcolor": "#E5ECF6",
          "polar": {
           "angularaxis": {
            "gridcolor": "white",
            "linecolor": "white",
            "ticks": ""
           },
           "bgcolor": "#E5ECF6",
           "radialaxis": {
            "gridcolor": "white",
            "linecolor": "white",
            "ticks": ""
           }
          },
          "scene": {
           "xaxis": {
            "backgroundcolor": "#E5ECF6",
            "gridcolor": "white",
            "gridwidth": 2,
            "linecolor": "white",
            "showbackground": true,
            "ticks": "",
            "zerolinecolor": "white"
           },
           "yaxis": {
            "backgroundcolor": "#E5ECF6",
            "gridcolor": "white",
            "gridwidth": 2,
            "linecolor": "white",
            "showbackground": true,
            "ticks": "",
            "zerolinecolor": "white"
           },
           "zaxis": {
            "backgroundcolor": "#E5ECF6",
            "gridcolor": "white",
            "gridwidth": 2,
            "linecolor": "white",
            "showbackground": true,
            "ticks": "",
            "zerolinecolor": "white"
           }
          },
          "shapedefaults": {
           "line": {
            "color": "#2a3f5f"
           }
          },
          "ternary": {
           "aaxis": {
            "gridcolor": "white",
            "linecolor": "white",
            "ticks": ""
           },
           "baxis": {
            "gridcolor": "white",
            "linecolor": "white",
            "ticks": ""
           },
           "bgcolor": "#E5ECF6",
           "caxis": {
            "gridcolor": "white",
            "linecolor": "white",
            "ticks": ""
           }
          },
          "title": {
           "x": 0.05
          },
          "xaxis": {
           "automargin": true,
           "gridcolor": "white",
           "linecolor": "white",
           "ticks": "",
           "title": {
            "standoff": 15
           },
           "zerolinecolor": "white",
           "zerolinewidth": 2
          },
          "yaxis": {
           "automargin": true,
           "gridcolor": "white",
           "linecolor": "white",
           "ticks": "",
           "title": {
            "standoff": 15
           },
           "zerolinecolor": "white",
           "zerolinewidth": 2
          }
         }
        },
        "title": {
         "text": "Fig C: General support"
        },
        "width": 400,
        "xaxis": {
         "range": [
          -1,
          2
         ],
         "title": {
          "text": "Values"
         }
        },
        "yaxis": {
         "range": [
          0,
          1
         ],
         "title": {
          "text": "Mean"
         }
        }
       }
      }
     },
     "metadata": {},
     "output_type": "display_data"
    }
   ],
   "source": [
    "conjoint = pd.read_csv(OUT / \"data\" / \"data_long.csv\")\n",
    "\n",
    "treated = conjoint[conjoint['treatment_status'] == 1]\n",
    "control = conjoint[conjoint['treatment_status'] == 0]\n",
    "labels = [\"Treated\", \"Control\"]\n",
    "\n",
    "avg_support_treated = treated['support'].astype(int).mean()\n",
    "std_support_treated = treated['support'].astype(int).std()\n",
    "nobs_support_treated = len(treated['support'])\n",
    "\n",
    "avg_support_control = control['support'].astype(int).mean()\n",
    "std_support_control = control['support'].astype(int).std()\n",
    "nobs_support_control = len(control['support'])\n",
    "\n",
    "values = [avg_support_treated, avg_support_control]\n",
    "std_dev = [std_support_treated, std_support_control]\n",
    "labels = [\"Treated\", \"Control\"]\n",
    "\n",
    "# Calculate confidence intervals (assuming a normal distribution)\n",
    "confidence_intervals_treated = [(avg_support_treated - 1.96 * (std_support_treated / (nobs_support_treated) ** 0.5)), avg_support_treated + 1.96 * (std_support_treated / (nobs_support_treated) ** 0.5)]\n",
    "confidence_intervals_control = [(avg_support_control - 1.96 * (std_support_control / (nobs_support_treated) ** 0.5)), avg_support_control + 1.96 * (std_support_control / (nobs_support_control) ** 0.5)]\n",
    "\n",
    "\n",
    "# Create a bar plot with error bars representing confidence intervals\n",
    "fig = go.Figure()\n",
    "\n",
    "fig.add_trace(go.Bar(\n",
    "    x=labels,\n",
    "    y=values,\n",
    "    error_y=dict(\n",
    "                type='data',\n",
    "                array=[max(confidence_intervals_treated) - values[0], max(confidence_intervals_control) - values[1]],\n",
    "                arrayminus=[values[0] - min(confidence_intervals_treated), values[1] - min(confidence_intervals_control)],\n",
    "                visible=True\n",
    "            ),\n",
    "    name='Values',\n",
    "    marker_color=['red', 'blue'],\n",
    "    width=0.6\n",
    "))\n",
    "\n",
    "fig.update_layout(yaxis_range=[0, 1], xaxis_range=[-1,2], width=400, height=500)\n",
    "# Customize the layout\n",
    "fig.update_layout(\n",
    "    title='Fig C: General support',\n",
    "    xaxis=dict(title='Values'),\n",
    "    yaxis=dict(title='Mean'),\n",
    "    barmode='group',\n",
    "    bargap=0.1\n",
    "    \n",
    ")\n",
    "\n",
    "# Show the plot\n",
    "fig.show()"
   ]
  },
  {
   "cell_type": "markdown",
   "metadata": {},
   "source": [
    "##### Regions"
   ]
  },
  {
   "cell_type": "code",
   "execution_count": 12,
   "metadata": {},
   "outputs": [
    {
     "data": {
      "text/plain": [
       "array(['Puducherry', 'Dadra and Nagar Haveli and Daman & Diu',\n",
       "       'Uttar Pradesh', 'Ladakh', 'West Bengal', 'Tripura'], dtype=object)"
      ]
     },
     "execution_count": 12,
     "metadata": {},
     "output_type": "execute_result"
    }
   ],
   "source": [
    "conjoint = pd.read_csv(OUT / \"data\" / \"data_clean.csv\")\n",
    "\n",
    "conjoint[\"locationFilter\"].unique()"
   ]
  },
  {
   "attachments": {},
   "cell_type": "markdown",
   "metadata": {},
   "source": [
    "#### Frequencies of attributes"
   ]
  },
  {
   "cell_type": "code",
   "execution_count": 13,
   "metadata": {},
   "outputs": [
    {
     "data": {
      "text/html": [
       "<div>\n",
       "<style scoped>\n",
       "    .dataframe tbody tr th:only-of-type {\n",
       "        vertical-align: middle;\n",
       "    }\n",
       "\n",
       "    .dataframe tbody tr th {\n",
       "        vertical-align: top;\n",
       "    }\n",
       "\n",
       "    .dataframe thead th {\n",
       "        text-align: right;\n",
       "    }\n",
       "</style>\n",
       "<table border=\"1\" class=\"dataframe\">\n",
       "  <thead>\n",
       "    <tr style=\"text-align: right;\">\n",
       "      <th></th>\n",
       "      <th>frequency</th>\n",
       "    </tr>\n",
       "    <tr>\n",
       "      <th>Attribute_level</th>\n",
       "      <th></th>\n",
       "    </tr>\n",
       "  </thead>\n",
       "  <tbody>\n",
       "    <tr>\n",
       "      <th>Eliminate2050</th>\n",
       "      <td>0.34</td>\n",
       "    </tr>\n",
       "    <tr>\n",
       "      <th>Eliminate2070</th>\n",
       "      <td>0.33</td>\n",
       "    </tr>\n",
       "    <tr>\n",
       "      <th>Reduce2030</th>\n",
       "      <td>0.33</td>\n",
       "    </tr>\n",
       "    <tr>\n",
       "      <th>EnergyAccess</th>\n",
       "      <td>0.25</td>\n",
       "    </tr>\n",
       "    <tr>\n",
       "      <th>InsureWorkers</th>\n",
       "      <td>0.25</td>\n",
       "    </tr>\n",
       "    <tr>\n",
       "      <th>LowPrices</th>\n",
       "      <td>0.25</td>\n",
       "    </tr>\n",
       "    <tr>\n",
       "      <th>NothingSoc</th>\n",
       "      <td>0.25</td>\n",
       "    </tr>\n",
       "    <tr>\n",
       "      <th>IdentityCoalRegions</th>\n",
       "      <td>0.25</td>\n",
       "    </tr>\n",
       "    <tr>\n",
       "      <th>IndustryCoalRegions</th>\n",
       "      <td>0.25</td>\n",
       "    </tr>\n",
       "    <tr>\n",
       "      <th>NothingEco</th>\n",
       "      <td>0.25</td>\n",
       "    </tr>\n",
       "    <tr>\n",
       "      <th>WorkersCoalRegion</th>\n",
       "      <td>0.25</td>\n",
       "    </tr>\n",
       "    <tr>\n",
       "      <th>Gov&amp;Businesses</th>\n",
       "      <td>0.17</td>\n",
       "    </tr>\n",
       "    <tr>\n",
       "      <th>Gov&amp;CivilSociety</th>\n",
       "      <td>0.16</td>\n",
       "    </tr>\n",
       "    <tr>\n",
       "      <th>Gov&amp;LaborUnions</th>\n",
       "      <td>0.17</td>\n",
       "    </tr>\n",
       "    <tr>\n",
       "      <th>Gov&amp;LocalGov</th>\n",
       "      <td>0.17</td>\n",
       "    </tr>\n",
       "    <tr>\n",
       "      <th>Gov&amp;Researchers</th>\n",
       "      <td>0.16</td>\n",
       "    </tr>\n",
       "    <tr>\n",
       "      <th>GovAlone</th>\n",
       "      <td>0.17</td>\n",
       "    </tr>\n",
       "    <tr>\n",
       "      <th>Fin&amp;TechSupport</th>\n",
       "      <td>0.25</td>\n",
       "    </tr>\n",
       "    <tr>\n",
       "      <th>FinSupportOnly</th>\n",
       "      <td>0.25</td>\n",
       "    </tr>\n",
       "    <tr>\n",
       "      <th>NoInterference</th>\n",
       "      <td>0.25</td>\n",
       "    </tr>\n",
       "    <tr>\n",
       "      <th>TechSupportOnly</th>\n",
       "      <td>0.25</td>\n",
       "    </tr>\n",
       "  </tbody>\n",
       "</table>\n",
       "</div>"
      ],
      "text/plain": [
       "                     frequency\n",
       "Attribute_level               \n",
       "Eliminate2050             0.34\n",
       "Eliminate2070             0.33\n",
       "Reduce2030                0.33\n",
       "EnergyAccess              0.25\n",
       "InsureWorkers             0.25\n",
       "LowPrices                 0.25\n",
       "NothingSoc                0.25\n",
       "IdentityCoalRegions       0.25\n",
       "IndustryCoalRegions       0.25\n",
       "NothingEco                0.25\n",
       "WorkersCoalRegion         0.25\n",
       "Gov&Businesses            0.17\n",
       "Gov&CivilSociety          0.16\n",
       "Gov&LaborUnions           0.17\n",
       "Gov&LocalGov              0.17\n",
       "Gov&Researchers           0.16\n",
       "GovAlone                  0.17\n",
       "Fin&TechSupport           0.25\n",
       "FinSupportOnly            0.25\n",
       "NoInterference            0.25\n",
       "TechSupportOnly           0.25"
      ]
     },
     "execution_count": 13,
     "metadata": {},
     "output_type": "execute_result"
    }
   ],
   "source": [
    "conjoint_reg = pd.read_csv(OUT / \"data\" / \"data_regression.csv\")\n",
    "\n",
    "#conjoint_dummy.columns.str.startswith('att')\n",
    "def frequencies(conjoint_reg):\n",
    "    \n",
    "    frequency_table =  {}\n",
    "    groups = ['att_1', 'att_2','att_3', 'att_4', 'att_5'] #add 6\n",
    "    for group in groups:\n",
    "        total = sum(dict(conjoint_reg.filter(like=group).sum()).values())\n",
    "        frequency_table[group] = {key.replace(f'{group}_', '') : (value / total).round(2) for key, value in dict(conjoint_reg.filter(like=group).sum()).items()}\n",
    "    frequency_table = pd.DataFrame(frequency_table).sum(axis=1)\n",
    "    frequency_table = pd.DataFrame(frequency_table, columns=[\"frequency\"])\n",
    "\n",
    "    frequency_table = frequency_table.rename_axis(\"Attribute_level\")\n",
    "    return frequency_table\n",
    "\n",
    "frequencies(conjoint_reg)"
   ]
  },
  {
   "attachments": {},
   "cell_type": "markdown",
   "metadata": {},
   "source": [
    "#### Time spent on surveys"
   ]
  },
  {
   "cell_type": "code",
   "execution_count": 6,
   "metadata": {},
   "outputs": [
    {
     "data": {
      "application/vnd.plotly.v1+json": {
       "config": {
        "plotlyServerURL": "https://plot.ly"
       },
       "data": [
        {
         "autobinx": false,
         "histnorm": "probability density",
         "legendgroup": "DurationMin",
         "marker": {
          "color": "rgb(31, 119, 180)"
         },
         "name": "DurationMin",
         "opacity": 0.7,
         "type": "histogram",
         "x": [
          3.283333333333333,
          5.45,
          6.383333333333334,
          5.533333333333333,
          12.066666666666666,
          12.65,
          18.933333333333334,
          17.933333333333334,
          19.116666666666667,
          14.033333333333333,
          14.866666666666667,
          5.533333333333333,
          14.583333333333334,
          13.083333333333334,
          6.616666666666666,
          17.666666666666668,
          5.3,
          7.716666666666667,
          20.8,
          11.216666666666667,
          9.5,
          14.366666666666667,
          7.516666666666667,
          10.216666666666667,
          10.766666666666667,
          9.733333333333333,
          12.633333333333333,
          13.183333333333334,
          12.216666666666667,
          5.583333333333333,
          15.783333333333333,
          5.933333333333334,
          13.316666666666666,
          29.816666666666666,
          26.8,
          27.016666666666666,
          22.416666666666668,
          9.6,
          15.416666666666666,
          25.533333333333335,
          10.416666666666666,
          6.016666666666667,
          14.583333333333334,
          27.366666666666667,
          25.883333333333333,
          21.133333333333333,
          13.983333333333333,
          13.466666666666667,
          4.183333333333334,
          17.15,
          9.933333333333334,
          18.216666666666665,
          11.766666666666667,
          6.033333333333333,
          11.766666666666667,
          20.966666666666665,
          5.766666666666667,
          13.2,
          52.016666666666666,
          3.95,
          13.083333333333334,
          8.266666666666667,
          7.9,
          8.25,
          7.75,
          8.766666666666667,
          6.466666666666667,
          32.9,
          8.9,
          29.5,
          12.133333333333333,
          47.68333333333333,
          5,
          12.816666666666666,
          37.81666666666667,
          11.066666666666666,
          26.916666666666668,
          4.5,
          10.633333333333333,
          13.183333333333334,
          14.066666666666666,
          14.416666666666666,
          13.316666666666666,
          11.683333333333334,
          10.35,
          5.516666666666667,
          7.983333333333333,
          18.55,
          9.833333333333334,
          16.65,
          13.8,
          9.316666666666666,
          8.966666666666667,
          8.566666666666666,
          10.083333333333334,
          10.9,
          11.5,
          10.566666666666666,
          11,
          18,
          13.616666666666667,
          14.8,
          12.266666666666667,
          16.766666666666666,
          18.283333333333335,
          16.55,
          18.116666666666667,
          19.366666666666667,
          6.933333333333334,
          6.866666666666666,
          21.833333333333332,
          11.233333333333333,
          12.35,
          11.533333333333333,
          4.6,
          7.083333333333333,
          7.983333333333333,
          8.95,
          28.95,
          15.783333333333333,
          28.8,
          17.066666666666666,
          23.333333333333332,
          15.583333333333334,
          4.566666666666666,
          27.266666666666666,
          19.333333333333332,
          14.316666666666666,
          14.9,
          7.866666666666666,
          12.683333333333334,
          19.083333333333332,
          17.9,
          23.766666666666666,
          18.883333333333333,
          7.616666666666666,
          10.966666666666667,
          26.9,
          14.183333333333334,
          15.583333333333334,
          18.833333333333332,
          12.066666666666666,
          6.616666666666666,
          46.28333333333333,
          15.15,
          8.95,
          11.383333333333333,
          10.383333333333333,
          13.183333333333334,
          4.883333333333334,
          16.833333333333332,
          5.583333333333333,
          12.2,
          7.15,
          9.4,
          4.066666666666666,
          5.233333333333333,
          10.183333333333334,
          14.55,
          3.816666666666667,
          31.1,
          13.166666666666666,
          17.266666666666666,
          20.35,
          5.033333333333333,
          10.216666666666667,
          13.216666666666667,
          14.45,
          10.316666666666666,
          13.816666666666666,
          4.483333333333333,
          21.666666666666668,
          8.9,
          22.866666666666667,
          15.516666666666667,
          9.116666666666667,
          25.566666666666666,
          18,
          26.483333333333334,
          7.916666666666667,
          11.25,
          36.266666666666666,
          11.15,
          28.333333333333332,
          19.716666666666665,
          3.3833333333333333,
          19.016666666666666,
          18.75,
          17.683333333333334,
          43.4,
          4.816666666666666,
          9.033333333333333,
          17.066666666666666,
          12.166666666666666,
          19.833333333333332,
          13.633333333333333,
          25.033333333333335,
          10.216666666666667,
          8.35,
          9.133333333333333,
          8.05,
          5.7,
          9.05,
          7.116666666666666,
          41.56666666666667,
          35.05,
          7.316666666666666,
          11.066666666666666,
          22.466666666666665,
          13.233333333333333,
          10.283333333333333,
          11.833333333333334,
          9.9,
          17.55,
          4.8,
          29.966666666666665,
          21.916666666666668,
          22.816666666666666,
          10.316666666666666,
          8.1,
          24.35,
          10.25,
          24.15,
          11.466666666666667,
          17.8,
          53.86666666666667,
          5.583333333333333,
          26.466666666666665,
          6.783333333333333,
          29.833333333333332,
          20.483333333333334,
          3.6166666666666667,
          16.416666666666668,
          11.816666666666666,
          7.266666666666667,
          22.616666666666667,
          11.316666666666666,
          14.433333333333334,
          17.483333333333334,
          14.666666666666666,
          16.983333333333334,
          8.283333333333333,
          14.85,
          11.583333333333334,
          16.633333333333333,
          27.816666666666666,
          13.6,
          56.45,
          3.4833333333333334,
          3.433333333333333,
          3.5166666666666666,
          4.266666666666667,
          4.3,
          3.5833333333333335,
          3.5,
          3.1166666666666667,
          3.9166666666666665,
          4.05,
          5.816666666666666,
          4.766666666666667,
          4.816666666666666,
          5.133333333333334,
          3.25,
          4.733333333333333,
          5.266666666666667,
          5.65,
          5.25,
          5.366666666666666,
          5.783333333333333,
          6.333333333333333,
          6.316666666666666,
          6.283333333333333,
          6.5,
          6.65,
          5.383333333333334,
          6.75,
          6.116666666666666,
          6.733333333333333,
          6.666666666666667,
          6.75,
          5.9,
          7.133333333333334,
          6.116666666666666,
          6.933333333333334,
          7.516666666666667,
          7.133333333333334,
          7.7,
          7.533333333333333,
          7.65,
          7.983333333333333,
          7.366666666666666,
          7.733333333333333,
          9.1,
          7.366666666666666,
          8.166666666666666,
          8.35,
          8.35,
          8.416666666666666,
          8.733333333333333,
          8.616666666666667,
          9.233333333333333,
          8.216666666666667,
          9.666666666666666,
          7.766666666666667,
          9.033333333333333,
          9.35,
          9.316666666666666,
          9.566666666666666,
          9.933333333333334,
          10,
          8.733333333333333,
          8.716666666666667,
          9.95,
          10.25,
          9.733333333333333,
          9.2,
          10.316666666666666,
          9.983333333333333,
          11.083333333333334,
          10.65,
          11.05,
          9.65,
          12.483333333333333,
          10.633333333333333,
          10.6,
          12.066666666666666,
          11.516666666666667,
          12.05,
          12.133333333333333,
          11.75,
          12.233333333333333,
          11.516666666666667,
          12.833333333333334,
          13.15,
          13.183333333333334,
          8.4,
          13.283333333333333,
          12.533333333333333,
          12.05,
          13.066666666666666,
          10.416666666666666,
          13.65,
          13.483333333333333,
          14.533333333333333,
          14.683333333333334,
          11.016666666666667,
          13.233333333333333,
          14.133333333333333,
          13.6,
          14.266666666666667,
          14.616666666666667,
          13.083333333333334,
          13.833333333333334,
          14.966666666666667,
          14.883333333333333,
          14.716666666666667,
          13.816666666666666,
          15.116666666666667,
          15.233333333333333,
          14.65,
          13.1,
          15.466666666666667,
          15.333333333333334,
          13.166666666666666,
          10.933333333333334,
          15.533333333333333,
          14.9,
          15.85,
          15.733333333333333,
          16.333333333333332,
          16.366666666666667,
          17.166666666666668,
          15.666666666666666,
          15.666666666666666,
          16.45,
          16.3,
          16.033333333333335,
          16.483333333333334,
          15.933333333333334,
          16.616666666666667,
          14.9,
          17.333333333333332,
          17.066666666666666,
          17.266666666666666,
          18.766666666666666,
          16.85,
          17.583333333333332,
          15.583333333333334,
          18.633333333333333,
          19.25,
          17.933333333333334,
          15.716666666666667,
          18.933333333333334,
          19.833333333333332,
          19.25,
          19.966666666666665,
          20.5,
          20,
          20.433333333333334,
          18.133333333333333,
          17.2,
          20.266666666666666,
          20.266666666666666,
          22.5,
          19.75,
          22.4,
          19.666666666666668,
          22.766666666666666,
          19,
          23.416666666666668,
          24.633333333333333,
          24.283333333333335,
          5.833333333333333,
          25.066666666666666,
          26.316666666666666,
          27.8,
          28.25,
          27.8,
          28.933333333333334,
          30.666666666666668,
          31.683333333333334,
          5.433333333333334,
          40.083333333333336,
          58.4,
          21.466666666666665,
          9.5,
          3.3833333333333333,
          5.7,
          15.233333333333333,
          8.85,
          5.75,
          11.85,
          6.883333333333334,
          7.866666666666666,
          6.866666666666666,
          15.783333333333333,
          15.833333333333334,
          9.65,
          16.183333333333334,
          7.566666666666666,
          16.433333333333334,
          31.116666666666667,
          25.283333333333335,
          13.016666666666667,
          6.783333333333333,
          16.883333333333333,
          27.8,
          10.566666666666666,
          7.6,
          11.883333333333333,
          8.4,
          18.9,
          7.466666666666667,
          48.266666666666666,
          16.466666666666665,
          12.533333333333333,
          30.5,
          24.866666666666667,
          21.383333333333333,
          10.016666666666667,
          19.466666666666665,
          34.45,
          16.516666666666666,
          14.75,
          10.25,
          16.266666666666666,
          6.266666666666667,
          8.266666666666667,
          4.916666666666667,
          3.8333333333333335,
          3.25,
          3.9833333333333334,
          6.65,
          5.583333333333333,
          8.766666666666667,
          5.3,
          5.266666666666667,
          11,
          7.55,
          7.8,
          6.45,
          7.833333333333333,
          9.816666666666666,
          9.65,
          9.816666666666666,
          8.916666666666666,
          8.95,
          13.166666666666666,
          12.116666666666667,
          10.166666666666666,
          9.216666666666667,
          9.55,
          10.35,
          11.766666666666667,
          6.933333333333334,
          11.35,
          13.183333333333334,
          8.283333333333333,
          3.5166666666666666,
          14.366666666666667,
          15.066666666666666,
          11.333333333333334,
          10.55,
          7.183333333333334,
          14.966666666666667,
          8.25,
          11.2,
          9.116666666666667,
          21,
          3.8333333333333335,
          16.433333333333334,
          22.583333333333332,
          8.8,
          17.8,
          22.916666666666668,
          17.733333333333334,
          14.9,
          18.066666666666666,
          14.15,
          19.083333333333332,
          13.166666666666666,
          22.983333333333334,
          17.966666666666665,
          18.666666666666668,
          18.7,
          23.583333333333332,
          20.033333333333335,
          12.183333333333334,
          20.95,
          7.4,
          23.6,
          26.566666666666666,
          24.4,
          25.2,
          24.416666666666668,
          6.933333333333334,
          28.45,
          28.366666666666667,
          30.716666666666665,
          31.783333333333335,
          34.666666666666664,
          34.65,
          37.733333333333334,
          35.916666666666664,
          33.63333333333333,
          54.06666666666667,
          28.483333333333334,
          56.36666666666667,
          46.983333333333334,
          9.15,
          21.083333333333332,
          21,
          18.5,
          5.016666666666667,
          10.8,
          5.833333333333333,
          5.9,
          24.2,
          37.416666666666664,
          7.966666666666667,
          25.533333333333335,
          14.25,
          44.583333333333336,
          13.266666666666667,
          12.133333333333333,
          11.266666666666667,
          16.866666666666667,
          3.533333333333333,
          27.933333333333334,
          42.63333333333333,
          17.55,
          45.166666666666664,
          5.066666666666666,
          13.083333333333334,
          6.05,
          4.316666666666666,
          12.983333333333333,
          17.633333333333333,
          17.166666666666668,
          14.233333333333333,
          24.35,
          14.183333333333334,
          37.266666666666666,
          9.466666666666667,
          5.466666666666667,
          10.633333333333333,
          3.716666666666667,
          4.216666666666667,
          11.483333333333333,
          5.966666666666667,
          10.916666666666666,
          8.083333333333334,
          19.616666666666667,
          10.383333333333333,
          8.25,
          12.95,
          11.1,
          16.15,
          11.616666666666667,
          12.433333333333334,
          18.733333333333334,
          16.35,
          9.7,
          3.4166666666666665,
          5.4,
          8.566666666666666,
          14.75,
          9.033333333333333,
          17.483333333333334,
          27.45,
          11.783333333333333,
          9.133333333333333,
          51.25,
          3.5166666666666666,
          7.666666666666667,
          12,
          18.5,
          26.083333333333332,
          6.183333333333334,
          33.61666666666667,
          27.433333333333334,
          11.4,
          17.883333333333333,
          13.516666666666667,
          13.083333333333334,
          19.916666666666668,
          20.516666666666666,
          10.666666666666666,
          19.316666666666666,
          17.8,
          18.05,
          16.316666666666666,
          43.583333333333336,
          3.7333333333333334,
          16.55,
          15.216666666666667,
          5.566666666666666,
          8.3,
          9,
          3.9,
          10.333333333333334,
          3.8,
          27.683333333333334,
          7.533333333333333,
          8.716666666666667,
          12.266666666666667,
          39.95,
          7.966666666666667,
          6.8,
          33.1,
          3.8333333333333335,
          7.7,
          6.983333333333333,
          18.1,
          3.5166666666666666,
          33.56666666666667,
          8.4,
          4.35,
          25.833333333333332,
          19.933333333333334,
          3.5166666666666666,
          4.766666666666667,
          7.733333333333333,
          11.166666666666666,
          8.783333333333333,
          16.866666666666667,
          16.4,
          12.683333333333334,
          4.25,
          6.416666666666667,
          4.7,
          7.916666666666667,
          4.766666666666667,
          6.033333333333333,
          9.45,
          9.833333333333334,
          8.95,
          10.566666666666666,
          5.516666666666667,
          9.216666666666667,
          10.75,
          10.3,
          12.116666666666667,
          9.666666666666666,
          6.85,
          7.066666666666666,
          14.033333333333333,
          11.433333333333334,
          9.333333333333334,
          13.783333333333333,
          16.216666666666665,
          19.75,
          15.7,
          10.716666666666667,
          7.033333333333333,
          16.1,
          9.833333333333334,
          14.566666666666666,
          16.2,
          2.033333333333333,
          17.016666666666666,
          11.066666666666666,
          18.316666666666666,
          18.133333333333333,
          13.416666666666666,
          19.7,
          11.15,
          7.883333333333334,
          16.883333333333333,
          16.533333333333335,
          20.133333333333333,
          7.266666666666667,
          20.966666666666665,
          14.233333333333333,
          4.916666666666667,
          10.133333333333333,
          20.833333333333332,
          20.066666666666666,
          18.3,
          4.816666666666666,
          6.633333333333334,
          20.133333333333333,
          20.083333333333332,
          17.016666666666666,
          7.683333333333334,
          16.5,
          6.983333333333333,
          15.966666666666667,
          20.25,
          9.583333333333334,
          19.2,
          6.2,
          24.35,
          16.816666666666666,
          21.516666666666666,
          25.4,
          10.183333333333334,
          21.733333333333334,
          22.3,
          14.733333333333333,
          10.633333333333333,
          24.733333333333334,
          25.516666666666666,
          27.35,
          34.7,
          23.6,
          20.483333333333334,
          29.3,
          31.533333333333335,
          26.933333333333334,
          52.6,
          15.8,
          2.4833333333333334,
          13.666666666666666,
          5.95,
          14.616666666666667,
          7.416666666666667,
          8.233333333333333,
          7.083333333333333,
          6.666666666666667,
          7.116666666666666,
          4.916666666666667,
          8.383333333333333,
          13.55,
          9.533333333333333,
          17.016666666666666,
          15.4,
          11.866666666666667,
          26.45,
          22.666666666666668,
          24.033333333333335,
          25.116666666666667,
          11.283333333333333,
          6.6,
          11.9,
          10.716666666666667,
          27.35,
          13.716666666666667,
          34.81666666666667,
          35.81666666666667,
          5.066666666666666,
          35.38333333333333,
          43.68333333333333,
          30.666666666666668,
          35.416666666666664,
          21.633333333333333,
          23.266666666666666,
          16.05,
          50.13333333333333,
          35.81666666666667,
          12.85,
          11.05,
          33.9,
          11.4,
          17.016666666666666,
          23.5,
          12.716666666666667,
          11.583333333333334,
          14.233333333333333,
          16.316666666666666,
          23.583333333333332,
          4.433333333333334,
          8.433333333333334,
          18.816666666666666,
          18.016666666666666,
          26.783333333333335,
          33.68333333333333,
          5.65,
          4.383333333333334,
          29.633333333333333,
          3.3,
          11.816666666666666,
          8.766666666666667,
          45.483333333333334,
          21.966666666666665,
          31.266666666666666,
          25.383333333333333,
          13.883333333333333,
          9.55,
          6.633333333333334,
          11.816666666666666,
          5.7,
          23.383333333333333,
          32.35,
          12.4,
          14.7,
          9.266666666666667,
          17.316666666666666,
          25.216666666666665,
          31.816666666666666,
          12.25,
          4.75,
          14.1,
          14.483333333333333,
          5.1,
          5.266666666666667,
          15.983333333333333,
          14.083333333333334,
          14.35,
          25,
          14.216666666666667,
          2.5833333333333335,
          8.266666666666667,
          8.366666666666667,
          9.583333333333334,
          9.35,
          8.816666666666666,
          9.616666666666667,
          10.05,
          4.233333333333333,
          9.133333333333333,
          8.816666666666666,
          9.616666666666667,
          10.216666666666667,
          5.2,
          10.35,
          11.683333333333334,
          9.9,
          9.25,
          13.683333333333334,
          9.533333333333333,
          8.766666666666667,
          7.916666666666667,
          12.183333333333334,
          10.266666666666667,
          7.35,
          19.35,
          16.966666666666665,
          12.45,
          19.316666666666666,
          15.216666666666667,
          25.666666666666668,
          14.066666666666666,
          10.983333333333333,
          18.916666666666668,
          20.1,
          3.65,
          8.233333333333333,
          4.933333333333334,
          9,
          4.366666666666666,
          23.316666666666666,
          5.1,
          3.2666666666666666,
          24.416666666666668,
          23.166666666666668,
          8.5,
          57.13333333333333,
          19.016666666666666,
          20.85,
          13.616666666666667,
          3.1666666666666665,
          21.9,
          54.2,
          11.95,
          26.733333333333334,
          5.883333333333334,
          5.216666666666667,
          14.583333333333334,
          14.566666666666666,
          14.366666666666667,
          8.616666666666667,
          14.483333333333333,
          12.466666666666667,
          13.533333333333333,
          10.716666666666667,
          11.766666666666667,
          8.483333333333333,
          16.433333333333334,
          14.683333333333334,
          12.016666666666667,
          13.85,
          14.9,
          20.2,
          31.666666666666668,
          12.783333333333333,
          11.1,
          50.75,
          23.366666666666667,
          13.483333333333333,
          17.716666666666665,
          6.433333333333334,
          43.233333333333334,
          6.883333333333334,
          3.45,
          14.816666666666666,
          9.683333333333334,
          13.266666666666667,
          12.733333333333333,
          4.416666666666667,
          7.133333333333334,
          22.716666666666665,
          10.566666666666666,
          17.566666666666666,
          15.1,
          15.45,
          4.25,
          21.233333333333334,
          18.566666666666666,
          21.566666666666666,
          26.283333333333335,
          16.483333333333334,
          25.866666666666667,
          9.45,
          19.4,
          30.7,
          38.28333333333333,
          6.85,
          39.38333333333333,
          9.25,
          31.616666666666667,
          31.833333333333332,
          19.95,
          20.483333333333334,
          4.816666666666666,
          16.916666666666668,
          43.88333333333333,
          16.766666666666666,
          5.083333333333333,
          44.68333333333333,
          19.283333333333335,
          7.5,
          34.75,
          31.233333333333334,
          10.4,
          12.816666666666666,
          3.8,
          4.2,
          5.666666666666667
         ],
         "xaxis": "x",
         "xbins": {
          "end": 58.4,
          "size": 2,
          "start": 2.033333333333333
         },
         "yaxis": "y"
        },
        {
         "legendgroup": "DurationMin",
         "marker": {
          "color": "rgb(31, 119, 180)"
         },
         "mode": "lines",
         "name": "DurationMin",
         "showlegend": false,
         "type": "scatter",
         "x": [
          2.033333333333333,
          2.1460666666666666,
          2.2588,
          2.3715333333333333,
          2.4842666666666666,
          2.597,
          2.7097333333333333,
          2.8224666666666667,
          2.9352,
          3.047933333333333,
          3.1606666666666667,
          3.2733999999999996,
          3.3861333333333334,
          3.4988666666666663,
          3.6116,
          3.724333333333333,
          3.837066666666667,
          3.9497999999999998,
          4.062533333333333,
          4.1752666666666665,
          4.288,
          4.400733333333333,
          4.513466666666666,
          4.6262,
          4.738933333333334,
          4.851666666666667,
          4.9643999999999995,
          5.077133333333333,
          5.189866666666667,
          5.3026,
          5.415333333333333,
          5.528066666666667,
          5.6408000000000005,
          5.753533333333333,
          5.866266666666666,
          5.978999999999999,
          6.091733333333333,
          6.204466666666667,
          6.3172,
          6.4299333333333335,
          6.542666666666666,
          6.6554,
          6.768133333333333,
          6.880866666666667,
          6.9936,
          7.106333333333334,
          7.2190666666666665,
          7.3318,
          7.444533333333333,
          7.557266666666667,
          7.67,
          7.782733333333333,
          7.895466666666667,
          8.0082,
          8.120933333333333,
          8.233666666666666,
          8.3464,
          8.459133333333334,
          8.571866666666667,
          8.6846,
          8.797333333333334,
          8.910066666666665,
          9.0228,
          9.135533333333333,
          9.248266666666666,
          9.361,
          9.473733333333332,
          9.586466666666666,
          9.699200000000001,
          9.811933333333332,
          9.924666666666667,
          10.0374,
          10.150133333333333,
          10.262866666666666,
          10.3756,
          10.488333333333333,
          10.601066666666666,
          10.7138,
          10.826533333333334,
          10.939266666666667,
          11.052,
          11.164733333333333,
          11.277466666666667,
          11.3902,
          11.502933333333333,
          11.615666666666668,
          11.7284,
          11.841133333333332,
          11.953866666666666,
          12.0666,
          12.179333333333334,
          12.292066666666667,
          12.4048,
          12.517533333333335,
          12.630266666666667,
          12.742999999999999,
          12.855733333333333,
          12.968466666666666,
          13.0812,
          13.193933333333334,
          13.306666666666667,
          13.419400000000001,
          13.532133333333332,
          13.644866666666665,
          13.7576,
          13.870333333333333,
          13.983066666666668,
          14.0958,
          14.208533333333333,
          14.321266666666668,
          14.434,
          14.546733333333332,
          14.659466666666667,
          14.7722,
          14.884933333333334,
          14.997666666666667,
          15.1104,
          15.223133333333333,
          15.335866666666666,
          15.448599999999999,
          15.561333333333334,
          15.674066666666667,
          15.7868,
          15.899533333333334,
          16.01226666666667,
          16.125,
          16.23773333333333,
          16.350466666666666,
          16.4632,
          16.57593333333333,
          16.688666666666666,
          16.8014,
          16.914133333333332,
          17.026866666666667,
          17.1396,
          17.252333333333333,
          17.365066666666667,
          17.477800000000002,
          17.590533333333333,
          17.703266666666668,
          17.816,
          17.928733333333334,
          18.041466666666665,
          18.154200000000003,
          18.266933333333334,
          18.379666666666665,
          18.492399999999996,
          18.605133333333335,
          18.717866666666666,
          18.830599999999997,
          18.943333333333335,
          19.056066666666666,
          19.168799999999997,
          19.281533333333336,
          19.394266666666667,
          19.506999999999998,
          19.619733333333336,
          19.732466666666667,
          19.8452,
          19.95793333333333,
          20.070666666666668,
          20.1834,
          20.29613333333333,
          20.40886666666667,
          20.5216,
          20.63433333333333,
          20.74706666666667,
          20.8598,
          20.97253333333333,
          21.08526666666667,
          21.198,
          21.31073333333333,
          21.42346666666667,
          21.5362,
          21.648933333333332,
          21.761666666666663,
          21.8744,
          21.987133333333333,
          22.099866666666664,
          22.212600000000002,
          22.325333333333333,
          22.438066666666664,
          22.550800000000002,
          22.663533333333334,
          22.776266666666665,
          22.889000000000003,
          23.001733333333334,
          23.114466666666665,
          23.227200000000003,
          23.339933333333335,
          23.452666666666666,
          23.565399999999997,
          23.678133333333335,
          23.790866666666666,
          23.903599999999997,
          24.016333333333336,
          24.129066666666667,
          24.241799999999998,
          24.354533333333336,
          24.467266666666667,
          24.58,
          24.692733333333337,
          24.805466666666668,
          24.9182,
          25.03093333333333,
          25.143666666666668,
          25.2564,
          25.36913333333333,
          25.48186666666667,
          25.5946,
          25.70733333333333,
          25.82006666666667,
          25.9328,
          26.04553333333333,
          26.15826666666667,
          26.271,
          26.383733333333332,
          26.49646666666667,
          26.6092,
          26.721933333333332,
          26.834666666666664,
          26.947400000000002,
          27.060133333333333,
          27.172866666666664,
          27.285600000000002,
          27.398333333333333,
          27.511066666666665,
          27.623800000000003,
          27.736533333333334,
          27.849266666666665,
          27.962000000000003,
          28.074733333333334,
          28.187466666666666,
          28.300200000000004,
          28.412933333333335,
          28.525666666666666,
          28.638399999999997,
          28.751133333333335,
          28.863866666666667,
          28.976599999999998,
          29.089333333333336,
          29.202066666666667,
          29.314799999999998,
          29.427533333333336,
          29.540266666666668,
          29.653,
          29.765733333333337,
          29.878466666666668,
          29.9912,
          30.10393333333333,
          30.21666666666667,
          30.3294,
          30.44213333333333,
          30.55486666666667,
          30.6676,
          30.78033333333333,
          30.89306666666667,
          31.0058,
          31.118533333333332,
          31.23126666666667,
          31.344,
          31.456733333333332,
          31.56946666666667,
          31.6822,
          31.794933333333333,
          31.907666666666664,
          32.0204,
          32.13313333333333,
          32.245866666666664,
          32.3586,
          32.471333333333334,
          32.584066666666665,
          32.6968,
          32.809533333333334,
          32.922266666666665,
          33.035000000000004,
          33.147733333333335,
          33.260466666666666,
          33.373200000000004,
          33.48593333333333,
          33.59866666666667,
          33.7114,
          33.824133333333336,
          33.93686666666667,
          34.0496,
          34.16233333333333,
          34.27506666666667,
          34.3878,
          34.50053333333333,
          34.61326666666667,
          34.726,
          34.83873333333333,
          34.95146666666666,
          35.0642,
          35.17693333333333,
          35.28966666666667,
          35.4024,
          35.51513333333333,
          35.62786666666666,
          35.7406,
          35.85333333333333,
          35.96606666666667,
          36.0788,
          36.191533333333325,
          36.30426666666666,
          36.416999999999994,
          36.52973333333333,
          36.642466666666664,
          36.7552,
          36.86793333333333,
          36.980666666666664,
          37.093399999999995,
          37.206133333333334,
          37.318866666666665,
          37.4316,
          37.544333333333334,
          37.657066666666665,
          37.7698,
          37.88253333333333,
          37.995266666666666,
          38.108,
          38.220733333333335,
          38.333466666666666,
          38.4462,
          38.55893333333333,
          38.67166666666667,
          38.7844,
          38.897133333333336,
          39.00986666666667,
          39.1226,
          39.23533333333333,
          39.34806666666667,
          39.4608,
          39.57353333333333,
          39.68626666666667,
          39.79899999999999,
          39.91173333333333,
          40.02446666666666,
          40.1372,
          40.24993333333333,
          40.36266666666667,
          40.4754,
          40.58813333333333,
          40.70086666666666,
          40.8136,
          40.92633333333333,
          41.03906666666667,
          41.1518,
          41.264533333333326,
          41.377266666666664,
          41.489999999999995,
          41.60273333333333,
          41.715466666666664,
          41.8282,
          41.94093333333333,
          42.053666666666665,
          42.166399999999996,
          42.279133333333334,
          42.391866666666665,
          42.5046,
          42.617333333333335,
          42.730066666666666,
          42.8428,
          42.95553333333333,
          43.068266666666666,
          43.181,
          43.293733333333336,
          43.40646666666666,
          43.5192,
          43.63193333333333,
          43.74466666666667,
          43.8574,
          43.97013333333334,
          44.08286666666667,
          44.1956,
          44.30833333333333,
          44.42106666666667,
          44.5338,
          44.64653333333333,
          44.75926666666667,
          44.87199999999999,
          44.98473333333333,
          45.09746666666666,
          45.2102,
          45.32293333333333,
          45.43566666666667,
          45.548399999999994,
          45.66113333333333,
          45.77386666666666,
          45.8866,
          45.99933333333333,
          46.11206666666667,
          46.2248,
          46.337533333333326,
          46.450266666666664,
          46.562999999999995,
          46.67573333333333,
          46.788466666666665,
          46.9012,
          47.01393333333333,
          47.126666666666665,
          47.239399999999996,
          47.352133333333335,
          47.464866666666666,
          47.577600000000004,
          47.69033333333333,
          47.803066666666666,
          47.9158,
          48.02853333333333,
          48.14126666666667,
          48.254,
          48.366733333333336,
          48.47946666666666,
          48.5922,
          48.70493333333333,
          48.81766666666667,
          48.9304,
          49.04313333333334,
          49.15586666666666,
          49.2686,
          49.38133333333333,
          49.49406666666667,
          49.6068,
          49.71953333333333,
          49.83226666666667,
          49.94499999999999,
          50.05773333333333,
          50.17046666666666,
          50.2832,
          50.39593333333333,
          50.50866666666667,
          50.621399999999994,
          50.73413333333333,
          50.84686666666666,
          50.9596,
          51.07233333333333,
          51.18506666666667,
          51.297799999999995,
          51.410533333333326,
          51.523266666666665,
          51.635999999999996,
          51.748733333333334,
          51.861466666666665,
          51.9742,
          52.08693333333333,
          52.199666666666666,
          52.3124,
          52.425133333333335,
          52.537866666666666,
          52.650600000000004,
          52.76333333333333,
          52.87606666666667,
          52.9888,
          53.10153333333333,
          53.21426666666667,
          53.327,
          53.439733333333336,
          53.55246666666666,
          53.6652,
          53.77793333333333,
          53.89066666666667,
          54.0034,
          54.11613333333334,
          54.22886666666666,
          54.3416,
          54.45433333333333,
          54.56706666666667,
          54.6798,
          54.79253333333333,
          54.90526666666666,
          55.017999999999994,
          55.13073333333333,
          55.24346666666666,
          55.3562,
          55.46893333333333,
          55.58166666666667,
          55.694399999999995,
          55.80713333333333,
          55.919866666666664,
          56.0326,
          56.14533333333333,
          56.25806666666667,
          56.370799999999996,
          56.48353333333333,
          56.596266666666665,
          56.708999999999996,
          56.821733333333334,
          56.934466666666665,
          57.0472,
          57.15993333333333,
          57.272666666666666,
          57.3854,
          57.498133333333335,
          57.610866666666666,
          57.723600000000005,
          57.83633333333333,
          57.94906666666667,
          58.0618,
          58.17453333333333,
          58.28726666666667
         ],
         "xaxis": "x",
         "y": [
          0.014490751193480129,
          0.015261753769762269,
          0.01605073420149499,
          0.0168566096965316,
          0.017678222067904967,
          0.0185143440310927,
          0.019363686105424636,
          0.020224904046249888,
          0.021096606726523658,
          0.021977364379688988,
          0.022865717110263372,
          0.023760183574505732,
          0.02465926973103082,
          0.02556147756031375,
          0.026465313652725607,
          0.02736929756705302,
          0.028271969865363598,
          0.029171899735506254,
          0.030067692119405114,
          0.03095799427348423,
          0.03184150169690818,
          0.03271696337366813,
          0.03358318628569292,
          0.03443903916591865,
          0.03528345547238489,
          0.036115435576722824,
          0.036934048172632274,
          0.03773843092188171,
          0.03852779036680121,
          0.03930140114895984,
          0.040058604583537515,
          0.04079880664765289,
          0.041521475448437706,
          0.04222613824284185,
          0.04291237808591165,
          0.04357983018754176,
          0.044228178059439294,
          0.04485714953422592,
          0.0454665127372997,
          0.04605607208931416,
          0.046625664412999014,
          0.047175155212663904,
          0.04770443518820417,
          0.04821341703794068,
          0.0487020325963182,
          0.04917023034355691,
          0.049617973314976825,
          0.050045237428088384,
          0.05045201023586222,
          0.050838290105039874,
          0.051204085809114716,
          0.05154941651686456,
          0.05187431214921546,
          0.052178814069905426,
          0.05246297606901076,
          0.05272686559301176,
          0.05297056517077487,
          0.05319417398168471,
          0.05339780951019155,
          0.053581609230267384,
          0.05374573226366632,
          0.05389036095742038,
          0.054015702328630795,
          0.05412198932822418,
          0.05420948187987595,
          0.054278467655622754,
          0.0543292625556651,
          0.05436221086639402,
          0.054377685077584545,
          0.054376085346861565,
          0.05435783860680973,
          0.05432339731731261,
          0.0542732378727381,
          0.054207858680298704,
          0.05412777793217637,
          0.05403353109971346,
          0.05392566818301647,
          0.053804750753636145,
          0.05367134883148527,
          0.0535260376398091,
          0.053369394283780465,
          0.053201994399160873,
          0.05302440881743682,
          0.052837200292945426,
          0.05264092033578388,
          0.0524361061917992,
          0.05222327800776717,
          0.05200293621606279,
          0.05177555916878921,
          0.05154160104658864,
          0.05130149006229279,
          0.05105562697430244,
          0.050804383919236425,
          0.05054810356804618,
          0.05028709860458336,
          0.050021651520623225,
          0.049752014716671226,
          0.049478410893611345,
          0.049201033716449995,
          0.048920048728130404,
          0.048635594488684035,
          0.048347783912878084,
          0.048056705778021146,
          0.04776242637271726,
          0.04746499125708109,
          0.04716442710523966,
          0.046860743601793486,
          0.0465539353652625,
          0.04624398387332778,
          0.04593085936685099,
          0.045614522712129894,
          0.04529492720356737,
          0.04497202029181382,
          0.044645745225416915,
          0.04431604259701273,
          0.0439828517880371,
          0.04364611230878011,
          0.043305765033275254,
          0.04296175333096579,
          0.0426140240992859,
          0.04226252870318192,
          0.04190722382917144,
          0.0415480722627625,
          0.041185043598928134,
          0.04081811489584835,
          0.040447271282298636,
          0.04007250652889117,
          0.03969382359288322,
          0.0393112351454765,
          0.0389247640894762,
          0.03853444407388168,
          0.03814032001049424,
          0.037742448595966045,
          0.037340898840949585,
          0.03693575260614397,
          0.03652710514315254,
          0.03611506563617606,
          0.03569975773873105,
          0.03528132009783088,
          0.034859906856447825,
          0.03443568812361333,
          0.034008850400255704,
          0.03357959694784815,
          0.033148148086170746,
          0.0327147414060067,
          0.032279631882413846,
          0.0318430918743516,
          0.031405410996913935,
          0.03096689585322175,
          0.030527869614161096,
          0.030088671435613074,
          0.029649655704585675,
          0.02921119110771073,
          0.028773659517877807,
          0.02833745469731509,
          0.027902980818138683,
          0.02747065080425305,
          0.027040884501421617,
          0.026614106685304742,
          0.026190744920209313,
          0.025771227284162174,
          0.025355979978646092,
          0.024945424843859868,
          0.024539976802637982,
          0.02414004125813027,
          0.023746011471954313,
          0.023358265950756924,
          0.022977165869918388,
          0.022603052563484886,
          0.022236245109302017,
          0.021877038037747945,
          0.021525699191421825,
          0.021182467761663073,
          0.02084755252586596,
          0.02052113030726317,
          0.020203344676210853,
          0.01989430490907103,
          0.0195940852176104,
          0.01930272425847552,
          0.019020224928825064,
          0.018746554450669264,
          0.01848164474294143,
          0.01822539307687671,
          0.017977663006951094,
          0.01773828556649815,
          0.017507060714219317,
          0.017283759015174514,
          0.01706812353752373,
          0.016859871944304036,
          0.01665869875789588,
          0.016464277773560177,
          0.016276264597516504,
          0.01609429928447506,
          0.015918009049314168,
          0.01574701102769444,
          0.015580915060787948,
          0.015419326479951596,
          0.015261848868051323,
          0.015108086775213504,
          0.01495764836800916,
          0.014810147992427343,
          0.014665208632435877,
          0.014522464247431411,
          0.014381561973415804,
          0.014242164174286587,
          0.014103950331170217,
          0.013966618759251608,
          0.013829888143048337,
          0.013693498882541986,
          0.013557214244009982,
          0.013420821310802912,
          0.013284131730691215,
          0.013146982257767158,
          0.013009235088242052,
          0.01287077799083628,
          0.012731524233823064,
          0.012591412312167418,
          0.012450405479599733,
          0.012308491091880973,
          0.012165679768948107,
          0.012022004385071023,
          0.011877518897588564,
          0.011732297026212615,
          0.01158643079627018,
          0.011440028960574975,
          0.011293215315856132,
          0.011146126930792503,
          0.010998912303681283,
          0.010851729468577601,
          0.010704744069350907,
          0.01055812742148768,
          0.010412054581607974,
          0.01026670244453152,
          0.010122247887322324,
          0.00997886597904364,
          0.00983672827397248,
          0.009696001204758288,
          0.009556844590478399,
          0.009419410272764423,
          0.009283840891176523,
          0.009150268806820827,
          0.009018815180880824,
          0.008889589212309245,
          0.008762687536455501,
          0.008638193783932132,
          0.008516178296609398,
          0.008396697995319303,
          0.0082797963917003,
          0.008165503734670312,
          0.008053837280318242,
          0.007944801672592344,
          0.007838389421063987,
          0.0077345814612813915,
          0.007633347782809322,
          0.0075346481099835124,
          0.007438432620684113,
          0.0073446426890364,
          0.007253211638855457,
          0.007164065495830122,
          0.0070771237278532935,
          0.006992299964502832,
          0.006909502688410225,
          0.006828635893070338,
          0.006749599703488525,
          0.006672290957877463,
          0.006596603750352068,
          0.006522429936176715,
          0.006449659602550372,
          0.006378181509133121,
          0.006307883503491115,
          0.006238652917342096,
          0.006170376949906689,
          0.006102943044805596,
          0.006036239266793562,
          0.005970154684200066,
          0.005904579762275116,
          0.005839406771744405,
          0.005774530215796558,
          0.005709847277497052,
          0.005645258288291742,
          0.005580667216875905,
          0.00551598217630923,
          0.005451115945900433,
          0.0053859865031133675,
          0.005320517559600001,
          0.005254639094482657,
          0.005188287877219962,
          0.005121407971821732,
          0.005053951213846194,
          0.004985877651528239,
          0.004917155942551097,
          0.004847763698381023,
          0.0047776877687222274,
          0.004706924459497076,
          0.004635479678788808,
          0.004563369006369993,
          0.0044906176837442024,
          0.004417260523013123,
          0.004343341734307183,
          0.0042689146729445624,
          0.004194041508872205,
          0.004118792822255859,
          0.004043247130290632,
          0.0039674903513681895,
          0.0038916152136372613,
          0.003815720615709972,
          0.003739910947783753,
          0.0036642953817603934,
          0.0035889871390465257,
          0.0035141027446201857,
          0.0034397612756541136,
          0.003366083612515211,
          0.003293191699329864,
          0.0032212078205418374,
          0.0031502538990193446,
          0.0030804508203212365,
          0.003011917786738751,
          0.0029447717037212402,
          0.00287912660030193,
          0.002815093084192306,
          0.0027527778313393564,
          0.0026922831089617465,
          0.0026337063304211466,
          0.00257713963975914,
          0.0025226695233519177,
          0.0024703764459109204,
          0.0024203345079919563,
          0.002372611122265065,
          0.002327266706037234,
          0.0022843543878979518,
          0.0022439197268598245,
          0.002206000442973407,
          0.002170626159086457,
          0.0021378181541683874,
          0.0021075891294054967,
          0.0020799429890644735,
          0.0020548746388939884,
          0.002032369805559897,
          0.002012404881263286,
          0.00199494679824847,
          0.0019799529383486758,
          0.0019673710830222205,
          0.0019571394094864175,
          0.0019491865385494196,
          0.0019434316395646554,
          0.0019397845975860561,
          0.0019381462472869335,
          0.00193840867752761,
          0.001940455609627437,
          0.001944162851430839,
          0.0019493988281728287,
          0.001956025189969348,
          0.001963897494506468,
          0.001972865962206899,
          0.0019827762998411757,
          0.0019934705872535026,
          0.0020047882206182008,
          0.0020165669044611228,
          0.0020286436835985655,
          0.002040856005190172,
          0.002053042800294678,
          0.0020650455736783337,
          0.002076709490170803,
          0.0020878844456051907,
          0.0020984261103240676,
          0.002108196933385726,
          0.002117067095962196,
          0.002124915402976577,
          0.0021316301027713602,
          0.0021371096255165716,
          0.002141263232138153,
          0.0021440115667513237,
          0.002145287106895781,
          0.0021450345072632974,
          0.002143210834055214,
          0.002139785688579057,
          0.0021347412201612797,
          0.002128072029889149,
          0.0021197849680724833,
          0.002109898829611091,
          0.002098443952644053,
          0.0020854617269241947,
          0.002071004019289273,
          0.0020551325243790453,
          0.0020379180493666485,
          0.00201943974192949,
          0.001999784270978909,
          0.0019790449698029395,
          0.0019573209512592344,
          0.0019347162044957042,
          0.0019113386823874149,
          0.001887299388474255,
          0.0018627114716816776,
          0.0018376893365236137,
          0.0018123477758409492,
          0.0017868011324385568,
          0.0017611624952666273,
          0.0017355429350648336,
          0.0017100507836654523,
          0.0016847909604485142,
          0.0016598643487688988,
          0.0016353672245426418,
          0.0016113907385937611,
          0.0015880204538293078,
          0.0015653359378311705,
          0.0015434104110292677,
          0.0015223104502503592,
          0.001502095747117134,
          0.0014828189204982194,
          0.001464525381976567,
          0.0014472532531040725,
          0.0014310333330381276,
          0.0014158891150040645,
          0.0014018368498893705,
          0.0013888856551455399,
          0.001377037667045755,
          0.0013662882342174542,
          0.001356626150234697,
          0.001348033922914497,
          0.001340488077813022,
          0.0013339594932624708,
          0.0013284137641290433,
          0.0013238115913096489,
          0.0013201091938231575,
          0.0013172587401956847,
          0.0013152087956930323,
          0.0013139047818223394,
          0.0013132894444140351,
          0.0013133033265094244,
          0.0013138852422231579,
          0.0013149727477274498,
          0.0013165026055196299,
          0.001318411238188928,
          0.0013206351679940134,
          0.0013231114387004935,
          0.0013257780163071424,
          0.001328574165510029,
          0.0013314407990129356,
          0.001334320797087873,
          0.001337159295117602,
          0.001339903937208899,
          0.001342505094346373,
          0.001344916045957104,
          0.001347093124171158,
          0.0013489958204868954,
          0.0013505868549777453,
          0.0013518322086033784,
          0.001352701119608052,
          0.0013531660453971566,
          0.0013532025916750193,
          0.0013527894109981366,
          0.0013519080732439616,
          0.0013505429108119477,
          0.001348680841656982,
          0.001346311173501916,
          0.0013434253927822794,
          0.0013400169420393767,
          0.0013360809895949374,
          0.0013316141954089478,
          0.0013266144770400703,
          0.0013210807795935836,
          0.001315012853453951,
          0.0013084110434572844,
          0.0013012760929635536,
          0.0012936089660399192,
          0.0012854106906672058,
          0.0012766822255334811,
          0.0012674243525859232,
          0.00125763759707889,
          0.001247322176388009,
          0.0012364779783635928,
          0.001225104569479091,
          0.0012132012324996978,
          0.001200767032861572,
          0.001187800912422532,
          0.0011743018087303834,
          0.0011602687974649943,
          0.0011457012552543392,
          0.001130599039652824,
          0.001114962682710502,
          0.0010987935942628649,
          0.0010820942708393312,
          0.0010648685059302966,
          0.001047121597271904,
          0.0010288605468074035,
          0.001010094249064979,
          0.000990833663853857,
          0.0009710919694207344,
          0.0009508846925229946,
          0.0009302298122581303,
          0.0009091478349327025,
          0.000887661837750606,
          0.0008657974796391488,
          0.0008435829781021683,
          0.0008210490515799714,
          0.0007982288273951121,
          0.0007751577159582616,
          0.0007518732524883826,
          0.0007284149080542754,
          0.000704823872260055
         ],
         "yaxis": "y"
        }
       ],
       "layout": {
        "annotations": [
         {
          "arrowhead": 4,
          "ax": 0,
          "ay": -40,
          "showarrow": false,
          "text": "Average: 15.03",
          "x": 15.031458548331614,
          "xref": "x",
          "y": 1.08,
          "yref": "paper"
         },
         {
          "arrowhead": 4,
          "ax": 0,
          "ay": -40,
          "showarrow": false,
          "text": "Median: 12.98",
          "x": 12.983333333333333,
          "xref": "x",
          "y": 1.13,
          "yref": "paper"
         }
        ],
        "barmode": "overlay",
        "hovermode": "closest",
        "legend": {
         "traceorder": "reversed"
        },
        "shapes": [
         {
          "line": {
           "color": "red",
           "dash": "dash",
           "width": 2
          },
          "name": "Average: 15.03",
          "type": "line",
          "x0": 15.031458548331614,
          "x1": 15.031458548331614,
          "xref": "x",
          "y0": 0,
          "y1": 1,
          "yref": "paper"
         },
         {
          "line": {
           "color": "green",
           "dash": "dash",
           "width": 2
          },
          "name": "Median: 12.98",
          "type": "line",
          "x0": 12.983333333333333,
          "x1": 12.983333333333333,
          "xref": "x",
          "y0": 0,
          "y1": 1,
          "yref": "paper"
         }
        ],
        "template": {
         "data": {
          "bar": [
           {
            "error_x": {
             "color": "#2a3f5f"
            },
            "error_y": {
             "color": "#2a3f5f"
            },
            "marker": {
             "line": {
              "color": "#E5ECF6",
              "width": 0.5
             },
             "pattern": {
              "fillmode": "overlay",
              "size": 10,
              "solidity": 0.2
             }
            },
            "type": "bar"
           }
          ],
          "barpolar": [
           {
            "marker": {
             "line": {
              "color": "#E5ECF6",
              "width": 0.5
             },
             "pattern": {
              "fillmode": "overlay",
              "size": 10,
              "solidity": 0.2
             }
            },
            "type": "barpolar"
           }
          ],
          "carpet": [
           {
            "aaxis": {
             "endlinecolor": "#2a3f5f",
             "gridcolor": "white",
             "linecolor": "white",
             "minorgridcolor": "white",
             "startlinecolor": "#2a3f5f"
            },
            "baxis": {
             "endlinecolor": "#2a3f5f",
             "gridcolor": "white",
             "linecolor": "white",
             "minorgridcolor": "white",
             "startlinecolor": "#2a3f5f"
            },
            "type": "carpet"
           }
          ],
          "choropleth": [
           {
            "colorbar": {
             "outlinewidth": 0,
             "ticks": ""
            },
            "type": "choropleth"
           }
          ],
          "contour": [
           {
            "colorbar": {
             "outlinewidth": 0,
             "ticks": ""
            },
            "colorscale": [
             [
              0,
              "#0d0887"
             ],
             [
              0.1111111111111111,
              "#46039f"
             ],
             [
              0.2222222222222222,
              "#7201a8"
             ],
             [
              0.3333333333333333,
              "#9c179e"
             ],
             [
              0.4444444444444444,
              "#bd3786"
             ],
             [
              0.5555555555555556,
              "#d8576b"
             ],
             [
              0.6666666666666666,
              "#ed7953"
             ],
             [
              0.7777777777777778,
              "#fb9f3a"
             ],
             [
              0.8888888888888888,
              "#fdca26"
             ],
             [
              1,
              "#f0f921"
             ]
            ],
            "type": "contour"
           }
          ],
          "contourcarpet": [
           {
            "colorbar": {
             "outlinewidth": 0,
             "ticks": ""
            },
            "type": "contourcarpet"
           }
          ],
          "heatmap": [
           {
            "colorbar": {
             "outlinewidth": 0,
             "ticks": ""
            },
            "colorscale": [
             [
              0,
              "#0d0887"
             ],
             [
              0.1111111111111111,
              "#46039f"
             ],
             [
              0.2222222222222222,
              "#7201a8"
             ],
             [
              0.3333333333333333,
              "#9c179e"
             ],
             [
              0.4444444444444444,
              "#bd3786"
             ],
             [
              0.5555555555555556,
              "#d8576b"
             ],
             [
              0.6666666666666666,
              "#ed7953"
             ],
             [
              0.7777777777777778,
              "#fb9f3a"
             ],
             [
              0.8888888888888888,
              "#fdca26"
             ],
             [
              1,
              "#f0f921"
             ]
            ],
            "type": "heatmap"
           }
          ],
          "heatmapgl": [
           {
            "colorbar": {
             "outlinewidth": 0,
             "ticks": ""
            },
            "colorscale": [
             [
              0,
              "#0d0887"
             ],
             [
              0.1111111111111111,
              "#46039f"
             ],
             [
              0.2222222222222222,
              "#7201a8"
             ],
             [
              0.3333333333333333,
              "#9c179e"
             ],
             [
              0.4444444444444444,
              "#bd3786"
             ],
             [
              0.5555555555555556,
              "#d8576b"
             ],
             [
              0.6666666666666666,
              "#ed7953"
             ],
             [
              0.7777777777777778,
              "#fb9f3a"
             ],
             [
              0.8888888888888888,
              "#fdca26"
             ],
             [
              1,
              "#f0f921"
             ]
            ],
            "type": "heatmapgl"
           }
          ],
          "histogram": [
           {
            "marker": {
             "pattern": {
              "fillmode": "overlay",
              "size": 10,
              "solidity": 0.2
             }
            },
            "type": "histogram"
           }
          ],
          "histogram2d": [
           {
            "colorbar": {
             "outlinewidth": 0,
             "ticks": ""
            },
            "colorscale": [
             [
              0,
              "#0d0887"
             ],
             [
              0.1111111111111111,
              "#46039f"
             ],
             [
              0.2222222222222222,
              "#7201a8"
             ],
             [
              0.3333333333333333,
              "#9c179e"
             ],
             [
              0.4444444444444444,
              "#bd3786"
             ],
             [
              0.5555555555555556,
              "#d8576b"
             ],
             [
              0.6666666666666666,
              "#ed7953"
             ],
             [
              0.7777777777777778,
              "#fb9f3a"
             ],
             [
              0.8888888888888888,
              "#fdca26"
             ],
             [
              1,
              "#f0f921"
             ]
            ],
            "type": "histogram2d"
           }
          ],
          "histogram2dcontour": [
           {
            "colorbar": {
             "outlinewidth": 0,
             "ticks": ""
            },
            "colorscale": [
             [
              0,
              "#0d0887"
             ],
             [
              0.1111111111111111,
              "#46039f"
             ],
             [
              0.2222222222222222,
              "#7201a8"
             ],
             [
              0.3333333333333333,
              "#9c179e"
             ],
             [
              0.4444444444444444,
              "#bd3786"
             ],
             [
              0.5555555555555556,
              "#d8576b"
             ],
             [
              0.6666666666666666,
              "#ed7953"
             ],
             [
              0.7777777777777778,
              "#fb9f3a"
             ],
             [
              0.8888888888888888,
              "#fdca26"
             ],
             [
              1,
              "#f0f921"
             ]
            ],
            "type": "histogram2dcontour"
           }
          ],
          "mesh3d": [
           {
            "colorbar": {
             "outlinewidth": 0,
             "ticks": ""
            },
            "type": "mesh3d"
           }
          ],
          "parcoords": [
           {
            "line": {
             "colorbar": {
              "outlinewidth": 0,
              "ticks": ""
             }
            },
            "type": "parcoords"
           }
          ],
          "pie": [
           {
            "automargin": true,
            "type": "pie"
           }
          ],
          "scatter": [
           {
            "fillpattern": {
             "fillmode": "overlay",
             "size": 10,
             "solidity": 0.2
            },
            "type": "scatter"
           }
          ],
          "scatter3d": [
           {
            "line": {
             "colorbar": {
              "outlinewidth": 0,
              "ticks": ""
             }
            },
            "marker": {
             "colorbar": {
              "outlinewidth": 0,
              "ticks": ""
             }
            },
            "type": "scatter3d"
           }
          ],
          "scattercarpet": [
           {
            "marker": {
             "colorbar": {
              "outlinewidth": 0,
              "ticks": ""
             }
            },
            "type": "scattercarpet"
           }
          ],
          "scattergeo": [
           {
            "marker": {
             "colorbar": {
              "outlinewidth": 0,
              "ticks": ""
             }
            },
            "type": "scattergeo"
           }
          ],
          "scattergl": [
           {
            "marker": {
             "colorbar": {
              "outlinewidth": 0,
              "ticks": ""
             }
            },
            "type": "scattergl"
           }
          ],
          "scattermapbox": [
           {
            "marker": {
             "colorbar": {
              "outlinewidth": 0,
              "ticks": ""
             }
            },
            "type": "scattermapbox"
           }
          ],
          "scatterpolar": [
           {
            "marker": {
             "colorbar": {
              "outlinewidth": 0,
              "ticks": ""
             }
            },
            "type": "scatterpolar"
           }
          ],
          "scatterpolargl": [
           {
            "marker": {
             "colorbar": {
              "outlinewidth": 0,
              "ticks": ""
             }
            },
            "type": "scatterpolargl"
           }
          ],
          "scatterternary": [
           {
            "marker": {
             "colorbar": {
              "outlinewidth": 0,
              "ticks": ""
             }
            },
            "type": "scatterternary"
           }
          ],
          "surface": [
           {
            "colorbar": {
             "outlinewidth": 0,
             "ticks": ""
            },
            "colorscale": [
             [
              0,
              "#0d0887"
             ],
             [
              0.1111111111111111,
              "#46039f"
             ],
             [
              0.2222222222222222,
              "#7201a8"
             ],
             [
              0.3333333333333333,
              "#9c179e"
             ],
             [
              0.4444444444444444,
              "#bd3786"
             ],
             [
              0.5555555555555556,
              "#d8576b"
             ],
             [
              0.6666666666666666,
              "#ed7953"
             ],
             [
              0.7777777777777778,
              "#fb9f3a"
             ],
             [
              0.8888888888888888,
              "#fdca26"
             ],
             [
              1,
              "#f0f921"
             ]
            ],
            "type": "surface"
           }
          ],
          "table": [
           {
            "cells": {
             "fill": {
              "color": "#EBF0F8"
             },
             "line": {
              "color": "white"
             }
            },
            "header": {
             "fill": {
              "color": "#C8D4E3"
             },
             "line": {
              "color": "white"
             }
            },
            "type": "table"
           }
          ]
         },
         "layout": {
          "annotationdefaults": {
           "arrowcolor": "#2a3f5f",
           "arrowhead": 0,
           "arrowwidth": 1
          },
          "autotypenumbers": "strict",
          "coloraxis": {
           "colorbar": {
            "outlinewidth": 0,
            "ticks": ""
           }
          },
          "colorscale": {
           "diverging": [
            [
             0,
             "#8e0152"
            ],
            [
             0.1,
             "#c51b7d"
            ],
            [
             0.2,
             "#de77ae"
            ],
            [
             0.3,
             "#f1b6da"
            ],
            [
             0.4,
             "#fde0ef"
            ],
            [
             0.5,
             "#f7f7f7"
            ],
            [
             0.6,
             "#e6f5d0"
            ],
            [
             0.7,
             "#b8e186"
            ],
            [
             0.8,
             "#7fbc41"
            ],
            [
             0.9,
             "#4d9221"
            ],
            [
             1,
             "#276419"
            ]
           ],
           "sequential": [
            [
             0,
             "#0d0887"
            ],
            [
             0.1111111111111111,
             "#46039f"
            ],
            [
             0.2222222222222222,
             "#7201a8"
            ],
            [
             0.3333333333333333,
             "#9c179e"
            ],
            [
             0.4444444444444444,
             "#bd3786"
            ],
            [
             0.5555555555555556,
             "#d8576b"
            ],
            [
             0.6666666666666666,
             "#ed7953"
            ],
            [
             0.7777777777777778,
             "#fb9f3a"
            ],
            [
             0.8888888888888888,
             "#fdca26"
            ],
            [
             1,
             "#f0f921"
            ]
           ],
           "sequentialminus": [
            [
             0,
             "#0d0887"
            ],
            [
             0.1111111111111111,
             "#46039f"
            ],
            [
             0.2222222222222222,
             "#7201a8"
            ],
            [
             0.3333333333333333,
             "#9c179e"
            ],
            [
             0.4444444444444444,
             "#bd3786"
            ],
            [
             0.5555555555555556,
             "#d8576b"
            ],
            [
             0.6666666666666666,
             "#ed7953"
            ],
            [
             0.7777777777777778,
             "#fb9f3a"
            ],
            [
             0.8888888888888888,
             "#fdca26"
            ],
            [
             1,
             "#f0f921"
            ]
           ]
          },
          "colorway": [
           "#636efa",
           "#EF553B",
           "#00cc96",
           "#ab63fa",
           "#FFA15A",
           "#19d3f3",
           "#FF6692",
           "#B6E880",
           "#FF97FF",
           "#FECB52"
          ],
          "font": {
           "color": "#2a3f5f"
          },
          "geo": {
           "bgcolor": "white",
           "lakecolor": "white",
           "landcolor": "#E5ECF6",
           "showlakes": true,
           "showland": true,
           "subunitcolor": "white"
          },
          "hoverlabel": {
           "align": "left"
          },
          "hovermode": "closest",
          "mapbox": {
           "style": "light"
          },
          "paper_bgcolor": "white",
          "plot_bgcolor": "#E5ECF6",
          "polar": {
           "angularaxis": {
            "gridcolor": "white",
            "linecolor": "white",
            "ticks": ""
           },
           "bgcolor": "#E5ECF6",
           "radialaxis": {
            "gridcolor": "white",
            "linecolor": "white",
            "ticks": ""
           }
          },
          "scene": {
           "xaxis": {
            "backgroundcolor": "#E5ECF6",
            "gridcolor": "white",
            "gridwidth": 2,
            "linecolor": "white",
            "showbackground": true,
            "ticks": "",
            "zerolinecolor": "white"
           },
           "yaxis": {
            "backgroundcolor": "#E5ECF6",
            "gridcolor": "white",
            "gridwidth": 2,
            "linecolor": "white",
            "showbackground": true,
            "ticks": "",
            "zerolinecolor": "white"
           },
           "zaxis": {
            "backgroundcolor": "#E5ECF6",
            "gridcolor": "white",
            "gridwidth": 2,
            "linecolor": "white",
            "showbackground": true,
            "ticks": "",
            "zerolinecolor": "white"
           }
          },
          "shapedefaults": {
           "line": {
            "color": "#2a3f5f"
           }
          },
          "ternary": {
           "aaxis": {
            "gridcolor": "white",
            "linecolor": "white",
            "ticks": ""
           },
           "baxis": {
            "gridcolor": "white",
            "linecolor": "white",
            "ticks": ""
           },
           "bgcolor": "#E5ECF6",
           "caxis": {
            "gridcolor": "white",
            "linecolor": "white",
            "ticks": ""
           }
          },
          "title": {
           "x": 0.05
          },
          "xaxis": {
           "automargin": true,
           "gridcolor": "white",
           "linecolor": "white",
           "ticks": "",
           "title": {
            "standoff": 15
           },
           "zerolinecolor": "white",
           "zerolinewidth": 2
          },
          "yaxis": {
           "automargin": true,
           "gridcolor": "white",
           "linecolor": "white",
           "ticks": "",
           "title": {
            "standoff": 15
           },
           "zerolinecolor": "white",
           "zerolinewidth": 2
          }
         }
        },
        "title": {
         "text": "Fig B: Density plot of time spent for engaged"
        },
        "xaxis": {
         "anchor": "y2",
         "domain": [
          0,
          1
         ],
         "title": {
          "text": "Value"
         },
         "zeroline": false
        },
        "yaxis": {
         "anchor": "free",
         "domain": [
          0,
          1
         ],
         "position": 0,
         "title": {
          "text": "Density"
         }
        }
       }
      }
     },
     "metadata": {},
     "output_type": "display_data"
    }
   ],
   "source": [
    "\n",
    "import plotly.express as px\n",
    "import plotly.figure_factory as ff\n",
    "\n",
    "\n",
    "clean_data = pd.read_csv(OUT / \"data\" / \"data_clean.csv\")\n",
    "\n",
    "clean_data = clean_data[clean_data['aware'] == 0]\n",
    "\n",
    "clean_data['DurationMin'] = clean_data['Duration (in seconds)'] / 60\n",
    "\n",
    "clean_data = clean_data[clean_data['DurationMin'] < 60]\n",
    "\n",
    "# Calculate the average and median\n",
    "average_duration = clean_data['DurationMin'].mean()\n",
    "median_duration = clean_data['DurationMin'].median()\n",
    "\n",
    "fig = ff.create_distplot([clean_data['DurationMin']], ['DurationMin'], show_curve=True, show_rug=False, bin_size=2.0)\n",
    "\n",
    "fig.add_shape(\n",
    "    type='line',\n",
    "    x0=average_duration,\n",
    "    x1=average_duration,\n",
    "    y0=0,\n",
    "    y1=1,\n",
    "    xref='x',\n",
    "    yref='paper',\n",
    "    line=dict(color='red', width=2, dash='dash'),\n",
    "    name=f'Average: {average_duration:.2f}'\n",
    ")\n",
    "\n",
    "fig.add_shape(\n",
    "    type='line',\n",
    "    x0=median_duration,\n",
    "    x1=median_duration,\n",
    "    y0=0,\n",
    "    y1=1,\n",
    "    xref='x',\n",
    "    yref='paper',\n",
    "    line=dict(color='green', width=2, dash='dash'),\n",
    "    name=f'Median: {median_duration:.2f}'\n",
    ")\n",
    "\n",
    "# Add labels for average and median values\n",
    "fig.add_annotation(\n",
    "    x=average_duration,\n",
    "    y=1.08,\n",
    "    xref='x',\n",
    "    yref='paper',\n",
    "    text=f'Average: {average_duration:.2f}',\n",
    "    showarrow=False,\n",
    "    arrowhead=4,\n",
    "    ax=0,\n",
    "    ay=-40\n",
    ")\n",
    "\n",
    "fig.add_annotation(\n",
    "    x=median_duration,\n",
    "    y=1.13,\n",
    "    xref='x',\n",
    "    yref='paper',\n",
    "    text=f'Median: {median_duration:.2f}',\n",
    "    showarrow=False,\n",
    "    arrowhead=4,\n",
    "    ax=0,\n",
    "    ay=-40\n",
    ")\n",
    "\n",
    "# Update the layout if needed\n",
    "fig.update_layout(\n",
    "    title='Density Plot with Smooth Line',\n",
    "    xaxis_title='Value',\n",
    "    yaxis_title='Density'\n",
    ")\n",
    "# Update the layout if needed\n",
    "fig.update_layout(title='Fig B: Density plot of time spent for engaged', xaxis_title='Value', yaxis_title='Density')\n",
    "\n",
    "\n",
    "# Show the plot\n",
    "fig.show()"
   ]
  },
  {
   "cell_type": "markdown",
   "metadata": {},
   "source": [
    "#### Word count"
   ]
  },
  {
   "cell_type": "code",
   "execution_count": 23,
   "metadata": {},
   "outputs": [
    {
     "data": {
      "text/plain": [
       "9.42580164056674"
      ]
     },
     "execution_count": 23,
     "metadata": {},
     "output_type": "execute_result"
    }
   ],
   "source": [
    "clean_data = pd.read_csv(IN / \"main_sample.csv\")\n",
    "\n",
    "clean_data = clean_data.drop([0, 1])\n",
    "\n",
    "clean_data[\"opinion_coal_ind\"]\n",
    "clean_data[\"feedback\"] = clean_data[\"feedback\"].fillna(' ')\n",
    "\n",
    "\n",
    "average_char = clean_data[\"feedback\"].str.len().mean()\n",
    "\n",
    "average_words = clean_data[\"feedback\"].str.split().apply(len).mean()\n",
    "\n",
    "\n",
    "average_words"
   ]
  },
  {
   "attachments": {},
   "cell_type": "markdown",
   "metadata": {},
   "source": [
    "#### Treatment"
   ]
  },
  {
   "cell_type": "code",
   "execution_count": 33,
   "metadata": {},
   "outputs": [],
   "source": [
    "import pandas as pd\n",
    "\n",
    "def attribute_support(df, attribute, categories, att_nr, group1, group2, dummy,extra=\"\"):\n",
    "    df = df.copy()\n",
    "\n",
    "    df_control = df[df[dummy] == 0]\n",
    "    df_treated = df[df[dummy] == 1]\n",
    "\n",
    "    df_treated = df_treated[[attribute, 'support']]\n",
    "    df_treated['support'] = df_treated['support'].astype(int)\n",
    "\n",
    "    support_control = {\"Attribute Level\": [], \"Value\": [], \"CI_lower\": [], \"CI_upper\": []}\n",
    "    \n",
    "    for cat in categories[::-1]:\n",
    "        group = df_control[df_control[attribute] == cat]\n",
    "        mean = group['support'].mean()\n",
    "        std_dev = group['support'].std()\n",
    "        n = len(group)\n",
    "        confidence_interval = 1.96 * (std_dev / (n**0.5))  # 95% confidence interval\n",
    "\n",
    "        support_control[\"Attribute Level\"].append(cat.replace('&', '<br>'))\n",
    "        support_control[\"Value\"].append(mean.round(2))\n",
    "        support_control[\"CI_lower\"].append((mean - confidence_interval).round(2))\n",
    "        support_control[\"CI_upper\"].append((mean + confidence_interval).round(2))\n",
    "\n",
    "    df_control = pd.DataFrame(support_control)\n",
    "\n",
    "    support_treated = {\"Attribute Level\": [], \"Value\": [], \"CI_lower\": [], \"CI_upper\": []}\n",
    "    \n",
    "    for cat in categories[::-1]:\n",
    "        group = df_treated[df_treated[attribute] == cat]\n",
    "        mean = group['support'].mean()\n",
    "        std_dev = group['support'].std()\n",
    "        n = len(group)\n",
    "        confidence_interval = 1.96 * (std_dev / (n**0.5))  # 95% confidence interval\n",
    "\n",
    "        support_treated[\"Attribute Level\"].append(cat.replace('&', '<br>'))\n",
    "        support_treated[\"Value\"].append(mean.round(2))\n",
    "        support_treated[\"CI_lower\"].append((mean - confidence_interval).round(2))\n",
    "        support_treated[\"CI_upper\"].append((mean + confidence_interval).round(2))\n",
    "\n",
    "    df_treated = pd.DataFrame(support_treated)\n",
    "\n",
    "    color_scale = [\"rgb(173, 221, 142)\", \"rgb(127, 188, 65)\", \"rgb(78, 139, 37)\", \"rgb(45, 82, 21)\", \"rgb(45, 82, 21)\", \"rgb(45, 82, 21)\",\"rgb(45, 82, 21)\"]\n",
    "\n",
    "    fig = go.Figure()\n",
    "\n",
    "    for i, row in df_control.iterrows():\n",
    "        fig.add_trace(go.Bar(\n",
    "            x=[row[\"Attribute Level\"]],\n",
    "            y=[row[\"Value\"]],\n",
    "            error_y=dict(\n",
    "                type='data',\n",
    "                array=[row[\"CI_upper\"] - row[\"Value\"]],\n",
    "                arrayminus=[row[\"Value\"] - row[\"CI_lower\"]],\n",
    "                visible=True\n",
    "            ),\n",
    "            marker_color=color_scale[i],\n",
    "            name=row[\"Attribute Level\"],\n",
    "            width=0.2\n",
    "        ))\n",
    "\n",
    "    color_scale = [\"rgb(221, 142, 142)\", \"rgb(188, 65, 65)\", \"rgb(139, 37, 37)\", \"rgb(82, 21, 21)\", \"rgb(82, 21, 21)\", \"rgb(82, 21, 21)\", \"rgb(82, 21, 21)\"]\n",
    "\n",
    "\n",
    "    for i, row in df_treated.iterrows():\n",
    "        fig.add_trace(go.Bar(\n",
    "            x=[row[\"Attribute Level\"]],\n",
    "            y=[row[\"Value\"]],\n",
    "            error_y=dict(\n",
    "                type='data',\n",
    "                array=[row[\"CI_upper\"] - row[\"Value\"]],\n",
    "                arrayminus=[row[\"Value\"] - row[\"CI_lower\"]],\n",
    "                visible=True\n",
    "            ),\n",
    "            marker_color=color_scale[i],\n",
    "            name=row[\"Attribute Level\"],\n",
    "            width=0.2\n",
    "        ))\n",
    "\n",
    "    \n",
    "\n",
    "    # Set y-axis range from 0 to 1\n",
    "    fig.update_layout(yaxis_range=[0, 1], xaxis_range=[-1,6], width=700, height=500)\n",
    "\n",
    "    # Add a horizontal line at y=0.5\n",
    "    fig.add_hline(y=0.5, line_dash=\"dash\")\n",
    "\n",
    "\n",
    "    fig.update_layout(barmode=\"group\", bargap=0.6)\n",
    "    \n",
    "    fig.update_layout(\n",
    "        title={\n",
    "            'text': f\"Fig {att_nr}: Att {att_nr} {extra}\",\n",
    "            'x': 0.5,\n",
    "            'xanchor': 'center',\n",
    "            'font': {'family': 'Computer Modern'}\n",
    "        },\n",
    "        margin=dict(l=20, r=20, t=45, b=5),\n",
    "        paper_bgcolor=\"#EADDCA\",\n",
    "        plot_bgcolor='rgba(0,0,0,0)',\n",
    "        showlegend=False,  # Show legend for different Attribute Levels\n",
    "        xaxis_showticklabels=True,\n",
    "        xaxis_title=None,\n",
    "    )\n",
    "\n",
    "    fig.add_annotation(\n",
    "            x=1.5,\n",
    "            y=0.95,\n",
    "            xref='x',\n",
    "            yref='paper',\n",
    "            text=f'{group2}',\n",
    "            showarrow=False,\n",
    "            arrowhead=4,\n",
    "            font=dict(\n",
    "                    size=14,\n",
    "                    color=\"rgb(139, 37, 37)\"\n",
    "                ),\n",
    "            ax=0,\n",
    "            ay=-40\n",
    "        )\n",
    "    \n",
    "    fig.add_annotation(\n",
    "            x=1.5,\n",
    "            y=0.9,\n",
    "            xref='x',\n",
    "            yref='paper',\n",
    "            text=f'{group1}',\n",
    "            showarrow=False,\n",
    "            arrowhead=4,\n",
    "            font=dict(\n",
    "                    size=14,\n",
    "                    color=\"rgb(78, 139, 37)\"\n",
    "                ),\n",
    "            ax=0,\n",
    "            ay=-40\n",
    "        )\n",
    "\n",
    "    return fig\n",
    "\n",
    "data_clean = pd.read_csv(OUT / \"data\" / \"data_long.csv\")\n",
    "\n",
    "categories = [['Reduce2030','Eliminate2050', 'Eliminate2070'], ['LowPrices', 'InsureWorkers', 'EnergyAccess', 'NothingSoc'], ['IdentityCoalRegions', 'IndustryCoalRegions', 'WorkersCoalRegion', 'NothingEco'],['Gov&CivilSociety', 'Gov&Researchers', 'Gov&Businesses', 'Gov&LaborUnions', 'Gov&LocalGov', 'GovAlone'],['Fin&TechSupport', 'FinSupportOnly', 'TechSupportOnly', 'NoInterference']]\n",
    "\n",
    "group = \"Treatment\"\n",
    "\n",
    "for i in range(1,6):\n",
    "    fig = attribute_support(data_clean, f\"att_{i}\", categories[i-1], f\"{i}\", \"Control\", \"Treated\", dummy=\"treatment_status\",extra='Treatment')\n",
    "    fig.write_image(OUT / \"other_fig\" / f\"fig_{i}_att_{i}_{group}.png\")"
   ]
  },
  {
   "cell_type": "markdown",
   "metadata": {},
   "source": [
    "#### Rating of justice principles\n"
   ]
  },
  {
   "cell_type": "code",
   "execution_count": 5,
   "metadata": {},
   "outputs": [
    {
     "data": {
      "text/plain": [
       "Procedural_most_important       0.218750\n",
       "Distributive_most_important     0.243750\n",
       "Recognitional_most_important    0.278125\n",
       "Restorative_most_important      0.259375\n",
       "dtype: float64"
      ]
     },
     "execution_count": 5,
     "metadata": {},
     "output_type": "execute_result"
    }
   ],
   "source": [
    "clean_data = pd.read_csv(OUT / \"data\" / \"data_clean.csv\")\n",
    "\n",
    "clean_data = clean_data[clean_data['coal_state'] == 1]\n",
    "\n",
    "dictionary = {'justice_1' : 'Procedural' , 'justice_2' : 'Distributive', 'justice_3' : 'Recognitional', 'justice_8' : 'Restorative'}\n",
    "new_cols = ['Procedural' , 'Distributive', 'Recognitional', 'Restorative']\n",
    "\n",
    "clean_data = clean_data[['justice_1', 'justice_2', 'justice_3', 'justice_8']]\n",
    "\n",
    "clean_data[new_cols] = clean_data[['justice_1', 'justice_2', 'justice_3', 'justice_8']]\n",
    "\n",
    "clean_data = clean_data.dropna()\n",
    "\n",
    "clean_data = clean_data[new_cols].astype(int)\n",
    "\n",
    "most_important_cols = []\n",
    "\n",
    "for col in new_cols:\n",
    "    clean_data[f'{col}_most_important'] = clean_data[col] == 1\n",
    "    most_important_cols.append(f'{col}_most_important')\n",
    "\n",
    "means = clean_data[new_cols].astype(int).mean().round(2)\n",
    "std = clean_data[new_cols].astype(int).std()\n",
    "\n",
    "most_important = clean_data[most_important_cols].mean()\n",
    "\n",
    "least_important_cols = []\n",
    "\n",
    "for col in new_cols:\n",
    "    clean_data[f'{col}_least_important'] = clean_data[col] == 4\n",
    "    least_important_cols.append(f'{col}_least_important')\n",
    "\n",
    "least_important = clean_data[least_important_cols].mean()\n",
    "\n",
    "most_important\n"
   ]
  },
  {
   "cell_type": "markdown",
   "metadata": {},
   "source": [
    "Awareness in an not in coal state"
   ]
  },
  {
   "cell_type": "code",
   "execution_count": 32,
   "metadata": {},
   "outputs": [
    {
     "data": {
      "text/plain": [
       "0.25219941348973607"
      ]
     },
     "execution_count": 32,
     "metadata": {},
     "output_type": "execute_result"
    }
   ],
   "source": [
    "clean_data = pd.read_csv(OUT / \"data\" / \"data_clean.csv\")\n",
    "\n",
    "clean_data = clean_data[clean_data['coal_state'] == 0]\n",
    "\n",
    "tot = len(clean_data)\n",
    "\n",
    "clean_data = clean_data[clean_data['trust_ID'] == 0]\n",
    "\n",
    "len(clean_data)/tot\n"
   ]
  },
  {
   "cell_type": "markdown",
   "metadata": {},
   "source": [
    "### Descriptives"
   ]
  },
  {
   "cell_type": "code",
   "execution_count": 5,
   "metadata": {},
   "outputs": [
    {
     "name": "stdout",
     "output_type": "stream",
     "text": [
      "\\begin{tabular}{lcc}\n",
      "\\toprule\n",
      "Category & Average & N \\\\\n",
      "\\midrule\n",
      "25-34 & 27.67\\% & 386 \\\\\n",
      "35-44 & 25.02\\% & 349 \\\\\n",
      "18-24 & 19.21\\% & 268 \\\\\n",
      "45-54 & 18.71\\% & 261 \\\\\n",
      "55-64 & 9.18\\% & 128 \\\\\n",
      "0.000000 & 53.76\\% & 750 \\\\\n",
      "1.000000 & 46.24\\% & 645 \\\\\n",
      "NorthernZone & 24.59\\% & 343 \\\\\n",
      "SouthernZone & 24.52\\% & 342 \\\\\n",
      "EasternZone & 22.08\\% & 308 \\\\\n",
      "WesternZone & 16.42\\% & 229 \\\\\n",
      "CentralZone & 8.39\\% & 117 \\\\\n",
      "NorthEasternZone & 4.01\\% & 56 \\\\\n",
      "CoalState & 51.11\\% & 713 \\\\\n",
      "NonCoalState & 48.89\\% & 682 \\\\\n",
      "\\bottomrule\n",
      "\\end{tabular}\n",
      "\n"
     ]
    }
   ],
   "source": [
    "import pandas as pd\n",
    "from tabulate import tabulate\n",
    "\n",
    "def generate_descriptive_stats_table(dataframe, columns):\n",
    "    # Create an empty list to store the rows\n",
    "    rows = []\n",
    "\n",
    "    # Iterate through the columns\n",
    "    for column_name in columns:\n",
    "        column_data = dataframe[column_name]\n",
    "        \n",
    "        if pd.api.types.is_numeric_dtype(column_data):\n",
    "            # For numeric columns, calculate the average and N\n",
    "            average = column_data.mean()\n",
    "            n = column_data.count()\n",
    "            \n",
    "            rows.append([column_name, f'{average:.2f}', n])\n",
    "        elif pd.api.types.is_categorical_dtype(column_data):\n",
    "            # For categorical columns, calculate percentage shares and N for each category\n",
    "            category_counts = column_data.value_counts()\n",
    "            n_total = len(column_data)\n",
    "            \n",
    "            for category, count in category_counts.items():\n",
    "                percentage_share = (count / n_total) * 100\n",
    "                rows.append([category, f'{percentage_share:.2f}\\%', count])\n",
    "    \n",
    "    # Create a DataFrame from the list of rows\n",
    "    result_df = pd.DataFrame(rows, columns=['Category', 'Average', 'N'])\n",
    "    \n",
    "    # Convert the result to LaTeX format\n",
    "    latex_table = result_df.to_latex(index=False, column_format='lcc', escape=False)\n",
    "    \n",
    "    return latex_table\n",
    "\n",
    "df = pd.read_csv(OUT / \"data\" / \"data_clean.csv\")\n",
    "\n",
    "age_bins = [18, 25, 35, 45, 55, 65]\n",
    "age_labels = ['18-24', '25-34', '35-44', '45-54', '55-64']\n",
    "\n",
    "# Use the pd.cut() function to create the categorical column\n",
    "df['age_group'] = pd.cut(df['ageFilter'], bins=age_bins, labels=age_labels, right=False)\n",
    "\n",
    "#df['ageFilter'] = df['ageFilter'].astype('category')\n",
    "df['genderFilter'] = df['genderFilter'].astype('category')\n",
    "df['district'] = df['district'].astype('category')\n",
    "df['coal_state'] = df['coal_state'].replace({1:'CoalState', 0:'NonCoalState'}).astype('category')\n",
    "\n",
    "columns_to_analyze = [\"age_group\", \"genderFilter\", \"district\", \"coal_state\"]\n",
    "latex_output = generate_descriptive_stats_table(df, columns_to_analyze)\n",
    "print(latex_output)"
   ]
  },
  {
   "cell_type": "markdown",
   "metadata": {},
   "source": [
    "### Income Distribution"
   ]
  },
  {
   "cell_type": "code",
   "execution_count": null,
   "metadata": {},
   "outputs": [],
   "source": []
  },
  {
   "cell_type": "markdown",
   "metadata": {},
   "source": [
    "### Proximity to coal plants ( ‘haversine’ formula )"
   ]
  },
  {
   "cell_type": "code",
   "execution_count": 3,
   "metadata": {},
   "outputs": [],
   "source": [
    "import math\n",
    "\n",
    "data_clean = pd.read_csv(IN / \"main_sample.csv\", encoding='utf8')\n",
    "\n",
    "data_clean = data_clean.drop([0, 1])\n",
    "\n",
    "data_clean['LocationLatitude'] = data_clean['LocationLatitude'].astype(float)\n",
    "data_clean['LocationLongitude'] = data_clean['LocationLongitude'].astype(float)\n",
    "\n",
    "\n",
    "\n",
    "def calculate_distance(lat1, lon1, lat2, lon2):\n",
    "    R = 6371000  # meters\n",
    "    rad1 = math.radians(lat1)  # φ, λ in radians φ1\n",
    "    rad2 = math.radians(lat2) #φ2\n",
    "    diff1 = math.radians(lat2 - lat1)\n",
    "    diff2 = math.radians(lon2 - lon1)\n",
    "\n",
    "    a = math.sin(diff1/2) * math.sin(diff1/2) + \\\n",
    "        math.cos(rad1) * math.cos(rad2) * \\\n",
    "        math.sin(diff2/2) * math.sin(diff2/2)\n",
    "    \n",
    "    c = 2 * math.atan2(math.sqrt(a), math.sqrt(1-a))\n",
    "\n",
    "    d = R * c  # in meters\n",
    "\n",
    "    d = d / 1000\n",
    "    d = round(d, 2)\n",
    "    return d\n",
    "\n",
    "def coal_prox_indicator(data_clean):\n",
    "\n",
    "    #https://www.globaldata.com/data-insights/mining/india--five-largest-coal-mines-in-2090702/#:~:text=The%20five%20largest%20coal%20mines,mmtpa%20of%20ROM%20in%202021.\n",
    "    coal_mines = {\n",
    "        'Gevra OC Mine' : [22.337439, 82.546566],\n",
    "        'Bhubaneswari OCP Mine' : [20.965332, 85.162714],\n",
    "        'Dipka OC Project': [22.327948, 82.557578],\n",
    "        'Kusmunda OC Mine' : [22.330294, 82.669243],\n",
    "        'Lakhanpur OCP Mine' : [21.765555, 83.820422],\n",
    "        'Jharia Coalfield' : [23.722714, 86.443399],\n",
    "        'Giridih Coalfield' : [24.154031, 86.301516],\n",
    "        'Bokaro Coalfield' : [23.801295, 85.866097],\n",
    "        'Karanpura Coalfield' : [23.614122, 85.679237],\n",
    "        'Talcher Coalfield' : [20.956791, 85.142703],\n",
    "        'Ib Valley Coalfield' : [21.772643, 83.865977],\n",
    "        'Mand-Raigarh Coalfield' : [22.098944, 83.120011],\n",
    "        'Korba Coalfield' : [22.318300, 82.735459],\n",
    "        'Raniganj' : [23.679794, 87.113957],\n",
    "        'Singrauli' : [24.142592, 82.654972],\n",
    "        'Satpura' : [22.117582, 78.156525],\n",
    "        'Telangana' : [18.708977, 79.531696],\n",
    "        'Telangana 2' : [17.950403, 80.777345],\n",
    "        'Telangana 3' : [17.200932, 80.798911],\n",
    "        'Telangana 4' : [17.458652, 80.654307],\n",
    "        'TamilNadu' : [11.531606, 79.464314],\n",
    "        'Maharashtra' : [18.642455, 79.575385],\n",
    "        'Madhya Pradesh' : [22.275820, 78.957188],\n",
    "        'Assam' : [27.278341, 95.741360],\n",
    "        'Jharkand' : [23.768009, 86.397751],\n",
    "        'Giridih' : [24.153271, 86.302280],\n",
    "        'Namchik' : [27.396511, 96.016445],\n",
    "    }\n",
    "\n",
    "    #https://www.power-technology.com/features/feature-the-top-10-biggest-thermal-power-plants-in-india/?cf-view\n",
    "    coal_plants = {\n",
    "        'Mundra Thermal Power Station, Gujarat' : [22.824412, 69.547972],\n",
    "        'Mundra Ultra Mega Power Plant, Gujarat' : [22.815815, 69.525399],\n",
    "        'Sasan Ultra Mega Power Plant, Madhya Pradesh' : [23.983091, 82.618795],\n",
    "        'Tiroda Thermal Power Plant, Maharashtra' : [21.413246, 79.966920],\n",
    "        'Talcher Super Thermal Power Station, Odisha' : [21.096245, 85.073762],\n",
    "        'Rihand Thermal Power Station, Uttar Pradesh' : [24.027386, 82.790051],\n",
    "        'Sipat Thermal Power Plant, Chhattisgarh' : [22.136485, 82.289925],\n",
    "        'Chandrapur Super Thermal Power Station, Maharashtra' : [20.005170, 79.293512],\n",
    "        'NTPC Dadri, Uttar Pradesh' : [28.597505, 77.607886],\n",
    "    }\n",
    "\n",
    "    for name, coordinates in coal_mines.items():\n",
    "        data_clean[f'coal_mine_prox_{name}'] = data_clean.apply(lambda row: calculate_distance(row['LocationLatitude'], row['LocationLongitude'], coordinates[0], coordinates[1]), axis=1)\n",
    "\n",
    "    for name, coordinates in coal_plants.items():\n",
    "        data_clean[f'coal_plant_prox_{name}'] = data_clean.apply(lambda row: calculate_distance(row['LocationLatitude'], row['LocationLongitude'], coordinates[0], coordinates[1]), axis=1)\n",
    "\n",
    "\n",
    "    matching_columns = [col for col in data_clean.columns if col.startswith(\"coal_mine\")]  #or col.startswith(\"coal_plant\")\n",
    "\n",
    "    # Check if any value in the matching columns is smaller than 100\n",
    "    data_clean['coal_prox'] = data_clean[matching_columns].lt(50).any(axis=1).astype(int)\n",
    "\n",
    "    return data_clean\n",
    "\n",
    "df = coal_prox_indicator(data_clean)"
   ]
  },
  {
   "cell_type": "code",
   "execution_count": 19,
   "metadata": {},
   "outputs": [],
   "source": [
    "data_clean = pd.read_csv(IN / \"main_sample.csv\", encoding='utf8')\n",
    "\n",
    "data_clean = data_clean.drop([0, 1])"
   ]
  }
 ],
 "metadata": {
  "kernelspec": {
   "display_name": "conjoint",
   "language": "python",
   "name": "python3"
  },
  "language_info": {
   "codemirror_mode": {
    "name": "ipython",
    "version": 3
   },
   "file_extension": ".py",
   "mimetype": "text/x-python",
   "name": "python",
   "nbconvert_exporter": "python",
   "pygments_lexer": "ipython3",
   "version": "3.11.4"
  },
  "orig_nbformat": 4
 },
 "nbformat": 4,
 "nbformat_minor": 2
}
