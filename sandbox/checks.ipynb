{
 "cells": [
  {
   "cell_type": "code",
   "execution_count": 23,
   "metadata": {},
   "outputs": [
    {
     "name": "stdout",
     "output_type": "stream",
     "text": [
      "The autoreload extension is already loaded. To reload it, use:\n",
      "  %reload_ext autoreload\n"
     ]
    }
   ],
   "source": [
    "%load_ext autoreload\n",
    "%autoreload 2\n",
    "\n",
    "import pandas as pd\n",
    "import os\n",
    "import sys\n",
    "\n",
    "import plotly.graph_objects as go\n",
    "import plotly.express as px\n",
    "import pandas as pd\n",
    "\n",
    "\n",
    "import pandas as pd\n",
    "import plotly.express as px\n",
    "import plotly.graph_objs as go\n",
    "\n",
    "sys.path.insert(0, os.path.abspath('../developer'))\n",
    "\n",
    "from config import MOCK_DATA, CODE, OUT, IN\n",
    "from developer.utilities import read_yaml"
   ]
  },
  {
   "cell_type": "markdown",
   "metadata": {},
   "source": [
    "### Overall support"
   ]
  },
  {
   "cell_type": "code",
   "execution_count": 34,
   "metadata": {},
   "outputs": [
    {
     "data": {
      "application/vnd.plotly.v1+json": {
       "config": {
        "plotlyServerURL": "https://plot.ly"
       },
       "data": [
        {
         "error_y": {
          "array": [
           0.01088161708933133,
           0.010797072174949851
          ],
          "arrayminus": [
           0.01088161708933133,
           0.010918865127865107
          ],
          "type": "data",
          "visible": true
         },
         "marker": {
          "color": [
           "red",
           "blue"
          ]
         },
         "name": "Values",
         "type": "bar",
         "width": 0.6,
         "x": [
          "Treated",
          "Control"
         ],
         "y": [
          0.6951716114019779,
          0.691410693970421
         ]
        }
       ],
       "layout": {
        "bargap": 0.1,
        "barmode": "group",
        "height": 500,
        "template": {
         "data": {
          "bar": [
           {
            "error_x": {
             "color": "#2a3f5f"
            },
            "error_y": {
             "color": "#2a3f5f"
            },
            "marker": {
             "line": {
              "color": "#E5ECF6",
              "width": 0.5
             },
             "pattern": {
              "fillmode": "overlay",
              "size": 10,
              "solidity": 0.2
             }
            },
            "type": "bar"
           }
          ],
          "barpolar": [
           {
            "marker": {
             "line": {
              "color": "#E5ECF6",
              "width": 0.5
             },
             "pattern": {
              "fillmode": "overlay",
              "size": 10,
              "solidity": 0.2
             }
            },
            "type": "barpolar"
           }
          ],
          "carpet": [
           {
            "aaxis": {
             "endlinecolor": "#2a3f5f",
             "gridcolor": "white",
             "linecolor": "white",
             "minorgridcolor": "white",
             "startlinecolor": "#2a3f5f"
            },
            "baxis": {
             "endlinecolor": "#2a3f5f",
             "gridcolor": "white",
             "linecolor": "white",
             "minorgridcolor": "white",
             "startlinecolor": "#2a3f5f"
            },
            "type": "carpet"
           }
          ],
          "choropleth": [
           {
            "colorbar": {
             "outlinewidth": 0,
             "ticks": ""
            },
            "type": "choropleth"
           }
          ],
          "contour": [
           {
            "colorbar": {
             "outlinewidth": 0,
             "ticks": ""
            },
            "colorscale": [
             [
              0,
              "#0d0887"
             ],
             [
              0.1111111111111111,
              "#46039f"
             ],
             [
              0.2222222222222222,
              "#7201a8"
             ],
             [
              0.3333333333333333,
              "#9c179e"
             ],
             [
              0.4444444444444444,
              "#bd3786"
             ],
             [
              0.5555555555555556,
              "#d8576b"
             ],
             [
              0.6666666666666666,
              "#ed7953"
             ],
             [
              0.7777777777777778,
              "#fb9f3a"
             ],
             [
              0.8888888888888888,
              "#fdca26"
             ],
             [
              1,
              "#f0f921"
             ]
            ],
            "type": "contour"
           }
          ],
          "contourcarpet": [
           {
            "colorbar": {
             "outlinewidth": 0,
             "ticks": ""
            },
            "type": "contourcarpet"
           }
          ],
          "heatmap": [
           {
            "colorbar": {
             "outlinewidth": 0,
             "ticks": ""
            },
            "colorscale": [
             [
              0,
              "#0d0887"
             ],
             [
              0.1111111111111111,
              "#46039f"
             ],
             [
              0.2222222222222222,
              "#7201a8"
             ],
             [
              0.3333333333333333,
              "#9c179e"
             ],
             [
              0.4444444444444444,
              "#bd3786"
             ],
             [
              0.5555555555555556,
              "#d8576b"
             ],
             [
              0.6666666666666666,
              "#ed7953"
             ],
             [
              0.7777777777777778,
              "#fb9f3a"
             ],
             [
              0.8888888888888888,
              "#fdca26"
             ],
             [
              1,
              "#f0f921"
             ]
            ],
            "type": "heatmap"
           }
          ],
          "heatmapgl": [
           {
            "colorbar": {
             "outlinewidth": 0,
             "ticks": ""
            },
            "colorscale": [
             [
              0,
              "#0d0887"
             ],
             [
              0.1111111111111111,
              "#46039f"
             ],
             [
              0.2222222222222222,
              "#7201a8"
             ],
             [
              0.3333333333333333,
              "#9c179e"
             ],
             [
              0.4444444444444444,
              "#bd3786"
             ],
             [
              0.5555555555555556,
              "#d8576b"
             ],
             [
              0.6666666666666666,
              "#ed7953"
             ],
             [
              0.7777777777777778,
              "#fb9f3a"
             ],
             [
              0.8888888888888888,
              "#fdca26"
             ],
             [
              1,
              "#f0f921"
             ]
            ],
            "type": "heatmapgl"
           }
          ],
          "histogram": [
           {
            "marker": {
             "pattern": {
              "fillmode": "overlay",
              "size": 10,
              "solidity": 0.2
             }
            },
            "type": "histogram"
           }
          ],
          "histogram2d": [
           {
            "colorbar": {
             "outlinewidth": 0,
             "ticks": ""
            },
            "colorscale": [
             [
              0,
              "#0d0887"
             ],
             [
              0.1111111111111111,
              "#46039f"
             ],
             [
              0.2222222222222222,
              "#7201a8"
             ],
             [
              0.3333333333333333,
              "#9c179e"
             ],
             [
              0.4444444444444444,
              "#bd3786"
             ],
             [
              0.5555555555555556,
              "#d8576b"
             ],
             [
              0.6666666666666666,
              "#ed7953"
             ],
             [
              0.7777777777777778,
              "#fb9f3a"
             ],
             [
              0.8888888888888888,
              "#fdca26"
             ],
             [
              1,
              "#f0f921"
             ]
            ],
            "type": "histogram2d"
           }
          ],
          "histogram2dcontour": [
           {
            "colorbar": {
             "outlinewidth": 0,
             "ticks": ""
            },
            "colorscale": [
             [
              0,
              "#0d0887"
             ],
             [
              0.1111111111111111,
              "#46039f"
             ],
             [
              0.2222222222222222,
              "#7201a8"
             ],
             [
              0.3333333333333333,
              "#9c179e"
             ],
             [
              0.4444444444444444,
              "#bd3786"
             ],
             [
              0.5555555555555556,
              "#d8576b"
             ],
             [
              0.6666666666666666,
              "#ed7953"
             ],
             [
              0.7777777777777778,
              "#fb9f3a"
             ],
             [
              0.8888888888888888,
              "#fdca26"
             ],
             [
              1,
              "#f0f921"
             ]
            ],
            "type": "histogram2dcontour"
           }
          ],
          "mesh3d": [
           {
            "colorbar": {
             "outlinewidth": 0,
             "ticks": ""
            },
            "type": "mesh3d"
           }
          ],
          "parcoords": [
           {
            "line": {
             "colorbar": {
              "outlinewidth": 0,
              "ticks": ""
             }
            },
            "type": "parcoords"
           }
          ],
          "pie": [
           {
            "automargin": true,
            "type": "pie"
           }
          ],
          "scatter": [
           {
            "fillpattern": {
             "fillmode": "overlay",
             "size": 10,
             "solidity": 0.2
            },
            "type": "scatter"
           }
          ],
          "scatter3d": [
           {
            "line": {
             "colorbar": {
              "outlinewidth": 0,
              "ticks": ""
             }
            },
            "marker": {
             "colorbar": {
              "outlinewidth": 0,
              "ticks": ""
             }
            },
            "type": "scatter3d"
           }
          ],
          "scattercarpet": [
           {
            "marker": {
             "colorbar": {
              "outlinewidth": 0,
              "ticks": ""
             }
            },
            "type": "scattercarpet"
           }
          ],
          "scattergeo": [
           {
            "marker": {
             "colorbar": {
              "outlinewidth": 0,
              "ticks": ""
             }
            },
            "type": "scattergeo"
           }
          ],
          "scattergl": [
           {
            "marker": {
             "colorbar": {
              "outlinewidth": 0,
              "ticks": ""
             }
            },
            "type": "scattergl"
           }
          ],
          "scattermapbox": [
           {
            "marker": {
             "colorbar": {
              "outlinewidth": 0,
              "ticks": ""
             }
            },
            "type": "scattermapbox"
           }
          ],
          "scatterpolar": [
           {
            "marker": {
             "colorbar": {
              "outlinewidth": 0,
              "ticks": ""
             }
            },
            "type": "scatterpolar"
           }
          ],
          "scatterpolargl": [
           {
            "marker": {
             "colorbar": {
              "outlinewidth": 0,
              "ticks": ""
             }
            },
            "type": "scatterpolargl"
           }
          ],
          "scatterternary": [
           {
            "marker": {
             "colorbar": {
              "outlinewidth": 0,
              "ticks": ""
             }
            },
            "type": "scatterternary"
           }
          ],
          "surface": [
           {
            "colorbar": {
             "outlinewidth": 0,
             "ticks": ""
            },
            "colorscale": [
             [
              0,
              "#0d0887"
             ],
             [
              0.1111111111111111,
              "#46039f"
             ],
             [
              0.2222222222222222,
              "#7201a8"
             ],
             [
              0.3333333333333333,
              "#9c179e"
             ],
             [
              0.4444444444444444,
              "#bd3786"
             ],
             [
              0.5555555555555556,
              "#d8576b"
             ],
             [
              0.6666666666666666,
              "#ed7953"
             ],
             [
              0.7777777777777778,
              "#fb9f3a"
             ],
             [
              0.8888888888888888,
              "#fdca26"
             ],
             [
              1,
              "#f0f921"
             ]
            ],
            "type": "surface"
           }
          ],
          "table": [
           {
            "cells": {
             "fill": {
              "color": "#EBF0F8"
             },
             "line": {
              "color": "white"
             }
            },
            "header": {
             "fill": {
              "color": "#C8D4E3"
             },
             "line": {
              "color": "white"
             }
            },
            "type": "table"
           }
          ]
         },
         "layout": {
          "annotationdefaults": {
           "arrowcolor": "#2a3f5f",
           "arrowhead": 0,
           "arrowwidth": 1
          },
          "autotypenumbers": "strict",
          "coloraxis": {
           "colorbar": {
            "outlinewidth": 0,
            "ticks": ""
           }
          },
          "colorscale": {
           "diverging": [
            [
             0,
             "#8e0152"
            ],
            [
             0.1,
             "#c51b7d"
            ],
            [
             0.2,
             "#de77ae"
            ],
            [
             0.3,
             "#f1b6da"
            ],
            [
             0.4,
             "#fde0ef"
            ],
            [
             0.5,
             "#f7f7f7"
            ],
            [
             0.6,
             "#e6f5d0"
            ],
            [
             0.7,
             "#b8e186"
            ],
            [
             0.8,
             "#7fbc41"
            ],
            [
             0.9,
             "#4d9221"
            ],
            [
             1,
             "#276419"
            ]
           ],
           "sequential": [
            [
             0,
             "#0d0887"
            ],
            [
             0.1111111111111111,
             "#46039f"
            ],
            [
             0.2222222222222222,
             "#7201a8"
            ],
            [
             0.3333333333333333,
             "#9c179e"
            ],
            [
             0.4444444444444444,
             "#bd3786"
            ],
            [
             0.5555555555555556,
             "#d8576b"
            ],
            [
             0.6666666666666666,
             "#ed7953"
            ],
            [
             0.7777777777777778,
             "#fb9f3a"
            ],
            [
             0.8888888888888888,
             "#fdca26"
            ],
            [
             1,
             "#f0f921"
            ]
           ],
           "sequentialminus": [
            [
             0,
             "#0d0887"
            ],
            [
             0.1111111111111111,
             "#46039f"
            ],
            [
             0.2222222222222222,
             "#7201a8"
            ],
            [
             0.3333333333333333,
             "#9c179e"
            ],
            [
             0.4444444444444444,
             "#bd3786"
            ],
            [
             0.5555555555555556,
             "#d8576b"
            ],
            [
             0.6666666666666666,
             "#ed7953"
            ],
            [
             0.7777777777777778,
             "#fb9f3a"
            ],
            [
             0.8888888888888888,
             "#fdca26"
            ],
            [
             1,
             "#f0f921"
            ]
           ]
          },
          "colorway": [
           "#636efa",
           "#EF553B",
           "#00cc96",
           "#ab63fa",
           "#FFA15A",
           "#19d3f3",
           "#FF6692",
           "#B6E880",
           "#FF97FF",
           "#FECB52"
          ],
          "font": {
           "color": "#2a3f5f"
          },
          "geo": {
           "bgcolor": "white",
           "lakecolor": "white",
           "landcolor": "#E5ECF6",
           "showlakes": true,
           "showland": true,
           "subunitcolor": "white"
          },
          "hoverlabel": {
           "align": "left"
          },
          "hovermode": "closest",
          "mapbox": {
           "style": "light"
          },
          "paper_bgcolor": "white",
          "plot_bgcolor": "#E5ECF6",
          "polar": {
           "angularaxis": {
            "gridcolor": "white",
            "linecolor": "white",
            "ticks": ""
           },
           "bgcolor": "#E5ECF6",
           "radialaxis": {
            "gridcolor": "white",
            "linecolor": "white",
            "ticks": ""
           }
          },
          "scene": {
           "xaxis": {
            "backgroundcolor": "#E5ECF6",
            "gridcolor": "white",
            "gridwidth": 2,
            "linecolor": "white",
            "showbackground": true,
            "ticks": "",
            "zerolinecolor": "white"
           },
           "yaxis": {
            "backgroundcolor": "#E5ECF6",
            "gridcolor": "white",
            "gridwidth": 2,
            "linecolor": "white",
            "showbackground": true,
            "ticks": "",
            "zerolinecolor": "white"
           },
           "zaxis": {
            "backgroundcolor": "#E5ECF6",
            "gridcolor": "white",
            "gridwidth": 2,
            "linecolor": "white",
            "showbackground": true,
            "ticks": "",
            "zerolinecolor": "white"
           }
          },
          "shapedefaults": {
           "line": {
            "color": "#2a3f5f"
           }
          },
          "ternary": {
           "aaxis": {
            "gridcolor": "white",
            "linecolor": "white",
            "ticks": ""
           },
           "baxis": {
            "gridcolor": "white",
            "linecolor": "white",
            "ticks": ""
           },
           "bgcolor": "#E5ECF6",
           "caxis": {
            "gridcolor": "white",
            "linecolor": "white",
            "ticks": ""
           }
          },
          "title": {
           "x": 0.05
          },
          "xaxis": {
           "automargin": true,
           "gridcolor": "white",
           "linecolor": "white",
           "ticks": "",
           "title": {
            "standoff": 15
           },
           "zerolinecolor": "white",
           "zerolinewidth": 2
          },
          "yaxis": {
           "automargin": true,
           "gridcolor": "white",
           "linecolor": "white",
           "ticks": "",
           "title": {
            "standoff": 15
           },
           "zerolinecolor": "white",
           "zerolinewidth": 2
          }
         }
        },
        "title": {
         "text": "Fig C: General support"
        },
        "width": 400,
        "xaxis": {
         "range": [
          -1,
          2
         ],
         "title": {
          "text": "Values"
         }
        },
        "yaxis": {
         "range": [
          0,
          1
         ],
         "title": {
          "text": "Mean"
         }
        }
       }
      }
     },
     "metadata": {},
     "output_type": "display_data"
    }
   ],
   "source": [
    "conjoint = pd.read_csv(OUT / \"data\" / \"data_long.csv\")\n",
    "\n",
    "treated = conjoint[conjoint['treatment_status'] == 1]\n",
    "control = conjoint[conjoint['treatment_status'] == 0]\n",
    "labels = [\"Treated\", \"Control\"]\n",
    "\n",
    "avg_support_treated = treated['support'].astype(int).mean()\n",
    "std_support_treated = treated['support'].astype(int).std()\n",
    "nobs_support_treated = len(treated['support'])\n",
    "\n",
    "avg_support_control = control['support'].astype(int).mean()\n",
    "std_support_control = control['support'].astype(int).std()\n",
    "nobs_support_control = len(control['support'])\n",
    "\n",
    "values = [avg_support_treated, avg_support_control]\n",
    "std_dev = [std_support_treated, std_support_control]\n",
    "labels = [\"Treated\", \"Control\"]\n",
    "\n",
    "# Calculate confidence intervals (assuming a normal distribution)\n",
    "confidence_intervals_treated = [(avg_support_treated - 1.96 * (std_support_treated / (nobs_support_treated) ** 0.5)), avg_support_treated + 1.96 * (std_support_treated / (nobs_support_treated) ** 0.5)]\n",
    "confidence_intervals_control = [(avg_support_control - 1.96 * (std_support_control / (nobs_support_treated) ** 0.5)), avg_support_control + 1.96 * (std_support_control / (nobs_support_control) ** 0.5)]\n",
    "\n",
    "\n",
    "# Create a bar plot with error bars representing confidence intervals\n",
    "fig = go.Figure()\n",
    "\n",
    "fig.add_trace(go.Bar(\n",
    "    x=labels,\n",
    "    y=values,\n",
    "    error_y=dict(\n",
    "                type='data',\n",
    "                array=[max(confidence_intervals_treated) - values[0], max(confidence_intervals_control) - values[1]],\n",
    "                arrayminus=[values[0] - min(confidence_intervals_treated), values[1] - min(confidence_intervals_control)],\n",
    "                visible=True\n",
    "            ),\n",
    "    name='Values',\n",
    "    marker_color=['red', 'blue'],\n",
    "    width=0.6\n",
    "))\n",
    "\n",
    "fig.update_layout(yaxis_range=[0, 1], xaxis_range=[-1,2], width=400, height=500)\n",
    "# Customize the layout\n",
    "fig.update_layout(\n",
    "    title='Fig C: General support',\n",
    "    xaxis=dict(title='Values'),\n",
    "    yaxis=dict(title='Mean'),\n",
    "    barmode='group',\n",
    "    bargap=0.1\n",
    "    \n",
    ")\n",
    "\n",
    "# Show the plot\n",
    "fig.show()"
   ]
  },
  {
   "cell_type": "markdown",
   "metadata": {},
   "source": [
    "##### Regions"
   ]
  },
  {
   "cell_type": "code",
   "execution_count": 3,
   "metadata": {},
   "outputs": [
    {
     "data": {
      "text/plain": [
       "array(['Puducherry', 'Dadra and Nagar Haveli and Daman & Diu',\n",
       "       'Uttar Pradesh', 'Ladakh', 'West Bengal', 'Tripura'], dtype=object)"
      ]
     },
     "execution_count": 3,
     "metadata": {},
     "output_type": "execute_result"
    }
   ],
   "source": [
    "conjoint = pd.read_csv(OUT / \"data\" / \"data_clean.csv\")\n",
    "\n",
    "conjoint[\"locationFilter\"].unique()"
   ]
  },
  {
   "attachments": {},
   "cell_type": "markdown",
   "metadata": {},
   "source": [
    "#### Frequencies of attributes"
   ]
  },
  {
   "cell_type": "code",
   "execution_count": 4,
   "metadata": {},
   "outputs": [
    {
     "data": {
      "text/html": [
       "<div>\n",
       "<style scoped>\n",
       "    .dataframe tbody tr th:only-of-type {\n",
       "        vertical-align: middle;\n",
       "    }\n",
       "\n",
       "    .dataframe tbody tr th {\n",
       "        vertical-align: top;\n",
       "    }\n",
       "\n",
       "    .dataframe thead th {\n",
       "        text-align: right;\n",
       "    }\n",
       "</style>\n",
       "<table border=\"1\" class=\"dataframe\">\n",
       "  <thead>\n",
       "    <tr style=\"text-align: right;\">\n",
       "      <th></th>\n",
       "      <th>frequency</th>\n",
       "    </tr>\n",
       "    <tr>\n",
       "      <th>Attribute_level</th>\n",
       "      <th></th>\n",
       "    </tr>\n",
       "  </thead>\n",
       "  <tbody>\n",
       "    <tr>\n",
       "      <th>Eliminate2050</th>\n",
       "      <td>0.34</td>\n",
       "    </tr>\n",
       "    <tr>\n",
       "      <th>Eliminate2070</th>\n",
       "      <td>0.33</td>\n",
       "    </tr>\n",
       "    <tr>\n",
       "      <th>Reduce2030</th>\n",
       "      <td>0.33</td>\n",
       "    </tr>\n",
       "    <tr>\n",
       "      <th>EnergyAccess</th>\n",
       "      <td>0.25</td>\n",
       "    </tr>\n",
       "    <tr>\n",
       "      <th>InsureWorkers</th>\n",
       "      <td>0.25</td>\n",
       "    </tr>\n",
       "    <tr>\n",
       "      <th>LowPrices</th>\n",
       "      <td>0.25</td>\n",
       "    </tr>\n",
       "    <tr>\n",
       "      <th>NothingSoc</th>\n",
       "      <td>0.25</td>\n",
       "    </tr>\n",
       "    <tr>\n",
       "      <th>IdentityCoalRegions</th>\n",
       "      <td>0.25</td>\n",
       "    </tr>\n",
       "    <tr>\n",
       "      <th>IndustryCoalRegions</th>\n",
       "      <td>0.26</td>\n",
       "    </tr>\n",
       "    <tr>\n",
       "      <th>NothingEco</th>\n",
       "      <td>0.25</td>\n",
       "    </tr>\n",
       "    <tr>\n",
       "      <th>WorkersCoalRegion</th>\n",
       "      <td>0.25</td>\n",
       "    </tr>\n",
       "    <tr>\n",
       "      <th>Gov&amp;Businesses</th>\n",
       "      <td>0.17</td>\n",
       "    </tr>\n",
       "    <tr>\n",
       "      <th>Gov&amp;CivilSociety</th>\n",
       "      <td>0.17</td>\n",
       "    </tr>\n",
       "    <tr>\n",
       "      <th>Gov&amp;LaborUnions</th>\n",
       "      <td>0.17</td>\n",
       "    </tr>\n",
       "    <tr>\n",
       "      <th>Gov&amp;LocalGov</th>\n",
       "      <td>0.17</td>\n",
       "    </tr>\n",
       "    <tr>\n",
       "      <th>Gov&amp;Researchers</th>\n",
       "      <td>0.16</td>\n",
       "    </tr>\n",
       "    <tr>\n",
       "      <th>GovAlone</th>\n",
       "      <td>0.17</td>\n",
       "    </tr>\n",
       "    <tr>\n",
       "      <th>Fin&amp;TechSupport</th>\n",
       "      <td>0.25</td>\n",
       "    </tr>\n",
       "    <tr>\n",
       "      <th>FinSupportOnly</th>\n",
       "      <td>0.25</td>\n",
       "    </tr>\n",
       "    <tr>\n",
       "      <th>NoInterference</th>\n",
       "      <td>0.25</td>\n",
       "    </tr>\n",
       "    <tr>\n",
       "      <th>TechSupportOnly</th>\n",
       "      <td>0.26</td>\n",
       "    </tr>\n",
       "  </tbody>\n",
       "</table>\n",
       "</div>"
      ],
      "text/plain": [
       "                     frequency\n",
       "Attribute_level               \n",
       "Eliminate2050             0.34\n",
       "Eliminate2070             0.33\n",
       "Reduce2030                0.33\n",
       "EnergyAccess              0.25\n",
       "InsureWorkers             0.25\n",
       "LowPrices                 0.25\n",
       "NothingSoc                0.25\n",
       "IdentityCoalRegions       0.25\n",
       "IndustryCoalRegions       0.26\n",
       "NothingEco                0.25\n",
       "WorkersCoalRegion         0.25\n",
       "Gov&Businesses            0.17\n",
       "Gov&CivilSociety          0.17\n",
       "Gov&LaborUnions           0.17\n",
       "Gov&LocalGov              0.17\n",
       "Gov&Researchers           0.16\n",
       "GovAlone                  0.17\n",
       "Fin&TechSupport           0.25\n",
       "FinSupportOnly            0.25\n",
       "NoInterference            0.25\n",
       "TechSupportOnly           0.26"
      ]
     },
     "execution_count": 4,
     "metadata": {},
     "output_type": "execute_result"
    }
   ],
   "source": [
    "conjoint_reg = pd.read_csv(OUT / \"data\" / \"data_regression.csv\")\n",
    "\n",
    "#conjoint_dummy.columns.str.startswith('att')\n",
    "def frequencies(conjoint_reg):\n",
    "    \n",
    "    frequency_table =  {}\n",
    "    groups = ['att_1', 'att_2','att_3', 'att_4', 'att_5'] #add 6\n",
    "    for group in groups:\n",
    "        total = sum(dict(conjoint_reg.filter(like=group).sum()).values())\n",
    "        frequency_table[group] = {key.replace(f'{group}_', '') : (value / total).round(2) for key, value in dict(conjoint_reg.filter(like=group).sum()).items()}\n",
    "    frequency_table = pd.DataFrame(frequency_table).sum(axis=1)\n",
    "    frequency_table = pd.DataFrame(frequency_table, columns=[\"frequency\"])\n",
    "\n",
    "    frequency_table = frequency_table.rename_axis(\"Attribute_level\")\n",
    "    return frequency_table\n",
    "\n",
    "frequencies(conjoint_reg)"
   ]
  },
  {
   "attachments": {},
   "cell_type": "markdown",
   "metadata": {},
   "source": [
    "#### Time spent on surveys"
   ]
  },
  {
   "cell_type": "code",
   "execution_count": 5,
   "metadata": {},
   "outputs": [
    {
     "data": {
      "application/vnd.plotly.v1+json": {
       "config": {
        "plotlyServerURL": "https://plot.ly"
       },
       "data": [
        {
         "autobinx": false,
         "histnorm": "probability density",
         "legendgroup": "DurationMin",
         "marker": {
          "color": "rgb(31, 119, 180)"
         },
         "name": "DurationMin",
         "opacity": 0.7,
         "type": "histogram",
         "x": [
          3.283333333333333,
          5.45,
          6.383333333333334,
          7.133333333333334,
          5.533333333333333,
          12.066666666666666,
          9.2,
          10.2,
          8.883333333333333,
          12.65,
          10.633333333333333,
          18.933333333333334,
          10.166666666666666,
          17.933333333333334,
          19.116666666666667,
          18.983333333333334,
          5.266666666666667,
          14.033333333333333,
          14.866666666666667,
          5.533333333333333,
          8.916666666666666,
          14.583333333333334,
          20.716666666666665,
          6.233333333333333,
          13.083333333333334,
          6.616666666666666,
          11.166666666666666,
          17.666666666666668,
          5.3,
          7.716666666666667,
          20.8,
          11.216666666666667,
          7.666666666666667,
          9.5,
          14.366666666666667,
          17.433333333333334,
          9.3,
          8.116666666666667,
          7.516666666666667,
          10.216666666666667,
          10.766666666666667,
          9.733333333333333,
          16.283333333333335,
          12.633333333333333,
          13.183333333333334,
          12.216666666666667,
          5.583333333333333,
          15.783333333333333,
          10.95,
          5.933333333333334,
          5.866666666666666,
          13.316666666666666,
          29.816666666666666,
          26.8,
          21.2,
          16.9,
          28.033333333333335,
          27.016666666666666,
          22.416666666666668,
          9.6,
          15.416666666666666,
          22.4,
          25.533333333333335,
          10.416666666666666,
          12.35,
          6.016666666666667,
          14.583333333333334,
          37.083333333333336,
          27.366666666666667,
          3.1666666666666665,
          25.883333333333333,
          21.133333333333333,
          13.983333333333333,
          19.966666666666665,
          17.766666666666666,
          13.466666666666667,
          4.183333333333334,
          17.15,
          18.666666666666668,
          9.933333333333334,
          18.216666666666665,
          11.766666666666667,
          6.033333333333333,
          11.766666666666667,
          14.266666666666667,
          20.966666666666665,
          5.766666666666667,
          13.2,
          52.016666666666666,
          5.016666666666667,
          3.95,
          13.083333333333334,
          8.266666666666667,
          7.9,
          15.216666666666667,
          8.25,
          7.75,
          24.35,
          8.766666666666667,
          6.466666666666667,
          32.9,
          46.75,
          8.9,
          29.5,
          12.133333333333333,
          47.68333333333333,
          28.666666666666668,
          5,
          12.816666666666666,
          35.016666666666666,
          35.46666666666667,
          37.81666666666667,
          11.066666666666666,
          26.916666666666668,
          4.5,
          10.633333333333333,
          13.183333333333334,
          14.066666666666666,
          14.416666666666666,
          3.5,
          13.316666666666666,
          5.533333333333333,
          5.566666666666666,
          11.683333333333334,
          10.35,
          5.516666666666667,
          7.983333333333333,
          18.55,
          9.833333333333334,
          16.65,
          13.8,
          9.316666666666666,
          8.966666666666667,
          8.566666666666666,
          10.083333333333334,
          10.9,
          11.5,
          2.75,
          9.683333333333334,
          10.566666666666666,
          10.983333333333333,
          11,
          18,
          8.283333333333333,
          13.616666666666667,
          14.8,
          12.266666666666667,
          16.766666666666666,
          18.283333333333335,
          16.55,
          14.183333333333334,
          18.116666666666667,
          19.366666666666667,
          6.933333333333334,
          6.866666666666666,
          21.833333333333332,
          11.233333333333333,
          12.35,
          13.066666666666666,
          11.533333333333333,
          4.6,
          7.083333333333333,
          7.983333333333333,
          8.95,
          28.95,
          15.783333333333333,
          30.55,
          28.8,
          17.066666666666666,
          13.466666666666667,
          11.916666666666666,
          23.333333333333332,
          15.583333333333334,
          4.566666666666666,
          27.266666666666666,
          19.333333333333332,
          14.316666666666666,
          14.9,
          37.666666666666664,
          7.866666666666666,
          12.683333333333334,
          19.083333333333332,
          17.9,
          23.766666666666666,
          18.883333333333333,
          7.616666666666666,
          10.966666666666667,
          26.9,
          14.183333333333334,
          15.583333333333334,
          18.833333333333332,
          11.5,
          33.016666666666666,
          2.4833333333333334,
          3.1166666666666667,
          12.066666666666666,
          2.1666666666666665,
          6.616666666666666,
          46.28333333333333,
          2.2666666666666666,
          15.15,
          3.15,
          8.95,
          11.383333333333333,
          15,
          10.383333333333333,
          13.183333333333334,
          4.883333333333334,
          39.766666666666666,
          16.833333333333332,
          5.583333333333333,
          6.566666666666666,
          3.316666666666667,
          12.2,
          7.15,
          9.4,
          4.066666666666666,
          10.933333333333334,
          5.233333333333333,
          9.566666666666666,
          10.183333333333334,
          14.55,
          3.816666666666667,
          8.933333333333334,
          12.533333333333333,
          31.1,
          13.166666666666666,
          17.266666666666666,
          20.35,
          5.033333333333333,
          10.216666666666667,
          13.216666666666667,
          14.45,
          10.316666666666666,
          13.816666666666666,
          17.733333333333334,
          4.483333333333333,
          21.666666666666668,
          8.9,
          22.866666666666667,
          15.516666666666667,
          9.116666666666667,
          25.566666666666666,
          18,
          26.483333333333334,
          4.75,
          10.35,
          7.95,
          7.916666666666667,
          11.25,
          36.266666666666666,
          11.15,
          12.7,
          4.7,
          28.333333333333332,
          19.716666666666665,
          3.3833333333333333,
          19.016666666666666,
          18.016666666666666,
          18.75,
          8.25,
          17.683333333333334,
          43.4,
          4.816666666666666,
          9.033333333333333,
          21.1,
          17.066666666666666,
          4.433333333333334,
          6.233333333333333,
          12.166666666666666,
          19.833333333333332,
          13.633333333333333,
          25.033333333333335,
          10.216666666666667,
          8.35,
          9.133333333333333,
          8.05,
          5.7,
          9.05,
          7.116666666666666,
          41.56666666666667,
          35.05,
          7.316666666666666,
          7.766666666666667,
          11.066666666666666,
          22.466666666666665,
          13.233333333333333,
          10.283333333333333,
          11.833333333333334,
          9.9,
          17.55,
          22.566666666666666,
          4.8,
          17.65,
          29.966666666666665,
          21.916666666666668,
          22.816666666666666,
          8.483333333333333,
          10.316666666666666,
          7.05,
          8.1,
          39.78333333333333,
          24.35,
          10.25,
          30.966666666666665,
          24.15,
          11.466666666666667,
          17.8,
          53.86666666666667,
          5.583333333333333,
          26.466666666666665,
          6.783333333333333,
          12.033333333333333,
          11.233333333333333,
          8.066666666666666,
          29.833333333333332,
          20.483333333333334,
          3.6166666666666667,
          16.416666666666668,
          11.816666666666666,
          7.266666666666667,
          22.616666666666667,
          11.316666666666666,
          14.433333333333334,
          17.483333333333334,
          14.666666666666666,
          16.983333333333334,
          10.8,
          8.283333333333333,
          14.85,
          33.15,
          11.583333333333334,
          16.633333333333333,
          27.816666666666666,
          27.933333333333334,
          13.6,
          14.3,
          56.45,
          3.4833333333333334,
          3.433333333333333,
          3.5166666666666666,
          4.266666666666667,
          4.3,
          3.5833333333333335,
          3.5,
          4.833333333333333,
          4.883333333333334,
          3.1166666666666667,
          3.9166666666666665,
          4.05,
          5.816666666666666,
          4.116666666666666,
          4.766666666666667,
          4.816666666666666,
          5,
          5.133333333333334,
          4.983333333333333,
          3.25,
          4.283333333333333,
          4.733333333333333,
          4.766666666666667,
          4.983333333333333,
          5.433333333333334,
          5.266666666666667,
          5.65,
          5.25,
          5.433333333333334,
          5.366666666666666,
          5.883333333333334,
          5.333333333333333,
          5.783333333333333,
          5.95,
          5.666666666666667,
          6.15,
          6.333333333333333,
          6.316666666666666,
          6.283333333333333,
          6.5,
          6.683333333333334,
          6.65,
          5.383333333333334,
          6.75,
          6.116666666666666,
          6.733333333333333,
          6.666666666666667,
          6.75,
          6.433333333333334,
          6.933333333333334,
          7.016666666666667,
          6.183333333333334,
          5.9,
          7.133333333333334,
          6.116666666666666,
          6.933333333333334,
          6.566666666666666,
          7.516666666666667,
          7.133333333333334,
          7.35,
          7.7,
          7.533333333333333,
          7.65,
          8.333333333333334,
          7.983333333333333,
          8.033333333333333,
          7.816666666666666,
          7.366666666666666,
          7.733333333333333,
          9.1,
          8.15,
          7.366666666666666,
          8.5,
          8.166666666666666,
          8.35,
          8.516666666666667,
          8.35,
          8.766666666666667,
          8.416666666666666,
          8.733333333333333,
          8.616666666666667,
          9.233333333333333,
          8.216666666666667,
          5.466666666666667,
          9.666666666666666,
          8.233333333333333,
          7.766666666666667,
          9.033333333333333,
          5.416666666666667,
          8.733333333333333,
          9.35,
          9.183333333333334,
          9.316666666666666,
          9.566666666666666,
          9.533333333333333,
          9.933333333333334,
          9.75,
          9.866666666666667,
          10,
          8.733333333333333,
          9.55,
          8.716666666666667,
          9.95,
          10.25,
          9.733333333333333,
          9.566666666666666,
          9.2,
          10.233333333333333,
          10.333333333333334,
          10.316666666666666,
          9.983333333333333,
          11.083333333333334,
          10.65,
          10.5,
          10.783333333333333,
          11.05,
          9.65,
          12.483333333333333,
          10.633333333333333,
          11.833333333333334,
          10.6,
          12.066666666666666,
          11.516666666666667,
          12.666666666666666,
          12.016666666666667,
          12.05,
          12.133333333333333,
          11.316666666666666,
          11.75,
          11.416666666666666,
          12.233333333333333,
          12.6,
          11.8,
          12.316666666666666,
          12.3,
          11.516666666666667,
          12.2,
          12.583333333333334,
          13.066666666666666,
          13.05,
          12.833333333333334,
          13.15,
          12.366666666666667,
          13.183333333333334,
          8.4,
          13.283333333333333,
          12.533333333333333,
          12.05,
          13.066666666666666,
          10.416666666666666,
          13.65,
          13.433333333333334,
          13.483333333333333,
          14.533333333333333,
          12.733333333333333,
          13.866666666666667,
          14.683333333333334,
          11.016666666666667,
          13.233333333333333,
          13.716666666666667,
          14.133333333333333,
          13.6,
          14.4,
          14.266666666666667,
          14.25,
          14.616666666666667,
          13.083333333333334,
          13.833333333333334,
          14.966666666666667,
          14.883333333333333,
          14.716666666666667,
          13.816666666666666,
          16.366666666666667,
          15.116666666666667,
          15.233333333333333,
          14.65,
          13.1,
          15.466666666666667,
          15.333333333333334,
          13.166666666666666,
          10.933333333333334,
          15.533333333333333,
          14.9,
          15.85,
          15.733333333333333,
          16.3,
          16.333333333333332,
          15.6,
          16.366666666666667,
          17.166666666666668,
          15.666666666666666,
          15.666666666666666,
          16.1,
          16.45,
          16.3,
          16.033333333333335,
          16.483333333333334,
          15.933333333333334,
          16.616666666666667,
          14.9,
          17.333333333333332,
          16.95,
          17.066666666666666,
          18.4,
          17.7,
          17.266666666666666,
          18.766666666666666,
          16.85,
          17.583333333333332,
          17.866666666666667,
          15.583333333333334,
          18.633333333333333,
          19.25,
          17.933333333333334,
          15.716666666666667,
          18.3,
          18.65,
          18.25,
          18.933333333333334,
          19.833333333333332,
          19.25,
          18.966666666666665,
          19.966666666666665,
          20.5,
          20,
          20.433333333333334,
          20.366666666666667,
          18.133333333333333,
          17.2,
          20.266666666666666,
          20.266666666666666,
          22.5,
          19.75,
          22.4,
          19.666666666666668,
          22.766666666666666,
          19,
          22.116666666666667,
          22.733333333333334,
          23.416666666666668,
          24.633333333333333,
          24.283333333333335,
          5.833333333333333,
          25.066666666666666,
          26.316666666666666,
          26.45,
          26.7,
          27.8,
          28.25,
          28.883333333333333,
          28.6,
          27.8,
          28.933333333333334,
          30.033333333333335,
          30.35,
          30.666666666666668,
          29.083333333333332,
          31.683333333333334,
          5.433333333333334,
          38.31666666666667,
          37.93333333333333,
          40.083333333333336,
          42.733333333333334,
          58.4,
          21.466666666666665,
          9.5,
          3.3833333333333333,
          5.7,
          39.083333333333336,
          15.233333333333333,
          8.85,
          5.75,
          11.85,
          6.883333333333334,
          7.616666666666666,
          7.866666666666666,
          32.65,
          17.116666666666667,
          16.333333333333332,
          6.866666666666666,
          12.3,
          15.783333333333333,
          15.833333333333334,
          9.65,
          16.183333333333334,
          7.566666666666666,
          24,
          16.433333333333334,
          30.833333333333332,
          31.116666666666667,
          25.283333333333335,
          13.016666666666667,
          6.783333333333333,
          16.883333333333333,
          27.8,
          10.566666666666666,
          10.566666666666666,
          24.983333333333334,
          7.6,
          45.31666666666667,
          11.883333333333333,
          8.4,
          18.9,
          7.466666666666667,
          48.266666666666666,
          16.466666666666665,
          12.533333333333333,
          30.5,
          24.866666666666667,
          21.383333333333333,
          10.016666666666667,
          19.466666666666665,
          34.45,
          16.516666666666666,
          12.266666666666667,
          14.75,
          10.25,
          16.266666666666666,
          6.266666666666667,
          8.266666666666667,
          2.55,
          8.233333333333333,
          18.416666666666668,
          4.916666666666667,
          3.8333333333333335,
          3.25,
          41.733333333333334,
          3.9833333333333334,
          9.4,
          5.916666666666667,
          4.333333333333333,
          6.65,
          9.883333333333333,
          5.583333333333333,
          8.766666666666667,
          5.3,
          5.266666666666667,
          11,
          5.366666666666666,
          7.2,
          7.55,
          11.483333333333333,
          7.75,
          7.8,
          6.45,
          8.2,
          7.833333333333333,
          9.816666666666666,
          9.65,
          7.416666666666667,
          7.166666666666667,
          9.966666666666667,
          7.383333333333334,
          9.816666666666666,
          8.916666666666666,
          10.45,
          8.95,
          13.166666666666666,
          12.116666666666667,
          10.166666666666666,
          10.266666666666667,
          9.716666666666667,
          6.2,
          11.483333333333333,
          9.216666666666667,
          11.65,
          9.55,
          10.35,
          11.766666666666667,
          15.916666666666666,
          6.933333333333334,
          11.35,
          13.183333333333334,
          8.283333333333333,
          3.5166666666666666,
          14.366666666666667,
          15.066666666666666,
          11.333333333333334,
          13.566666666666666,
          10.55,
          7.183333333333334,
          14.966666666666667,
          8.25,
          12.2,
          15.633333333333333,
          11.2,
          9.116666666666667,
          21,
          3.8333333333333335,
          17.7,
          16.433333333333334,
          22.583333333333332,
          16.7,
          8.8,
          17.8,
          22.916666666666668,
          17.733333333333334,
          17.783333333333335,
          19,
          14.9,
          18.066666666666666,
          14.15,
          19.083333333333332,
          13.166666666666666,
          22.983333333333334,
          17.966666666666665,
          18.85,
          18.666666666666668,
          18.583333333333332,
          3.15,
          11.816666666666666,
          18.7,
          18.166666666666668,
          23.583333333333332,
          20.033333333333335,
          12.433333333333334,
          12.183333333333334,
          22.816666666666666,
          20.266666666666666,
          9.283333333333333,
          20.95,
          7.4,
          22.5,
          29.366666666666667,
          23.6,
          26.566666666666666,
          15.083333333333334,
          24.4,
          25.2,
          24.416666666666668,
          6.933333333333334,
          24.583333333333332,
          28.45,
          28.366666666666667,
          30.716666666666665,
          31.783333333333335,
          34.666666666666664,
          38.916666666666664,
          34.65,
          30.783333333333335,
          37.733333333333334,
          35.916666666666664,
          33.63333333333333,
          22.716666666666665,
          54.06666666666667,
          28.483333333333334,
          56.36666666666667,
          46.983333333333334,
          9.15,
          21.083333333333332,
          21,
          18.5,
          5.016666666666667,
          10.8,
          21.3,
          5.833333333333333,
          17.666666666666668,
          10.166666666666666,
          11.633333333333333,
          15.616666666666667,
          5.9,
          24.2,
          37.416666666666664,
          15.033333333333333,
          17.916666666666668,
          28.266666666666666,
          15.666666666666666,
          7.966666666666667,
          17.783333333333335,
          25.533333333333335,
          14.25,
          25.05,
          44.583333333333336,
          10.983333333333333,
          13.266666666666667,
          12.133333333333333,
          11.266666666666667,
          8.1,
          16.866666666666667,
          3.533333333333333,
          27.933333333333334,
          42.63333333333333,
          17.55,
          45.166666666666664,
          5.066666666666666,
          13.083333333333334,
          6.05,
          7.166666666666667,
          4.316666666666666,
          12.983333333333333,
          17.633333333333333,
          17.166666666666668,
          14.233333333333333,
          24.35,
          10.283333333333333,
          23.966666666666665,
          6.383333333333334,
          11.083333333333334,
          7.683333333333334,
          11.7,
          27.533333333333335,
          21.216666666666665,
          13.383333333333333,
          13.1,
          14.183333333333334,
          8.066666666666666,
          37.266666666666666,
          10.1,
          15.7,
          10.233333333333333,
          9.1,
          17.2,
          9.466666666666667,
          5.466666666666667,
          20.833333333333332,
          7.633333333333334,
          13.3,
          22.2,
          10.633333333333333,
          3.716666666666667,
          4.216666666666667,
          11.483333333333333,
          14.25,
          10.2,
          5.966666666666667,
          19.916666666666668,
          10.916666666666666,
          8.083333333333334,
          19.616666666666667,
          10.383333333333333,
          8.25,
          16.783333333333335,
          12.95,
          11.1,
          18.3,
          16.15,
          11.616666666666667,
          10.116666666666667,
          12.433333333333334,
          18.733333333333334,
          16.616666666666667,
          7.833333333333333,
          17.35,
          16.35,
          9.7,
          13.016666666666667,
          11.883333333333333,
          3.4166666666666665,
          5.4,
          11.233333333333333,
          10.933333333333334,
          41.35,
          13.333333333333334,
          8.566666666666666,
          8.516666666666667,
          14.75,
          7.183333333333334,
          9.033333333333333,
          9.266666666666667,
          17.483333333333334,
          18.166666666666668,
          12.716666666666667,
          7.383333333333334,
          27.45,
          11.783333333333333,
          16.883333333333333,
          9.133333333333333,
          5.4,
          51.25,
          13.066666666666666,
          3.5166666666666666,
          7.666666666666667,
          12,
          18.5,
          26.083333333333332,
          6.183333333333334,
          33.61666666666667,
          27.433333333333334,
          11.4,
          17.883333333333333,
          13.516666666666667,
          13.083333333333334,
          19.916666666666668,
          20.516666666666666,
          8.133333333333333,
          10.666666666666666,
          19.316666666666666,
          17.8,
          18.05,
          16.316666666666666,
          43.583333333333336
         ],
         "xaxis": "x",
         "xbins": {
          "end": 58.4,
          "size": 2,
          "start": 2.1666666666666665
         },
         "yaxis": "y"
        },
        {
         "legendgroup": "DurationMin",
         "marker": {
          "color": "rgb(31, 119, 180)"
         },
         "mode": "lines",
         "name": "DurationMin",
         "showlegend": false,
         "type": "scatter",
         "x": [
          2.1666666666666665,
          2.2791333333333332,
          2.3916,
          2.5040666666666667,
          2.6165333333333334,
          2.729,
          2.8414666666666664,
          2.953933333333333,
          3.0664,
          3.1788666666666665,
          3.291333333333333,
          3.4038,
          3.5162666666666667,
          3.628733333333333,
          3.7412,
          3.8536666666666664,
          3.9661333333333335,
          4.0786,
          4.191066666666666,
          4.303533333333333,
          4.416,
          4.528466666666667,
          4.640933333333333,
          4.7534,
          4.865866666666666,
          4.9783333333333335,
          5.0908,
          5.203266666666666,
          5.315733333333333,
          5.4282,
          5.540666666666667,
          5.653133333333333,
          5.7656,
          5.878066666666667,
          5.9905333333333335,
          6.103,
          6.215466666666666,
          6.327933333333332,
          6.4404,
          6.552866666666667,
          6.665333333333333,
          6.777799999999999,
          6.890266666666667,
          7.0027333333333335,
          7.1152,
          7.227666666666666,
          7.340133333333334,
          7.4526,
          7.565066666666667,
          7.677533333333333,
          7.789999999999999,
          7.902466666666667,
          8.014933333333333,
          8.1274,
          8.239866666666666,
          8.352333333333334,
          8.4648,
          8.577266666666667,
          8.689733333333333,
          8.802200000000001,
          8.914666666666667,
          9.027133333333333,
          9.1396,
          9.252066666666668,
          9.364533333333334,
          9.477,
          9.589466666666667,
          9.701933333333333,
          9.814400000000001,
          9.926866666666667,
          10.039333333333333,
          10.1518,
          10.264266666666666,
          10.376733333333334,
          10.489199999999999,
          10.601666666666667,
          10.714133333333333,
          10.826600000000001,
          10.939066666666665,
          11.051533333333333,
          11.164,
          11.276466666666666,
          11.388933333333332,
          11.5014,
          11.613866666666667,
          11.726333333333333,
          11.838799999999999,
          11.951266666666667,
          12.063733333333333,
          12.1762,
          12.288666666666666,
          12.401133333333334,
          12.5136,
          12.626066666666667,
          12.738533333333333,
          12.851,
          12.963466666666665,
          13.075933333333332,
          13.1884,
          13.300866666666666,
          13.413333333333332,
          13.525799999999998,
          13.638266666666667,
          13.750733333333333,
          13.863199999999999,
          13.975666666666665,
          14.088133333333333,
          14.2006,
          14.313066666666666,
          14.425533333333332,
          14.538,
          14.650466666666667,
          14.762933333333333,
          14.875399999999999,
          14.987866666666667,
          15.100333333333332,
          15.2128,
          15.325266666666666,
          15.437733333333334,
          15.550199999999998,
          15.662666666666667,
          15.775133333333333,
          15.8876,
          16.000066666666665,
          16.112533333333335,
          16.225,
          16.337466666666668,
          16.449933333333334,
          16.5624,
          16.674866666666667,
          16.787333333333333,
          16.8998,
          17.01226666666667,
          17.124733333333335,
          17.2372,
          17.349666666666668,
          17.462133333333334,
          17.5746,
          17.687066666666666,
          17.799533333333333,
          17.912000000000003,
          18.02446666666667,
          18.136933333333335,
          18.2494,
          18.361866666666668,
          18.474333333333334,
          18.586800000000004,
          18.699266666666666,
          18.811733333333333,
          18.9242,
          19.03666666666667,
          19.149133333333335,
          19.2616,
          19.374066666666668,
          19.486533333333337,
          19.599,
          19.711466666666666,
          19.823933333333333,
          19.936400000000003,
          20.04886666666667,
          20.161333333333335,
          20.2738,
          20.386266666666668,
          20.498733333333334,
          20.6112,
          20.723666666666666,
          20.836133333333336,
          20.948600000000003,
          21.06106666666667,
          21.173533333333335,
          21.286,
          21.398466666666668,
          21.510933333333334,
          21.6234,
          21.73586666666667,
          21.848333333333336,
          21.960800000000003,
          22.073266666666665,
          22.185733333333335,
          22.2982,
          22.410666666666668,
          22.523133333333334,
          22.635600000000004,
          22.74806666666667,
          22.860533333333336,
          22.973,
          23.08546666666667,
          23.197933333333335,
          23.3104,
          23.422866666666668,
          23.535333333333337,
          23.647800000000004,
          23.760266666666666,
          23.872733333333333,
          23.9852,
          24.09766666666667,
          24.210133333333335,
          24.3226,
          24.435066666666668,
          24.547533333333337,
          24.66,
          24.772466666666666,
          24.884933333333333,
          24.997400000000003,
          25.10986666666667,
          25.222333333333335,
          25.3348,
          25.44726666666667,
          25.559733333333334,
          25.6722,
          25.784666666666666,
          25.897133333333336,
          26.009600000000002,
          26.12206666666667,
          26.234533333333335,
          26.347,
          26.459466666666668,
          26.571933333333334,
          26.6844,
          26.79686666666667,
          26.909333333333336,
          27.021800000000002,
          27.13426666666667,
          27.246733333333335,
          27.3592,
          27.471666666666668,
          27.584133333333334,
          27.696600000000004,
          27.80906666666667,
          27.921533333333336,
          28.034,
          28.14646666666667,
          28.258933333333335,
          28.3714,
          28.483866666666668,
          28.596333333333337,
          28.708800000000004,
          28.82126666666667,
          28.933733333333333,
          29.046200000000002,
          29.15866666666667,
          29.271133333333335,
          29.3836,
          29.496066666666668,
          29.608533333333337,
          29.721,
          29.833466666666666,
          29.945933333333333,
          30.058400000000002,
          30.17086666666667,
          30.283333333333335,
          30.3958,
          30.50826666666667,
          30.620733333333334,
          30.7332,
          30.845666666666666,
          30.958133333333336,
          31.070600000000002,
          31.18306666666667,
          31.295533333333335,
          31.408,
          31.520466666666668,
          31.632933333333334,
          31.7454,
          31.85786666666667,
          31.970333333333336,
          32.0828,
          32.19526666666667,
          32.30773333333333,
          32.4202,
          32.532666666666664,
          32.645133333333334,
          32.757600000000004,
          32.870066666666666,
          32.982533333333336,
          33.095,
          33.20746666666667,
          33.31993333333333,
          33.4324,
          33.544866666666664,
          33.657333333333334,
          33.769800000000004,
          33.882266666666666,
          33.99473333333333,
          34.1072,
          34.21966666666666,
          34.33213333333333,
          34.4446,
          34.557066666666664,
          34.669533333333334,
          34.782,
          34.894466666666666,
          35.006933333333336,
          35.1194,
          35.23186666666666,
          35.34433333333333,
          35.456799999999994,
          35.569266666666664,
          35.68173333333333,
          35.7942,
          35.906666666666666,
          36.01913333333333,
          36.1316,
          36.24406666666667,
          36.35653333333333,
          36.469,
          36.581466666666664,
          36.693933333333334,
          36.806400000000004,
          36.91886666666666,
          37.03133333333333,
          37.1438,
          37.25626666666666,
          37.36873333333333,
          37.481199999999994,
          37.593666666666664,
          37.706133333333334,
          37.818599999999996,
          37.931066666666666,
          38.043533333333336,
          38.156,
          38.26846666666667,
          38.38093333333333,
          38.4934,
          38.605866666666664,
          38.71833333333333,
          38.830799999999996,
          38.943266666666666,
          39.05573333333333,
          39.1682,
          39.28066666666666,
          39.39313333333333,
          39.5056,
          39.618066666666664,
          39.730533333333334,
          39.843,
          39.955466666666666,
          40.067933333333336,
          40.1804,
          40.29286666666666,
          40.40533333333333,
          40.517799999999994,
          40.630266666666664,
          40.74273333333333,
          40.855199999999996,
          40.967666666666666,
          41.08013333333333,
          41.1926,
          41.30506666666667,
          41.41753333333333,
          41.53,
          41.642466666666664,
          41.754933333333334,
          41.8674,
          41.97986666666666,
          42.09233333333333,
          42.2048,
          42.31726666666666,
          42.42973333333333,
          42.542199999999994,
          42.654666666666664,
          42.767133333333334,
          42.879599999999996,
          42.992066666666666,
          43.104533333333336,
          43.217,
          43.32946666666667,
          43.44193333333333,
          43.5544,
          43.666866666666664,
          43.77933333333333,
          43.891799999999996,
          44.004266666666666,
          44.11673333333333,
          44.2292,
          44.34166666666666,
          44.45413333333333,
          44.5666,
          44.679066666666664,
          44.791533333333334,
          44.904,
          45.016466666666666,
          45.128933333333336,
          45.2414,
          45.35386666666666,
          45.46633333333333,
          45.578799999999994,
          45.691266666666664,
          45.80373333333333,
          45.916199999999996,
          46.028666666666666,
          46.14113333333333,
          46.2536,
          46.36606666666667,
          46.47853333333333,
          46.591,
          46.703466666666664,
          46.815933333333334,
          46.9284,
          47.040866666666666,
          47.15333333333333,
          47.2658,
          47.37826666666666,
          47.49073333333333,
          47.603199999999994,
          47.715666666666664,
          47.828133333333334,
          47.940599999999996,
          48.053066666666666,
          48.165533333333336,
          48.278,
          48.39046666666667,
          48.50293333333333,
          48.6154,
          48.72786666666667,
          48.84033333333333,
          48.952799999999996,
          49.065266666666666,
          49.17773333333333,
          49.2902,
          49.40266666666666,
          49.51513333333333,
          49.6276,
          49.740066666666664,
          49.852533333333334,
          49.965,
          50.077466666666666,
          50.189933333333336,
          50.3024,
          50.41486666666667,
          50.52733333333333,
          50.639799999999994,
          50.752266666666664,
          50.86473333333333,
          50.977199999999996,
          51.089666666666666,
          51.20213333333333,
          51.3146,
          51.42706666666667,
          51.53953333333333,
          51.652,
          51.764466666666664,
          51.876933333333334,
          51.9894,
          52.101866666666666,
          52.21433333333333,
          52.3268,
          52.43926666666666,
          52.55173333333333,
          52.664199999999994,
          52.776666666666664,
          52.889133333333334,
          53.001599999999996,
          53.114066666666666,
          53.226533333333336,
          53.339,
          53.45146666666667,
          53.56393333333333,
          53.6764,
          53.78886666666667,
          53.901333333333326,
          54.013799999999996,
          54.126266666666666,
          54.23873333333333,
          54.3512,
          54.46366666666666,
          54.57613333333333,
          54.6886,
          54.801066666666664,
          54.91353333333333,
          55.026,
          55.138466666666666,
          55.250933333333336,
          55.3634,
          55.47586666666667,
          55.58833333333333,
          55.700799999999994,
          55.813266666666664,
          55.92573333333333,
          56.038199999999996,
          56.150666666666666,
          56.26313333333333,
          56.3756,
          56.48806666666667,
          56.60053333333333,
          56.713,
          56.825466666666664,
          56.93793333333333,
          57.0504,
          57.162866666666666,
          57.27533333333333,
          57.3878,
          57.50026666666666,
          57.61273333333333,
          57.725199999999994,
          57.837666666666664,
          57.95013333333333,
          58.062599999999996,
          58.175066666666666,
          58.287533333333336
         ],
         "xaxis": "x",
         "y": [
          0.0147213898354829,
          0.015515188001566779,
          0.016328884426764365,
          0.017161498337102114,
          0.01801196928270282,
          0.018879162023331158,
          0.019761871985181034,
          0.020658831237296765,
          0.021568714929658513,
          0.022490148129380518,
          0.02342171298674956,
          0.024361956159055148,
          0.02530939641738671,
          0.026262532359853718,
          0.027219850154031364,
          0.02817983123187592,
          0.029140959861862815,
          0.030101730525653146,
          0.03106065503015272,
          0.03201626929030603,
          0.03296713972330785,
          0.033911869201003,
          0.03484910251398539,
          0.03577753130816979,
          0.03669589846227763,
          0.037603001882609344,
          0.03849769769954126,
          0.03937890285824349,
          0.04024559710403687,
          0.041096824370464045,
          0.04193169358541689,
          0.0427493789174402,
          0.043549119490510345,
          0.04433021860109804,
          0.04509204247609079,
          0.045834018614124276,
          0.04655563375603126,
          0.0472564315324284,
          0.047936009837953666,
          0.04859401798233697,
          0.049230153668387996,
          0.04984415984615686,
          0.05043582149104017,
          0.05100496235152051,
          0.05155144170965113,
          0.05207515119438154,
          0.052576011684482074,
          0.05305397033423889,
          0.053508997751340236,
          0.05394108535255556,
          0.05435024291897973,
          0.054736496368849835,
          0.055099885762305165,
          0.055440463548977116,
          0.0557582930660243,
          0.056053447291176214,
          0.056326007852529565,
          0.05657606429426221,
          0.05680371359507942,
          0.05700905993406282,
          0.0571922146966445,
          0.05735329671163169,
          0.057492432708544906,
          0.057609757982963625,
          0.057705417256064546,
          0.057779565713070004,
          0.05783237020385869,
          0.05786401058751823,
          0.05787468120112352,
          0.05786459243150281,
          0.05783397236720176,
          0.05778306850630385,
          0.05771214949421216,
          0.05762150686399125,
          0.05751145675044001,
          0.05738234154775118,
          0.05723453147947952,
          0.05706842604862576,
          0.05688445533500147,
          0.05668308110675534,
          0.05646479771301632,
          0.056230132725157096,
          0.055979647295197665,
          0.05571393620142321,
          0.055433627553400575,
          0.055139382131275894,
          0.0548318923375092,
          0.05451188074308579,
          0.05418009821467674,
          0.053837321614210724,
          0.053484351067805316,
          0.053122006806923555,
          0.05275112559092261,
          0.05237255672673952,
          0.051987157708228184,
          0.05159578950452447,
          0.05119931153364355,
          0.05079857636419476,
          0.05039442419451139,
          0.04998767716450118,
          0.04957913356100847,
          0.049169561982313495,
          0.0487596955314649,
          0.048350226111333994,
          0.04794179889649693,
          0.04753500705820963,
          0.04713038681876907,
          0.046728412910398906,
          0.046329494511425255,
          0.04593397172891631,
          0.045542112692129856,
          0.04515411131512021,
          0.044770085779709,
          0.04439007778183434,
          0.044014052575142855,
          0.04364189983570254,
          0.04327343536102729,
          0.04290840360538298,
          0.04254648104174609,
          0.042187280329002604,
          0.041830355251201566,
          0.04147520638409542,
          0.04112128743303318,
          0.04076801217568959,
          0.040414761933334556,
          0.04006089348552881,
          0.03970574733546064,
          0.03934865622675471,
          0.038988953807622434,
          0.03862598333479181,
          0.03825910630783267,
          0.03788771092433656,
          0.037511220247944024,
          0.03712909998442058,
          0.03674086576584775,
          0.03634608984942658,
          0.03594440714531154,
          0.03553552049716065,
          0.03511920514956721,
          0.034695312348044814,
          0.03426377202958196,
          0.033824594574757026,
          0.03337787160578564,
          0.03292377582843297,
          0.03246255992923308,
          0.031994554552685676,
          0.03152016539582339,
          0.031039869469552887,
          0.030554210587263115,
          0.030063794151200796,
          0.029569281315861364,
          0.029071382615019972,
          0.028570851144915057,
          0.028068475400425195,
          0.02756507186380782,
          0.02706147744667185,
          0.026558541885359783,
          0.026057120187859047,
          0.025558065226814086,
          0.02506222056828245,
          0.024570413619668274,
          0.02408344917293854,
          0.02360210341091924,
          0.02312711843536264,
          0.022659197365743126,
          0.02219900004757149,
          0.021747139398590066,
          0.021304178410725013,
          0.02087062781528503,
          0.020446944408802004,
          0.02003353002724754,
          0.01963073114728823,
          0.01923883908488754,
          0.01885809075403419,
          0.01848866994176976,
          0.018130709050081056,
          0.017784291250656108,
          0.017449452995027755,
          0.017126186820242695,
          0.01681444438890425,
          0.0165141397022126,
          0.01622515242543223,
          0.015947331266994474,
          0.01568049735512599,
          0.015424447559400796,
          0.015178957708851379,
          0.014943785663145978,
          0.014718674198737592,
          0.01450335367770349,
          0.014297544473110473,
          0.014100959131046188,
          0.013913304255834527,
          0.013734282111295243,
          0.013563591937103363,
          0.01340093098525482,
          0.013245995287250734,
          0.013098480167789894,
          0.012958080525429261,
          0.012824490904763907,
          0.012697405388137505,
          0.012576517337676625,
          0.012461519020510299,
          0.012352101151376464,
          0.012247952387416,
          0.012148758809824084,
          0.012054203426185265,
          0.011963965725792312,
          0.011877721318088254,
          0.011795141681627472,
          0.011715894047690975,
          0.011639641438989384,
          0.01156604287982396,
          0.011494753789740722,
          0.01142542656819529,
          0.01135771137314343,
          0.011291257091874868,
          0.011225712497912805,
          0.01116072758349497,
          0.01109595505311849,
          0.011031051959948298,
          0.010965681463622876,
          0.010899514685201115,
          0.010832232632726216,
          0.010763528169168734,
          0.010693107993376623,
          0.010620694604109977,
          0.01054602821726996,
          0.010468868607028201,
          0.010388996842695777,
          0.010306216894802316,
          0.010220357085935444,
          0.010131271364365367,
          0.010038840381284417,
          0.009942972355562862,
          0.009843603713188185,
          0.00974069949194934,
          0.009634253505377704,
          0.009524288263399449,
          0.009410854650525541,
          0.009294031365650846,
          0.009173924130599679,
          0.009050664677401603,
          0.00892440952686947,
          0.00879533857335592,
          0.008663653492563057,
          0.008529575990962136,
          0.008393345916737517,
          0.008255219253206362,
          0.008115466016385589,
          0.007974368078795195,
          0.007832216941714069,
          0.00768931147796253,
          0.007545955666892787,
          0.0074024563426465725,
          0.007259120975911345,
          0.007116255508393331,
          0.006974162258049495,
          0.006833137911802001,
          0.006693471621017163,
          0.006555443213485245,
          0.006419321534004879,
          0.0062853629239741455,
          0.00615380984863469,
          0.006024889678822882,
          0.0058988136322682145,
          0.005775775877661163,
          0.0056559528029068076,
          0.005539502447205465,
          0.005426564094874797,
          0.005317258027169111,
          0.0052116854267812195,
          0.005109928428248605,
          0.005012050306150575,
          0.004918095791794206,
          0.0048280915080635405,
          0.004742046511263679,
          0.004659952928144171,
          0.004581786675844428,
          0.00450750825227487,
          0.0044370635844351415,
          0.004370384922371528,
          0.004307391766885775,
          0.004247991819712957,
          0.0041920819456723124,
          0.004139549137240424,
          0.004090271473075121,
          0.004044119063202443,
          0.004000954974835363,
          0.003960636134087262,
          0.0039230142001399956,
          0.0038879364096896106,
          0.003855246390687119,
          0.0038247849454849272,
          0.0037963908044602746,
          0.0037699013519901002,
          0.0037451533272757046,
          0.003721983502944136,
          0.003700229344577779,
          0.003679729654340265,
          0.0036603252016796234,
          0.0036418593437089718,
          0.003624178637306869,
          0.0036071334442671966,
          0.0035905785299885527,
          0.0035743736552588386,
          0.0035583841596958524,
          0.003542481534388015,
          0.0035265439802783373,
          0.0035104569478880726,
          0.003494113653120974,
          0.0034774155631583444,
          0.003460272845880422,
          0.003442604775855726,
          0.00342434008974792,
          0.003405417284012871,
          0.00338578484800474,
          0.003365401426079166,
          0.0033442359029679995,
          0.003322267407590152,
          0.0032994852315377018,
          0.0032758886597103135,
          0.0032514867119342655,
          0.0032262977958607644,
          0.0032003492729545707,
          0.003173676940919488,
          0.0031463244374217944,
          0.0031183425714268985,
          0.0030897885898207183,
          0.003060725388209642,
          0.0030312206758500637,
          0.003001346105523031,
          0.0029711763798189253,
          0.002940788345715344,
          0.002910260089507842,
          0.0028796700440837583,
          0.0028490961202167,
          0.0028186148730115065,
          0.0027883007138613334,
          0.002758225177309601,
          0.002728456251064643,
          0.0026990577761226145,
          0.0026700889225465254,
          0.002641603744960768,
          0.0026136508202864836,
          0.0025862729687002794,
          0.0025595070572827197,
          0.002533383884368195,
          0.0025079281412463635,
          0.002483158446626695,
          0.002459087448187293,
          0.002435721984608442,
          0.002413063300756986,
          0.0023911073081514444,
          0.002369844882506269,
          0.002349262190028167,
          0.002329341034214443,
          0.002310059215174018,
          0.0022913908939429387,
          0.00227330695488085,
          0.0022557753599915407,
          0.002238761489885713,
          0.002222228467071161,
          0.002206137458286367,
          0.002190447953659325,
          0.002175118021545062,
          0.0021601045389439,
          0.002145363398400681,
          0.0021308496932072925,
          0.0021165178835533794,
          0.002102321946973071,
          0.0020882155170016668,
          0.002074152014372464,
          0.002060084775340819,
          0.002045967181815198,
          0.002031752797902333,
          0.002017395517239018,
          0.0020028497250937946,
          0.00198807047868914,
          0.0019730137085331606,
          0.0019576364427773443,
          0.0019418970557541699,
          0.0019257555409177745,
          0.0019091738074373515,
          0.0018921159987017235,
          0.0018745488300106364,
          0.0018564419417799204,
          0.0018377682636987313,
          0.0018185043844716451,
          0.0017986309210786748,
          0.001778132880911688,
          0.0017570000097137143,
          0.0017352271179712421,
          0.001712814378299829,
          0.0016897675864258725,
          0.0016660983786050284,
          0.0016418243987289473,
          0.0016169694089509037,
          0.0015915633383981002,
          0.0015656422654206565,
          0.0015392483298377752,
          0.001512429572760293,
          0.0014852397027734826,
          0.0014577377885296335,
          0.001429987879100119,
          0.0014020585547442456,
          0.0013740224120388862,
          0.001345955488551371,
          0.0013179366334012124,
          0.0012900468311189159,
          0.001262368487148793,
          0.0012349846841366151,
          0.0012079784187747887,
          0.0011814318294330144,
          0.0011554254250708761,
          0.001130037326004688,
          0.0011053425269814709,
          0.001081412192701215,
          0.0010583129954305297,
          0.001036106503677111,
          0.0010148486300595356,
          0.0009945891455282354,
          0.0009753712659919165,
          0.0009572313162022652,
          0.000940198474473518,
          0.0009242946004887387,
          0.0009095341470983903,
          0.0008959241556759157,
          0.0008834643332861894,
          0.0008721472086706725,
          0.0008619583628816381,
          0.0008528767293279256,
          0.0008448749570447452,
          0.000837919830185612,
          0.0008319727360675359,
          0.0008269901735898018,
          0.000822924293497069,
          0.0008197234617706331,
          0.0008173328374055671,
          0.0008156949559608995,
          0.0008147503105467677,
          0.0008144379223256942,
          0.0008146958931415329,
          0.000815461933534001,
          0.0008166738601324351,
          0.0008182700572316797,
          0.0008201898982174785,
          0.0008223741234098172,
          0.0008247651718119726,
          0.0008273074651726972,
          0.0008299476436721223,
          0.0008326347534128142,
          0.0008353203867216077,
          0.0008379587770326573,
          0.0008405068508165893,
          0.0008429242396355283,
          0.000845173255931879,
          0.0008472188365947012,
          0.0008490284586878118,
          0.0008505720319667788,
          0.0008518217729577676,
          0.0008527520654215261,
          0.0008533393119839006,
          0.0008535617815847768,
          0.0008533994571861963,
          0.00085283388789457,
          0.0008518480492994006,
          0.0008504262154204964,
          0.0008485538451967455,
          0.0008462174859520265,
          0.0008434046957479909,
          0.000840103985989735,
          0.0008363047850991353,
          0.0008319974235221971,
          0.0008271731398011233,
          0.0008218241069284438,
          0.0008159434777184337,
          0.0008095254474882774,
          0.0008025653319454249,
          0.0007950596578345001,
          0.0007870062636123063,
          0.0007784044071968749,
          0.0007692548776789836,
          0.0007595601077935778,
          0.0007493242839244357,
          0.0007385534504569842,
          0.0007272556053993161,
          0.0007154407843566287,
          0.0007031211301649194,
          0.000690310945760478,
          0.0006770267281759989,
          0.0006632871819050781,
          0.0006491132102568188,
          0.0006345278837233944,
          0.000619556384797459,
          0.0006042259290952872,
          0.0005885656630573199,
          0.0005726065389028411,
          0.0005563811679024269,
          0.0005399236533941778,
          0.0005232694053013666
         ],
         "yaxis": "y"
        }
       ],
       "layout": {
        "annotations": [
         {
          "arrowhead": 4,
          "ax": 0,
          "ay": -40,
          "showarrow": false,
          "text": "Average: 14.64",
          "x": 14.639989235737351,
          "xref": "x",
          "y": 1.08,
          "yref": "paper"
         },
         {
          "arrowhead": 4,
          "ax": 0,
          "ay": -40,
          "showarrow": false,
          "text": "Median: 12.35",
          "x": 12.35,
          "xref": "x",
          "y": 1.13,
          "yref": "paper"
         }
        ],
        "barmode": "overlay",
        "hovermode": "closest",
        "legend": {
         "traceorder": "reversed"
        },
        "shapes": [
         {
          "line": {
           "color": "red",
           "dash": "dash",
           "width": 2
          },
          "name": "Average: 14.64",
          "type": "line",
          "x0": 14.639989235737351,
          "x1": 14.639989235737351,
          "xref": "x",
          "y0": 0,
          "y1": 1,
          "yref": "paper"
         },
         {
          "line": {
           "color": "green",
           "dash": "dash",
           "width": 2
          },
          "name": "Median: 12.35",
          "type": "line",
          "x0": 12.35,
          "x1": 12.35,
          "xref": "x",
          "y0": 0,
          "y1": 1,
          "yref": "paper"
         }
        ],
        "template": {
         "data": {
          "bar": [
           {
            "error_x": {
             "color": "#2a3f5f"
            },
            "error_y": {
             "color": "#2a3f5f"
            },
            "marker": {
             "line": {
              "color": "#E5ECF6",
              "width": 0.5
             },
             "pattern": {
              "fillmode": "overlay",
              "size": 10,
              "solidity": 0.2
             }
            },
            "type": "bar"
           }
          ],
          "barpolar": [
           {
            "marker": {
             "line": {
              "color": "#E5ECF6",
              "width": 0.5
             },
             "pattern": {
              "fillmode": "overlay",
              "size": 10,
              "solidity": 0.2
             }
            },
            "type": "barpolar"
           }
          ],
          "carpet": [
           {
            "aaxis": {
             "endlinecolor": "#2a3f5f",
             "gridcolor": "white",
             "linecolor": "white",
             "minorgridcolor": "white",
             "startlinecolor": "#2a3f5f"
            },
            "baxis": {
             "endlinecolor": "#2a3f5f",
             "gridcolor": "white",
             "linecolor": "white",
             "minorgridcolor": "white",
             "startlinecolor": "#2a3f5f"
            },
            "type": "carpet"
           }
          ],
          "choropleth": [
           {
            "colorbar": {
             "outlinewidth": 0,
             "ticks": ""
            },
            "type": "choropleth"
           }
          ],
          "contour": [
           {
            "colorbar": {
             "outlinewidth": 0,
             "ticks": ""
            },
            "colorscale": [
             [
              0,
              "#0d0887"
             ],
             [
              0.1111111111111111,
              "#46039f"
             ],
             [
              0.2222222222222222,
              "#7201a8"
             ],
             [
              0.3333333333333333,
              "#9c179e"
             ],
             [
              0.4444444444444444,
              "#bd3786"
             ],
             [
              0.5555555555555556,
              "#d8576b"
             ],
             [
              0.6666666666666666,
              "#ed7953"
             ],
             [
              0.7777777777777778,
              "#fb9f3a"
             ],
             [
              0.8888888888888888,
              "#fdca26"
             ],
             [
              1,
              "#f0f921"
             ]
            ],
            "type": "contour"
           }
          ],
          "contourcarpet": [
           {
            "colorbar": {
             "outlinewidth": 0,
             "ticks": ""
            },
            "type": "contourcarpet"
           }
          ],
          "heatmap": [
           {
            "colorbar": {
             "outlinewidth": 0,
             "ticks": ""
            },
            "colorscale": [
             [
              0,
              "#0d0887"
             ],
             [
              0.1111111111111111,
              "#46039f"
             ],
             [
              0.2222222222222222,
              "#7201a8"
             ],
             [
              0.3333333333333333,
              "#9c179e"
             ],
             [
              0.4444444444444444,
              "#bd3786"
             ],
             [
              0.5555555555555556,
              "#d8576b"
             ],
             [
              0.6666666666666666,
              "#ed7953"
             ],
             [
              0.7777777777777778,
              "#fb9f3a"
             ],
             [
              0.8888888888888888,
              "#fdca26"
             ],
             [
              1,
              "#f0f921"
             ]
            ],
            "type": "heatmap"
           }
          ],
          "heatmapgl": [
           {
            "colorbar": {
             "outlinewidth": 0,
             "ticks": ""
            },
            "colorscale": [
             [
              0,
              "#0d0887"
             ],
             [
              0.1111111111111111,
              "#46039f"
             ],
             [
              0.2222222222222222,
              "#7201a8"
             ],
             [
              0.3333333333333333,
              "#9c179e"
             ],
             [
              0.4444444444444444,
              "#bd3786"
             ],
             [
              0.5555555555555556,
              "#d8576b"
             ],
             [
              0.6666666666666666,
              "#ed7953"
             ],
             [
              0.7777777777777778,
              "#fb9f3a"
             ],
             [
              0.8888888888888888,
              "#fdca26"
             ],
             [
              1,
              "#f0f921"
             ]
            ],
            "type": "heatmapgl"
           }
          ],
          "histogram": [
           {
            "marker": {
             "pattern": {
              "fillmode": "overlay",
              "size": 10,
              "solidity": 0.2
             }
            },
            "type": "histogram"
           }
          ],
          "histogram2d": [
           {
            "colorbar": {
             "outlinewidth": 0,
             "ticks": ""
            },
            "colorscale": [
             [
              0,
              "#0d0887"
             ],
             [
              0.1111111111111111,
              "#46039f"
             ],
             [
              0.2222222222222222,
              "#7201a8"
             ],
             [
              0.3333333333333333,
              "#9c179e"
             ],
             [
              0.4444444444444444,
              "#bd3786"
             ],
             [
              0.5555555555555556,
              "#d8576b"
             ],
             [
              0.6666666666666666,
              "#ed7953"
             ],
             [
              0.7777777777777778,
              "#fb9f3a"
             ],
             [
              0.8888888888888888,
              "#fdca26"
             ],
             [
              1,
              "#f0f921"
             ]
            ],
            "type": "histogram2d"
           }
          ],
          "histogram2dcontour": [
           {
            "colorbar": {
             "outlinewidth": 0,
             "ticks": ""
            },
            "colorscale": [
             [
              0,
              "#0d0887"
             ],
             [
              0.1111111111111111,
              "#46039f"
             ],
             [
              0.2222222222222222,
              "#7201a8"
             ],
             [
              0.3333333333333333,
              "#9c179e"
             ],
             [
              0.4444444444444444,
              "#bd3786"
             ],
             [
              0.5555555555555556,
              "#d8576b"
             ],
             [
              0.6666666666666666,
              "#ed7953"
             ],
             [
              0.7777777777777778,
              "#fb9f3a"
             ],
             [
              0.8888888888888888,
              "#fdca26"
             ],
             [
              1,
              "#f0f921"
             ]
            ],
            "type": "histogram2dcontour"
           }
          ],
          "mesh3d": [
           {
            "colorbar": {
             "outlinewidth": 0,
             "ticks": ""
            },
            "type": "mesh3d"
           }
          ],
          "parcoords": [
           {
            "line": {
             "colorbar": {
              "outlinewidth": 0,
              "ticks": ""
             }
            },
            "type": "parcoords"
           }
          ],
          "pie": [
           {
            "automargin": true,
            "type": "pie"
           }
          ],
          "scatter": [
           {
            "fillpattern": {
             "fillmode": "overlay",
             "size": 10,
             "solidity": 0.2
            },
            "type": "scatter"
           }
          ],
          "scatter3d": [
           {
            "line": {
             "colorbar": {
              "outlinewidth": 0,
              "ticks": ""
             }
            },
            "marker": {
             "colorbar": {
              "outlinewidth": 0,
              "ticks": ""
             }
            },
            "type": "scatter3d"
           }
          ],
          "scattercarpet": [
           {
            "marker": {
             "colorbar": {
              "outlinewidth": 0,
              "ticks": ""
             }
            },
            "type": "scattercarpet"
           }
          ],
          "scattergeo": [
           {
            "marker": {
             "colorbar": {
              "outlinewidth": 0,
              "ticks": ""
             }
            },
            "type": "scattergeo"
           }
          ],
          "scattergl": [
           {
            "marker": {
             "colorbar": {
              "outlinewidth": 0,
              "ticks": ""
             }
            },
            "type": "scattergl"
           }
          ],
          "scattermapbox": [
           {
            "marker": {
             "colorbar": {
              "outlinewidth": 0,
              "ticks": ""
             }
            },
            "type": "scattermapbox"
           }
          ],
          "scatterpolar": [
           {
            "marker": {
             "colorbar": {
              "outlinewidth": 0,
              "ticks": ""
             }
            },
            "type": "scatterpolar"
           }
          ],
          "scatterpolargl": [
           {
            "marker": {
             "colorbar": {
              "outlinewidth": 0,
              "ticks": ""
             }
            },
            "type": "scatterpolargl"
           }
          ],
          "scatterternary": [
           {
            "marker": {
             "colorbar": {
              "outlinewidth": 0,
              "ticks": ""
             }
            },
            "type": "scatterternary"
           }
          ],
          "surface": [
           {
            "colorbar": {
             "outlinewidth": 0,
             "ticks": ""
            },
            "colorscale": [
             [
              0,
              "#0d0887"
             ],
             [
              0.1111111111111111,
              "#46039f"
             ],
             [
              0.2222222222222222,
              "#7201a8"
             ],
             [
              0.3333333333333333,
              "#9c179e"
             ],
             [
              0.4444444444444444,
              "#bd3786"
             ],
             [
              0.5555555555555556,
              "#d8576b"
             ],
             [
              0.6666666666666666,
              "#ed7953"
             ],
             [
              0.7777777777777778,
              "#fb9f3a"
             ],
             [
              0.8888888888888888,
              "#fdca26"
             ],
             [
              1,
              "#f0f921"
             ]
            ],
            "type": "surface"
           }
          ],
          "table": [
           {
            "cells": {
             "fill": {
              "color": "#EBF0F8"
             },
             "line": {
              "color": "white"
             }
            },
            "header": {
             "fill": {
              "color": "#C8D4E3"
             },
             "line": {
              "color": "white"
             }
            },
            "type": "table"
           }
          ]
         },
         "layout": {
          "annotationdefaults": {
           "arrowcolor": "#2a3f5f",
           "arrowhead": 0,
           "arrowwidth": 1
          },
          "autotypenumbers": "strict",
          "coloraxis": {
           "colorbar": {
            "outlinewidth": 0,
            "ticks": ""
           }
          },
          "colorscale": {
           "diverging": [
            [
             0,
             "#8e0152"
            ],
            [
             0.1,
             "#c51b7d"
            ],
            [
             0.2,
             "#de77ae"
            ],
            [
             0.3,
             "#f1b6da"
            ],
            [
             0.4,
             "#fde0ef"
            ],
            [
             0.5,
             "#f7f7f7"
            ],
            [
             0.6,
             "#e6f5d0"
            ],
            [
             0.7,
             "#b8e186"
            ],
            [
             0.8,
             "#7fbc41"
            ],
            [
             0.9,
             "#4d9221"
            ],
            [
             1,
             "#276419"
            ]
           ],
           "sequential": [
            [
             0,
             "#0d0887"
            ],
            [
             0.1111111111111111,
             "#46039f"
            ],
            [
             0.2222222222222222,
             "#7201a8"
            ],
            [
             0.3333333333333333,
             "#9c179e"
            ],
            [
             0.4444444444444444,
             "#bd3786"
            ],
            [
             0.5555555555555556,
             "#d8576b"
            ],
            [
             0.6666666666666666,
             "#ed7953"
            ],
            [
             0.7777777777777778,
             "#fb9f3a"
            ],
            [
             0.8888888888888888,
             "#fdca26"
            ],
            [
             1,
             "#f0f921"
            ]
           ],
           "sequentialminus": [
            [
             0,
             "#0d0887"
            ],
            [
             0.1111111111111111,
             "#46039f"
            ],
            [
             0.2222222222222222,
             "#7201a8"
            ],
            [
             0.3333333333333333,
             "#9c179e"
            ],
            [
             0.4444444444444444,
             "#bd3786"
            ],
            [
             0.5555555555555556,
             "#d8576b"
            ],
            [
             0.6666666666666666,
             "#ed7953"
            ],
            [
             0.7777777777777778,
             "#fb9f3a"
            ],
            [
             0.8888888888888888,
             "#fdca26"
            ],
            [
             1,
             "#f0f921"
            ]
           ]
          },
          "colorway": [
           "#636efa",
           "#EF553B",
           "#00cc96",
           "#ab63fa",
           "#FFA15A",
           "#19d3f3",
           "#FF6692",
           "#B6E880",
           "#FF97FF",
           "#FECB52"
          ],
          "font": {
           "color": "#2a3f5f"
          },
          "geo": {
           "bgcolor": "white",
           "lakecolor": "white",
           "landcolor": "#E5ECF6",
           "showlakes": true,
           "showland": true,
           "subunitcolor": "white"
          },
          "hoverlabel": {
           "align": "left"
          },
          "hovermode": "closest",
          "mapbox": {
           "style": "light"
          },
          "paper_bgcolor": "white",
          "plot_bgcolor": "#E5ECF6",
          "polar": {
           "angularaxis": {
            "gridcolor": "white",
            "linecolor": "white",
            "ticks": ""
           },
           "bgcolor": "#E5ECF6",
           "radialaxis": {
            "gridcolor": "white",
            "linecolor": "white",
            "ticks": ""
           }
          },
          "scene": {
           "xaxis": {
            "backgroundcolor": "#E5ECF6",
            "gridcolor": "white",
            "gridwidth": 2,
            "linecolor": "white",
            "showbackground": true,
            "ticks": "",
            "zerolinecolor": "white"
           },
           "yaxis": {
            "backgroundcolor": "#E5ECF6",
            "gridcolor": "white",
            "gridwidth": 2,
            "linecolor": "white",
            "showbackground": true,
            "ticks": "",
            "zerolinecolor": "white"
           },
           "zaxis": {
            "backgroundcolor": "#E5ECF6",
            "gridcolor": "white",
            "gridwidth": 2,
            "linecolor": "white",
            "showbackground": true,
            "ticks": "",
            "zerolinecolor": "white"
           }
          },
          "shapedefaults": {
           "line": {
            "color": "#2a3f5f"
           }
          },
          "ternary": {
           "aaxis": {
            "gridcolor": "white",
            "linecolor": "white",
            "ticks": ""
           },
           "baxis": {
            "gridcolor": "white",
            "linecolor": "white",
            "ticks": ""
           },
           "bgcolor": "#E5ECF6",
           "caxis": {
            "gridcolor": "white",
            "linecolor": "white",
            "ticks": ""
           }
          },
          "title": {
           "x": 0.05
          },
          "xaxis": {
           "automargin": true,
           "gridcolor": "white",
           "linecolor": "white",
           "ticks": "",
           "title": {
            "standoff": 15
           },
           "zerolinecolor": "white",
           "zerolinewidth": 2
          },
          "yaxis": {
           "automargin": true,
           "gridcolor": "white",
           "linecolor": "white",
           "ticks": "",
           "title": {
            "standoff": 15
           },
           "zerolinecolor": "white",
           "zerolinewidth": 2
          }
         }
        },
        "title": {
         "text": "Fig B: Density plot of time spent for engaged"
        },
        "xaxis": {
         "anchor": "y2",
         "domain": [
          0,
          1
         ],
         "title": {
          "text": "Value"
         },
         "zeroline": false
        },
        "yaxis": {
         "anchor": "free",
         "domain": [
          0,
          1
         ],
         "position": 0,
         "title": {
          "text": "Density"
         }
        }
       }
      }
     },
     "metadata": {},
     "output_type": "display_data"
    }
   ],
   "source": [
    "\n",
    "import plotly.express as px\n",
    "import plotly.figure_factory as ff\n",
    "\n",
    "\n",
    "clean_data = pd.read_csv(OUT / \"data\" / \"data_clean.csv\")\n",
    "\n",
    "clean_data['DurationMin'] = clean_data['Duration (in seconds)'] / 60\n",
    "\n",
    "clean_data = clean_data[clean_data['DurationMin'] < 60]\n",
    "\n",
    "# Calculate the average and median\n",
    "average_duration = clean_data['DurationMin'].mean()\n",
    "median_duration = clean_data['DurationMin'].median()\n",
    "\n",
    "fig = ff.create_distplot([clean_data['DurationMin']], ['DurationMin'], show_curve=True, show_rug=False, bin_size=2.0)\n",
    "\n",
    "fig.add_shape(\n",
    "    type='line',\n",
    "    x0=average_duration,\n",
    "    x1=average_duration,\n",
    "    y0=0,\n",
    "    y1=1,\n",
    "    xref='x',\n",
    "    yref='paper',\n",
    "    line=dict(color='red', width=2, dash='dash'),\n",
    "    name=f'Average: {average_duration:.2f}'\n",
    ")\n",
    "\n",
    "fig.add_shape(\n",
    "    type='line',\n",
    "    x0=median_duration,\n",
    "    x1=median_duration,\n",
    "    y0=0,\n",
    "    y1=1,\n",
    "    xref='x',\n",
    "    yref='paper',\n",
    "    line=dict(color='green', width=2, dash='dash'),\n",
    "    name=f'Median: {median_duration:.2f}'\n",
    ")\n",
    "\n",
    "# Add labels for average and median values\n",
    "fig.add_annotation(\n",
    "    x=average_duration,\n",
    "    y=1.08,\n",
    "    xref='x',\n",
    "    yref='paper',\n",
    "    text=f'Average: {average_duration:.2f}',\n",
    "    showarrow=False,\n",
    "    arrowhead=4,\n",
    "    ax=0,\n",
    "    ay=-40\n",
    ")\n",
    "\n",
    "fig.add_annotation(\n",
    "    x=median_duration,\n",
    "    y=1.13,\n",
    "    xref='x',\n",
    "    yref='paper',\n",
    "    text=f'Median: {median_duration:.2f}',\n",
    "    showarrow=False,\n",
    "    arrowhead=4,\n",
    "    ax=0,\n",
    "    ay=-40\n",
    ")\n",
    "\n",
    "# Update the layout if needed\n",
    "fig.update_layout(\n",
    "    title='Density Plot with Smooth Line',\n",
    "    xaxis_title='Value',\n",
    "    yaxis_title='Density'\n",
    ")\n",
    "# Update the layout if needed\n",
    "fig.update_layout(title='Fig B: Density plot of time spent for engaged', xaxis_title='Value', yaxis_title='Density')\n",
    "\n",
    "\n",
    "# Show the plot\n",
    "fig.show()"
   ]
  },
  {
   "attachments": {},
   "cell_type": "markdown",
   "metadata": {},
   "source": [
    "#### Treatment"
   ]
  },
  {
   "cell_type": "code",
   "execution_count": 33,
   "metadata": {},
   "outputs": [],
   "source": [
    "import pandas as pd\n",
    "\n",
    "def attribute_support(df, attribute, categories, att_nr, group1, group2, dummy,extra=\"\"):\n",
    "    df = df.copy()\n",
    "\n",
    "    df_control = df[df[dummy] == 0]\n",
    "    df_treated = df[df[dummy] == 1]\n",
    "\n",
    "    df_treated = df_treated[[attribute, 'support']]\n",
    "    df_treated['support'] = df_treated['support'].astype(int)\n",
    "\n",
    "    support_control = {\"Attribute Level\": [], \"Value\": [], \"CI_lower\": [], \"CI_upper\": []}\n",
    "    \n",
    "    for cat in categories[::-1]:\n",
    "        group = df_control[df_control[attribute] == cat]\n",
    "        mean = group['support'].mean()\n",
    "        std_dev = group['support'].std()\n",
    "        n = len(group)\n",
    "        confidence_interval = 1.96 * (std_dev / (n**0.5))  # 95% confidence interval\n",
    "\n",
    "        support_control[\"Attribute Level\"].append(cat.replace('&', '<br>'))\n",
    "        support_control[\"Value\"].append(mean.round(2))\n",
    "        support_control[\"CI_lower\"].append((mean - confidence_interval).round(2))\n",
    "        support_control[\"CI_upper\"].append((mean + confidence_interval).round(2))\n",
    "\n",
    "    df_control = pd.DataFrame(support_control)\n",
    "\n",
    "    support_treated = {\"Attribute Level\": [], \"Value\": [], \"CI_lower\": [], \"CI_upper\": []}\n",
    "    \n",
    "    for cat in categories[::-1]:\n",
    "        group = df_treated[df_treated[attribute] == cat]\n",
    "        mean = group['support'].mean()\n",
    "        std_dev = group['support'].std()\n",
    "        n = len(group)\n",
    "        confidence_interval = 1.96 * (std_dev / (n**0.5))  # 95% confidence interval\n",
    "\n",
    "        support_treated[\"Attribute Level\"].append(cat.replace('&', '<br>'))\n",
    "        support_treated[\"Value\"].append(mean.round(2))\n",
    "        support_treated[\"CI_lower\"].append((mean - confidence_interval).round(2))\n",
    "        support_treated[\"CI_upper\"].append((mean + confidence_interval).round(2))\n",
    "\n",
    "    df_treated = pd.DataFrame(support_treated)\n",
    "\n",
    "    color_scale = [\"rgb(173, 221, 142)\", \"rgb(127, 188, 65)\", \"rgb(78, 139, 37)\", \"rgb(45, 82, 21)\", \"rgb(45, 82, 21)\", \"rgb(45, 82, 21)\",\"rgb(45, 82, 21)\"]\n",
    "\n",
    "    fig = go.Figure()\n",
    "\n",
    "    for i, row in df_control.iterrows():\n",
    "        fig.add_trace(go.Bar(\n",
    "            x=[row[\"Attribute Level\"]],\n",
    "            y=[row[\"Value\"]],\n",
    "            error_y=dict(\n",
    "                type='data',\n",
    "                array=[row[\"CI_upper\"] - row[\"Value\"]],\n",
    "                arrayminus=[row[\"Value\"] - row[\"CI_lower\"]],\n",
    "                visible=True\n",
    "            ),\n",
    "            marker_color=color_scale[i],\n",
    "            name=row[\"Attribute Level\"],\n",
    "            width=0.2\n",
    "        ))\n",
    "\n",
    "    color_scale = [\"rgb(221, 142, 142)\", \"rgb(188, 65, 65)\", \"rgb(139, 37, 37)\", \"rgb(82, 21, 21)\", \"rgb(82, 21, 21)\", \"rgb(82, 21, 21)\", \"rgb(82, 21, 21)\"]\n",
    "\n",
    "\n",
    "    for i, row in df_treated.iterrows():\n",
    "        fig.add_trace(go.Bar(\n",
    "            x=[row[\"Attribute Level\"]],\n",
    "            y=[row[\"Value\"]],\n",
    "            error_y=dict(\n",
    "                type='data',\n",
    "                array=[row[\"CI_upper\"] - row[\"Value\"]],\n",
    "                arrayminus=[row[\"Value\"] - row[\"CI_lower\"]],\n",
    "                visible=True\n",
    "            ),\n",
    "            marker_color=color_scale[i],\n",
    "            name=row[\"Attribute Level\"],\n",
    "            width=0.2\n",
    "        ))\n",
    "\n",
    "    \n",
    "\n",
    "    # Set y-axis range from 0 to 1\n",
    "    fig.update_layout(yaxis_range=[0, 1], xaxis_range=[-1,6], width=700, height=500)\n",
    "\n",
    "    # Add a horizontal line at y=0.5\n",
    "    fig.add_hline(y=0.5, line_dash=\"dash\")\n",
    "\n",
    "\n",
    "    fig.update_layout(barmode=\"group\", bargap=0.6)\n",
    "    \n",
    "    fig.update_layout(\n",
    "        title={\n",
    "            'text': f\"Fig {att_nr}: Att {att_nr} {extra}\",\n",
    "            'x': 0.5,\n",
    "            'xanchor': 'center',\n",
    "            'font': {'family': 'Computer Modern'}\n",
    "        },\n",
    "        margin=dict(l=20, r=20, t=45, b=5),\n",
    "        paper_bgcolor=\"#EADDCA\",\n",
    "        plot_bgcolor='rgba(0,0,0,0)',\n",
    "        showlegend=False,  # Show legend for different Attribute Levels\n",
    "        xaxis_showticklabels=True,\n",
    "        xaxis_title=None,\n",
    "    )\n",
    "\n",
    "    fig.add_annotation(\n",
    "            x=1.5,\n",
    "            y=0.95,\n",
    "            xref='x',\n",
    "            yref='paper',\n",
    "            text=f'{group2}',\n",
    "            showarrow=False,\n",
    "            arrowhead=4,\n",
    "            font=dict(\n",
    "                    size=14,\n",
    "                    color=\"rgb(139, 37, 37)\"\n",
    "                ),\n",
    "            ax=0,\n",
    "            ay=-40\n",
    "        )\n",
    "    \n",
    "    fig.add_annotation(\n",
    "            x=1.5,\n",
    "            y=0.9,\n",
    "            xref='x',\n",
    "            yref='paper',\n",
    "            text=f'{group1}',\n",
    "            showarrow=False,\n",
    "            arrowhead=4,\n",
    "            font=dict(\n",
    "                    size=14,\n",
    "                    color=\"rgb(78, 139, 37)\"\n",
    "                ),\n",
    "            ax=0,\n",
    "            ay=-40\n",
    "        )\n",
    "\n",
    "    return fig\n",
    "\n",
    "data_clean = pd.read_csv(OUT / \"data\" / \"data_long.csv\")\n",
    "\n",
    "categories = [['Reduce2030','Eliminate2050', 'Eliminate2070'], ['LowPrices', 'InsureWorkers', 'EnergyAccess', 'NothingSoc'], ['IdentityCoalRegions', 'IndustryCoalRegions', 'WorkersCoalRegion', 'NothingEco'],['Gov&CivilSociety', 'Gov&Researchers', 'Gov&Businesses', 'Gov&LaborUnions', 'Gov&LocalGov', 'GovAlone'],['Fin&TechSupport', 'FinSupportOnly', 'TechSupportOnly', 'NoInterference']]\n",
    "\n",
    "group = \"Treatment\"\n",
    "\n",
    "for i in range(1,6):\n",
    "    fig = attribute_support(data_clean, f\"att_{i}\", categories[i-1], f\"{i}\", \"Control\", \"Treated\", dummy=\"treatment_status\",extra='Treatment')\n",
    "    fig.write_image(OUT / \"other_fig\" / f\"fig_{i}_att_{i}_{group}.png\")"
   ]
  },
  {
   "cell_type": "markdown",
   "metadata": {},
   "source": [
    "### Descriptives"
   ]
  },
  {
   "cell_type": "code",
   "execution_count": 39,
   "metadata": {},
   "outputs": [
    {
     "name": "stdout",
     "output_type": "stream",
     "text": [
      "\\begin{tabular}{lcc}\n",
      "Column & N & Descriptive Statistics \\\\ \n",
      "\\hline\n",
      "ageFilter & 1160 & Average: 35.03 \\\\ \n",
      "genderFilter & 1160 & Percentage Share: genderFilter\n",
      "Male      50.217581\n",
      "Female    49.608355\n",
      "Other      0.174064\n",
      "Name: proportion, dtype: float64 \\\\ \n",
      "\\end{tabular}\n"
     ]
    }
   ],
   "source": [
    "import pandas as pd\n",
    "\n",
    "def generate_descriptive_stats(dataframe, column_names):\n",
    "    stats_dict = {}\n",
    "    \n",
    "    for column_name in column_names:\n",
    "        column = dataframe[column_name]\n",
    "        if pd.api.types.is_numeric_dtype(column):\n",
    "            stats_dict[column_name] = {\n",
    "                'N': len(column),\n",
    "                'Average': column.mean()\n",
    "            }\n",
    "        elif pd.api.types.is_categorical_dtype(column):\n",
    "            category_counts = column.value_counts(normalize=True)\n",
    "            stats_dict[column_name] = {\n",
    "                'N': len(column),\n",
    "                'Percentage Share': category_counts * 100\n",
    "            }\n",
    "        else:\n",
    "            stats_dict[column_name] = {\n",
    "                'Error': 'Column type not recognized as numerical or categorical'\n",
    "            }\n",
    "    \n",
    "    return stats_dict\n",
    "\n",
    "def generate_latex_table(stats_dict):\n",
    "    latex_table = \"\\\\begin{tabular}{lcc}\\n\"\n",
    "    latex_table += \"Column & N & Descriptive Statistics \\\\\\\\ \\n\"\n",
    "    latex_table += \"\\\\hline\\n\"\n",
    "    \n",
    "    for column_name, stats in stats_dict.items():\n",
    "        latex_table += f\"{column_name} & {stats['N']} & \"\n",
    "        for key, value in stats.items():\n",
    "            if key != 'N':\n",
    "                if isinstance(value, float):\n",
    "                    latex_table += f\"{key}: {value:.2f} \"\n",
    "                else:\n",
    "                    latex_table += f\"{key}: {value} \"\n",
    "        latex_table += \"\\\\\\\\ \\n\"\n",
    "    \n",
    "    latex_table += \"\\\\end{tabular}\"\n",
    "    \n",
    "    return latex_table\n",
    "\n",
    "\n",
    "df = pd.read_csv(OUT / \"data\" / \"data_clean.csv\")\n",
    "\n",
    "df['ageFilter'] = df['ageFilter'].astype(int)\n",
    "df['genderFilter'] = df['genderFilter'].astype('category')\n",
    "\n",
    "column_names = ['ageFilter', 'genderFilter']\n",
    "stats_dict = generate_descriptive_stats(df, column_names)\n",
    "latex_table = generate_latex_table(stats_dict)\n",
    "print(latex_table)\n",
    "\n",
    "\n"
   ]
  },
  {
   "cell_type": "code",
   "execution_count": 62,
   "metadata": {},
   "outputs": [
    {
     "name": "stdout",
     "output_type": "stream",
     "text": [
      "\\begin{tabular}{lcc}\n",
      "\\toprule\n",
      "Category & Average & N \\\\\n",
      "\\midrule\n",
      "ageFilter & 35.03 & 1160 \\\\\n",
      "Male & 49.74\\% & 577 \\\\\n",
      "Female & 49.14\\% & 570 \\\\\n",
      "Other & 0.17\\% & 2 \\\\\n",
      "SouthernZone & 25.26\\% & 293 \\\\\n",
      "NorthernZone & 23.71\\% & 275 \\\\\n",
      "EasternZone & 20.00\\% & 232 \\\\\n",
      "WesternZone & 17.33\\% & 201 \\\\\n",
      "CentralZone & 10.09\\% & 117 \\\\\n",
      "NorthEasternZone & 3.62\\% & 42 \\\\\n",
      "CoalState & 50.95\\% & 591 \\\\\n",
      "NonCoalState & 49.05\\% & 569 \\\\\n",
      "\\bottomrule\n",
      "\\end{tabular}\n",
      "\n"
     ]
    }
   ],
   "source": [
    "import pandas as pd\n",
    "from tabulate import tabulate\n",
    "\n",
    "def generate_descriptive_stats_table(dataframe, columns):\n",
    "    # Create an empty list to store the rows\n",
    "    rows = []\n",
    "\n",
    "    # Iterate through the columns\n",
    "    for column_name in columns:\n",
    "        column_data = dataframe[column_name]\n",
    "        \n",
    "        if pd.api.types.is_numeric_dtype(column_data):\n",
    "            # For numeric columns, calculate the average and N\n",
    "            average = column_data.mean()\n",
    "            n = column_data.count()\n",
    "            \n",
    "            rows.append([column_name, f'{average:.2f}', n])\n",
    "        elif pd.api.types.is_categorical_dtype(column_data):\n",
    "            # For categorical columns, calculate percentage shares and N for each category\n",
    "            category_counts = column_data.value_counts()\n",
    "            n_total = len(column_data)\n",
    "            \n",
    "            for category, count in category_counts.items():\n",
    "                percentage_share = (count / n_total) * 100\n",
    "                rows.append([category, f'{percentage_share:.2f}\\%', count])\n",
    "    \n",
    "    # Create a DataFrame from the list of rows\n",
    "    result_df = pd.DataFrame(rows, columns=['Category', 'Average', 'N'])\n",
    "    \n",
    "    # Convert the result to LaTeX format\n",
    "    latex_table = result_df.to_latex(index=False, column_format='lcc', escape=False)\n",
    "    \n",
    "    return latex_table\n",
    "\n",
    "df = pd.read_csv(OUT / \"data\" / \"data_clean.csv\")\n",
    "\n",
    "df['ageFilter'] = df['ageFilter'].astype(int)\n",
    "df['genderFilter'] = df['genderFilter'].astype('category')\n",
    "df['district'] = df['district'].astype('category')\n",
    "df['coal_state'] = df['coal_region'].replace({1:'CoalState', 0:'NonCoalState'}).astype('category')\n",
    "\n",
    "columns_to_analyze = [\"ageFilter\", \"genderFilter\", \"district\", \"coal_state\"]\n",
    "latex_output = generate_descriptive_stats_table(df, columns_to_analyze)\n",
    "print(latex_output)git"
   ]
  },
  {
   "cell_type": "markdown",
   "metadata": {},
   "source": [
    "### Income Distribution"
   ]
  },
  {
   "cell_type": "code",
   "execution_count": null,
   "metadata": {},
   "outputs": [],
   "source": []
  }
 ],
 "metadata": {
  "kernelspec": {
   "display_name": "conjoint",
   "language": "python",
   "name": "python3"
  },
  "language_info": {
   "codemirror_mode": {
    "name": "ipython",
    "version": 3
   },
   "file_extension": ".py",
   "mimetype": "text/x-python",
   "name": "python",
   "nbconvert_exporter": "python",
   "pygments_lexer": "ipython3",
   "version": "3.11.4"
  },
  "orig_nbformat": 4
 },
 "nbformat": 4,
 "nbformat_minor": 2
}
