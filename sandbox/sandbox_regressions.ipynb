{
 "cells": [
  {
   "cell_type": "code",
   "execution_count": 1,
   "metadata": {},
   "outputs": [],
   "source": [
    "%load_ext autoreload\n",
    "%autoreload 2\n",
    "\n",
    "import pandas as pd\n",
    "import statsmodels.api as sm\n",
    "import os\n",
    "import sys\n",
    "\n",
    "sys.path.insert(0, os.path.abspath('../developer'))\n",
    "\n",
    "from config import MOCK_DATA, CODE, OUT\n",
    "from developer.utilities import read_yaml\n",
    "from developer.analysis.model import load_model\n",
    "import re\n",
    "import plotly.express as px\n",
    "import plotly.graph_objects as go\n"
   ]
  },
  {
   "cell_type": "code",
   "execution_count": 10,
   "metadata": {},
   "outputs": [],
   "source": [
    "df_total = pd.read_csv(OUT / \"data\" / \"data_regression.csv\")"
   ]
  },
  {
   "attachments": {},
   "cell_type": "markdown",
   "metadata": {},
   "source": [
    "##### regression 1"
   ]
  },
  {
   "cell_type": "code",
   "execution_count": 24,
   "metadata": {},
   "outputs": [
    {
     "data": {
      "text/html": [
       "<table class=\"simpletable\">\n",
       "<caption>OLS Regression Results</caption>\n",
       "<tr>\n",
       "  <th>Dep. Variable:</th>         <td>support</td>     <th>  R-squared:         </th> <td>   0.005</td> \n",
       "</tr>\n",
       "<tr>\n",
       "  <th>Model:</th>                   <td>OLS</td>       <th>  Adj. R-squared:    </th> <td>   0.005</td> \n",
       "</tr>\n",
       "<tr>\n",
       "  <th>Method:</th>             <td>Least Squares</td>  <th>  F-statistic:       </th> <td>   33.55</td> \n",
       "</tr>\n",
       "<tr>\n",
       "  <th>Date:</th>             <td>Mon, 11 Sep 2023</td> <th>  Prob (F-statistic):</th> <td>5.77e-15</td> \n",
       "</tr>\n",
       "<tr>\n",
       "  <th>Time:</th>                 <td>11:07:24</td>     <th>  Log-Likelihood:    </th> <td> -10961.</td> \n",
       "</tr>\n",
       "<tr>\n",
       "  <th>No. Observations:</th>      <td> 17112</td>      <th>  AIC:               </th> <td>2.193e+04</td>\n",
       "</tr>\n",
       "<tr>\n",
       "  <th>Df Residuals:</th>          <td> 17109</td>      <th>  BIC:               </th> <td>2.195e+04</td>\n",
       "</tr>\n",
       "<tr>\n",
       "  <th>Df Model:</th>              <td>     2</td>      <th>                     </th>     <td> </td>    \n",
       "</tr>\n",
       "<tr>\n",
       "  <th>Covariance Type:</th>       <td>cluster</td>     <th>                     </th>     <td> </td>    \n",
       "</tr>\n",
       "</table>\n",
       "<table class=\"simpletable\">\n",
       "<tr>\n",
       "           <td></td>              <th>coef</th>     <th>std err</th>      <th>z</th>      <th>P>|z|</th>  <th>[0.025</th>    <th>0.975]</th>  \n",
       "</tr>\n",
       "<tr>\n",
       "  <th>const</th>               <td>    0.6503</td> <td>    0.009</td> <td>   68.951</td> <td> 0.000</td> <td>    0.632</td> <td>    0.669</td>\n",
       "</tr>\n",
       "<tr>\n",
       "  <th>att_1_Eliminate2050</th> <td>    0.0612</td> <td>    0.009</td> <td>    6.694</td> <td> 0.000</td> <td>    0.043</td> <td>    0.079</td>\n",
       "</tr>\n",
       "<tr>\n",
       "  <th>att_1_Reduce2030</th>    <td>    0.0737</td> <td>    0.010</td> <td>    7.648</td> <td> 0.000</td> <td>    0.055</td> <td>    0.093</td>\n",
       "</tr>\n",
       "</table>\n",
       "<table class=\"simpletable\">\n",
       "<tr>\n",
       "  <th>Omnibus:</th>       <td>34059.377</td> <th>  Durbin-Watson:     </th> <td>   1.313</td>\n",
       "</tr>\n",
       "<tr>\n",
       "  <th>Prob(Omnibus):</th>  <td> 0.000</td>   <th>  Jarque-Bera (JB):  </th> <td>3169.039</td>\n",
       "</tr>\n",
       "<tr>\n",
       "  <th>Skew:</th>           <td>-0.843</td>   <th>  Prob(JB):          </th> <td>    0.00</td>\n",
       "</tr>\n",
       "<tr>\n",
       "  <th>Kurtosis:</th>       <td> 1.734</td>   <th>  Cond. No.          </th> <td>    3.74</td>\n",
       "</tr>\n",
       "</table><br/><br/>Notes:<br/>[1] Standard Errors are robust to cluster correlation (cluster)"
      ],
      "text/latex": [
       "\\begin{center}\n",
       "\\begin{tabular}{lclc}\n",
       "\\toprule\n",
       "\\textbf{Dep. Variable:}        &     support      & \\textbf{  R-squared:         } &     0.005   \\\\\n",
       "\\textbf{Model:}                &       OLS        & \\textbf{  Adj. R-squared:    } &     0.005   \\\\\n",
       "\\textbf{Method:}               &  Least Squares   & \\textbf{  F-statistic:       } &     33.55   \\\\\n",
       "\\textbf{Date:}                 & Mon, 11 Sep 2023 & \\textbf{  Prob (F-statistic):} &  5.77e-15   \\\\\n",
       "\\textbf{Time:}                 &     11:07:24     & \\textbf{  Log-Likelihood:    } &   -10961.   \\\\\n",
       "\\textbf{No. Observations:}     &       17112      & \\textbf{  AIC:               } & 2.193e+04   \\\\\n",
       "\\textbf{Df Residuals:}         &       17109      & \\textbf{  BIC:               } & 2.195e+04   \\\\\n",
       "\\textbf{Df Model:}             &           2      & \\textbf{                     } &             \\\\\n",
       "\\textbf{Covariance Type:}      &     cluster      & \\textbf{                     } &             \\\\\n",
       "\\bottomrule\n",
       "\\end{tabular}\n",
       "\\begin{tabular}{lcccccc}\n",
       "                               & \\textbf{coef} & \\textbf{std err} & \\textbf{z} & \\textbf{P$> |$z$|$} & \\textbf{[0.025} & \\textbf{0.975]}  \\\\\n",
       "\\midrule\n",
       "\\textbf{const}                 &       0.6503  &        0.009     &    68.951  &         0.000        &        0.632    &        0.669     \\\\\n",
       "\\textbf{att\\_1\\_Eliminate2050} &       0.0612  &        0.009     &     6.694  &         0.000        &        0.043    &        0.079     \\\\\n",
       "\\textbf{att\\_1\\_Reduce2030}    &       0.0737  &        0.010     &     7.648  &         0.000        &        0.055    &        0.093     \\\\\n",
       "\\bottomrule\n",
       "\\end{tabular}\n",
       "\\begin{tabular}{lclc}\n",
       "\\textbf{Omnibus:}       & 34059.377 & \\textbf{  Durbin-Watson:     } &    1.313  \\\\\n",
       "\\textbf{Prob(Omnibus):} &    0.000  & \\textbf{  Jarque-Bera (JB):  } & 3169.039  \\\\\n",
       "\\textbf{Skew:}          &   -0.843  & \\textbf{  Prob(JB):          } &     0.00  \\\\\n",
       "\\textbf{Kurtosis:}      &    1.734  & \\textbf{  Cond. No.          } &     3.74  \\\\\n",
       "\\bottomrule\n",
       "\\end{tabular}\n",
       "%\\caption{OLS Regression Results}\n",
       "\\end{center}\n",
       "\n",
       "Notes: \\newline\n",
       " [1] Standard Errors are robust to cluster correlation (cluster)"
      ],
      "text/plain": [
       "<class 'statsmodels.iolib.summary.Summary'>\n",
       "\"\"\"\n",
       "                            OLS Regression Results                            \n",
       "==============================================================================\n",
       "Dep. Variable:                support   R-squared:                       0.005\n",
       "Model:                            OLS   Adj. R-squared:                  0.005\n",
       "Method:                 Least Squares   F-statistic:                     33.55\n",
       "Date:                Mon, 11 Sep 2023   Prob (F-statistic):           5.77e-15\n",
       "Time:                        11:07:24   Log-Likelihood:                -10961.\n",
       "No. Observations:               17112   AIC:                         2.193e+04\n",
       "Df Residuals:                   17109   BIC:                         2.195e+04\n",
       "Df Model:                           2                                         \n",
       "Covariance Type:              cluster                                         \n",
       "=======================================================================================\n",
       "                          coef    std err          z      P>|z|      [0.025      0.975]\n",
       "---------------------------------------------------------------------------------------\n",
       "const                   0.6503      0.009     68.951      0.000       0.632       0.669\n",
       "att_1_Eliminate2050     0.0612      0.009      6.694      0.000       0.043       0.079\n",
       "att_1_Reduce2030        0.0737      0.010      7.648      0.000       0.055       0.093\n",
       "==============================================================================\n",
       "Omnibus:                    34059.377   Durbin-Watson:                   1.313\n",
       "Prob(Omnibus):                  0.000   Jarque-Bera (JB):             3169.039\n",
       "Skew:                          -0.843   Prob(JB):                         0.00\n",
       "Kurtosis:                       1.734   Cond. No.                         3.74\n",
       "==============================================================================\n",
       "\n",
       "Notes:\n",
       "[1] Standard Errors are robust to cluster correlation (cluster)\n",
       "\"\"\""
      ]
     },
     "execution_count": 24,
     "metadata": {},
     "output_type": "execute_result"
    }
   ],
   "source": [
    "outcome = 'support'\n",
    "explanatory_vars = [col for col in df_total.columns if \"att_1\" in col]\n",
    "\n",
    "# Having a reference category for each att:\n",
    "to_remove = ['att_1_Eliminate2070', 'att_2_NothingSoc', 'att_3_NothingEco', 'att_4_GovAlone', 'att_5_NoInterference']\n",
    "explanatory_vars = [x for x in explanatory_vars if x not in to_remove]\n",
    "\n",
    "\n",
    "X = df_total[explanatory_vars].astype(int)\n",
    "y = df_total[outcome].astype(int)\n",
    "\n",
    "X = sm.add_constant(X)\n",
    "model = sm.OLS(y, X).fit(cov_type='cluster', cov_kwds={'groups':df_total['ID']})\n",
    "\n",
    "model.summary()"
   ]
  },
  {
   "cell_type": "markdown",
   "metadata": {},
   "source": [
    "#### regression 1_c"
   ]
  },
  {
   "cell_type": "code",
   "execution_count": 25,
   "metadata": {},
   "outputs": [
    {
     "data": {
      "text/html": [
       "<table class=\"simpletable\">\n",
       "<caption>OLS Regression Results</caption>\n",
       "<tr>\n",
       "  <th>Dep. Variable:</th>         <td>support</td>     <th>  R-squared:         </th> <td>   0.014</td> \n",
       "</tr>\n",
       "<tr>\n",
       "  <th>Model:</th>                   <td>OLS</td>       <th>  Adj. R-squared:    </th> <td>   0.013</td> \n",
       "</tr>\n",
       "<tr>\n",
       "  <th>Method:</th>             <td>Least Squares</td>  <th>  F-statistic:       </th> <td>   868.6</td> \n",
       "</tr>\n",
       "<tr>\n",
       "  <th>Date:</th>             <td>Mon, 11 Sep 2023</td> <th>  Prob (F-statistic):</th>  <td>  0.00</td>  \n",
       "</tr>\n",
       "<tr>\n",
       "  <th>Time:</th>                 <td>11:07:40</td>     <th>  Log-Likelihood:    </th> <td> -10887.</td> \n",
       "</tr>\n",
       "<tr>\n",
       "  <th>No. Observations:</th>      <td> 17112</td>      <th>  AIC:               </th> <td>2.180e+04</td>\n",
       "</tr>\n",
       "<tr>\n",
       "  <th>Df Residuals:</th>          <td> 17100</td>      <th>  BIC:               </th> <td>2.189e+04</td>\n",
       "</tr>\n",
       "<tr>\n",
       "  <th>Df Model:</th>              <td>    11</td>      <th>                     </th>     <td> </td>    \n",
       "</tr>\n",
       "<tr>\n",
       "  <th>Covariance Type:</th>       <td>cluster</td>     <th>                     </th>     <td> </td>    \n",
       "</tr>\n",
       "</table>\n",
       "<table class=\"simpletable\">\n",
       "<tr>\n",
       "              <td></td>                 <th>coef</th>     <th>std err</th>      <th>z</th>      <th>P>|z|</th>  <th>[0.025</th>    <th>0.975]</th>  \n",
       "</tr>\n",
       "<tr>\n",
       "  <th>const</th>                     <td>    0.5227</td> <td>    0.022</td> <td>   24.300</td> <td> 0.000</td> <td>    0.481</td> <td>    0.565</td>\n",
       "</tr>\n",
       "<tr>\n",
       "  <th>att_1_Eliminate2050</th>       <td>    0.0613</td> <td>    0.009</td> <td>    6.743</td> <td> 0.000</td> <td>    0.043</td> <td>    0.079</td>\n",
       "</tr>\n",
       "<tr>\n",
       "  <th>att_1_Reduce2030</th>          <td>    0.0730</td> <td>    0.010</td> <td>    7.589</td> <td> 0.000</td> <td>    0.054</td> <td>    0.092</td>\n",
       "</tr>\n",
       "<tr>\n",
       "  <th>ageFilter</th>                 <td> 7.495e-05</td> <td>    0.001</td> <td>    0.129</td> <td> 0.897</td> <td>   -0.001</td> <td>    0.001</td>\n",
       "</tr>\n",
       "<tr>\n",
       "  <th>genderFilter</th>              <td>    0.0206</td> <td>    0.014</td> <td>    1.446</td> <td> 0.148</td> <td>   -0.007</td> <td>    0.049</td>\n",
       "</tr>\n",
       "<tr>\n",
       "  <th>urban</th>                     <td>    0.0461</td> <td>    0.015</td> <td>    3.171</td> <td> 0.002</td> <td>    0.018</td> <td>    0.075</td>\n",
       "</tr>\n",
       "<tr>\n",
       "  <th>district_NorthernZone</th>     <td>    0.0807</td> <td>    0.015</td> <td>    5.382</td> <td> 0.000</td> <td>    0.051</td> <td>    0.110</td>\n",
       "</tr>\n",
       "<tr>\n",
       "  <th>district_NorthEasternZone</th> <td>    0.0562</td> <td>    0.033</td> <td>    1.682</td> <td> 0.093</td> <td>   -0.009</td> <td>    0.122</td>\n",
       "</tr>\n",
       "<tr>\n",
       "  <th>district_CentralZone</th>      <td>    0.0476</td> <td>    0.025</td> <td>    1.903</td> <td> 0.057</td> <td>   -0.001</td> <td>    0.097</td>\n",
       "</tr>\n",
       "<tr>\n",
       "  <th>district_EasternZone</th>      <td>    0.1201</td> <td>    0.016</td> <td>    7.564</td> <td> 0.000</td> <td>    0.089</td> <td>    0.151</td>\n",
       "</tr>\n",
       "<tr>\n",
       "  <th>district_WesternZone</th>      <td>    0.1492</td> <td>    0.018</td> <td>    8.402</td> <td> 0.000</td> <td>    0.114</td> <td>    0.184</td>\n",
       "</tr>\n",
       "<tr>\n",
       "  <th>district_SouthernZone</th>     <td>    0.0689</td> <td>    0.015</td> <td>    4.671</td> <td> 0.000</td> <td>    0.040</td> <td>    0.098</td>\n",
       "</tr>\n",
       "<tr>\n",
       "  <th>treatment_status</th>          <td>   -0.0089</td> <td>    0.014</td> <td>   -0.636</td> <td> 0.525</td> <td>   -0.036</td> <td>    0.019</td>\n",
       "</tr>\n",
       "</table>\n",
       "<table class=\"simpletable\">\n",
       "<tr>\n",
       "  <th>Omnibus:</th>       <td>26109.188</td> <th>  Durbin-Watson:     </th> <td>   1.323</td>\n",
       "</tr>\n",
       "<tr>\n",
       "  <th>Prob(Omnibus):</th>  <td> 0.000</td>   <th>  Jarque-Bera (JB):  </th> <td>3075.916</td>\n",
       "</tr>\n",
       "<tr>\n",
       "  <th>Skew:</th>           <td>-0.831</td>   <th>  Prob(JB):          </th> <td>    0.00</td>\n",
       "</tr>\n",
       "<tr>\n",
       "  <th>Kurtosis:</th>       <td> 1.754</td>   <th>  Cond. No.          </th> <td>5.05e+17</td>\n",
       "</tr>\n",
       "</table><br/><br/>Notes:<br/>[1] Standard Errors are robust to cluster correlation (cluster)<br/>[2] The smallest eigenvalue is 1.03e-28. This might indicate that there are<br/>strong multicollinearity problems or that the design matrix is singular."
      ],
      "text/latex": [
       "\\begin{center}\n",
       "\\begin{tabular}{lclc}\n",
       "\\toprule\n",
       "\\textbf{Dep. Variable:}             &     support      & \\textbf{  R-squared:         } &     0.014   \\\\\n",
       "\\textbf{Model:}                     &       OLS        & \\textbf{  Adj. R-squared:    } &     0.013   \\\\\n",
       "\\textbf{Method:}                    &  Least Squares   & \\textbf{  F-statistic:       } &     868.6   \\\\\n",
       "\\textbf{Date:}                      & Mon, 11 Sep 2023 & \\textbf{  Prob (F-statistic):} &     0.00    \\\\\n",
       "\\textbf{Time:}                      &     11:07:40     & \\textbf{  Log-Likelihood:    } &   -10887.   \\\\\n",
       "\\textbf{No. Observations:}          &       17112      & \\textbf{  AIC:               } & 2.180e+04   \\\\\n",
       "\\textbf{Df Residuals:}              &       17100      & \\textbf{  BIC:               } & 2.189e+04   \\\\\n",
       "\\textbf{Df Model:}                  &          11      & \\textbf{                     } &             \\\\\n",
       "\\textbf{Covariance Type:}           &     cluster      & \\textbf{                     } &             \\\\\n",
       "\\bottomrule\n",
       "\\end{tabular}\n",
       "\\begin{tabular}{lcccccc}\n",
       "                                    & \\textbf{coef} & \\textbf{std err} & \\textbf{z} & \\textbf{P$> |$z$|$} & \\textbf{[0.025} & \\textbf{0.975]}  \\\\\n",
       "\\midrule\n",
       "\\textbf{const}                      &       0.5227  &        0.022     &    24.300  &         0.000        &        0.481    &        0.565     \\\\\n",
       "\\textbf{att\\_1\\_Eliminate2050}      &       0.0613  &        0.009     &     6.743  &         0.000        &        0.043    &        0.079     \\\\\n",
       "\\textbf{att\\_1\\_Reduce2030}         &       0.0730  &        0.010     &     7.589  &         0.000        &        0.054    &        0.092     \\\\\n",
       "\\textbf{ageFilter}                  &    7.495e-05  &        0.001     &     0.129  &         0.897        &       -0.001    &        0.001     \\\\\n",
       "\\textbf{genderFilter}               &       0.0206  &        0.014     &     1.446  &         0.148        &       -0.007    &        0.049     \\\\\n",
       "\\textbf{urban}                      &       0.0461  &        0.015     &     3.171  &         0.002        &        0.018    &        0.075     \\\\\n",
       "\\textbf{district\\_NorthernZone}     &       0.0807  &        0.015     &     5.382  &         0.000        &        0.051    &        0.110     \\\\\n",
       "\\textbf{district\\_NorthEasternZone} &       0.0562  &        0.033     &     1.682  &         0.093        &       -0.009    &        0.122     \\\\\n",
       "\\textbf{district\\_CentralZone}      &       0.0476  &        0.025     &     1.903  &         0.057        &       -0.001    &        0.097     \\\\\n",
       "\\textbf{district\\_EasternZone}      &       0.1201  &        0.016     &     7.564  &         0.000        &        0.089    &        0.151     \\\\\n",
       "\\textbf{district\\_WesternZone}      &       0.1492  &        0.018     &     8.402  &         0.000        &        0.114    &        0.184     \\\\\n",
       "\\textbf{district\\_SouthernZone}     &       0.0689  &        0.015     &     4.671  &         0.000        &        0.040    &        0.098     \\\\\n",
       "\\textbf{treatment\\_status}          &      -0.0089  &        0.014     &    -0.636  &         0.525        &       -0.036    &        0.019     \\\\\n",
       "\\bottomrule\n",
       "\\end{tabular}\n",
       "\\begin{tabular}{lclc}\n",
       "\\textbf{Omnibus:}       & 26109.188 & \\textbf{  Durbin-Watson:     } &    1.323  \\\\\n",
       "\\textbf{Prob(Omnibus):} &    0.000  & \\textbf{  Jarque-Bera (JB):  } & 3075.916  \\\\\n",
       "\\textbf{Skew:}          &   -0.831  & \\textbf{  Prob(JB):          } &     0.00  \\\\\n",
       "\\textbf{Kurtosis:}      &    1.754  & \\textbf{  Cond. No.          } & 5.05e+17  \\\\\n",
       "\\bottomrule\n",
       "\\end{tabular}\n",
       "%\\caption{OLS Regression Results}\n",
       "\\end{center}\n",
       "\n",
       "Notes: \\newline\n",
       " [1] Standard Errors are robust to cluster correlation (cluster) \\newline\n",
       " [2] The smallest eigenvalue is 1.03e-28. This might indicate that there are \\newline\n",
       " strong multicollinearity problems or that the design matrix is singular."
      ],
      "text/plain": [
       "<class 'statsmodels.iolib.summary.Summary'>\n",
       "\"\"\"\n",
       "                            OLS Regression Results                            \n",
       "==============================================================================\n",
       "Dep. Variable:                support   R-squared:                       0.014\n",
       "Model:                            OLS   Adj. R-squared:                  0.013\n",
       "Method:                 Least Squares   F-statistic:                     868.6\n",
       "Date:                Mon, 11 Sep 2023   Prob (F-statistic):               0.00\n",
       "Time:                        11:07:40   Log-Likelihood:                -10887.\n",
       "No. Observations:               17112   AIC:                         2.180e+04\n",
       "Df Residuals:                   17100   BIC:                         2.189e+04\n",
       "Df Model:                          11                                         \n",
       "Covariance Type:              cluster                                         \n",
       "=============================================================================================\n",
       "                                coef    std err          z      P>|z|      [0.025      0.975]\n",
       "---------------------------------------------------------------------------------------------\n",
       "const                         0.5227      0.022     24.300      0.000       0.481       0.565\n",
       "att_1_Eliminate2050           0.0613      0.009      6.743      0.000       0.043       0.079\n",
       "att_1_Reduce2030              0.0730      0.010      7.589      0.000       0.054       0.092\n",
       "ageFilter                  7.495e-05      0.001      0.129      0.897      -0.001       0.001\n",
       "genderFilter                  0.0206      0.014      1.446      0.148      -0.007       0.049\n",
       "urban                         0.0461      0.015      3.171      0.002       0.018       0.075\n",
       "district_NorthernZone         0.0807      0.015      5.382      0.000       0.051       0.110\n",
       "district_NorthEasternZone     0.0562      0.033      1.682      0.093      -0.009       0.122\n",
       "district_CentralZone          0.0476      0.025      1.903      0.057      -0.001       0.097\n",
       "district_EasternZone          0.1201      0.016      7.564      0.000       0.089       0.151\n",
       "district_WesternZone          0.1492      0.018      8.402      0.000       0.114       0.184\n",
       "district_SouthernZone         0.0689      0.015      4.671      0.000       0.040       0.098\n",
       "treatment_status             -0.0089      0.014     -0.636      0.525      -0.036       0.019\n",
       "==============================================================================\n",
       "Omnibus:                    26109.188   Durbin-Watson:                   1.323\n",
       "Prob(Omnibus):                  0.000   Jarque-Bera (JB):             3075.916\n",
       "Skew:                          -0.831   Prob(JB):                         0.00\n",
       "Kurtosis:                       1.754   Cond. No.                     5.05e+17\n",
       "==============================================================================\n",
       "\n",
       "Notes:\n",
       "[1] Standard Errors are robust to cluster correlation (cluster)\n",
       "[2] The smallest eigenvalue is 1.03e-28. This might indicate that there are\n",
       "strong multicollinearity problems or that the design matrix is singular.\n",
       "\"\"\""
      ]
     },
     "execution_count": 25,
     "metadata": {},
     "output_type": "execute_result"
    }
   ],
   "source": [
    "outcome = 'support'\n",
    "explanatory_vars = [col for col in df_total.columns if \"att_1\" in col] + ['ageFilter', 'genderFilter', 'urban', 'district_NorthernZone', \n",
    "                                                                        'district_NorthEasternZone', 'district_CentralZone', 'district_EasternZone',\n",
    "                                                                        'district_WesternZone', 'district_SouthernZone', 'treatment_status']\n",
    "\n",
    "# Having a reference category for each att:\n",
    "to_remove = ['att_1_Eliminate2070', 'att_2_NothingSoc', 'att_3_NothingEco', 'att_4_GovAlone', 'att_5_NoInterference']\n",
    "explanatory_vars = [x for x in explanatory_vars if x not in to_remove]\n",
    "\n",
    "\n",
    "X = df_total[explanatory_vars].astype(int)\n",
    "y = df_total[outcome].astype(int)\n",
    "\n",
    "X = sm.add_constant(X)\n",
    "model = sm.OLS(y, X).fit(cov_type='cluster', cov_kwds={'groups':df_total['ID']})\n",
    "\n",
    "model.summary()"
   ]
  },
  {
   "cell_type": "markdown",
   "metadata": {},
   "source": [
    "#### regression 2"
   ]
  },
  {
   "cell_type": "code",
   "execution_count": 26,
   "metadata": {},
   "outputs": [
    {
     "data": {
      "text/html": [
       "<table class=\"simpletable\">\n",
       "<caption>OLS Regression Results</caption>\n",
       "<tr>\n",
       "  <th>Dep. Variable:</th>         <td>support</td>     <th>  R-squared:         </th> <td>   0.012</td> \n",
       "</tr>\n",
       "<tr>\n",
       "  <th>Model:</th>                   <td>OLS</td>       <th>  Adj. R-squared:    </th> <td>   0.012</td> \n",
       "</tr>\n",
       "<tr>\n",
       "  <th>Method:</th>             <td>Least Squares</td>  <th>  F-statistic:       </th> <td>   21.58</td> \n",
       "</tr>\n",
       "<tr>\n",
       "  <th>Date:</th>             <td>Mon, 11 Sep 2023</td> <th>  Prob (F-statistic):</th> <td>3.30e-31</td> \n",
       "</tr>\n",
       "<tr>\n",
       "  <th>Time:</th>                 <td>11:08:53</td>     <th>  Log-Likelihood:    </th> <td> -10897.</td> \n",
       "</tr>\n",
       "<tr>\n",
       "  <th>No. Observations:</th>      <td> 17112</td>      <th>  AIC:               </th> <td>2.181e+04</td>\n",
       "</tr>\n",
       "<tr>\n",
       "  <th>Df Residuals:</th>          <td> 17103</td>      <th>  BIC:               </th> <td>2.188e+04</td>\n",
       "</tr>\n",
       "<tr>\n",
       "  <th>Df Model:</th>              <td>     8</td>      <th>                     </th>     <td> </td>    \n",
       "</tr>\n",
       "<tr>\n",
       "  <th>Covariance Type:</th>       <td>cluster</td>     <th>                     </th>     <td> </td>    \n",
       "</tr>\n",
       "</table>\n",
       "<table class=\"simpletable\">\n",
       "<tr>\n",
       "              <td></td>                 <th>coef</th>     <th>std err</th>      <th>z</th>      <th>P>|z|</th>  <th>[0.025</th>    <th>0.975]</th>  \n",
       "</tr>\n",
       "<tr>\n",
       "  <th>const</th>                     <td>    0.5586</td> <td>    0.014</td> <td>   40.455</td> <td> 0.000</td> <td>    0.532</td> <td>    0.586</td>\n",
       "</tr>\n",
       "<tr>\n",
       "  <th>att_1_Eliminate2050</th>       <td>    0.0595</td> <td>    0.009</td> <td>    6.522</td> <td> 0.000</td> <td>    0.042</td> <td>    0.077</td>\n",
       "</tr>\n",
       "<tr>\n",
       "  <th>att_1_Reduce2030</th>          <td>    0.0724</td> <td>    0.010</td> <td>    7.533</td> <td> 0.000</td> <td>    0.054</td> <td>    0.091</td>\n",
       "</tr>\n",
       "<tr>\n",
       "  <th>att_2_EnergyAccess</th>        <td>    0.0639</td> <td>    0.010</td> <td>    6.365</td> <td> 0.000</td> <td>    0.044</td> <td>    0.084</td>\n",
       "</tr>\n",
       "<tr>\n",
       "  <th>att_2_InsureWorkers</th>       <td>    0.0724</td> <td>    0.010</td> <td>    7.041</td> <td> 0.000</td> <td>    0.052</td> <td>    0.093</td>\n",
       "</tr>\n",
       "<tr>\n",
       "  <th>att_2_LowPrices</th>           <td>    0.0754</td> <td>    0.010</td> <td>    7.516</td> <td> 0.000</td> <td>    0.056</td> <td>    0.095</td>\n",
       "</tr>\n",
       "<tr>\n",
       "  <th>att_3_IdentityCoalRegions</th> <td>    0.0340</td> <td>    0.011</td> <td>    3.211</td> <td> 0.001</td> <td>    0.013</td> <td>    0.055</td>\n",
       "</tr>\n",
       "<tr>\n",
       "  <th>att_3_IndustryCoalRegions</th> <td>    0.0625</td> <td>    0.010</td> <td>    6.069</td> <td> 0.000</td> <td>    0.042</td> <td>    0.083</td>\n",
       "</tr>\n",
       "<tr>\n",
       "  <th>att_3_WorkersCoalRegion</th>   <td>    0.0623</td> <td>    0.011</td> <td>    5.769</td> <td> 0.000</td> <td>    0.041</td> <td>    0.083</td>\n",
       "</tr>\n",
       "</table>\n",
       "<table class=\"simpletable\">\n",
       "<tr>\n",
       "  <th>Omnibus:</th>       <td>25874.502</td> <th>  Durbin-Watson:     </th> <td>   1.302</td>\n",
       "</tr>\n",
       "<tr>\n",
       "  <th>Prob(Omnibus):</th>  <td> 0.000</td>   <th>  Jarque-Bera (JB):  </th> <td>3088.840</td>\n",
       "</tr>\n",
       "<tr>\n",
       "  <th>Skew:</th>           <td>-0.834</td>   <th>  Prob(JB):          </th> <td>    0.00</td>\n",
       "</tr>\n",
       "<tr>\n",
       "  <th>Kurtosis:</th>       <td> 1.755</td>   <th>  Cond. No.          </th> <td>    6.16</td>\n",
       "</tr>\n",
       "</table><br/><br/>Notes:<br/>[1] Standard Errors are robust to cluster correlation (cluster)"
      ],
      "text/latex": [
       "\\begin{center}\n",
       "\\begin{tabular}{lclc}\n",
       "\\toprule\n",
       "\\textbf{Dep. Variable:}              &     support      & \\textbf{  R-squared:         } &     0.012   \\\\\n",
       "\\textbf{Model:}                      &       OLS        & \\textbf{  Adj. R-squared:    } &     0.012   \\\\\n",
       "\\textbf{Method:}                     &  Least Squares   & \\textbf{  F-statistic:       } &     21.58   \\\\\n",
       "\\textbf{Date:}                       & Mon, 11 Sep 2023 & \\textbf{  Prob (F-statistic):} &  3.30e-31   \\\\\n",
       "\\textbf{Time:}                       &     11:08:53     & \\textbf{  Log-Likelihood:    } &   -10897.   \\\\\n",
       "\\textbf{No. Observations:}           &       17112      & \\textbf{  AIC:               } & 2.181e+04   \\\\\n",
       "\\textbf{Df Residuals:}               &       17103      & \\textbf{  BIC:               } & 2.188e+04   \\\\\n",
       "\\textbf{Df Model:}                   &           8      & \\textbf{                     } &             \\\\\n",
       "\\textbf{Covariance Type:}            &     cluster      & \\textbf{                     } &             \\\\\n",
       "\\bottomrule\n",
       "\\end{tabular}\n",
       "\\begin{tabular}{lcccccc}\n",
       "                                     & \\textbf{coef} & \\textbf{std err} & \\textbf{z} & \\textbf{P$> |$z$|$} & \\textbf{[0.025} & \\textbf{0.975]}  \\\\\n",
       "\\midrule\n",
       "\\textbf{const}                       &       0.5586  &        0.014     &    40.455  &         0.000        &        0.532    &        0.586     \\\\\n",
       "\\textbf{att\\_1\\_Eliminate2050}       &       0.0595  &        0.009     &     6.522  &         0.000        &        0.042    &        0.077     \\\\\n",
       "\\textbf{att\\_1\\_Reduce2030}          &       0.0724  &        0.010     &     7.533  &         0.000        &        0.054    &        0.091     \\\\\n",
       "\\textbf{att\\_2\\_EnergyAccess}        &       0.0639  &        0.010     &     6.365  &         0.000        &        0.044    &        0.084     \\\\\n",
       "\\textbf{att\\_2\\_InsureWorkers}       &       0.0724  &        0.010     &     7.041  &         0.000        &        0.052    &        0.093     \\\\\n",
       "\\textbf{att\\_2\\_LowPrices}           &       0.0754  &        0.010     &     7.516  &         0.000        &        0.056    &        0.095     \\\\\n",
       "\\textbf{att\\_3\\_IdentityCoalRegions} &       0.0340  &        0.011     &     3.211  &         0.001        &        0.013    &        0.055     \\\\\n",
       "\\textbf{att\\_3\\_IndustryCoalRegions} &       0.0625  &        0.010     &     6.069  &         0.000        &        0.042    &        0.083     \\\\\n",
       "\\textbf{att\\_3\\_WorkersCoalRegion}   &       0.0623  &        0.011     &     5.769  &         0.000        &        0.041    &        0.083     \\\\\n",
       "\\bottomrule\n",
       "\\end{tabular}\n",
       "\\begin{tabular}{lclc}\n",
       "\\textbf{Omnibus:}       & 25874.502 & \\textbf{  Durbin-Watson:     } &    1.302  \\\\\n",
       "\\textbf{Prob(Omnibus):} &    0.000  & \\textbf{  Jarque-Bera (JB):  } & 3088.840  \\\\\n",
       "\\textbf{Skew:}          &   -0.834  & \\textbf{  Prob(JB):          } &     0.00  \\\\\n",
       "\\textbf{Kurtosis:}      &    1.755  & \\textbf{  Cond. No.          } &     6.16  \\\\\n",
       "\\bottomrule\n",
       "\\end{tabular}\n",
       "%\\caption{OLS Regression Results}\n",
       "\\end{center}\n",
       "\n",
       "Notes: \\newline\n",
       " [1] Standard Errors are robust to cluster correlation (cluster)"
      ],
      "text/plain": [
       "<class 'statsmodels.iolib.summary.Summary'>\n",
       "\"\"\"\n",
       "                            OLS Regression Results                            \n",
       "==============================================================================\n",
       "Dep. Variable:                support   R-squared:                       0.012\n",
       "Model:                            OLS   Adj. R-squared:                  0.012\n",
       "Method:                 Least Squares   F-statistic:                     21.58\n",
       "Date:                Mon, 11 Sep 2023   Prob (F-statistic):           3.30e-31\n",
       "Time:                        11:08:53   Log-Likelihood:                -10897.\n",
       "No. Observations:               17112   AIC:                         2.181e+04\n",
       "Df Residuals:                   17103   BIC:                         2.188e+04\n",
       "Df Model:                           8                                         \n",
       "Covariance Type:              cluster                                         \n",
       "=============================================================================================\n",
       "                                coef    std err          z      P>|z|      [0.025      0.975]\n",
       "---------------------------------------------------------------------------------------------\n",
       "const                         0.5586      0.014     40.455      0.000       0.532       0.586\n",
       "att_1_Eliminate2050           0.0595      0.009      6.522      0.000       0.042       0.077\n",
       "att_1_Reduce2030              0.0724      0.010      7.533      0.000       0.054       0.091\n",
       "att_2_EnergyAccess            0.0639      0.010      6.365      0.000       0.044       0.084\n",
       "att_2_InsureWorkers           0.0724      0.010      7.041      0.000       0.052       0.093\n",
       "att_2_LowPrices               0.0754      0.010      7.516      0.000       0.056       0.095\n",
       "att_3_IdentityCoalRegions     0.0340      0.011      3.211      0.001       0.013       0.055\n",
       "att_3_IndustryCoalRegions     0.0625      0.010      6.069      0.000       0.042       0.083\n",
       "att_3_WorkersCoalRegion       0.0623      0.011      5.769      0.000       0.041       0.083\n",
       "==============================================================================\n",
       "Omnibus:                    25874.502   Durbin-Watson:                   1.302\n",
       "Prob(Omnibus):                  0.000   Jarque-Bera (JB):             3088.840\n",
       "Skew:                          -0.834   Prob(JB):                         0.00\n",
       "Kurtosis:                       1.755   Cond. No.                         6.16\n",
       "==============================================================================\n",
       "\n",
       "Notes:\n",
       "[1] Standard Errors are robust to cluster correlation (cluster)\n",
       "\"\"\""
      ]
     },
     "execution_count": 26,
     "metadata": {},
     "output_type": "execute_result"
    }
   ],
   "source": [
    "outcome = 'support'\n",
    "explanatory_vars = [col for col in df_total.columns if any(att in col for att in [\"att_1\", \"att_2\", \"att_3\"])]\n",
    "\n",
    "\n",
    "# Having a reference category for each att:\n",
    "to_remove = ['att_1_Eliminate2070', 'att_2_NothingSoc', 'att_3_NothingEco', 'att_4_GovAlone', 'att_5_NoInterference']\n",
    "explanatory_vars = [x for x in explanatory_vars if x not in to_remove]\n",
    "\n",
    "\n",
    "X = df_total[explanatory_vars].astype(int)\n",
    "y = df_total[outcome].astype(int)\n",
    "\n",
    "X = sm.add_constant(X)\n",
    "model = sm.OLS(y, X).fit(cov_type='cluster', cov_kwds={'groups':df_total['ID']})\n",
    "\n",
    "model.summary()"
   ]
  },
  {
   "cell_type": "markdown",
   "metadata": {},
   "source": [
    "#### regression 2_c"
   ]
  },
  {
   "cell_type": "code",
   "execution_count": 27,
   "metadata": {},
   "outputs": [
    {
     "data": {
      "text/html": [
       "<table class=\"simpletable\">\n",
       "<caption>OLS Regression Results</caption>\n",
       "<tr>\n",
       "  <th>Dep. Variable:</th>         <td>support</td>     <th>  R-squared:         </th> <td>   0.021</td> \n",
       "</tr>\n",
       "<tr>\n",
       "  <th>Model:</th>                   <td>OLS</td>       <th>  Adj. R-squared:    </th> <td>   0.020</td> \n",
       "</tr>\n",
       "<tr>\n",
       "  <th>Method:</th>             <td>Least Squares</td>  <th>  F-statistic:       </th> <td>   610.1</td> \n",
       "</tr>\n",
       "<tr>\n",
       "  <th>Date:</th>             <td>Mon, 11 Sep 2023</td> <th>  Prob (F-statistic):</th>  <td>  0.00</td>  \n",
       "</tr>\n",
       "<tr>\n",
       "  <th>Time:</th>                 <td>11:09:35</td>     <th>  Log-Likelihood:    </th> <td> -10822.</td> \n",
       "</tr>\n",
       "<tr>\n",
       "  <th>No. Observations:</th>      <td> 17112</td>      <th>  AIC:               </th> <td>2.168e+04</td>\n",
       "</tr>\n",
       "<tr>\n",
       "  <th>Df Residuals:</th>          <td> 17094</td>      <th>  BIC:               </th> <td>2.182e+04</td>\n",
       "</tr>\n",
       "<tr>\n",
       "  <th>Df Model:</th>              <td>    17</td>      <th>                     </th>     <td> </td>    \n",
       "</tr>\n",
       "<tr>\n",
       "  <th>Covariance Type:</th>       <td>cluster</td>     <th>                     </th>     <td> </td>    \n",
       "</tr>\n",
       "</table>\n",
       "<table class=\"simpletable\">\n",
       "<tr>\n",
       "              <td></td>                 <th>coef</th>     <th>std err</th>      <th>z</th>      <th>P>|z|</th>  <th>[0.025</th>    <th>0.975]</th>  \n",
       "</tr>\n",
       "<tr>\n",
       "  <th>const</th>                     <td>    0.4449</td> <td>    0.023</td> <td>   19.097</td> <td> 0.000</td> <td>    0.399</td> <td>    0.491</td>\n",
       "</tr>\n",
       "<tr>\n",
       "  <th>att_1_Eliminate2050</th>       <td>    0.0596</td> <td>    0.009</td> <td>    6.574</td> <td> 0.000</td> <td>    0.042</td> <td>    0.077</td>\n",
       "</tr>\n",
       "<tr>\n",
       "  <th>att_1_Reduce2030</th>          <td>    0.0718</td> <td>    0.010</td> <td>    7.472</td> <td> 0.000</td> <td>    0.053</td> <td>    0.091</td>\n",
       "</tr>\n",
       "<tr>\n",
       "  <th>att_2_EnergyAccess</th>        <td>    0.0634</td> <td>    0.010</td> <td>    6.351</td> <td> 0.000</td> <td>    0.044</td> <td>    0.083</td>\n",
       "</tr>\n",
       "<tr>\n",
       "  <th>att_2_InsureWorkers</th>       <td>    0.0725</td> <td>    0.010</td> <td>    7.078</td> <td> 0.000</td> <td>    0.052</td> <td>    0.093</td>\n",
       "</tr>\n",
       "<tr>\n",
       "  <th>att_2_LowPrices</th>           <td>    0.0752</td> <td>    0.010</td> <td>    7.509</td> <td> 0.000</td> <td>    0.056</td> <td>    0.095</td>\n",
       "</tr>\n",
       "<tr>\n",
       "  <th>att_3_IdentityCoalRegions</th> <td>    0.0342</td> <td>    0.011</td> <td>    3.239</td> <td> 0.001</td> <td>    0.014</td> <td>    0.055</td>\n",
       "</tr>\n",
       "<tr>\n",
       "  <th>att_3_IndustryCoalRegions</th> <td>    0.0624</td> <td>    0.010</td> <td>    6.093</td> <td> 0.000</td> <td>    0.042</td> <td>    0.082</td>\n",
       "</tr>\n",
       "<tr>\n",
       "  <th>att_3_WorkersCoalRegion</th>   <td>    0.0619</td> <td>    0.011</td> <td>    5.749</td> <td> 0.000</td> <td>    0.041</td> <td>    0.083</td>\n",
       "</tr>\n",
       "<tr>\n",
       "  <th>ageFilter</th>                 <td> 6.029e-05</td> <td>    0.001</td> <td>    0.104</td> <td> 0.917</td> <td>   -0.001</td> <td>    0.001</td>\n",
       "</tr>\n",
       "<tr>\n",
       "  <th>genderFilter</th>              <td>    0.0214</td> <td>    0.014</td> <td>    1.497</td> <td> 0.134</td> <td>   -0.007</td> <td>    0.049</td>\n",
       "</tr>\n",
       "<tr>\n",
       "  <th>urban</th>                     <td>    0.0458</td> <td>    0.015</td> <td>    3.148</td> <td> 0.002</td> <td>    0.017</td> <td>    0.074</td>\n",
       "</tr>\n",
       "<tr>\n",
       "  <th>district_NorthernZone</th>     <td>    0.0677</td> <td>    0.015</td> <td>    4.497</td> <td> 0.000</td> <td>    0.038</td> <td>    0.097</td>\n",
       "</tr>\n",
       "<tr>\n",
       "  <th>district_NorthEasternZone</th> <td>    0.0442</td> <td>    0.034</td> <td>    1.311</td> <td> 0.190</td> <td>   -0.022</td> <td>    0.110</td>\n",
       "</tr>\n",
       "<tr>\n",
       "  <th>district_CentralZone</th>      <td>    0.0352</td> <td>    0.025</td> <td>    1.403</td> <td> 0.160</td> <td>   -0.014</td> <td>    0.084</td>\n",
       "</tr>\n",
       "<tr>\n",
       "  <th>district_EasternZone</th>      <td>    0.1077</td> <td>    0.016</td> <td>    6.750</td> <td> 0.000</td> <td>    0.076</td> <td>    0.139</td>\n",
       "</tr>\n",
       "<tr>\n",
       "  <th>district_WesternZone</th>      <td>    0.1351</td> <td>    0.018</td> <td>    7.555</td> <td> 0.000</td> <td>    0.100</td> <td>    0.170</td>\n",
       "</tr>\n",
       "<tr>\n",
       "  <th>district_SouthernZone</th>     <td>    0.0550</td> <td>    0.015</td> <td>    3.694</td> <td> 0.000</td> <td>    0.026</td> <td>    0.084</td>\n",
       "</tr>\n",
       "<tr>\n",
       "  <th>treatment_status</th>          <td>   -0.0091</td> <td>    0.014</td> <td>   -0.650</td> <td> 0.515</td> <td>   -0.037</td> <td>    0.018</td>\n",
       "</tr>\n",
       "</table>\n",
       "<table class=\"simpletable\">\n",
       "<tr>\n",
       "  <th>Omnibus:</th>       <td>21005.399</td> <th>  Durbin-Watson:     </th> <td>   1.312</td>\n",
       "</tr>\n",
       "<tr>\n",
       "  <th>Prob(Omnibus):</th>  <td> 0.000</td>   <th>  Jarque-Bera (JB):  </th> <td>2997.322</td>\n",
       "</tr>\n",
       "<tr>\n",
       "  <th>Skew:</th>           <td>-0.822</td>   <th>  Prob(JB):          </th> <td>    0.00</td>\n",
       "</tr>\n",
       "<tr>\n",
       "  <th>Kurtosis:</th>       <td> 1.774</td>   <th>  Cond. No.          </th> <td>2.89e+17</td>\n",
       "</tr>\n",
       "</table><br/><br/>Notes:<br/>[1] Standard Errors are robust to cluster correlation (cluster)<br/>[2] The smallest eigenvalue is 3.16e-28. This might indicate that there are<br/>strong multicollinearity problems or that the design matrix is singular."
      ],
      "text/latex": [
       "\\begin{center}\n",
       "\\begin{tabular}{lclc}\n",
       "\\toprule\n",
       "\\textbf{Dep. Variable:}              &     support      & \\textbf{  R-squared:         } &     0.021   \\\\\n",
       "\\textbf{Model:}                      &       OLS        & \\textbf{  Adj. R-squared:    } &     0.020   \\\\\n",
       "\\textbf{Method:}                     &  Least Squares   & \\textbf{  F-statistic:       } &     610.1   \\\\\n",
       "\\textbf{Date:}                       & Mon, 11 Sep 2023 & \\textbf{  Prob (F-statistic):} &     0.00    \\\\\n",
       "\\textbf{Time:}                       &     11:09:35     & \\textbf{  Log-Likelihood:    } &   -10822.   \\\\\n",
       "\\textbf{No. Observations:}           &       17112      & \\textbf{  AIC:               } & 2.168e+04   \\\\\n",
       "\\textbf{Df Residuals:}               &       17094      & \\textbf{  BIC:               } & 2.182e+04   \\\\\n",
       "\\textbf{Df Model:}                   &          17      & \\textbf{                     } &             \\\\\n",
       "\\textbf{Covariance Type:}            &     cluster      & \\textbf{                     } &             \\\\\n",
       "\\bottomrule\n",
       "\\end{tabular}\n",
       "\\begin{tabular}{lcccccc}\n",
       "                                     & \\textbf{coef} & \\textbf{std err} & \\textbf{z} & \\textbf{P$> |$z$|$} & \\textbf{[0.025} & \\textbf{0.975]}  \\\\\n",
       "\\midrule\n",
       "\\textbf{const}                       &       0.4449  &        0.023     &    19.097  &         0.000        &        0.399    &        0.491     \\\\\n",
       "\\textbf{att\\_1\\_Eliminate2050}       &       0.0596  &        0.009     &     6.574  &         0.000        &        0.042    &        0.077     \\\\\n",
       "\\textbf{att\\_1\\_Reduce2030}          &       0.0718  &        0.010     &     7.472  &         0.000        &        0.053    &        0.091     \\\\\n",
       "\\textbf{att\\_2\\_EnergyAccess}        &       0.0634  &        0.010     &     6.351  &         0.000        &        0.044    &        0.083     \\\\\n",
       "\\textbf{att\\_2\\_InsureWorkers}       &       0.0725  &        0.010     &     7.078  &         0.000        &        0.052    &        0.093     \\\\\n",
       "\\textbf{att\\_2\\_LowPrices}           &       0.0752  &        0.010     &     7.509  &         0.000        &        0.056    &        0.095     \\\\\n",
       "\\textbf{att\\_3\\_IdentityCoalRegions} &       0.0342  &        0.011     &     3.239  &         0.001        &        0.014    &        0.055     \\\\\n",
       "\\textbf{att\\_3\\_IndustryCoalRegions} &       0.0624  &        0.010     &     6.093  &         0.000        &        0.042    &        0.082     \\\\\n",
       "\\textbf{att\\_3\\_WorkersCoalRegion}   &       0.0619  &        0.011     &     5.749  &         0.000        &        0.041    &        0.083     \\\\\n",
       "\\textbf{ageFilter}                   &    6.029e-05  &        0.001     &     0.104  &         0.917        &       -0.001    &        0.001     \\\\\n",
       "\\textbf{genderFilter}                &       0.0214  &        0.014     &     1.497  &         0.134        &       -0.007    &        0.049     \\\\\n",
       "\\textbf{urban}                       &       0.0458  &        0.015     &     3.148  &         0.002        &        0.017    &        0.074     \\\\\n",
       "\\textbf{district\\_NorthernZone}      &       0.0677  &        0.015     &     4.497  &         0.000        &        0.038    &        0.097     \\\\\n",
       "\\textbf{district\\_NorthEasternZone}  &       0.0442  &        0.034     &     1.311  &         0.190        &       -0.022    &        0.110     \\\\\n",
       "\\textbf{district\\_CentralZone}       &       0.0352  &        0.025     &     1.403  &         0.160        &       -0.014    &        0.084     \\\\\n",
       "\\textbf{district\\_EasternZone}       &       0.1077  &        0.016     &     6.750  &         0.000        &        0.076    &        0.139     \\\\\n",
       "\\textbf{district\\_WesternZone}       &       0.1351  &        0.018     &     7.555  &         0.000        &        0.100    &        0.170     \\\\\n",
       "\\textbf{district\\_SouthernZone}      &       0.0550  &        0.015     &     3.694  &         0.000        &        0.026    &        0.084     \\\\\n",
       "\\textbf{treatment\\_status}           &      -0.0091  &        0.014     &    -0.650  &         0.515        &       -0.037    &        0.018     \\\\\n",
       "\\bottomrule\n",
       "\\end{tabular}\n",
       "\\begin{tabular}{lclc}\n",
       "\\textbf{Omnibus:}       & 21005.399 & \\textbf{  Durbin-Watson:     } &    1.312  \\\\\n",
       "\\textbf{Prob(Omnibus):} &    0.000  & \\textbf{  Jarque-Bera (JB):  } & 2997.322  \\\\\n",
       "\\textbf{Skew:}          &   -0.822  & \\textbf{  Prob(JB):          } &     0.00  \\\\\n",
       "\\textbf{Kurtosis:}      &    1.774  & \\textbf{  Cond. No.          } & 2.89e+17  \\\\\n",
       "\\bottomrule\n",
       "\\end{tabular}\n",
       "%\\caption{OLS Regression Results}\n",
       "\\end{center}\n",
       "\n",
       "Notes: \\newline\n",
       " [1] Standard Errors are robust to cluster correlation (cluster) \\newline\n",
       " [2] The smallest eigenvalue is 3.16e-28. This might indicate that there are \\newline\n",
       " strong multicollinearity problems or that the design matrix is singular."
      ],
      "text/plain": [
       "<class 'statsmodels.iolib.summary.Summary'>\n",
       "\"\"\"\n",
       "                            OLS Regression Results                            \n",
       "==============================================================================\n",
       "Dep. Variable:                support   R-squared:                       0.021\n",
       "Model:                            OLS   Adj. R-squared:                  0.020\n",
       "Method:                 Least Squares   F-statistic:                     610.1\n",
       "Date:                Mon, 11 Sep 2023   Prob (F-statistic):               0.00\n",
       "Time:                        11:09:35   Log-Likelihood:                -10822.\n",
       "No. Observations:               17112   AIC:                         2.168e+04\n",
       "Df Residuals:                   17094   BIC:                         2.182e+04\n",
       "Df Model:                          17                                         \n",
       "Covariance Type:              cluster                                         \n",
       "=============================================================================================\n",
       "                                coef    std err          z      P>|z|      [0.025      0.975]\n",
       "---------------------------------------------------------------------------------------------\n",
       "const                         0.4449      0.023     19.097      0.000       0.399       0.491\n",
       "att_1_Eliminate2050           0.0596      0.009      6.574      0.000       0.042       0.077\n",
       "att_1_Reduce2030              0.0718      0.010      7.472      0.000       0.053       0.091\n",
       "att_2_EnergyAccess            0.0634      0.010      6.351      0.000       0.044       0.083\n",
       "att_2_InsureWorkers           0.0725      0.010      7.078      0.000       0.052       0.093\n",
       "att_2_LowPrices               0.0752      0.010      7.509      0.000       0.056       0.095\n",
       "att_3_IdentityCoalRegions     0.0342      0.011      3.239      0.001       0.014       0.055\n",
       "att_3_IndustryCoalRegions     0.0624      0.010      6.093      0.000       0.042       0.082\n",
       "att_3_WorkersCoalRegion       0.0619      0.011      5.749      0.000       0.041       0.083\n",
       "ageFilter                  6.029e-05      0.001      0.104      0.917      -0.001       0.001\n",
       "genderFilter                  0.0214      0.014      1.497      0.134      -0.007       0.049\n",
       "urban                         0.0458      0.015      3.148      0.002       0.017       0.074\n",
       "district_NorthernZone         0.0677      0.015      4.497      0.000       0.038       0.097\n",
       "district_NorthEasternZone     0.0442      0.034      1.311      0.190      -0.022       0.110\n",
       "district_CentralZone          0.0352      0.025      1.403      0.160      -0.014       0.084\n",
       "district_EasternZone          0.1077      0.016      6.750      0.000       0.076       0.139\n",
       "district_WesternZone          0.1351      0.018      7.555      0.000       0.100       0.170\n",
       "district_SouthernZone         0.0550      0.015      3.694      0.000       0.026       0.084\n",
       "treatment_status             -0.0091      0.014     -0.650      0.515      -0.037       0.018\n",
       "==============================================================================\n",
       "Omnibus:                    21005.399   Durbin-Watson:                   1.312\n",
       "Prob(Omnibus):                  0.000   Jarque-Bera (JB):             2997.322\n",
       "Skew:                          -0.822   Prob(JB):                         0.00\n",
       "Kurtosis:                       1.774   Cond. No.                     2.89e+17\n",
       "==============================================================================\n",
       "\n",
       "Notes:\n",
       "[1] Standard Errors are robust to cluster correlation (cluster)\n",
       "[2] The smallest eigenvalue is 3.16e-28. This might indicate that there are\n",
       "strong multicollinearity problems or that the design matrix is singular.\n",
       "\"\"\""
      ]
     },
     "execution_count": 27,
     "metadata": {},
     "output_type": "execute_result"
    }
   ],
   "source": [
    "outcome = 'support'\n",
    "explanatory_vars = [col for col in df_total.columns if any(att in col for att in [\"att_1\", \"att_2\", \"att_3\"])] + ['ageFilter', 'genderFilter', 'urban', 'district_NorthernZone', \n",
    "                                                                        'district_NorthEasternZone', 'district_CentralZone', 'district_EasternZone',\n",
    "                                                                        'district_WesternZone', 'district_SouthernZone', 'treatment_status']\n",
    "\n",
    "# Having a reference category for each att:\n",
    "to_remove = ['att_1_Eliminate2070', 'att_2_NothingSoc', 'att_3_NothingEco', 'att_4_GovAlone', 'att_5_NoInterference']\n",
    "explanatory_vars = [x for x in explanatory_vars if x not in to_remove]\n",
    "\n",
    "\n",
    "X = df_total[explanatory_vars].astype(int)\n",
    "y = df_total[outcome].astype(int)\n",
    "\n",
    "X = sm.add_constant(X)\n",
    "model = sm.OLS(y, X).fit(cov_type='cluster', cov_kwds={'groups':df_total['ID']})\n",
    "\n",
    "model.summary()"
   ]
  },
  {
   "cell_type": "markdown",
   "metadata": {},
   "source": [
    "#### regression 3"
   ]
  },
  {
   "cell_type": "code",
   "execution_count": 31,
   "metadata": {},
   "outputs": [
    {
     "data": {
      "text/html": [
       "<table class=\"simpletable\">\n",
       "<caption>OLS Regression Results</caption>\n",
       "<tr>\n",
       "  <th>Dep. Variable:</th>         <td>support</td>     <th>  R-squared:         </th> <td>   0.018</td> \n",
       "</tr>\n",
       "<tr>\n",
       "  <th>Model:</th>                   <td>OLS</td>       <th>  Adj. R-squared:    </th> <td>   0.017</td> \n",
       "</tr>\n",
       "<tr>\n",
       "  <th>Method:</th>             <td>Least Squares</td>  <th>  F-statistic:       </th> <td>   16.35</td> \n",
       "</tr>\n",
       "<tr>\n",
       "  <th>Date:</th>             <td>Mon, 11 Sep 2023</td> <th>  Prob (F-statistic):</th> <td>3.11e-42</td> \n",
       "</tr>\n",
       "<tr>\n",
       "  <th>Time:</th>                 <td>11:11:08</td>     <th>  Log-Likelihood:    </th> <td> -10846.</td> \n",
       "</tr>\n",
       "<tr>\n",
       "  <th>No. Observations:</th>      <td> 17112</td>      <th>  AIC:               </th> <td>2.173e+04</td>\n",
       "</tr>\n",
       "<tr>\n",
       "  <th>Df Residuals:</th>          <td> 17095</td>      <th>  BIC:               </th> <td>2.186e+04</td>\n",
       "</tr>\n",
       "<tr>\n",
       "  <th>Df Model:</th>              <td>    16</td>      <th>                     </th>     <td> </td>    \n",
       "</tr>\n",
       "<tr>\n",
       "  <th>Covariance Type:</th>       <td>cluster</td>     <th>                     </th>     <td> </td>    \n",
       "</tr>\n",
       "</table>\n",
       "<table class=\"simpletable\">\n",
       "<tr>\n",
       "              <td></td>                 <th>coef</th>     <th>std err</th>      <th>z</th>      <th>P>|z|</th>  <th>[0.025</th>    <th>0.975]</th>  \n",
       "</tr>\n",
       "<tr>\n",
       "  <th>const</th>                     <td>    0.5002</td> <td>    0.018</td> <td>   28.002</td> <td> 0.000</td> <td>    0.465</td> <td>    0.535</td>\n",
       "</tr>\n",
       "<tr>\n",
       "  <th>att_1_Eliminate2050</th>       <td>    0.0586</td> <td>    0.009</td> <td>    6.433</td> <td> 0.000</td> <td>    0.041</td> <td>    0.076</td>\n",
       "</tr>\n",
       "<tr>\n",
       "  <th>att_1_Reduce2030</th>          <td>    0.0713</td> <td>    0.010</td> <td>    7.421</td> <td> 0.000</td> <td>    0.052</td> <td>    0.090</td>\n",
       "</tr>\n",
       "<tr>\n",
       "  <th>att_2_EnergyAccess</th>        <td>    0.0633</td> <td>    0.010</td> <td>    6.312</td> <td> 0.000</td> <td>    0.044</td> <td>    0.083</td>\n",
       "</tr>\n",
       "<tr>\n",
       "  <th>att_2_InsureWorkers</th>       <td>    0.0722</td> <td>    0.010</td> <td>    7.041</td> <td> 0.000</td> <td>    0.052</td> <td>    0.092</td>\n",
       "</tr>\n",
       "<tr>\n",
       "  <th>att_2_LowPrices</th>           <td>    0.0755</td> <td>    0.010</td> <td>    7.524</td> <td> 0.000</td> <td>    0.056</td> <td>    0.095</td>\n",
       "</tr>\n",
       "<tr>\n",
       "  <th>att_3_IdentityCoalRegions</th> <td>    0.0337</td> <td>    0.011</td> <td>    3.193</td> <td> 0.001</td> <td>    0.013</td> <td>    0.054</td>\n",
       "</tr>\n",
       "<tr>\n",
       "  <th>att_3_IndustryCoalRegions</th> <td>    0.0609</td> <td>    0.010</td> <td>    5.937</td> <td> 0.000</td> <td>    0.041</td> <td>    0.081</td>\n",
       "</tr>\n",
       "<tr>\n",
       "  <th>att_3_WorkersCoalRegion</th>   <td>    0.0608</td> <td>    0.011</td> <td>    5.647</td> <td> 0.000</td> <td>    0.040</td> <td>    0.082</td>\n",
       "</tr>\n",
       "<tr>\n",
       "  <th>att_4_Gov&Businesses</th>      <td>    0.0223</td> <td>    0.012</td> <td>    1.801</td> <td> 0.072</td> <td>   -0.002</td> <td>    0.046</td>\n",
       "</tr>\n",
       "<tr>\n",
       "  <th>att_4_Gov&CivilSociety</th>    <td>    0.0402</td> <td>    0.012</td> <td>    3.231</td> <td> 0.001</td> <td>    0.016</td> <td>    0.065</td>\n",
       "</tr>\n",
       "<tr>\n",
       "  <th>att_4_Gov&LaborUnions</th>     <td>    0.0352</td> <td>    0.013</td> <td>    2.777</td> <td> 0.005</td> <td>    0.010</td> <td>    0.060</td>\n",
       "</tr>\n",
       "<tr>\n",
       "  <th>att_4_Gov&LocalGov</th>        <td>    0.0460</td> <td>    0.013</td> <td>    3.659</td> <td> 0.000</td> <td>    0.021</td> <td>    0.071</td>\n",
       "</tr>\n",
       "<tr>\n",
       "  <th>att_4_Gov&Researchers</th>     <td>    0.0409</td> <td>    0.012</td> <td>    3.306</td> <td> 0.001</td> <td>    0.017</td> <td>    0.065</td>\n",
       "</tr>\n",
       "<tr>\n",
       "  <th>att_5_Fin&TechSupport</th>     <td>    0.0820</td> <td>    0.011</td> <td>    7.596</td> <td> 0.000</td> <td>    0.061</td> <td>    0.103</td>\n",
       "</tr>\n",
       "<tr>\n",
       "  <th>att_5_FinSupportOnly</th>      <td>    0.0196</td> <td>    0.011</td> <td>    1.831</td> <td> 0.067</td> <td>   -0.001</td> <td>    0.041</td>\n",
       "</tr>\n",
       "<tr>\n",
       "  <th>att_5_TechSupportOnly</th>     <td>    0.0162</td> <td>    0.011</td> <td>    1.535</td> <td> 0.125</td> <td>   -0.004</td> <td>    0.037</td>\n",
       "</tr>\n",
       "</table>\n",
       "<table class=\"simpletable\">\n",
       "<tr>\n",
       "  <th>Omnibus:</th>       <td>22318.467</td> <th>  Durbin-Watson:     </th> <td>   1.300</td>\n",
       "</tr>\n",
       "<tr>\n",
       "  <th>Prob(Omnibus):</th>  <td> 0.000</td>   <th>  Jarque-Bera (JB):  </th> <td>3028.544</td>\n",
       "</tr>\n",
       "<tr>\n",
       "  <th>Skew:</th>           <td>-0.826</td>   <th>  Prob(JB):          </th> <td>    0.00</td>\n",
       "</tr>\n",
       "<tr>\n",
       "  <th>Kurtosis:</th>       <td> 1.768</td>   <th>  Cond. No.          </th> <td>    9.29</td>\n",
       "</tr>\n",
       "</table><br/><br/>Notes:<br/>[1] Standard Errors are robust to cluster correlation (cluster)"
      ],
      "text/latex": [
       "\\begin{center}\n",
       "\\begin{tabular}{lclc}\n",
       "\\toprule\n",
       "\\textbf{Dep. Variable:}              &     support      & \\textbf{  R-squared:         } &     0.018   \\\\\n",
       "\\textbf{Model:}                      &       OLS        & \\textbf{  Adj. R-squared:    } &     0.017   \\\\\n",
       "\\textbf{Method:}                     &  Least Squares   & \\textbf{  F-statistic:       } &     16.35   \\\\\n",
       "\\textbf{Date:}                       & Mon, 11 Sep 2023 & \\textbf{  Prob (F-statistic):} &  3.11e-42   \\\\\n",
       "\\textbf{Time:}                       &     11:11:08     & \\textbf{  Log-Likelihood:    } &   -10846.   \\\\\n",
       "\\textbf{No. Observations:}           &       17112      & \\textbf{  AIC:               } & 2.173e+04   \\\\\n",
       "\\textbf{Df Residuals:}               &       17095      & \\textbf{  BIC:               } & 2.186e+04   \\\\\n",
       "\\textbf{Df Model:}                   &          16      & \\textbf{                     } &             \\\\\n",
       "\\textbf{Covariance Type:}            &     cluster      & \\textbf{                     } &             \\\\\n",
       "\\bottomrule\n",
       "\\end{tabular}\n",
       "\\begin{tabular}{lcccccc}\n",
       "                                     & \\textbf{coef} & \\textbf{std err} & \\textbf{z} & \\textbf{P$> |$z$|$} & \\textbf{[0.025} & \\textbf{0.975]}  \\\\\n",
       "\\midrule\n",
       "\\textbf{const}                       &       0.5002  &        0.018     &    28.002  &         0.000        &        0.465    &        0.535     \\\\\n",
       "\\textbf{att\\_1\\_Eliminate2050}       &       0.0586  &        0.009     &     6.433  &         0.000        &        0.041    &        0.076     \\\\\n",
       "\\textbf{att\\_1\\_Reduce2030}          &       0.0713  &        0.010     &     7.421  &         0.000        &        0.052    &        0.090     \\\\\n",
       "\\textbf{att\\_2\\_EnergyAccess}        &       0.0633  &        0.010     &     6.312  &         0.000        &        0.044    &        0.083     \\\\\n",
       "\\textbf{att\\_2\\_InsureWorkers}       &       0.0722  &        0.010     &     7.041  &         0.000        &        0.052    &        0.092     \\\\\n",
       "\\textbf{att\\_2\\_LowPrices}           &       0.0755  &        0.010     &     7.524  &         0.000        &        0.056    &        0.095     \\\\\n",
       "\\textbf{att\\_3\\_IdentityCoalRegions} &       0.0337  &        0.011     &     3.193  &         0.001        &        0.013    &        0.054     \\\\\n",
       "\\textbf{att\\_3\\_IndustryCoalRegions} &       0.0609  &        0.010     &     5.937  &         0.000        &        0.041    &        0.081     \\\\\n",
       "\\textbf{att\\_3\\_WorkersCoalRegion}   &       0.0608  &        0.011     &     5.647  &         0.000        &        0.040    &        0.082     \\\\\n",
       "\\textbf{att\\_4\\_Gov\\&Businesses}     &       0.0223  &        0.012     &     1.801  &         0.072        &       -0.002    &        0.046     \\\\\n",
       "\\textbf{att\\_4\\_Gov\\&CivilSociety}   &       0.0402  &        0.012     &     3.231  &         0.001        &        0.016    &        0.065     \\\\\n",
       "\\textbf{att\\_4\\_Gov\\&LaborUnions}    &       0.0352  &        0.013     &     2.777  &         0.005        &        0.010    &        0.060     \\\\\n",
       "\\textbf{att\\_4\\_Gov\\&LocalGov}       &       0.0460  &        0.013     &     3.659  &         0.000        &        0.021    &        0.071     \\\\\n",
       "\\textbf{att\\_4\\_Gov\\&Researchers}    &       0.0409  &        0.012     &     3.306  &         0.001        &        0.017    &        0.065     \\\\\n",
       "\\textbf{att\\_5\\_Fin\\&TechSupport}    &       0.0820  &        0.011     &     7.596  &         0.000        &        0.061    &        0.103     \\\\\n",
       "\\textbf{att\\_5\\_FinSupportOnly}      &       0.0196  &        0.011     &     1.831  &         0.067        &       -0.001    &        0.041     \\\\\n",
       "\\textbf{att\\_5\\_TechSupportOnly}     &       0.0162  &        0.011     &     1.535  &         0.125        &       -0.004    &        0.037     \\\\\n",
       "\\bottomrule\n",
       "\\end{tabular}\n",
       "\\begin{tabular}{lclc}\n",
       "\\textbf{Omnibus:}       & 22318.467 & \\textbf{  Durbin-Watson:     } &    1.300  \\\\\n",
       "\\textbf{Prob(Omnibus):} &    0.000  & \\textbf{  Jarque-Bera (JB):  } & 3028.544  \\\\\n",
       "\\textbf{Skew:}          &   -0.826  & \\textbf{  Prob(JB):          } &     0.00  \\\\\n",
       "\\textbf{Kurtosis:}      &    1.768  & \\textbf{  Cond. No.          } &     9.29  \\\\\n",
       "\\bottomrule\n",
       "\\end{tabular}\n",
       "%\\caption{OLS Regression Results}\n",
       "\\end{center}\n",
       "\n",
       "Notes: \\newline\n",
       " [1] Standard Errors are robust to cluster correlation (cluster)"
      ],
      "text/plain": [
       "<class 'statsmodels.iolib.summary.Summary'>\n",
       "\"\"\"\n",
       "                            OLS Regression Results                            \n",
       "==============================================================================\n",
       "Dep. Variable:                support   R-squared:                       0.018\n",
       "Model:                            OLS   Adj. R-squared:                  0.017\n",
       "Method:                 Least Squares   F-statistic:                     16.35\n",
       "Date:                Mon, 11 Sep 2023   Prob (F-statistic):           3.11e-42\n",
       "Time:                        11:11:08   Log-Likelihood:                -10846.\n",
       "No. Observations:               17112   AIC:                         2.173e+04\n",
       "Df Residuals:                   17095   BIC:                         2.186e+04\n",
       "Df Model:                          16                                         \n",
       "Covariance Type:              cluster                                         \n",
       "=============================================================================================\n",
       "                                coef    std err          z      P>|z|      [0.025      0.975]\n",
       "---------------------------------------------------------------------------------------------\n",
       "const                         0.5002      0.018     28.002      0.000       0.465       0.535\n",
       "att_1_Eliminate2050           0.0586      0.009      6.433      0.000       0.041       0.076\n",
       "att_1_Reduce2030              0.0713      0.010      7.421      0.000       0.052       0.090\n",
       "att_2_EnergyAccess            0.0633      0.010      6.312      0.000       0.044       0.083\n",
       "att_2_InsureWorkers           0.0722      0.010      7.041      0.000       0.052       0.092\n",
       "att_2_LowPrices               0.0755      0.010      7.524      0.000       0.056       0.095\n",
       "att_3_IdentityCoalRegions     0.0337      0.011      3.193      0.001       0.013       0.054\n",
       "att_3_IndustryCoalRegions     0.0609      0.010      5.937      0.000       0.041       0.081\n",
       "att_3_WorkersCoalRegion       0.0608      0.011      5.647      0.000       0.040       0.082\n",
       "att_4_Gov&Businesses          0.0223      0.012      1.801      0.072      -0.002       0.046\n",
       "att_4_Gov&CivilSociety        0.0402      0.012      3.231      0.001       0.016       0.065\n",
       "att_4_Gov&LaborUnions         0.0352      0.013      2.777      0.005       0.010       0.060\n",
       "att_4_Gov&LocalGov            0.0460      0.013      3.659      0.000       0.021       0.071\n",
       "att_4_Gov&Researchers         0.0409      0.012      3.306      0.001       0.017       0.065\n",
       "att_5_Fin&TechSupport         0.0820      0.011      7.596      0.000       0.061       0.103\n",
       "att_5_FinSupportOnly          0.0196      0.011      1.831      0.067      -0.001       0.041\n",
       "att_5_TechSupportOnly         0.0162      0.011      1.535      0.125      -0.004       0.037\n",
       "==============================================================================\n",
       "Omnibus:                    22318.467   Durbin-Watson:                   1.300\n",
       "Prob(Omnibus):                  0.000   Jarque-Bera (JB):             3028.544\n",
       "Skew:                          -0.826   Prob(JB):                         0.00\n",
       "Kurtosis:                       1.768   Cond. No.                         9.29\n",
       "==============================================================================\n",
       "\n",
       "Notes:\n",
       "[1] Standard Errors are robust to cluster correlation (cluster)\n",
       "\"\"\""
      ]
     },
     "execution_count": 31,
     "metadata": {},
     "output_type": "execute_result"
    }
   ],
   "source": [
    "outcome = 'support'\n",
    "explanatory_vars = [col for col in df_total.columns if \"att\" in col]\n",
    "\n",
    "# Having a reference category for each att:\n",
    "to_remove = ['att_1_Eliminate2070', 'att_2_NothingSoc', 'att_3_NothingEco', 'att_4_GovAlone', 'att_5_NoInterference']\n",
    "explanatory_vars = [x for x in explanatory_vars if x not in to_remove]\n",
    "\n",
    "\n",
    "X = df_total[explanatory_vars].astype(int)\n",
    "y = df_total[outcome].astype(int)\n",
    "\n",
    "X = sm.add_constant(X)\n",
    "model = sm.OLS(y, X).fit(cov_type='cluster', cov_kwds={'groups':df_total['ID']})\n",
    "\n",
    "model.summary()"
   ]
  },
  {
   "cell_type": "markdown",
   "metadata": {},
   "source": [
    "#### regression 3_c"
   ]
  },
  {
   "cell_type": "code",
   "execution_count": 64,
   "metadata": {},
   "outputs": [
    {
     "data": {
      "text/html": [
       "<table class=\"simpletable\">\n",
       "<caption>OLS Regression Results</caption>\n",
       "<tr>\n",
       "  <th>Dep. Variable:</th>         <td>support</td>     <th>  R-squared:         </th> <td>   0.063</td> \n",
       "</tr>\n",
       "<tr>\n",
       "  <th>Model:</th>                   <td>OLS</td>       <th>  Adj. R-squared:    </th> <td>   0.061</td> \n",
       "</tr>\n",
       "<tr>\n",
       "  <th>Method:</th>             <td>Least Squares</td>  <th>  F-statistic:       </th> <td>   503.0</td> \n",
       "</tr>\n",
       "<tr>\n",
       "  <th>Date:</th>             <td>Mon, 11 Sep 2023</td> <th>  Prob (F-statistic):</th>  <td>  0.00</td>  \n",
       "</tr>\n",
       "<tr>\n",
       "  <th>Time:</th>                 <td>13:31:24</td>     <th>  Log-Likelihood:    </th> <td> -10449.</td> \n",
       "</tr>\n",
       "<tr>\n",
       "  <th>No. Observations:</th>      <td> 17112</td>      <th>  AIC:               </th> <td>2.095e+04</td>\n",
       "</tr>\n",
       "<tr>\n",
       "  <th>Df Residuals:</th>          <td> 17084</td>      <th>  BIC:               </th> <td>2.117e+04</td>\n",
       "</tr>\n",
       "<tr>\n",
       "  <th>Df Model:</th>              <td>    27</td>      <th>                     </th>     <td> </td>    \n",
       "</tr>\n",
       "<tr>\n",
       "  <th>Covariance Type:</th>       <td>cluster</td>     <th>                     </th>     <td> </td>    \n",
       "</tr>\n",
       "</table>\n",
       "<table class=\"simpletable\">\n",
       "<tr>\n",
       "              <td></td>                 <th>coef</th>     <th>std err</th>      <th>z</th>      <th>P>|z|</th>  <th>[0.025</th>    <th>0.975]</th>  \n",
       "</tr>\n",
       "<tr>\n",
       "  <th>const</th>                     <td>    0.2264</td> <td>    0.027</td> <td>    8.321</td> <td> 0.000</td> <td>    0.173</td> <td>    0.280</td>\n",
       "</tr>\n",
       "<tr>\n",
       "  <th>att_1_Eliminate2050</th>       <td>    0.0585</td> <td>    0.009</td> <td>    6.585</td> <td> 0.000</td> <td>    0.041</td> <td>    0.076</td>\n",
       "</tr>\n",
       "<tr>\n",
       "  <th>att_1_Reduce2030</th>          <td>    0.0714</td> <td>    0.009</td> <td>    7.557</td> <td> 0.000</td> <td>    0.053</td> <td>    0.090</td>\n",
       "</tr>\n",
       "<tr>\n",
       "  <th>att_2_EnergyAccess</th>        <td>    0.0651</td> <td>    0.010</td> <td>    6.596</td> <td> 0.000</td> <td>    0.046</td> <td>    0.084</td>\n",
       "</tr>\n",
       "<tr>\n",
       "  <th>att_2_InsureWorkers</th>       <td>    0.0787</td> <td>    0.010</td> <td>    7.871</td> <td> 0.000</td> <td>    0.059</td> <td>    0.098</td>\n",
       "</tr>\n",
       "<tr>\n",
       "  <th>att_2_LowPrices</th>           <td>    0.0771</td> <td>    0.010</td> <td>    7.887</td> <td> 0.000</td> <td>    0.058</td> <td>    0.096</td>\n",
       "</tr>\n",
       "<tr>\n",
       "  <th>att_3_IdentityCoalRegions</th> <td>    0.0360</td> <td>    0.010</td> <td>    3.484</td> <td> 0.000</td> <td>    0.016</td> <td>    0.056</td>\n",
       "</tr>\n",
       "<tr>\n",
       "  <th>att_3_IndustryCoalRegions</th> <td>    0.0623</td> <td>    0.010</td> <td>    6.255</td> <td> 0.000</td> <td>    0.043</td> <td>    0.082</td>\n",
       "</tr>\n",
       "<tr>\n",
       "  <th>att_3_WorkersCoalRegion</th>   <td>    0.0607</td> <td>    0.011</td> <td>    5.765</td> <td> 0.000</td> <td>    0.040</td> <td>    0.081</td>\n",
       "</tr>\n",
       "<tr>\n",
       "  <th>att_4_Gov&Businesses</th>      <td>    0.0210</td> <td>    0.012</td> <td>    1.730</td> <td> 0.084</td> <td>   -0.003</td> <td>    0.045</td>\n",
       "</tr>\n",
       "<tr>\n",
       "  <th>att_4_Gov&CivilSociety</th>    <td>    0.0389</td> <td>    0.012</td> <td>    3.152</td> <td> 0.002</td> <td>    0.015</td> <td>    0.063</td>\n",
       "</tr>\n",
       "<tr>\n",
       "  <th>att_4_Gov&LaborUnions</th>     <td>    0.0324</td> <td>    0.012</td> <td>    2.597</td> <td> 0.009</td> <td>    0.008</td> <td>    0.057</td>\n",
       "</tr>\n",
       "<tr>\n",
       "  <th>att_4_Gov&LocalGov</th>        <td>    0.0455</td> <td>    0.012</td> <td>    3.668</td> <td> 0.000</td> <td>    0.021</td> <td>    0.070</td>\n",
       "</tr>\n",
       "<tr>\n",
       "  <th>att_4_Gov&Researchers</th>     <td>    0.0437</td> <td>    0.012</td> <td>    3.564</td> <td> 0.000</td> <td>    0.020</td> <td>    0.068</td>\n",
       "</tr>\n",
       "<tr>\n",
       "  <th>att_5_Fin&TechSupport</th>     <td>    0.0819</td> <td>    0.011</td> <td>    7.649</td> <td> 0.000</td> <td>    0.061</td> <td>    0.103</td>\n",
       "</tr>\n",
       "<tr>\n",
       "  <th>att_5_FinSupportOnly</th>      <td>    0.0209</td> <td>    0.010</td> <td>    2.008</td> <td> 0.045</td> <td>    0.000</td> <td>    0.041</td>\n",
       "</tr>\n",
       "<tr>\n",
       "  <th>att_5_TechSupportOnly</th>     <td>    0.0179</td> <td>    0.010</td> <td>    1.745</td> <td> 0.081</td> <td>   -0.002</td> <td>    0.038</td>\n",
       "</tr>\n",
       "<tr>\n",
       "  <th>ageFilter</th>                 <td>   -0.0002</td> <td>    0.001</td> <td>   -0.281</td> <td> 0.778</td> <td>   -0.001</td> <td>    0.001</td>\n",
       "</tr>\n",
       "<tr>\n",
       "  <th>genderFilter</th>              <td>    0.0199</td> <td>    0.014</td> <td>    1.469</td> <td> 0.142</td> <td>   -0.007</td> <td>    0.047</td>\n",
       "</tr>\n",
       "<tr>\n",
       "  <th>urban</th>                     <td>    0.0330</td> <td>    0.014</td> <td>    2.368</td> <td> 0.018</td> <td>    0.006</td> <td>    0.060</td>\n",
       "</tr>\n",
       "<tr>\n",
       "  <th>district_NorthernZone</th>     <td>    0.0152</td> <td>    0.015</td> <td>    1.034</td> <td> 0.301</td> <td>   -0.014</td> <td>    0.044</td>\n",
       "</tr>\n",
       "<tr>\n",
       "  <th>district_NorthEasternZone</th> <td>    0.0400</td> <td>    0.030</td> <td>    1.312</td> <td> 0.189</td> <td>   -0.020</td> <td>    0.100</td>\n",
       "</tr>\n",
       "<tr>\n",
       "  <th>district_CentralZone</th>      <td>    0.0038</td> <td>    0.023</td> <td>    0.166</td> <td> 0.868</td> <td>   -0.041</td> <td>    0.049</td>\n",
       "</tr>\n",
       "<tr>\n",
       "  <th>district_EasternZone</th>      <td>    0.0475</td> <td>    0.015</td> <td>    3.176</td> <td> 0.001</td> <td>    0.018</td> <td>    0.077</td>\n",
       "</tr>\n",
       "<tr>\n",
       "  <th>district_WesternZone</th>      <td>    0.0936</td> <td>    0.017</td> <td>    5.457</td> <td> 0.000</td> <td>    0.060</td> <td>    0.127</td>\n",
       "</tr>\n",
       "<tr>\n",
       "  <th>district_SouthernZone</th>     <td>    0.0264</td> <td>    0.015</td> <td>    1.818</td> <td> 0.069</td> <td>   -0.002</td> <td>    0.055</td>\n",
       "</tr>\n",
       "<tr>\n",
       "  <th>treatment_status</th>          <td>   -0.0106</td> <td>    0.013</td> <td>   -0.805</td> <td> 0.421</td> <td>   -0.036</td> <td>    0.015</td>\n",
       "</tr>\n",
       "<tr>\n",
       "  <th>trust_ID</th>                  <td>    0.2275</td> <td>    0.022</td> <td>   10.251</td> <td> 0.000</td> <td>    0.184</td> <td>    0.271</td>\n",
       "</tr>\n",
       "<tr>\n",
       "  <th>aware</th>                     <td>    0.0700</td> <td>    0.015</td> <td>    4.797</td> <td> 0.000</td> <td>    0.041</td> <td>    0.099</td>\n",
       "</tr>\n",
       "</table>\n",
       "<table class=\"simpletable\">\n",
       "<tr>\n",
       "  <th>Omnibus:</th>       <td>7536.002</td> <th>  Durbin-Watson:     </th> <td>   1.350</td>\n",
       "</tr>\n",
       "<tr>\n",
       "  <th>Prob(Omnibus):</th>  <td> 0.000</td>  <th>  Jarque-Bera (JB):  </th> <td>2598.510</td>\n",
       "</tr>\n",
       "<tr>\n",
       "  <th>Skew:</th>           <td>-0.788</td>  <th>  Prob(JB):          </th> <td>    0.00</td>\n",
       "</tr>\n",
       "<tr>\n",
       "  <th>Kurtosis:</th>       <td> 1.922</td>  <th>  Cond. No.          </th> <td>1.20e+17</td>\n",
       "</tr>\n",
       "</table><br/><br/>Notes:<br/>[1] Standard Errors are robust to cluster correlation (cluster)<br/>[2] The smallest eigenvalue is 1.83e-27. This might indicate that there are<br/>strong multicollinearity problems or that the design matrix is singular."
      ],
      "text/latex": [
       "\\begin{center}\n",
       "\\begin{tabular}{lclc}\n",
       "\\toprule\n",
       "\\textbf{Dep. Variable:}              &     support      & \\textbf{  R-squared:         } &     0.063   \\\\\n",
       "\\textbf{Model:}                      &       OLS        & \\textbf{  Adj. R-squared:    } &     0.061   \\\\\n",
       "\\textbf{Method:}                     &  Least Squares   & \\textbf{  F-statistic:       } &     503.0   \\\\\n",
       "\\textbf{Date:}                       & Mon, 11 Sep 2023 & \\textbf{  Prob (F-statistic):} &     0.00    \\\\\n",
       "\\textbf{Time:}                       &     13:31:24     & \\textbf{  Log-Likelihood:    } &   -10449.   \\\\\n",
       "\\textbf{No. Observations:}           &       17112      & \\textbf{  AIC:               } & 2.095e+04   \\\\\n",
       "\\textbf{Df Residuals:}               &       17084      & \\textbf{  BIC:               } & 2.117e+04   \\\\\n",
       "\\textbf{Df Model:}                   &          27      & \\textbf{                     } &             \\\\\n",
       "\\textbf{Covariance Type:}            &     cluster      & \\textbf{                     } &             \\\\\n",
       "\\bottomrule\n",
       "\\end{tabular}\n",
       "\\begin{tabular}{lcccccc}\n",
       "                                     & \\textbf{coef} & \\textbf{std err} & \\textbf{z} & \\textbf{P$> |$z$|$} & \\textbf{[0.025} & \\textbf{0.975]}  \\\\\n",
       "\\midrule\n",
       "\\textbf{const}                       &       0.2264  &        0.027     &     8.321  &         0.000        &        0.173    &        0.280     \\\\\n",
       "\\textbf{att\\_1\\_Eliminate2050}       &       0.0585  &        0.009     &     6.585  &         0.000        &        0.041    &        0.076     \\\\\n",
       "\\textbf{att\\_1\\_Reduce2030}          &       0.0714  &        0.009     &     7.557  &         0.000        &        0.053    &        0.090     \\\\\n",
       "\\textbf{att\\_2\\_EnergyAccess}        &       0.0651  &        0.010     &     6.596  &         0.000        &        0.046    &        0.084     \\\\\n",
       "\\textbf{att\\_2\\_InsureWorkers}       &       0.0787  &        0.010     &     7.871  &         0.000        &        0.059    &        0.098     \\\\\n",
       "\\textbf{att\\_2\\_LowPrices}           &       0.0771  &        0.010     &     7.887  &         0.000        &        0.058    &        0.096     \\\\\n",
       "\\textbf{att\\_3\\_IdentityCoalRegions} &       0.0360  &        0.010     &     3.484  &         0.000        &        0.016    &        0.056     \\\\\n",
       "\\textbf{att\\_3\\_IndustryCoalRegions} &       0.0623  &        0.010     &     6.255  &         0.000        &        0.043    &        0.082     \\\\\n",
       "\\textbf{att\\_3\\_WorkersCoalRegion}   &       0.0607  &        0.011     &     5.765  &         0.000        &        0.040    &        0.081     \\\\\n",
       "\\textbf{att\\_4\\_Gov\\&Businesses}     &       0.0210  &        0.012     &     1.730  &         0.084        &       -0.003    &        0.045     \\\\\n",
       "\\textbf{att\\_4\\_Gov\\&CivilSociety}   &       0.0389  &        0.012     &     3.152  &         0.002        &        0.015    &        0.063     \\\\\n",
       "\\textbf{att\\_4\\_Gov\\&LaborUnions}    &       0.0324  &        0.012     &     2.597  &         0.009        &        0.008    &        0.057     \\\\\n",
       "\\textbf{att\\_4\\_Gov\\&LocalGov}       &       0.0455  &        0.012     &     3.668  &         0.000        &        0.021    &        0.070     \\\\\n",
       "\\textbf{att\\_4\\_Gov\\&Researchers}    &       0.0437  &        0.012     &     3.564  &         0.000        &        0.020    &        0.068     \\\\\n",
       "\\textbf{att\\_5\\_Fin\\&TechSupport}    &       0.0819  &        0.011     &     7.649  &         0.000        &        0.061    &        0.103     \\\\\n",
       "\\textbf{att\\_5\\_FinSupportOnly}      &       0.0209  &        0.010     &     2.008  &         0.045        &        0.000    &        0.041     \\\\\n",
       "\\textbf{att\\_5\\_TechSupportOnly}     &       0.0179  &        0.010     &     1.745  &         0.081        &       -0.002    &        0.038     \\\\\n",
       "\\textbf{ageFilter}                   &      -0.0002  &        0.001     &    -0.281  &         0.778        &       -0.001    &        0.001     \\\\\n",
       "\\textbf{genderFilter}                &       0.0199  &        0.014     &     1.469  &         0.142        &       -0.007    &        0.047     \\\\\n",
       "\\textbf{urban}                       &       0.0330  &        0.014     &     2.368  &         0.018        &        0.006    &        0.060     \\\\\n",
       "\\textbf{district\\_NorthernZone}      &       0.0152  &        0.015     &     1.034  &         0.301        &       -0.014    &        0.044     \\\\\n",
       "\\textbf{district\\_NorthEasternZone}  &       0.0400  &        0.030     &     1.312  &         0.189        &       -0.020    &        0.100     \\\\\n",
       "\\textbf{district\\_CentralZone}       &       0.0038  &        0.023     &     0.166  &         0.868        &       -0.041    &        0.049     \\\\\n",
       "\\textbf{district\\_EasternZone}       &       0.0475  &        0.015     &     3.176  &         0.001        &        0.018    &        0.077     \\\\\n",
       "\\textbf{district\\_WesternZone}       &       0.0936  &        0.017     &     5.457  &         0.000        &        0.060    &        0.127     \\\\\n",
       "\\textbf{district\\_SouthernZone}      &       0.0264  &        0.015     &     1.818  &         0.069        &       -0.002    &        0.055     \\\\\n",
       "\\textbf{treatment\\_status}           &      -0.0106  &        0.013     &    -0.805  &         0.421        &       -0.036    &        0.015     \\\\\n",
       "\\textbf{trust\\_ID}                   &       0.2275  &        0.022     &    10.251  &         0.000        &        0.184    &        0.271     \\\\\n",
       "\\textbf{aware}                       &       0.0700  &        0.015     &     4.797  &         0.000        &        0.041    &        0.099     \\\\\n",
       "\\bottomrule\n",
       "\\end{tabular}\n",
       "\\begin{tabular}{lclc}\n",
       "\\textbf{Omnibus:}       & 7536.002 & \\textbf{  Durbin-Watson:     } &    1.350  \\\\\n",
       "\\textbf{Prob(Omnibus):} &   0.000  & \\textbf{  Jarque-Bera (JB):  } & 2598.510  \\\\\n",
       "\\textbf{Skew:}          &  -0.788  & \\textbf{  Prob(JB):          } &     0.00  \\\\\n",
       "\\textbf{Kurtosis:}      &   1.922  & \\textbf{  Cond. No.          } & 1.20e+17  \\\\\n",
       "\\bottomrule\n",
       "\\end{tabular}\n",
       "%\\caption{OLS Regression Results}\n",
       "\\end{center}\n",
       "\n",
       "Notes: \\newline\n",
       " [1] Standard Errors are robust to cluster correlation (cluster) \\newline\n",
       " [2] The smallest eigenvalue is 1.83e-27. This might indicate that there are \\newline\n",
       " strong multicollinearity problems or that the design matrix is singular."
      ],
      "text/plain": [
       "<class 'statsmodels.iolib.summary.Summary'>\n",
       "\"\"\"\n",
       "                            OLS Regression Results                            \n",
       "==============================================================================\n",
       "Dep. Variable:                support   R-squared:                       0.063\n",
       "Model:                            OLS   Adj. R-squared:                  0.061\n",
       "Method:                 Least Squares   F-statistic:                     503.0\n",
       "Date:                Mon, 11 Sep 2023   Prob (F-statistic):               0.00\n",
       "Time:                        13:31:24   Log-Likelihood:                -10449.\n",
       "No. Observations:               17112   AIC:                         2.095e+04\n",
       "Df Residuals:                   17084   BIC:                         2.117e+04\n",
       "Df Model:                          27                                         \n",
       "Covariance Type:              cluster                                         \n",
       "=============================================================================================\n",
       "                                coef    std err          z      P>|z|      [0.025      0.975]\n",
       "---------------------------------------------------------------------------------------------\n",
       "const                         0.2264      0.027      8.321      0.000       0.173       0.280\n",
       "att_1_Eliminate2050           0.0585      0.009      6.585      0.000       0.041       0.076\n",
       "att_1_Reduce2030              0.0714      0.009      7.557      0.000       0.053       0.090\n",
       "att_2_EnergyAccess            0.0651      0.010      6.596      0.000       0.046       0.084\n",
       "att_2_InsureWorkers           0.0787      0.010      7.871      0.000       0.059       0.098\n",
       "att_2_LowPrices               0.0771      0.010      7.887      0.000       0.058       0.096\n",
       "att_3_IdentityCoalRegions     0.0360      0.010      3.484      0.000       0.016       0.056\n",
       "att_3_IndustryCoalRegions     0.0623      0.010      6.255      0.000       0.043       0.082\n",
       "att_3_WorkersCoalRegion       0.0607      0.011      5.765      0.000       0.040       0.081\n",
       "att_4_Gov&Businesses          0.0210      0.012      1.730      0.084      -0.003       0.045\n",
       "att_4_Gov&CivilSociety        0.0389      0.012      3.152      0.002       0.015       0.063\n",
       "att_4_Gov&LaborUnions         0.0324      0.012      2.597      0.009       0.008       0.057\n",
       "att_4_Gov&LocalGov            0.0455      0.012      3.668      0.000       0.021       0.070\n",
       "att_4_Gov&Researchers         0.0437      0.012      3.564      0.000       0.020       0.068\n",
       "att_5_Fin&TechSupport         0.0819      0.011      7.649      0.000       0.061       0.103\n",
       "att_5_FinSupportOnly          0.0209      0.010      2.008      0.045       0.000       0.041\n",
       "att_5_TechSupportOnly         0.0179      0.010      1.745      0.081      -0.002       0.038\n",
       "ageFilter                    -0.0002      0.001     -0.281      0.778      -0.001       0.001\n",
       "genderFilter                  0.0199      0.014      1.469      0.142      -0.007       0.047\n",
       "urban                         0.0330      0.014      2.368      0.018       0.006       0.060\n",
       "district_NorthernZone         0.0152      0.015      1.034      0.301      -0.014       0.044\n",
       "district_NorthEasternZone     0.0400      0.030      1.312      0.189      -0.020       0.100\n",
       "district_CentralZone          0.0038      0.023      0.166      0.868      -0.041       0.049\n",
       "district_EasternZone          0.0475      0.015      3.176      0.001       0.018       0.077\n",
       "district_WesternZone          0.0936      0.017      5.457      0.000       0.060       0.127\n",
       "district_SouthernZone         0.0264      0.015      1.818      0.069      -0.002       0.055\n",
       "treatment_status             -0.0106      0.013     -0.805      0.421      -0.036       0.015\n",
       "trust_ID                      0.2275      0.022     10.251      0.000       0.184       0.271\n",
       "aware                         0.0700      0.015      4.797      0.000       0.041       0.099\n",
       "==============================================================================\n",
       "Omnibus:                     7536.002   Durbin-Watson:                   1.350\n",
       "Prob(Omnibus):                  0.000   Jarque-Bera (JB):             2598.510\n",
       "Skew:                          -0.788   Prob(JB):                         0.00\n",
       "Kurtosis:                       1.922   Cond. No.                     1.20e+17\n",
       "==============================================================================\n",
       "\n",
       "Notes:\n",
       "[1] Standard Errors are robust to cluster correlation (cluster)\n",
       "[2] The smallest eigenvalue is 1.83e-27. This might indicate that there are\n",
       "strong multicollinearity problems or that the design matrix is singular.\n",
       "\"\"\""
      ]
     },
     "execution_count": 64,
     "metadata": {},
     "output_type": "execute_result"
    }
   ],
   "source": [
    "outcome = 'support'\n",
    "explanatory_vars = [col for col in df_total.columns if \"att\" in col] +  ['ageFilter', 'genderFilter', 'urban', 'district_NorthernZone', \n",
    "                                                                        'district_NorthEasternZone', 'district_CentralZone', 'district_EasternZone',\n",
    "                                                                        'district_WesternZone', 'district_SouthernZone', 'treatment_status', 'trust_ID',\n",
    "                                                                        'aware']\n",
    "\n",
    "# Having a reference category for each att:\n",
    "to_remove = ['att_1_Eliminate2070', 'att_2_NothingSoc', 'att_3_NothingEco', 'att_4_GovAlone', 'att_5_NoInterference']\n",
    "explanatory_vars = [x for x in explanatory_vars if x not in to_remove]\n",
    "\n",
    "\n",
    "X = df_total[explanatory_vars].astype(int)\n",
    "y = df_total[outcome].astype(int)\n",
    "\n",
    "X = sm.add_constant(X)\n",
    "model = sm.OLS(y, X).fit(cov_type='cluster', cov_kwds={'groups':df_total['ID']})\n",
    "\n",
    "model.summary()"
   ]
  },
  {
   "cell_type": "code",
   "execution_count": 68,
   "metadata": {},
   "outputs": [
    {
     "data": {
      "text/plain": [
       "0.06277283959006974"
      ]
     },
     "execution_count": 68,
     "metadata": {},
     "output_type": "execute_result"
    }
   ],
   "source": [
    "model.rsquared"
   ]
  },
  {
   "cell_type": "code",
   "execution_count": 58,
   "metadata": {},
   "outputs": [
    {
     "data": {
      "application/vnd.plotly.v1+json": {
       "config": {
        "plotlyServerURL": "https://plot.ly"
       },
       "data": [
        {
         "error_x": {
          "array": [
           0.02125889792644639,
           0.0209194080727881,
           0.020561691805429154,
           0
          ],
          "color": "red",
          "thickness": 1.5,
          "type": "data"
         },
         "marker": {
          "color": "#36454F",
          "size": 10
         },
         "mode": "markers",
         "orientation": "h",
         "showlegend": false,
         "type": "scatter",
         "x": [
          0.08148463427060273,
          0.01839421519010111,
          0.016585416957567295,
          0
         ],
         "y": [
          "Fin&TechSupport",
          "FinSupportOnly",
          "TechSupportOnly",
          "NoInterference"
         ]
        },
        {
         "error_x": {
          "array": [
           0.0243172361606994,
           0.024147688830808933,
           0.024188917202895156,
           0.024838889678234055,
           0.02465243343035127,
           0
          ],
          "color": "blue",
          "thickness": 1.5,
          "type": "data"
         },
         "marker": {
          "color": "#36454F",
          "size": 10
         },
         "mode": "markers",
         "orientation": "h",
         "showlegend": false,
         "type": "scatter",
         "x": [
          0.04029087606088778,
          0.041921523119848605,
          0.021958707895595377,
          0.03568824304700658,
          0.04589800456910034,
          0
         ],
         "y": [
          "Gov&CivilSociety",
          "Gov&Researchers",
          "Gov&Businesses",
          "Gov&LaborUnions",
          "Gov&LocalGov",
          "GovAlone"
         ]
        },
        {
         "error_x": {
          "array": [
           0.020732496664142574,
           0.02007657028756238,
           0.021124062444309685,
           0
          ],
          "color": "green",
          "thickness": 1.5,
          "type": "data"
         },
         "marker": {
          "color": "#36454F",
          "size": 10
         },
         "mode": "markers",
         "orientation": "h",
         "showlegend": false,
         "type": "scatter",
         "x": [
          0.03393119091482788,
          0.06080298241559208,
          0.06037619846776801,
          0
         ],
         "y": [
          "IdentityCoalRegions",
          "IndustryCoalRegions",
          "WorkersCoalRegion",
          "NothingEco"
         ]
        },
        {
         "error_x": {
          "array": [
           0.019713861798185222,
           0.020111315076548293,
           0.019648845621614335,
           0
          ],
          "color": "#F08000",
          "thickness": 1.5,
          "type": "data"
         },
         "marker": {
          "color": "#36454F",
          "size": 10
         },
         "mode": "markers",
         "orientation": "h",
         "showlegend": false,
         "type": "scatter",
         "x": [
          0.07523567874585135,
          0.07227558757358345,
          0.062815339009038,
          0
         ],
         "y": [
          "LowPrices",
          "InsureWorkers",
          "EnergyAccess",
          "NothingSoc"
         ]
        },
        {
         "error_x": {
          "array": [
           0.018894351077282476,
           0.017851084348078413,
           0
          ],
          "color": "purple",
          "thickness": 1.5,
          "type": "data"
         },
         "marker": {
          "color": "#36454F",
          "size": 10
         },
         "mode": "markers",
         "orientation": "h",
         "showlegend": false,
         "type": "scatter",
         "x": [
          0.0706022334712521,
          0.05877637769173566,
          0
         ],
         "y": [
          "Reduce2030",
          "Eliminate2050",
          "Eliminate2070"
         ]
        }
       ],
       "layout": {
        "height": 800,
        "margin": {
         "b": 40,
         "l": 80,
         "r": 30,
         "t": 80
        },
        "paper_bgcolor": "#EADDCA",
        "plot_bgcolor": "rgba(0,0,0,0)",
        "shapes": [
         {
          "fillcolor": "red",
          "layer": "below",
          "opacity": 0.1,
          "type": "rect",
          "x0": -1,
          "x1": 1,
          "y0": 0,
          "y1": 3
         },
         {
          "fillcolor": "blue",
          "layer": "below",
          "opacity": 0.1,
          "type": "rect",
          "x0": -1,
          "x1": 1,
          "y0": 4,
          "y1": 9
         },
         {
          "fillcolor": "green",
          "layer": "below",
          "opacity": 0.1,
          "type": "rect",
          "x0": -1,
          "x1": 1,
          "y0": 10,
          "y1": 13
         },
         {
          "fillcolor": "#F08000",
          "layer": "below",
          "opacity": 0.1,
          "type": "rect",
          "x0": -1,
          "x1": 1,
          "y0": 14,
          "y1": 17
         },
         {
          "fillcolor": "purple",
          "layer": "below",
          "opacity": 0.1,
          "type": "rect",
          "x0": -1,
          "x1": 1,
          "y0": 18,
          "y1": 20
         },
         {
          "line": {
           "color": "gray",
           "dash": "dash",
           "width": 1
          },
          "type": "line",
          "x0": 0,
          "x1": 0,
          "y0": "Fin&TechSupport",
          "y1": "Eliminate2070"
         }
        ],
        "showlegend": true,
        "template": {
         "data": {
          "bar": [
           {
            "error_x": {
             "color": "#2a3f5f"
            },
            "error_y": {
             "color": "#2a3f5f"
            },
            "marker": {
             "line": {
              "color": "#E5ECF6",
              "width": 0.5
             },
             "pattern": {
              "fillmode": "overlay",
              "size": 10,
              "solidity": 0.2
             }
            },
            "type": "bar"
           }
          ],
          "barpolar": [
           {
            "marker": {
             "line": {
              "color": "#E5ECF6",
              "width": 0.5
             },
             "pattern": {
              "fillmode": "overlay",
              "size": 10,
              "solidity": 0.2
             }
            },
            "type": "barpolar"
           }
          ],
          "carpet": [
           {
            "aaxis": {
             "endlinecolor": "#2a3f5f",
             "gridcolor": "white",
             "linecolor": "white",
             "minorgridcolor": "white",
             "startlinecolor": "#2a3f5f"
            },
            "baxis": {
             "endlinecolor": "#2a3f5f",
             "gridcolor": "white",
             "linecolor": "white",
             "minorgridcolor": "white",
             "startlinecolor": "#2a3f5f"
            },
            "type": "carpet"
           }
          ],
          "choropleth": [
           {
            "colorbar": {
             "outlinewidth": 0,
             "ticks": ""
            },
            "type": "choropleth"
           }
          ],
          "contour": [
           {
            "colorbar": {
             "outlinewidth": 0,
             "ticks": ""
            },
            "colorscale": [
             [
              0,
              "#0d0887"
             ],
             [
              0.1111111111111111,
              "#46039f"
             ],
             [
              0.2222222222222222,
              "#7201a8"
             ],
             [
              0.3333333333333333,
              "#9c179e"
             ],
             [
              0.4444444444444444,
              "#bd3786"
             ],
             [
              0.5555555555555556,
              "#d8576b"
             ],
             [
              0.6666666666666666,
              "#ed7953"
             ],
             [
              0.7777777777777778,
              "#fb9f3a"
             ],
             [
              0.8888888888888888,
              "#fdca26"
             ],
             [
              1,
              "#f0f921"
             ]
            ],
            "type": "contour"
           }
          ],
          "contourcarpet": [
           {
            "colorbar": {
             "outlinewidth": 0,
             "ticks": ""
            },
            "type": "contourcarpet"
           }
          ],
          "heatmap": [
           {
            "colorbar": {
             "outlinewidth": 0,
             "ticks": ""
            },
            "colorscale": [
             [
              0,
              "#0d0887"
             ],
             [
              0.1111111111111111,
              "#46039f"
             ],
             [
              0.2222222222222222,
              "#7201a8"
             ],
             [
              0.3333333333333333,
              "#9c179e"
             ],
             [
              0.4444444444444444,
              "#bd3786"
             ],
             [
              0.5555555555555556,
              "#d8576b"
             ],
             [
              0.6666666666666666,
              "#ed7953"
             ],
             [
              0.7777777777777778,
              "#fb9f3a"
             ],
             [
              0.8888888888888888,
              "#fdca26"
             ],
             [
              1,
              "#f0f921"
             ]
            ],
            "type": "heatmap"
           }
          ],
          "heatmapgl": [
           {
            "colorbar": {
             "outlinewidth": 0,
             "ticks": ""
            },
            "colorscale": [
             [
              0,
              "#0d0887"
             ],
             [
              0.1111111111111111,
              "#46039f"
             ],
             [
              0.2222222222222222,
              "#7201a8"
             ],
             [
              0.3333333333333333,
              "#9c179e"
             ],
             [
              0.4444444444444444,
              "#bd3786"
             ],
             [
              0.5555555555555556,
              "#d8576b"
             ],
             [
              0.6666666666666666,
              "#ed7953"
             ],
             [
              0.7777777777777778,
              "#fb9f3a"
             ],
             [
              0.8888888888888888,
              "#fdca26"
             ],
             [
              1,
              "#f0f921"
             ]
            ],
            "type": "heatmapgl"
           }
          ],
          "histogram": [
           {
            "marker": {
             "pattern": {
              "fillmode": "overlay",
              "size": 10,
              "solidity": 0.2
             }
            },
            "type": "histogram"
           }
          ],
          "histogram2d": [
           {
            "colorbar": {
             "outlinewidth": 0,
             "ticks": ""
            },
            "colorscale": [
             [
              0,
              "#0d0887"
             ],
             [
              0.1111111111111111,
              "#46039f"
             ],
             [
              0.2222222222222222,
              "#7201a8"
             ],
             [
              0.3333333333333333,
              "#9c179e"
             ],
             [
              0.4444444444444444,
              "#bd3786"
             ],
             [
              0.5555555555555556,
              "#d8576b"
             ],
             [
              0.6666666666666666,
              "#ed7953"
             ],
             [
              0.7777777777777778,
              "#fb9f3a"
             ],
             [
              0.8888888888888888,
              "#fdca26"
             ],
             [
              1,
              "#f0f921"
             ]
            ],
            "type": "histogram2d"
           }
          ],
          "histogram2dcontour": [
           {
            "colorbar": {
             "outlinewidth": 0,
             "ticks": ""
            },
            "colorscale": [
             [
              0,
              "#0d0887"
             ],
             [
              0.1111111111111111,
              "#46039f"
             ],
             [
              0.2222222222222222,
              "#7201a8"
             ],
             [
              0.3333333333333333,
              "#9c179e"
             ],
             [
              0.4444444444444444,
              "#bd3786"
             ],
             [
              0.5555555555555556,
              "#d8576b"
             ],
             [
              0.6666666666666666,
              "#ed7953"
             ],
             [
              0.7777777777777778,
              "#fb9f3a"
             ],
             [
              0.8888888888888888,
              "#fdca26"
             ],
             [
              1,
              "#f0f921"
             ]
            ],
            "type": "histogram2dcontour"
           }
          ],
          "mesh3d": [
           {
            "colorbar": {
             "outlinewidth": 0,
             "ticks": ""
            },
            "type": "mesh3d"
           }
          ],
          "parcoords": [
           {
            "line": {
             "colorbar": {
              "outlinewidth": 0,
              "ticks": ""
             }
            },
            "type": "parcoords"
           }
          ],
          "pie": [
           {
            "automargin": true,
            "type": "pie"
           }
          ],
          "scatter": [
           {
            "fillpattern": {
             "fillmode": "overlay",
             "size": 10,
             "solidity": 0.2
            },
            "type": "scatter"
           }
          ],
          "scatter3d": [
           {
            "line": {
             "colorbar": {
              "outlinewidth": 0,
              "ticks": ""
             }
            },
            "marker": {
             "colorbar": {
              "outlinewidth": 0,
              "ticks": ""
             }
            },
            "type": "scatter3d"
           }
          ],
          "scattercarpet": [
           {
            "marker": {
             "colorbar": {
              "outlinewidth": 0,
              "ticks": ""
             }
            },
            "type": "scattercarpet"
           }
          ],
          "scattergeo": [
           {
            "marker": {
             "colorbar": {
              "outlinewidth": 0,
              "ticks": ""
             }
            },
            "type": "scattergeo"
           }
          ],
          "scattergl": [
           {
            "marker": {
             "colorbar": {
              "outlinewidth": 0,
              "ticks": ""
             }
            },
            "type": "scattergl"
           }
          ],
          "scattermapbox": [
           {
            "marker": {
             "colorbar": {
              "outlinewidth": 0,
              "ticks": ""
             }
            },
            "type": "scattermapbox"
           }
          ],
          "scatterpolar": [
           {
            "marker": {
             "colorbar": {
              "outlinewidth": 0,
              "ticks": ""
             }
            },
            "type": "scatterpolar"
           }
          ],
          "scatterpolargl": [
           {
            "marker": {
             "colorbar": {
              "outlinewidth": 0,
              "ticks": ""
             }
            },
            "type": "scatterpolargl"
           }
          ],
          "scatterternary": [
           {
            "marker": {
             "colorbar": {
              "outlinewidth": 0,
              "ticks": ""
             }
            },
            "type": "scatterternary"
           }
          ],
          "surface": [
           {
            "colorbar": {
             "outlinewidth": 0,
             "ticks": ""
            },
            "colorscale": [
             [
              0,
              "#0d0887"
             ],
             [
              0.1111111111111111,
              "#46039f"
             ],
             [
              0.2222222222222222,
              "#7201a8"
             ],
             [
              0.3333333333333333,
              "#9c179e"
             ],
             [
              0.4444444444444444,
              "#bd3786"
             ],
             [
              0.5555555555555556,
              "#d8576b"
             ],
             [
              0.6666666666666666,
              "#ed7953"
             ],
             [
              0.7777777777777778,
              "#fb9f3a"
             ],
             [
              0.8888888888888888,
              "#fdca26"
             ],
             [
              1,
              "#f0f921"
             ]
            ],
            "type": "surface"
           }
          ],
          "table": [
           {
            "cells": {
             "fill": {
              "color": "#EBF0F8"
             },
             "line": {
              "color": "white"
             }
            },
            "header": {
             "fill": {
              "color": "#C8D4E3"
             },
             "line": {
              "color": "white"
             }
            },
            "type": "table"
           }
          ]
         },
         "layout": {
          "annotationdefaults": {
           "arrowcolor": "#2a3f5f",
           "arrowhead": 0,
           "arrowwidth": 1
          },
          "autotypenumbers": "strict",
          "coloraxis": {
           "colorbar": {
            "outlinewidth": 0,
            "ticks": ""
           }
          },
          "colorscale": {
           "diverging": [
            [
             0,
             "#8e0152"
            ],
            [
             0.1,
             "#c51b7d"
            ],
            [
             0.2,
             "#de77ae"
            ],
            [
             0.3,
             "#f1b6da"
            ],
            [
             0.4,
             "#fde0ef"
            ],
            [
             0.5,
             "#f7f7f7"
            ],
            [
             0.6,
             "#e6f5d0"
            ],
            [
             0.7,
             "#b8e186"
            ],
            [
             0.8,
             "#7fbc41"
            ],
            [
             0.9,
             "#4d9221"
            ],
            [
             1,
             "#276419"
            ]
           ],
           "sequential": [
            [
             0,
             "#0d0887"
            ],
            [
             0.1111111111111111,
             "#46039f"
            ],
            [
             0.2222222222222222,
             "#7201a8"
            ],
            [
             0.3333333333333333,
             "#9c179e"
            ],
            [
             0.4444444444444444,
             "#bd3786"
            ],
            [
             0.5555555555555556,
             "#d8576b"
            ],
            [
             0.6666666666666666,
             "#ed7953"
            ],
            [
             0.7777777777777778,
             "#fb9f3a"
            ],
            [
             0.8888888888888888,
             "#fdca26"
            ],
            [
             1,
             "#f0f921"
            ]
           ],
           "sequentialminus": [
            [
             0,
             "#0d0887"
            ],
            [
             0.1111111111111111,
             "#46039f"
            ],
            [
             0.2222222222222222,
             "#7201a8"
            ],
            [
             0.3333333333333333,
             "#9c179e"
            ],
            [
             0.4444444444444444,
             "#bd3786"
            ],
            [
             0.5555555555555556,
             "#d8576b"
            ],
            [
             0.6666666666666666,
             "#ed7953"
            ],
            [
             0.7777777777777778,
             "#fb9f3a"
            ],
            [
             0.8888888888888888,
             "#fdca26"
            ],
            [
             1,
             "#f0f921"
            ]
           ]
          },
          "colorway": [
           "#636efa",
           "#EF553B",
           "#00cc96",
           "#ab63fa",
           "#FFA15A",
           "#19d3f3",
           "#FF6692",
           "#B6E880",
           "#FF97FF",
           "#FECB52"
          ],
          "font": {
           "color": "#2a3f5f"
          },
          "geo": {
           "bgcolor": "white",
           "lakecolor": "white",
           "landcolor": "#E5ECF6",
           "showlakes": true,
           "showland": true,
           "subunitcolor": "white"
          },
          "hoverlabel": {
           "align": "left"
          },
          "hovermode": "closest",
          "mapbox": {
           "style": "light"
          },
          "paper_bgcolor": "white",
          "plot_bgcolor": "#E5ECF6",
          "polar": {
           "angularaxis": {
            "gridcolor": "white",
            "linecolor": "white",
            "ticks": ""
           },
           "bgcolor": "#E5ECF6",
           "radialaxis": {
            "gridcolor": "white",
            "linecolor": "white",
            "ticks": ""
           }
          },
          "scene": {
           "xaxis": {
            "backgroundcolor": "#E5ECF6",
            "gridcolor": "white",
            "gridwidth": 2,
            "linecolor": "white",
            "showbackground": true,
            "ticks": "",
            "zerolinecolor": "white"
           },
           "yaxis": {
            "backgroundcolor": "#E5ECF6",
            "gridcolor": "white",
            "gridwidth": 2,
            "linecolor": "white",
            "showbackground": true,
            "ticks": "",
            "zerolinecolor": "white"
           },
           "zaxis": {
            "backgroundcolor": "#E5ECF6",
            "gridcolor": "white",
            "gridwidth": 2,
            "linecolor": "white",
            "showbackground": true,
            "ticks": "",
            "zerolinecolor": "white"
           }
          },
          "shapedefaults": {
           "line": {
            "color": "#2a3f5f"
           }
          },
          "ternary": {
           "aaxis": {
            "gridcolor": "white",
            "linecolor": "white",
            "ticks": ""
           },
           "baxis": {
            "gridcolor": "white",
            "linecolor": "white",
            "ticks": ""
           },
           "bgcolor": "#E5ECF6",
           "caxis": {
            "gridcolor": "white",
            "linecolor": "white",
            "ticks": ""
           }
          },
          "title": {
           "x": 0.05
          },
          "xaxis": {
           "automargin": true,
           "gridcolor": "white",
           "linecolor": "white",
           "ticks": "",
           "title": {
            "standoff": 15
           },
           "zerolinecolor": "white",
           "zerolinewidth": 2
          },
          "yaxis": {
           "automargin": true,
           "gridcolor": "white",
           "linecolor": "white",
           "ticks": "",
           "title": {
            "standoff": 15
           },
           "zerolinecolor": "white",
           "zerolinewidth": 2
          }
         }
        },
        "title": {
         "font": {
          "family": "Computer Modern"
         },
         "text": "Fig 2: on support for policy attributes",
         "x": 0.5,
         "xanchor": "center"
        },
        "width": 1000,
        "xaxis": {
         "range": [
          -0.3,
          0.3
         ],
         "tickformat": ".2f",
         "title": {
          "text": "AMCE on support (0-1)"
         },
         "zeroline": false
        },
        "yaxis": {
         "categoryarray": [
          "Fin&TechSupport",
          "FinSupportOnly",
          "TechSupportOnly",
          "NoInterference"
         ],
         "categoryorder": "array",
         "title": {
          "text": "Attribute Levels"
         }
        }
       }
      }
     },
     "metadata": {},
     "output_type": "display_data"
    }
   ],
   "source": [
    "def plot_regression(model, data_info, width=1.0, plot_title=\"Fig 2: on support for policy attributes\"):\n",
    "\n",
    "    order = data_info['order']\n",
    "    att_1_levels = order['att_1']\n",
    "    att_2_levels = order['att_2']\n",
    "    att_3_levels = order['att_3']\n",
    "    att_4_levels = order['att_4']\n",
    "    att_5_levels = order['att_5']\n",
    "\n",
    "    att_levels = [att_5_levels, att_4_levels, att_3_levels, att_2_levels, att_1_levels]\n",
    "\n",
    "    att_colors = data_info['colors']\n",
    "\n",
    "    fig = go.Figure()\n",
    "\n",
    "    total_levels = sum(len(levels) for levels in att_levels) +  5\n",
    "\n",
    "    # Loop through each attribute group and add the data to the plot\n",
    "    for i, levels in enumerate(att_levels):\n",
    "        att_coefficients = [model.params[f'att_{5-i}_{level}'] for level in levels] + [0] \n",
    "        att_standard_errors = [model.bse[f'att_{5-i}_{level}']*1.97 for level in levels] + [0]\n",
    "\n",
    "        reference = ['Eliminate2070', 'NothingSoc', 'NothingEco', 'GovAlone', 'NoInterference']\n",
    "\n",
    "        levels = levels + [reference[5-i-1]] \n",
    "\n",
    "        fig.add_trace(go.Scatter(\n",
    "            x=att_coefficients,\n",
    "            y=levels,\n",
    "            mode='markers',\n",
    "            error_x=dict(type='data', array=att_standard_errors, color=att_colors[i], thickness=1.5),\n",
    "            marker=dict(color='#36454F', size=10),\n",
    "            orientation='h',\n",
    "            showlegend = False,\n",
    "        ))\n",
    "\n",
    "        fig.add_shape(\n",
    "            type=\"rect\",\n",
    "            x0=-width,  # Set a fixed value for x0, which is left side of the plot\n",
    "            x1=width,  # Set the width of the shape to 1000 (right side of the plot)\n",
    "            y0=total_levels - sum(len(l) + 1 for l in att_levels[i:]),  # Set y0 to the starting level index\n",
    "            y1=total_levels - sum(len(l) + 1 for l in att_levels[i:]) + len(levels) -1,  # Set y1 to the ending level index\n",
    "            fillcolor=att_colors[i],\n",
    "            opacity=0.1,  # Set the opacity for a light transparent effect\n",
    "            layer=\"below\",  # Place the rectangle below the scatter plot markers\n",
    "        )\n",
    "    \n",
    "    att_1_levels = att_1_levels + [reference[0]]\n",
    "    att_2_levels = att_2_levels + [reference[1]]\n",
    "    att_3_levels = att_3_levels + [reference[2]] \n",
    "    att_4_levels = att_4_levels + [reference[3]] \n",
    "    att_5_levels = att_5_levels + [reference[4]]\n",
    "\n",
    "    # Add a vertical line at x=0 for reference\n",
    "    fig.add_shape(type=\"line\", x0=0, x1=0, y0=att_5_levels[0], y1=att_1_levels[-1], line=dict(color=\"gray\", width=1, dash='dash'))\n",
    "\n",
    "    # Update the layout of the error bar plot\n",
    "    fig.update_layout(\n",
    "        title={\n",
    "            'text': plot_title,\n",
    "            'x': 0.0,\n",
    "            'xanchor': 'center',\n",
    "            'font': {'family': 'Computer Modern'}\n",
    "        },\n",
    "        xaxis_title='AMCE on support (0-1)',\n",
    "        yaxis_title='Attribute Levels',\n",
    "        yaxis=dict(categoryorder='array', categoryarray=att_5_levels),  # Set the categoryorder for y-axis based on att_1_levels\n",
    "        xaxis=dict(tickformat='.2f', zeroline=False, range=[-0.3,0.3]),  # Remove x-axis zeroline\n",
    "        showlegend=True,  # Show legend with attribute names\n",
    "        margin=dict(l=80, r=30, b=40, t=80),\n",
    "        height=800,  # Set the height of the plot to 600 pixels\n",
    "        width=1000,\n",
    "        title_x=0.50,\n",
    "        paper_bgcolor=\"#EADDCA\",\n",
    "        plot_bgcolor='rgba(0,0,0,0)',\n",
    "    ) \n",
    "\n",
    "    # Show the interactive error bar plot\n",
    "    return fig\n",
    "\n",
    "data_info = read_yaml(r\"C:\\Users\\sjurl\\OneDrive\\Desktop\\MasterThesis\\Analysis\\conjoint\\developer\\final\\plot_specs.yaml\")\n",
    "\n",
    "fig = plot_regression(model, data_info, width=1.0)\n",
    "fig.show()"
   ]
  },
  {
   "cell_type": "code",
   "execution_count": 8,
   "metadata": {},
   "outputs": [
    {
     "name": "stdout",
     "output_type": "stream",
     "text": [
      "Regression results for Attribute A:\n",
      "                            OLS Regression Results                            \n",
      "==============================================================================\n",
      "Dep. Variable:                utility   R-squared:                       0.198\n",
      "Model:                            OLS   Adj. R-squared:                  0.045\n",
      "Method:                 Least Squares   F-statistic:                    0.5149\n",
      "Date:                Sat, 12 Aug 2023   Prob (F-statistic):              0.845\n",
      "Time:                        12:53:42   Log-Likelihood:                -137.13\n",
      "No. Observations:                 132   AIC:                             318.3\n",
      "Df Residuals:                     110   BIC:                             381.7\n",
      "Df Model:                          21                                         \n",
      "Covariance Type:              cluster                                         \n",
      "==========================================================================================================\n",
      "                                             coef    std err          z      P>|z|      [0.025      0.975]\n",
      "----------------------------------------------------------------------------------------------------------\n",
      "const                                     -0.1239      0.056     -2.228      0.026      -0.233      -0.015\n",
      "att_1_PhaseOut                             0.2036      0.106      1.923      0.055      -0.004       0.411\n",
      "att_1_StatusQuo                           -0.2114      0.084     -2.512      0.012      -0.376      -0.046\n",
      "att_1_Stop&Maintain                       -0.2872      0.130     -2.203      0.028      -0.543      -0.032\n",
      "att_1_Stop&Reduce                          0.1712      0.140      1.224      0.221      -0.103       0.445\n",
      "att_2_HighInvestment&Int                  -0.1737      0.128     -1.360      0.174      -0.424       0.077\n",
      "att_2_HighInvestment&Int&Consideration    -0.0190      0.121     -0.157      0.875      -0.256       0.218\n",
      "att_2_LowInvestment                        0.0062      0.131      0.047      0.962      -0.251       0.264\n",
      "att_2_LowInvestment&LowConsideration       0.0627      0.065      0.965      0.335      -0.065       0.190\n",
      "att_3_EnergyAccess                        -0.2091      0.133     -1.572      0.116      -0.470       0.052\n",
      "att_3_HealthEdu                           -0.1532      0.166     -0.921      0.357      -0.479       0.173\n",
      "att_3_LowPrices                           -0.0633      0.136     -0.466      0.641      -0.329       0.203\n",
      "att_3_NothingSoc                           0.0136      0.125      0.109      0.913      -0.231       0.258\n",
      "att_3_Transfers                            0.2881      0.137      2.097      0.036       0.019       0.557\n",
      "att_4_CreateJobs                           0.0181      0.131      0.139      0.889      -0.238       0.274\n",
      "att_4_EarlyPension                         0.1730      0.124      1.394      0.163      -0.070       0.416\n",
      "att_4_JobGuarantee                         0.0343      0.104      0.330      0.741      -0.169       0.238\n",
      "att_4_NothingEco                          -0.0197      0.153     -0.129      0.898      -0.320       0.281\n",
      "att_4_Retrain                             -0.3297      0.113     -2.924      0.003      -0.551      -0.109\n",
      "att_5_CentralGov                           0.1901      0.234      0.812      0.417      -0.269       0.649\n",
      "att_5_CivilNGO                             0.0874      0.225      0.388      0.698      -0.355       0.529\n",
      "att_5_EnergySector                         0.0670      0.263      0.255      0.799      -0.448       0.582\n",
      "att_5_LabourUnion                          0.3040      0.230      1.321      0.187      -0.147       0.755\n",
      "att_5_LocalGov                            -0.2174      0.081     -2.690      0.007      -0.376      -0.059\n",
      "att_5_Media                               -0.1573      0.159     -0.989      0.323      -0.469       0.155\n",
      "att_5_Researchers                         -0.3977      0.099     -4.017      0.000      -0.592      -0.204\n",
      "ID                                         0.0470      0.017      2.739      0.006       0.013       0.081\n",
      "==============================================================================\n",
      "Omnibus:                        6.185   Durbin-Watson:                   1.984\n",
      "Prob(Omnibus):                  0.045   Jarque-Bera (JB):                4.782\n",
      "Skew:                          -0.352   Prob(JB):                       0.0915\n",
      "Kurtosis:                       2.389   Cond. No.                     8.24e+16\n",
      "==============================================================================\n",
      "\n",
      "Notes:\n",
      "[1] Standard Errors are robust to cluster correlation (cluster)\n",
      "[2] The smallest eigenvalue is 9.27e-31. This might indicate that there are\n",
      "strong multicollinearity problems or that the design matrix is singular.\n"
     ]
    },
    {
     "name": "stderr",
     "output_type": "stream",
     "text": [
      "c:\\ProgramData\\Anaconda3\\envs\\conjoint\\Lib\\site-packages\\statsmodels\\base\\model.py:1888: ValueWarning: covariance of constraints does not have full rank. The number of constraints is 26, but rank is 10\n",
      "  warnings.warn('covariance of constraints does not have full '\n"
     ]
    }
   ],
   "source": [
    "print(\"Regression results for Attribute A:\")\n",
    "print(model.summary())"
   ]
  },
  {
   "attachments": {},
   "cell_type": "markdown",
   "metadata": {},
   "source": [
    "## Descriptives\n"
   ]
  },
  {
   "cell_type": "code",
   "execution_count": 16,
   "metadata": {},
   "outputs": [
    {
     "ename": "KeyError",
     "evalue": "\"None of [Index(['att_1', 'support'], dtype='object')] are in the [columns]\"",
     "output_type": "error",
     "traceback": [
      "\u001b[1;31m---------------------------------------------------------------------------\u001b[0m",
      "\u001b[1;31mKeyError\u001b[0m                                  Traceback (most recent call last)",
      "Cell \u001b[1;32mIn[16], line 76\u001b[0m\n\u001b[0;32m     57\u001b[0m     fig\u001b[39m.\u001b[39mupdate_layout(\n\u001b[0;32m     58\u001b[0m         title\u001b[39m=\u001b[39m{\n\u001b[0;32m     59\u001b[0m             \u001b[39m'\u001b[39m\u001b[39mtext\u001b[39m\u001b[39m'\u001b[39m: \u001b[39m\"\u001b[39m\u001b[39mFig 1: Support of the different phase-out strategies\u001b[39m\u001b[39m\"\u001b[39m,\n\u001b[1;32m   (...)\u001b[0m\n\u001b[0;32m     69\u001b[0m         xaxis_title\u001b[39m=\u001b[39m\u001b[39mNone\u001b[39;00m,\n\u001b[0;32m     70\u001b[0m     )\n\u001b[0;32m     72\u001b[0m     \u001b[39mreturn\u001b[39;00m df\n\u001b[1;32m---> 76\u001b[0m fig \u001b[39m=\u001b[39m attribute_support(clean_data, \u001b[39m\"\u001b[39;49m\u001b[39matt_1\u001b[39;49m\u001b[39m\"\u001b[39;49m)\n\u001b[0;32m     78\u001b[0m \u001b[39m#fig.show()\u001b[39;00m\n",
      "Cell \u001b[1;32mIn[16], line 9\u001b[0m, in \u001b[0;36mattribute_support\u001b[1;34m(df, attribute)\u001b[0m\n\u001b[0;32m      6\u001b[0m \u001b[39mdef\u001b[39;00m \u001b[39mattribute_support\u001b[39m(df, attribute):\n\u001b[0;32m      7\u001b[0m     df \u001b[39m=\u001b[39m df\u001b[39m.\u001b[39mcopy()\n\u001b[1;32m----> 9\u001b[0m     df \u001b[39m=\u001b[39m df[[attribute, \u001b[39m'\u001b[39;49m\u001b[39msupport\u001b[39;49m\u001b[39m'\u001b[39;49m]]\n\u001b[0;32m     10\u001b[0m     df[\u001b[39m'\u001b[39m\u001b[39msupport\u001b[39m\u001b[39m'\u001b[39m] \u001b[39m=\u001b[39m df[\u001b[39m'\u001b[39m\u001b[39msupport\u001b[39m\u001b[39m'\u001b[39m]\u001b[39m.\u001b[39mastype(\u001b[39mint\u001b[39m)\n\u001b[0;32m     12\u001b[0m     categories \u001b[39m=\u001b[39m df[attribute]\u001b[39m.\u001b[39munique()\n",
      "File \u001b[1;32mc:\\ProgramData\\Anaconda3\\envs\\conjoint\\Lib\\site-packages\\pandas\\core\\frame.py:3767\u001b[0m, in \u001b[0;36mDataFrame.__getitem__\u001b[1;34m(self, key)\u001b[0m\n\u001b[0;32m   3765\u001b[0m     \u001b[39mif\u001b[39;00m is_iterator(key):\n\u001b[0;32m   3766\u001b[0m         key \u001b[39m=\u001b[39m \u001b[39mlist\u001b[39m(key)\n\u001b[1;32m-> 3767\u001b[0m     indexer \u001b[39m=\u001b[39m \u001b[39mself\u001b[39;49m\u001b[39m.\u001b[39;49mcolumns\u001b[39m.\u001b[39;49m_get_indexer_strict(key, \u001b[39m\"\u001b[39;49m\u001b[39mcolumns\u001b[39;49m\u001b[39m\"\u001b[39;49m)[\u001b[39m1\u001b[39m]\n\u001b[0;32m   3769\u001b[0m \u001b[39m# take() does not accept boolean indexers\u001b[39;00m\n\u001b[0;32m   3770\u001b[0m \u001b[39mif\u001b[39;00m \u001b[39mgetattr\u001b[39m(indexer, \u001b[39m\"\u001b[39m\u001b[39mdtype\u001b[39m\u001b[39m\"\u001b[39m, \u001b[39mNone\u001b[39;00m) \u001b[39m==\u001b[39m \u001b[39mbool\u001b[39m:\n",
      "File \u001b[1;32mc:\\ProgramData\\Anaconda3\\envs\\conjoint\\Lib\\site-packages\\pandas\\core\\indexes\\base.py:5877\u001b[0m, in \u001b[0;36mIndex._get_indexer_strict\u001b[1;34m(self, key, axis_name)\u001b[0m\n\u001b[0;32m   5874\u001b[0m \u001b[39melse\u001b[39;00m:\n\u001b[0;32m   5875\u001b[0m     keyarr, indexer, new_indexer \u001b[39m=\u001b[39m \u001b[39mself\u001b[39m\u001b[39m.\u001b[39m_reindex_non_unique(keyarr)\n\u001b[1;32m-> 5877\u001b[0m \u001b[39mself\u001b[39;49m\u001b[39m.\u001b[39;49m_raise_if_missing(keyarr, indexer, axis_name)\n\u001b[0;32m   5879\u001b[0m keyarr \u001b[39m=\u001b[39m \u001b[39mself\u001b[39m\u001b[39m.\u001b[39mtake(indexer)\n\u001b[0;32m   5880\u001b[0m \u001b[39mif\u001b[39;00m \u001b[39misinstance\u001b[39m(key, Index):\n\u001b[0;32m   5881\u001b[0m     \u001b[39m# GH 42790 - Preserve name from an Index\u001b[39;00m\n",
      "File \u001b[1;32mc:\\ProgramData\\Anaconda3\\envs\\conjoint\\Lib\\site-packages\\pandas\\core\\indexes\\base.py:5938\u001b[0m, in \u001b[0;36mIndex._raise_if_missing\u001b[1;34m(self, key, indexer, axis_name)\u001b[0m\n\u001b[0;32m   5936\u001b[0m     \u001b[39mif\u001b[39;00m use_interval_msg:\n\u001b[0;32m   5937\u001b[0m         key \u001b[39m=\u001b[39m \u001b[39mlist\u001b[39m(key)\n\u001b[1;32m-> 5938\u001b[0m     \u001b[39mraise\u001b[39;00m \u001b[39mKeyError\u001b[39;00m(\u001b[39mf\u001b[39m\u001b[39m\"\u001b[39m\u001b[39mNone of [\u001b[39m\u001b[39m{\u001b[39;00mkey\u001b[39m}\u001b[39;00m\u001b[39m] are in the [\u001b[39m\u001b[39m{\u001b[39;00maxis_name\u001b[39m}\u001b[39;00m\u001b[39m]\u001b[39m\u001b[39m\"\u001b[39m)\n\u001b[0;32m   5940\u001b[0m not_found \u001b[39m=\u001b[39m \u001b[39mlist\u001b[39m(ensure_index(key)[missing_mask\u001b[39m.\u001b[39mnonzero()[\u001b[39m0\u001b[39m]]\u001b[39m.\u001b[39munique())\n\u001b[0;32m   5941\u001b[0m \u001b[39mraise\u001b[39;00m \u001b[39mKeyError\u001b[39;00m(\u001b[39mf\u001b[39m\u001b[39m\"\u001b[39m\u001b[39m{\u001b[39;00mnot_found\u001b[39m}\u001b[39;00m\u001b[39m not in index\u001b[39m\u001b[39m\"\u001b[39m)\n",
      "\u001b[1;31mKeyError\u001b[0m: \"None of [Index(['att_1', 'support'], dtype='object')] are in the [columns]\""
     ]
    }
   ],
   "source": [
    "clean_data = pd.read_csv(OUT / \"data\" / \"data_clean.csv\")\n",
    "\n",
    "import pandas as pd\n",
    "import plotly.graph_objs as go\n",
    "\n",
    "def attribute_support(df, attribute):\n",
    "    df = df.copy()\n",
    "\n",
    "    df = df[[attribute, 'support']]\n",
    "    df['support'] = df['support'].astype(int)\n",
    "\n",
    "    categories = df[attribute].unique()\n",
    "\n",
    "    support = {\"Attribute Level\": [], \"Value\": [], \"CI_lower\": [], \"CI_upper\": []}\n",
    "    \n",
    "    for cat in categories[::-1]:\n",
    "        group = df[df[attribute] == cat]\n",
    "        mean = group['support'].mean()\n",
    "        std_dev = group['support'].std()\n",
    "        n = len(group)\n",
    "        confidence_interval = 1.96 * (std_dev / (n**0.5))  # 95% confidence interval\n",
    "\n",
    "        support[\"Attribute Level\"].append(cat.replace('&', '<br>'))\n",
    "        support[\"Value\"].append(mean.round(2))\n",
    "        support[\"CI_lower\"].append((mean - confidence_interval).round(2))\n",
    "        support[\"CI_upper\"].append((mean + confidence_interval).round(2))\n",
    "\n",
    "    df = pd.DataFrame(support)\n",
    "\n",
    "    color_scale = [\"rgb(173, 221, 142)\", \"rgb(127, 188, 65)\", \"rgb(78, 139, 37)\", \"rgb(45, 82, 21)\"]\n",
    "\n",
    "    fig = go.Figure()\n",
    "\n",
    "    for i, row in df.iterrows():\n",
    "        fig.add_trace(go.Bar(\n",
    "            x=[row[\"Attribute Level\"]],\n",
    "            y=[row[\"Value\"]],\n",
    "            error_y=dict(\n",
    "                type='data',\n",
    "                array=[row[\"CI_upper\"] - row[\"Value\"]],\n",
    "                arrayminus=[row[\"Value\"] - row[\"CI_lower\"]],\n",
    "                visible=True\n",
    "            ),\n",
    "            marker_color=color_scale[i],\n",
    "            name=row[\"Attribute Level\"]\n",
    "        ))\n",
    "\n",
    "    # Set y-axis range from 0 to 1\n",
    "    fig.update_layout(yaxis_range=[0, 1], width=600, height=500)\n",
    "\n",
    "    # Add a horizontal line at y=0.5\n",
    "    \n",
    "    fig.add_hline(y=0.5, line_dash=\"dash\")\n",
    "\n",
    "\n",
    "    fig.update_layout(barmode=\"group\", bargap=0.6, bargroupgap=0.1)\n",
    "    fig.update_layout(\n",
    "        title={\n",
    "            'text': \"Fig 1: Support of the different phase-out strategies\",\n",
    "            'x': 0.5,\n",
    "            'xanchor': 'center',\n",
    "            'font': {'family': 'Computer Modern'}\n",
    "        },\n",
    "        margin=dict(l=20, r=20, t=45, b=5),\n",
    "        paper_bgcolor=\"#EADDCA\",\n",
    "        plot_bgcolor='rgba(0,0,0,0)',\n",
    "        showlegend=False,  # Show legend for different Attribute Levels\n",
    "        xaxis_showticklabels=True,\n",
    "        xaxis_title=None,\n",
    "    )\n",
    "\n",
    "    return df\n",
    "\n",
    "\n",
    "\n",
    "fig = attribute_support(clean_data, \"att_1\")\n",
    "\n",
    "#fig.show()\n",
    "\n",
    "\n"
   ]
  },
  {
   "cell_type": "code",
   "execution_count": 3,
   "metadata": {},
   "outputs": [
    {
     "data": {
      "text/html": [
       "<div>\n",
       "<style scoped>\n",
       "    .dataframe tbody tr th:only-of-type {\n",
       "        vertical-align: middle;\n",
       "    }\n",
       "\n",
       "    .dataframe tbody tr th {\n",
       "        vertical-align: top;\n",
       "    }\n",
       "\n",
       "    .dataframe thead th {\n",
       "        text-align: right;\n",
       "    }\n",
       "</style>\n",
       "<table border=\"1\" class=\"dataframe\">\n",
       "  <thead>\n",
       "    <tr style=\"text-align: right;\">\n",
       "      <th></th>\n",
       "      <th>Attribute Level</th>\n",
       "      <th>Value</th>\n",
       "      <th>CI_lower</th>\n",
       "      <th>CI_upper</th>\n",
       "    </tr>\n",
       "  </thead>\n",
       "  <tbody>\n",
       "    <tr>\n",
       "      <th>0</th>\n",
       "      <td>Reduce&lt;br&gt;IncreaseRenewables</td>\n",
       "      <td>0.70</td>\n",
       "      <td>0.66</td>\n",
       "      <td>0.75</td>\n",
       "    </tr>\n",
       "    <tr>\n",
       "      <th>1</th>\n",
       "      <td>Eliminate&lt;br&gt;UseAllOther</td>\n",
       "      <td>0.76</td>\n",
       "      <td>0.72</td>\n",
       "      <td>0.81</td>\n",
       "    </tr>\n",
       "    <tr>\n",
       "      <th>2</th>\n",
       "      <td>Reduce&lt;br&gt;IncreaseAllOther</td>\n",
       "      <td>0.72</td>\n",
       "      <td>0.68</td>\n",
       "      <td>0.77</td>\n",
       "    </tr>\n",
       "    <tr>\n",
       "      <th>3</th>\n",
       "      <td>Eliminate&lt;br&gt;UseRenewables</td>\n",
       "      <td>0.77</td>\n",
       "      <td>0.73</td>\n",
       "      <td>0.82</td>\n",
       "    </tr>\n",
       "  </tbody>\n",
       "</table>\n",
       "</div>"
      ],
      "text/plain": [
       "                Attribute Level  Value  CI_lower  CI_upper\n",
       "0  Reduce<br>IncreaseRenewables   0.70      0.66      0.75\n",
       "1      Eliminate<br>UseAllOther   0.76      0.72      0.81\n",
       "2    Reduce<br>IncreaseAllOther   0.72      0.68      0.77\n",
       "3    Eliminate<br>UseRenewables   0.77      0.73      0.82"
      ]
     },
     "execution_count": 3,
     "metadata": {},
     "output_type": "execute_result"
    }
   ],
   "source": [
    "fig"
   ]
  },
  {
   "attachments": {},
   "cell_type": "markdown",
   "metadata": {},
   "source": [
    "## Plots"
   ]
  },
  {
   "attachments": {},
   "cell_type": "markdown",
   "metadata": {},
   "source": [
    "##### 1.1 Relative support plot AMCE (Intra)"
   ]
  },
  {
   "cell_type": "code",
   "execution_count": 40,
   "metadata": {},
   "outputs": [
    {
     "data": {
      "text/plain": [
       "0.3932151622585344"
      ]
     },
     "execution_count": 40,
     "metadata": {},
     "output_type": "execute_result"
    }
   ],
   "source": [
    "model.params[0]['att_6_SignificantEffort']"
   ]
  },
  {
   "cell_type": "code",
   "execution_count": 13,
   "metadata": {},
   "outputs": [
    {
     "data": {
      "application/vnd.plotly.v1+json": {
       "config": {
        "plotlyServerURL": "https://plot.ly"
       },
       "data": [
        {
         "error_x": {
          "array": [
           0.04250083110086807,
           0.0816934862944989,
           0.07447672811387371
          ],
          "color": "gray",
          "thickness": 1.5,
          "type": "data"
         },
         "marker": {
          "color": "darkgray",
          "size": 10
         },
         "mode": "markers",
         "orientation": "h",
         "showlegend": false,
         "type": "scatter",
         "x": [
          0.144048978569633,
          0.10149218682311074,
          0.011497185971211396
         ],
         "y": [
          "SignificantEffort",
          "ModerateEfforts",
          "MinorEfforts"
         ]
        },
        {
         "error_x": {
          "array": [
           0.1249217293673948,
           0.09902853075255147,
           0.08188133077343093,
           0.07202886877257493
          ],
          "color": "red",
          "thickness": 1.5,
          "type": "data"
         },
         "marker": {
          "color": "darkgray",
          "size": 10
         },
         "mode": "markers",
         "orientation": "h",
         "showlegend": false,
         "type": "scatter",
         "x": [
          0.13182175367117915,
          0.11612604360967405,
          0.04608268013799631,
          -0.0369921260548942
         ],
         "y": [
          "Fin&TechSupport",
          "FinSupportOnly",
          "TechSupportOnly",
          "NoInterference"
         ]
        },
        {
         "error_x": {
          "array": [
           0.1811396317352279,
           0.12868770433801238,
           0.11068480681791291,
           0.10072047644461012,
           0.16293659544937122,
           0.11121668672714374
          ],
          "color": "blue",
          "thickness": 1.5,
          "type": "data"
         },
         "marker": {
          "color": "darkgray",
          "size": 10
         },
         "mode": "markers",
         "orientation": "h",
         "showlegend": false,
         "type": "scatter",
         "x": [
          0.12720206885022628,
          0.4290536740915376,
          0.021804837312819916,
          -0.0638453905762473,
          0.00879982539709337,
          -0.2659766637114749
         ],
         "y": [
          "Gov&CivilSociety",
          "Gov&Researchers",
          "Gov&Businesses",
          "Gov&LaborUnions",
          "Gov&LocalGov",
          "GovAlone"
         ]
        },
        {
         "error_x": {
          "array": [
           0.15375470076139958,
           0.07334125176440356,
           0.08632404721341543,
           0.10368840720354756
          ],
          "color": "green",
          "thickness": 1.5,
          "type": "data"
         },
         "marker": {
          "color": "darkgray",
          "size": 10
         },
         "mode": "markers",
         "orientation": "h",
         "showlegend": false,
         "type": "scatter",
         "x": [
          0.00629737443804821,
          0.01916252672915944,
          0.12531919168259542,
          0.10625925851415194
         ],
         "y": [
          "IdentityCoalRegions",
          "IndustryCoalRegions",
          "WorkersCoalRegion",
          "NothingEco"
         ]
        },
        {
         "error_x": {
          "array": [
           0.11680681519507126,
           0.1159890017763792,
           0.0912756197459257,
           0.12675578699443052,
           0.10067311333936055
          ],
          "color": "orange",
          "thickness": 1.5,
          "type": "data"
         },
         "marker": {
          "color": "darkgray",
          "size": 10
         },
         "mode": "markers",
         "orientation": "h",
         "showlegend": false,
         "type": "scatter",
         "x": [
          -0.13806647608331132,
          -0.05216290608988655,
          0.16775494483169262,
          0.15005612063071394,
          0.1294566680747462
         ],
         "y": [
          "LowPrices",
          "InsureWorkers",
          "HealthEdu",
          "EnergyAccess",
          "NothingSoc"
         ]
        },
        {
         "error_x": {
          "array": [
           0.10154321242183581,
           0.0652447975882614,
           0.11636791497706764,
           0.06782385217559664
          ],
          "color": "purple",
          "thickness": 1.5,
          "type": "data"
         },
         "marker": {
          "color": "darkgray",
          "size": 10
         },
         "mode": "markers",
         "orientation": "h",
         "showlegend": false,
         "type": "scatter",
         "x": [
          -0.019606470077739566,
          0.0008822100351297338,
          0.08926600205759923,
          0.1864966093489666
         ],
         "y": [
          "Eliminate&UseRenewables",
          "Eliminate&UseAllOther",
          "Reduce&IncreaseRenewables",
          "Reduce&IncreaseAllOther"
         ]
        }
       ],
       "layout": {
        "height": 600,
        "margin": {
         "b": 40,
         "l": 80,
         "r": 30,
         "t": 80
        },
        "shapes": [
         {
          "fillcolor": "gray",
          "layer": "below",
          "opacity": 0.1,
          "type": "rect",
          "x0": -1.5,
          "x1": 1.5,
          "y0": 0,
          "y1": 2
         },
         {
          "fillcolor": "red",
          "layer": "below",
          "opacity": 0.1,
          "type": "rect",
          "x0": -1.5,
          "x1": 1.5,
          "y0": 3,
          "y1": 6
         },
         {
          "fillcolor": "blue",
          "layer": "below",
          "opacity": 0.1,
          "type": "rect",
          "x0": -1.5,
          "x1": 1.5,
          "y0": 7,
          "y1": 12
         },
         {
          "fillcolor": "green",
          "layer": "below",
          "opacity": 0.1,
          "type": "rect",
          "x0": -1.5,
          "x1": 1.5,
          "y0": 13,
          "y1": 16
         },
         {
          "fillcolor": "orange",
          "layer": "below",
          "opacity": 0.1,
          "type": "rect",
          "x0": -1.5,
          "x1": 1.5,
          "y0": 17,
          "y1": 21
         },
         {
          "fillcolor": "purple",
          "layer": "below",
          "opacity": 0.1,
          "type": "rect",
          "x0": -1.5,
          "x1": 1.5,
          "y0": 22,
          "y1": 25
         },
         {
          "line": {
           "color": "gray",
           "dash": "dash",
           "width": 1
          },
          "type": "line",
          "x0": 0,
          "x1": 0,
          "y0": "SignificantEffort",
          "y1": "Reduce&IncreaseAllOther"
         }
        ],
        "showlegend": true,
        "template": {
         "data": {
          "bar": [
           {
            "error_x": {
             "color": "#2a3f5f"
            },
            "error_y": {
             "color": "#2a3f5f"
            },
            "marker": {
             "line": {
              "color": "#E5ECF6",
              "width": 0.5
             },
             "pattern": {
              "fillmode": "overlay",
              "size": 10,
              "solidity": 0.2
             }
            },
            "type": "bar"
           }
          ],
          "barpolar": [
           {
            "marker": {
             "line": {
              "color": "#E5ECF6",
              "width": 0.5
             },
             "pattern": {
              "fillmode": "overlay",
              "size": 10,
              "solidity": 0.2
             }
            },
            "type": "barpolar"
           }
          ],
          "carpet": [
           {
            "aaxis": {
             "endlinecolor": "#2a3f5f",
             "gridcolor": "white",
             "linecolor": "white",
             "minorgridcolor": "white",
             "startlinecolor": "#2a3f5f"
            },
            "baxis": {
             "endlinecolor": "#2a3f5f",
             "gridcolor": "white",
             "linecolor": "white",
             "minorgridcolor": "white",
             "startlinecolor": "#2a3f5f"
            },
            "type": "carpet"
           }
          ],
          "choropleth": [
           {
            "colorbar": {
             "outlinewidth": 0,
             "ticks": ""
            },
            "type": "choropleth"
           }
          ],
          "contour": [
           {
            "colorbar": {
             "outlinewidth": 0,
             "ticks": ""
            },
            "colorscale": [
             [
              0,
              "#0d0887"
             ],
             [
              0.1111111111111111,
              "#46039f"
             ],
             [
              0.2222222222222222,
              "#7201a8"
             ],
             [
              0.3333333333333333,
              "#9c179e"
             ],
             [
              0.4444444444444444,
              "#bd3786"
             ],
             [
              0.5555555555555556,
              "#d8576b"
             ],
             [
              0.6666666666666666,
              "#ed7953"
             ],
             [
              0.7777777777777778,
              "#fb9f3a"
             ],
             [
              0.8888888888888888,
              "#fdca26"
             ],
             [
              1,
              "#f0f921"
             ]
            ],
            "type": "contour"
           }
          ],
          "contourcarpet": [
           {
            "colorbar": {
             "outlinewidth": 0,
             "ticks": ""
            },
            "type": "contourcarpet"
           }
          ],
          "heatmap": [
           {
            "colorbar": {
             "outlinewidth": 0,
             "ticks": ""
            },
            "colorscale": [
             [
              0,
              "#0d0887"
             ],
             [
              0.1111111111111111,
              "#46039f"
             ],
             [
              0.2222222222222222,
              "#7201a8"
             ],
             [
              0.3333333333333333,
              "#9c179e"
             ],
             [
              0.4444444444444444,
              "#bd3786"
             ],
             [
              0.5555555555555556,
              "#d8576b"
             ],
             [
              0.6666666666666666,
              "#ed7953"
             ],
             [
              0.7777777777777778,
              "#fb9f3a"
             ],
             [
              0.8888888888888888,
              "#fdca26"
             ],
             [
              1,
              "#f0f921"
             ]
            ],
            "type": "heatmap"
           }
          ],
          "heatmapgl": [
           {
            "colorbar": {
             "outlinewidth": 0,
             "ticks": ""
            },
            "colorscale": [
             [
              0,
              "#0d0887"
             ],
             [
              0.1111111111111111,
              "#46039f"
             ],
             [
              0.2222222222222222,
              "#7201a8"
             ],
             [
              0.3333333333333333,
              "#9c179e"
             ],
             [
              0.4444444444444444,
              "#bd3786"
             ],
             [
              0.5555555555555556,
              "#d8576b"
             ],
             [
              0.6666666666666666,
              "#ed7953"
             ],
             [
              0.7777777777777778,
              "#fb9f3a"
             ],
             [
              0.8888888888888888,
              "#fdca26"
             ],
             [
              1,
              "#f0f921"
             ]
            ],
            "type": "heatmapgl"
           }
          ],
          "histogram": [
           {
            "marker": {
             "pattern": {
              "fillmode": "overlay",
              "size": 10,
              "solidity": 0.2
             }
            },
            "type": "histogram"
           }
          ],
          "histogram2d": [
           {
            "colorbar": {
             "outlinewidth": 0,
             "ticks": ""
            },
            "colorscale": [
             [
              0,
              "#0d0887"
             ],
             [
              0.1111111111111111,
              "#46039f"
             ],
             [
              0.2222222222222222,
              "#7201a8"
             ],
             [
              0.3333333333333333,
              "#9c179e"
             ],
             [
              0.4444444444444444,
              "#bd3786"
             ],
             [
              0.5555555555555556,
              "#d8576b"
             ],
             [
              0.6666666666666666,
              "#ed7953"
             ],
             [
              0.7777777777777778,
              "#fb9f3a"
             ],
             [
              0.8888888888888888,
              "#fdca26"
             ],
             [
              1,
              "#f0f921"
             ]
            ],
            "type": "histogram2d"
           }
          ],
          "histogram2dcontour": [
           {
            "colorbar": {
             "outlinewidth": 0,
             "ticks": ""
            },
            "colorscale": [
             [
              0,
              "#0d0887"
             ],
             [
              0.1111111111111111,
              "#46039f"
             ],
             [
              0.2222222222222222,
              "#7201a8"
             ],
             [
              0.3333333333333333,
              "#9c179e"
             ],
             [
              0.4444444444444444,
              "#bd3786"
             ],
             [
              0.5555555555555556,
              "#d8576b"
             ],
             [
              0.6666666666666666,
              "#ed7953"
             ],
             [
              0.7777777777777778,
              "#fb9f3a"
             ],
             [
              0.8888888888888888,
              "#fdca26"
             ],
             [
              1,
              "#f0f921"
             ]
            ],
            "type": "histogram2dcontour"
           }
          ],
          "mesh3d": [
           {
            "colorbar": {
             "outlinewidth": 0,
             "ticks": ""
            },
            "type": "mesh3d"
           }
          ],
          "parcoords": [
           {
            "line": {
             "colorbar": {
              "outlinewidth": 0,
              "ticks": ""
             }
            },
            "type": "parcoords"
           }
          ],
          "pie": [
           {
            "automargin": true,
            "type": "pie"
           }
          ],
          "scatter": [
           {
            "fillpattern": {
             "fillmode": "overlay",
             "size": 10,
             "solidity": 0.2
            },
            "type": "scatter"
           }
          ],
          "scatter3d": [
           {
            "line": {
             "colorbar": {
              "outlinewidth": 0,
              "ticks": ""
             }
            },
            "marker": {
             "colorbar": {
              "outlinewidth": 0,
              "ticks": ""
             }
            },
            "type": "scatter3d"
           }
          ],
          "scattercarpet": [
           {
            "marker": {
             "colorbar": {
              "outlinewidth": 0,
              "ticks": ""
             }
            },
            "type": "scattercarpet"
           }
          ],
          "scattergeo": [
           {
            "marker": {
             "colorbar": {
              "outlinewidth": 0,
              "ticks": ""
             }
            },
            "type": "scattergeo"
           }
          ],
          "scattergl": [
           {
            "marker": {
             "colorbar": {
              "outlinewidth": 0,
              "ticks": ""
             }
            },
            "type": "scattergl"
           }
          ],
          "scattermapbox": [
           {
            "marker": {
             "colorbar": {
              "outlinewidth": 0,
              "ticks": ""
             }
            },
            "type": "scattermapbox"
           }
          ],
          "scatterpolar": [
           {
            "marker": {
             "colorbar": {
              "outlinewidth": 0,
              "ticks": ""
             }
            },
            "type": "scatterpolar"
           }
          ],
          "scatterpolargl": [
           {
            "marker": {
             "colorbar": {
              "outlinewidth": 0,
              "ticks": ""
             }
            },
            "type": "scatterpolargl"
           }
          ],
          "scatterternary": [
           {
            "marker": {
             "colorbar": {
              "outlinewidth": 0,
              "ticks": ""
             }
            },
            "type": "scatterternary"
           }
          ],
          "surface": [
           {
            "colorbar": {
             "outlinewidth": 0,
             "ticks": ""
            },
            "colorscale": [
             [
              0,
              "#0d0887"
             ],
             [
              0.1111111111111111,
              "#46039f"
             ],
             [
              0.2222222222222222,
              "#7201a8"
             ],
             [
              0.3333333333333333,
              "#9c179e"
             ],
             [
              0.4444444444444444,
              "#bd3786"
             ],
             [
              0.5555555555555556,
              "#d8576b"
             ],
             [
              0.6666666666666666,
              "#ed7953"
             ],
             [
              0.7777777777777778,
              "#fb9f3a"
             ],
             [
              0.8888888888888888,
              "#fdca26"
             ],
             [
              1,
              "#f0f921"
             ]
            ],
            "type": "surface"
           }
          ],
          "table": [
           {
            "cells": {
             "fill": {
              "color": "#EBF0F8"
             },
             "line": {
              "color": "white"
             }
            },
            "header": {
             "fill": {
              "color": "#C8D4E3"
             },
             "line": {
              "color": "white"
             }
            },
            "type": "table"
           }
          ]
         },
         "layout": {
          "annotationdefaults": {
           "arrowcolor": "#2a3f5f",
           "arrowhead": 0,
           "arrowwidth": 1
          },
          "autotypenumbers": "strict",
          "coloraxis": {
           "colorbar": {
            "outlinewidth": 0,
            "ticks": ""
           }
          },
          "colorscale": {
           "diverging": [
            [
             0,
             "#8e0152"
            ],
            [
             0.1,
             "#c51b7d"
            ],
            [
             0.2,
             "#de77ae"
            ],
            [
             0.3,
             "#f1b6da"
            ],
            [
             0.4,
             "#fde0ef"
            ],
            [
             0.5,
             "#f7f7f7"
            ],
            [
             0.6,
             "#e6f5d0"
            ],
            [
             0.7,
             "#b8e186"
            ],
            [
             0.8,
             "#7fbc41"
            ],
            [
             0.9,
             "#4d9221"
            ],
            [
             1,
             "#276419"
            ]
           ],
           "sequential": [
            [
             0,
             "#0d0887"
            ],
            [
             0.1111111111111111,
             "#46039f"
            ],
            [
             0.2222222222222222,
             "#7201a8"
            ],
            [
             0.3333333333333333,
             "#9c179e"
            ],
            [
             0.4444444444444444,
             "#bd3786"
            ],
            [
             0.5555555555555556,
             "#d8576b"
            ],
            [
             0.6666666666666666,
             "#ed7953"
            ],
            [
             0.7777777777777778,
             "#fb9f3a"
            ],
            [
             0.8888888888888888,
             "#fdca26"
            ],
            [
             1,
             "#f0f921"
            ]
           ],
           "sequentialminus": [
            [
             0,
             "#0d0887"
            ],
            [
             0.1111111111111111,
             "#46039f"
            ],
            [
             0.2222222222222222,
             "#7201a8"
            ],
            [
             0.3333333333333333,
             "#9c179e"
            ],
            [
             0.4444444444444444,
             "#bd3786"
            ],
            [
             0.5555555555555556,
             "#d8576b"
            ],
            [
             0.6666666666666666,
             "#ed7953"
            ],
            [
             0.7777777777777778,
             "#fb9f3a"
            ],
            [
             0.8888888888888888,
             "#fdca26"
            ],
            [
             1,
             "#f0f921"
            ]
           ]
          },
          "colorway": [
           "#636efa",
           "#EF553B",
           "#00cc96",
           "#ab63fa",
           "#FFA15A",
           "#19d3f3",
           "#FF6692",
           "#B6E880",
           "#FF97FF",
           "#FECB52"
          ],
          "font": {
           "color": "#2a3f5f"
          },
          "geo": {
           "bgcolor": "white",
           "lakecolor": "white",
           "landcolor": "#E5ECF6",
           "showlakes": true,
           "showland": true,
           "subunitcolor": "white"
          },
          "hoverlabel": {
           "align": "left"
          },
          "hovermode": "closest",
          "mapbox": {
           "style": "light"
          },
          "paper_bgcolor": "white",
          "plot_bgcolor": "#E5ECF6",
          "polar": {
           "angularaxis": {
            "gridcolor": "white",
            "linecolor": "white",
            "ticks": ""
           },
           "bgcolor": "#E5ECF6",
           "radialaxis": {
            "gridcolor": "white",
            "linecolor": "white",
            "ticks": ""
           }
          },
          "scene": {
           "xaxis": {
            "backgroundcolor": "#E5ECF6",
            "gridcolor": "white",
            "gridwidth": 2,
            "linecolor": "white",
            "showbackground": true,
            "ticks": "",
            "zerolinecolor": "white"
           },
           "yaxis": {
            "backgroundcolor": "#E5ECF6",
            "gridcolor": "white",
            "gridwidth": 2,
            "linecolor": "white",
            "showbackground": true,
            "ticks": "",
            "zerolinecolor": "white"
           },
           "zaxis": {
            "backgroundcolor": "#E5ECF6",
            "gridcolor": "white",
            "gridwidth": 2,
            "linecolor": "white",
            "showbackground": true,
            "ticks": "",
            "zerolinecolor": "white"
           }
          },
          "shapedefaults": {
           "line": {
            "color": "#2a3f5f"
           }
          },
          "ternary": {
           "aaxis": {
            "gridcolor": "white",
            "linecolor": "white",
            "ticks": ""
           },
           "baxis": {
            "gridcolor": "white",
            "linecolor": "white",
            "ticks": ""
           },
           "bgcolor": "#E5ECF6",
           "caxis": {
            "gridcolor": "white",
            "linecolor": "white",
            "ticks": ""
           }
          },
          "title": {
           "x": 0.05
          },
          "xaxis": {
           "automargin": true,
           "gridcolor": "white",
           "linecolor": "white",
           "ticks": "",
           "title": {
            "standoff": 15
           },
           "zerolinecolor": "white",
           "zerolinewidth": 2
          },
          "yaxis": {
           "automargin": true,
           "gridcolor": "white",
           "linecolor": "white",
           "ticks": "",
           "title": {
            "standoff": 15
           },
           "zerolinecolor": "white",
           "zerolinewidth": 2
          }
         }
        },
        "title": {
         "text": "Relative Rating Differences",
         "x": 0.62
        },
        "width": 1000,
        "xaxis": {
         "tickformat": ".2f",
         "title": {
          "text": ""
         },
         "zeroline": false
        },
        "yaxis": {
         "categoryarray": [
          "SignificantEffort",
          "ModerateEfforts",
          "MinorEfforts"
         ],
         "categoryorder": "array",
         "title": {
          "text": "Attribute Levels"
         }
        }
       }
      }
     },
     "metadata": {},
     "output_type": "display_data"
    }
   ],
   "source": [
    "import plotly.graph_objects as go\n",
    "\n",
    "list1 = read_yaml(r\"C:\\Users\\sjurl\\OneDrive\\Desktop\\MasterThesis\\Analysis\\conjoint\\developer\\final\\plot_specs.yaml\")\n",
    "\n",
    "\n",
    "# Assuming 'model' is the variable that holds your regression results\n",
    "# Extract the coefficients and standard errors for each attribute level\n",
    "att_1_levels = list1['order']['att_1']\n",
    "att_2_levels = list1['order']['att_2']\n",
    "att_3_levels = list1['order']['att_3']\n",
    "att_4_levels = list1['order']['att_4']\n",
    "att_5_levels = list1['order']['att_5']\n",
    "att_6_levels = list1['order']['att_6']\n",
    "\n",
    "\n",
    "\n",
    "#Remember to add att_6\n",
    "att_levels = [att_6_levels, att_5_levels, att_4_levels, att_3_levels, att_2_levels, att_1_levels]\n",
    "\n",
    "att_colors = ['gray', 'red', 'blue', 'green', 'orange', 'purple']  # Colors for each attribute group\n",
    "\n",
    "fig = go.Figure()\n",
    "\n",
    "total_levels = sum(len(levels) for levels in att_levels)\n",
    "\n",
    "# Loop through each attribute group and add the data to the plot\n",
    "for i, levels in enumerate(att_levels):\n",
    "    att_coefficients = [model.params[f'att_{6-i}_{level}'] for level in levels]\n",
    "    att_standard_errors = [model.bse[f'att_{6-i}_{level}'] for level in levels]\n",
    "\n",
    "    fig.add_trace(go.Scatter(\n",
    "        x=att_coefficients,\n",
    "        y=levels,\n",
    "        mode='markers',\n",
    "        error_x=dict(type='data', array=att_standard_errors, color=att_colors[i], thickness=1.5),\n",
    "        marker=dict(color='darkgray', size=10),\n",
    "        orientation='h',\n",
    "        showlegend = False,\n",
    "    ))\n",
    "\n",
    "    fig.add_shape(\n",
    "        type=\"rect\",\n",
    "        x0=-1.5,  # Set a fixed value for x0, which is left side of the plot\n",
    "        x1=1.5,  # Set the width of the shape to 1000 (right side of the plot)\n",
    "        y0=total_levels - sum(len(l) for l in att_levels[i:]),  # Set y0 to the starting level index\n",
    "        y1=total_levels - sum(len(l) for l in att_levels[i:]) + len(levels) - 1,  # Set y1 to the ending level index\n",
    "        fillcolor=att_colors[i],\n",
    "        opacity=0.1,  # Set the opacity for a light transparent effect\n",
    "        layer=\"below\",  # Place the rectangle below the scatter plot markers\n",
    "    )\n",
    "\n",
    "# Add a vertical line at x=0 for reference\n",
    "fig.add_shape(type=\"line\", x0=0, x1=0, y0=att_6_levels[0], y1=att_1_levels[-1], line=dict(color=\"gray\", width=1, dash='dash'))\n",
    "\n",
    "# Update the layout of the error bar plot\n",
    "fig.update_layout(\n",
    "    title='Relative Rating Differences',\n",
    "    xaxis_title='',\n",
    "    yaxis_title='Attribute Levels',\n",
    "    yaxis=dict(categoryorder='array', categoryarray=att_6_levels),  # Set the categoryorder for y-axis based on att_1_levels\n",
    "    xaxis=dict(tickformat='.2f', zeroline=False),  # Remove x-axis zeroline\n",
    "    showlegend=True,  # Show legend with attribute names\n",
    "    margin=dict(l=80, r=30, b=40, t=80),\n",
    "    height=600,  # Set the height of the plot to 600 pixels\n",
    "    width=1000,\n",
    "    title_x=0.62,\n",
    ")\n",
    "\n",
    "# Show the interactive error bar plot\n",
    "fig.show()\n"
   ]
  },
  {
   "attachments": {},
   "cell_type": "markdown",
   "metadata": {},
   "source": [
    "Grouped:"
   ]
  },
  {
   "cell_type": "code",
   "execution_count": 10,
   "metadata": {},
   "outputs": [
    {
     "data": {
      "application/vnd.plotly.v1+json": {
       "config": {
        "plotlyServerURL": "https://plot.ly"
       },
       "data": [
        {
         "error_x": {
          "array": [
           0.6584291808521778,
           0.6846703615566971,
           0.47699232500122735,
           0.22044602657858903,
           0.2951308862863799,
           0.29872896037143926,
           0.36959495021430006
          ],
          "color": "red",
          "thickness": 1.5,
          "type": "data"
         },
         "marker": {
          "color": "darkgray",
          "size": 10
         },
         "mode": "markers",
         "name": "Control",
         "orientation": "h",
         "showlegend": false,
         "type": "scatter",
         "x": [
          -0.1182283748083115,
          -0.19881721975238792,
          -0.06283646286993946,
          -0.4447483496369783,
          -0.6264641143301959,
          -0.6371707310365744,
          0
         ],
         "y": [
          "CivilNGO",
          "EnergySector",
          "LabourUnion",
          "LocalGov",
          "Media",
          "Researchers",
          "CentralGov"
         ]
        },
        {
         "error_x": {
          "array": [
           0.3315759676037956,
           0.21907457512265407,
           0.44706156539336306,
           0.18596571233320222,
           0.3941370821328204
          ],
          "color": "blue",
          "thickness": 1.5,
          "type": "data"
         },
         "marker": {
          "color": "darkgray",
          "size": 10
         },
         "mode": "markers",
         "name": "Control",
         "orientation": "h",
         "showlegend": false,
         "type": "scatter",
         "x": [
          0.043067575047422355,
          0.3038456252793748,
          0.13728297427559666,
          -0.4229288138946365,
          0
         ],
         "y": [
          "CreateJobs",
          "EarlyPension",
          "JobGuarantee",
          "Retrain",
          "NothingEco"
         ]
        },
        {
         "error_x": {
          "array": [
           0.21684965672311943,
           0.16279001910890245,
           0.2201398075222534,
           0.22462396392104006,
           0.45072000881391877
          ],
          "color": "green",
          "thickness": 1.5,
          "type": "data"
         },
         "marker": {
          "color": "darkgray",
          "size": 10
         },
         "mode": "markers",
         "name": "Control",
         "orientation": "h",
         "showlegend": false,
         "type": "scatter",
         "x": [
          -0.233851190648355,
          -0.1780375243510841,
          0.2207795574814773,
          -0.17019638748089108,
          0
         ],
         "y": [
          "HealthEdu",
          "EnergyAccess",
          "LowPrices",
          "Transfers",
          "NothingSoc"
         ]
        },
        {
         "error_x": {
          "array": [
           0.31845656936307004,
           0.21271502363101205,
           0.11518660184936504,
           0.3060574505350153
          ],
          "color": "orange",
          "thickness": 1.5,
          "type": "data"
         },
         "marker": {
          "color": "darkgray",
          "size": 10
         },
         "mode": "markers",
         "name": "Control",
         "orientation": "h",
         "showlegend": false,
         "type": "scatter",
         "x": [
          -0.46383251236045075,
          -0.5288492025187892,
          -0.2245180772905142,
          0
         ],
         "y": [
          "HighInvestment&Int",
          "HighInvestment&Int&Consideration",
          "LowInvestment&LowConsideration",
          "LowInvestment"
         ]
        },
        {
         "error_x": {
          "array": [
           0.15020210551842192,
           0.36114443132473184,
           0.29080168524478744,
           0.14264975968234808
          ],
          "color": "purple",
          "thickness": 1.5,
          "type": "data"
         },
         "marker": {
          "color": "darkgray",
          "size": 10
         },
         "mode": "markers",
         "name": "Control",
         "orientation": "h",
         "showlegend": false,
         "type": "scatter",
         "x": [
          0.4124937951187163,
          0.002282993302417796,
          -0.21993982554230032,
          0
         ],
         "y": [
          "PhaseOut",
          "Stop&Reduce",
          "Stop&Maintain",
          "StatusQuo"
         ]
        },
        {
         "error_x": {
          "array": [
           0.233454028605335,
           0.23499906343776267,
           0.4564783201528125,
           0.10655372087579801,
           0.20246541445197633,
           0.21662827972327722,
           0.32396964534225614
          ],
          "color": "red",
          "thickness": 1.5,
          "type": "data"
         },
         "marker": {
          "color": "red",
          "size": 10
         },
         "mode": "markers",
         "name": "Treated",
         "orientation": "h",
         "showlegend": false,
         "type": "scatter",
         "x": [
          0.07059828819188688,
          0.3630126599719975,
          0.45593071908615157,
          -0.23100279110779345,
          -0.03318976569189372,
          -0.383102366209369,
          0
         ],
         "y": [
          "CivilNGO",
          "EnergySector",
          "LabourUnion",
          "LocalGov",
          "Media",
          "Researchers",
          "CentralGov"
         ]
        },
        {
         "error_x": {
          "array": [
           0.3088003507122563,
           0.21985964399470925,
           0.08726781708967166,
           0.20147519331582428,
           0.23940734714287704
          ],
          "color": "blue",
          "thickness": 1.5,
          "type": "data"
         },
         "marker": {
          "color": "blue",
          "size": 10
         },
         "mode": "markers",
         "name": "Treated",
         "orientation": "h",
         "showlegend": false,
         "type": "scatter",
         "x": [
          -0.06414374087377223,
          0.2708938520645613,
          0.13556645316314975,
          -0.34404310174557284,
          0
         ],
         "y": [
          "CreateJobs",
          "EarlyPension",
          "JobGuarantee",
          "Retrain",
          "NothingEco"
         ]
        },
        {
         "error_x": {
          "array": [
           0.2688227324904073,
           0.2837254577811472,
           0.16995666718419258,
           0.11370687150054865,
           0.2424097047381784
          ],
          "color": "green",
          "thickness": 1.5,
          "type": "data"
         },
         "marker": {
          "color": "green",
          "size": 10
         },
         "mode": "markers",
         "name": "Treated",
         "orientation": "h",
         "showlegend": false,
         "type": "scatter",
         "x": [
          0.0015621969525032448,
          -0.4277399122803269,
          -0.39181888447442026,
          0.4626093839360377,
          0
         ],
         "y": [
          "HealthEdu",
          "EnergyAccess",
          "LowPrices",
          "Transfers",
          "NothingSoc"
         ]
        },
        {
         "error_x": {
          "array": [
           0.17210368555366815,
           0.2074273377395959,
           0.16512143221773545,
           0.1510496855143783
          ],
          "color": "orange",
          "thickness": 1.5,
          "type": "data"
         },
         "marker": {
          "color": "orange",
          "size": 10
         },
         "mode": "markers",
         "name": "Treated",
         "orientation": "h",
         "showlegend": false,
         "type": "scatter",
         "x": [
          -0.06070128881839071,
          0.18972254774509612,
          0.2202399315264778,
          0
         ],
         "y": [
          "HighInvestment&Int",
          "HighInvestment&Int&Consideration",
          "LowInvestment&LowConsideration",
          "LowInvestment"
         ]
        },
        {
         "error_x": {
          "array": [
           0.15671785061765003,
           0.2229405502314405,
           0.24574063142346092,
           0.06153251146755219
          ],
          "color": "purple",
          "thickness": 1.5,
          "type": "data"
         },
         "marker": {
          "color": "purple",
          "size": 10
         },
         "mode": "markers",
         "name": "Treated",
         "orientation": "h",
         "showlegend": false,
         "type": "scatter",
         "x": [
          0.5200042867695026,
          0.738391345673874,
          0.30360136723417486,
          0
         ],
         "y": [
          "PhaseOut",
          "Stop&Reduce",
          "Stop&Maintain",
          "StatusQuo"
         ]
        }
       ],
       "layout": {
        "height": 600,
        "margin": {
         "b": 40,
         "l": 80,
         "r": 30,
         "t": 80
        },
        "shapes": [
         {
          "fillcolor": "red",
          "layer": "below",
          "opacity": 0.1,
          "type": "rect",
          "x0": -1.5,
          "x1": 1.5,
          "y0": 0,
          "y1": 6
         },
         {
          "fillcolor": "blue",
          "layer": "below",
          "opacity": 0.1,
          "type": "rect",
          "x0": -1.5,
          "x1": 1.5,
          "y0": 7,
          "y1": 11
         },
         {
          "fillcolor": "green",
          "layer": "below",
          "opacity": 0.1,
          "type": "rect",
          "x0": -1.5,
          "x1": 1.5,
          "y0": 12,
          "y1": 16
         },
         {
          "fillcolor": "orange",
          "layer": "below",
          "opacity": 0.1,
          "type": "rect",
          "x0": -1.5,
          "x1": 1.5,
          "y0": 17,
          "y1": 20
         },
         {
          "fillcolor": "purple",
          "layer": "below",
          "opacity": 0.1,
          "type": "rect",
          "x0": -1.5,
          "x1": 1.5,
          "y0": 21,
          "y1": 24
         },
         {
          "line": {
           "color": "gray",
           "dash": "dash",
           "width": 1
          },
          "type": "line",
          "x0": 0,
          "x1": 0,
          "y0": "CivilNGO",
          "y1": "StatusQuo"
         }
        ],
        "showlegend": true,
        "template": {
         "data": {
          "bar": [
           {
            "error_x": {
             "color": "#2a3f5f"
            },
            "error_y": {
             "color": "#2a3f5f"
            },
            "marker": {
             "line": {
              "color": "#E5ECF6",
              "width": 0.5
             },
             "pattern": {
              "fillmode": "overlay",
              "size": 10,
              "solidity": 0.2
             }
            },
            "type": "bar"
           }
          ],
          "barpolar": [
           {
            "marker": {
             "line": {
              "color": "#E5ECF6",
              "width": 0.5
             },
             "pattern": {
              "fillmode": "overlay",
              "size": 10,
              "solidity": 0.2
             }
            },
            "type": "barpolar"
           }
          ],
          "carpet": [
           {
            "aaxis": {
             "endlinecolor": "#2a3f5f",
             "gridcolor": "white",
             "linecolor": "white",
             "minorgridcolor": "white",
             "startlinecolor": "#2a3f5f"
            },
            "baxis": {
             "endlinecolor": "#2a3f5f",
             "gridcolor": "white",
             "linecolor": "white",
             "minorgridcolor": "white",
             "startlinecolor": "#2a3f5f"
            },
            "type": "carpet"
           }
          ],
          "choropleth": [
           {
            "colorbar": {
             "outlinewidth": 0,
             "ticks": ""
            },
            "type": "choropleth"
           }
          ],
          "contour": [
           {
            "colorbar": {
             "outlinewidth": 0,
             "ticks": ""
            },
            "colorscale": [
             [
              0,
              "#0d0887"
             ],
             [
              0.1111111111111111,
              "#46039f"
             ],
             [
              0.2222222222222222,
              "#7201a8"
             ],
             [
              0.3333333333333333,
              "#9c179e"
             ],
             [
              0.4444444444444444,
              "#bd3786"
             ],
             [
              0.5555555555555556,
              "#d8576b"
             ],
             [
              0.6666666666666666,
              "#ed7953"
             ],
             [
              0.7777777777777778,
              "#fb9f3a"
             ],
             [
              0.8888888888888888,
              "#fdca26"
             ],
             [
              1,
              "#f0f921"
             ]
            ],
            "type": "contour"
           }
          ],
          "contourcarpet": [
           {
            "colorbar": {
             "outlinewidth": 0,
             "ticks": ""
            },
            "type": "contourcarpet"
           }
          ],
          "heatmap": [
           {
            "colorbar": {
             "outlinewidth": 0,
             "ticks": ""
            },
            "colorscale": [
             [
              0,
              "#0d0887"
             ],
             [
              0.1111111111111111,
              "#46039f"
             ],
             [
              0.2222222222222222,
              "#7201a8"
             ],
             [
              0.3333333333333333,
              "#9c179e"
             ],
             [
              0.4444444444444444,
              "#bd3786"
             ],
             [
              0.5555555555555556,
              "#d8576b"
             ],
             [
              0.6666666666666666,
              "#ed7953"
             ],
             [
              0.7777777777777778,
              "#fb9f3a"
             ],
             [
              0.8888888888888888,
              "#fdca26"
             ],
             [
              1,
              "#f0f921"
             ]
            ],
            "type": "heatmap"
           }
          ],
          "heatmapgl": [
           {
            "colorbar": {
             "outlinewidth": 0,
             "ticks": ""
            },
            "colorscale": [
             [
              0,
              "#0d0887"
             ],
             [
              0.1111111111111111,
              "#46039f"
             ],
             [
              0.2222222222222222,
              "#7201a8"
             ],
             [
              0.3333333333333333,
              "#9c179e"
             ],
             [
              0.4444444444444444,
              "#bd3786"
             ],
             [
              0.5555555555555556,
              "#d8576b"
             ],
             [
              0.6666666666666666,
              "#ed7953"
             ],
             [
              0.7777777777777778,
              "#fb9f3a"
             ],
             [
              0.8888888888888888,
              "#fdca26"
             ],
             [
              1,
              "#f0f921"
             ]
            ],
            "type": "heatmapgl"
           }
          ],
          "histogram": [
           {
            "marker": {
             "pattern": {
              "fillmode": "overlay",
              "size": 10,
              "solidity": 0.2
             }
            },
            "type": "histogram"
           }
          ],
          "histogram2d": [
           {
            "colorbar": {
             "outlinewidth": 0,
             "ticks": ""
            },
            "colorscale": [
             [
              0,
              "#0d0887"
             ],
             [
              0.1111111111111111,
              "#46039f"
             ],
             [
              0.2222222222222222,
              "#7201a8"
             ],
             [
              0.3333333333333333,
              "#9c179e"
             ],
             [
              0.4444444444444444,
              "#bd3786"
             ],
             [
              0.5555555555555556,
              "#d8576b"
             ],
             [
              0.6666666666666666,
              "#ed7953"
             ],
             [
              0.7777777777777778,
              "#fb9f3a"
             ],
             [
              0.8888888888888888,
              "#fdca26"
             ],
             [
              1,
              "#f0f921"
             ]
            ],
            "type": "histogram2d"
           }
          ],
          "histogram2dcontour": [
           {
            "colorbar": {
             "outlinewidth": 0,
             "ticks": ""
            },
            "colorscale": [
             [
              0,
              "#0d0887"
             ],
             [
              0.1111111111111111,
              "#46039f"
             ],
             [
              0.2222222222222222,
              "#7201a8"
             ],
             [
              0.3333333333333333,
              "#9c179e"
             ],
             [
              0.4444444444444444,
              "#bd3786"
             ],
             [
              0.5555555555555556,
              "#d8576b"
             ],
             [
              0.6666666666666666,
              "#ed7953"
             ],
             [
              0.7777777777777778,
              "#fb9f3a"
             ],
             [
              0.8888888888888888,
              "#fdca26"
             ],
             [
              1,
              "#f0f921"
             ]
            ],
            "type": "histogram2dcontour"
           }
          ],
          "mesh3d": [
           {
            "colorbar": {
             "outlinewidth": 0,
             "ticks": ""
            },
            "type": "mesh3d"
           }
          ],
          "parcoords": [
           {
            "line": {
             "colorbar": {
              "outlinewidth": 0,
              "ticks": ""
             }
            },
            "type": "parcoords"
           }
          ],
          "pie": [
           {
            "automargin": true,
            "type": "pie"
           }
          ],
          "scatter": [
           {
            "fillpattern": {
             "fillmode": "overlay",
             "size": 10,
             "solidity": 0.2
            },
            "type": "scatter"
           }
          ],
          "scatter3d": [
           {
            "line": {
             "colorbar": {
              "outlinewidth": 0,
              "ticks": ""
             }
            },
            "marker": {
             "colorbar": {
              "outlinewidth": 0,
              "ticks": ""
             }
            },
            "type": "scatter3d"
           }
          ],
          "scattercarpet": [
           {
            "marker": {
             "colorbar": {
              "outlinewidth": 0,
              "ticks": ""
             }
            },
            "type": "scattercarpet"
           }
          ],
          "scattergeo": [
           {
            "marker": {
             "colorbar": {
              "outlinewidth": 0,
              "ticks": ""
             }
            },
            "type": "scattergeo"
           }
          ],
          "scattergl": [
           {
            "marker": {
             "colorbar": {
              "outlinewidth": 0,
              "ticks": ""
             }
            },
            "type": "scattergl"
           }
          ],
          "scattermapbox": [
           {
            "marker": {
             "colorbar": {
              "outlinewidth": 0,
              "ticks": ""
             }
            },
            "type": "scattermapbox"
           }
          ],
          "scatterpolar": [
           {
            "marker": {
             "colorbar": {
              "outlinewidth": 0,
              "ticks": ""
             }
            },
            "type": "scatterpolar"
           }
          ],
          "scatterpolargl": [
           {
            "marker": {
             "colorbar": {
              "outlinewidth": 0,
              "ticks": ""
             }
            },
            "type": "scatterpolargl"
           }
          ],
          "scatterternary": [
           {
            "marker": {
             "colorbar": {
              "outlinewidth": 0,
              "ticks": ""
             }
            },
            "type": "scatterternary"
           }
          ],
          "surface": [
           {
            "colorbar": {
             "outlinewidth": 0,
             "ticks": ""
            },
            "colorscale": [
             [
              0,
              "#0d0887"
             ],
             [
              0.1111111111111111,
              "#46039f"
             ],
             [
              0.2222222222222222,
              "#7201a8"
             ],
             [
              0.3333333333333333,
              "#9c179e"
             ],
             [
              0.4444444444444444,
              "#bd3786"
             ],
             [
              0.5555555555555556,
              "#d8576b"
             ],
             [
              0.6666666666666666,
              "#ed7953"
             ],
             [
              0.7777777777777778,
              "#fb9f3a"
             ],
             [
              0.8888888888888888,
              "#fdca26"
             ],
             [
              1,
              "#f0f921"
             ]
            ],
            "type": "surface"
           }
          ],
          "table": [
           {
            "cells": {
             "fill": {
              "color": "#EBF0F8"
             },
             "line": {
              "color": "white"
             }
            },
            "header": {
             "fill": {
              "color": "#C8D4E3"
             },
             "line": {
              "color": "white"
             }
            },
            "type": "table"
           }
          ]
         },
         "layout": {
          "annotationdefaults": {
           "arrowcolor": "#2a3f5f",
           "arrowhead": 0,
           "arrowwidth": 1
          },
          "autotypenumbers": "strict",
          "coloraxis": {
           "colorbar": {
            "outlinewidth": 0,
            "ticks": ""
           }
          },
          "colorscale": {
           "diverging": [
            [
             0,
             "#8e0152"
            ],
            [
             0.1,
             "#c51b7d"
            ],
            [
             0.2,
             "#de77ae"
            ],
            [
             0.3,
             "#f1b6da"
            ],
            [
             0.4,
             "#fde0ef"
            ],
            [
             0.5,
             "#f7f7f7"
            ],
            [
             0.6,
             "#e6f5d0"
            ],
            [
             0.7,
             "#b8e186"
            ],
            [
             0.8,
             "#7fbc41"
            ],
            [
             0.9,
             "#4d9221"
            ],
            [
             1,
             "#276419"
            ]
           ],
           "sequential": [
            [
             0,
             "#0d0887"
            ],
            [
             0.1111111111111111,
             "#46039f"
            ],
            [
             0.2222222222222222,
             "#7201a8"
            ],
            [
             0.3333333333333333,
             "#9c179e"
            ],
            [
             0.4444444444444444,
             "#bd3786"
            ],
            [
             0.5555555555555556,
             "#d8576b"
            ],
            [
             0.6666666666666666,
             "#ed7953"
            ],
            [
             0.7777777777777778,
             "#fb9f3a"
            ],
            [
             0.8888888888888888,
             "#fdca26"
            ],
            [
             1,
             "#f0f921"
            ]
           ],
           "sequentialminus": [
            [
             0,
             "#0d0887"
            ],
            [
             0.1111111111111111,
             "#46039f"
            ],
            [
             0.2222222222222222,
             "#7201a8"
            ],
            [
             0.3333333333333333,
             "#9c179e"
            ],
            [
             0.4444444444444444,
             "#bd3786"
            ],
            [
             0.5555555555555556,
             "#d8576b"
            ],
            [
             0.6666666666666666,
             "#ed7953"
            ],
            [
             0.7777777777777778,
             "#fb9f3a"
            ],
            [
             0.8888888888888888,
             "#fdca26"
            ],
            [
             1,
             "#f0f921"
            ]
           ]
          },
          "colorway": [
           "#636efa",
           "#EF553B",
           "#00cc96",
           "#ab63fa",
           "#FFA15A",
           "#19d3f3",
           "#FF6692",
           "#B6E880",
           "#FF97FF",
           "#FECB52"
          ],
          "font": {
           "color": "#2a3f5f"
          },
          "geo": {
           "bgcolor": "white",
           "lakecolor": "white",
           "landcolor": "#E5ECF6",
           "showlakes": true,
           "showland": true,
           "subunitcolor": "white"
          },
          "hoverlabel": {
           "align": "left"
          },
          "hovermode": "closest",
          "mapbox": {
           "style": "light"
          },
          "paper_bgcolor": "white",
          "plot_bgcolor": "#E5ECF6",
          "polar": {
           "angularaxis": {
            "gridcolor": "white",
            "linecolor": "white",
            "ticks": ""
           },
           "bgcolor": "#E5ECF6",
           "radialaxis": {
            "gridcolor": "white",
            "linecolor": "white",
            "ticks": ""
           }
          },
          "scene": {
           "xaxis": {
            "backgroundcolor": "#E5ECF6",
            "gridcolor": "white",
            "gridwidth": 2,
            "linecolor": "white",
            "showbackground": true,
            "ticks": "",
            "zerolinecolor": "white"
           },
           "yaxis": {
            "backgroundcolor": "#E5ECF6",
            "gridcolor": "white",
            "gridwidth": 2,
            "linecolor": "white",
            "showbackground": true,
            "ticks": "",
            "zerolinecolor": "white"
           },
           "zaxis": {
            "backgroundcolor": "#E5ECF6",
            "gridcolor": "white",
            "gridwidth": 2,
            "linecolor": "white",
            "showbackground": true,
            "ticks": "",
            "zerolinecolor": "white"
           }
          },
          "shapedefaults": {
           "line": {
            "color": "#2a3f5f"
           }
          },
          "ternary": {
           "aaxis": {
            "gridcolor": "white",
            "linecolor": "white",
            "ticks": ""
           },
           "baxis": {
            "gridcolor": "white",
            "linecolor": "white",
            "ticks": ""
           },
           "bgcolor": "#E5ECF6",
           "caxis": {
            "gridcolor": "white",
            "linecolor": "white",
            "ticks": ""
           }
          },
          "title": {
           "x": 0.05
          },
          "xaxis": {
           "automargin": true,
           "gridcolor": "white",
           "linecolor": "white",
           "ticks": "",
           "title": {
            "standoff": 15
           },
           "zerolinecolor": "white",
           "zerolinewidth": 2
          },
          "yaxis": {
           "automargin": true,
           "gridcolor": "white",
           "linecolor": "white",
           "ticks": "",
           "title": {
            "standoff": 15
           },
           "zerolinecolor": "white",
           "zerolinewidth": 2
          }
         }
        },
        "title": {
         "text": "Relative Rating Differences",
         "x": 0.62
        },
        "width": 1000,
        "xaxis": {
         "tickformat": ".2f",
         "title": {
          "text": ""
         },
         "zeroline": false
        },
        "yaxis": {
         "categoryarray": [
          "CivilNGO",
          "EnergySector",
          "LabourUnion",
          "LocalGov",
          "Media",
          "Researchers",
          "CentralGov"
         ],
         "categoryorder": "array",
         "title": {
          "text": "Attribute Levels"
         }
        }
       }
      }
     },
     "metadata": {},
     "output_type": "display_data"
    }
   ],
   "source": [
    "import plotly.graph_objects as go\n",
    "\n",
    "# Assuming 'model' is the variable that holds your regression results\n",
    "# Extract the coefficients and standard errors for each attribute level\n",
    "att_1_levels = ['PhaseOut', 'Stop&Reduce', 'Stop&Maintain', 'StatusQuo']\n",
    "att_2_levels = ['HighInvestment&Int', 'HighInvestment&Int&Consideration', 'LowInvestment&LowConsideration', 'LowInvestment']\n",
    "att_3_levels = ['HealthEdu', 'EnergyAccess', 'LowPrices', 'Transfers', 'NothingSoc']\n",
    "att_4_levels = ['CreateJobs', 'EarlyPension', 'JobGuarantee', 'Retrain', 'NothingEco']\n",
    "att_5_levels = ['CivilNGO', 'EnergySector', 'LabourUnion', 'LocalGov', 'Media', 'Researchers', 'CentralGov']\n",
    "\n",
    "\n",
    "\n",
    "#Remember to add att_6\n",
    "att_levels = [att_5_levels, att_4_levels, att_3_levels, att_2_levels, att_1_levels]\n",
    "\n",
    "att_colors_control = ['red', 'blue', 'green', 'orange', 'purple']  # Colors for each attribute group\n",
    "\n",
    "fig = go.Figure()\n",
    "\n",
    "total_levels = sum(len(levels) for levels in att_levels)\n",
    "\n",
    "# Loop through each attribute group and add the data to the plot\n",
    "fig = go.Figure()\n",
    "\n",
    "# Loop through each attribute group and add the data for 'control' to the plot\n",
    "for i, levels in enumerate(att_levels):\n",
    "    att_coefficients = [model_control.params[f'att_{5-i}_{level}'] for level in levels]\n",
    "    att_standard_errors = [model_control.bse[f'att_{5-i}_{level}'] for level in levels]\n",
    "\n",
    "    relative_differences = [coeff - att_coefficients[-1] for coeff in att_coefficients]\n",
    "\n",
    "    fig.add_trace(go.Scatter(\n",
    "        x=relative_differences,\n",
    "        y=levels,\n",
    "        mode='markers',\n",
    "        error_x=dict(type='data', array=att_standard_errors, color=att_colors[i], thickness=1.5),\n",
    "        marker=dict(color='darkgray', size=10),\n",
    "        orientation='h',\n",
    "        showlegend=False,\n",
    "        name='Control',  # Add a legend name for the control group\n",
    "    ))\n",
    "\n",
    "# Loop through each attribute group and add the data for 'treated' to the plot\n",
    "for i, levels in enumerate(att_levels):\n",
    "    att_coefficients = [model_treated.params[f'att_{5-i}_{level}'] for level in levels]\n",
    "    att_standard_errors = [model_treated.bse[f'att_{5-i}_{level}'] for level in levels]\n",
    "\n",
    "    relative_differences = [coeff - att_coefficients[-1] for coeff in att_coefficients]\n",
    "\n",
    "    fig.add_trace(go.Scatter(\n",
    "        x=relative_differences,\n",
    "        y=levels,\n",
    "        mode='markers',\n",
    "        error_x=dict(type='data', array=att_standard_errors, color=att_colors[i], thickness=1.5),\n",
    "        marker=dict(color=att_colors[i], size=10),  # Use different colors for treated group\n",
    "        orientation='h',\n",
    "        showlegend=False,\n",
    "        name='Treated',  # Add a legend name for the treated group\n",
    "    ))\n",
    "\n",
    "    fig.add_shape(\n",
    "        type=\"rect\",\n",
    "        x0=-1.5,  # Set a fixed value for x0, which is left side of the plot\n",
    "        x1=1.5,  # Set the width of the shape to 1000 (right side of the plot)\n",
    "        y0=total_levels - sum(len(l) for l in att_levels[i:]),  # Set y0 to the starting level index\n",
    "        y1=total_levels - sum(len(l) for l in att_levels[i:]) + len(levels) - 1,  # Set y1 to the ending level index\n",
    "        fillcolor=att_colors[i],\n",
    "        opacity=0.1,  # Set the opacity for a light transparent effect\n",
    "        layer=\"below\",  # Place the rectangle below the scatter plot markers\n",
    "    )\n",
    "\n",
    "# Add a vertical line at x=0 for reference\n",
    "fig.add_shape(type=\"line\", x0=0, x1=0, y0=att_5_levels[0], y1=att_1_levels[-1], line=dict(color=\"gray\", width=1, dash='dash'))\n",
    "\n",
    "# Update the layout of the error bar plot\n",
    "fig.update_layout(\n",
    "    title='Relative Rating Differences',\n",
    "    xaxis_title='',\n",
    "    yaxis_title='Attribute Levels',\n",
    "    yaxis=dict(categoryorder='array', categoryarray=att_5_levels),  # Set the categoryorder for y-axis based on att_1_levels\n",
    "    xaxis=dict(tickformat='.2f', zeroline=False),  # Remove x-axis zeroline\n",
    "    showlegend=True,  # Show legend with attribute names\n",
    "    margin=dict(l=80, r=30, b=40, t=80),\n",
    "    height=600,  # Set the height of the plot to 600 pixels\n",
    "    width=1000,\n",
    "    title_x=0.62,\n",
    ")\n",
    "\n",
    "# Show the interactive error bar plot\n",
    "fig.show()\n"
   ]
  },
  {
   "cell_type": "code",
   "execution_count": 15,
   "metadata": {},
   "outputs": [
    {
     "data": {
      "application/vnd.plotly.v1+json": {
       "config": {
        "plotlyServerURL": "https://plot.ly"
       },
       "data": [
        {
         "error_x": {
          "array": [
           0.027685898420522805,
           0.029634922382572648,
           0.032812509275426796
          ],
          "color": "#2b7543",
          "thickness": 1.5,
          "type": "data"
         },
         "marker": {
          "color": "#2b7543",
          "size": 10
         },
         "mode": "markers",
         "name": "Treated",
         "orientation": "h",
         "showlegend": false,
         "type": "scatter",
         "x": [
          0.047085646955312276,
          0.1532187986732218,
          0.11402691812807074
         ],
         "y": [
          "SignificantEffort",
          "ModerateEfforts",
          "MinorEfforts"
         ]
        },
        {
         "error_x": {
          "array": [
           0.03716449547487518,
           0.038937788575700114,
           0.03672186930634543,
           0.04526182364959699
          ],
          "color": "#FF6666",
          "thickness": 1.5,
          "type": "data"
         },
         "marker": {
          "color": "#FF6666",
          "size": 10
         },
         "mode": "markers",
         "name": "Treated",
         "orientation": "h",
         "showlegend": false,
         "type": "scatter",
         "x": [
          0.09910345028782189,
          0.11679236709139298,
          0.14143993855858503,
          -0.04300439218119517
         ],
         "y": [
          "Fin&TechSupport",
          "FinSupportOnly",
          "TechSupportOnly",
          "NoInterference"
         ]
        },
        {
         "error_x": {
          "array": [
           0.05067457800239774,
           0.048766482145048924,
           0.0516209541594724,
           0.04356252266004466,
           0.0512498836925775,
           0.050437117858066774
          ],
          "color": "#66B2FF",
          "thickness": 1.5,
          "type": "data"
         },
         "marker": {
          "color": "#66B2FF",
          "size": 10
         },
         "mode": "markers",
         "name": "Treated",
         "orientation": "h",
         "showlegend": false,
         "type": "scatter",
         "x": [
          0.1589652532149214,
          0.041416830415342325,
          0.05609678838222467,
          0.11020560210534122,
          -0.022484733086924127,
          -0.0298683772743008
         ],
         "y": [
          "Gov&CivilSociety",
          "Gov&Researchers",
          "Gov&Businesses",
          "Gov&LaborUnions",
          "Gov&LocalGov",
          "GovAlone"
         ]
        },
        {
         "error_x": {
          "array": [
           0.03464492129072025,
           0.031598523721213974,
           0.0363418159134118,
           0.041274459934909344
          ],
          "color": "#c27e9a",
          "thickness": 1.5,
          "type": "data"
         },
         "marker": {
          "color": "#c27e9a",
          "size": 10
         },
         "mode": "markers",
         "name": "Treated",
         "orientation": "h",
         "showlegend": false,
         "type": "scatter",
         "x": [
          0.08292773212223782,
          0.05946744003723948,
          0.14552292068340195,
          0.02641327091372565
         ],
         "y": [
          "IdentityCoalRegions",
          "IndustryCoalRegions",
          "WorkersCoalRegion",
          "NothingEco"
         ]
        },
        {
         "error_x": {
          "array": [
           0.038256500762599475,
           0.045938377635267084,
           0.04469684458421076,
           0.03376742224169677
          ],
          "color": "#FFB266",
          "thickness": 1.5,
          "type": "data"
         },
         "marker": {
          "color": "#FFB266",
          "size": 10
         },
         "mode": "markers",
         "name": "Treated",
         "orientation": "h",
         "showlegend": false,
         "type": "scatter",
         "x": [
          0.13396638735894892,
          0.12365806852080738,
          0.0316613637352883,
          0.025045544141560086
         ],
         "y": [
          "LowPrices",
          "InsureWorkers",
          "EnergyAccess",
          "NothingSoc"
         ]
        },
        {
         "error_x": {
          "array": [
           0.041558861792325555,
           0.041593432959646695,
           0.047353001035369824,
           0.03163934955184763
          ],
          "color": "#CC99FF",
          "thickness": 1.5,
          "type": "data"
         },
         "marker": {
          "color": "#CC99FF",
          "size": 10
         },
         "mode": "markers",
         "name": "Treated",
         "orientation": "h",
         "showlegend": false,
         "type": "scatter",
         "x": [
          0.1039905201590825,
          0.005085301957145044,
          0.07951778991234712,
          0.12573775172803334
         ],
         "y": [
          "Eliminate&UseRenewables",
          "Eliminate&UseAllOther",
          "Reduce&IncreaseRenewables",
          "Reduce&IncreaseAllOther"
         ]
        },
        {
         "error_x": {
          "array": [
           0.020441204403944785,
           0.01909915717139031,
           0.02012788911096124
          ],
          "color": "#7ec293",
          "thickness": 1.5,
          "type": "data"
         },
         "marker": {
          "color": "#7ec293",
          "size": 10
         },
         "mode": "markers",
         "name": "Control",
         "orientation": "h",
         "showlegend": false,
         "type": "scatter",
         "x": [
          0.09772943433946099,
          0.10955867160484323,
          0.0897375228640844
         ],
         "y": [
          "SignificantEffort",
          "ModerateEfforts",
          "MinorEfforts"
         ]
        },
        {
         "error_x": {
          "array": [
           0.02484341956795476,
           0.031123372684223247,
           0.022060303759568963,
           0.02424238630976296
          ],
          "color": "#990000",
          "thickness": 1.5,
          "type": "data"
         },
         "marker": {
          "color": "#990000",
          "size": 10
         },
         "mode": "markers",
         "name": "Control",
         "orientation": "h",
         "showlegend": false,
         "type": "scatter",
         "x": [
          0.10287240311242296,
          0.009353877610073617,
          0.10694638799420256,
          0.07785296009168963
         ],
         "y": [
          "Fin&TechSupport",
          "FinSupportOnly",
          "TechSupportOnly",
          "NoInterference"
         ]
        },
        {
         "error_x": {
          "array": [
           0.040670179460114794,
           0.029717682696710858,
           0.028247235147275403,
           0.036767369726757475,
           0.029638990782906355,
           0.03035450363590546
          ],
          "color": "#0066CC",
          "thickness": 1.5,
          "type": "data"
         },
         "marker": {
          "color": "#0066CC",
          "size": 10
         },
         "mode": "markers",
         "name": "Control",
         "orientation": "h",
         "showlegend": false,
         "type": "scatter",
         "x": [
          0.012479580684533878,
          0.056012497328266034,
          0.04053974641766523,
          0.07791731923042564,
          0.03797358593523998,
          0.07210289921225789
         ],
         "y": [
          "Gov&CivilSociety",
          "Gov&Researchers",
          "Gov&Businesses",
          "Gov&LaborUnions",
          "Gov&LocalGov",
          "GovAlone"
         ]
        },
        {
         "error_x": {
          "array": [
           0.01985994665734035,
           0.021877564939754623,
           0.02613656635754155,
           0.027501845890912185
          ],
          "color": "#a33c67",
          "thickness": 1.5,
          "type": "data"
         },
         "marker": {
          "color": "#a33c67",
          "size": 10
         },
         "mode": "markers",
         "name": "Control",
         "orientation": "h",
         "showlegend": false,
         "type": "scatter",
         "x": [
          0.08773324764440649,
          0.10776095107199109,
          0.11141648891571754,
          -0.009885058823726721
         ],
         "y": [
          "IdentityCoalRegions",
          "IndustryCoalRegions",
          "WorkersCoalRegion",
          "NothingEco"
         ]
        },
        {
         "error_x": {
          "array": [
           0.021242734785225117,
           0.026268804824945896,
           0.02233070607104343,
           0.030864214223986643
          ],
          "color": "#CC6600",
          "thickness": 1.5,
          "type": "data"
         },
         "marker": {
          "color": "#CC6600",
          "size": 10
         },
         "mode": "markers",
         "name": "Control",
         "orientation": "h",
         "showlegend": false,
         "type": "scatter",
         "x": [
          0.11590714098620654,
          0.10466794580817106,
          0.10577521668528103,
          -0.02932467467126983
         ],
         "y": [
          "LowPrices",
          "InsureWorkers",
          "EnergyAccess",
          "NothingSoc"
         ]
        },
        {
         "error_x": {
          "array": [
           0.02224792010509083,
           0.025328487612532865,
           0.02682767617175834,
           0.026173350627195554
          ],
          "color": "#7F00FF",
          "thickness": 1.5,
          "type": "data"
         },
         "marker": {
          "color": "#7F00FF",
          "size": 10
         },
         "mode": "markers",
         "name": "Control",
         "orientation": "h",
         "showlegend": false,
         "type": "scatter",
         "x": [
          0.0920997559194365,
          0.07966400179692043,
          0.05875854162094875,
          0.0665033294710796
         ],
         "y": [
          "Eliminate&UseRenewables",
          "Eliminate&UseAllOther",
          "Reduce&IncreaseRenewables",
          "Reduce&IncreaseAllOther"
         ]
        }
       ],
       "layout": {
        "annotations": [
         {
          "font": {
           "family": "Computer Modern",
           "size": 12
          },
          "showarrow": false,
          "text": "NonCoal (lighter): n=78",
          "x": -0.02,
          "y": 25
         },
         {
          "font": {
           "family": "Computer Modern",
           "size": 12
          },
          "showarrow": false,
          "text": "Coal (darker): n=37",
          "x": -0.02,
          "y": 26
         }
        ],
        "height": 600,
        "margin": {
         "b": 40,
         "l": 80,
         "r": 30,
         "t": 80
        },
        "paper_bgcolor": "#EADDCA",
        "plot_bgcolor": "rgba(0,0,0,0)",
        "shapes": [
         {
          "fillcolor": "#2b7543",
          "layer": "below",
          "opacity": 0.1,
          "type": "rect",
          "x0": -1.5,
          "x1": 1.5,
          "y0": 0,
          "y1": 2
         },
         {
          "fillcolor": "#FF6666",
          "layer": "below",
          "opacity": 0.1,
          "type": "rect",
          "x0": -1.5,
          "x1": 1.5,
          "y0": 3,
          "y1": 6
         },
         {
          "fillcolor": "#66B2FF",
          "layer": "below",
          "opacity": 0.1,
          "type": "rect",
          "x0": -1.5,
          "x1": 1.5,
          "y0": 7,
          "y1": 12
         },
         {
          "fillcolor": "#c27e9a",
          "layer": "below",
          "opacity": 0.1,
          "type": "rect",
          "x0": -1.5,
          "x1": 1.5,
          "y0": 13,
          "y1": 16
         },
         {
          "fillcolor": "#FFB266",
          "layer": "below",
          "opacity": 0.1,
          "type": "rect",
          "x0": -1.5,
          "x1": 1.5,
          "y0": 17,
          "y1": 20
         },
         {
          "fillcolor": "#CC99FF",
          "layer": "below",
          "opacity": 0.1,
          "type": "rect",
          "x0": -1.5,
          "x1": 1.5,
          "y0": 21,
          "y1": 24
         },
         {
          "line": {
           "color": "gray",
           "dash": "dash",
           "width": 1
          },
          "type": "line",
          "x0": 0,
          "x1": 0,
          "y0": "SignificantEffort",
          "y1": "Reduce&IncreaseAllOther"
         }
        ],
        "showlegend": true,
        "template": {
         "data": {
          "bar": [
           {
            "error_x": {
             "color": "#2a3f5f"
            },
            "error_y": {
             "color": "#2a3f5f"
            },
            "marker": {
             "line": {
              "color": "#E5ECF6",
              "width": 0.5
             },
             "pattern": {
              "fillmode": "overlay",
              "size": 10,
              "solidity": 0.2
             }
            },
            "type": "bar"
           }
          ],
          "barpolar": [
           {
            "marker": {
             "line": {
              "color": "#E5ECF6",
              "width": 0.5
             },
             "pattern": {
              "fillmode": "overlay",
              "size": 10,
              "solidity": 0.2
             }
            },
            "type": "barpolar"
           }
          ],
          "carpet": [
           {
            "aaxis": {
             "endlinecolor": "#2a3f5f",
             "gridcolor": "white",
             "linecolor": "white",
             "minorgridcolor": "white",
             "startlinecolor": "#2a3f5f"
            },
            "baxis": {
             "endlinecolor": "#2a3f5f",
             "gridcolor": "white",
             "linecolor": "white",
             "minorgridcolor": "white",
             "startlinecolor": "#2a3f5f"
            },
            "type": "carpet"
           }
          ],
          "choropleth": [
           {
            "colorbar": {
             "outlinewidth": 0,
             "ticks": ""
            },
            "type": "choropleth"
           }
          ],
          "contour": [
           {
            "colorbar": {
             "outlinewidth": 0,
             "ticks": ""
            },
            "colorscale": [
             [
              0,
              "#0d0887"
             ],
             [
              0.1111111111111111,
              "#46039f"
             ],
             [
              0.2222222222222222,
              "#7201a8"
             ],
             [
              0.3333333333333333,
              "#9c179e"
             ],
             [
              0.4444444444444444,
              "#bd3786"
             ],
             [
              0.5555555555555556,
              "#d8576b"
             ],
             [
              0.6666666666666666,
              "#ed7953"
             ],
             [
              0.7777777777777778,
              "#fb9f3a"
             ],
             [
              0.8888888888888888,
              "#fdca26"
             ],
             [
              1,
              "#f0f921"
             ]
            ],
            "type": "contour"
           }
          ],
          "contourcarpet": [
           {
            "colorbar": {
             "outlinewidth": 0,
             "ticks": ""
            },
            "type": "contourcarpet"
           }
          ],
          "heatmap": [
           {
            "colorbar": {
             "outlinewidth": 0,
             "ticks": ""
            },
            "colorscale": [
             [
              0,
              "#0d0887"
             ],
             [
              0.1111111111111111,
              "#46039f"
             ],
             [
              0.2222222222222222,
              "#7201a8"
             ],
             [
              0.3333333333333333,
              "#9c179e"
             ],
             [
              0.4444444444444444,
              "#bd3786"
             ],
             [
              0.5555555555555556,
              "#d8576b"
             ],
             [
              0.6666666666666666,
              "#ed7953"
             ],
             [
              0.7777777777777778,
              "#fb9f3a"
             ],
             [
              0.8888888888888888,
              "#fdca26"
             ],
             [
              1,
              "#f0f921"
             ]
            ],
            "type": "heatmap"
           }
          ],
          "heatmapgl": [
           {
            "colorbar": {
             "outlinewidth": 0,
             "ticks": ""
            },
            "colorscale": [
             [
              0,
              "#0d0887"
             ],
             [
              0.1111111111111111,
              "#46039f"
             ],
             [
              0.2222222222222222,
              "#7201a8"
             ],
             [
              0.3333333333333333,
              "#9c179e"
             ],
             [
              0.4444444444444444,
              "#bd3786"
             ],
             [
              0.5555555555555556,
              "#d8576b"
             ],
             [
              0.6666666666666666,
              "#ed7953"
             ],
             [
              0.7777777777777778,
              "#fb9f3a"
             ],
             [
              0.8888888888888888,
              "#fdca26"
             ],
             [
              1,
              "#f0f921"
             ]
            ],
            "type": "heatmapgl"
           }
          ],
          "histogram": [
           {
            "marker": {
             "pattern": {
              "fillmode": "overlay",
              "size": 10,
              "solidity": 0.2
             }
            },
            "type": "histogram"
           }
          ],
          "histogram2d": [
           {
            "colorbar": {
             "outlinewidth": 0,
             "ticks": ""
            },
            "colorscale": [
             [
              0,
              "#0d0887"
             ],
             [
              0.1111111111111111,
              "#46039f"
             ],
             [
              0.2222222222222222,
              "#7201a8"
             ],
             [
              0.3333333333333333,
              "#9c179e"
             ],
             [
              0.4444444444444444,
              "#bd3786"
             ],
             [
              0.5555555555555556,
              "#d8576b"
             ],
             [
              0.6666666666666666,
              "#ed7953"
             ],
             [
              0.7777777777777778,
              "#fb9f3a"
             ],
             [
              0.8888888888888888,
              "#fdca26"
             ],
             [
              1,
              "#f0f921"
             ]
            ],
            "type": "histogram2d"
           }
          ],
          "histogram2dcontour": [
           {
            "colorbar": {
             "outlinewidth": 0,
             "ticks": ""
            },
            "colorscale": [
             [
              0,
              "#0d0887"
             ],
             [
              0.1111111111111111,
              "#46039f"
             ],
             [
              0.2222222222222222,
              "#7201a8"
             ],
             [
              0.3333333333333333,
              "#9c179e"
             ],
             [
              0.4444444444444444,
              "#bd3786"
             ],
             [
              0.5555555555555556,
              "#d8576b"
             ],
             [
              0.6666666666666666,
              "#ed7953"
             ],
             [
              0.7777777777777778,
              "#fb9f3a"
             ],
             [
              0.8888888888888888,
              "#fdca26"
             ],
             [
              1,
              "#f0f921"
             ]
            ],
            "type": "histogram2dcontour"
           }
          ],
          "mesh3d": [
           {
            "colorbar": {
             "outlinewidth": 0,
             "ticks": ""
            },
            "type": "mesh3d"
           }
          ],
          "parcoords": [
           {
            "line": {
             "colorbar": {
              "outlinewidth": 0,
              "ticks": ""
             }
            },
            "type": "parcoords"
           }
          ],
          "pie": [
           {
            "automargin": true,
            "type": "pie"
           }
          ],
          "scatter": [
           {
            "fillpattern": {
             "fillmode": "overlay",
             "size": 10,
             "solidity": 0.2
            },
            "type": "scatter"
           }
          ],
          "scatter3d": [
           {
            "line": {
             "colorbar": {
              "outlinewidth": 0,
              "ticks": ""
             }
            },
            "marker": {
             "colorbar": {
              "outlinewidth": 0,
              "ticks": ""
             }
            },
            "type": "scatter3d"
           }
          ],
          "scattercarpet": [
           {
            "marker": {
             "colorbar": {
              "outlinewidth": 0,
              "ticks": ""
             }
            },
            "type": "scattercarpet"
           }
          ],
          "scattergeo": [
           {
            "marker": {
             "colorbar": {
              "outlinewidth": 0,
              "ticks": ""
             }
            },
            "type": "scattergeo"
           }
          ],
          "scattergl": [
           {
            "marker": {
             "colorbar": {
              "outlinewidth": 0,
              "ticks": ""
             }
            },
            "type": "scattergl"
           }
          ],
          "scattermapbox": [
           {
            "marker": {
             "colorbar": {
              "outlinewidth": 0,
              "ticks": ""
             }
            },
            "type": "scattermapbox"
           }
          ],
          "scatterpolar": [
           {
            "marker": {
             "colorbar": {
              "outlinewidth": 0,
              "ticks": ""
             }
            },
            "type": "scatterpolar"
           }
          ],
          "scatterpolargl": [
           {
            "marker": {
             "colorbar": {
              "outlinewidth": 0,
              "ticks": ""
             }
            },
            "type": "scatterpolargl"
           }
          ],
          "scatterternary": [
           {
            "marker": {
             "colorbar": {
              "outlinewidth": 0,
              "ticks": ""
             }
            },
            "type": "scatterternary"
           }
          ],
          "surface": [
           {
            "colorbar": {
             "outlinewidth": 0,
             "ticks": ""
            },
            "colorscale": [
             [
              0,
              "#0d0887"
             ],
             [
              0.1111111111111111,
              "#46039f"
             ],
             [
              0.2222222222222222,
              "#7201a8"
             ],
             [
              0.3333333333333333,
              "#9c179e"
             ],
             [
              0.4444444444444444,
              "#bd3786"
             ],
             [
              0.5555555555555556,
              "#d8576b"
             ],
             [
              0.6666666666666666,
              "#ed7953"
             ],
             [
              0.7777777777777778,
              "#fb9f3a"
             ],
             [
              0.8888888888888888,
              "#fdca26"
             ],
             [
              1,
              "#f0f921"
             ]
            ],
            "type": "surface"
           }
          ],
          "table": [
           {
            "cells": {
             "fill": {
              "color": "#EBF0F8"
             },
             "line": {
              "color": "white"
             }
            },
            "header": {
             "fill": {
              "color": "#C8D4E3"
             },
             "line": {
              "color": "white"
             }
            },
            "type": "table"
           }
          ]
         },
         "layout": {
          "annotationdefaults": {
           "arrowcolor": "#2a3f5f",
           "arrowhead": 0,
           "arrowwidth": 1
          },
          "autotypenumbers": "strict",
          "coloraxis": {
           "colorbar": {
            "outlinewidth": 0,
            "ticks": ""
           }
          },
          "colorscale": {
           "diverging": [
            [
             0,
             "#8e0152"
            ],
            [
             0.1,
             "#c51b7d"
            ],
            [
             0.2,
             "#de77ae"
            ],
            [
             0.3,
             "#f1b6da"
            ],
            [
             0.4,
             "#fde0ef"
            ],
            [
             0.5,
             "#f7f7f7"
            ],
            [
             0.6,
             "#e6f5d0"
            ],
            [
             0.7,
             "#b8e186"
            ],
            [
             0.8,
             "#7fbc41"
            ],
            [
             0.9,
             "#4d9221"
            ],
            [
             1,
             "#276419"
            ]
           ],
           "sequential": [
            [
             0,
             "#0d0887"
            ],
            [
             0.1111111111111111,
             "#46039f"
            ],
            [
             0.2222222222222222,
             "#7201a8"
            ],
            [
             0.3333333333333333,
             "#9c179e"
            ],
            [
             0.4444444444444444,
             "#bd3786"
            ],
            [
             0.5555555555555556,
             "#d8576b"
            ],
            [
             0.6666666666666666,
             "#ed7953"
            ],
            [
             0.7777777777777778,
             "#fb9f3a"
            ],
            [
             0.8888888888888888,
             "#fdca26"
            ],
            [
             1,
             "#f0f921"
            ]
           ],
           "sequentialminus": [
            [
             0,
             "#0d0887"
            ],
            [
             0.1111111111111111,
             "#46039f"
            ],
            [
             0.2222222222222222,
             "#7201a8"
            ],
            [
             0.3333333333333333,
             "#9c179e"
            ],
            [
             0.4444444444444444,
             "#bd3786"
            ],
            [
             0.5555555555555556,
             "#d8576b"
            ],
            [
             0.6666666666666666,
             "#ed7953"
            ],
            [
             0.7777777777777778,
             "#fb9f3a"
            ],
            [
             0.8888888888888888,
             "#fdca26"
            ],
            [
             1,
             "#f0f921"
            ]
           ]
          },
          "colorway": [
           "#636efa",
           "#EF553B",
           "#00cc96",
           "#ab63fa",
           "#FFA15A",
           "#19d3f3",
           "#FF6692",
           "#B6E880",
           "#FF97FF",
           "#FECB52"
          ],
          "font": {
           "color": "#2a3f5f"
          },
          "geo": {
           "bgcolor": "white",
           "lakecolor": "white",
           "landcolor": "#E5ECF6",
           "showlakes": true,
           "showland": true,
           "subunitcolor": "white"
          },
          "hoverlabel": {
           "align": "left"
          },
          "hovermode": "closest",
          "mapbox": {
           "style": "light"
          },
          "paper_bgcolor": "white",
          "plot_bgcolor": "#E5ECF6",
          "polar": {
           "angularaxis": {
            "gridcolor": "white",
            "linecolor": "white",
            "ticks": ""
           },
           "bgcolor": "#E5ECF6",
           "radialaxis": {
            "gridcolor": "white",
            "linecolor": "white",
            "ticks": ""
           }
          },
          "scene": {
           "xaxis": {
            "backgroundcolor": "#E5ECF6",
            "gridcolor": "white",
            "gridwidth": 2,
            "linecolor": "white",
            "showbackground": true,
            "ticks": "",
            "zerolinecolor": "white"
           },
           "yaxis": {
            "backgroundcolor": "#E5ECF6",
            "gridcolor": "white",
            "gridwidth": 2,
            "linecolor": "white",
            "showbackground": true,
            "ticks": "",
            "zerolinecolor": "white"
           },
           "zaxis": {
            "backgroundcolor": "#E5ECF6",
            "gridcolor": "white",
            "gridwidth": 2,
            "linecolor": "white",
            "showbackground": true,
            "ticks": "",
            "zerolinecolor": "white"
           }
          },
          "shapedefaults": {
           "line": {
            "color": "#2a3f5f"
           }
          },
          "ternary": {
           "aaxis": {
            "gridcolor": "white",
            "linecolor": "white",
            "ticks": ""
           },
           "baxis": {
            "gridcolor": "white",
            "linecolor": "white",
            "ticks": ""
           },
           "bgcolor": "#E5ECF6",
           "caxis": {
            "gridcolor": "white",
            "linecolor": "white",
            "ticks": ""
           }
          },
          "title": {
           "x": 0.05
          },
          "xaxis": {
           "automargin": true,
           "gridcolor": "white",
           "linecolor": "white",
           "ticks": "",
           "title": {
            "standoff": 15
           },
           "zerolinecolor": "white",
           "zerolinewidth": 2
          },
          "yaxis": {
           "automargin": true,
           "gridcolor": "white",
           "linecolor": "white",
           "ticks": "",
           "title": {
            "standoff": 15
           },
           "zerolinecolor": "white",
           "zerolinewidth": 2
          }
         }
        },
        "title": {
         "font": {
          "family": "Computer Modern"
         },
         "text": "Marginal Means Coal / NonCoal region",
         "x": 0.5
        },
        "width": 1000,
        "xaxis": {
         "range": [
          -0.15,
          0.2
         ],
         "tickformat": ".2f",
         "title": {
          "text": ""
         },
         "zeroline": false
        },
        "yaxis": {
         "categoryarray": [
          "SignificantEffort",
          "ModerateEfforts",
          "MinorEfforts"
         ],
         "categoryorder": "array",
         "title": {
          "text": "Attribute Levels"
         }
        }
       }
      }
     },
     "metadata": {},
     "output_type": "display_data"
    }
   ],
   "source": [
    "def plot_relative_differences_grouped(model_control, model_treated, data_info, group1, group2, width=1.0, plot_title=\"Marginal Means Treated / Control\"):\n",
    "\n",
    "    nobs_light = model_control.nobs / 12\n",
    "    nobs_dark = model_treated.nobs / 12\n",
    "\n",
    "    order = data_info['order']\n",
    "    att_1_levels = order['att_1']\n",
    "    att_2_levels = order['att_2']\n",
    "    att_3_levels = order['att_3']\n",
    "    att_4_levels = order['att_4']\n",
    "    att_5_levels = order['att_5']\n",
    "    att_6_levels = order['att_6']\n",
    "\n",
    "    att_levels = [att_6_levels, att_5_levels, att_4_levels, att_3_levels, att_2_levels, att_1_levels]\n",
    "\n",
    "    att_colors_control = data_info['colors_control']\n",
    "    att_colors_treated = data_info['colors_treated']\n",
    "\n",
    "    fig = go.Figure()\n",
    "\n",
    "    total_levels = sum(len(levels) for levels in att_levels)\n",
    "\n",
    "    # Loop through each attribute group and add the data for 'control' to the plot\n",
    "    for i, levels in enumerate(att_levels):\n",
    "\n",
    "        att_coefficients = [model_treated.params[f'att_{6-i}_{level}'] for level in levels]\n",
    "        att_standard_errors = [model_treated.bse[f'att_{6-i}_{level}'] for level in levels]\n",
    "\n",
    "        fig.add_trace(go.Scatter(\n",
    "            x=att_coefficients,\n",
    "            y=levels,\n",
    "            mode='markers',\n",
    "            error_x=dict(type='data', array=att_standard_errors, color=att_colors_treated[i], thickness=1.5),\n",
    "            marker=dict(color=att_colors_treated[i], size=10),  # Use different colors for treated group\n",
    "            orientation='h',\n",
    "            showlegend=False,\n",
    "            name='Treated',  # Add a legend name for the treated group\n",
    "        ))\n",
    "        \n",
    "\n",
    "    # Loop through each attribute group and add the data for 'treated' to the plot\n",
    "    for i, levels in enumerate(att_levels):\n",
    "\n",
    "        att_coefficients = [model_control.params[f'att_{6-i}_{level}'] for level in levels]\n",
    "        att_standard_errors = [model_control.bse[f'att_{6-i}_{level}'] for level in levels]\n",
    "\n",
    "        fig.add_trace(go.Scatter(\n",
    "            x=att_coefficients,\n",
    "            y=levels,\n",
    "            mode='markers',\n",
    "            error_x=dict(type='data', array=att_standard_errors, color=att_colors_control[i], thickness=1.5),\n",
    "            marker=dict(color=att_colors_control[i], size=10),\n",
    "            orientation='h',\n",
    "            showlegend=False,\n",
    "            name='Control',  # Add a legend name for the control group\n",
    "        ))\n",
    "\n",
    "        fig.add_shape(\n",
    "            type=\"rect\",\n",
    "            x0=-1.5,  # Set a fixed value for x0, which is left side of the plot\n",
    "            x1=1.5,  # Set the width of the shape to 1000 (right side of the plot)\n",
    "            y0=total_levels - sum(len(l) for l in att_levels[i:]),  # Set y0 to the starting level index\n",
    "            y1=total_levels - sum(len(l) for l in att_levels[i:]) + len(levels) - 1,  # Set y1 to the ending level index\n",
    "            fillcolor=att_colors_treated[i],\n",
    "            opacity=0.1,  # Set the opacity for a light transparent effect\n",
    "            layer=\"below\",  # Place the rectangle below the scatter plot markers\n",
    "        )\n",
    "\n",
    "    # Add a vertical line at x=0 for reference\n",
    "    fig.add_shape(type=\"line\", x0=0, x1=0, y0=att_6_levels[0], y1=att_1_levels[-1], line=dict(color=\"gray\", width=1, dash='dash'))\n",
    "\n",
    "    fig.add_annotation(\n",
    "                x=-0.02,  # X-coordinate for the annotation (adjust as needed)\n",
    "                y=25.0,  # Y-coordinate for the annotation (above the plot)\n",
    "                text=f\"{group1} (lighter): n={(int(nobs_light))}\",\n",
    "                showarrow=False,\n",
    "                font=dict(\n",
    "                    family='Computer Modern',\n",
    "                    size=12,\n",
    "                    ),\n",
    "            )\n",
    "    fig.add_annotation(\n",
    "                x=-0.02,  # X-coordinate for the annotation (adjust as needed)\n",
    "                y=26.0,  # Y-coordinate for the annotation (above the plot)\n",
    "                text=f\"{group2} (darker): n={(int(nobs_dark))}\",\n",
    "                showarrow=False,\n",
    "                font=dict(\n",
    "                    family='Computer Modern',\n",
    "                    size=12,\n",
    "                    ),\n",
    "            )\n",
    "\n",
    "    # Update the layout of the error bar plot\n",
    "    fig.update_layout(\n",
    "        title={\n",
    "            'text': plot_title,\n",
    "            'x': 0.5,\n",
    "            'font': {'family': 'Computer Modern'}\n",
    "        },\n",
    "        xaxis_title='',\n",
    "        yaxis_title='Attribute Levels',\n",
    "        yaxis=dict(categoryorder='array', categoryarray=att_6_levels),  # Set the categoryorder for y-axis based on att_1_levels\n",
    "        xaxis=dict(tickformat='.2f', zeroline=False, range=[-0.15,0.2]),  # Remove x-axis zeroline\n",
    "        showlegend=True,  # Show legend with attribute names\n",
    "        margin=dict(l=80, r=30, b=40, t=80),\n",
    "        height=600,  # Set the height of the plot to 600 pixels\n",
    "        width=1000,\n",
    "        paper_bgcolor=\"#EADDCA\",\n",
    "        plot_bgcolor='rgba(0,0,0,0)',\n",
    "    )\n",
    "\n",
    "    # Show the interactive error bar plot\n",
    "    return fig\n",
    "\n",
    "specs = read_yaml(r\"C:\\Users\\sjurl\\OneDrive\\Desktop\\MasterThesis\\Analysis\\conjoint\\developer\\final\\plot_specs.yaml\")\n",
    "\n",
    "model_control = load_model(OUT / \"models\" / \"model_non_coal_region.pickle\")\n",
    "model_treated = load_model(OUT / \"models\" / \"model_coal_region.pickle\")\n",
    "\n",
    "\n",
    "\n",
    "fig = plot_relative_differences_grouped(model_control, model_treated, specs, group1=\"NonCoal\", group2=\"Coal\", width=1.0, plot_title=\"Marginal Means Coal / NonCoal region\")\n",
    "fig.show()"
   ]
  },
  {
   "attachments": {},
   "cell_type": "markdown",
   "metadata": {},
   "source": [
    "1.2 Marginal Means"
   ]
  },
  {
   "cell_type": "code",
   "execution_count": 11,
   "metadata": {},
   "outputs": [
    {
     "data": {
      "application/vnd.plotly.v1+json": {
       "config": {
        "plotlyServerURL": "https://plot.ly"
       },
       "data": [
        {
         "error_x": {
          "array": [
           0.22548044337268477,
           0.2627970111249138,
           0.2302045947789449,
           0.08079824792631544,
           0.15911769526605177,
           0.09900628968648356,
           0.2341734145079855
          ],
          "color": "red",
          "thickness": 1.5,
          "type": "data"
         },
         "marker": {
          "color": "darkgray",
          "size": 10
         },
         "mode": "markers",
         "orientation": "h",
         "showlegend": false,
         "type": "scatter",
         "x": [
          0.08741827105080918,
          0.06698041729910881,
          0.30400797294376997,
          -0.21736016569473565,
          -0.15734136400815757,
          -0.39774981211426225,
          0.19014368243775642
         ],
         "y": [
          "CivilNGO",
          "EnergySector",
          "LabourUnion",
          "LocalGov",
          "Media",
          "Researchers",
          "CentralGov"
         ]
        },
        {
         "error_x": {
          "array": [
           0.13053262401951515,
           0.12414960585356011,
           0.1038415668758847,
           0.11273165914473265,
           0.15333928991892115
          ],
          "color": "blue",
          "thickness": 1.5,
          "type": "data"
         },
         "marker": {
          "color": "darkgray",
          "size": 10
         },
         "mode": "markers",
         "orientation": "h",
         "showlegend": false,
         "type": "scatter",
         "x": [
          0.018136509758749038,
          0.17303157593093327,
          0.034314182831561096,
          -0.3296597622720289,
          -0.019723504334925035
         ],
         "y": [
          "CreateJobs",
          "EarlyPension",
          "JobGuarantee",
          "Retrain",
          "NothingEco"
         ]
        },
        {
         "error_x": {
          "array": [
           0.1664349539152884,
           0.1329897006325945,
           0.135736682554466,
           0.13741591240083761,
           0.12462894284953215
          ],
          "color": "green",
          "thickness": 1.5,
          "type": "data"
         },
         "marker": {
          "color": "darkgray",
          "size": 10
         },
         "mode": "markers",
         "orientation": "h",
         "showlegend": false,
         "type": "scatter",
         "x": [
          -0.1532209332880543,
          -0.20906259907280522,
          -0.06331586724530591,
          0.28813339393740867,
          0.013565007583046323
         ],
         "y": [
          "HealthEdu",
          "EnergyAccess",
          "LowPrices",
          "Transfers",
          "NothingSoc"
         ]
        },
        {
         "error_x": {
          "array": [
           0.12775286940065247,
           0.12111697045020685,
           0.06497819568688383,
           0.1314675130061279
          ],
          "color": "orange",
          "thickness": 1.5,
          "type": "data"
         },
         "marker": {
          "color": "darkgray",
          "size": 10
         },
         "mode": "markers",
         "orientation": "h",
         "showlegend": false,
         "type": "scatter",
         "x": [
          -0.17373672110530344,
          -0.019034812830772255,
          0.06268417306204478,
          0.006186362788320243
         ],
         "y": [
          "HighInvestment&Int",
          "HighInvestment&Int&Consideration",
          "LowInvestment&LowConsideration",
          "LowInvestment"
         ]
        },
        {
         "error_x": {
          "array": [
           0.10586990465097623,
           0.13980472903196053,
           0.13035612534707658,
           0.08415817507564742
          ],
          "color": "purple",
          "thickness": 1.5,
          "type": "data"
         },
         "marker": {
          "color": "darkgray",
          "size": 10
         },
         "mode": "markers",
         "orientation": "h",
         "showlegend": false,
         "type": "scatter",
         "x": [
          0.20355561905043865,
          0.17117444472215665,
          -0.28720880323187115,
          -0.2114222586264347
         ],
         "y": [
          "PhaseOut",
          "Stop&Reduce",
          "Stop&Maintain",
          "StatusQuo"
         ]
        }
       ],
       "layout": {
        "height": 600,
        "margin": {
         "b": 40,
         "l": 80,
         "r": 30,
         "t": 80
        },
        "shapes": [
         {
          "fillcolor": "red",
          "layer": "below",
          "opacity": 0.1,
          "type": "rect",
          "x0": -1.5,
          "x1": 1.5,
          "y0": 0,
          "y1": 6
         },
         {
          "fillcolor": "blue",
          "layer": "below",
          "opacity": 0.1,
          "type": "rect",
          "x0": -1.5,
          "x1": 1.5,
          "y0": 7,
          "y1": 11
         },
         {
          "fillcolor": "green",
          "layer": "below",
          "opacity": 0.1,
          "type": "rect",
          "x0": -1.5,
          "x1": 1.5,
          "y0": 12,
          "y1": 16
         },
         {
          "fillcolor": "orange",
          "layer": "below",
          "opacity": 0.1,
          "type": "rect",
          "x0": -1.5,
          "x1": 1.5,
          "y0": 17,
          "y1": 20
         },
         {
          "fillcolor": "purple",
          "layer": "below",
          "opacity": 0.1,
          "type": "rect",
          "x0": -1.5,
          "x1": 1.5,
          "y0": 21,
          "y1": 24
         },
         {
          "line": {
           "color": "gray",
           "dash": "dash",
           "width": 1
          },
          "type": "line",
          "x0": 0,
          "x1": 0,
          "y0": "CivilNGO",
          "y1": "StatusQuo"
         }
        ],
        "showlegend": true,
        "template": {
         "data": {
          "bar": [
           {
            "error_x": {
             "color": "#2a3f5f"
            },
            "error_y": {
             "color": "#2a3f5f"
            },
            "marker": {
             "line": {
              "color": "#E5ECF6",
              "width": 0.5
             },
             "pattern": {
              "fillmode": "overlay",
              "size": 10,
              "solidity": 0.2
             }
            },
            "type": "bar"
           }
          ],
          "barpolar": [
           {
            "marker": {
             "line": {
              "color": "#E5ECF6",
              "width": 0.5
             },
             "pattern": {
              "fillmode": "overlay",
              "size": 10,
              "solidity": 0.2
             }
            },
            "type": "barpolar"
           }
          ],
          "carpet": [
           {
            "aaxis": {
             "endlinecolor": "#2a3f5f",
             "gridcolor": "white",
             "linecolor": "white",
             "minorgridcolor": "white",
             "startlinecolor": "#2a3f5f"
            },
            "baxis": {
             "endlinecolor": "#2a3f5f",
             "gridcolor": "white",
             "linecolor": "white",
             "minorgridcolor": "white",
             "startlinecolor": "#2a3f5f"
            },
            "type": "carpet"
           }
          ],
          "choropleth": [
           {
            "colorbar": {
             "outlinewidth": 0,
             "ticks": ""
            },
            "type": "choropleth"
           }
          ],
          "contour": [
           {
            "colorbar": {
             "outlinewidth": 0,
             "ticks": ""
            },
            "colorscale": [
             [
              0,
              "#0d0887"
             ],
             [
              0.1111111111111111,
              "#46039f"
             ],
             [
              0.2222222222222222,
              "#7201a8"
             ],
             [
              0.3333333333333333,
              "#9c179e"
             ],
             [
              0.4444444444444444,
              "#bd3786"
             ],
             [
              0.5555555555555556,
              "#d8576b"
             ],
             [
              0.6666666666666666,
              "#ed7953"
             ],
             [
              0.7777777777777778,
              "#fb9f3a"
             ],
             [
              0.8888888888888888,
              "#fdca26"
             ],
             [
              1,
              "#f0f921"
             ]
            ],
            "type": "contour"
           }
          ],
          "contourcarpet": [
           {
            "colorbar": {
             "outlinewidth": 0,
             "ticks": ""
            },
            "type": "contourcarpet"
           }
          ],
          "heatmap": [
           {
            "colorbar": {
             "outlinewidth": 0,
             "ticks": ""
            },
            "colorscale": [
             [
              0,
              "#0d0887"
             ],
             [
              0.1111111111111111,
              "#46039f"
             ],
             [
              0.2222222222222222,
              "#7201a8"
             ],
             [
              0.3333333333333333,
              "#9c179e"
             ],
             [
              0.4444444444444444,
              "#bd3786"
             ],
             [
              0.5555555555555556,
              "#d8576b"
             ],
             [
              0.6666666666666666,
              "#ed7953"
             ],
             [
              0.7777777777777778,
              "#fb9f3a"
             ],
             [
              0.8888888888888888,
              "#fdca26"
             ],
             [
              1,
              "#f0f921"
             ]
            ],
            "type": "heatmap"
           }
          ],
          "heatmapgl": [
           {
            "colorbar": {
             "outlinewidth": 0,
             "ticks": ""
            },
            "colorscale": [
             [
              0,
              "#0d0887"
             ],
             [
              0.1111111111111111,
              "#46039f"
             ],
             [
              0.2222222222222222,
              "#7201a8"
             ],
             [
              0.3333333333333333,
              "#9c179e"
             ],
             [
              0.4444444444444444,
              "#bd3786"
             ],
             [
              0.5555555555555556,
              "#d8576b"
             ],
             [
              0.6666666666666666,
              "#ed7953"
             ],
             [
              0.7777777777777778,
              "#fb9f3a"
             ],
             [
              0.8888888888888888,
              "#fdca26"
             ],
             [
              1,
              "#f0f921"
             ]
            ],
            "type": "heatmapgl"
           }
          ],
          "histogram": [
           {
            "marker": {
             "pattern": {
              "fillmode": "overlay",
              "size": 10,
              "solidity": 0.2
             }
            },
            "type": "histogram"
           }
          ],
          "histogram2d": [
           {
            "colorbar": {
             "outlinewidth": 0,
             "ticks": ""
            },
            "colorscale": [
             [
              0,
              "#0d0887"
             ],
             [
              0.1111111111111111,
              "#46039f"
             ],
             [
              0.2222222222222222,
              "#7201a8"
             ],
             [
              0.3333333333333333,
              "#9c179e"
             ],
             [
              0.4444444444444444,
              "#bd3786"
             ],
             [
              0.5555555555555556,
              "#d8576b"
             ],
             [
              0.6666666666666666,
              "#ed7953"
             ],
             [
              0.7777777777777778,
              "#fb9f3a"
             ],
             [
              0.8888888888888888,
              "#fdca26"
             ],
             [
              1,
              "#f0f921"
             ]
            ],
            "type": "histogram2d"
           }
          ],
          "histogram2dcontour": [
           {
            "colorbar": {
             "outlinewidth": 0,
             "ticks": ""
            },
            "colorscale": [
             [
              0,
              "#0d0887"
             ],
             [
              0.1111111111111111,
              "#46039f"
             ],
             [
              0.2222222222222222,
              "#7201a8"
             ],
             [
              0.3333333333333333,
              "#9c179e"
             ],
             [
              0.4444444444444444,
              "#bd3786"
             ],
             [
              0.5555555555555556,
              "#d8576b"
             ],
             [
              0.6666666666666666,
              "#ed7953"
             ],
             [
              0.7777777777777778,
              "#fb9f3a"
             ],
             [
              0.8888888888888888,
              "#fdca26"
             ],
             [
              1,
              "#f0f921"
             ]
            ],
            "type": "histogram2dcontour"
           }
          ],
          "mesh3d": [
           {
            "colorbar": {
             "outlinewidth": 0,
             "ticks": ""
            },
            "type": "mesh3d"
           }
          ],
          "parcoords": [
           {
            "line": {
             "colorbar": {
              "outlinewidth": 0,
              "ticks": ""
             }
            },
            "type": "parcoords"
           }
          ],
          "pie": [
           {
            "automargin": true,
            "type": "pie"
           }
          ],
          "scatter": [
           {
            "fillpattern": {
             "fillmode": "overlay",
             "size": 10,
             "solidity": 0.2
            },
            "type": "scatter"
           }
          ],
          "scatter3d": [
           {
            "line": {
             "colorbar": {
              "outlinewidth": 0,
              "ticks": ""
             }
            },
            "marker": {
             "colorbar": {
              "outlinewidth": 0,
              "ticks": ""
             }
            },
            "type": "scatter3d"
           }
          ],
          "scattercarpet": [
           {
            "marker": {
             "colorbar": {
              "outlinewidth": 0,
              "ticks": ""
             }
            },
            "type": "scattercarpet"
           }
          ],
          "scattergeo": [
           {
            "marker": {
             "colorbar": {
              "outlinewidth": 0,
              "ticks": ""
             }
            },
            "type": "scattergeo"
           }
          ],
          "scattergl": [
           {
            "marker": {
             "colorbar": {
              "outlinewidth": 0,
              "ticks": ""
             }
            },
            "type": "scattergl"
           }
          ],
          "scattermapbox": [
           {
            "marker": {
             "colorbar": {
              "outlinewidth": 0,
              "ticks": ""
             }
            },
            "type": "scattermapbox"
           }
          ],
          "scatterpolar": [
           {
            "marker": {
             "colorbar": {
              "outlinewidth": 0,
              "ticks": ""
             }
            },
            "type": "scatterpolar"
           }
          ],
          "scatterpolargl": [
           {
            "marker": {
             "colorbar": {
              "outlinewidth": 0,
              "ticks": ""
             }
            },
            "type": "scatterpolargl"
           }
          ],
          "scatterternary": [
           {
            "marker": {
             "colorbar": {
              "outlinewidth": 0,
              "ticks": ""
             }
            },
            "type": "scatterternary"
           }
          ],
          "surface": [
           {
            "colorbar": {
             "outlinewidth": 0,
             "ticks": ""
            },
            "colorscale": [
             [
              0,
              "#0d0887"
             ],
             [
              0.1111111111111111,
              "#46039f"
             ],
             [
              0.2222222222222222,
              "#7201a8"
             ],
             [
              0.3333333333333333,
              "#9c179e"
             ],
             [
              0.4444444444444444,
              "#bd3786"
             ],
             [
              0.5555555555555556,
              "#d8576b"
             ],
             [
              0.6666666666666666,
              "#ed7953"
             ],
             [
              0.7777777777777778,
              "#fb9f3a"
             ],
             [
              0.8888888888888888,
              "#fdca26"
             ],
             [
              1,
              "#f0f921"
             ]
            ],
            "type": "surface"
           }
          ],
          "table": [
           {
            "cells": {
             "fill": {
              "color": "#EBF0F8"
             },
             "line": {
              "color": "white"
             }
            },
            "header": {
             "fill": {
              "color": "#C8D4E3"
             },
             "line": {
              "color": "white"
             }
            },
            "type": "table"
           }
          ]
         },
         "layout": {
          "annotationdefaults": {
           "arrowcolor": "#2a3f5f",
           "arrowhead": 0,
           "arrowwidth": 1
          },
          "autotypenumbers": "strict",
          "coloraxis": {
           "colorbar": {
            "outlinewidth": 0,
            "ticks": ""
           }
          },
          "colorscale": {
           "diverging": [
            [
             0,
             "#8e0152"
            ],
            [
             0.1,
             "#c51b7d"
            ],
            [
             0.2,
             "#de77ae"
            ],
            [
             0.3,
             "#f1b6da"
            ],
            [
             0.4,
             "#fde0ef"
            ],
            [
             0.5,
             "#f7f7f7"
            ],
            [
             0.6,
             "#e6f5d0"
            ],
            [
             0.7,
             "#b8e186"
            ],
            [
             0.8,
             "#7fbc41"
            ],
            [
             0.9,
             "#4d9221"
            ],
            [
             1,
             "#276419"
            ]
           ],
           "sequential": [
            [
             0,
             "#0d0887"
            ],
            [
             0.1111111111111111,
             "#46039f"
            ],
            [
             0.2222222222222222,
             "#7201a8"
            ],
            [
             0.3333333333333333,
             "#9c179e"
            ],
            [
             0.4444444444444444,
             "#bd3786"
            ],
            [
             0.5555555555555556,
             "#d8576b"
            ],
            [
             0.6666666666666666,
             "#ed7953"
            ],
            [
             0.7777777777777778,
             "#fb9f3a"
            ],
            [
             0.8888888888888888,
             "#fdca26"
            ],
            [
             1,
             "#f0f921"
            ]
           ],
           "sequentialminus": [
            [
             0,
             "#0d0887"
            ],
            [
             0.1111111111111111,
             "#46039f"
            ],
            [
             0.2222222222222222,
             "#7201a8"
            ],
            [
             0.3333333333333333,
             "#9c179e"
            ],
            [
             0.4444444444444444,
             "#bd3786"
            ],
            [
             0.5555555555555556,
             "#d8576b"
            ],
            [
             0.6666666666666666,
             "#ed7953"
            ],
            [
             0.7777777777777778,
             "#fb9f3a"
            ],
            [
             0.8888888888888888,
             "#fdca26"
            ],
            [
             1,
             "#f0f921"
            ]
           ]
          },
          "colorway": [
           "#636efa",
           "#EF553B",
           "#00cc96",
           "#ab63fa",
           "#FFA15A",
           "#19d3f3",
           "#FF6692",
           "#B6E880",
           "#FF97FF",
           "#FECB52"
          ],
          "font": {
           "color": "#2a3f5f"
          },
          "geo": {
           "bgcolor": "white",
           "lakecolor": "white",
           "landcolor": "#E5ECF6",
           "showlakes": true,
           "showland": true,
           "subunitcolor": "white"
          },
          "hoverlabel": {
           "align": "left"
          },
          "hovermode": "closest",
          "mapbox": {
           "style": "light"
          },
          "paper_bgcolor": "white",
          "plot_bgcolor": "#E5ECF6",
          "polar": {
           "angularaxis": {
            "gridcolor": "white",
            "linecolor": "white",
            "ticks": ""
           },
           "bgcolor": "#E5ECF6",
           "radialaxis": {
            "gridcolor": "white",
            "linecolor": "white",
            "ticks": ""
           }
          },
          "scene": {
           "xaxis": {
            "backgroundcolor": "#E5ECF6",
            "gridcolor": "white",
            "gridwidth": 2,
            "linecolor": "white",
            "showbackground": true,
            "ticks": "",
            "zerolinecolor": "white"
           },
           "yaxis": {
            "backgroundcolor": "#E5ECF6",
            "gridcolor": "white",
            "gridwidth": 2,
            "linecolor": "white",
            "showbackground": true,
            "ticks": "",
            "zerolinecolor": "white"
           },
           "zaxis": {
            "backgroundcolor": "#E5ECF6",
            "gridcolor": "white",
            "gridwidth": 2,
            "linecolor": "white",
            "showbackground": true,
            "ticks": "",
            "zerolinecolor": "white"
           }
          },
          "shapedefaults": {
           "line": {
            "color": "#2a3f5f"
           }
          },
          "ternary": {
           "aaxis": {
            "gridcolor": "white",
            "linecolor": "white",
            "ticks": ""
           },
           "baxis": {
            "gridcolor": "white",
            "linecolor": "white",
            "ticks": ""
           },
           "bgcolor": "#E5ECF6",
           "caxis": {
            "gridcolor": "white",
            "linecolor": "white",
            "ticks": ""
           }
          },
          "title": {
           "x": 0.05
          },
          "xaxis": {
           "automargin": true,
           "gridcolor": "white",
           "linecolor": "white",
           "ticks": "",
           "title": {
            "standoff": 15
           },
           "zerolinecolor": "white",
           "zerolinewidth": 2
          },
          "yaxis": {
           "automargin": true,
           "gridcolor": "white",
           "linecolor": "white",
           "ticks": "",
           "title": {
            "standoff": 15
           },
           "zerolinecolor": "white",
           "zerolinewidth": 2
          }
         }
        },
        "title": {
         "text": "Relative Rating Differences",
         "x": 0.62
        },
        "width": 1000,
        "xaxis": {
         "tickformat": ".2f",
         "title": {
          "text": ""
         },
         "zeroline": false
        },
        "yaxis": {
         "categoryarray": [
          "CivilNGO",
          "EnergySector",
          "LabourUnion",
          "LocalGov",
          "Media",
          "Researchers",
          "CentralGov"
         ],
         "categoryorder": "array",
         "title": {
          "text": "Attribute Levels"
         }
        }
       }
      }
     },
     "metadata": {},
     "output_type": "display_data"
    }
   ],
   "source": [
    "import plotly.graph_objects as go\n",
    "\n",
    "# Assuming 'model' is the variable that holds your regression results\n",
    "# Extract the coefficients and standard errors for each attribute level\n",
    "att_1_levels = ['PhaseOut', 'Stop&Reduce', 'Stop&Maintain', 'StatusQuo']\n",
    "att_2_levels = ['HighInvestment&Int', 'HighInvestment&Int&Consideration', 'LowInvestment&LowConsideration', 'LowInvestment']\n",
    "att_3_levels = ['HealthEdu', 'EnergyAccess', 'LowPrices', 'Transfers', 'NothingSoc']\n",
    "att_4_levels = ['CreateJobs', 'EarlyPension', 'JobGuarantee', 'Retrain', 'NothingEco']\n",
    "att_5_levels = ['CivilNGO', 'EnergySector', 'LabourUnion', 'LocalGov', 'Media', 'Researchers', 'CentralGov']\n",
    "\n",
    "\n",
    "\n",
    "#Remember to add att_6\n",
    "att_levels = [att_5_levels, att_4_levels, att_3_levels, att_2_levels, att_1_levels]\n",
    "\n",
    "att_colors = ['red', 'blue', 'green', 'orange', 'purple']  # Colors for each attribute group\n",
    "\n",
    "fig = go.Figure()\n",
    "\n",
    "total_levels = sum(len(levels) for levels in att_levels)\n",
    "\n",
    "# Loop through each attribute group and add the data to the plot\n",
    "for i, levels in enumerate(att_levels):\n",
    "    att_coefficients = [model.params[f'att_{5-i}_{level}'] for level in levels]\n",
    "    att_standard_errors = [model.bse[f'att_{5-i}_{level}'] for level in levels]\n",
    "\n",
    "    fig.add_trace(go.Scatter(\n",
    "        x=att_coefficients,\n",
    "        y=levels,\n",
    "        mode='markers',\n",
    "        error_x=dict(type='data', array=att_standard_errors, color=att_colors[i], thickness=1.5),\n",
    "        marker=dict(color='darkgray', size=10),\n",
    "        orientation='h',\n",
    "        showlegend = False,\n",
    "    ))\n",
    "\n",
    "    fig.add_shape(\n",
    "        type=\"rect\",\n",
    "        x0=-1.5,  # Set a fixed value for x0, which is left side of the plot\n",
    "        x1=1.5,  # Set the width of the shape to 1000 (right side of the plot)\n",
    "        y0=total_levels - sum(len(l) for l in att_levels[i:]),  # Set y0 to the starting level index\n",
    "        y1=total_levels - sum(len(l) for l in att_levels[i:]) + len(levels) - 1,  # Set y1 to the ending level index\n",
    "        fillcolor=att_colors[i],\n",
    "        opacity=0.1,  # Set the opacity for a light transparent effect\n",
    "        layer=\"below\",  # Place the rectangle below the scatter plot markers\n",
    "    )\n",
    "\n",
    "# Add a vertical line at x=0 for reference\n",
    "fig.add_shape(type=\"line\", x0=0, x1=0, y0=att_5_levels[0], y1=att_1_levels[-1], line=dict(color=\"gray\", width=1, dash='dash'))\n",
    "\n",
    "# Update the layout of the error bar plot\n",
    "fig.update_layout(\n",
    "    title='Marginal Means',\n",
    "    xaxis_title='',\n",
    "    yaxis_title='Attribute Levels',\n",
    "    yaxis=dict(categoryorder='array', categoryarray=att_5_levels),  # Set the categoryorder for y-axis based on att_1_levels\n",
    "    xaxis=dict(tickformat='.2f', zeroline=False),  # Remove x-axis zeroline\n",
    "    showlegend=True,  # Show legend with attribute names\n",
    "    margin=dict(l=80, r=30, b=40, t=80),\n",
    "    height=600,  # Set the height of the plot to 600 pixels\n",
    "    width=1000,\n",
    "    title_x=0.62,\n",
    ")\n",
    "\n",
    "# Show the interactive error bar plot\n",
    "fig.show()\n"
   ]
  },
  {
   "attachments": {},
   "cell_type": "markdown",
   "metadata": {},
   "source": [
    "Grouped"
   ]
  },
  {
   "cell_type": "code",
   "execution_count": 12,
   "metadata": {},
   "outputs": [
    {
     "data": {
      "application/vnd.plotly.v1+json": {
       "config": {
        "plotlyServerURL": "https://plot.ly"
       },
       "data": [
        {
         "error_x": {
          "array": [
           0.6584291808521778,
           0.6846703615566971,
           0.47699232500122735,
           0.22044602657858903,
           0.2951308862863799,
           0.29872896037143926,
           0.36959495021430006
          ],
          "color": "red",
          "thickness": 1.5,
          "type": "data"
         },
         "marker": {
          "color": "darkgray",
          "size": 10
         },
         "mode": "markers",
         "name": "Control",
         "orientation": "h",
         "showlegend": false,
         "type": "scatter",
         "x": [
          0.15820283364178162,
          0.07761398869770521,
          0.21359474558015365,
          -0.16831714118688515,
          -0.35003290588010283,
          -0.36073952258648123,
          0.2764312084500931
         ],
         "y": [
          "CivilNGO",
          "EnergySector",
          "LabourUnion",
          "LocalGov",
          "Media",
          "Researchers",
          "CentralGov"
         ]
        },
        {
         "error_x": {
          "array": [
           0.3315759676037956,
           0.21907457512265407,
           0.44706156539336306,
           0.18596571233320222,
           0.3941370821328204
          ],
          "color": "blue",
          "thickness": 1.5,
          "type": "data"
         },
         "marker": {
          "color": "darkgray",
          "size": 10
         },
         "mode": "markers",
         "name": "Control",
         "orientation": "h",
         "showlegend": false,
         "type": "scatter",
         "x": [
          0.00016474424912392427,
          0.2609427944810764,
          0.09438014347729824,
          -0.4658316446929349,
          -0.04290283079829843
         ],
         "y": [
          "CreateJobs",
          "EarlyPension",
          "JobGuarantee",
          "Retrain",
          "NothingEco"
         ]
        },
        {
         "error_x": {
          "array": [
           0.21684965672311943,
           0.16279001910890245,
           0.2201398075222534,
           0.22462396392104006,
           0.45072000881391877
          ],
          "color": "green",
          "thickness": 1.5,
          "type": "data"
         },
         "marker": {
          "color": "darkgray",
          "size": 10
         },
         "mode": "markers",
         "name": "Control",
         "orientation": "h",
         "showlegend": false,
         "type": "scatter",
         "x": [
          -0.19223944030533158,
          -0.1364257740080607,
          0.2623913078245007,
          -0.12858463713786766,
          0.04161175034302342
         ],
         "y": [
          "HealthEdu",
          "EnergyAccess",
          "LowPrices",
          "Transfers",
          "NothingSoc"
         ]
        },
        {
         "error_x": {
          "array": [
           0.31845656936307004,
           0.21271502363101205,
           0.11518660184936504,
           0.3060574505350153
          ],
          "color": "orange",
          "thickness": 1.5,
          "type": "data"
         },
         "marker": {
          "color": "darkgray",
          "size": 10
         },
         "mode": "markers",
         "name": "Control",
         "orientation": "h",
         "showlegend": false,
         "type": "scatter",
         "x": [
          -0.19784426263894614,
          -0.26286095279728455,
          0.041470172430990375,
          0.2659882497215046
         ],
         "y": [
          "HighInvestment&Int",
          "HighInvestment&Int&Consideration",
          "LowInvestment&LowConsideration",
          "LowInvestment"
         ]
        },
        {
         "error_x": {
          "array": [
           0.15020210551842192,
           0.36114443132473184,
           0.29080168524478744,
           0.14264975968234808
          ],
          "color": "purple",
          "thickness": 1.5,
          "type": "data"
         },
         "marker": {
          "color": "darkgray",
          "size": 10
         },
         "mode": "markers",
         "name": "Control",
         "orientation": "h",
         "showlegend": false,
         "type": "scatter",
         "x": [
          0.3254728560780739,
          -0.08473794573822463,
          -0.30696076458294275,
          -0.08702093904064243
         ],
         "y": [
          "PhaseOut",
          "Stop&Reduce",
          "Stop&Maintain",
          "StatusQuo"
         ]
        },
        {
         "error_x": {
          "array": [
           0.233454028605335,
           0.23499906343776267,
           0.4564783201528125,
           0.10655372087579801,
           0.20246541445197633,
           0.21662827972327722,
           0.32396964534225614
          ],
          "color": "red",
          "thickness": 1.5,
          "type": "data"
         },
         "marker": {
          "color": "red",
          "size": 10
         },
         "mode": "markers",
         "name": "Treated",
         "orientation": "h",
         "showlegend": false,
         "type": "scatter",
         "x": [
          0.026011858696742884,
          0.31842623047685353,
          0.41134428959100755,
          -0.27558922060293745,
          -0.07777619518703771,
          -0.427688795704513,
          -0.04458642949514399
         ],
         "y": [
          "CivilNGO",
          "EnergySector",
          "LabourUnion",
          "LocalGov",
          "Media",
          "Researchers",
          "CentralGov"
         ]
        },
        {
         "error_x": {
          "array": [
           0.3088003507122563,
           0.21985964399470925,
           0.08726781708967166,
           0.20147519331582428,
           0.23940734714287704
          ],
          "color": "blue",
          "thickness": 1.5,
          "type": "data"
         },
         "marker": {
          "color": "blue",
          "size": 10
         },
         "mode": "markers",
         "name": "Treated",
         "orientation": "h",
         "showlegend": false,
         "type": "scatter",
         "x": [
          -0.07777008584045113,
          0.2572675070978824,
          0.12194010819647083,
          -0.35766944671225176,
          -0.013626344966678902
         ],
         "y": [
          "CreateJobs",
          "EarlyPension",
          "JobGuarantee",
          "Retrain",
          "NothingEco"
         ]
        },
        {
         "error_x": {
          "array": [
           0.2688227324904073,
           0.2837254577811472,
           0.16995666718419258,
           0.11370687150054865,
           0.2424097047381784
          ],
          "color": "green",
          "thickness": 1.5,
          "type": "data"
         },
         "marker": {
          "color": "green",
          "size": 10
         },
         "mode": "markers",
         "name": "Treated",
         "orientation": "h",
         "showlegend": false,
         "type": "scatter",
         "x": [
          0.05866798768073865,
          -0.37063412155209147,
          -0.33471309374618485,
          0.5197151746642731,
          0.057105790728235406
         ],
         "y": [
          "HealthEdu",
          "EnergyAccess",
          "LowPrices",
          "Transfers",
          "NothingSoc"
         ]
        },
        {
         "error_x": {
          "array": [
           0.17210368555366815,
           0.2074273377395959,
           0.16512143221773545,
           0.1510496855143783
          ],
          "color": "orange",
          "thickness": 1.5,
          "type": "data"
         },
         "marker": {
          "color": "orange",
          "size": 10
         },
         "mode": "markers",
         "name": "Treated",
         "orientation": "h",
         "showlegend": false,
         "type": "scatter",
         "x": [
          -0.1654811519879438,
          0.08494268457554303,
          0.1154600683569247,
          -0.1047798631695531
         ],
         "y": [
          "HighInvestment&Int",
          "HighInvestment&Int&Consideration",
          "LowInvestment&LowConsideration",
          "LowInvestment"
         ]
        },
        {
         "error_x": {
          "array": [
           0.15671785061765003,
           0.2229405502314405,
           0.24574063142346092,
           0.06153251146755219
          ],
          "color": "purple",
          "thickness": 1.5,
          "type": "data"
         },
         "marker": {
          "color": "purple",
          "size": 10
         },
         "mode": "markers",
         "name": "Treated",
         "orientation": "h",
         "showlegend": false,
         "type": "scatter",
         "x": [
          0.11204047129385761,
          0.33042753019822896,
          -0.10436244824147019,
          -0.40796381547564503
         ],
         "y": [
          "PhaseOut",
          "Stop&Reduce",
          "Stop&Maintain",
          "StatusQuo"
         ]
        }
       ],
       "layout": {
        "height": 600,
        "margin": {
         "b": 40,
         "l": 80,
         "r": 30,
         "t": 80
        },
        "shapes": [
         {
          "fillcolor": "red",
          "layer": "below",
          "opacity": 0.1,
          "type": "rect",
          "x0": -1.5,
          "x1": 1.5,
          "y0": 0,
          "y1": 6
         },
         {
          "fillcolor": "blue",
          "layer": "below",
          "opacity": 0.1,
          "type": "rect",
          "x0": -1.5,
          "x1": 1.5,
          "y0": 7,
          "y1": 11
         },
         {
          "fillcolor": "green",
          "layer": "below",
          "opacity": 0.1,
          "type": "rect",
          "x0": -1.5,
          "x1": 1.5,
          "y0": 12,
          "y1": 16
         },
         {
          "fillcolor": "orange",
          "layer": "below",
          "opacity": 0.1,
          "type": "rect",
          "x0": -1.5,
          "x1": 1.5,
          "y0": 17,
          "y1": 20
         },
         {
          "fillcolor": "purple",
          "layer": "below",
          "opacity": 0.1,
          "type": "rect",
          "x0": -1.5,
          "x1": 1.5,
          "y0": 21,
          "y1": 24
         },
         {
          "line": {
           "color": "gray",
           "dash": "dash",
           "width": 1
          },
          "type": "line",
          "x0": 0,
          "x1": 0,
          "y0": "CivilNGO",
          "y1": "StatusQuo"
         }
        ],
        "showlegend": true,
        "template": {
         "data": {
          "bar": [
           {
            "error_x": {
             "color": "#2a3f5f"
            },
            "error_y": {
             "color": "#2a3f5f"
            },
            "marker": {
             "line": {
              "color": "#E5ECF6",
              "width": 0.5
             },
             "pattern": {
              "fillmode": "overlay",
              "size": 10,
              "solidity": 0.2
             }
            },
            "type": "bar"
           }
          ],
          "barpolar": [
           {
            "marker": {
             "line": {
              "color": "#E5ECF6",
              "width": 0.5
             },
             "pattern": {
              "fillmode": "overlay",
              "size": 10,
              "solidity": 0.2
             }
            },
            "type": "barpolar"
           }
          ],
          "carpet": [
           {
            "aaxis": {
             "endlinecolor": "#2a3f5f",
             "gridcolor": "white",
             "linecolor": "white",
             "minorgridcolor": "white",
             "startlinecolor": "#2a3f5f"
            },
            "baxis": {
             "endlinecolor": "#2a3f5f",
             "gridcolor": "white",
             "linecolor": "white",
             "minorgridcolor": "white",
             "startlinecolor": "#2a3f5f"
            },
            "type": "carpet"
           }
          ],
          "choropleth": [
           {
            "colorbar": {
             "outlinewidth": 0,
             "ticks": ""
            },
            "type": "choropleth"
           }
          ],
          "contour": [
           {
            "colorbar": {
             "outlinewidth": 0,
             "ticks": ""
            },
            "colorscale": [
             [
              0,
              "#0d0887"
             ],
             [
              0.1111111111111111,
              "#46039f"
             ],
             [
              0.2222222222222222,
              "#7201a8"
             ],
             [
              0.3333333333333333,
              "#9c179e"
             ],
             [
              0.4444444444444444,
              "#bd3786"
             ],
             [
              0.5555555555555556,
              "#d8576b"
             ],
             [
              0.6666666666666666,
              "#ed7953"
             ],
             [
              0.7777777777777778,
              "#fb9f3a"
             ],
             [
              0.8888888888888888,
              "#fdca26"
             ],
             [
              1,
              "#f0f921"
             ]
            ],
            "type": "contour"
           }
          ],
          "contourcarpet": [
           {
            "colorbar": {
             "outlinewidth": 0,
             "ticks": ""
            },
            "type": "contourcarpet"
           }
          ],
          "heatmap": [
           {
            "colorbar": {
             "outlinewidth": 0,
             "ticks": ""
            },
            "colorscale": [
             [
              0,
              "#0d0887"
             ],
             [
              0.1111111111111111,
              "#46039f"
             ],
             [
              0.2222222222222222,
              "#7201a8"
             ],
             [
              0.3333333333333333,
              "#9c179e"
             ],
             [
              0.4444444444444444,
              "#bd3786"
             ],
             [
              0.5555555555555556,
              "#d8576b"
             ],
             [
              0.6666666666666666,
              "#ed7953"
             ],
             [
              0.7777777777777778,
              "#fb9f3a"
             ],
             [
              0.8888888888888888,
              "#fdca26"
             ],
             [
              1,
              "#f0f921"
             ]
            ],
            "type": "heatmap"
           }
          ],
          "heatmapgl": [
           {
            "colorbar": {
             "outlinewidth": 0,
             "ticks": ""
            },
            "colorscale": [
             [
              0,
              "#0d0887"
             ],
             [
              0.1111111111111111,
              "#46039f"
             ],
             [
              0.2222222222222222,
              "#7201a8"
             ],
             [
              0.3333333333333333,
              "#9c179e"
             ],
             [
              0.4444444444444444,
              "#bd3786"
             ],
             [
              0.5555555555555556,
              "#d8576b"
             ],
             [
              0.6666666666666666,
              "#ed7953"
             ],
             [
              0.7777777777777778,
              "#fb9f3a"
             ],
             [
              0.8888888888888888,
              "#fdca26"
             ],
             [
              1,
              "#f0f921"
             ]
            ],
            "type": "heatmapgl"
           }
          ],
          "histogram": [
           {
            "marker": {
             "pattern": {
              "fillmode": "overlay",
              "size": 10,
              "solidity": 0.2
             }
            },
            "type": "histogram"
           }
          ],
          "histogram2d": [
           {
            "colorbar": {
             "outlinewidth": 0,
             "ticks": ""
            },
            "colorscale": [
             [
              0,
              "#0d0887"
             ],
             [
              0.1111111111111111,
              "#46039f"
             ],
             [
              0.2222222222222222,
              "#7201a8"
             ],
             [
              0.3333333333333333,
              "#9c179e"
             ],
             [
              0.4444444444444444,
              "#bd3786"
             ],
             [
              0.5555555555555556,
              "#d8576b"
             ],
             [
              0.6666666666666666,
              "#ed7953"
             ],
             [
              0.7777777777777778,
              "#fb9f3a"
             ],
             [
              0.8888888888888888,
              "#fdca26"
             ],
             [
              1,
              "#f0f921"
             ]
            ],
            "type": "histogram2d"
           }
          ],
          "histogram2dcontour": [
           {
            "colorbar": {
             "outlinewidth": 0,
             "ticks": ""
            },
            "colorscale": [
             [
              0,
              "#0d0887"
             ],
             [
              0.1111111111111111,
              "#46039f"
             ],
             [
              0.2222222222222222,
              "#7201a8"
             ],
             [
              0.3333333333333333,
              "#9c179e"
             ],
             [
              0.4444444444444444,
              "#bd3786"
             ],
             [
              0.5555555555555556,
              "#d8576b"
             ],
             [
              0.6666666666666666,
              "#ed7953"
             ],
             [
              0.7777777777777778,
              "#fb9f3a"
             ],
             [
              0.8888888888888888,
              "#fdca26"
             ],
             [
              1,
              "#f0f921"
             ]
            ],
            "type": "histogram2dcontour"
           }
          ],
          "mesh3d": [
           {
            "colorbar": {
             "outlinewidth": 0,
             "ticks": ""
            },
            "type": "mesh3d"
           }
          ],
          "parcoords": [
           {
            "line": {
             "colorbar": {
              "outlinewidth": 0,
              "ticks": ""
             }
            },
            "type": "parcoords"
           }
          ],
          "pie": [
           {
            "automargin": true,
            "type": "pie"
           }
          ],
          "scatter": [
           {
            "fillpattern": {
             "fillmode": "overlay",
             "size": 10,
             "solidity": 0.2
            },
            "type": "scatter"
           }
          ],
          "scatter3d": [
           {
            "line": {
             "colorbar": {
              "outlinewidth": 0,
              "ticks": ""
             }
            },
            "marker": {
             "colorbar": {
              "outlinewidth": 0,
              "ticks": ""
             }
            },
            "type": "scatter3d"
           }
          ],
          "scattercarpet": [
           {
            "marker": {
             "colorbar": {
              "outlinewidth": 0,
              "ticks": ""
             }
            },
            "type": "scattercarpet"
           }
          ],
          "scattergeo": [
           {
            "marker": {
             "colorbar": {
              "outlinewidth": 0,
              "ticks": ""
             }
            },
            "type": "scattergeo"
           }
          ],
          "scattergl": [
           {
            "marker": {
             "colorbar": {
              "outlinewidth": 0,
              "ticks": ""
             }
            },
            "type": "scattergl"
           }
          ],
          "scattermapbox": [
           {
            "marker": {
             "colorbar": {
              "outlinewidth": 0,
              "ticks": ""
             }
            },
            "type": "scattermapbox"
           }
          ],
          "scatterpolar": [
           {
            "marker": {
             "colorbar": {
              "outlinewidth": 0,
              "ticks": ""
             }
            },
            "type": "scatterpolar"
           }
          ],
          "scatterpolargl": [
           {
            "marker": {
             "colorbar": {
              "outlinewidth": 0,
              "ticks": ""
             }
            },
            "type": "scatterpolargl"
           }
          ],
          "scatterternary": [
           {
            "marker": {
             "colorbar": {
              "outlinewidth": 0,
              "ticks": ""
             }
            },
            "type": "scatterternary"
           }
          ],
          "surface": [
           {
            "colorbar": {
             "outlinewidth": 0,
             "ticks": ""
            },
            "colorscale": [
             [
              0,
              "#0d0887"
             ],
             [
              0.1111111111111111,
              "#46039f"
             ],
             [
              0.2222222222222222,
              "#7201a8"
             ],
             [
              0.3333333333333333,
              "#9c179e"
             ],
             [
              0.4444444444444444,
              "#bd3786"
             ],
             [
              0.5555555555555556,
              "#d8576b"
             ],
             [
              0.6666666666666666,
              "#ed7953"
             ],
             [
              0.7777777777777778,
              "#fb9f3a"
             ],
             [
              0.8888888888888888,
              "#fdca26"
             ],
             [
              1,
              "#f0f921"
             ]
            ],
            "type": "surface"
           }
          ],
          "table": [
           {
            "cells": {
             "fill": {
              "color": "#EBF0F8"
             },
             "line": {
              "color": "white"
             }
            },
            "header": {
             "fill": {
              "color": "#C8D4E3"
             },
             "line": {
              "color": "white"
             }
            },
            "type": "table"
           }
          ]
         },
         "layout": {
          "annotationdefaults": {
           "arrowcolor": "#2a3f5f",
           "arrowhead": 0,
           "arrowwidth": 1
          },
          "autotypenumbers": "strict",
          "coloraxis": {
           "colorbar": {
            "outlinewidth": 0,
            "ticks": ""
           }
          },
          "colorscale": {
           "diverging": [
            [
             0,
             "#8e0152"
            ],
            [
             0.1,
             "#c51b7d"
            ],
            [
             0.2,
             "#de77ae"
            ],
            [
             0.3,
             "#f1b6da"
            ],
            [
             0.4,
             "#fde0ef"
            ],
            [
             0.5,
             "#f7f7f7"
            ],
            [
             0.6,
             "#e6f5d0"
            ],
            [
             0.7,
             "#b8e186"
            ],
            [
             0.8,
             "#7fbc41"
            ],
            [
             0.9,
             "#4d9221"
            ],
            [
             1,
             "#276419"
            ]
           ],
           "sequential": [
            [
             0,
             "#0d0887"
            ],
            [
             0.1111111111111111,
             "#46039f"
            ],
            [
             0.2222222222222222,
             "#7201a8"
            ],
            [
             0.3333333333333333,
             "#9c179e"
            ],
            [
             0.4444444444444444,
             "#bd3786"
            ],
            [
             0.5555555555555556,
             "#d8576b"
            ],
            [
             0.6666666666666666,
             "#ed7953"
            ],
            [
             0.7777777777777778,
             "#fb9f3a"
            ],
            [
             0.8888888888888888,
             "#fdca26"
            ],
            [
             1,
             "#f0f921"
            ]
           ],
           "sequentialminus": [
            [
             0,
             "#0d0887"
            ],
            [
             0.1111111111111111,
             "#46039f"
            ],
            [
             0.2222222222222222,
             "#7201a8"
            ],
            [
             0.3333333333333333,
             "#9c179e"
            ],
            [
             0.4444444444444444,
             "#bd3786"
            ],
            [
             0.5555555555555556,
             "#d8576b"
            ],
            [
             0.6666666666666666,
             "#ed7953"
            ],
            [
             0.7777777777777778,
             "#fb9f3a"
            ],
            [
             0.8888888888888888,
             "#fdca26"
            ],
            [
             1,
             "#f0f921"
            ]
           ]
          },
          "colorway": [
           "#636efa",
           "#EF553B",
           "#00cc96",
           "#ab63fa",
           "#FFA15A",
           "#19d3f3",
           "#FF6692",
           "#B6E880",
           "#FF97FF",
           "#FECB52"
          ],
          "font": {
           "color": "#2a3f5f"
          },
          "geo": {
           "bgcolor": "white",
           "lakecolor": "white",
           "landcolor": "#E5ECF6",
           "showlakes": true,
           "showland": true,
           "subunitcolor": "white"
          },
          "hoverlabel": {
           "align": "left"
          },
          "hovermode": "closest",
          "mapbox": {
           "style": "light"
          },
          "paper_bgcolor": "white",
          "plot_bgcolor": "#E5ECF6",
          "polar": {
           "angularaxis": {
            "gridcolor": "white",
            "linecolor": "white",
            "ticks": ""
           },
           "bgcolor": "#E5ECF6",
           "radialaxis": {
            "gridcolor": "white",
            "linecolor": "white",
            "ticks": ""
           }
          },
          "scene": {
           "xaxis": {
            "backgroundcolor": "#E5ECF6",
            "gridcolor": "white",
            "gridwidth": 2,
            "linecolor": "white",
            "showbackground": true,
            "ticks": "",
            "zerolinecolor": "white"
           },
           "yaxis": {
            "backgroundcolor": "#E5ECF6",
            "gridcolor": "white",
            "gridwidth": 2,
            "linecolor": "white",
            "showbackground": true,
            "ticks": "",
            "zerolinecolor": "white"
           },
           "zaxis": {
            "backgroundcolor": "#E5ECF6",
            "gridcolor": "white",
            "gridwidth": 2,
            "linecolor": "white",
            "showbackground": true,
            "ticks": "",
            "zerolinecolor": "white"
           }
          },
          "shapedefaults": {
           "line": {
            "color": "#2a3f5f"
           }
          },
          "ternary": {
           "aaxis": {
            "gridcolor": "white",
            "linecolor": "white",
            "ticks": ""
           },
           "baxis": {
            "gridcolor": "white",
            "linecolor": "white",
            "ticks": ""
           },
           "bgcolor": "#E5ECF6",
           "caxis": {
            "gridcolor": "white",
            "linecolor": "white",
            "ticks": ""
           }
          },
          "title": {
           "x": 0.05
          },
          "xaxis": {
           "automargin": true,
           "gridcolor": "white",
           "linecolor": "white",
           "ticks": "",
           "title": {
            "standoff": 15
           },
           "zerolinecolor": "white",
           "zerolinewidth": 2
          },
          "yaxis": {
           "automargin": true,
           "gridcolor": "white",
           "linecolor": "white",
           "ticks": "",
           "title": {
            "standoff": 15
           },
           "zerolinecolor": "white",
           "zerolinewidth": 2
          }
         }
        },
        "title": {
         "text": "Relative Rating Differences",
         "x": 0.62
        },
        "width": 1000,
        "xaxis": {
         "tickformat": ".2f",
         "title": {
          "text": ""
         },
         "zeroline": false
        },
        "yaxis": {
         "categoryarray": [
          "CivilNGO",
          "EnergySector",
          "LabourUnion",
          "LocalGov",
          "Media",
          "Researchers",
          "CentralGov"
         ],
         "categoryorder": "array",
         "title": {
          "text": "Attribute Levels"
         }
        }
       }
      }
     },
     "metadata": {},
     "output_type": "display_data"
    }
   ],
   "source": [
    "import plotly.graph_objects as go\n",
    "\n",
    "# Assuming 'model' is the variable that holds your regression results\n",
    "# Extract the coefficients and standard errors for each attribute level\n",
    "att_1_levels = ['PhaseOut', 'Stop&Reduce', 'Stop&Maintain', 'StatusQuo']\n",
    "att_2_levels = ['HighInvestment&Int', 'HighInvestment&Int&Consideration', 'LowInvestment&LowConsideration', 'LowInvestment']\n",
    "att_3_levels = ['HealthEdu', 'EnergyAccess', 'LowPrices', 'Transfers', 'NothingSoc']\n",
    "att_4_levels = ['CreateJobs', 'EarlyPension', 'JobGuarantee', 'Retrain', 'NothingEco']\n",
    "att_5_levels = ['CivilNGO', 'EnergySector', 'LabourUnion', 'LocalGov', 'Media', 'Researchers', 'CentralGov']\n",
    "\n",
    "\n",
    "\n",
    "#Remember to add att_6\n",
    "att_levels = [att_5_levels, att_4_levels, att_3_levels, att_2_levels, att_1_levels]\n",
    "\n",
    "att_colors_control = ['red', 'blue', 'green', 'orange', 'purple']  # Colors for each attribute group\n",
    "\n",
    "fig = go.Figure()\n",
    "\n",
    "total_levels = sum(len(levels) for levels in att_levels)\n",
    "\n",
    "# Loop through each attribute group and add the data to the plot\n",
    "fig = go.Figure()\n",
    "\n",
    "# Loop through each attribute group and add the data for 'control' to the plot\n",
    "for i, levels in enumerate(att_levels):\n",
    "    att_coefficients = [model_control.params[f'att_{5-i}_{level}'] for level in levels]\n",
    "    att_standard_errors = [model_control.bse[f'att_{5-i}_{level}'] for level in levels]\n",
    "\n",
    "\n",
    "    fig.add_trace(go.Scatter(\n",
    "        x=att_coefficients,\n",
    "        y=levels,\n",
    "        mode='markers',\n",
    "        error_x=dict(type='data', array=att_standard_errors, color=att_colors[i], thickness=1.5),\n",
    "        marker=dict(color='darkgray', size=10),\n",
    "        orientation='h',\n",
    "        showlegend=False,\n",
    "        name='Control',  # Add a legend name for the control group\n",
    "    ))\n",
    "\n",
    "# Loop through each attribute group and add the data for 'treated' to the plot\n",
    "for i, levels in enumerate(att_levels):\n",
    "    att_coefficients = [model_treated.params[f'att_{5-i}_{level}'] for level in levels]\n",
    "    att_standard_errors = [model_treated.bse[f'att_{5-i}_{level}'] for level in levels]\n",
    "\n",
    "    fig.add_trace(go.Scatter(\n",
    "        x=att_coefficients,\n",
    "        y=levels,\n",
    "        mode='markers',\n",
    "        error_x=dict(type='data', array=att_standard_errors, color=att_colors[i], thickness=1.5),\n",
    "        marker=dict(color=att_colors[i], size=10),  # Use different colors for treated group\n",
    "        orientation='h',\n",
    "        showlegend=False,\n",
    "        name='Treated',  # Add a legend name for the treated group\n",
    "    ))\n",
    "\n",
    "    fig.add_shape(\n",
    "        type=\"rect\",\n",
    "        x0=-1.5,  # Set a fixed value for x0, which is left side of the plot\n",
    "        x1=1.5,  # Set the width of the shape to 1000 (right side of the plot)\n",
    "        y0=total_levels - sum(len(l) for l in att_levels[i:]),  # Set y0 to the starting level index\n",
    "        y1=total_levels - sum(len(l) for l in att_levels[i:]) + len(levels) - 1,  # Set y1 to the ending level index\n",
    "        fillcolor=att_colors[i],\n",
    "        opacity=0.1,  # Set the opacity for a light transparent effect\n",
    "        layer=\"below\",  # Place the rectangle below the scatter plot markers\n",
    "    )\n",
    "\n",
    "# Add a vertical line at x=0 for reference\n",
    "fig.add_shape(type=\"line\", x0=0, x1=0, y0=att_5_levels[0], y1=att_1_levels[-1], line=dict(color=\"gray\", width=1, dash='dash'))\n",
    "\n",
    "# Update the layout of the error bar plot\n",
    "fig.update_layout(\n",
    "    title='Marginal Means Treatment/Control',\n",
    "    xaxis_title='',\n",
    "    yaxis_title='Attribute Levels',\n",
    "    yaxis=dict(categoryorder='array', categoryarray=att_5_levels),  # Set the categoryorder for y-axis based on att_1_levels\n",
    "    xaxis=dict(tickformat='.2f', zeroline=False),  # Remove x-axis zeroline\n",
    "    showlegend=True,  # Show legend with attribute names\n",
    "    margin=dict(l=80, r=30, b=40, t=80),\n",
    "    height=600,  # Set the height of the plot to 600 pixels\n",
    "    width=1000,\n",
    "    title_x=0.62,\n",
    ")\n",
    "\n",
    "# Show the interactive error bar plot\n",
    "fig.show()\n"
   ]
  },
  {
   "attachments": {},
   "cell_type": "markdown",
   "metadata": {},
   "source": [
    "##### 1.2 Rating attributes with a Normalization Method.\n",
    "\n",
    "*Normalizing the coefficients involves transforming them to a common scale, typically between 0 and 1. This makes it easier to compare the relative importance of different attributes.*\n",
    "\n",
    "\n",
    "To aggregate the importance scores for different levels of the same attribute and obtain an overall importance score for each attribute, you can calculate a weighted average or sum of the importance scores of its individual levels. Here's how you can do it:\n",
    "\n",
    "Calculate Normalized Importance Scores (NIS) for Attribute Levels:\n",
    "\n",
    "Follow the normalization method as described earlier to calculate the normalized importance scores (NIS) for each attribute level.\n",
    "Aggregate Importance Scores for Each Attribute:\n",
    "\n",
    "a. Weighted Average Method:\n",
    "\n",
    "Calculate the weighted average importance score for each attribute by taking the sum of the products of each level's NIS and its corresponding weight (frequency or probability of that level's occurrence in the choice sets).\n",
    "This method considers both the relative importance of each level and its likelihood of being chosen in the experiment.\n",
    "b. Simple Sum Method:\n",
    "\n",
    "Sum up the normalized importance scores (NIS) of all levels within an attribute.\n",
    "This method treats all levels equally in terms of their contribution to the overall importance score.\n",
    "Attribute Importance Ranking:\n",
    "\n",
    "Rank the attributes based on the aggregated importance scores. Higher scores indicate greater importance.\n",
    "Example using the Weighted Average Method:\n",
    "\n",
    "Let's consider an example with attribute \"att_1\" from your regression results. You have four levels: \"PhaseOut,\" \"StatusQuo,\" \"Stop&Maintain,\" and \"Stop&Reduce.\" You've already calculated the normalized importance scores (NIS) for each level as follows:\n",
    "\n",
    "NIS(PhaseOut) = 0.8810 / 0.8810 = 1.0000\n",
    "NIS(StatusQuo) = 0.2979 / 0.8810 = 0.3379\n",
    "NIS(Stop&Maintain) = 0.1471 / 0.8810 = 0.1668\n",
    "NIS(Stop&Reduce) = 0.9077 / 0.8810 = 1.0302\n",
    "Let's assume that the frequency (or probability) of each level's occurrence in the choice sets is as follows:\n",
    "\n",
    "PhaseOut: 30%\n",
    "StatusQuo: 20%\n",
    "Stop&Maintain: 25%\n",
    "Stop&Reduce: 25%\n",
    "Now, calculate the weighted average importance score for \"att_1\":\n",
    "Weighted Average Importance Score for att_1 = (NIS(PhaseOut) * 0.30) + (NIS(StatusQuo) * 0.20) + (NIS(Stop&Maintain) * 0.25) + (NIS(Stop&Reduce) * 0.25)\n",
    "Weighted Average Importance Score for att_1 = (1.0000 * 0.30) + (0.3379 * 0.20) + (0.1668 * 0.25) + (1.0302 * 0.25) ≈ 0.5623\n",
    "\n",
    "Repeat this process for each attribute to obtain aggregated importance scores, and then rank the attributes based on these scores.\n",
    "\n",
    "Remember that the choice of the weighting scheme (equal weights, frequency-based weights, or other relevant weights) depends on your specific context and research design."
   ]
  },
  {
   "attachments": {},
   "cell_type": "markdown",
   "metadata": {},
   "source": [
    "##### Plot freq"
   ]
  },
  {
   "cell_type": "code",
   "execution_count": 25,
   "metadata": {},
   "outputs": [],
   "source": [
    "freq = pd.read_csv(OUT / 'data' / 'data_freq.csv')"
   ]
  },
  {
   "attachments": {},
   "cell_type": "markdown",
   "metadata": {},
   "source": [
    "NIS"
   ]
  },
  {
   "cell_type": "code",
   "execution_count": null,
   "metadata": {},
   "outputs": [],
   "source": []
  },
  {
   "attachments": {},
   "cell_type": "markdown",
   "metadata": {},
   "source": [
    "##### 1.3 MarginalMeans"
   ]
  },
  {
   "cell_type": "code",
   "execution_count": 13,
   "metadata": {},
   "outputs": [
    {
     "ename": "IndexError",
     "evalue": "index 3 is out of bounds for axis 0 with size 3",
     "output_type": "error",
     "traceback": [
      "\u001b[1;31m---------------------------------------------------------------------------\u001b[0m",
      "\u001b[1;31mIndexError\u001b[0m                                Traceback (most recent call last)",
      "\u001b[1;32m~\\AppData\\Local\\Temp\\ipykernel_5116\\4017404302.py\u001b[0m in \u001b[0;36m?\u001b[1;34m()\u001b[0m\n\u001b[0;32m      1\u001b[0m \u001b[0mdf_total\u001b[0m \u001b[1;33m=\u001b[0m \u001b[0mpd\u001b[0m\u001b[1;33m.\u001b[0m\u001b[0mread_csv\u001b[0m\u001b[1;33m(\u001b[0m\u001b[0mOUT\u001b[0m \u001b[1;33m/\u001b[0m \u001b[1;34m\"models\"\u001b[0m \u001b[1;33m/\u001b[0m \u001b[1;34m\"model_aware.csv\"\u001b[0m\u001b[1;33m)\u001b[0m\u001b[1;33m\u001b[0m\u001b[1;33m\u001b[0m\u001b[0m\n\u001b[1;32m----> 2\u001b[1;33m \u001b[0mdf_total\u001b[0m\u001b[1;33m.\u001b[0m\u001b[0miloc\u001b[0m\u001b[1;33m[\u001b[0m\u001b[1;36m3\u001b[0m\u001b[1;33m,\u001b[0m\u001b[1;36m0\u001b[0m\u001b[1;33m]\u001b[0m\u001b[1;33m\u001b[0m\u001b[1;33m\u001b[0m\u001b[0m\n\u001b[0m",
      "\u001b[1;32mc:\\ProgramData\\Anaconda3\\envs\\conjoint\\Lib\\site-packages\\pandas\\core\\indexing.py\u001b[0m in \u001b[0;36m?\u001b[1;34m(self, key)\u001b[0m\n\u001b[0;32m   1092\u001b[0m         \u001b[1;32mif\u001b[0m \u001b[0mtype\u001b[0m\u001b[1;33m(\u001b[0m\u001b[0mkey\u001b[0m\u001b[1;33m)\u001b[0m \u001b[1;32mis\u001b[0m \u001b[0mtuple\u001b[0m\u001b[1;33m:\u001b[0m\u001b[1;33m\u001b[0m\u001b[1;33m\u001b[0m\u001b[0m\n\u001b[0;32m   1093\u001b[0m             \u001b[0mkey\u001b[0m \u001b[1;33m=\u001b[0m \u001b[0mtuple\u001b[0m\u001b[1;33m(\u001b[0m\u001b[0mlist\u001b[0m\u001b[1;33m(\u001b[0m\u001b[0mx\u001b[0m\u001b[1;33m)\u001b[0m \u001b[1;32mif\u001b[0m \u001b[0mis_iterator\u001b[0m\u001b[1;33m(\u001b[0m\u001b[0mx\u001b[0m\u001b[1;33m)\u001b[0m \u001b[1;32melse\u001b[0m \u001b[0mx\u001b[0m \u001b[1;32mfor\u001b[0m \u001b[0mx\u001b[0m \u001b[1;32min\u001b[0m \u001b[0mkey\u001b[0m\u001b[1;33m)\u001b[0m\u001b[1;33m\u001b[0m\u001b[1;33m\u001b[0m\u001b[0m\n\u001b[0;32m   1094\u001b[0m             \u001b[0mkey\u001b[0m \u001b[1;33m=\u001b[0m \u001b[0mtuple\u001b[0m\u001b[1;33m(\u001b[0m\u001b[0mcom\u001b[0m\u001b[1;33m.\u001b[0m\u001b[0mapply_if_callable\u001b[0m\u001b[1;33m(\u001b[0m\u001b[0mx\u001b[0m\u001b[1;33m,\u001b[0m \u001b[0mself\u001b[0m\u001b[1;33m.\u001b[0m\u001b[0mobj\u001b[0m\u001b[1;33m)\u001b[0m \u001b[1;32mfor\u001b[0m \u001b[0mx\u001b[0m \u001b[1;32min\u001b[0m \u001b[0mkey\u001b[0m\u001b[1;33m)\u001b[0m\u001b[1;33m\u001b[0m\u001b[1;33m\u001b[0m\u001b[0m\n\u001b[0;32m   1095\u001b[0m             \u001b[1;32mif\u001b[0m \u001b[0mself\u001b[0m\u001b[1;33m.\u001b[0m\u001b[0m_is_scalar_access\u001b[0m\u001b[1;33m(\u001b[0m\u001b[0mkey\u001b[0m\u001b[1;33m)\u001b[0m\u001b[1;33m:\u001b[0m\u001b[1;33m\u001b[0m\u001b[1;33m\u001b[0m\u001b[0m\n\u001b[1;32m-> 1096\u001b[1;33m                 \u001b[1;32mreturn\u001b[0m \u001b[0mself\u001b[0m\u001b[1;33m.\u001b[0m\u001b[0mobj\u001b[0m\u001b[1;33m.\u001b[0m\u001b[0m_get_value\u001b[0m\u001b[1;33m(\u001b[0m\u001b[1;33m*\u001b[0m\u001b[0mkey\u001b[0m\u001b[1;33m,\u001b[0m \u001b[0mtakeable\u001b[0m\u001b[1;33m=\u001b[0m\u001b[0mself\u001b[0m\u001b[1;33m.\u001b[0m\u001b[0m_takeable\u001b[0m\u001b[1;33m)\u001b[0m\u001b[1;33m\u001b[0m\u001b[1;33m\u001b[0m\u001b[0m\n\u001b[0m\u001b[0;32m   1097\u001b[0m             \u001b[1;32mreturn\u001b[0m \u001b[0mself\u001b[0m\u001b[1;33m.\u001b[0m\u001b[0m_getitem_tuple\u001b[0m\u001b[1;33m(\u001b[0m\u001b[0mkey\u001b[0m\u001b[1;33m)\u001b[0m\u001b[1;33m\u001b[0m\u001b[1;33m\u001b[0m\u001b[0m\n\u001b[0;32m   1098\u001b[0m         \u001b[1;32melse\u001b[0m\u001b[1;33m:\u001b[0m\u001b[1;33m\u001b[0m\u001b[1;33m\u001b[0m\u001b[0m\n\u001b[0;32m   1099\u001b[0m             \u001b[1;31m# we by definition only have the 0th axis\u001b[0m\u001b[1;33m\u001b[0m\u001b[1;33m\u001b[0m\u001b[0m\n",
      "\u001b[1;32mc:\\ProgramData\\Anaconda3\\envs\\conjoint\\Lib\\site-packages\\pandas\\core\\frame.py\u001b[0m in \u001b[0;36m?\u001b[1;34m(self, index, col, takeable)\u001b[0m\n\u001b[0;32m   3864\u001b[0m         \u001b[0;31m`\u001b[0m\u001b[0mself\u001b[0m\u001b[1;33m.\u001b[0m\u001b[0mcolumns\u001b[0m\u001b[1;33m.\u001b[0m\u001b[0m_index_as_unique\u001b[0m\u001b[0;31m`\u001b[0m\u001b[1;33m;\u001b[0m \u001b[0mCaller\u001b[0m \u001b[1;32mis\u001b[0m \u001b[0mresponsible\u001b[0m \u001b[1;32mfor\u001b[0m \u001b[0mchecking\u001b[0m\u001b[1;33m.\u001b[0m\u001b[1;33m\u001b[0m\u001b[1;33m\u001b[0m\u001b[0m\n\u001b[0;32m   3865\u001b[0m         \"\"\"\n\u001b[0;32m   3866\u001b[0m         \u001b[1;32mif\u001b[0m \u001b[0mtakeable\u001b[0m\u001b[1;33m:\u001b[0m\u001b[1;33m\u001b[0m\u001b[1;33m\u001b[0m\u001b[0m\n\u001b[0;32m   3867\u001b[0m             \u001b[0mseries\u001b[0m \u001b[1;33m=\u001b[0m \u001b[0mself\u001b[0m\u001b[1;33m.\u001b[0m\u001b[0m_ixs\u001b[0m\u001b[1;33m(\u001b[0m\u001b[0mcol\u001b[0m\u001b[1;33m,\u001b[0m \u001b[0maxis\u001b[0m\u001b[1;33m=\u001b[0m\u001b[1;36m1\u001b[0m\u001b[1;33m)\u001b[0m\u001b[1;33m\u001b[0m\u001b[1;33m\u001b[0m\u001b[0m\n\u001b[1;32m-> 3868\u001b[1;33m             \u001b[1;32mreturn\u001b[0m \u001b[0mseries\u001b[0m\u001b[1;33m.\u001b[0m\u001b[0m_values\u001b[0m\u001b[1;33m[\u001b[0m\u001b[0mindex\u001b[0m\u001b[1;33m]\u001b[0m\u001b[1;33m\u001b[0m\u001b[1;33m\u001b[0m\u001b[0m\n\u001b[0m\u001b[0;32m   3869\u001b[0m \u001b[1;33m\u001b[0m\u001b[0m\n\u001b[0;32m   3870\u001b[0m         \u001b[0mseries\u001b[0m \u001b[1;33m=\u001b[0m \u001b[0mself\u001b[0m\u001b[1;33m.\u001b[0m\u001b[0m_get_item_cache\u001b[0m\u001b[1;33m(\u001b[0m\u001b[0mcol\u001b[0m\u001b[1;33m)\u001b[0m\u001b[1;33m\u001b[0m\u001b[1;33m\u001b[0m\u001b[0m\n\u001b[0;32m   3871\u001b[0m         \u001b[0mengine\u001b[0m \u001b[1;33m=\u001b[0m \u001b[0mself\u001b[0m\u001b[1;33m.\u001b[0m\u001b[0mindex\u001b[0m\u001b[1;33m.\u001b[0m\u001b[0m_engine\u001b[0m\u001b[1;33m\u001b[0m\u001b[1;33m\u001b[0m\u001b[0m\n",
      "\u001b[1;31mIndexError\u001b[0m: index 3 is out of bounds for axis 0 with size 3"
     ]
    }
   ],
   "source": [
    "df_total = pd.read_csv(OUT / \"models\" / \"model_aware.csv\")\n",
    "df_total.iloc[2,1]\n"
   ]
  },
  {
   "cell_type": "code",
   "execution_count": 4,
   "metadata": {},
   "outputs": [],
   "source": [
    "df_total = pd.read_csv(OUT / \"data\" / \"data_regression.csv\")\n",
    "\n",
    "import pandas as pd\n",
    "import numpy as np\n",
    "\n",
    "def _calculate_conditional_probability(df, column_x, column_y):\n",
    "\n",
    "    nobs = len(df)\n",
    "    # Step 1: Count occurrences of X=1 and Y=1 simultaneously\n",
    "    xy_count = ((df[column_x] == True) & (df[column_y] == True)).sum()\n",
    "    \n",
    "    # Step 2: Count occurrences of X=1\n",
    "    x_count = (df[column_x] == True).sum()\n",
    "    \n",
    "    # Step 3: Calculate P(Y=1|X=1)\n",
    "    if x_count > 0:\n",
    "        probability_y_given_x = xy_count / x_count\n",
    "        probability_y_given_x = probability_y_given_x.round(4)\n",
    "    else:\n",
    "        probability_y_given_x = np.nan\n",
    "    \n",
    "    # Step 4: Calculate standard deviation\n",
    "    variance_y_given_x = (probability_y_given_x * (1 - probability_y_given_x)) / x_count\n",
    "    std_deviation = np.sqrt(variance_y_given_x).round(4)\n",
    "    \n",
    "    return probability_y_given_x, std_deviation, nobs\n",
    "\n",
    "def marginal_means(df): \n",
    "    attributes_levels = df.columns[df.columns.str.startswith('att')]\n",
    "\n",
    "    outcome = 'support'\n",
    "\n",
    "    marginal_means ={}\n",
    "\n",
    "    for att_level in attributes_levels:\n",
    "        results = _calculate_conditional_probability(df, att_level, outcome)\n",
    "        marginal_means[f'{att_level}_MM'] = []\n",
    "        marginal_means[f'{att_level}_MM'].append(results[0])\n",
    "        marginal_means[f'{att_level}_MM'].append(results[1])\n",
    "        marginal_means[f'{att_level}_MM'].append(results[2])\n",
    "\n",
    "    return pd.DataFrame(marginal_means)\n",
    "\n",
    "marginal_means = marginal_means(df_total)\n",
    "\n",
    "\n"
   ]
  },
  {
   "cell_type": "code",
   "execution_count": 34,
   "metadata": {},
   "outputs": [
    {
     "data": {
      "application/vnd.plotly.v1+json": {
       "config": {
        "plotlyServerURL": "https://plot.ly"
       },
       "data": [
        {
         "error_x": {
          "array": [
           0.014381,
           0.015563,
           0.015563,
           0.015957
          ],
          "color": "red",
          "thickness": 1.5,
          "type": "data"
         },
         "marker": {
          "color": "#36454F",
          "size": 10
         },
         "mode": "markers",
         "orientation": "h",
         "showlegend": false,
         "type": "scatter",
         "x": [
          0.7518,
          0.6859,
          0.6786,
          0.6603
         ],
         "y": [
          "Fin&TechSupport",
          "FinSupportOnly",
          "TechSupportOnly",
          "NoInterference"
         ]
        },
        {
         "error_x": {
          "array": [
           0.018715,
           0.018911999999999998,
           0.018715,
           0.019109,
           0.018518,
           0.019109
          ],
          "color": "blue",
          "thickness": 1.5,
          "type": "data"
         },
         "marker": {
          "color": "#36454F",
          "size": 10
         },
         "mode": "markers",
         "orientation": "h",
         "showlegend": false,
         "type": "scatter",
         "x": [
          0.7105,
          0.706,
          0.6841,
          0.69,
          0.7086,
          0.6672
         ],
         "y": [
          "Gov&CivilSociety",
          "Gov&Researchers",
          "Gov&Businesses",
          "Gov&LaborUnions",
          "Gov&LocalGov",
          "GovAlone"
         ]
        },
        {
         "error_x": {
          "array": [
           0.015366,
           0.014972,
           0.015169,
           0.015957
          ],
          "color": "green",
          "thickness": 1.5,
          "type": "data"
         },
         "marker": {
          "color": "#36454F",
          "size": 10
         },
         "mode": "markers",
         "orientation": "h",
         "showlegend": false,
         "type": "scatter",
         "x": [
          0.6925,
          0.7127,
          0.7197,
          0.6516
         ],
         "y": [
          "IdentityCoalRegions",
          "IndustryCoalRegions",
          "WorkersCoalRegion",
          "NothingEco"
         ]
        },
        {
         "error_x": {
          "array": [
           0.014972,
           0.014972,
           0.015366,
           0.016154
          ],
          "color": "#F08000",
          "thickness": 1.5,
          "type": "data"
         },
         "marker": {
          "color": "#36454F",
          "size": 10
         },
         "mode": "markers",
         "orientation": "h",
         "showlegend": false,
         "type": "scatter",
         "x": [
          0.7156,
          0.7206,
          0.7008,
          0.6394
         ],
         "y": [
          "LowPrices",
          "InsureWorkers",
          "EnergyAccess",
          "NothingSoc"
         ]
        },
        {
         "error_x": {
          "array": [
           0.013987000000000001,
           0.013002,
           0.013002
          ],
          "color": "purple",
          "thickness": 1.5,
          "type": "data"
         },
         "marker": {
          "color": "#36454F",
          "size": 10
         },
         "mode": "markers",
         "orientation": "h",
         "showlegend": false,
         "type": "scatter",
         "x": [
          0.6469,
          0.7101,
          0.725
         ],
         "y": [
          "Eliminate2070",
          "Eliminate2050",
          "Reduce2030"
         ]
        }
       ],
       "layout": {
        "height": 800,
        "margin": {
         "b": 40,
         "l": 80,
         "r": 30,
         "t": 80
        },
        "paper_bgcolor": "#EADDCA",
        "plot_bgcolor": "rgba(0,0,0,0)",
        "shapes": [
         {
          "fillcolor": "red",
          "layer": "below",
          "opacity": 0.1,
          "type": "rect",
          "x0": -1,
          "x1": 1,
          "y0": 0,
          "y1": 3
         },
         {
          "fillcolor": "blue",
          "layer": "below",
          "opacity": 0.1,
          "type": "rect",
          "x0": -1,
          "x1": 1,
          "y0": 4,
          "y1": 9
         },
         {
          "fillcolor": "green",
          "layer": "below",
          "opacity": 0.1,
          "type": "rect",
          "x0": -1,
          "x1": 1,
          "y0": 10,
          "y1": 13
         },
         {
          "fillcolor": "#F08000",
          "layer": "below",
          "opacity": 0.1,
          "type": "rect",
          "x0": -1,
          "x1": 1,
          "y0": 14,
          "y1": 17
         },
         {
          "fillcolor": "purple",
          "layer": "below",
          "opacity": 0.1,
          "type": "rect",
          "x0": -1,
          "x1": 1,
          "y0": 18,
          "y1": 20
         },
         {
          "line": {
           "color": "gray",
           "dash": "dash",
           "width": 1
          },
          "type": "line",
          "x0": 0.5,
          "x1": 0.5,
          "y0": "Fin&TechSupport",
          "y1": "Reduce2030"
         }
        ],
        "showlegend": true,
        "template": {
         "data": {
          "bar": [
           {
            "error_x": {
             "color": "#2a3f5f"
            },
            "error_y": {
             "color": "#2a3f5f"
            },
            "marker": {
             "line": {
              "color": "#E5ECF6",
              "width": 0.5
             },
             "pattern": {
              "fillmode": "overlay",
              "size": 10,
              "solidity": 0.2
             }
            },
            "type": "bar"
           }
          ],
          "barpolar": [
           {
            "marker": {
             "line": {
              "color": "#E5ECF6",
              "width": 0.5
             },
             "pattern": {
              "fillmode": "overlay",
              "size": 10,
              "solidity": 0.2
             }
            },
            "type": "barpolar"
           }
          ],
          "carpet": [
           {
            "aaxis": {
             "endlinecolor": "#2a3f5f",
             "gridcolor": "white",
             "linecolor": "white",
             "minorgridcolor": "white",
             "startlinecolor": "#2a3f5f"
            },
            "baxis": {
             "endlinecolor": "#2a3f5f",
             "gridcolor": "white",
             "linecolor": "white",
             "minorgridcolor": "white",
             "startlinecolor": "#2a3f5f"
            },
            "type": "carpet"
           }
          ],
          "choropleth": [
           {
            "colorbar": {
             "outlinewidth": 0,
             "ticks": ""
            },
            "type": "choropleth"
           }
          ],
          "contour": [
           {
            "colorbar": {
             "outlinewidth": 0,
             "ticks": ""
            },
            "colorscale": [
             [
              0,
              "#0d0887"
             ],
             [
              0.1111111111111111,
              "#46039f"
             ],
             [
              0.2222222222222222,
              "#7201a8"
             ],
             [
              0.3333333333333333,
              "#9c179e"
             ],
             [
              0.4444444444444444,
              "#bd3786"
             ],
             [
              0.5555555555555556,
              "#d8576b"
             ],
             [
              0.6666666666666666,
              "#ed7953"
             ],
             [
              0.7777777777777778,
              "#fb9f3a"
             ],
             [
              0.8888888888888888,
              "#fdca26"
             ],
             [
              1,
              "#f0f921"
             ]
            ],
            "type": "contour"
           }
          ],
          "contourcarpet": [
           {
            "colorbar": {
             "outlinewidth": 0,
             "ticks": ""
            },
            "type": "contourcarpet"
           }
          ],
          "heatmap": [
           {
            "colorbar": {
             "outlinewidth": 0,
             "ticks": ""
            },
            "colorscale": [
             [
              0,
              "#0d0887"
             ],
             [
              0.1111111111111111,
              "#46039f"
             ],
             [
              0.2222222222222222,
              "#7201a8"
             ],
             [
              0.3333333333333333,
              "#9c179e"
             ],
             [
              0.4444444444444444,
              "#bd3786"
             ],
             [
              0.5555555555555556,
              "#d8576b"
             ],
             [
              0.6666666666666666,
              "#ed7953"
             ],
             [
              0.7777777777777778,
              "#fb9f3a"
             ],
             [
              0.8888888888888888,
              "#fdca26"
             ],
             [
              1,
              "#f0f921"
             ]
            ],
            "type": "heatmap"
           }
          ],
          "heatmapgl": [
           {
            "colorbar": {
             "outlinewidth": 0,
             "ticks": ""
            },
            "colorscale": [
             [
              0,
              "#0d0887"
             ],
             [
              0.1111111111111111,
              "#46039f"
             ],
             [
              0.2222222222222222,
              "#7201a8"
             ],
             [
              0.3333333333333333,
              "#9c179e"
             ],
             [
              0.4444444444444444,
              "#bd3786"
             ],
             [
              0.5555555555555556,
              "#d8576b"
             ],
             [
              0.6666666666666666,
              "#ed7953"
             ],
             [
              0.7777777777777778,
              "#fb9f3a"
             ],
             [
              0.8888888888888888,
              "#fdca26"
             ],
             [
              1,
              "#f0f921"
             ]
            ],
            "type": "heatmapgl"
           }
          ],
          "histogram": [
           {
            "marker": {
             "pattern": {
              "fillmode": "overlay",
              "size": 10,
              "solidity": 0.2
             }
            },
            "type": "histogram"
           }
          ],
          "histogram2d": [
           {
            "colorbar": {
             "outlinewidth": 0,
             "ticks": ""
            },
            "colorscale": [
             [
              0,
              "#0d0887"
             ],
             [
              0.1111111111111111,
              "#46039f"
             ],
             [
              0.2222222222222222,
              "#7201a8"
             ],
             [
              0.3333333333333333,
              "#9c179e"
             ],
             [
              0.4444444444444444,
              "#bd3786"
             ],
             [
              0.5555555555555556,
              "#d8576b"
             ],
             [
              0.6666666666666666,
              "#ed7953"
             ],
             [
              0.7777777777777778,
              "#fb9f3a"
             ],
             [
              0.8888888888888888,
              "#fdca26"
             ],
             [
              1,
              "#f0f921"
             ]
            ],
            "type": "histogram2d"
           }
          ],
          "histogram2dcontour": [
           {
            "colorbar": {
             "outlinewidth": 0,
             "ticks": ""
            },
            "colorscale": [
             [
              0,
              "#0d0887"
             ],
             [
              0.1111111111111111,
              "#46039f"
             ],
             [
              0.2222222222222222,
              "#7201a8"
             ],
             [
              0.3333333333333333,
              "#9c179e"
             ],
             [
              0.4444444444444444,
              "#bd3786"
             ],
             [
              0.5555555555555556,
              "#d8576b"
             ],
             [
              0.6666666666666666,
              "#ed7953"
             ],
             [
              0.7777777777777778,
              "#fb9f3a"
             ],
             [
              0.8888888888888888,
              "#fdca26"
             ],
             [
              1,
              "#f0f921"
             ]
            ],
            "type": "histogram2dcontour"
           }
          ],
          "mesh3d": [
           {
            "colorbar": {
             "outlinewidth": 0,
             "ticks": ""
            },
            "type": "mesh3d"
           }
          ],
          "parcoords": [
           {
            "line": {
             "colorbar": {
              "outlinewidth": 0,
              "ticks": ""
             }
            },
            "type": "parcoords"
           }
          ],
          "pie": [
           {
            "automargin": true,
            "type": "pie"
           }
          ],
          "scatter": [
           {
            "fillpattern": {
             "fillmode": "overlay",
             "size": 10,
             "solidity": 0.2
            },
            "type": "scatter"
           }
          ],
          "scatter3d": [
           {
            "line": {
             "colorbar": {
              "outlinewidth": 0,
              "ticks": ""
             }
            },
            "marker": {
             "colorbar": {
              "outlinewidth": 0,
              "ticks": ""
             }
            },
            "type": "scatter3d"
           }
          ],
          "scattercarpet": [
           {
            "marker": {
             "colorbar": {
              "outlinewidth": 0,
              "ticks": ""
             }
            },
            "type": "scattercarpet"
           }
          ],
          "scattergeo": [
           {
            "marker": {
             "colorbar": {
              "outlinewidth": 0,
              "ticks": ""
             }
            },
            "type": "scattergeo"
           }
          ],
          "scattergl": [
           {
            "marker": {
             "colorbar": {
              "outlinewidth": 0,
              "ticks": ""
             }
            },
            "type": "scattergl"
           }
          ],
          "scattermapbox": [
           {
            "marker": {
             "colorbar": {
              "outlinewidth": 0,
              "ticks": ""
             }
            },
            "type": "scattermapbox"
           }
          ],
          "scatterpolar": [
           {
            "marker": {
             "colorbar": {
              "outlinewidth": 0,
              "ticks": ""
             }
            },
            "type": "scatterpolar"
           }
          ],
          "scatterpolargl": [
           {
            "marker": {
             "colorbar": {
              "outlinewidth": 0,
              "ticks": ""
             }
            },
            "type": "scatterpolargl"
           }
          ],
          "scatterternary": [
           {
            "marker": {
             "colorbar": {
              "outlinewidth": 0,
              "ticks": ""
             }
            },
            "type": "scatterternary"
           }
          ],
          "surface": [
           {
            "colorbar": {
             "outlinewidth": 0,
             "ticks": ""
            },
            "colorscale": [
             [
              0,
              "#0d0887"
             ],
             [
              0.1111111111111111,
              "#46039f"
             ],
             [
              0.2222222222222222,
              "#7201a8"
             ],
             [
              0.3333333333333333,
              "#9c179e"
             ],
             [
              0.4444444444444444,
              "#bd3786"
             ],
             [
              0.5555555555555556,
              "#d8576b"
             ],
             [
              0.6666666666666666,
              "#ed7953"
             ],
             [
              0.7777777777777778,
              "#fb9f3a"
             ],
             [
              0.8888888888888888,
              "#fdca26"
             ],
             [
              1,
              "#f0f921"
             ]
            ],
            "type": "surface"
           }
          ],
          "table": [
           {
            "cells": {
             "fill": {
              "color": "#EBF0F8"
             },
             "line": {
              "color": "white"
             }
            },
            "header": {
             "fill": {
              "color": "#C8D4E3"
             },
             "line": {
              "color": "white"
             }
            },
            "type": "table"
           }
          ]
         },
         "layout": {
          "annotationdefaults": {
           "arrowcolor": "#2a3f5f",
           "arrowhead": 0,
           "arrowwidth": 1
          },
          "autotypenumbers": "strict",
          "coloraxis": {
           "colorbar": {
            "outlinewidth": 0,
            "ticks": ""
           }
          },
          "colorscale": {
           "diverging": [
            [
             0,
             "#8e0152"
            ],
            [
             0.1,
             "#c51b7d"
            ],
            [
             0.2,
             "#de77ae"
            ],
            [
             0.3,
             "#f1b6da"
            ],
            [
             0.4,
             "#fde0ef"
            ],
            [
             0.5,
             "#f7f7f7"
            ],
            [
             0.6,
             "#e6f5d0"
            ],
            [
             0.7,
             "#b8e186"
            ],
            [
             0.8,
             "#7fbc41"
            ],
            [
             0.9,
             "#4d9221"
            ],
            [
             1,
             "#276419"
            ]
           ],
           "sequential": [
            [
             0,
             "#0d0887"
            ],
            [
             0.1111111111111111,
             "#46039f"
            ],
            [
             0.2222222222222222,
             "#7201a8"
            ],
            [
             0.3333333333333333,
             "#9c179e"
            ],
            [
             0.4444444444444444,
             "#bd3786"
            ],
            [
             0.5555555555555556,
             "#d8576b"
            ],
            [
             0.6666666666666666,
             "#ed7953"
            ],
            [
             0.7777777777777778,
             "#fb9f3a"
            ],
            [
             0.8888888888888888,
             "#fdca26"
            ],
            [
             1,
             "#f0f921"
            ]
           ],
           "sequentialminus": [
            [
             0,
             "#0d0887"
            ],
            [
             0.1111111111111111,
             "#46039f"
            ],
            [
             0.2222222222222222,
             "#7201a8"
            ],
            [
             0.3333333333333333,
             "#9c179e"
            ],
            [
             0.4444444444444444,
             "#bd3786"
            ],
            [
             0.5555555555555556,
             "#d8576b"
            ],
            [
             0.6666666666666666,
             "#ed7953"
            ],
            [
             0.7777777777777778,
             "#fb9f3a"
            ],
            [
             0.8888888888888888,
             "#fdca26"
            ],
            [
             1,
             "#f0f921"
            ]
           ]
          },
          "colorway": [
           "#636efa",
           "#EF553B",
           "#00cc96",
           "#ab63fa",
           "#FFA15A",
           "#19d3f3",
           "#FF6692",
           "#B6E880",
           "#FF97FF",
           "#FECB52"
          ],
          "font": {
           "color": "#2a3f5f"
          },
          "geo": {
           "bgcolor": "white",
           "lakecolor": "white",
           "landcolor": "#E5ECF6",
           "showlakes": true,
           "showland": true,
           "subunitcolor": "white"
          },
          "hoverlabel": {
           "align": "left"
          },
          "hovermode": "closest",
          "mapbox": {
           "style": "light"
          },
          "paper_bgcolor": "white",
          "plot_bgcolor": "#E5ECF6",
          "polar": {
           "angularaxis": {
            "gridcolor": "white",
            "linecolor": "white",
            "ticks": ""
           },
           "bgcolor": "#E5ECF6",
           "radialaxis": {
            "gridcolor": "white",
            "linecolor": "white",
            "ticks": ""
           }
          },
          "scene": {
           "xaxis": {
            "backgroundcolor": "#E5ECF6",
            "gridcolor": "white",
            "gridwidth": 2,
            "linecolor": "white",
            "showbackground": true,
            "ticks": "",
            "zerolinecolor": "white"
           },
           "yaxis": {
            "backgroundcolor": "#E5ECF6",
            "gridcolor": "white",
            "gridwidth": 2,
            "linecolor": "white",
            "showbackground": true,
            "ticks": "",
            "zerolinecolor": "white"
           },
           "zaxis": {
            "backgroundcolor": "#E5ECF6",
            "gridcolor": "white",
            "gridwidth": 2,
            "linecolor": "white",
            "showbackground": true,
            "ticks": "",
            "zerolinecolor": "white"
           }
          },
          "shapedefaults": {
           "line": {
            "color": "#2a3f5f"
           }
          },
          "ternary": {
           "aaxis": {
            "gridcolor": "white",
            "linecolor": "white",
            "ticks": ""
           },
           "baxis": {
            "gridcolor": "white",
            "linecolor": "white",
            "ticks": ""
           },
           "bgcolor": "#E5ECF6",
           "caxis": {
            "gridcolor": "white",
            "linecolor": "white",
            "ticks": ""
           }
          },
          "title": {
           "x": 0.05
          },
          "xaxis": {
           "automargin": true,
           "gridcolor": "white",
           "linecolor": "white",
           "ticks": "",
           "title": {
            "standoff": 15
           },
           "zerolinecolor": "white",
           "zerolinewidth": 2
          },
          "yaxis": {
           "automargin": true,
           "gridcolor": "white",
           "linecolor": "white",
           "ticks": "",
           "title": {
            "standoff": 15
           },
           "zerolinecolor": "white",
           "zerolinewidth": 2
          }
         }
        },
        "title": {
         "font": {
          "family": "Computer Modern"
         },
         "text": "Fig 3: Marginal Means on support for policy attributes",
         "x": 0.5,
         "xanchor": "center"
        },
        "width": 1000,
        "xaxis": {
         "range": [
          0,
          1
         ],
         "tickformat": ".2f",
         "title": {
          "text": "AMCE on support (0-1)"
         },
         "zeroline": false
        },
        "yaxis": {
         "categoryarray": [
          "Fin&TechSupport",
          "FinSupportOnly",
          "TechSupportOnly",
          "NoInterference"
         ],
         "categoryorder": "array",
         "title": {
          "text": "Attribute Levels"
         }
        }
       }
      }
     },
     "metadata": {},
     "output_type": "display_data"
    }
   ],
   "source": [
    "data_info = read_yaml(r\"C:\\Users\\sjurl\\OneDrive\\Desktop\\MasterThesis\\Analysis\\conjoint\\developer\\final\\plot_specs.yaml\")\n",
    "\n",
    "\n",
    "def plot_MM(MM_data, data_info, width=1.0, plot_title=\"Fig 3: Marginal Means on support for policy attributes\"):\n",
    "\n",
    "    order = data_info['order']\n",
    "    att_1_levels = order['att_1']\n",
    "    att_2_levels = order['att_2']\n",
    "    att_3_levels = order['att_3']\n",
    "    att_4_levels = order['att_4']\n",
    "    att_5_levels = order['att_5']\n",
    "\n",
    "    att_levels = [att_5_levels, att_4_levels, att_3_levels, att_2_levels, att_1_levels]\n",
    "\n",
    "    att_colors = data_info['colors']\n",
    "\n",
    "    fig = go.Figure()\n",
    "\n",
    "    total_levels = sum(len(levels) for levels in att_levels)\n",
    "\n",
    "    # Loop through each attribute group and add the data to the plot\n",
    "    for i, levels in enumerate(att_levels):\n",
    "        att_coefficients = [MM_data.iloc[0][f'att_{5-i}_{level}_MM'] for level in levels]\n",
    "        att_standard_errors = [MM_data.iloc[1][f'att_{5-i}_{level}_MM']*1.97 for level in levels]\n",
    "\n",
    "        fig.add_trace(go.Scatter(\n",
    "            x=att_coefficients,\n",
    "            y=levels,\n",
    "            mode='markers',\n",
    "            error_x=dict(type='data', array=att_standard_errors, color=att_colors[i], thickness=1.5),\n",
    "            marker=dict(color='#36454F', size=10),\n",
    "            orientation='h',\n",
    "            showlegend = False,\n",
    "        ))\n",
    "\n",
    "        fig.add_shape(\n",
    "            type=\"rect\",\n",
    "            x0=-width,  # Set a fixed value for x0, which is left side of the plot\n",
    "            x1=width,  # Set the width of the shape to 1000 (right side of the plot)\n",
    "            y0=total_levels - sum(len(l) for l in att_levels[i:]),  # Set y0 to the starting level index\n",
    "            y1=total_levels - sum(len(l) for l in att_levels[i:]) + len(levels) - 1,  # Set y1 to the ending level index\n",
    "            fillcolor=att_colors[i],\n",
    "            opacity=0.1,  # Set the opacity for a light transparent effect\n",
    "            layer=\"below\",  # Place the rectangle below the scatter plot markers\n",
    "        )\n",
    "\n",
    "    # Add a vertical line at x=0 for reference\n",
    "    fig.add_shape(type=\"line\", x0=0.5, x1=0.5, y0=att_5_levels[0], y1=att_1_levels[-1], line=dict(color=\"gray\", width=1, dash='dash'))\n",
    "\n",
    "    # Update the layout of the error bar plot\n",
    "    fig.update_layout(\n",
    "        title={\n",
    "            'text': plot_title,\n",
    "            'x': 0.0,\n",
    "            'xanchor': 'center',\n",
    "            'font': {'family': 'Computer Modern'}\n",
    "        },\n",
    "        xaxis_title='AMCE on support (0-1)',\n",
    "        yaxis_title='Attribute Levels',\n",
    "        yaxis=dict(categoryorder='array', categoryarray=att_5_levels),  # Set the categoryorder for y-axis based on att_1_levels\n",
    "        xaxis=dict(tickformat='.2f', zeroline=False, range=[0,1.0]),  # Remove x-axis zeroline\n",
    "        showlegend=True,  # Show legend with attribute names\n",
    "        margin=dict(l=80, r=30, b=40, t=80),\n",
    "        height=800,  # Set the height of the plot to 600 pixels\n",
    "        width=1000,\n",
    "        title_x=0.50,\n",
    "        paper_bgcolor=\"#EADDCA\",\n",
    "        plot_bgcolor='rgba(0,0,0,0)',\n",
    "    ) \n",
    "\n",
    "    # Show the interactive error bar plot\n",
    "    return fig\n",
    "\n",
    "plot_MM(marginal_means, data_info)"
   ]
  },
  {
   "attachments": {},
   "cell_type": "markdown",
   "metadata": {},
   "source": [
    "##### 1.4 Maybe: PCA Analysis:\n",
    "\n",
    "Data Preparation:\n",
    "\n",
    "Prepare your DCE data matrix, where each row represents a respondent's choice set, and columns represent different attribute levels.\n",
    "Standardization:\n",
    "\n",
    "Standardize the data by subtracting the mean and dividing by the standard deviation for each attribute. This ensures that all attributes are on similar scales and prevents attributes with larger variances from dominating the PCA.\n",
    "Perform PCA:\n",
    "\n",
    "Apply PCA to the standardized data matrix. The output of PCA will include the principal components and their associated eigenvalues.\n",
    "Interpretation:\n",
    "\n",
    "Examine the explained variance for each principal component. This helps you understand how much of the total variance in the data each component explains.\n",
    "Look at the loadings (weights) of the original attributes on each principal component. These loadings indicate the strength and direction of the relationship between the attribute and the principal component.\n",
    "Attribute Relationships:\n",
    "\n",
    "PCA can provide insights into how attributes are related to each other. For example, attributes that have high loadings on the same principal component are positively correlated, while those with opposite loadings are negatively correlated.\n",
    "Decision Support:\n",
    "\n",
    "While PCA itself may not directly provide attribute importance scores for policy package choices, the derived principal components can help you identify patterns or relationships that might influence choices. These insights can then be used in conjunction with other methods to understand attribute importance."
   ]
  }
 ],
 "metadata": {
  "kernelspec": {
   "display_name": "conjoint",
   "language": "python",
   "name": "python3"
  },
  "language_info": {
   "codemirror_mode": {
    "name": "ipython",
    "version": 3
   },
   "file_extension": ".py",
   "mimetype": "text/x-python",
   "name": "python",
   "nbconvert_exporter": "python",
   "pygments_lexer": "ipython3",
   "version": "3.11.4"
  },
  "orig_nbformat": 4
 },
 "nbformat": 4,
 "nbformat_minor": 2
}
