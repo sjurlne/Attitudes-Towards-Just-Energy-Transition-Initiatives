{
 "cells": [
  {
   "cell_type": "code",
   "execution_count": 2,
   "metadata": {},
   "outputs": [],
   "source": [
    "%load_ext autoreload\n",
    "%autoreload 2\n",
    "\n",
    "import pandas as pd\n",
    "import statsmodels.api as sm\n",
    "import os\n",
    "import sys\n",
    "\n",
    "sys.path.insert(0, os.path.abspath('../developer'))\n",
    "\n",
    "from config import MOCK_DATA, CODE, OUT\n",
    "from developer.utilities import read_yaml\n",
    "from developer.analysis.model import load_model\n",
    "import re\n",
    "import plotly.express as px\n",
    "import plotly.graph_objects as go\n"
   ]
  },
  {
   "cell_type": "code",
   "execution_count": 3,
   "metadata": {},
   "outputs": [],
   "source": [
    "df_total = pd.read_csv(OUT / \"data\" / \"data_regression.csv\")"
   ]
  },
  {
   "attachments": {},
   "cell_type": "markdown",
   "metadata": {},
   "source": [
    "##### regression"
   ]
  },
  {
   "cell_type": "code",
   "execution_count": 6,
   "metadata": {},
   "outputs": [],
   "source": [
    "outcome = 'support'\n",
    "explanatory_vars = [col for col in df_total.columns if \"att\" in col] + ['ID']\n",
    "\n",
    "\n",
    "X = df_total[explanatory_vars].astype(int)\n",
    "y = df_total[outcome].astype(int)\n",
    "\n",
    "X = sm.add_constant(X)\n",
    "model = sm.OLS(y, X).fit(cov_type='cluster', cov_kwds={'groups':X['ID']})"
   ]
  },
  {
   "cell_type": "code",
   "execution_count": 12,
   "metadata": {},
   "outputs": [
    {
     "name": "stdout",
     "output_type": "stream",
     "text": [
      "Optimization terminated successfully.\n",
      "         Current function value: 0.583852\n",
      "         Iterations 14\n"
     ]
    }
   ],
   "source": [
    "# Select the design matrix (explanatory variables) and the outcome variables\n",
    "outcome = 'support'\n",
    "explanatory_vars = [col for col in df_total.columns if \"att\" in col] + ['ID']\n",
    "\n",
    "\n",
    "X = df_total[explanatory_vars].astype(int)\n",
    "y = df_total[outcome].astype(int)\n",
    "\n",
    "X = sm.add_constant(X)\n",
    "model = sm.MNLogit(y, X).fit(cov_type='cluster', cov_kwds={'groups':X['ID']})"
   ]
  },
  {
   "cell_type": "code",
   "execution_count": 4,
   "metadata": {},
   "outputs": [],
   "source": [
    "outcome = 'utility'\n",
    "explanatory_vars = [col for col in df_total.columns if \"att\" in col] + ['ID']\n",
    "\n",
    "df_control = df_total[df_total['treatment_status'] == 0]\n",
    "\n",
    "X = df_control[explanatory_vars].astype(int)\n",
    "y = df_control[outcome].astype(int)\n",
    "\n",
    "X = sm.add_constant(X)\n",
    "model_control = sm.OLS(y, X).fit(cov_type='cluster', cov_kwds={'groups':X['ID']})"
   ]
  },
  {
   "cell_type": "code",
   "execution_count": 5,
   "metadata": {},
   "outputs": [],
   "source": [
    "outcome = 'utility'\n",
    "explanatory_vars = [col for col in df_total.columns if \"att\" in col] + ['ID']\n",
    "\n",
    "df_treated = df_total[df_total['treatment_status'] == 1]\n",
    "\n",
    "X = df_treated[explanatory_vars].astype(int)\n",
    "y = df_treated[outcome].astype(int)\n",
    "\n",
    "X = sm.add_constant(X)\n",
    "model_treated = sm.OLS(y, X).fit(cov_type='cluster', cov_kwds={'groups':X['ID']})"
   ]
  },
  {
   "cell_type": "code",
   "execution_count": 7,
   "metadata": {},
   "outputs": [
    {
     "name": "stderr",
     "output_type": "stream",
     "text": [
      "c:\\ProgramData\\Anaconda3\\envs\\conjoint\\Lib\\site-packages\\statsmodels\\base\\model.py:1888: ValueWarning: covariance of constraints does not have full rank. The number of constraints is 27, but rank is 8\n",
      "  warnings.warn('covariance of constraints does not have full '\n"
     ]
    },
    {
     "data": {
      "text/html": [
       "<table class=\"simpletable\">\n",
       "<caption>OLS Regression Results</caption>\n",
       "<tr>\n",
       "  <th>Dep. Variable:</th>         <td>support</td>     <th>  R-squared:         </th> <td>   0.197</td>\n",
       "</tr>\n",
       "<tr>\n",
       "  <th>Model:</th>                   <td>OLS</td>       <th>  Adj. R-squared:    </th> <td>   0.001</td>\n",
       "</tr>\n",
       "<tr>\n",
       "  <th>Method:</th>             <td>Least Squares</td>  <th>  F-statistic:       </th> <td>   1.822</td>\n",
       "</tr>\n",
       "<tr>\n",
       "  <th>Date:</th>             <td>Thu, 31 Aug 2023</td> <th>  Prob (F-statistic):</th>  <td> 0.207</td> \n",
       "</tr>\n",
       "<tr>\n",
       "  <th>Time:</th>                 <td>17:50:03</td>     <th>  Log-Likelihood:    </th> <td> -66.507</td>\n",
       "</tr>\n",
       "<tr>\n",
       "  <th>No. Observations:</th>      <td>   108</td>      <th>  AIC:               </th> <td>   177.0</td>\n",
       "</tr>\n",
       "<tr>\n",
       "  <th>Df Residuals:</th>          <td>    86</td>      <th>  BIC:               </th> <td>   236.0</td>\n",
       "</tr>\n",
       "<tr>\n",
       "  <th>Df Model:</th>              <td>    21</td>      <th>                     </th>     <td> </td>   \n",
       "</tr>\n",
       "<tr>\n",
       "  <th>Covariance Type:</th>       <td>cluster</td>     <th>                     </th>     <td> </td>   \n",
       "</tr>\n",
       "</table>\n",
       "<table class=\"simpletable\">\n",
       "<tr>\n",
       "                 <td></td>                    <th>coef</th>     <th>std err</th>      <th>z</th>      <th>P>|z|</th>  <th>[0.025</th>    <th>0.975]</th>  \n",
       "</tr>\n",
       "<tr>\n",
       "  <th>const</th>                           <td>    0.2570</td> <td>    0.041</td> <td>    6.265</td> <td> 0.000</td> <td>    0.177</td> <td>    0.337</td>\n",
       "</tr>\n",
       "<tr>\n",
       "  <th>att_1_Eliminate&UseAllOther</th>     <td>    0.0009</td> <td>    0.065</td> <td>    0.014</td> <td> 0.989</td> <td>   -0.127</td> <td>    0.129</td>\n",
       "</tr>\n",
       "<tr>\n",
       "  <th>att_1_Eliminate&UseRenewables</th>   <td>   -0.0196</td> <td>    0.102</td> <td>   -0.193</td> <td> 0.847</td> <td>   -0.219</td> <td>    0.179</td>\n",
       "</tr>\n",
       "<tr>\n",
       "  <th>att_1_Reduce&IncreaseAllOther</th>   <td>    0.1865</td> <td>    0.068</td> <td>    2.750</td> <td> 0.006</td> <td>    0.054</td> <td>    0.319</td>\n",
       "</tr>\n",
       "<tr>\n",
       "  <th>att_1_Reduce&IncreaseRenewables</th> <td>    0.0893</td> <td>    0.116</td> <td>    0.767</td> <td> 0.443</td> <td>   -0.139</td> <td>    0.317</td>\n",
       "</tr>\n",
       "<tr>\n",
       "  <th>att_2_EnergyAccess</th>              <td>    0.1501</td> <td>    0.127</td> <td>    1.184</td> <td> 0.236</td> <td>   -0.098</td> <td>    0.398</td>\n",
       "</tr>\n",
       "<tr>\n",
       "  <th>att_2_HealthEdu</th>                 <td>    0.1678</td> <td>    0.091</td> <td>    1.838</td> <td> 0.066</td> <td>   -0.011</td> <td>    0.347</td>\n",
       "</tr>\n",
       "<tr>\n",
       "  <th>att_2_InsureWorkers</th>             <td>   -0.0522</td> <td>    0.116</td> <td>   -0.450</td> <td> 0.653</td> <td>   -0.279</td> <td>    0.175</td>\n",
       "</tr>\n",
       "<tr>\n",
       "  <th>att_2_LowPrices</th>                 <td>   -0.1381</td> <td>    0.117</td> <td>   -1.182</td> <td> 0.237</td> <td>   -0.367</td> <td>    0.091</td>\n",
       "</tr>\n",
       "<tr>\n",
       "  <th>att_2_NothingSoc</th>                <td>    0.1295</td> <td>    0.101</td> <td>    1.286</td> <td> 0.198</td> <td>   -0.068</td> <td>    0.327</td>\n",
       "</tr>\n",
       "<tr>\n",
       "  <th>att_3_IdentityCoalRegions</th>       <td>    0.0063</td> <td>    0.154</td> <td>    0.041</td> <td> 0.967</td> <td>   -0.295</td> <td>    0.308</td>\n",
       "</tr>\n",
       "<tr>\n",
       "  <th>att_3_IndustryCoalRegions</th>       <td>    0.0192</td> <td>    0.073</td> <td>    0.261</td> <td> 0.794</td> <td>   -0.125</td> <td>    0.163</td>\n",
       "</tr>\n",
       "<tr>\n",
       "  <th>att_3_NothingEco</th>                <td>    0.1063</td> <td>    0.104</td> <td>    1.025</td> <td> 0.305</td> <td>   -0.097</td> <td>    0.309</td>\n",
       "</tr>\n",
       "<tr>\n",
       "  <th>att_3_WorkersCoalRegion</th>         <td>    0.1253</td> <td>    0.086</td> <td>    1.452</td> <td> 0.147</td> <td>   -0.044</td> <td>    0.295</td>\n",
       "</tr>\n",
       "<tr>\n",
       "  <th>att_4_Gov&Businesses</th>            <td>    0.0218</td> <td>    0.111</td> <td>    0.197</td> <td> 0.844</td> <td>   -0.195</td> <td>    0.239</td>\n",
       "</tr>\n",
       "<tr>\n",
       "  <th>att_4_Gov&CivilSociety</th>          <td>    0.1272</td> <td>    0.181</td> <td>    0.702</td> <td> 0.483</td> <td>   -0.228</td> <td>    0.482</td>\n",
       "</tr>\n",
       "<tr>\n",
       "  <th>att_4_Gov&LaborUnions</th>           <td>   -0.0638</td> <td>    0.101</td> <td>   -0.634</td> <td> 0.526</td> <td>   -0.261</td> <td>    0.134</td>\n",
       "</tr>\n",
       "<tr>\n",
       "  <th>att_4_Gov&LocalGov</th>              <td>    0.0088</td> <td>    0.163</td> <td>    0.054</td> <td> 0.957</td> <td>   -0.311</td> <td>    0.328</td>\n",
       "</tr>\n",
       "<tr>\n",
       "  <th>att_4_Gov&Researchers</th>           <td>    0.4291</td> <td>    0.129</td> <td>    3.334</td> <td> 0.001</td> <td>    0.177</td> <td>    0.681</td>\n",
       "</tr>\n",
       "<tr>\n",
       "  <th>att_4_GovAlone</th>                  <td>   -0.2660</td> <td>    0.111</td> <td>   -2.392</td> <td> 0.017</td> <td>   -0.484</td> <td>   -0.048</td>\n",
       "</tr>\n",
       "<tr>\n",
       "  <th>att_5_Fin&TechSupport</th>           <td>    0.1318</td> <td>    0.125</td> <td>    1.055</td> <td> 0.291</td> <td>   -0.113</td> <td>    0.377</td>\n",
       "</tr>\n",
       "<tr>\n",
       "  <th>att_5_FinSupportOnly</th>            <td>    0.1161</td> <td>    0.099</td> <td>    1.173</td> <td> 0.241</td> <td>   -0.078</td> <td>    0.310</td>\n",
       "</tr>\n",
       "<tr>\n",
       "  <th>att_5_NoInterference</th>            <td>   -0.0370</td> <td>    0.072</td> <td>   -0.514</td> <td> 0.608</td> <td>   -0.178</td> <td>    0.104</td>\n",
       "</tr>\n",
       "<tr>\n",
       "  <th>att_5_TechSupportOnly</th>           <td>    0.0461</td> <td>    0.082</td> <td>    0.563</td> <td> 0.574</td> <td>   -0.114</td> <td>    0.207</td>\n",
       "</tr>\n",
       "<tr>\n",
       "  <th>att_6_MinorEfforts</th>              <td>    0.0115</td> <td>    0.074</td> <td>    0.154</td> <td> 0.877</td> <td>   -0.134</td> <td>    0.157</td>\n",
       "</tr>\n",
       "<tr>\n",
       "  <th>att_6_ModerateEfforts</th>           <td>    0.1015</td> <td>    0.082</td> <td>    1.242</td> <td> 0.214</td> <td>   -0.059</td> <td>    0.262</td>\n",
       "</tr>\n",
       "<tr>\n",
       "  <th>att_6_SignificantEffort</th>         <td>    0.1440</td> <td>    0.043</td> <td>    3.389</td> <td> 0.001</td> <td>    0.061</td> <td>    0.227</td>\n",
       "</tr>\n",
       "<tr>\n",
       "  <th>ID</th>                              <td>   -0.0210</td> <td>    0.016</td> <td>   -1.326</td> <td> 0.185</td> <td>   -0.052</td> <td>    0.010</td>\n",
       "</tr>\n",
       "</table>\n",
       "<table class=\"simpletable\">\n",
       "<tr>\n",
       "  <th>Omnibus:</th>       <td>60.129</td> <th>  Durbin-Watson:     </th> <td>   2.004</td>\n",
       "</tr>\n",
       "<tr>\n",
       "  <th>Prob(Omnibus):</th> <td> 0.000</td> <th>  Jarque-Bera (JB):  </th> <td>   7.659</td>\n",
       "</tr>\n",
       "<tr>\n",
       "  <th>Skew:</th>          <td>-0.088</td> <th>  Prob(JB):          </th> <td>  0.0217</td>\n",
       "</tr>\n",
       "<tr>\n",
       "  <th>Kurtosis:</th>      <td> 1.707</td> <th>  Cond. No.          </th> <td>3.36e+16</td>\n",
       "</tr>\n",
       "</table><br/><br/>Notes:<br/>[1] Standard Errors are robust to cluster correlation (cluster)<br/>[2] The smallest eigenvalue is 3.22e-30. This might indicate that there are<br/>strong multicollinearity problems or that the design matrix is singular."
      ],
      "text/latex": [
       "\\begin{center}\n",
       "\\begin{tabular}{lclc}\n",
       "\\toprule\n",
       "\\textbf{Dep. Variable:}                     &     support      & \\textbf{  R-squared:         } &     0.197   \\\\\n",
       "\\textbf{Model:}                             &       OLS        & \\textbf{  Adj. R-squared:    } &     0.001   \\\\\n",
       "\\textbf{Method:}                            &  Least Squares   & \\textbf{  F-statistic:       } &     1.822   \\\\\n",
       "\\textbf{Date:}                              & Thu, 31 Aug 2023 & \\textbf{  Prob (F-statistic):} &    0.207    \\\\\n",
       "\\textbf{Time:}                              &     17:50:03     & \\textbf{  Log-Likelihood:    } &   -66.507   \\\\\n",
       "\\textbf{No. Observations:}                  &         108      & \\textbf{  AIC:               } &     177.0   \\\\\n",
       "\\textbf{Df Residuals:}                      &          86      & \\textbf{  BIC:               } &     236.0   \\\\\n",
       "\\textbf{Df Model:}                          &          21      & \\textbf{                     } &             \\\\\n",
       "\\textbf{Covariance Type:}                   &     cluster      & \\textbf{                     } &             \\\\\n",
       "\\bottomrule\n",
       "\\end{tabular}\n",
       "\\begin{tabular}{lcccccc}\n",
       "                                            & \\textbf{coef} & \\textbf{std err} & \\textbf{z} & \\textbf{P$> |$z$|$} & \\textbf{[0.025} & \\textbf{0.975]}  \\\\\n",
       "\\midrule\n",
       "\\textbf{const}                              &       0.2570  &        0.041     &     6.265  &         0.000        &        0.177    &        0.337     \\\\\n",
       "\\textbf{att\\_1\\_Eliminate\\&UseAllOther}     &       0.0009  &        0.065     &     0.014  &         0.989        &       -0.127    &        0.129     \\\\\n",
       "\\textbf{att\\_1\\_Eliminate\\&UseRenewables}   &      -0.0196  &        0.102     &    -0.193  &         0.847        &       -0.219    &        0.179     \\\\\n",
       "\\textbf{att\\_1\\_Reduce\\&IncreaseAllOther}   &       0.1865  &        0.068     &     2.750  &         0.006        &        0.054    &        0.319     \\\\\n",
       "\\textbf{att\\_1\\_Reduce\\&IncreaseRenewables} &       0.0893  &        0.116     &     0.767  &         0.443        &       -0.139    &        0.317     \\\\\n",
       "\\textbf{att\\_2\\_EnergyAccess}               &       0.1501  &        0.127     &     1.184  &         0.236        &       -0.098    &        0.398     \\\\\n",
       "\\textbf{att\\_2\\_HealthEdu}                  &       0.1678  &        0.091     &     1.838  &         0.066        &       -0.011    &        0.347     \\\\\n",
       "\\textbf{att\\_2\\_InsureWorkers}              &      -0.0522  &        0.116     &    -0.450  &         0.653        &       -0.279    &        0.175     \\\\\n",
       "\\textbf{att\\_2\\_LowPrices}                  &      -0.1381  &        0.117     &    -1.182  &         0.237        &       -0.367    &        0.091     \\\\\n",
       "\\textbf{att\\_2\\_NothingSoc}                 &       0.1295  &        0.101     &     1.286  &         0.198        &       -0.068    &        0.327     \\\\\n",
       "\\textbf{att\\_3\\_IdentityCoalRegions}        &       0.0063  &        0.154     &     0.041  &         0.967        &       -0.295    &        0.308     \\\\\n",
       "\\textbf{att\\_3\\_IndustryCoalRegions}        &       0.0192  &        0.073     &     0.261  &         0.794        &       -0.125    &        0.163     \\\\\n",
       "\\textbf{att\\_3\\_NothingEco}                 &       0.1063  &        0.104     &     1.025  &         0.305        &       -0.097    &        0.309     \\\\\n",
       "\\textbf{att\\_3\\_WorkersCoalRegion}          &       0.1253  &        0.086     &     1.452  &         0.147        &       -0.044    &        0.295     \\\\\n",
       "\\textbf{att\\_4\\_Gov\\&Businesses}            &       0.0218  &        0.111     &     0.197  &         0.844        &       -0.195    &        0.239     \\\\\n",
       "\\textbf{att\\_4\\_Gov\\&CivilSociety}          &       0.1272  &        0.181     &     0.702  &         0.483        &       -0.228    &        0.482     \\\\\n",
       "\\textbf{att\\_4\\_Gov\\&LaborUnions}           &      -0.0638  &        0.101     &    -0.634  &         0.526        &       -0.261    &        0.134     \\\\\n",
       "\\textbf{att\\_4\\_Gov\\&LocalGov}              &       0.0088  &        0.163     &     0.054  &         0.957        &       -0.311    &        0.328     \\\\\n",
       "\\textbf{att\\_4\\_Gov\\&Researchers}           &       0.4291  &        0.129     &     3.334  &         0.001        &        0.177    &        0.681     \\\\\n",
       "\\textbf{att\\_4\\_GovAlone}                   &      -0.2660  &        0.111     &    -2.392  &         0.017        &       -0.484    &       -0.048     \\\\\n",
       "\\textbf{att\\_5\\_Fin\\&TechSupport}           &       0.1318  &        0.125     &     1.055  &         0.291        &       -0.113    &        0.377     \\\\\n",
       "\\textbf{att\\_5\\_FinSupportOnly}             &       0.1161  &        0.099     &     1.173  &         0.241        &       -0.078    &        0.310     \\\\\n",
       "\\textbf{att\\_5\\_NoInterference}             &      -0.0370  &        0.072     &    -0.514  &         0.608        &       -0.178    &        0.104     \\\\\n",
       "\\textbf{att\\_5\\_TechSupportOnly}            &       0.0461  &        0.082     &     0.563  &         0.574        &       -0.114    &        0.207     \\\\\n",
       "\\textbf{att\\_6\\_MinorEfforts}               &       0.0115  &        0.074     &     0.154  &         0.877        &       -0.134    &        0.157     \\\\\n",
       "\\textbf{att\\_6\\_ModerateEfforts}            &       0.1015  &        0.082     &     1.242  &         0.214        &       -0.059    &        0.262     \\\\\n",
       "\\textbf{att\\_6\\_SignificantEffort}          &       0.1440  &        0.043     &     3.389  &         0.001        &        0.061    &        0.227     \\\\\n",
       "\\textbf{ID}                                 &      -0.0210  &        0.016     &    -1.326  &         0.185        &       -0.052    &        0.010     \\\\\n",
       "\\bottomrule\n",
       "\\end{tabular}\n",
       "\\begin{tabular}{lclc}\n",
       "\\textbf{Omnibus:}       & 60.129 & \\textbf{  Durbin-Watson:     } &    2.004  \\\\\n",
       "\\textbf{Prob(Omnibus):} &  0.000 & \\textbf{  Jarque-Bera (JB):  } &    7.659  \\\\\n",
       "\\textbf{Skew:}          & -0.088 & \\textbf{  Prob(JB):          } &   0.0217  \\\\\n",
       "\\textbf{Kurtosis:}      &  1.707 & \\textbf{  Cond. No.          } & 3.36e+16  \\\\\n",
       "\\bottomrule\n",
       "\\end{tabular}\n",
       "%\\caption{OLS Regression Results}\n",
       "\\end{center}\n",
       "\n",
       "Notes: \\newline\n",
       " [1] Standard Errors are robust to cluster correlation (cluster) \\newline\n",
       " [2] The smallest eigenvalue is 3.22e-30. This might indicate that there are \\newline\n",
       " strong multicollinearity problems or that the design matrix is singular."
      ],
      "text/plain": [
       "<class 'statsmodels.iolib.summary.Summary'>\n",
       "\"\"\"\n",
       "                            OLS Regression Results                            \n",
       "==============================================================================\n",
       "Dep. Variable:                support   R-squared:                       0.197\n",
       "Model:                            OLS   Adj. R-squared:                  0.001\n",
       "Method:                 Least Squares   F-statistic:                     1.822\n",
       "Date:                Thu, 31 Aug 2023   Prob (F-statistic):              0.207\n",
       "Time:                        17:50:03   Log-Likelihood:                -66.507\n",
       "No. Observations:                 108   AIC:                             177.0\n",
       "Df Residuals:                      86   BIC:                             236.0\n",
       "Df Model:                          21                                         \n",
       "Covariance Type:              cluster                                         \n",
       "===================================================================================================\n",
       "                                      coef    std err          z      P>|z|      [0.025      0.975]\n",
       "---------------------------------------------------------------------------------------------------\n",
       "const                               0.2570      0.041      6.265      0.000       0.177       0.337\n",
       "att_1_Eliminate&UseAllOther         0.0009      0.065      0.014      0.989      -0.127       0.129\n",
       "att_1_Eliminate&UseRenewables      -0.0196      0.102     -0.193      0.847      -0.219       0.179\n",
       "att_1_Reduce&IncreaseAllOther       0.1865      0.068      2.750      0.006       0.054       0.319\n",
       "att_1_Reduce&IncreaseRenewables     0.0893      0.116      0.767      0.443      -0.139       0.317\n",
       "att_2_EnergyAccess                  0.1501      0.127      1.184      0.236      -0.098       0.398\n",
       "att_2_HealthEdu                     0.1678      0.091      1.838      0.066      -0.011       0.347\n",
       "att_2_InsureWorkers                -0.0522      0.116     -0.450      0.653      -0.279       0.175\n",
       "att_2_LowPrices                    -0.1381      0.117     -1.182      0.237      -0.367       0.091\n",
       "att_2_NothingSoc                    0.1295      0.101      1.286      0.198      -0.068       0.327\n",
       "att_3_IdentityCoalRegions           0.0063      0.154      0.041      0.967      -0.295       0.308\n",
       "att_3_IndustryCoalRegions           0.0192      0.073      0.261      0.794      -0.125       0.163\n",
       "att_3_NothingEco                    0.1063      0.104      1.025      0.305      -0.097       0.309\n",
       "att_3_WorkersCoalRegion             0.1253      0.086      1.452      0.147      -0.044       0.295\n",
       "att_4_Gov&Businesses                0.0218      0.111      0.197      0.844      -0.195       0.239\n",
       "att_4_Gov&CivilSociety              0.1272      0.181      0.702      0.483      -0.228       0.482\n",
       "att_4_Gov&LaborUnions              -0.0638      0.101     -0.634      0.526      -0.261       0.134\n",
       "att_4_Gov&LocalGov                  0.0088      0.163      0.054      0.957      -0.311       0.328\n",
       "att_4_Gov&Researchers               0.4291      0.129      3.334      0.001       0.177       0.681\n",
       "att_4_GovAlone                     -0.2660      0.111     -2.392      0.017      -0.484      -0.048\n",
       "att_5_Fin&TechSupport               0.1318      0.125      1.055      0.291      -0.113       0.377\n",
       "att_5_FinSupportOnly                0.1161      0.099      1.173      0.241      -0.078       0.310\n",
       "att_5_NoInterference               -0.0370      0.072     -0.514      0.608      -0.178       0.104\n",
       "att_5_TechSupportOnly               0.0461      0.082      0.563      0.574      -0.114       0.207\n",
       "att_6_MinorEfforts                  0.0115      0.074      0.154      0.877      -0.134       0.157\n",
       "att_6_ModerateEfforts               0.1015      0.082      1.242      0.214      -0.059       0.262\n",
       "att_6_SignificantEffort             0.1440      0.043      3.389      0.001       0.061       0.227\n",
       "ID                                 -0.0210      0.016     -1.326      0.185      -0.052       0.010\n",
       "==============================================================================\n",
       "Omnibus:                       60.129   Durbin-Watson:                   2.004\n",
       "Prob(Omnibus):                  0.000   Jarque-Bera (JB):                7.659\n",
       "Skew:                          -0.088   Prob(JB):                       0.0217\n",
       "Kurtosis:                       1.707   Cond. No.                     3.36e+16\n",
       "==============================================================================\n",
       "\n",
       "Notes:\n",
       "[1] Standard Errors are robust to cluster correlation (cluster)\n",
       "[2] The smallest eigenvalue is 3.22e-30. This might indicate that there are\n",
       "strong multicollinearity problems or that the design matrix is singular.\n",
       "\"\"\""
      ]
     },
     "execution_count": 7,
     "metadata": {},
     "output_type": "execute_result"
    }
   ],
   "source": [
    "model.summary()"
   ]
  },
  {
   "cell_type": "code",
   "execution_count": 7,
   "metadata": {},
   "outputs": [],
   "source": [
    "model = load_model(OUT / \"models\" / \"model.pickle\")"
   ]
  },
  {
   "cell_type": "code",
   "execution_count": 8,
   "metadata": {},
   "outputs": [
    {
     "name": "stdout",
     "output_type": "stream",
     "text": [
      "Regression results for Attribute A:\n",
      "                            OLS Regression Results                            \n",
      "==============================================================================\n",
      "Dep. Variable:                utility   R-squared:                       0.198\n",
      "Model:                            OLS   Adj. R-squared:                  0.045\n",
      "Method:                 Least Squares   F-statistic:                    0.5149\n",
      "Date:                Sat, 12 Aug 2023   Prob (F-statistic):              0.845\n",
      "Time:                        12:53:42   Log-Likelihood:                -137.13\n",
      "No. Observations:                 132   AIC:                             318.3\n",
      "Df Residuals:                     110   BIC:                             381.7\n",
      "Df Model:                          21                                         \n",
      "Covariance Type:              cluster                                         \n",
      "==========================================================================================================\n",
      "                                             coef    std err          z      P>|z|      [0.025      0.975]\n",
      "----------------------------------------------------------------------------------------------------------\n",
      "const                                     -0.1239      0.056     -2.228      0.026      -0.233      -0.015\n",
      "att_1_PhaseOut                             0.2036      0.106      1.923      0.055      -0.004       0.411\n",
      "att_1_StatusQuo                           -0.2114      0.084     -2.512      0.012      -0.376      -0.046\n",
      "att_1_Stop&Maintain                       -0.2872      0.130     -2.203      0.028      -0.543      -0.032\n",
      "att_1_Stop&Reduce                          0.1712      0.140      1.224      0.221      -0.103       0.445\n",
      "att_2_HighInvestment&Int                  -0.1737      0.128     -1.360      0.174      -0.424       0.077\n",
      "att_2_HighInvestment&Int&Consideration    -0.0190      0.121     -0.157      0.875      -0.256       0.218\n",
      "att_2_LowInvestment                        0.0062      0.131      0.047      0.962      -0.251       0.264\n",
      "att_2_LowInvestment&LowConsideration       0.0627      0.065      0.965      0.335      -0.065       0.190\n",
      "att_3_EnergyAccess                        -0.2091      0.133     -1.572      0.116      -0.470       0.052\n",
      "att_3_HealthEdu                           -0.1532      0.166     -0.921      0.357      -0.479       0.173\n",
      "att_3_LowPrices                           -0.0633      0.136     -0.466      0.641      -0.329       0.203\n",
      "att_3_NothingSoc                           0.0136      0.125      0.109      0.913      -0.231       0.258\n",
      "att_3_Transfers                            0.2881      0.137      2.097      0.036       0.019       0.557\n",
      "att_4_CreateJobs                           0.0181      0.131      0.139      0.889      -0.238       0.274\n",
      "att_4_EarlyPension                         0.1730      0.124      1.394      0.163      -0.070       0.416\n",
      "att_4_JobGuarantee                         0.0343      0.104      0.330      0.741      -0.169       0.238\n",
      "att_4_NothingEco                          -0.0197      0.153     -0.129      0.898      -0.320       0.281\n",
      "att_4_Retrain                             -0.3297      0.113     -2.924      0.003      -0.551      -0.109\n",
      "att_5_CentralGov                           0.1901      0.234      0.812      0.417      -0.269       0.649\n",
      "att_5_CivilNGO                             0.0874      0.225      0.388      0.698      -0.355       0.529\n",
      "att_5_EnergySector                         0.0670      0.263      0.255      0.799      -0.448       0.582\n",
      "att_5_LabourUnion                          0.3040      0.230      1.321      0.187      -0.147       0.755\n",
      "att_5_LocalGov                            -0.2174      0.081     -2.690      0.007      -0.376      -0.059\n",
      "att_5_Media                               -0.1573      0.159     -0.989      0.323      -0.469       0.155\n",
      "att_5_Researchers                         -0.3977      0.099     -4.017      0.000      -0.592      -0.204\n",
      "ID                                         0.0470      0.017      2.739      0.006       0.013       0.081\n",
      "==============================================================================\n",
      "Omnibus:                        6.185   Durbin-Watson:                   1.984\n",
      "Prob(Omnibus):                  0.045   Jarque-Bera (JB):                4.782\n",
      "Skew:                          -0.352   Prob(JB):                       0.0915\n",
      "Kurtosis:                       2.389   Cond. No.                     8.24e+16\n",
      "==============================================================================\n",
      "\n",
      "Notes:\n",
      "[1] Standard Errors are robust to cluster correlation (cluster)\n",
      "[2] The smallest eigenvalue is 9.27e-31. This might indicate that there are\n",
      "strong multicollinearity problems or that the design matrix is singular.\n"
     ]
    },
    {
     "name": "stderr",
     "output_type": "stream",
     "text": [
      "c:\\ProgramData\\Anaconda3\\envs\\conjoint\\Lib\\site-packages\\statsmodels\\base\\model.py:1888: ValueWarning: covariance of constraints does not have full rank. The number of constraints is 26, but rank is 10\n",
      "  warnings.warn('covariance of constraints does not have full '\n"
     ]
    }
   ],
   "source": [
    "print(\"Regression results for Attribute A:\")\n",
    "print(model.summary())"
   ]
  },
  {
   "attachments": {},
   "cell_type": "markdown",
   "metadata": {},
   "source": [
    "## Descriptives\n"
   ]
  },
  {
   "cell_type": "code",
   "execution_count": 20,
   "metadata": {},
   "outputs": [
    {
     "data": {
      "application/vnd.plotly.v1+json": {
       "config": {
        "plotlyServerURL": "https://plot.ly"
       },
       "data": [
        {
         "error_y": {
          "array": [
           0.18999999999999995
          ],
          "arrayminus": [
           0.2
          ],
          "type": "data",
          "visible": true
         },
         "marker": {
          "color": "rgb(173, 221, 142)"
         },
         "name": "Reduce<br>IncreaseAllOther",
         "type": "bar",
         "x": [
          "Reduce<br>IncreaseAllOther"
         ],
         "y": [
          0.54
         ]
        },
        {
         "error_y": {
          "array": [
           0.18999999999999995
          ],
          "arrayminus": [
           0.19
          ],
          "type": "data",
          "visible": true
         },
         "marker": {
          "color": "rgb(127, 188, 65)"
         },
         "name": "Reduce<br>IncreaseRenewables",
         "type": "bar",
         "x": [
          "Reduce<br>IncreaseRenewables"
         ],
         "y": [
          0.5
         ]
        },
        {
         "error_y": {
          "array": [
           0.19999999999999996
          ],
          "arrayminus": [
           0.2
          ],
          "type": "data",
          "visible": true
         },
         "marker": {
          "color": "rgb(78, 139, 37)"
         },
         "name": "Eliminate<br>UseRenewables",
         "type": "bar",
         "x": [
          "Eliminate<br>UseRenewables"
         ],
         "y": [
          0.5
         ]
        },
        {
         "error_y": {
          "array": [
           0.18000000000000005
          ],
          "arrayminus": [
           0.18
          ],
          "type": "data",
          "visible": true
         },
         "marker": {
          "color": "rgb(45, 82, 21)"
         },
         "name": "Eliminate<br>UseAllOther",
         "type": "bar",
         "x": [
          "Eliminate<br>UseAllOther"
         ],
         "y": [
          0.6
         ]
        }
       ],
       "layout": {
        "bargap": 0.6,
        "bargroupgap": 0.1,
        "barmode": "group",
        "height": 500,
        "margin": {
         "b": 5,
         "l": 20,
         "r": 20,
         "t": 45
        },
        "paper_bgcolor": "#EADDCA",
        "plot_bgcolor": "rgba(0,0,0,0)",
        "shapes": [
         {
          "line": {
           "dash": "dash"
          },
          "type": "line",
          "x0": 0,
          "x1": 1,
          "xref": "x domain",
          "y0": 0.5,
          "y1": 0.5,
          "yref": "y"
         }
        ],
        "showlegend": false,
        "template": {
         "data": {
          "bar": [
           {
            "error_x": {
             "color": "#2a3f5f"
            },
            "error_y": {
             "color": "#2a3f5f"
            },
            "marker": {
             "line": {
              "color": "#E5ECF6",
              "width": 0.5
             },
             "pattern": {
              "fillmode": "overlay",
              "size": 10,
              "solidity": 0.2
             }
            },
            "type": "bar"
           }
          ],
          "barpolar": [
           {
            "marker": {
             "line": {
              "color": "#E5ECF6",
              "width": 0.5
             },
             "pattern": {
              "fillmode": "overlay",
              "size": 10,
              "solidity": 0.2
             }
            },
            "type": "barpolar"
           }
          ],
          "carpet": [
           {
            "aaxis": {
             "endlinecolor": "#2a3f5f",
             "gridcolor": "white",
             "linecolor": "white",
             "minorgridcolor": "white",
             "startlinecolor": "#2a3f5f"
            },
            "baxis": {
             "endlinecolor": "#2a3f5f",
             "gridcolor": "white",
             "linecolor": "white",
             "minorgridcolor": "white",
             "startlinecolor": "#2a3f5f"
            },
            "type": "carpet"
           }
          ],
          "choropleth": [
           {
            "colorbar": {
             "outlinewidth": 0,
             "ticks": ""
            },
            "type": "choropleth"
           }
          ],
          "contour": [
           {
            "colorbar": {
             "outlinewidth": 0,
             "ticks": ""
            },
            "colorscale": [
             [
              0,
              "#0d0887"
             ],
             [
              0.1111111111111111,
              "#46039f"
             ],
             [
              0.2222222222222222,
              "#7201a8"
             ],
             [
              0.3333333333333333,
              "#9c179e"
             ],
             [
              0.4444444444444444,
              "#bd3786"
             ],
             [
              0.5555555555555556,
              "#d8576b"
             ],
             [
              0.6666666666666666,
              "#ed7953"
             ],
             [
              0.7777777777777778,
              "#fb9f3a"
             ],
             [
              0.8888888888888888,
              "#fdca26"
             ],
             [
              1,
              "#f0f921"
             ]
            ],
            "type": "contour"
           }
          ],
          "contourcarpet": [
           {
            "colorbar": {
             "outlinewidth": 0,
             "ticks": ""
            },
            "type": "contourcarpet"
           }
          ],
          "heatmap": [
           {
            "colorbar": {
             "outlinewidth": 0,
             "ticks": ""
            },
            "colorscale": [
             [
              0,
              "#0d0887"
             ],
             [
              0.1111111111111111,
              "#46039f"
             ],
             [
              0.2222222222222222,
              "#7201a8"
             ],
             [
              0.3333333333333333,
              "#9c179e"
             ],
             [
              0.4444444444444444,
              "#bd3786"
             ],
             [
              0.5555555555555556,
              "#d8576b"
             ],
             [
              0.6666666666666666,
              "#ed7953"
             ],
             [
              0.7777777777777778,
              "#fb9f3a"
             ],
             [
              0.8888888888888888,
              "#fdca26"
             ],
             [
              1,
              "#f0f921"
             ]
            ],
            "type": "heatmap"
           }
          ],
          "heatmapgl": [
           {
            "colorbar": {
             "outlinewidth": 0,
             "ticks": ""
            },
            "colorscale": [
             [
              0,
              "#0d0887"
             ],
             [
              0.1111111111111111,
              "#46039f"
             ],
             [
              0.2222222222222222,
              "#7201a8"
             ],
             [
              0.3333333333333333,
              "#9c179e"
             ],
             [
              0.4444444444444444,
              "#bd3786"
             ],
             [
              0.5555555555555556,
              "#d8576b"
             ],
             [
              0.6666666666666666,
              "#ed7953"
             ],
             [
              0.7777777777777778,
              "#fb9f3a"
             ],
             [
              0.8888888888888888,
              "#fdca26"
             ],
             [
              1,
              "#f0f921"
             ]
            ],
            "type": "heatmapgl"
           }
          ],
          "histogram": [
           {
            "marker": {
             "pattern": {
              "fillmode": "overlay",
              "size": 10,
              "solidity": 0.2
             }
            },
            "type": "histogram"
           }
          ],
          "histogram2d": [
           {
            "colorbar": {
             "outlinewidth": 0,
             "ticks": ""
            },
            "colorscale": [
             [
              0,
              "#0d0887"
             ],
             [
              0.1111111111111111,
              "#46039f"
             ],
             [
              0.2222222222222222,
              "#7201a8"
             ],
             [
              0.3333333333333333,
              "#9c179e"
             ],
             [
              0.4444444444444444,
              "#bd3786"
             ],
             [
              0.5555555555555556,
              "#d8576b"
             ],
             [
              0.6666666666666666,
              "#ed7953"
             ],
             [
              0.7777777777777778,
              "#fb9f3a"
             ],
             [
              0.8888888888888888,
              "#fdca26"
             ],
             [
              1,
              "#f0f921"
             ]
            ],
            "type": "histogram2d"
           }
          ],
          "histogram2dcontour": [
           {
            "colorbar": {
             "outlinewidth": 0,
             "ticks": ""
            },
            "colorscale": [
             [
              0,
              "#0d0887"
             ],
             [
              0.1111111111111111,
              "#46039f"
             ],
             [
              0.2222222222222222,
              "#7201a8"
             ],
             [
              0.3333333333333333,
              "#9c179e"
             ],
             [
              0.4444444444444444,
              "#bd3786"
             ],
             [
              0.5555555555555556,
              "#d8576b"
             ],
             [
              0.6666666666666666,
              "#ed7953"
             ],
             [
              0.7777777777777778,
              "#fb9f3a"
             ],
             [
              0.8888888888888888,
              "#fdca26"
             ],
             [
              1,
              "#f0f921"
             ]
            ],
            "type": "histogram2dcontour"
           }
          ],
          "mesh3d": [
           {
            "colorbar": {
             "outlinewidth": 0,
             "ticks": ""
            },
            "type": "mesh3d"
           }
          ],
          "parcoords": [
           {
            "line": {
             "colorbar": {
              "outlinewidth": 0,
              "ticks": ""
             }
            },
            "type": "parcoords"
           }
          ],
          "pie": [
           {
            "automargin": true,
            "type": "pie"
           }
          ],
          "scatter": [
           {
            "fillpattern": {
             "fillmode": "overlay",
             "size": 10,
             "solidity": 0.2
            },
            "type": "scatter"
           }
          ],
          "scatter3d": [
           {
            "line": {
             "colorbar": {
              "outlinewidth": 0,
              "ticks": ""
             }
            },
            "marker": {
             "colorbar": {
              "outlinewidth": 0,
              "ticks": ""
             }
            },
            "type": "scatter3d"
           }
          ],
          "scattercarpet": [
           {
            "marker": {
             "colorbar": {
              "outlinewidth": 0,
              "ticks": ""
             }
            },
            "type": "scattercarpet"
           }
          ],
          "scattergeo": [
           {
            "marker": {
             "colorbar": {
              "outlinewidth": 0,
              "ticks": ""
             }
            },
            "type": "scattergeo"
           }
          ],
          "scattergl": [
           {
            "marker": {
             "colorbar": {
              "outlinewidth": 0,
              "ticks": ""
             }
            },
            "type": "scattergl"
           }
          ],
          "scattermapbox": [
           {
            "marker": {
             "colorbar": {
              "outlinewidth": 0,
              "ticks": ""
             }
            },
            "type": "scattermapbox"
           }
          ],
          "scatterpolar": [
           {
            "marker": {
             "colorbar": {
              "outlinewidth": 0,
              "ticks": ""
             }
            },
            "type": "scatterpolar"
           }
          ],
          "scatterpolargl": [
           {
            "marker": {
             "colorbar": {
              "outlinewidth": 0,
              "ticks": ""
             }
            },
            "type": "scatterpolargl"
           }
          ],
          "scatterternary": [
           {
            "marker": {
             "colorbar": {
              "outlinewidth": 0,
              "ticks": ""
             }
            },
            "type": "scatterternary"
           }
          ],
          "surface": [
           {
            "colorbar": {
             "outlinewidth": 0,
             "ticks": ""
            },
            "colorscale": [
             [
              0,
              "#0d0887"
             ],
             [
              0.1111111111111111,
              "#46039f"
             ],
             [
              0.2222222222222222,
              "#7201a8"
             ],
             [
              0.3333333333333333,
              "#9c179e"
             ],
             [
              0.4444444444444444,
              "#bd3786"
             ],
             [
              0.5555555555555556,
              "#d8576b"
             ],
             [
              0.6666666666666666,
              "#ed7953"
             ],
             [
              0.7777777777777778,
              "#fb9f3a"
             ],
             [
              0.8888888888888888,
              "#fdca26"
             ],
             [
              1,
              "#f0f921"
             ]
            ],
            "type": "surface"
           }
          ],
          "table": [
           {
            "cells": {
             "fill": {
              "color": "#EBF0F8"
             },
             "line": {
              "color": "white"
             }
            },
            "header": {
             "fill": {
              "color": "#C8D4E3"
             },
             "line": {
              "color": "white"
             }
            },
            "type": "table"
           }
          ]
         },
         "layout": {
          "annotationdefaults": {
           "arrowcolor": "#2a3f5f",
           "arrowhead": 0,
           "arrowwidth": 1
          },
          "autotypenumbers": "strict",
          "coloraxis": {
           "colorbar": {
            "outlinewidth": 0,
            "ticks": ""
           }
          },
          "colorscale": {
           "diverging": [
            [
             0,
             "#8e0152"
            ],
            [
             0.1,
             "#c51b7d"
            ],
            [
             0.2,
             "#de77ae"
            ],
            [
             0.3,
             "#f1b6da"
            ],
            [
             0.4,
             "#fde0ef"
            ],
            [
             0.5,
             "#f7f7f7"
            ],
            [
             0.6,
             "#e6f5d0"
            ],
            [
             0.7,
             "#b8e186"
            ],
            [
             0.8,
             "#7fbc41"
            ],
            [
             0.9,
             "#4d9221"
            ],
            [
             1,
             "#276419"
            ]
           ],
           "sequential": [
            [
             0,
             "#0d0887"
            ],
            [
             0.1111111111111111,
             "#46039f"
            ],
            [
             0.2222222222222222,
             "#7201a8"
            ],
            [
             0.3333333333333333,
             "#9c179e"
            ],
            [
             0.4444444444444444,
             "#bd3786"
            ],
            [
             0.5555555555555556,
             "#d8576b"
            ],
            [
             0.6666666666666666,
             "#ed7953"
            ],
            [
             0.7777777777777778,
             "#fb9f3a"
            ],
            [
             0.8888888888888888,
             "#fdca26"
            ],
            [
             1,
             "#f0f921"
            ]
           ],
           "sequentialminus": [
            [
             0,
             "#0d0887"
            ],
            [
             0.1111111111111111,
             "#46039f"
            ],
            [
             0.2222222222222222,
             "#7201a8"
            ],
            [
             0.3333333333333333,
             "#9c179e"
            ],
            [
             0.4444444444444444,
             "#bd3786"
            ],
            [
             0.5555555555555556,
             "#d8576b"
            ],
            [
             0.6666666666666666,
             "#ed7953"
            ],
            [
             0.7777777777777778,
             "#fb9f3a"
            ],
            [
             0.8888888888888888,
             "#fdca26"
            ],
            [
             1,
             "#f0f921"
            ]
           ]
          },
          "colorway": [
           "#636efa",
           "#EF553B",
           "#00cc96",
           "#ab63fa",
           "#FFA15A",
           "#19d3f3",
           "#FF6692",
           "#B6E880",
           "#FF97FF",
           "#FECB52"
          ],
          "font": {
           "color": "#2a3f5f"
          },
          "geo": {
           "bgcolor": "white",
           "lakecolor": "white",
           "landcolor": "#E5ECF6",
           "showlakes": true,
           "showland": true,
           "subunitcolor": "white"
          },
          "hoverlabel": {
           "align": "left"
          },
          "hovermode": "closest",
          "mapbox": {
           "style": "light"
          },
          "paper_bgcolor": "white",
          "plot_bgcolor": "#E5ECF6",
          "polar": {
           "angularaxis": {
            "gridcolor": "white",
            "linecolor": "white",
            "ticks": ""
           },
           "bgcolor": "#E5ECF6",
           "radialaxis": {
            "gridcolor": "white",
            "linecolor": "white",
            "ticks": ""
           }
          },
          "scene": {
           "xaxis": {
            "backgroundcolor": "#E5ECF6",
            "gridcolor": "white",
            "gridwidth": 2,
            "linecolor": "white",
            "showbackground": true,
            "ticks": "",
            "zerolinecolor": "white"
           },
           "yaxis": {
            "backgroundcolor": "#E5ECF6",
            "gridcolor": "white",
            "gridwidth": 2,
            "linecolor": "white",
            "showbackground": true,
            "ticks": "",
            "zerolinecolor": "white"
           },
           "zaxis": {
            "backgroundcolor": "#E5ECF6",
            "gridcolor": "white",
            "gridwidth": 2,
            "linecolor": "white",
            "showbackground": true,
            "ticks": "",
            "zerolinecolor": "white"
           }
          },
          "shapedefaults": {
           "line": {
            "color": "#2a3f5f"
           }
          },
          "ternary": {
           "aaxis": {
            "gridcolor": "white",
            "linecolor": "white",
            "ticks": ""
           },
           "baxis": {
            "gridcolor": "white",
            "linecolor": "white",
            "ticks": ""
           },
           "bgcolor": "#E5ECF6",
           "caxis": {
            "gridcolor": "white",
            "linecolor": "white",
            "ticks": ""
           }
          },
          "title": {
           "x": 0.05
          },
          "xaxis": {
           "automargin": true,
           "gridcolor": "white",
           "linecolor": "white",
           "ticks": "",
           "title": {
            "standoff": 15
           },
           "zerolinecolor": "white",
           "zerolinewidth": 2
          },
          "yaxis": {
           "automargin": true,
           "gridcolor": "white",
           "linecolor": "white",
           "ticks": "",
           "title": {
            "standoff": 15
           },
           "zerolinecolor": "white",
           "zerolinewidth": 2
          }
         }
        },
        "title": {
         "font": {
          "family": "Computer Modern"
         },
         "text": "Fig 1: Support of the different phase-out strategies",
         "x": 0.5,
         "xanchor": "center"
        },
        "width": 600,
        "xaxis": {
         "showticklabels": true,
         "title": {}
        },
        "yaxis": {
         "range": [
          0,
          1
         ]
        }
       }
      }
     },
     "metadata": {},
     "output_type": "display_data"
    }
   ],
   "source": [
    "clean_data = pd.read_csv(OUT / \"data\" / \"data_clean.csv\")\n",
    "\n",
    "import pandas as pd\n",
    "import plotly.graph_objs as go\n",
    "\n",
    "def attribute_support(df, attribute):\n",
    "    df = df.copy()\n",
    "\n",
    "    df = df[[attribute, 'support']]\n",
    "    df['support'] = df['support'].astype(int)\n",
    "\n",
    "    categories = df[attribute].unique()\n",
    "\n",
    "    support = {\"Attribute Level\": [], \"Value\": [], \"CI_lower\": [], \"CI_upper\": []}\n",
    "    \n",
    "    for cat in categories[::-1]:\n",
    "        group = df[df[attribute] == cat]\n",
    "        mean = group['support'].mean()\n",
    "        std_dev = group['support'].std()\n",
    "        n = len(group)\n",
    "        confidence_interval = 1.96 * (std_dev / (n**0.5))  # 95% confidence interval\n",
    "\n",
    "        support[\"Attribute Level\"].append(cat.replace('&', '<br>'))\n",
    "        support[\"Value\"].append(mean.round(2))\n",
    "        support[\"CI_lower\"].append((mean - confidence_interval).round(2))\n",
    "        support[\"CI_upper\"].append((mean + confidence_interval).round(2))\n",
    "\n",
    "    df = pd.DataFrame(support)\n",
    "\n",
    "    color_scale = [\"rgb(173, 221, 142)\", \"rgb(127, 188, 65)\", \"rgb(78, 139, 37)\", \"rgb(45, 82, 21)\"]\n",
    "\n",
    "    fig = go.Figure()\n",
    "\n",
    "    for i, row in df.iterrows():\n",
    "        fig.add_trace(go.Bar(\n",
    "            x=[row[\"Attribute Level\"]],\n",
    "            y=[row[\"Value\"]],\n",
    "            error_y=dict(\n",
    "                type='data',\n",
    "                array=[row[\"CI_upper\"] - row[\"Value\"]],\n",
    "                arrayminus=[row[\"Value\"] - row[\"CI_lower\"]],\n",
    "                visible=True\n",
    "            ),\n",
    "            marker_color=color_scale[i],\n",
    "            name=row[\"Attribute Level\"]\n",
    "        ))\n",
    "\n",
    "    # Set y-axis range from 0 to 1\n",
    "    fig.update_layout(yaxis_range=[0, 1], width=600, height=500)\n",
    "\n",
    "    # Add a horizontal line at y=0.5\n",
    "    \n",
    "    fig.add_hline(y=0.5, line_dash=\"dash\")\n",
    "\n",
    "\n",
    "    fig.update_layout(barmode=\"group\", bargap=0.6, bargroupgap=0.1)\n",
    "    fig.update_layout(\n",
    "        title={\n",
    "            'text': \"Fig 1: Support of the different phase-out strategies\",\n",
    "            'x': 0.5,\n",
    "            'xanchor': 'center',\n",
    "            'font': {'family': 'Computer Modern'}\n",
    "        },\n",
    "        margin=dict(l=20, r=20, t=45, b=5),\n",
    "        paper_bgcolor=\"#EADDCA\",\n",
    "        plot_bgcolor='rgba(0,0,0,0)',\n",
    "        showlegend=False,  # Show legend for different Attribute Levels\n",
    "        xaxis_showticklabels=True,\n",
    "        xaxis_title=None,\n",
    "    )\n",
    "\n",
    "    return fig\n",
    "\n",
    "\n",
    "\n",
    "fig = attribute_support(clean_data, \"att_1\")\n",
    "\n",
    "fig.show()\n",
    "\n",
    "\n"
   ]
  },
  {
   "cell_type": "code",
   "execution_count": null,
   "metadata": {},
   "outputs": [],
   "source": []
  },
  {
   "attachments": {},
   "cell_type": "markdown",
   "metadata": {},
   "source": [
    "## Plots"
   ]
  },
  {
   "attachments": {},
   "cell_type": "markdown",
   "metadata": {},
   "source": [
    "##### 1.1 Relative support plot AMCE (Intra)"
   ]
  },
  {
   "cell_type": "code",
   "execution_count": 40,
   "metadata": {},
   "outputs": [
    {
     "data": {
      "text/plain": [
       "0.3932151622585344"
      ]
     },
     "execution_count": 40,
     "metadata": {},
     "output_type": "execute_result"
    }
   ],
   "source": [
    "model.params[0]['att_6_SignificantEffort']"
   ]
  },
  {
   "cell_type": "code",
   "execution_count": 13,
   "metadata": {},
   "outputs": [
    {
     "data": {
      "application/vnd.plotly.v1+json": {
       "config": {
        "plotlyServerURL": "https://plot.ly"
       },
       "data": [
        {
         "error_x": {
          "array": [
           0.04250083110086807,
           0.0816934862944989,
           0.07447672811387371
          ],
          "color": "gray",
          "thickness": 1.5,
          "type": "data"
         },
         "marker": {
          "color": "darkgray",
          "size": 10
         },
         "mode": "markers",
         "orientation": "h",
         "showlegend": false,
         "type": "scatter",
         "x": [
          0.144048978569633,
          0.10149218682311074,
          0.011497185971211396
         ],
         "y": [
          "SignificantEffort",
          "ModerateEfforts",
          "MinorEfforts"
         ]
        },
        {
         "error_x": {
          "array": [
           0.1249217293673948,
           0.09902853075255147,
           0.08188133077343093,
           0.07202886877257493
          ],
          "color": "red",
          "thickness": 1.5,
          "type": "data"
         },
         "marker": {
          "color": "darkgray",
          "size": 10
         },
         "mode": "markers",
         "orientation": "h",
         "showlegend": false,
         "type": "scatter",
         "x": [
          0.13182175367117915,
          0.11612604360967405,
          0.04608268013799631,
          -0.0369921260548942
         ],
         "y": [
          "Fin&TechSupport",
          "FinSupportOnly",
          "TechSupportOnly",
          "NoInterference"
         ]
        },
        {
         "error_x": {
          "array": [
           0.1811396317352279,
           0.12868770433801238,
           0.11068480681791291,
           0.10072047644461012,
           0.16293659544937122,
           0.11121668672714374
          ],
          "color": "blue",
          "thickness": 1.5,
          "type": "data"
         },
         "marker": {
          "color": "darkgray",
          "size": 10
         },
         "mode": "markers",
         "orientation": "h",
         "showlegend": false,
         "type": "scatter",
         "x": [
          0.12720206885022628,
          0.4290536740915376,
          0.021804837312819916,
          -0.0638453905762473,
          0.00879982539709337,
          -0.2659766637114749
         ],
         "y": [
          "Gov&CivilSociety",
          "Gov&Researchers",
          "Gov&Businesses",
          "Gov&LaborUnions",
          "Gov&LocalGov",
          "GovAlone"
         ]
        },
        {
         "error_x": {
          "array": [
           0.15375470076139958,
           0.07334125176440356,
           0.08632404721341543,
           0.10368840720354756
          ],
          "color": "green",
          "thickness": 1.5,
          "type": "data"
         },
         "marker": {
          "color": "darkgray",
          "size": 10
         },
         "mode": "markers",
         "orientation": "h",
         "showlegend": false,
         "type": "scatter",
         "x": [
          0.00629737443804821,
          0.01916252672915944,
          0.12531919168259542,
          0.10625925851415194
         ],
         "y": [
          "IdentityCoalRegions",
          "IndustryCoalRegions",
          "WorkersCoalRegion",
          "NothingEco"
         ]
        },
        {
         "error_x": {
          "array": [
           0.11680681519507126,
           0.1159890017763792,
           0.0912756197459257,
           0.12675578699443052,
           0.10067311333936055
          ],
          "color": "orange",
          "thickness": 1.5,
          "type": "data"
         },
         "marker": {
          "color": "darkgray",
          "size": 10
         },
         "mode": "markers",
         "orientation": "h",
         "showlegend": false,
         "type": "scatter",
         "x": [
          -0.13806647608331132,
          -0.05216290608988655,
          0.16775494483169262,
          0.15005612063071394,
          0.1294566680747462
         ],
         "y": [
          "LowPrices",
          "InsureWorkers",
          "HealthEdu",
          "EnergyAccess",
          "NothingSoc"
         ]
        },
        {
         "error_x": {
          "array": [
           0.10154321242183581,
           0.0652447975882614,
           0.11636791497706764,
           0.06782385217559664
          ],
          "color": "purple",
          "thickness": 1.5,
          "type": "data"
         },
         "marker": {
          "color": "darkgray",
          "size": 10
         },
         "mode": "markers",
         "orientation": "h",
         "showlegend": false,
         "type": "scatter",
         "x": [
          -0.019606470077739566,
          0.0008822100351297338,
          0.08926600205759923,
          0.1864966093489666
         ],
         "y": [
          "Eliminate&UseRenewables",
          "Eliminate&UseAllOther",
          "Reduce&IncreaseRenewables",
          "Reduce&IncreaseAllOther"
         ]
        }
       ],
       "layout": {
        "height": 600,
        "margin": {
         "b": 40,
         "l": 80,
         "r": 30,
         "t": 80
        },
        "shapes": [
         {
          "fillcolor": "gray",
          "layer": "below",
          "opacity": 0.1,
          "type": "rect",
          "x0": -1.5,
          "x1": 1.5,
          "y0": 0,
          "y1": 2
         },
         {
          "fillcolor": "red",
          "layer": "below",
          "opacity": 0.1,
          "type": "rect",
          "x0": -1.5,
          "x1": 1.5,
          "y0": 3,
          "y1": 6
         },
         {
          "fillcolor": "blue",
          "layer": "below",
          "opacity": 0.1,
          "type": "rect",
          "x0": -1.5,
          "x1": 1.5,
          "y0": 7,
          "y1": 12
         },
         {
          "fillcolor": "green",
          "layer": "below",
          "opacity": 0.1,
          "type": "rect",
          "x0": -1.5,
          "x1": 1.5,
          "y0": 13,
          "y1": 16
         },
         {
          "fillcolor": "orange",
          "layer": "below",
          "opacity": 0.1,
          "type": "rect",
          "x0": -1.5,
          "x1": 1.5,
          "y0": 17,
          "y1": 21
         },
         {
          "fillcolor": "purple",
          "layer": "below",
          "opacity": 0.1,
          "type": "rect",
          "x0": -1.5,
          "x1": 1.5,
          "y0": 22,
          "y1": 25
         },
         {
          "line": {
           "color": "gray",
           "dash": "dash",
           "width": 1
          },
          "type": "line",
          "x0": 0,
          "x1": 0,
          "y0": "SignificantEffort",
          "y1": "Reduce&IncreaseAllOther"
         }
        ],
        "showlegend": true,
        "template": {
         "data": {
          "bar": [
           {
            "error_x": {
             "color": "#2a3f5f"
            },
            "error_y": {
             "color": "#2a3f5f"
            },
            "marker": {
             "line": {
              "color": "#E5ECF6",
              "width": 0.5
             },
             "pattern": {
              "fillmode": "overlay",
              "size": 10,
              "solidity": 0.2
             }
            },
            "type": "bar"
           }
          ],
          "barpolar": [
           {
            "marker": {
             "line": {
              "color": "#E5ECF6",
              "width": 0.5
             },
             "pattern": {
              "fillmode": "overlay",
              "size": 10,
              "solidity": 0.2
             }
            },
            "type": "barpolar"
           }
          ],
          "carpet": [
           {
            "aaxis": {
             "endlinecolor": "#2a3f5f",
             "gridcolor": "white",
             "linecolor": "white",
             "minorgridcolor": "white",
             "startlinecolor": "#2a3f5f"
            },
            "baxis": {
             "endlinecolor": "#2a3f5f",
             "gridcolor": "white",
             "linecolor": "white",
             "minorgridcolor": "white",
             "startlinecolor": "#2a3f5f"
            },
            "type": "carpet"
           }
          ],
          "choropleth": [
           {
            "colorbar": {
             "outlinewidth": 0,
             "ticks": ""
            },
            "type": "choropleth"
           }
          ],
          "contour": [
           {
            "colorbar": {
             "outlinewidth": 0,
             "ticks": ""
            },
            "colorscale": [
             [
              0,
              "#0d0887"
             ],
             [
              0.1111111111111111,
              "#46039f"
             ],
             [
              0.2222222222222222,
              "#7201a8"
             ],
             [
              0.3333333333333333,
              "#9c179e"
             ],
             [
              0.4444444444444444,
              "#bd3786"
             ],
             [
              0.5555555555555556,
              "#d8576b"
             ],
             [
              0.6666666666666666,
              "#ed7953"
             ],
             [
              0.7777777777777778,
              "#fb9f3a"
             ],
             [
              0.8888888888888888,
              "#fdca26"
             ],
             [
              1,
              "#f0f921"
             ]
            ],
            "type": "contour"
           }
          ],
          "contourcarpet": [
           {
            "colorbar": {
             "outlinewidth": 0,
             "ticks": ""
            },
            "type": "contourcarpet"
           }
          ],
          "heatmap": [
           {
            "colorbar": {
             "outlinewidth": 0,
             "ticks": ""
            },
            "colorscale": [
             [
              0,
              "#0d0887"
             ],
             [
              0.1111111111111111,
              "#46039f"
             ],
             [
              0.2222222222222222,
              "#7201a8"
             ],
             [
              0.3333333333333333,
              "#9c179e"
             ],
             [
              0.4444444444444444,
              "#bd3786"
             ],
             [
              0.5555555555555556,
              "#d8576b"
             ],
             [
              0.6666666666666666,
              "#ed7953"
             ],
             [
              0.7777777777777778,
              "#fb9f3a"
             ],
             [
              0.8888888888888888,
              "#fdca26"
             ],
             [
              1,
              "#f0f921"
             ]
            ],
            "type": "heatmap"
           }
          ],
          "heatmapgl": [
           {
            "colorbar": {
             "outlinewidth": 0,
             "ticks": ""
            },
            "colorscale": [
             [
              0,
              "#0d0887"
             ],
             [
              0.1111111111111111,
              "#46039f"
             ],
             [
              0.2222222222222222,
              "#7201a8"
             ],
             [
              0.3333333333333333,
              "#9c179e"
             ],
             [
              0.4444444444444444,
              "#bd3786"
             ],
             [
              0.5555555555555556,
              "#d8576b"
             ],
             [
              0.6666666666666666,
              "#ed7953"
             ],
             [
              0.7777777777777778,
              "#fb9f3a"
             ],
             [
              0.8888888888888888,
              "#fdca26"
             ],
             [
              1,
              "#f0f921"
             ]
            ],
            "type": "heatmapgl"
           }
          ],
          "histogram": [
           {
            "marker": {
             "pattern": {
              "fillmode": "overlay",
              "size": 10,
              "solidity": 0.2
             }
            },
            "type": "histogram"
           }
          ],
          "histogram2d": [
           {
            "colorbar": {
             "outlinewidth": 0,
             "ticks": ""
            },
            "colorscale": [
             [
              0,
              "#0d0887"
             ],
             [
              0.1111111111111111,
              "#46039f"
             ],
             [
              0.2222222222222222,
              "#7201a8"
             ],
             [
              0.3333333333333333,
              "#9c179e"
             ],
             [
              0.4444444444444444,
              "#bd3786"
             ],
             [
              0.5555555555555556,
              "#d8576b"
             ],
             [
              0.6666666666666666,
              "#ed7953"
             ],
             [
              0.7777777777777778,
              "#fb9f3a"
             ],
             [
              0.8888888888888888,
              "#fdca26"
             ],
             [
              1,
              "#f0f921"
             ]
            ],
            "type": "histogram2d"
           }
          ],
          "histogram2dcontour": [
           {
            "colorbar": {
             "outlinewidth": 0,
             "ticks": ""
            },
            "colorscale": [
             [
              0,
              "#0d0887"
             ],
             [
              0.1111111111111111,
              "#46039f"
             ],
             [
              0.2222222222222222,
              "#7201a8"
             ],
             [
              0.3333333333333333,
              "#9c179e"
             ],
             [
              0.4444444444444444,
              "#bd3786"
             ],
             [
              0.5555555555555556,
              "#d8576b"
             ],
             [
              0.6666666666666666,
              "#ed7953"
             ],
             [
              0.7777777777777778,
              "#fb9f3a"
             ],
             [
              0.8888888888888888,
              "#fdca26"
             ],
             [
              1,
              "#f0f921"
             ]
            ],
            "type": "histogram2dcontour"
           }
          ],
          "mesh3d": [
           {
            "colorbar": {
             "outlinewidth": 0,
             "ticks": ""
            },
            "type": "mesh3d"
           }
          ],
          "parcoords": [
           {
            "line": {
             "colorbar": {
              "outlinewidth": 0,
              "ticks": ""
             }
            },
            "type": "parcoords"
           }
          ],
          "pie": [
           {
            "automargin": true,
            "type": "pie"
           }
          ],
          "scatter": [
           {
            "fillpattern": {
             "fillmode": "overlay",
             "size": 10,
             "solidity": 0.2
            },
            "type": "scatter"
           }
          ],
          "scatter3d": [
           {
            "line": {
             "colorbar": {
              "outlinewidth": 0,
              "ticks": ""
             }
            },
            "marker": {
             "colorbar": {
              "outlinewidth": 0,
              "ticks": ""
             }
            },
            "type": "scatter3d"
           }
          ],
          "scattercarpet": [
           {
            "marker": {
             "colorbar": {
              "outlinewidth": 0,
              "ticks": ""
             }
            },
            "type": "scattercarpet"
           }
          ],
          "scattergeo": [
           {
            "marker": {
             "colorbar": {
              "outlinewidth": 0,
              "ticks": ""
             }
            },
            "type": "scattergeo"
           }
          ],
          "scattergl": [
           {
            "marker": {
             "colorbar": {
              "outlinewidth": 0,
              "ticks": ""
             }
            },
            "type": "scattergl"
           }
          ],
          "scattermapbox": [
           {
            "marker": {
             "colorbar": {
              "outlinewidth": 0,
              "ticks": ""
             }
            },
            "type": "scattermapbox"
           }
          ],
          "scatterpolar": [
           {
            "marker": {
             "colorbar": {
              "outlinewidth": 0,
              "ticks": ""
             }
            },
            "type": "scatterpolar"
           }
          ],
          "scatterpolargl": [
           {
            "marker": {
             "colorbar": {
              "outlinewidth": 0,
              "ticks": ""
             }
            },
            "type": "scatterpolargl"
           }
          ],
          "scatterternary": [
           {
            "marker": {
             "colorbar": {
              "outlinewidth": 0,
              "ticks": ""
             }
            },
            "type": "scatterternary"
           }
          ],
          "surface": [
           {
            "colorbar": {
             "outlinewidth": 0,
             "ticks": ""
            },
            "colorscale": [
             [
              0,
              "#0d0887"
             ],
             [
              0.1111111111111111,
              "#46039f"
             ],
             [
              0.2222222222222222,
              "#7201a8"
             ],
             [
              0.3333333333333333,
              "#9c179e"
             ],
             [
              0.4444444444444444,
              "#bd3786"
             ],
             [
              0.5555555555555556,
              "#d8576b"
             ],
             [
              0.6666666666666666,
              "#ed7953"
             ],
             [
              0.7777777777777778,
              "#fb9f3a"
             ],
             [
              0.8888888888888888,
              "#fdca26"
             ],
             [
              1,
              "#f0f921"
             ]
            ],
            "type": "surface"
           }
          ],
          "table": [
           {
            "cells": {
             "fill": {
              "color": "#EBF0F8"
             },
             "line": {
              "color": "white"
             }
            },
            "header": {
             "fill": {
              "color": "#C8D4E3"
             },
             "line": {
              "color": "white"
             }
            },
            "type": "table"
           }
          ]
         },
         "layout": {
          "annotationdefaults": {
           "arrowcolor": "#2a3f5f",
           "arrowhead": 0,
           "arrowwidth": 1
          },
          "autotypenumbers": "strict",
          "coloraxis": {
           "colorbar": {
            "outlinewidth": 0,
            "ticks": ""
           }
          },
          "colorscale": {
           "diverging": [
            [
             0,
             "#8e0152"
            ],
            [
             0.1,
             "#c51b7d"
            ],
            [
             0.2,
             "#de77ae"
            ],
            [
             0.3,
             "#f1b6da"
            ],
            [
             0.4,
             "#fde0ef"
            ],
            [
             0.5,
             "#f7f7f7"
            ],
            [
             0.6,
             "#e6f5d0"
            ],
            [
             0.7,
             "#b8e186"
            ],
            [
             0.8,
             "#7fbc41"
            ],
            [
             0.9,
             "#4d9221"
            ],
            [
             1,
             "#276419"
            ]
           ],
           "sequential": [
            [
             0,
             "#0d0887"
            ],
            [
             0.1111111111111111,
             "#46039f"
            ],
            [
             0.2222222222222222,
             "#7201a8"
            ],
            [
             0.3333333333333333,
             "#9c179e"
            ],
            [
             0.4444444444444444,
             "#bd3786"
            ],
            [
             0.5555555555555556,
             "#d8576b"
            ],
            [
             0.6666666666666666,
             "#ed7953"
            ],
            [
             0.7777777777777778,
             "#fb9f3a"
            ],
            [
             0.8888888888888888,
             "#fdca26"
            ],
            [
             1,
             "#f0f921"
            ]
           ],
           "sequentialminus": [
            [
             0,
             "#0d0887"
            ],
            [
             0.1111111111111111,
             "#46039f"
            ],
            [
             0.2222222222222222,
             "#7201a8"
            ],
            [
             0.3333333333333333,
             "#9c179e"
            ],
            [
             0.4444444444444444,
             "#bd3786"
            ],
            [
             0.5555555555555556,
             "#d8576b"
            ],
            [
             0.6666666666666666,
             "#ed7953"
            ],
            [
             0.7777777777777778,
             "#fb9f3a"
            ],
            [
             0.8888888888888888,
             "#fdca26"
            ],
            [
             1,
             "#f0f921"
            ]
           ]
          },
          "colorway": [
           "#636efa",
           "#EF553B",
           "#00cc96",
           "#ab63fa",
           "#FFA15A",
           "#19d3f3",
           "#FF6692",
           "#B6E880",
           "#FF97FF",
           "#FECB52"
          ],
          "font": {
           "color": "#2a3f5f"
          },
          "geo": {
           "bgcolor": "white",
           "lakecolor": "white",
           "landcolor": "#E5ECF6",
           "showlakes": true,
           "showland": true,
           "subunitcolor": "white"
          },
          "hoverlabel": {
           "align": "left"
          },
          "hovermode": "closest",
          "mapbox": {
           "style": "light"
          },
          "paper_bgcolor": "white",
          "plot_bgcolor": "#E5ECF6",
          "polar": {
           "angularaxis": {
            "gridcolor": "white",
            "linecolor": "white",
            "ticks": ""
           },
           "bgcolor": "#E5ECF6",
           "radialaxis": {
            "gridcolor": "white",
            "linecolor": "white",
            "ticks": ""
           }
          },
          "scene": {
           "xaxis": {
            "backgroundcolor": "#E5ECF6",
            "gridcolor": "white",
            "gridwidth": 2,
            "linecolor": "white",
            "showbackground": true,
            "ticks": "",
            "zerolinecolor": "white"
           },
           "yaxis": {
            "backgroundcolor": "#E5ECF6",
            "gridcolor": "white",
            "gridwidth": 2,
            "linecolor": "white",
            "showbackground": true,
            "ticks": "",
            "zerolinecolor": "white"
           },
           "zaxis": {
            "backgroundcolor": "#E5ECF6",
            "gridcolor": "white",
            "gridwidth": 2,
            "linecolor": "white",
            "showbackground": true,
            "ticks": "",
            "zerolinecolor": "white"
           }
          },
          "shapedefaults": {
           "line": {
            "color": "#2a3f5f"
           }
          },
          "ternary": {
           "aaxis": {
            "gridcolor": "white",
            "linecolor": "white",
            "ticks": ""
           },
           "baxis": {
            "gridcolor": "white",
            "linecolor": "white",
            "ticks": ""
           },
           "bgcolor": "#E5ECF6",
           "caxis": {
            "gridcolor": "white",
            "linecolor": "white",
            "ticks": ""
           }
          },
          "title": {
           "x": 0.05
          },
          "xaxis": {
           "automargin": true,
           "gridcolor": "white",
           "linecolor": "white",
           "ticks": "",
           "title": {
            "standoff": 15
           },
           "zerolinecolor": "white",
           "zerolinewidth": 2
          },
          "yaxis": {
           "automargin": true,
           "gridcolor": "white",
           "linecolor": "white",
           "ticks": "",
           "title": {
            "standoff": 15
           },
           "zerolinecolor": "white",
           "zerolinewidth": 2
          }
         }
        },
        "title": {
         "text": "Relative Rating Differences",
         "x": 0.62
        },
        "width": 1000,
        "xaxis": {
         "tickformat": ".2f",
         "title": {
          "text": ""
         },
         "zeroline": false
        },
        "yaxis": {
         "categoryarray": [
          "SignificantEffort",
          "ModerateEfforts",
          "MinorEfforts"
         ],
         "categoryorder": "array",
         "title": {
          "text": "Attribute Levels"
         }
        }
       }
      }
     },
     "metadata": {},
     "output_type": "display_data"
    }
   ],
   "source": [
    "import plotly.graph_objects as go\n",
    "\n",
    "list1 = read_yaml(r\"C:\\Users\\sjurl\\OneDrive\\Desktop\\MasterThesis\\Analysis\\conjoint\\developer\\final\\plot_specs.yaml\")\n",
    "\n",
    "\n",
    "# Assuming 'model' is the variable that holds your regression results\n",
    "# Extract the coefficients and standard errors for each attribute level\n",
    "att_1_levels = list1['order']['att_1']\n",
    "att_2_levels = list1['order']['att_2']\n",
    "att_3_levels = list1['order']['att_3']\n",
    "att_4_levels = list1['order']['att_4']\n",
    "att_5_levels = list1['order']['att_5']\n",
    "att_6_levels = list1['order']['att_6']\n",
    "\n",
    "\n",
    "\n",
    "#Remember to add att_6\n",
    "att_levels = [att_6_levels, att_5_levels, att_4_levels, att_3_levels, att_2_levels, att_1_levels]\n",
    "\n",
    "att_colors = ['gray', 'red', 'blue', 'green', 'orange', 'purple']  # Colors for each attribute group\n",
    "\n",
    "fig = go.Figure()\n",
    "\n",
    "total_levels = sum(len(levels) for levels in att_levels)\n",
    "\n",
    "# Loop through each attribute group and add the data to the plot\n",
    "for i, levels in enumerate(att_levels):\n",
    "    att_coefficients = [model.params[f'att_{6-i}_{level}'] for level in levels]\n",
    "    att_standard_errors = [model.bse[f'att_{6-i}_{level}'] for level in levels]\n",
    "\n",
    "    fig.add_trace(go.Scatter(\n",
    "        x=att_coefficients,\n",
    "        y=levels,\n",
    "        mode='markers',\n",
    "        error_x=dict(type='data', array=att_standard_errors, color=att_colors[i], thickness=1.5),\n",
    "        marker=dict(color='darkgray', size=10),\n",
    "        orientation='h',\n",
    "        showlegend = False,\n",
    "    ))\n",
    "\n",
    "    fig.add_shape(\n",
    "        type=\"rect\",\n",
    "        x0=-1.5,  # Set a fixed value for x0, which is left side of the plot\n",
    "        x1=1.5,  # Set the width of the shape to 1000 (right side of the plot)\n",
    "        y0=total_levels - sum(len(l) for l in att_levels[i:]),  # Set y0 to the starting level index\n",
    "        y1=total_levels - sum(len(l) for l in att_levels[i:]) + len(levels) - 1,  # Set y1 to the ending level index\n",
    "        fillcolor=att_colors[i],\n",
    "        opacity=0.1,  # Set the opacity for a light transparent effect\n",
    "        layer=\"below\",  # Place the rectangle below the scatter plot markers\n",
    "    )\n",
    "\n",
    "# Add a vertical line at x=0 for reference\n",
    "fig.add_shape(type=\"line\", x0=0, x1=0, y0=att_6_levels[0], y1=att_1_levels[-1], line=dict(color=\"gray\", width=1, dash='dash'))\n",
    "\n",
    "# Update the layout of the error bar plot\n",
    "fig.update_layout(\n",
    "    title='Relative Rating Differences',\n",
    "    xaxis_title='',\n",
    "    yaxis_title='Attribute Levels',\n",
    "    yaxis=dict(categoryorder='array', categoryarray=att_6_levels),  # Set the categoryorder for y-axis based on att_1_levels\n",
    "    xaxis=dict(tickformat='.2f', zeroline=False),  # Remove x-axis zeroline\n",
    "    showlegend=True,  # Show legend with attribute names\n",
    "    margin=dict(l=80, r=30, b=40, t=80),\n",
    "    height=600,  # Set the height of the plot to 600 pixels\n",
    "    width=1000,\n",
    "    title_x=0.62,\n",
    ")\n",
    "\n",
    "# Show the interactive error bar plot\n",
    "fig.show()\n"
   ]
  },
  {
   "attachments": {},
   "cell_type": "markdown",
   "metadata": {},
   "source": [
    "Grouped:"
   ]
  },
  {
   "cell_type": "code",
   "execution_count": 10,
   "metadata": {},
   "outputs": [
    {
     "data": {
      "application/vnd.plotly.v1+json": {
       "config": {
        "plotlyServerURL": "https://plot.ly"
       },
       "data": [
        {
         "error_x": {
          "array": [
           0.6584291808521778,
           0.6846703615566971,
           0.47699232500122735,
           0.22044602657858903,
           0.2951308862863799,
           0.29872896037143926,
           0.36959495021430006
          ],
          "color": "red",
          "thickness": 1.5,
          "type": "data"
         },
         "marker": {
          "color": "darkgray",
          "size": 10
         },
         "mode": "markers",
         "name": "Control",
         "orientation": "h",
         "showlegend": false,
         "type": "scatter",
         "x": [
          -0.1182283748083115,
          -0.19881721975238792,
          -0.06283646286993946,
          -0.4447483496369783,
          -0.6264641143301959,
          -0.6371707310365744,
          0
         ],
         "y": [
          "CivilNGO",
          "EnergySector",
          "LabourUnion",
          "LocalGov",
          "Media",
          "Researchers",
          "CentralGov"
         ]
        },
        {
         "error_x": {
          "array": [
           0.3315759676037956,
           0.21907457512265407,
           0.44706156539336306,
           0.18596571233320222,
           0.3941370821328204
          ],
          "color": "blue",
          "thickness": 1.5,
          "type": "data"
         },
         "marker": {
          "color": "darkgray",
          "size": 10
         },
         "mode": "markers",
         "name": "Control",
         "orientation": "h",
         "showlegend": false,
         "type": "scatter",
         "x": [
          0.043067575047422355,
          0.3038456252793748,
          0.13728297427559666,
          -0.4229288138946365,
          0
         ],
         "y": [
          "CreateJobs",
          "EarlyPension",
          "JobGuarantee",
          "Retrain",
          "NothingEco"
         ]
        },
        {
         "error_x": {
          "array": [
           0.21684965672311943,
           0.16279001910890245,
           0.2201398075222534,
           0.22462396392104006,
           0.45072000881391877
          ],
          "color": "green",
          "thickness": 1.5,
          "type": "data"
         },
         "marker": {
          "color": "darkgray",
          "size": 10
         },
         "mode": "markers",
         "name": "Control",
         "orientation": "h",
         "showlegend": false,
         "type": "scatter",
         "x": [
          -0.233851190648355,
          -0.1780375243510841,
          0.2207795574814773,
          -0.17019638748089108,
          0
         ],
         "y": [
          "HealthEdu",
          "EnergyAccess",
          "LowPrices",
          "Transfers",
          "NothingSoc"
         ]
        },
        {
         "error_x": {
          "array": [
           0.31845656936307004,
           0.21271502363101205,
           0.11518660184936504,
           0.3060574505350153
          ],
          "color": "orange",
          "thickness": 1.5,
          "type": "data"
         },
         "marker": {
          "color": "darkgray",
          "size": 10
         },
         "mode": "markers",
         "name": "Control",
         "orientation": "h",
         "showlegend": false,
         "type": "scatter",
         "x": [
          -0.46383251236045075,
          -0.5288492025187892,
          -0.2245180772905142,
          0
         ],
         "y": [
          "HighInvestment&Int",
          "HighInvestment&Int&Consideration",
          "LowInvestment&LowConsideration",
          "LowInvestment"
         ]
        },
        {
         "error_x": {
          "array": [
           0.15020210551842192,
           0.36114443132473184,
           0.29080168524478744,
           0.14264975968234808
          ],
          "color": "purple",
          "thickness": 1.5,
          "type": "data"
         },
         "marker": {
          "color": "darkgray",
          "size": 10
         },
         "mode": "markers",
         "name": "Control",
         "orientation": "h",
         "showlegend": false,
         "type": "scatter",
         "x": [
          0.4124937951187163,
          0.002282993302417796,
          -0.21993982554230032,
          0
         ],
         "y": [
          "PhaseOut",
          "Stop&Reduce",
          "Stop&Maintain",
          "StatusQuo"
         ]
        },
        {
         "error_x": {
          "array": [
           0.233454028605335,
           0.23499906343776267,
           0.4564783201528125,
           0.10655372087579801,
           0.20246541445197633,
           0.21662827972327722,
           0.32396964534225614
          ],
          "color": "red",
          "thickness": 1.5,
          "type": "data"
         },
         "marker": {
          "color": "red",
          "size": 10
         },
         "mode": "markers",
         "name": "Treated",
         "orientation": "h",
         "showlegend": false,
         "type": "scatter",
         "x": [
          0.07059828819188688,
          0.3630126599719975,
          0.45593071908615157,
          -0.23100279110779345,
          -0.03318976569189372,
          -0.383102366209369,
          0
         ],
         "y": [
          "CivilNGO",
          "EnergySector",
          "LabourUnion",
          "LocalGov",
          "Media",
          "Researchers",
          "CentralGov"
         ]
        },
        {
         "error_x": {
          "array": [
           0.3088003507122563,
           0.21985964399470925,
           0.08726781708967166,
           0.20147519331582428,
           0.23940734714287704
          ],
          "color": "blue",
          "thickness": 1.5,
          "type": "data"
         },
         "marker": {
          "color": "blue",
          "size": 10
         },
         "mode": "markers",
         "name": "Treated",
         "orientation": "h",
         "showlegend": false,
         "type": "scatter",
         "x": [
          -0.06414374087377223,
          0.2708938520645613,
          0.13556645316314975,
          -0.34404310174557284,
          0
         ],
         "y": [
          "CreateJobs",
          "EarlyPension",
          "JobGuarantee",
          "Retrain",
          "NothingEco"
         ]
        },
        {
         "error_x": {
          "array": [
           0.2688227324904073,
           0.2837254577811472,
           0.16995666718419258,
           0.11370687150054865,
           0.2424097047381784
          ],
          "color": "green",
          "thickness": 1.5,
          "type": "data"
         },
         "marker": {
          "color": "green",
          "size": 10
         },
         "mode": "markers",
         "name": "Treated",
         "orientation": "h",
         "showlegend": false,
         "type": "scatter",
         "x": [
          0.0015621969525032448,
          -0.4277399122803269,
          -0.39181888447442026,
          0.4626093839360377,
          0
         ],
         "y": [
          "HealthEdu",
          "EnergyAccess",
          "LowPrices",
          "Transfers",
          "NothingSoc"
         ]
        },
        {
         "error_x": {
          "array": [
           0.17210368555366815,
           0.2074273377395959,
           0.16512143221773545,
           0.1510496855143783
          ],
          "color": "orange",
          "thickness": 1.5,
          "type": "data"
         },
         "marker": {
          "color": "orange",
          "size": 10
         },
         "mode": "markers",
         "name": "Treated",
         "orientation": "h",
         "showlegend": false,
         "type": "scatter",
         "x": [
          -0.06070128881839071,
          0.18972254774509612,
          0.2202399315264778,
          0
         ],
         "y": [
          "HighInvestment&Int",
          "HighInvestment&Int&Consideration",
          "LowInvestment&LowConsideration",
          "LowInvestment"
         ]
        },
        {
         "error_x": {
          "array": [
           0.15671785061765003,
           0.2229405502314405,
           0.24574063142346092,
           0.06153251146755219
          ],
          "color": "purple",
          "thickness": 1.5,
          "type": "data"
         },
         "marker": {
          "color": "purple",
          "size": 10
         },
         "mode": "markers",
         "name": "Treated",
         "orientation": "h",
         "showlegend": false,
         "type": "scatter",
         "x": [
          0.5200042867695026,
          0.738391345673874,
          0.30360136723417486,
          0
         ],
         "y": [
          "PhaseOut",
          "Stop&Reduce",
          "Stop&Maintain",
          "StatusQuo"
         ]
        }
       ],
       "layout": {
        "height": 600,
        "margin": {
         "b": 40,
         "l": 80,
         "r": 30,
         "t": 80
        },
        "shapes": [
         {
          "fillcolor": "red",
          "layer": "below",
          "opacity": 0.1,
          "type": "rect",
          "x0": -1.5,
          "x1": 1.5,
          "y0": 0,
          "y1": 6
         },
         {
          "fillcolor": "blue",
          "layer": "below",
          "opacity": 0.1,
          "type": "rect",
          "x0": -1.5,
          "x1": 1.5,
          "y0": 7,
          "y1": 11
         },
         {
          "fillcolor": "green",
          "layer": "below",
          "opacity": 0.1,
          "type": "rect",
          "x0": -1.5,
          "x1": 1.5,
          "y0": 12,
          "y1": 16
         },
         {
          "fillcolor": "orange",
          "layer": "below",
          "opacity": 0.1,
          "type": "rect",
          "x0": -1.5,
          "x1": 1.5,
          "y0": 17,
          "y1": 20
         },
         {
          "fillcolor": "purple",
          "layer": "below",
          "opacity": 0.1,
          "type": "rect",
          "x0": -1.5,
          "x1": 1.5,
          "y0": 21,
          "y1": 24
         },
         {
          "line": {
           "color": "gray",
           "dash": "dash",
           "width": 1
          },
          "type": "line",
          "x0": 0,
          "x1": 0,
          "y0": "CivilNGO",
          "y1": "StatusQuo"
         }
        ],
        "showlegend": true,
        "template": {
         "data": {
          "bar": [
           {
            "error_x": {
             "color": "#2a3f5f"
            },
            "error_y": {
             "color": "#2a3f5f"
            },
            "marker": {
             "line": {
              "color": "#E5ECF6",
              "width": 0.5
             },
             "pattern": {
              "fillmode": "overlay",
              "size": 10,
              "solidity": 0.2
             }
            },
            "type": "bar"
           }
          ],
          "barpolar": [
           {
            "marker": {
             "line": {
              "color": "#E5ECF6",
              "width": 0.5
             },
             "pattern": {
              "fillmode": "overlay",
              "size": 10,
              "solidity": 0.2
             }
            },
            "type": "barpolar"
           }
          ],
          "carpet": [
           {
            "aaxis": {
             "endlinecolor": "#2a3f5f",
             "gridcolor": "white",
             "linecolor": "white",
             "minorgridcolor": "white",
             "startlinecolor": "#2a3f5f"
            },
            "baxis": {
             "endlinecolor": "#2a3f5f",
             "gridcolor": "white",
             "linecolor": "white",
             "minorgridcolor": "white",
             "startlinecolor": "#2a3f5f"
            },
            "type": "carpet"
           }
          ],
          "choropleth": [
           {
            "colorbar": {
             "outlinewidth": 0,
             "ticks": ""
            },
            "type": "choropleth"
           }
          ],
          "contour": [
           {
            "colorbar": {
             "outlinewidth": 0,
             "ticks": ""
            },
            "colorscale": [
             [
              0,
              "#0d0887"
             ],
             [
              0.1111111111111111,
              "#46039f"
             ],
             [
              0.2222222222222222,
              "#7201a8"
             ],
             [
              0.3333333333333333,
              "#9c179e"
             ],
             [
              0.4444444444444444,
              "#bd3786"
             ],
             [
              0.5555555555555556,
              "#d8576b"
             ],
             [
              0.6666666666666666,
              "#ed7953"
             ],
             [
              0.7777777777777778,
              "#fb9f3a"
             ],
             [
              0.8888888888888888,
              "#fdca26"
             ],
             [
              1,
              "#f0f921"
             ]
            ],
            "type": "contour"
           }
          ],
          "contourcarpet": [
           {
            "colorbar": {
             "outlinewidth": 0,
             "ticks": ""
            },
            "type": "contourcarpet"
           }
          ],
          "heatmap": [
           {
            "colorbar": {
             "outlinewidth": 0,
             "ticks": ""
            },
            "colorscale": [
             [
              0,
              "#0d0887"
             ],
             [
              0.1111111111111111,
              "#46039f"
             ],
             [
              0.2222222222222222,
              "#7201a8"
             ],
             [
              0.3333333333333333,
              "#9c179e"
             ],
             [
              0.4444444444444444,
              "#bd3786"
             ],
             [
              0.5555555555555556,
              "#d8576b"
             ],
             [
              0.6666666666666666,
              "#ed7953"
             ],
             [
              0.7777777777777778,
              "#fb9f3a"
             ],
             [
              0.8888888888888888,
              "#fdca26"
             ],
             [
              1,
              "#f0f921"
             ]
            ],
            "type": "heatmap"
           }
          ],
          "heatmapgl": [
           {
            "colorbar": {
             "outlinewidth": 0,
             "ticks": ""
            },
            "colorscale": [
             [
              0,
              "#0d0887"
             ],
             [
              0.1111111111111111,
              "#46039f"
             ],
             [
              0.2222222222222222,
              "#7201a8"
             ],
             [
              0.3333333333333333,
              "#9c179e"
             ],
             [
              0.4444444444444444,
              "#bd3786"
             ],
             [
              0.5555555555555556,
              "#d8576b"
             ],
             [
              0.6666666666666666,
              "#ed7953"
             ],
             [
              0.7777777777777778,
              "#fb9f3a"
             ],
             [
              0.8888888888888888,
              "#fdca26"
             ],
             [
              1,
              "#f0f921"
             ]
            ],
            "type": "heatmapgl"
           }
          ],
          "histogram": [
           {
            "marker": {
             "pattern": {
              "fillmode": "overlay",
              "size": 10,
              "solidity": 0.2
             }
            },
            "type": "histogram"
           }
          ],
          "histogram2d": [
           {
            "colorbar": {
             "outlinewidth": 0,
             "ticks": ""
            },
            "colorscale": [
             [
              0,
              "#0d0887"
             ],
             [
              0.1111111111111111,
              "#46039f"
             ],
             [
              0.2222222222222222,
              "#7201a8"
             ],
             [
              0.3333333333333333,
              "#9c179e"
             ],
             [
              0.4444444444444444,
              "#bd3786"
             ],
             [
              0.5555555555555556,
              "#d8576b"
             ],
             [
              0.6666666666666666,
              "#ed7953"
             ],
             [
              0.7777777777777778,
              "#fb9f3a"
             ],
             [
              0.8888888888888888,
              "#fdca26"
             ],
             [
              1,
              "#f0f921"
             ]
            ],
            "type": "histogram2d"
           }
          ],
          "histogram2dcontour": [
           {
            "colorbar": {
             "outlinewidth": 0,
             "ticks": ""
            },
            "colorscale": [
             [
              0,
              "#0d0887"
             ],
             [
              0.1111111111111111,
              "#46039f"
             ],
             [
              0.2222222222222222,
              "#7201a8"
             ],
             [
              0.3333333333333333,
              "#9c179e"
             ],
             [
              0.4444444444444444,
              "#bd3786"
             ],
             [
              0.5555555555555556,
              "#d8576b"
             ],
             [
              0.6666666666666666,
              "#ed7953"
             ],
             [
              0.7777777777777778,
              "#fb9f3a"
             ],
             [
              0.8888888888888888,
              "#fdca26"
             ],
             [
              1,
              "#f0f921"
             ]
            ],
            "type": "histogram2dcontour"
           }
          ],
          "mesh3d": [
           {
            "colorbar": {
             "outlinewidth": 0,
             "ticks": ""
            },
            "type": "mesh3d"
           }
          ],
          "parcoords": [
           {
            "line": {
             "colorbar": {
              "outlinewidth": 0,
              "ticks": ""
             }
            },
            "type": "parcoords"
           }
          ],
          "pie": [
           {
            "automargin": true,
            "type": "pie"
           }
          ],
          "scatter": [
           {
            "fillpattern": {
             "fillmode": "overlay",
             "size": 10,
             "solidity": 0.2
            },
            "type": "scatter"
           }
          ],
          "scatter3d": [
           {
            "line": {
             "colorbar": {
              "outlinewidth": 0,
              "ticks": ""
             }
            },
            "marker": {
             "colorbar": {
              "outlinewidth": 0,
              "ticks": ""
             }
            },
            "type": "scatter3d"
           }
          ],
          "scattercarpet": [
           {
            "marker": {
             "colorbar": {
              "outlinewidth": 0,
              "ticks": ""
             }
            },
            "type": "scattercarpet"
           }
          ],
          "scattergeo": [
           {
            "marker": {
             "colorbar": {
              "outlinewidth": 0,
              "ticks": ""
             }
            },
            "type": "scattergeo"
           }
          ],
          "scattergl": [
           {
            "marker": {
             "colorbar": {
              "outlinewidth": 0,
              "ticks": ""
             }
            },
            "type": "scattergl"
           }
          ],
          "scattermapbox": [
           {
            "marker": {
             "colorbar": {
              "outlinewidth": 0,
              "ticks": ""
             }
            },
            "type": "scattermapbox"
           }
          ],
          "scatterpolar": [
           {
            "marker": {
             "colorbar": {
              "outlinewidth": 0,
              "ticks": ""
             }
            },
            "type": "scatterpolar"
           }
          ],
          "scatterpolargl": [
           {
            "marker": {
             "colorbar": {
              "outlinewidth": 0,
              "ticks": ""
             }
            },
            "type": "scatterpolargl"
           }
          ],
          "scatterternary": [
           {
            "marker": {
             "colorbar": {
              "outlinewidth": 0,
              "ticks": ""
             }
            },
            "type": "scatterternary"
           }
          ],
          "surface": [
           {
            "colorbar": {
             "outlinewidth": 0,
             "ticks": ""
            },
            "colorscale": [
             [
              0,
              "#0d0887"
             ],
             [
              0.1111111111111111,
              "#46039f"
             ],
             [
              0.2222222222222222,
              "#7201a8"
             ],
             [
              0.3333333333333333,
              "#9c179e"
             ],
             [
              0.4444444444444444,
              "#bd3786"
             ],
             [
              0.5555555555555556,
              "#d8576b"
             ],
             [
              0.6666666666666666,
              "#ed7953"
             ],
             [
              0.7777777777777778,
              "#fb9f3a"
             ],
             [
              0.8888888888888888,
              "#fdca26"
             ],
             [
              1,
              "#f0f921"
             ]
            ],
            "type": "surface"
           }
          ],
          "table": [
           {
            "cells": {
             "fill": {
              "color": "#EBF0F8"
             },
             "line": {
              "color": "white"
             }
            },
            "header": {
             "fill": {
              "color": "#C8D4E3"
             },
             "line": {
              "color": "white"
             }
            },
            "type": "table"
           }
          ]
         },
         "layout": {
          "annotationdefaults": {
           "arrowcolor": "#2a3f5f",
           "arrowhead": 0,
           "arrowwidth": 1
          },
          "autotypenumbers": "strict",
          "coloraxis": {
           "colorbar": {
            "outlinewidth": 0,
            "ticks": ""
           }
          },
          "colorscale": {
           "diverging": [
            [
             0,
             "#8e0152"
            ],
            [
             0.1,
             "#c51b7d"
            ],
            [
             0.2,
             "#de77ae"
            ],
            [
             0.3,
             "#f1b6da"
            ],
            [
             0.4,
             "#fde0ef"
            ],
            [
             0.5,
             "#f7f7f7"
            ],
            [
             0.6,
             "#e6f5d0"
            ],
            [
             0.7,
             "#b8e186"
            ],
            [
             0.8,
             "#7fbc41"
            ],
            [
             0.9,
             "#4d9221"
            ],
            [
             1,
             "#276419"
            ]
           ],
           "sequential": [
            [
             0,
             "#0d0887"
            ],
            [
             0.1111111111111111,
             "#46039f"
            ],
            [
             0.2222222222222222,
             "#7201a8"
            ],
            [
             0.3333333333333333,
             "#9c179e"
            ],
            [
             0.4444444444444444,
             "#bd3786"
            ],
            [
             0.5555555555555556,
             "#d8576b"
            ],
            [
             0.6666666666666666,
             "#ed7953"
            ],
            [
             0.7777777777777778,
             "#fb9f3a"
            ],
            [
             0.8888888888888888,
             "#fdca26"
            ],
            [
             1,
             "#f0f921"
            ]
           ],
           "sequentialminus": [
            [
             0,
             "#0d0887"
            ],
            [
             0.1111111111111111,
             "#46039f"
            ],
            [
             0.2222222222222222,
             "#7201a8"
            ],
            [
             0.3333333333333333,
             "#9c179e"
            ],
            [
             0.4444444444444444,
             "#bd3786"
            ],
            [
             0.5555555555555556,
             "#d8576b"
            ],
            [
             0.6666666666666666,
             "#ed7953"
            ],
            [
             0.7777777777777778,
             "#fb9f3a"
            ],
            [
             0.8888888888888888,
             "#fdca26"
            ],
            [
             1,
             "#f0f921"
            ]
           ]
          },
          "colorway": [
           "#636efa",
           "#EF553B",
           "#00cc96",
           "#ab63fa",
           "#FFA15A",
           "#19d3f3",
           "#FF6692",
           "#B6E880",
           "#FF97FF",
           "#FECB52"
          ],
          "font": {
           "color": "#2a3f5f"
          },
          "geo": {
           "bgcolor": "white",
           "lakecolor": "white",
           "landcolor": "#E5ECF6",
           "showlakes": true,
           "showland": true,
           "subunitcolor": "white"
          },
          "hoverlabel": {
           "align": "left"
          },
          "hovermode": "closest",
          "mapbox": {
           "style": "light"
          },
          "paper_bgcolor": "white",
          "plot_bgcolor": "#E5ECF6",
          "polar": {
           "angularaxis": {
            "gridcolor": "white",
            "linecolor": "white",
            "ticks": ""
           },
           "bgcolor": "#E5ECF6",
           "radialaxis": {
            "gridcolor": "white",
            "linecolor": "white",
            "ticks": ""
           }
          },
          "scene": {
           "xaxis": {
            "backgroundcolor": "#E5ECF6",
            "gridcolor": "white",
            "gridwidth": 2,
            "linecolor": "white",
            "showbackground": true,
            "ticks": "",
            "zerolinecolor": "white"
           },
           "yaxis": {
            "backgroundcolor": "#E5ECF6",
            "gridcolor": "white",
            "gridwidth": 2,
            "linecolor": "white",
            "showbackground": true,
            "ticks": "",
            "zerolinecolor": "white"
           },
           "zaxis": {
            "backgroundcolor": "#E5ECF6",
            "gridcolor": "white",
            "gridwidth": 2,
            "linecolor": "white",
            "showbackground": true,
            "ticks": "",
            "zerolinecolor": "white"
           }
          },
          "shapedefaults": {
           "line": {
            "color": "#2a3f5f"
           }
          },
          "ternary": {
           "aaxis": {
            "gridcolor": "white",
            "linecolor": "white",
            "ticks": ""
           },
           "baxis": {
            "gridcolor": "white",
            "linecolor": "white",
            "ticks": ""
           },
           "bgcolor": "#E5ECF6",
           "caxis": {
            "gridcolor": "white",
            "linecolor": "white",
            "ticks": ""
           }
          },
          "title": {
           "x": 0.05
          },
          "xaxis": {
           "automargin": true,
           "gridcolor": "white",
           "linecolor": "white",
           "ticks": "",
           "title": {
            "standoff": 15
           },
           "zerolinecolor": "white",
           "zerolinewidth": 2
          },
          "yaxis": {
           "automargin": true,
           "gridcolor": "white",
           "linecolor": "white",
           "ticks": "",
           "title": {
            "standoff": 15
           },
           "zerolinecolor": "white",
           "zerolinewidth": 2
          }
         }
        },
        "title": {
         "text": "Relative Rating Differences",
         "x": 0.62
        },
        "width": 1000,
        "xaxis": {
         "tickformat": ".2f",
         "title": {
          "text": ""
         },
         "zeroline": false
        },
        "yaxis": {
         "categoryarray": [
          "CivilNGO",
          "EnergySector",
          "LabourUnion",
          "LocalGov",
          "Media",
          "Researchers",
          "CentralGov"
         ],
         "categoryorder": "array",
         "title": {
          "text": "Attribute Levels"
         }
        }
       }
      }
     },
     "metadata": {},
     "output_type": "display_data"
    }
   ],
   "source": [
    "import plotly.graph_objects as go\n",
    "\n",
    "# Assuming 'model' is the variable that holds your regression results\n",
    "# Extract the coefficients and standard errors for each attribute level\n",
    "att_1_levels = ['PhaseOut', 'Stop&Reduce', 'Stop&Maintain', 'StatusQuo']\n",
    "att_2_levels = ['HighInvestment&Int', 'HighInvestment&Int&Consideration', 'LowInvestment&LowConsideration', 'LowInvestment']\n",
    "att_3_levels = ['HealthEdu', 'EnergyAccess', 'LowPrices', 'Transfers', 'NothingSoc']\n",
    "att_4_levels = ['CreateJobs', 'EarlyPension', 'JobGuarantee', 'Retrain', 'NothingEco']\n",
    "att_5_levels = ['CivilNGO', 'EnergySector', 'LabourUnion', 'LocalGov', 'Media', 'Researchers', 'CentralGov']\n",
    "\n",
    "\n",
    "\n",
    "#Remember to add att_6\n",
    "att_levels = [att_5_levels, att_4_levels, att_3_levels, att_2_levels, att_1_levels]\n",
    "\n",
    "att_colors_control = ['red', 'blue', 'green', 'orange', 'purple']  # Colors for each attribute group\n",
    "\n",
    "fig = go.Figure()\n",
    "\n",
    "total_levels = sum(len(levels) for levels in att_levels)\n",
    "\n",
    "# Loop through each attribute group and add the data to the plot\n",
    "fig = go.Figure()\n",
    "\n",
    "# Loop through each attribute group and add the data for 'control' to the plot\n",
    "for i, levels in enumerate(att_levels):\n",
    "    att_coefficients = [model_control.params[f'att_{5-i}_{level}'] for level in levels]\n",
    "    att_standard_errors = [model_control.bse[f'att_{5-i}_{level}'] for level in levels]\n",
    "\n",
    "    relative_differences = [coeff - att_coefficients[-1] for coeff in att_coefficients]\n",
    "\n",
    "    fig.add_trace(go.Scatter(\n",
    "        x=relative_differences,\n",
    "        y=levels,\n",
    "        mode='markers',\n",
    "        error_x=dict(type='data', array=att_standard_errors, color=att_colors[i], thickness=1.5),\n",
    "        marker=dict(color='darkgray', size=10),\n",
    "        orientation='h',\n",
    "        showlegend=False,\n",
    "        name='Control',  # Add a legend name for the control group\n",
    "    ))\n",
    "\n",
    "# Loop through each attribute group and add the data for 'treated' to the plot\n",
    "for i, levels in enumerate(att_levels):\n",
    "    att_coefficients = [model_treated.params[f'att_{5-i}_{level}'] for level in levels]\n",
    "    att_standard_errors = [model_treated.bse[f'att_{5-i}_{level}'] for level in levels]\n",
    "\n",
    "    relative_differences = [coeff - att_coefficients[-1] for coeff in att_coefficients]\n",
    "\n",
    "    fig.add_trace(go.Scatter(\n",
    "        x=relative_differences,\n",
    "        y=levels,\n",
    "        mode='markers',\n",
    "        error_x=dict(type='data', array=att_standard_errors, color=att_colors[i], thickness=1.5),\n",
    "        marker=dict(color=att_colors[i], size=10),  # Use different colors for treated group\n",
    "        orientation='h',\n",
    "        showlegend=False,\n",
    "        name='Treated',  # Add a legend name for the treated group\n",
    "    ))\n",
    "\n",
    "    fig.add_shape(\n",
    "        type=\"rect\",\n",
    "        x0=-1.5,  # Set a fixed value for x0, which is left side of the plot\n",
    "        x1=1.5,  # Set the width of the shape to 1000 (right side of the plot)\n",
    "        y0=total_levels - sum(len(l) for l in att_levels[i:]),  # Set y0 to the starting level index\n",
    "        y1=total_levels - sum(len(l) for l in att_levels[i:]) + len(levels) - 1,  # Set y1 to the ending level index\n",
    "        fillcolor=att_colors[i],\n",
    "        opacity=0.1,  # Set the opacity for a light transparent effect\n",
    "        layer=\"below\",  # Place the rectangle below the scatter plot markers\n",
    "    )\n",
    "\n",
    "# Add a vertical line at x=0 for reference\n",
    "fig.add_shape(type=\"line\", x0=0, x1=0, y0=att_5_levels[0], y1=att_1_levels[-1], line=dict(color=\"gray\", width=1, dash='dash'))\n",
    "\n",
    "# Update the layout of the error bar plot\n",
    "fig.update_layout(\n",
    "    title='Relative Rating Differences',\n",
    "    xaxis_title='',\n",
    "    yaxis_title='Attribute Levels',\n",
    "    yaxis=dict(categoryorder='array', categoryarray=att_5_levels),  # Set the categoryorder for y-axis based on att_1_levels\n",
    "    xaxis=dict(tickformat='.2f', zeroline=False),  # Remove x-axis zeroline\n",
    "    showlegend=True,  # Show legend with attribute names\n",
    "    margin=dict(l=80, r=30, b=40, t=80),\n",
    "    height=600,  # Set the height of the plot to 600 pixels\n",
    "    width=1000,\n",
    "    title_x=0.62,\n",
    ")\n",
    "\n",
    "# Show the interactive error bar plot\n",
    "fig.show()\n"
   ]
  },
  {
   "attachments": {},
   "cell_type": "markdown",
   "metadata": {},
   "source": [
    "1.2 Marginal Means"
   ]
  },
  {
   "cell_type": "code",
   "execution_count": 11,
   "metadata": {},
   "outputs": [
    {
     "data": {
      "application/vnd.plotly.v1+json": {
       "config": {
        "plotlyServerURL": "https://plot.ly"
       },
       "data": [
        {
         "error_x": {
          "array": [
           0.22548044337268477,
           0.2627970111249138,
           0.2302045947789449,
           0.08079824792631544,
           0.15911769526605177,
           0.09900628968648356,
           0.2341734145079855
          ],
          "color": "red",
          "thickness": 1.5,
          "type": "data"
         },
         "marker": {
          "color": "darkgray",
          "size": 10
         },
         "mode": "markers",
         "orientation": "h",
         "showlegend": false,
         "type": "scatter",
         "x": [
          0.08741827105080918,
          0.06698041729910881,
          0.30400797294376997,
          -0.21736016569473565,
          -0.15734136400815757,
          -0.39774981211426225,
          0.19014368243775642
         ],
         "y": [
          "CivilNGO",
          "EnergySector",
          "LabourUnion",
          "LocalGov",
          "Media",
          "Researchers",
          "CentralGov"
         ]
        },
        {
         "error_x": {
          "array": [
           0.13053262401951515,
           0.12414960585356011,
           0.1038415668758847,
           0.11273165914473265,
           0.15333928991892115
          ],
          "color": "blue",
          "thickness": 1.5,
          "type": "data"
         },
         "marker": {
          "color": "darkgray",
          "size": 10
         },
         "mode": "markers",
         "orientation": "h",
         "showlegend": false,
         "type": "scatter",
         "x": [
          0.018136509758749038,
          0.17303157593093327,
          0.034314182831561096,
          -0.3296597622720289,
          -0.019723504334925035
         ],
         "y": [
          "CreateJobs",
          "EarlyPension",
          "JobGuarantee",
          "Retrain",
          "NothingEco"
         ]
        },
        {
         "error_x": {
          "array": [
           0.1664349539152884,
           0.1329897006325945,
           0.135736682554466,
           0.13741591240083761,
           0.12462894284953215
          ],
          "color": "green",
          "thickness": 1.5,
          "type": "data"
         },
         "marker": {
          "color": "darkgray",
          "size": 10
         },
         "mode": "markers",
         "orientation": "h",
         "showlegend": false,
         "type": "scatter",
         "x": [
          -0.1532209332880543,
          -0.20906259907280522,
          -0.06331586724530591,
          0.28813339393740867,
          0.013565007583046323
         ],
         "y": [
          "HealthEdu",
          "EnergyAccess",
          "LowPrices",
          "Transfers",
          "NothingSoc"
         ]
        },
        {
         "error_x": {
          "array": [
           0.12775286940065247,
           0.12111697045020685,
           0.06497819568688383,
           0.1314675130061279
          ],
          "color": "orange",
          "thickness": 1.5,
          "type": "data"
         },
         "marker": {
          "color": "darkgray",
          "size": 10
         },
         "mode": "markers",
         "orientation": "h",
         "showlegend": false,
         "type": "scatter",
         "x": [
          -0.17373672110530344,
          -0.019034812830772255,
          0.06268417306204478,
          0.006186362788320243
         ],
         "y": [
          "HighInvestment&Int",
          "HighInvestment&Int&Consideration",
          "LowInvestment&LowConsideration",
          "LowInvestment"
         ]
        },
        {
         "error_x": {
          "array": [
           0.10586990465097623,
           0.13980472903196053,
           0.13035612534707658,
           0.08415817507564742
          ],
          "color": "purple",
          "thickness": 1.5,
          "type": "data"
         },
         "marker": {
          "color": "darkgray",
          "size": 10
         },
         "mode": "markers",
         "orientation": "h",
         "showlegend": false,
         "type": "scatter",
         "x": [
          0.20355561905043865,
          0.17117444472215665,
          -0.28720880323187115,
          -0.2114222586264347
         ],
         "y": [
          "PhaseOut",
          "Stop&Reduce",
          "Stop&Maintain",
          "StatusQuo"
         ]
        }
       ],
       "layout": {
        "height": 600,
        "margin": {
         "b": 40,
         "l": 80,
         "r": 30,
         "t": 80
        },
        "shapes": [
         {
          "fillcolor": "red",
          "layer": "below",
          "opacity": 0.1,
          "type": "rect",
          "x0": -1.5,
          "x1": 1.5,
          "y0": 0,
          "y1": 6
         },
         {
          "fillcolor": "blue",
          "layer": "below",
          "opacity": 0.1,
          "type": "rect",
          "x0": -1.5,
          "x1": 1.5,
          "y0": 7,
          "y1": 11
         },
         {
          "fillcolor": "green",
          "layer": "below",
          "opacity": 0.1,
          "type": "rect",
          "x0": -1.5,
          "x1": 1.5,
          "y0": 12,
          "y1": 16
         },
         {
          "fillcolor": "orange",
          "layer": "below",
          "opacity": 0.1,
          "type": "rect",
          "x0": -1.5,
          "x1": 1.5,
          "y0": 17,
          "y1": 20
         },
         {
          "fillcolor": "purple",
          "layer": "below",
          "opacity": 0.1,
          "type": "rect",
          "x0": -1.5,
          "x1": 1.5,
          "y0": 21,
          "y1": 24
         },
         {
          "line": {
           "color": "gray",
           "dash": "dash",
           "width": 1
          },
          "type": "line",
          "x0": 0,
          "x1": 0,
          "y0": "CivilNGO",
          "y1": "StatusQuo"
         }
        ],
        "showlegend": true,
        "template": {
         "data": {
          "bar": [
           {
            "error_x": {
             "color": "#2a3f5f"
            },
            "error_y": {
             "color": "#2a3f5f"
            },
            "marker": {
             "line": {
              "color": "#E5ECF6",
              "width": 0.5
             },
             "pattern": {
              "fillmode": "overlay",
              "size": 10,
              "solidity": 0.2
             }
            },
            "type": "bar"
           }
          ],
          "barpolar": [
           {
            "marker": {
             "line": {
              "color": "#E5ECF6",
              "width": 0.5
             },
             "pattern": {
              "fillmode": "overlay",
              "size": 10,
              "solidity": 0.2
             }
            },
            "type": "barpolar"
           }
          ],
          "carpet": [
           {
            "aaxis": {
             "endlinecolor": "#2a3f5f",
             "gridcolor": "white",
             "linecolor": "white",
             "minorgridcolor": "white",
             "startlinecolor": "#2a3f5f"
            },
            "baxis": {
             "endlinecolor": "#2a3f5f",
             "gridcolor": "white",
             "linecolor": "white",
             "minorgridcolor": "white",
             "startlinecolor": "#2a3f5f"
            },
            "type": "carpet"
           }
          ],
          "choropleth": [
           {
            "colorbar": {
             "outlinewidth": 0,
             "ticks": ""
            },
            "type": "choropleth"
           }
          ],
          "contour": [
           {
            "colorbar": {
             "outlinewidth": 0,
             "ticks": ""
            },
            "colorscale": [
             [
              0,
              "#0d0887"
             ],
             [
              0.1111111111111111,
              "#46039f"
             ],
             [
              0.2222222222222222,
              "#7201a8"
             ],
             [
              0.3333333333333333,
              "#9c179e"
             ],
             [
              0.4444444444444444,
              "#bd3786"
             ],
             [
              0.5555555555555556,
              "#d8576b"
             ],
             [
              0.6666666666666666,
              "#ed7953"
             ],
             [
              0.7777777777777778,
              "#fb9f3a"
             ],
             [
              0.8888888888888888,
              "#fdca26"
             ],
             [
              1,
              "#f0f921"
             ]
            ],
            "type": "contour"
           }
          ],
          "contourcarpet": [
           {
            "colorbar": {
             "outlinewidth": 0,
             "ticks": ""
            },
            "type": "contourcarpet"
           }
          ],
          "heatmap": [
           {
            "colorbar": {
             "outlinewidth": 0,
             "ticks": ""
            },
            "colorscale": [
             [
              0,
              "#0d0887"
             ],
             [
              0.1111111111111111,
              "#46039f"
             ],
             [
              0.2222222222222222,
              "#7201a8"
             ],
             [
              0.3333333333333333,
              "#9c179e"
             ],
             [
              0.4444444444444444,
              "#bd3786"
             ],
             [
              0.5555555555555556,
              "#d8576b"
             ],
             [
              0.6666666666666666,
              "#ed7953"
             ],
             [
              0.7777777777777778,
              "#fb9f3a"
             ],
             [
              0.8888888888888888,
              "#fdca26"
             ],
             [
              1,
              "#f0f921"
             ]
            ],
            "type": "heatmap"
           }
          ],
          "heatmapgl": [
           {
            "colorbar": {
             "outlinewidth": 0,
             "ticks": ""
            },
            "colorscale": [
             [
              0,
              "#0d0887"
             ],
             [
              0.1111111111111111,
              "#46039f"
             ],
             [
              0.2222222222222222,
              "#7201a8"
             ],
             [
              0.3333333333333333,
              "#9c179e"
             ],
             [
              0.4444444444444444,
              "#bd3786"
             ],
             [
              0.5555555555555556,
              "#d8576b"
             ],
             [
              0.6666666666666666,
              "#ed7953"
             ],
             [
              0.7777777777777778,
              "#fb9f3a"
             ],
             [
              0.8888888888888888,
              "#fdca26"
             ],
             [
              1,
              "#f0f921"
             ]
            ],
            "type": "heatmapgl"
           }
          ],
          "histogram": [
           {
            "marker": {
             "pattern": {
              "fillmode": "overlay",
              "size": 10,
              "solidity": 0.2
             }
            },
            "type": "histogram"
           }
          ],
          "histogram2d": [
           {
            "colorbar": {
             "outlinewidth": 0,
             "ticks": ""
            },
            "colorscale": [
             [
              0,
              "#0d0887"
             ],
             [
              0.1111111111111111,
              "#46039f"
             ],
             [
              0.2222222222222222,
              "#7201a8"
             ],
             [
              0.3333333333333333,
              "#9c179e"
             ],
             [
              0.4444444444444444,
              "#bd3786"
             ],
             [
              0.5555555555555556,
              "#d8576b"
             ],
             [
              0.6666666666666666,
              "#ed7953"
             ],
             [
              0.7777777777777778,
              "#fb9f3a"
             ],
             [
              0.8888888888888888,
              "#fdca26"
             ],
             [
              1,
              "#f0f921"
             ]
            ],
            "type": "histogram2d"
           }
          ],
          "histogram2dcontour": [
           {
            "colorbar": {
             "outlinewidth": 0,
             "ticks": ""
            },
            "colorscale": [
             [
              0,
              "#0d0887"
             ],
             [
              0.1111111111111111,
              "#46039f"
             ],
             [
              0.2222222222222222,
              "#7201a8"
             ],
             [
              0.3333333333333333,
              "#9c179e"
             ],
             [
              0.4444444444444444,
              "#bd3786"
             ],
             [
              0.5555555555555556,
              "#d8576b"
             ],
             [
              0.6666666666666666,
              "#ed7953"
             ],
             [
              0.7777777777777778,
              "#fb9f3a"
             ],
             [
              0.8888888888888888,
              "#fdca26"
             ],
             [
              1,
              "#f0f921"
             ]
            ],
            "type": "histogram2dcontour"
           }
          ],
          "mesh3d": [
           {
            "colorbar": {
             "outlinewidth": 0,
             "ticks": ""
            },
            "type": "mesh3d"
           }
          ],
          "parcoords": [
           {
            "line": {
             "colorbar": {
              "outlinewidth": 0,
              "ticks": ""
             }
            },
            "type": "parcoords"
           }
          ],
          "pie": [
           {
            "automargin": true,
            "type": "pie"
           }
          ],
          "scatter": [
           {
            "fillpattern": {
             "fillmode": "overlay",
             "size": 10,
             "solidity": 0.2
            },
            "type": "scatter"
           }
          ],
          "scatter3d": [
           {
            "line": {
             "colorbar": {
              "outlinewidth": 0,
              "ticks": ""
             }
            },
            "marker": {
             "colorbar": {
              "outlinewidth": 0,
              "ticks": ""
             }
            },
            "type": "scatter3d"
           }
          ],
          "scattercarpet": [
           {
            "marker": {
             "colorbar": {
              "outlinewidth": 0,
              "ticks": ""
             }
            },
            "type": "scattercarpet"
           }
          ],
          "scattergeo": [
           {
            "marker": {
             "colorbar": {
              "outlinewidth": 0,
              "ticks": ""
             }
            },
            "type": "scattergeo"
           }
          ],
          "scattergl": [
           {
            "marker": {
             "colorbar": {
              "outlinewidth": 0,
              "ticks": ""
             }
            },
            "type": "scattergl"
           }
          ],
          "scattermapbox": [
           {
            "marker": {
             "colorbar": {
              "outlinewidth": 0,
              "ticks": ""
             }
            },
            "type": "scattermapbox"
           }
          ],
          "scatterpolar": [
           {
            "marker": {
             "colorbar": {
              "outlinewidth": 0,
              "ticks": ""
             }
            },
            "type": "scatterpolar"
           }
          ],
          "scatterpolargl": [
           {
            "marker": {
             "colorbar": {
              "outlinewidth": 0,
              "ticks": ""
             }
            },
            "type": "scatterpolargl"
           }
          ],
          "scatterternary": [
           {
            "marker": {
             "colorbar": {
              "outlinewidth": 0,
              "ticks": ""
             }
            },
            "type": "scatterternary"
           }
          ],
          "surface": [
           {
            "colorbar": {
             "outlinewidth": 0,
             "ticks": ""
            },
            "colorscale": [
             [
              0,
              "#0d0887"
             ],
             [
              0.1111111111111111,
              "#46039f"
             ],
             [
              0.2222222222222222,
              "#7201a8"
             ],
             [
              0.3333333333333333,
              "#9c179e"
             ],
             [
              0.4444444444444444,
              "#bd3786"
             ],
             [
              0.5555555555555556,
              "#d8576b"
             ],
             [
              0.6666666666666666,
              "#ed7953"
             ],
             [
              0.7777777777777778,
              "#fb9f3a"
             ],
             [
              0.8888888888888888,
              "#fdca26"
             ],
             [
              1,
              "#f0f921"
             ]
            ],
            "type": "surface"
           }
          ],
          "table": [
           {
            "cells": {
             "fill": {
              "color": "#EBF0F8"
             },
             "line": {
              "color": "white"
             }
            },
            "header": {
             "fill": {
              "color": "#C8D4E3"
             },
             "line": {
              "color": "white"
             }
            },
            "type": "table"
           }
          ]
         },
         "layout": {
          "annotationdefaults": {
           "arrowcolor": "#2a3f5f",
           "arrowhead": 0,
           "arrowwidth": 1
          },
          "autotypenumbers": "strict",
          "coloraxis": {
           "colorbar": {
            "outlinewidth": 0,
            "ticks": ""
           }
          },
          "colorscale": {
           "diverging": [
            [
             0,
             "#8e0152"
            ],
            [
             0.1,
             "#c51b7d"
            ],
            [
             0.2,
             "#de77ae"
            ],
            [
             0.3,
             "#f1b6da"
            ],
            [
             0.4,
             "#fde0ef"
            ],
            [
             0.5,
             "#f7f7f7"
            ],
            [
             0.6,
             "#e6f5d0"
            ],
            [
             0.7,
             "#b8e186"
            ],
            [
             0.8,
             "#7fbc41"
            ],
            [
             0.9,
             "#4d9221"
            ],
            [
             1,
             "#276419"
            ]
           ],
           "sequential": [
            [
             0,
             "#0d0887"
            ],
            [
             0.1111111111111111,
             "#46039f"
            ],
            [
             0.2222222222222222,
             "#7201a8"
            ],
            [
             0.3333333333333333,
             "#9c179e"
            ],
            [
             0.4444444444444444,
             "#bd3786"
            ],
            [
             0.5555555555555556,
             "#d8576b"
            ],
            [
             0.6666666666666666,
             "#ed7953"
            ],
            [
             0.7777777777777778,
             "#fb9f3a"
            ],
            [
             0.8888888888888888,
             "#fdca26"
            ],
            [
             1,
             "#f0f921"
            ]
           ],
           "sequentialminus": [
            [
             0,
             "#0d0887"
            ],
            [
             0.1111111111111111,
             "#46039f"
            ],
            [
             0.2222222222222222,
             "#7201a8"
            ],
            [
             0.3333333333333333,
             "#9c179e"
            ],
            [
             0.4444444444444444,
             "#bd3786"
            ],
            [
             0.5555555555555556,
             "#d8576b"
            ],
            [
             0.6666666666666666,
             "#ed7953"
            ],
            [
             0.7777777777777778,
             "#fb9f3a"
            ],
            [
             0.8888888888888888,
             "#fdca26"
            ],
            [
             1,
             "#f0f921"
            ]
           ]
          },
          "colorway": [
           "#636efa",
           "#EF553B",
           "#00cc96",
           "#ab63fa",
           "#FFA15A",
           "#19d3f3",
           "#FF6692",
           "#B6E880",
           "#FF97FF",
           "#FECB52"
          ],
          "font": {
           "color": "#2a3f5f"
          },
          "geo": {
           "bgcolor": "white",
           "lakecolor": "white",
           "landcolor": "#E5ECF6",
           "showlakes": true,
           "showland": true,
           "subunitcolor": "white"
          },
          "hoverlabel": {
           "align": "left"
          },
          "hovermode": "closest",
          "mapbox": {
           "style": "light"
          },
          "paper_bgcolor": "white",
          "plot_bgcolor": "#E5ECF6",
          "polar": {
           "angularaxis": {
            "gridcolor": "white",
            "linecolor": "white",
            "ticks": ""
           },
           "bgcolor": "#E5ECF6",
           "radialaxis": {
            "gridcolor": "white",
            "linecolor": "white",
            "ticks": ""
           }
          },
          "scene": {
           "xaxis": {
            "backgroundcolor": "#E5ECF6",
            "gridcolor": "white",
            "gridwidth": 2,
            "linecolor": "white",
            "showbackground": true,
            "ticks": "",
            "zerolinecolor": "white"
           },
           "yaxis": {
            "backgroundcolor": "#E5ECF6",
            "gridcolor": "white",
            "gridwidth": 2,
            "linecolor": "white",
            "showbackground": true,
            "ticks": "",
            "zerolinecolor": "white"
           },
           "zaxis": {
            "backgroundcolor": "#E5ECF6",
            "gridcolor": "white",
            "gridwidth": 2,
            "linecolor": "white",
            "showbackground": true,
            "ticks": "",
            "zerolinecolor": "white"
           }
          },
          "shapedefaults": {
           "line": {
            "color": "#2a3f5f"
           }
          },
          "ternary": {
           "aaxis": {
            "gridcolor": "white",
            "linecolor": "white",
            "ticks": ""
           },
           "baxis": {
            "gridcolor": "white",
            "linecolor": "white",
            "ticks": ""
           },
           "bgcolor": "#E5ECF6",
           "caxis": {
            "gridcolor": "white",
            "linecolor": "white",
            "ticks": ""
           }
          },
          "title": {
           "x": 0.05
          },
          "xaxis": {
           "automargin": true,
           "gridcolor": "white",
           "linecolor": "white",
           "ticks": "",
           "title": {
            "standoff": 15
           },
           "zerolinecolor": "white",
           "zerolinewidth": 2
          },
          "yaxis": {
           "automargin": true,
           "gridcolor": "white",
           "linecolor": "white",
           "ticks": "",
           "title": {
            "standoff": 15
           },
           "zerolinecolor": "white",
           "zerolinewidth": 2
          }
         }
        },
        "title": {
         "text": "Relative Rating Differences",
         "x": 0.62
        },
        "width": 1000,
        "xaxis": {
         "tickformat": ".2f",
         "title": {
          "text": ""
         },
         "zeroline": false
        },
        "yaxis": {
         "categoryarray": [
          "CivilNGO",
          "EnergySector",
          "LabourUnion",
          "LocalGov",
          "Media",
          "Researchers",
          "CentralGov"
         ],
         "categoryorder": "array",
         "title": {
          "text": "Attribute Levels"
         }
        }
       }
      }
     },
     "metadata": {},
     "output_type": "display_data"
    }
   ],
   "source": [
    "import plotly.graph_objects as go\n",
    "\n",
    "# Assuming 'model' is the variable that holds your regression results\n",
    "# Extract the coefficients and standard errors for each attribute level\n",
    "att_1_levels = ['PhaseOut', 'Stop&Reduce', 'Stop&Maintain', 'StatusQuo']\n",
    "att_2_levels = ['HighInvestment&Int', 'HighInvestment&Int&Consideration', 'LowInvestment&LowConsideration', 'LowInvestment']\n",
    "att_3_levels = ['HealthEdu', 'EnergyAccess', 'LowPrices', 'Transfers', 'NothingSoc']\n",
    "att_4_levels = ['CreateJobs', 'EarlyPension', 'JobGuarantee', 'Retrain', 'NothingEco']\n",
    "att_5_levels = ['CivilNGO', 'EnergySector', 'LabourUnion', 'LocalGov', 'Media', 'Researchers', 'CentralGov']\n",
    "\n",
    "\n",
    "\n",
    "#Remember to add att_6\n",
    "att_levels = [att_5_levels, att_4_levels, att_3_levels, att_2_levels, att_1_levels]\n",
    "\n",
    "att_colors = ['red', 'blue', 'green', 'orange', 'purple']  # Colors for each attribute group\n",
    "\n",
    "fig = go.Figure()\n",
    "\n",
    "total_levels = sum(len(levels) for levels in att_levels)\n",
    "\n",
    "# Loop through each attribute group and add the data to the plot\n",
    "for i, levels in enumerate(att_levels):\n",
    "    att_coefficients = [model.params[f'att_{5-i}_{level}'] for level in levels]\n",
    "    att_standard_errors = [model.bse[f'att_{5-i}_{level}'] for level in levels]\n",
    "\n",
    "    fig.add_trace(go.Scatter(\n",
    "        x=att_coefficients,\n",
    "        y=levels,\n",
    "        mode='markers',\n",
    "        error_x=dict(type='data', array=att_standard_errors, color=att_colors[i], thickness=1.5),\n",
    "        marker=dict(color='darkgray', size=10),\n",
    "        orientation='h',\n",
    "        showlegend = False,\n",
    "    ))\n",
    "\n",
    "    fig.add_shape(\n",
    "        type=\"rect\",\n",
    "        x0=-1.5,  # Set a fixed value for x0, which is left side of the plot\n",
    "        x1=1.5,  # Set the width of the shape to 1000 (right side of the plot)\n",
    "        y0=total_levels - sum(len(l) for l in att_levels[i:]),  # Set y0 to the starting level index\n",
    "        y1=total_levels - sum(len(l) for l in att_levels[i:]) + len(levels) - 1,  # Set y1 to the ending level index\n",
    "        fillcolor=att_colors[i],\n",
    "        opacity=0.1,  # Set the opacity for a light transparent effect\n",
    "        layer=\"below\",  # Place the rectangle below the scatter plot markers\n",
    "    )\n",
    "\n",
    "# Add a vertical line at x=0 for reference\n",
    "fig.add_shape(type=\"line\", x0=0, x1=0, y0=att_5_levels[0], y1=att_1_levels[-1], line=dict(color=\"gray\", width=1, dash='dash'))\n",
    "\n",
    "# Update the layout of the error bar plot\n",
    "fig.update_layout(\n",
    "    title='Marginal Means',\n",
    "    xaxis_title='',\n",
    "    yaxis_title='Attribute Levels',\n",
    "    yaxis=dict(categoryorder='array', categoryarray=att_5_levels),  # Set the categoryorder for y-axis based on att_1_levels\n",
    "    xaxis=dict(tickformat='.2f', zeroline=False),  # Remove x-axis zeroline\n",
    "    showlegend=True,  # Show legend with attribute names\n",
    "    margin=dict(l=80, r=30, b=40, t=80),\n",
    "    height=600,  # Set the height of the plot to 600 pixels\n",
    "    width=1000,\n",
    "    title_x=0.62,\n",
    ")\n",
    "\n",
    "# Show the interactive error bar plot\n",
    "fig.show()\n"
   ]
  },
  {
   "attachments": {},
   "cell_type": "markdown",
   "metadata": {},
   "source": [
    "Grouped"
   ]
  },
  {
   "cell_type": "code",
   "execution_count": 12,
   "metadata": {},
   "outputs": [
    {
     "data": {
      "application/vnd.plotly.v1+json": {
       "config": {
        "plotlyServerURL": "https://plot.ly"
       },
       "data": [
        {
         "error_x": {
          "array": [
           0.6584291808521778,
           0.6846703615566971,
           0.47699232500122735,
           0.22044602657858903,
           0.2951308862863799,
           0.29872896037143926,
           0.36959495021430006
          ],
          "color": "red",
          "thickness": 1.5,
          "type": "data"
         },
         "marker": {
          "color": "darkgray",
          "size": 10
         },
         "mode": "markers",
         "name": "Control",
         "orientation": "h",
         "showlegend": false,
         "type": "scatter",
         "x": [
          0.15820283364178162,
          0.07761398869770521,
          0.21359474558015365,
          -0.16831714118688515,
          -0.35003290588010283,
          -0.36073952258648123,
          0.2764312084500931
         ],
         "y": [
          "CivilNGO",
          "EnergySector",
          "LabourUnion",
          "LocalGov",
          "Media",
          "Researchers",
          "CentralGov"
         ]
        },
        {
         "error_x": {
          "array": [
           0.3315759676037956,
           0.21907457512265407,
           0.44706156539336306,
           0.18596571233320222,
           0.3941370821328204
          ],
          "color": "blue",
          "thickness": 1.5,
          "type": "data"
         },
         "marker": {
          "color": "darkgray",
          "size": 10
         },
         "mode": "markers",
         "name": "Control",
         "orientation": "h",
         "showlegend": false,
         "type": "scatter",
         "x": [
          0.00016474424912392427,
          0.2609427944810764,
          0.09438014347729824,
          -0.4658316446929349,
          -0.04290283079829843
         ],
         "y": [
          "CreateJobs",
          "EarlyPension",
          "JobGuarantee",
          "Retrain",
          "NothingEco"
         ]
        },
        {
         "error_x": {
          "array": [
           0.21684965672311943,
           0.16279001910890245,
           0.2201398075222534,
           0.22462396392104006,
           0.45072000881391877
          ],
          "color": "green",
          "thickness": 1.5,
          "type": "data"
         },
         "marker": {
          "color": "darkgray",
          "size": 10
         },
         "mode": "markers",
         "name": "Control",
         "orientation": "h",
         "showlegend": false,
         "type": "scatter",
         "x": [
          -0.19223944030533158,
          -0.1364257740080607,
          0.2623913078245007,
          -0.12858463713786766,
          0.04161175034302342
         ],
         "y": [
          "HealthEdu",
          "EnergyAccess",
          "LowPrices",
          "Transfers",
          "NothingSoc"
         ]
        },
        {
         "error_x": {
          "array": [
           0.31845656936307004,
           0.21271502363101205,
           0.11518660184936504,
           0.3060574505350153
          ],
          "color": "orange",
          "thickness": 1.5,
          "type": "data"
         },
         "marker": {
          "color": "darkgray",
          "size": 10
         },
         "mode": "markers",
         "name": "Control",
         "orientation": "h",
         "showlegend": false,
         "type": "scatter",
         "x": [
          -0.19784426263894614,
          -0.26286095279728455,
          0.041470172430990375,
          0.2659882497215046
         ],
         "y": [
          "HighInvestment&Int",
          "HighInvestment&Int&Consideration",
          "LowInvestment&LowConsideration",
          "LowInvestment"
         ]
        },
        {
         "error_x": {
          "array": [
           0.15020210551842192,
           0.36114443132473184,
           0.29080168524478744,
           0.14264975968234808
          ],
          "color": "purple",
          "thickness": 1.5,
          "type": "data"
         },
         "marker": {
          "color": "darkgray",
          "size": 10
         },
         "mode": "markers",
         "name": "Control",
         "orientation": "h",
         "showlegend": false,
         "type": "scatter",
         "x": [
          0.3254728560780739,
          -0.08473794573822463,
          -0.30696076458294275,
          -0.08702093904064243
         ],
         "y": [
          "PhaseOut",
          "Stop&Reduce",
          "Stop&Maintain",
          "StatusQuo"
         ]
        },
        {
         "error_x": {
          "array": [
           0.233454028605335,
           0.23499906343776267,
           0.4564783201528125,
           0.10655372087579801,
           0.20246541445197633,
           0.21662827972327722,
           0.32396964534225614
          ],
          "color": "red",
          "thickness": 1.5,
          "type": "data"
         },
         "marker": {
          "color": "red",
          "size": 10
         },
         "mode": "markers",
         "name": "Treated",
         "orientation": "h",
         "showlegend": false,
         "type": "scatter",
         "x": [
          0.026011858696742884,
          0.31842623047685353,
          0.41134428959100755,
          -0.27558922060293745,
          -0.07777619518703771,
          -0.427688795704513,
          -0.04458642949514399
         ],
         "y": [
          "CivilNGO",
          "EnergySector",
          "LabourUnion",
          "LocalGov",
          "Media",
          "Researchers",
          "CentralGov"
         ]
        },
        {
         "error_x": {
          "array": [
           0.3088003507122563,
           0.21985964399470925,
           0.08726781708967166,
           0.20147519331582428,
           0.23940734714287704
          ],
          "color": "blue",
          "thickness": 1.5,
          "type": "data"
         },
         "marker": {
          "color": "blue",
          "size": 10
         },
         "mode": "markers",
         "name": "Treated",
         "orientation": "h",
         "showlegend": false,
         "type": "scatter",
         "x": [
          -0.07777008584045113,
          0.2572675070978824,
          0.12194010819647083,
          -0.35766944671225176,
          -0.013626344966678902
         ],
         "y": [
          "CreateJobs",
          "EarlyPension",
          "JobGuarantee",
          "Retrain",
          "NothingEco"
         ]
        },
        {
         "error_x": {
          "array": [
           0.2688227324904073,
           0.2837254577811472,
           0.16995666718419258,
           0.11370687150054865,
           0.2424097047381784
          ],
          "color": "green",
          "thickness": 1.5,
          "type": "data"
         },
         "marker": {
          "color": "green",
          "size": 10
         },
         "mode": "markers",
         "name": "Treated",
         "orientation": "h",
         "showlegend": false,
         "type": "scatter",
         "x": [
          0.05866798768073865,
          -0.37063412155209147,
          -0.33471309374618485,
          0.5197151746642731,
          0.057105790728235406
         ],
         "y": [
          "HealthEdu",
          "EnergyAccess",
          "LowPrices",
          "Transfers",
          "NothingSoc"
         ]
        },
        {
         "error_x": {
          "array": [
           0.17210368555366815,
           0.2074273377395959,
           0.16512143221773545,
           0.1510496855143783
          ],
          "color": "orange",
          "thickness": 1.5,
          "type": "data"
         },
         "marker": {
          "color": "orange",
          "size": 10
         },
         "mode": "markers",
         "name": "Treated",
         "orientation": "h",
         "showlegend": false,
         "type": "scatter",
         "x": [
          -0.1654811519879438,
          0.08494268457554303,
          0.1154600683569247,
          -0.1047798631695531
         ],
         "y": [
          "HighInvestment&Int",
          "HighInvestment&Int&Consideration",
          "LowInvestment&LowConsideration",
          "LowInvestment"
         ]
        },
        {
         "error_x": {
          "array": [
           0.15671785061765003,
           0.2229405502314405,
           0.24574063142346092,
           0.06153251146755219
          ],
          "color": "purple",
          "thickness": 1.5,
          "type": "data"
         },
         "marker": {
          "color": "purple",
          "size": 10
         },
         "mode": "markers",
         "name": "Treated",
         "orientation": "h",
         "showlegend": false,
         "type": "scatter",
         "x": [
          0.11204047129385761,
          0.33042753019822896,
          -0.10436244824147019,
          -0.40796381547564503
         ],
         "y": [
          "PhaseOut",
          "Stop&Reduce",
          "Stop&Maintain",
          "StatusQuo"
         ]
        }
       ],
       "layout": {
        "height": 600,
        "margin": {
         "b": 40,
         "l": 80,
         "r": 30,
         "t": 80
        },
        "shapes": [
         {
          "fillcolor": "red",
          "layer": "below",
          "opacity": 0.1,
          "type": "rect",
          "x0": -1.5,
          "x1": 1.5,
          "y0": 0,
          "y1": 6
         },
         {
          "fillcolor": "blue",
          "layer": "below",
          "opacity": 0.1,
          "type": "rect",
          "x0": -1.5,
          "x1": 1.5,
          "y0": 7,
          "y1": 11
         },
         {
          "fillcolor": "green",
          "layer": "below",
          "opacity": 0.1,
          "type": "rect",
          "x0": -1.5,
          "x1": 1.5,
          "y0": 12,
          "y1": 16
         },
         {
          "fillcolor": "orange",
          "layer": "below",
          "opacity": 0.1,
          "type": "rect",
          "x0": -1.5,
          "x1": 1.5,
          "y0": 17,
          "y1": 20
         },
         {
          "fillcolor": "purple",
          "layer": "below",
          "opacity": 0.1,
          "type": "rect",
          "x0": -1.5,
          "x1": 1.5,
          "y0": 21,
          "y1": 24
         },
         {
          "line": {
           "color": "gray",
           "dash": "dash",
           "width": 1
          },
          "type": "line",
          "x0": 0,
          "x1": 0,
          "y0": "CivilNGO",
          "y1": "StatusQuo"
         }
        ],
        "showlegend": true,
        "template": {
         "data": {
          "bar": [
           {
            "error_x": {
             "color": "#2a3f5f"
            },
            "error_y": {
             "color": "#2a3f5f"
            },
            "marker": {
             "line": {
              "color": "#E5ECF6",
              "width": 0.5
             },
             "pattern": {
              "fillmode": "overlay",
              "size": 10,
              "solidity": 0.2
             }
            },
            "type": "bar"
           }
          ],
          "barpolar": [
           {
            "marker": {
             "line": {
              "color": "#E5ECF6",
              "width": 0.5
             },
             "pattern": {
              "fillmode": "overlay",
              "size": 10,
              "solidity": 0.2
             }
            },
            "type": "barpolar"
           }
          ],
          "carpet": [
           {
            "aaxis": {
             "endlinecolor": "#2a3f5f",
             "gridcolor": "white",
             "linecolor": "white",
             "minorgridcolor": "white",
             "startlinecolor": "#2a3f5f"
            },
            "baxis": {
             "endlinecolor": "#2a3f5f",
             "gridcolor": "white",
             "linecolor": "white",
             "minorgridcolor": "white",
             "startlinecolor": "#2a3f5f"
            },
            "type": "carpet"
           }
          ],
          "choropleth": [
           {
            "colorbar": {
             "outlinewidth": 0,
             "ticks": ""
            },
            "type": "choropleth"
           }
          ],
          "contour": [
           {
            "colorbar": {
             "outlinewidth": 0,
             "ticks": ""
            },
            "colorscale": [
             [
              0,
              "#0d0887"
             ],
             [
              0.1111111111111111,
              "#46039f"
             ],
             [
              0.2222222222222222,
              "#7201a8"
             ],
             [
              0.3333333333333333,
              "#9c179e"
             ],
             [
              0.4444444444444444,
              "#bd3786"
             ],
             [
              0.5555555555555556,
              "#d8576b"
             ],
             [
              0.6666666666666666,
              "#ed7953"
             ],
             [
              0.7777777777777778,
              "#fb9f3a"
             ],
             [
              0.8888888888888888,
              "#fdca26"
             ],
             [
              1,
              "#f0f921"
             ]
            ],
            "type": "contour"
           }
          ],
          "contourcarpet": [
           {
            "colorbar": {
             "outlinewidth": 0,
             "ticks": ""
            },
            "type": "contourcarpet"
           }
          ],
          "heatmap": [
           {
            "colorbar": {
             "outlinewidth": 0,
             "ticks": ""
            },
            "colorscale": [
             [
              0,
              "#0d0887"
             ],
             [
              0.1111111111111111,
              "#46039f"
             ],
             [
              0.2222222222222222,
              "#7201a8"
             ],
             [
              0.3333333333333333,
              "#9c179e"
             ],
             [
              0.4444444444444444,
              "#bd3786"
             ],
             [
              0.5555555555555556,
              "#d8576b"
             ],
             [
              0.6666666666666666,
              "#ed7953"
             ],
             [
              0.7777777777777778,
              "#fb9f3a"
             ],
             [
              0.8888888888888888,
              "#fdca26"
             ],
             [
              1,
              "#f0f921"
             ]
            ],
            "type": "heatmap"
           }
          ],
          "heatmapgl": [
           {
            "colorbar": {
             "outlinewidth": 0,
             "ticks": ""
            },
            "colorscale": [
             [
              0,
              "#0d0887"
             ],
             [
              0.1111111111111111,
              "#46039f"
             ],
             [
              0.2222222222222222,
              "#7201a8"
             ],
             [
              0.3333333333333333,
              "#9c179e"
             ],
             [
              0.4444444444444444,
              "#bd3786"
             ],
             [
              0.5555555555555556,
              "#d8576b"
             ],
             [
              0.6666666666666666,
              "#ed7953"
             ],
             [
              0.7777777777777778,
              "#fb9f3a"
             ],
             [
              0.8888888888888888,
              "#fdca26"
             ],
             [
              1,
              "#f0f921"
             ]
            ],
            "type": "heatmapgl"
           }
          ],
          "histogram": [
           {
            "marker": {
             "pattern": {
              "fillmode": "overlay",
              "size": 10,
              "solidity": 0.2
             }
            },
            "type": "histogram"
           }
          ],
          "histogram2d": [
           {
            "colorbar": {
             "outlinewidth": 0,
             "ticks": ""
            },
            "colorscale": [
             [
              0,
              "#0d0887"
             ],
             [
              0.1111111111111111,
              "#46039f"
             ],
             [
              0.2222222222222222,
              "#7201a8"
             ],
             [
              0.3333333333333333,
              "#9c179e"
             ],
             [
              0.4444444444444444,
              "#bd3786"
             ],
             [
              0.5555555555555556,
              "#d8576b"
             ],
             [
              0.6666666666666666,
              "#ed7953"
             ],
             [
              0.7777777777777778,
              "#fb9f3a"
             ],
             [
              0.8888888888888888,
              "#fdca26"
             ],
             [
              1,
              "#f0f921"
             ]
            ],
            "type": "histogram2d"
           }
          ],
          "histogram2dcontour": [
           {
            "colorbar": {
             "outlinewidth": 0,
             "ticks": ""
            },
            "colorscale": [
             [
              0,
              "#0d0887"
             ],
             [
              0.1111111111111111,
              "#46039f"
             ],
             [
              0.2222222222222222,
              "#7201a8"
             ],
             [
              0.3333333333333333,
              "#9c179e"
             ],
             [
              0.4444444444444444,
              "#bd3786"
             ],
             [
              0.5555555555555556,
              "#d8576b"
             ],
             [
              0.6666666666666666,
              "#ed7953"
             ],
             [
              0.7777777777777778,
              "#fb9f3a"
             ],
             [
              0.8888888888888888,
              "#fdca26"
             ],
             [
              1,
              "#f0f921"
             ]
            ],
            "type": "histogram2dcontour"
           }
          ],
          "mesh3d": [
           {
            "colorbar": {
             "outlinewidth": 0,
             "ticks": ""
            },
            "type": "mesh3d"
           }
          ],
          "parcoords": [
           {
            "line": {
             "colorbar": {
              "outlinewidth": 0,
              "ticks": ""
             }
            },
            "type": "parcoords"
           }
          ],
          "pie": [
           {
            "automargin": true,
            "type": "pie"
           }
          ],
          "scatter": [
           {
            "fillpattern": {
             "fillmode": "overlay",
             "size": 10,
             "solidity": 0.2
            },
            "type": "scatter"
           }
          ],
          "scatter3d": [
           {
            "line": {
             "colorbar": {
              "outlinewidth": 0,
              "ticks": ""
             }
            },
            "marker": {
             "colorbar": {
              "outlinewidth": 0,
              "ticks": ""
             }
            },
            "type": "scatter3d"
           }
          ],
          "scattercarpet": [
           {
            "marker": {
             "colorbar": {
              "outlinewidth": 0,
              "ticks": ""
             }
            },
            "type": "scattercarpet"
           }
          ],
          "scattergeo": [
           {
            "marker": {
             "colorbar": {
              "outlinewidth": 0,
              "ticks": ""
             }
            },
            "type": "scattergeo"
           }
          ],
          "scattergl": [
           {
            "marker": {
             "colorbar": {
              "outlinewidth": 0,
              "ticks": ""
             }
            },
            "type": "scattergl"
           }
          ],
          "scattermapbox": [
           {
            "marker": {
             "colorbar": {
              "outlinewidth": 0,
              "ticks": ""
             }
            },
            "type": "scattermapbox"
           }
          ],
          "scatterpolar": [
           {
            "marker": {
             "colorbar": {
              "outlinewidth": 0,
              "ticks": ""
             }
            },
            "type": "scatterpolar"
           }
          ],
          "scatterpolargl": [
           {
            "marker": {
             "colorbar": {
              "outlinewidth": 0,
              "ticks": ""
             }
            },
            "type": "scatterpolargl"
           }
          ],
          "scatterternary": [
           {
            "marker": {
             "colorbar": {
              "outlinewidth": 0,
              "ticks": ""
             }
            },
            "type": "scatterternary"
           }
          ],
          "surface": [
           {
            "colorbar": {
             "outlinewidth": 0,
             "ticks": ""
            },
            "colorscale": [
             [
              0,
              "#0d0887"
             ],
             [
              0.1111111111111111,
              "#46039f"
             ],
             [
              0.2222222222222222,
              "#7201a8"
             ],
             [
              0.3333333333333333,
              "#9c179e"
             ],
             [
              0.4444444444444444,
              "#bd3786"
             ],
             [
              0.5555555555555556,
              "#d8576b"
             ],
             [
              0.6666666666666666,
              "#ed7953"
             ],
             [
              0.7777777777777778,
              "#fb9f3a"
             ],
             [
              0.8888888888888888,
              "#fdca26"
             ],
             [
              1,
              "#f0f921"
             ]
            ],
            "type": "surface"
           }
          ],
          "table": [
           {
            "cells": {
             "fill": {
              "color": "#EBF0F8"
             },
             "line": {
              "color": "white"
             }
            },
            "header": {
             "fill": {
              "color": "#C8D4E3"
             },
             "line": {
              "color": "white"
             }
            },
            "type": "table"
           }
          ]
         },
         "layout": {
          "annotationdefaults": {
           "arrowcolor": "#2a3f5f",
           "arrowhead": 0,
           "arrowwidth": 1
          },
          "autotypenumbers": "strict",
          "coloraxis": {
           "colorbar": {
            "outlinewidth": 0,
            "ticks": ""
           }
          },
          "colorscale": {
           "diverging": [
            [
             0,
             "#8e0152"
            ],
            [
             0.1,
             "#c51b7d"
            ],
            [
             0.2,
             "#de77ae"
            ],
            [
             0.3,
             "#f1b6da"
            ],
            [
             0.4,
             "#fde0ef"
            ],
            [
             0.5,
             "#f7f7f7"
            ],
            [
             0.6,
             "#e6f5d0"
            ],
            [
             0.7,
             "#b8e186"
            ],
            [
             0.8,
             "#7fbc41"
            ],
            [
             0.9,
             "#4d9221"
            ],
            [
             1,
             "#276419"
            ]
           ],
           "sequential": [
            [
             0,
             "#0d0887"
            ],
            [
             0.1111111111111111,
             "#46039f"
            ],
            [
             0.2222222222222222,
             "#7201a8"
            ],
            [
             0.3333333333333333,
             "#9c179e"
            ],
            [
             0.4444444444444444,
             "#bd3786"
            ],
            [
             0.5555555555555556,
             "#d8576b"
            ],
            [
             0.6666666666666666,
             "#ed7953"
            ],
            [
             0.7777777777777778,
             "#fb9f3a"
            ],
            [
             0.8888888888888888,
             "#fdca26"
            ],
            [
             1,
             "#f0f921"
            ]
           ],
           "sequentialminus": [
            [
             0,
             "#0d0887"
            ],
            [
             0.1111111111111111,
             "#46039f"
            ],
            [
             0.2222222222222222,
             "#7201a8"
            ],
            [
             0.3333333333333333,
             "#9c179e"
            ],
            [
             0.4444444444444444,
             "#bd3786"
            ],
            [
             0.5555555555555556,
             "#d8576b"
            ],
            [
             0.6666666666666666,
             "#ed7953"
            ],
            [
             0.7777777777777778,
             "#fb9f3a"
            ],
            [
             0.8888888888888888,
             "#fdca26"
            ],
            [
             1,
             "#f0f921"
            ]
           ]
          },
          "colorway": [
           "#636efa",
           "#EF553B",
           "#00cc96",
           "#ab63fa",
           "#FFA15A",
           "#19d3f3",
           "#FF6692",
           "#B6E880",
           "#FF97FF",
           "#FECB52"
          ],
          "font": {
           "color": "#2a3f5f"
          },
          "geo": {
           "bgcolor": "white",
           "lakecolor": "white",
           "landcolor": "#E5ECF6",
           "showlakes": true,
           "showland": true,
           "subunitcolor": "white"
          },
          "hoverlabel": {
           "align": "left"
          },
          "hovermode": "closest",
          "mapbox": {
           "style": "light"
          },
          "paper_bgcolor": "white",
          "plot_bgcolor": "#E5ECF6",
          "polar": {
           "angularaxis": {
            "gridcolor": "white",
            "linecolor": "white",
            "ticks": ""
           },
           "bgcolor": "#E5ECF6",
           "radialaxis": {
            "gridcolor": "white",
            "linecolor": "white",
            "ticks": ""
           }
          },
          "scene": {
           "xaxis": {
            "backgroundcolor": "#E5ECF6",
            "gridcolor": "white",
            "gridwidth": 2,
            "linecolor": "white",
            "showbackground": true,
            "ticks": "",
            "zerolinecolor": "white"
           },
           "yaxis": {
            "backgroundcolor": "#E5ECF6",
            "gridcolor": "white",
            "gridwidth": 2,
            "linecolor": "white",
            "showbackground": true,
            "ticks": "",
            "zerolinecolor": "white"
           },
           "zaxis": {
            "backgroundcolor": "#E5ECF6",
            "gridcolor": "white",
            "gridwidth": 2,
            "linecolor": "white",
            "showbackground": true,
            "ticks": "",
            "zerolinecolor": "white"
           }
          },
          "shapedefaults": {
           "line": {
            "color": "#2a3f5f"
           }
          },
          "ternary": {
           "aaxis": {
            "gridcolor": "white",
            "linecolor": "white",
            "ticks": ""
           },
           "baxis": {
            "gridcolor": "white",
            "linecolor": "white",
            "ticks": ""
           },
           "bgcolor": "#E5ECF6",
           "caxis": {
            "gridcolor": "white",
            "linecolor": "white",
            "ticks": ""
           }
          },
          "title": {
           "x": 0.05
          },
          "xaxis": {
           "automargin": true,
           "gridcolor": "white",
           "linecolor": "white",
           "ticks": "",
           "title": {
            "standoff": 15
           },
           "zerolinecolor": "white",
           "zerolinewidth": 2
          },
          "yaxis": {
           "automargin": true,
           "gridcolor": "white",
           "linecolor": "white",
           "ticks": "",
           "title": {
            "standoff": 15
           },
           "zerolinecolor": "white",
           "zerolinewidth": 2
          }
         }
        },
        "title": {
         "text": "Relative Rating Differences",
         "x": 0.62
        },
        "width": 1000,
        "xaxis": {
         "tickformat": ".2f",
         "title": {
          "text": ""
         },
         "zeroline": false
        },
        "yaxis": {
         "categoryarray": [
          "CivilNGO",
          "EnergySector",
          "LabourUnion",
          "LocalGov",
          "Media",
          "Researchers",
          "CentralGov"
         ],
         "categoryorder": "array",
         "title": {
          "text": "Attribute Levels"
         }
        }
       }
      }
     },
     "metadata": {},
     "output_type": "display_data"
    }
   ],
   "source": [
    "import plotly.graph_objects as go\n",
    "\n",
    "# Assuming 'model' is the variable that holds your regression results\n",
    "# Extract the coefficients and standard errors for each attribute level\n",
    "att_1_levels = ['PhaseOut', 'Stop&Reduce', 'Stop&Maintain', 'StatusQuo']\n",
    "att_2_levels = ['HighInvestment&Int', 'HighInvestment&Int&Consideration', 'LowInvestment&LowConsideration', 'LowInvestment']\n",
    "att_3_levels = ['HealthEdu', 'EnergyAccess', 'LowPrices', 'Transfers', 'NothingSoc']\n",
    "att_4_levels = ['CreateJobs', 'EarlyPension', 'JobGuarantee', 'Retrain', 'NothingEco']\n",
    "att_5_levels = ['CivilNGO', 'EnergySector', 'LabourUnion', 'LocalGov', 'Media', 'Researchers', 'CentralGov']\n",
    "\n",
    "\n",
    "\n",
    "#Remember to add att_6\n",
    "att_levels = [att_5_levels, att_4_levels, att_3_levels, att_2_levels, att_1_levels]\n",
    "\n",
    "att_colors_control = ['red', 'blue', 'green', 'orange', 'purple']  # Colors for each attribute group\n",
    "\n",
    "fig = go.Figure()\n",
    "\n",
    "total_levels = sum(len(levels) for levels in att_levels)\n",
    "\n",
    "# Loop through each attribute group and add the data to the plot\n",
    "fig = go.Figure()\n",
    "\n",
    "# Loop through each attribute group and add the data for 'control' to the plot\n",
    "for i, levels in enumerate(att_levels):\n",
    "    att_coefficients = [model_control.params[f'att_{5-i}_{level}'] for level in levels]\n",
    "    att_standard_errors = [model_control.bse[f'att_{5-i}_{level}'] for level in levels]\n",
    "\n",
    "\n",
    "    fig.add_trace(go.Scatter(\n",
    "        x=att_coefficients,\n",
    "        y=levels,\n",
    "        mode='markers',\n",
    "        error_x=dict(type='data', array=att_standard_errors, color=att_colors[i], thickness=1.5),\n",
    "        marker=dict(color='darkgray', size=10),\n",
    "        orientation='h',\n",
    "        showlegend=False,\n",
    "        name='Control',  # Add a legend name for the control group\n",
    "    ))\n",
    "\n",
    "# Loop through each attribute group and add the data for 'treated' to the plot\n",
    "for i, levels in enumerate(att_levels):\n",
    "    att_coefficients = [model_treated.params[f'att_{5-i}_{level}'] for level in levels]\n",
    "    att_standard_errors = [model_treated.bse[f'att_{5-i}_{level}'] for level in levels]\n",
    "\n",
    "    fig.add_trace(go.Scatter(\n",
    "        x=att_coefficients,\n",
    "        y=levels,\n",
    "        mode='markers',\n",
    "        error_x=dict(type='data', array=att_standard_errors, color=att_colors[i], thickness=1.5),\n",
    "        marker=dict(color=att_colors[i], size=10),  # Use different colors for treated group\n",
    "        orientation='h',\n",
    "        showlegend=False,\n",
    "        name='Treated',  # Add a legend name for the treated group\n",
    "    ))\n",
    "\n",
    "    fig.add_shape(\n",
    "        type=\"rect\",\n",
    "        x0=-1.5,  # Set a fixed value for x0, which is left side of the plot\n",
    "        x1=1.5,  # Set the width of the shape to 1000 (right side of the plot)\n",
    "        y0=total_levels - sum(len(l) for l in att_levels[i:]),  # Set y0 to the starting level index\n",
    "        y1=total_levels - sum(len(l) for l in att_levels[i:]) + len(levels) - 1,  # Set y1 to the ending level index\n",
    "        fillcolor=att_colors[i],\n",
    "        opacity=0.1,  # Set the opacity for a light transparent effect\n",
    "        layer=\"below\",  # Place the rectangle below the scatter plot markers\n",
    "    )\n",
    "\n",
    "# Add a vertical line at x=0 for reference\n",
    "fig.add_shape(type=\"line\", x0=0, x1=0, y0=att_5_levels[0], y1=att_1_levels[-1], line=dict(color=\"gray\", width=1, dash='dash'))\n",
    "\n",
    "# Update the layout of the error bar plot\n",
    "fig.update_layout(\n",
    "    title='Marginal Means Treatment/Control',\n",
    "    xaxis_title='',\n",
    "    yaxis_title='Attribute Levels',\n",
    "    yaxis=dict(categoryorder='array', categoryarray=att_5_levels),  # Set the categoryorder for y-axis based on att_1_levels\n",
    "    xaxis=dict(tickformat='.2f', zeroline=False),  # Remove x-axis zeroline\n",
    "    showlegend=True,  # Show legend with attribute names\n",
    "    margin=dict(l=80, r=30, b=40, t=80),\n",
    "    height=600,  # Set the height of the plot to 600 pixels\n",
    "    width=1000,\n",
    "    title_x=0.62,\n",
    ")\n",
    "\n",
    "# Show the interactive error bar plot\n",
    "fig.show()\n"
   ]
  },
  {
   "attachments": {},
   "cell_type": "markdown",
   "metadata": {},
   "source": [
    "##### 1.2 Rating attributes with a Normalization Method.\n",
    "\n",
    "*Normalizing the coefficients involves transforming them to a common scale, typically between 0 and 1. This makes it easier to compare the relative importance of different attributes.*\n",
    "\n",
    "\n",
    "To aggregate the importance scores for different levels of the same attribute and obtain an overall importance score for each attribute, you can calculate a weighted average or sum of the importance scores of its individual levels. Here's how you can do it:\n",
    "\n",
    "Calculate Normalized Importance Scores (NIS) for Attribute Levels:\n",
    "\n",
    "Follow the normalization method as described earlier to calculate the normalized importance scores (NIS) for each attribute level.\n",
    "Aggregate Importance Scores for Each Attribute:\n",
    "\n",
    "a. Weighted Average Method:\n",
    "\n",
    "Calculate the weighted average importance score for each attribute by taking the sum of the products of each level's NIS and its corresponding weight (frequency or probability of that level's occurrence in the choice sets).\n",
    "This method considers both the relative importance of each level and its likelihood of being chosen in the experiment.\n",
    "b. Simple Sum Method:\n",
    "\n",
    "Sum up the normalized importance scores (NIS) of all levels within an attribute.\n",
    "This method treats all levels equally in terms of their contribution to the overall importance score.\n",
    "Attribute Importance Ranking:\n",
    "\n",
    "Rank the attributes based on the aggregated importance scores. Higher scores indicate greater importance.\n",
    "Example using the Weighted Average Method:\n",
    "\n",
    "Let's consider an example with attribute \"att_1\" from your regression results. You have four levels: \"PhaseOut,\" \"StatusQuo,\" \"Stop&Maintain,\" and \"Stop&Reduce.\" You've already calculated the normalized importance scores (NIS) for each level as follows:\n",
    "\n",
    "NIS(PhaseOut) = 0.8810 / 0.8810 = 1.0000\n",
    "NIS(StatusQuo) = 0.2979 / 0.8810 = 0.3379\n",
    "NIS(Stop&Maintain) = 0.1471 / 0.8810 = 0.1668\n",
    "NIS(Stop&Reduce) = 0.9077 / 0.8810 = 1.0302\n",
    "Let's assume that the frequency (or probability) of each level's occurrence in the choice sets is as follows:\n",
    "\n",
    "PhaseOut: 30%\n",
    "StatusQuo: 20%\n",
    "Stop&Maintain: 25%\n",
    "Stop&Reduce: 25%\n",
    "Now, calculate the weighted average importance score for \"att_1\":\n",
    "Weighted Average Importance Score for att_1 = (NIS(PhaseOut) * 0.30) + (NIS(StatusQuo) * 0.20) + (NIS(Stop&Maintain) * 0.25) + (NIS(Stop&Reduce) * 0.25)\n",
    "Weighted Average Importance Score for att_1 = (1.0000 * 0.30) + (0.3379 * 0.20) + (0.1668 * 0.25) + (1.0302 * 0.25) ≈ 0.5623\n",
    "\n",
    "Repeat this process for each attribute to obtain aggregated importance scores, and then rank the attributes based on these scores.\n",
    "\n",
    "Remember that the choice of the weighting scheme (equal weights, frequency-based weights, or other relevant weights) depends on your specific context and research design."
   ]
  },
  {
   "attachments": {},
   "cell_type": "markdown",
   "metadata": {},
   "source": [
    "##### Plot freq"
   ]
  },
  {
   "cell_type": "code",
   "execution_count": 25,
   "metadata": {},
   "outputs": [],
   "source": [
    "freq = pd.read_csv(OUT / 'data' / 'data_freq.csv')"
   ]
  },
  {
   "attachments": {},
   "cell_type": "markdown",
   "metadata": {},
   "source": [
    "NIS"
   ]
  },
  {
   "cell_type": "code",
   "execution_count": null,
   "metadata": {},
   "outputs": [],
   "source": []
  },
  {
   "attachments": {},
   "cell_type": "markdown",
   "metadata": {},
   "source": [
    "##### 1.3 General support plot for phase out"
   ]
  },
  {
   "cell_type": "code",
   "execution_count": null,
   "metadata": {},
   "outputs": [],
   "source": []
  },
  {
   "attachments": {},
   "cell_type": "markdown",
   "metadata": {},
   "source": [
    "##### 1.4 Maybe: PCA Analysis:\n",
    "\n",
    "Data Preparation:\n",
    "\n",
    "Prepare your DCE data matrix, where each row represents a respondent's choice set, and columns represent different attribute levels.\n",
    "Standardization:\n",
    "\n",
    "Standardize the data by subtracting the mean and dividing by the standard deviation for each attribute. This ensures that all attributes are on similar scales and prevents attributes with larger variances from dominating the PCA.\n",
    "Perform PCA:\n",
    "\n",
    "Apply PCA to the standardized data matrix. The output of PCA will include the principal components and their associated eigenvalues.\n",
    "Interpretation:\n",
    "\n",
    "Examine the explained variance for each principal component. This helps you understand how much of the total variance in the data each component explains.\n",
    "Look at the loadings (weights) of the original attributes on each principal component. These loadings indicate the strength and direction of the relationship between the attribute and the principal component.\n",
    "Attribute Relationships:\n",
    "\n",
    "PCA can provide insights into how attributes are related to each other. For example, attributes that have high loadings on the same principal component are positively correlated, while those with opposite loadings are negatively correlated.\n",
    "Decision Support:\n",
    "\n",
    "While PCA itself may not directly provide attribute importance scores for policy package choices, the derived principal components can help you identify patterns or relationships that might influence choices. These insights can then be used in conjunction with other methods to understand attribute importance."
   ]
  }
 ],
 "metadata": {
  "kernelspec": {
   "display_name": "conjoint",
   "language": "python",
   "name": "python3"
  },
  "language_info": {
   "codemirror_mode": {
    "name": "ipython",
    "version": 3
   },
   "file_extension": ".py",
   "mimetype": "text/x-python",
   "name": "python",
   "nbconvert_exporter": "python",
   "pygments_lexer": "ipython3",
   "version": "3.11.4"
  },
  "orig_nbformat": 4
 },
 "nbformat": 4,
 "nbformat_minor": 2
}
