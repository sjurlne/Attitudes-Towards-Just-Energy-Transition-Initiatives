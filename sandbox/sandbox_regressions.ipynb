{
 "cells": [
  {
   "cell_type": "code",
   "execution_count": 1,
   "metadata": {},
   "outputs": [],
   "source": [
    "%load_ext autoreload\n",
    "%autoreload 2\n",
    "\n",
    "import pandas as pd\n",
    "import statsmodels.api as sm\n",
    "import os\n",
    "import sys\n",
    "\n",
    "sys.path.insert(0, os.path.abspath('../developer'))\n",
    "\n",
    "from config import MOCK_DATA, CODE, OUT\n",
    "from developer.utilities import read_yaml\n",
    "from developer.analysis.model import load_model\n",
    "import re"
   ]
  },
  {
   "cell_type": "code",
   "execution_count": 20,
   "metadata": {},
   "outputs": [],
   "source": [
    "df_total = pd.read_csv(OUT / \"data\" / \"data_regression.csv\")"
   ]
  },
  {
   "attachments": {},
   "cell_type": "markdown",
   "metadata": {},
   "source": [
    "##### regression"
   ]
  },
  {
   "cell_type": "code",
   "execution_count": 21,
   "metadata": {},
   "outputs": [],
   "source": [
    "# Select the design matrix (explanatory variables) and the outcome variables\n",
    "outcome = 'utility'\n",
    "explanatory_vars = [col for col in df_total.columns if \"att\" in col] + ['ID']\n",
    "\n",
    "\n",
    "X = df_total[explanatory_vars].astype(int)\n",
    "y = df_total[outcome].astype(int)"
   ]
  },
  {
   "cell_type": "code",
   "execution_count": 22,
   "metadata": {},
   "outputs": [],
   "source": [
    "X = sm.add_constant(X)\n",
    "#model = sm.OLS(y, X).fit()\n",
    "model = sm.OLS(y, X).fit(cov_type='cluster', cov_kwds={'groups':X['ID']})\n",
    "#model = sm.M(y, X).fit(cov_type='cluster', cov_kwds={'groups': 'ID'})\n",
    "#model = sm.MNLogit(y, X).fit()"
   ]
  },
  {
   "cell_type": "code",
   "execution_count": 23,
   "metadata": {},
   "outputs": [
    {
     "name": "stderr",
     "output_type": "stream",
     "text": [
      "c:\\ProgramData\\Anaconda3\\envs\\conjoint\\Lib\\site-packages\\statsmodels\\base\\model.py:1888: ValueWarning: covariance of constraints does not have full rank. The number of constraints is 26, but rank is 10\n",
      "  warnings.warn('covariance of constraints does not have full '\n"
     ]
    },
    {
     "data": {
      "text/html": [
       "<table class=\"simpletable\">\n",
       "<caption>OLS Regression Results</caption>\n",
       "<tr>\n",
       "  <th>Dep. Variable:</th>         <td>utility</td>     <th>  R-squared:         </th> <td>   0.198</td>\n",
       "</tr>\n",
       "<tr>\n",
       "  <th>Model:</th>                   <td>OLS</td>       <th>  Adj. R-squared:    </th> <td>   0.045</td>\n",
       "</tr>\n",
       "<tr>\n",
       "  <th>Method:</th>             <td>Least Squares</td>  <th>  F-statistic:       </th> <td>  0.5149</td>\n",
       "</tr>\n",
       "<tr>\n",
       "  <th>Date:</th>             <td>Tue, 08 Aug 2023</td> <th>  Prob (F-statistic):</th>  <td> 0.845</td> \n",
       "</tr>\n",
       "<tr>\n",
       "  <th>Time:</th>                 <td>11:29:14</td>     <th>  Log-Likelihood:    </th> <td> -137.13</td>\n",
       "</tr>\n",
       "<tr>\n",
       "  <th>No. Observations:</th>      <td>   132</td>      <th>  AIC:               </th> <td>   318.3</td>\n",
       "</tr>\n",
       "<tr>\n",
       "  <th>Df Residuals:</th>          <td>   110</td>      <th>  BIC:               </th> <td>   381.7</td>\n",
       "</tr>\n",
       "<tr>\n",
       "  <th>Df Model:</th>              <td>    21</td>      <th>                     </th>     <td> </td>   \n",
       "</tr>\n",
       "<tr>\n",
       "  <th>Covariance Type:</th>       <td>cluster</td>     <th>                     </th>     <td> </td>   \n",
       "</tr>\n",
       "</table>\n",
       "<table class=\"simpletable\">\n",
       "<tr>\n",
       "                     <td></td>                       <th>coef</th>     <th>std err</th>      <th>z</th>      <th>P>|z|</th>  <th>[0.025</th>    <th>0.975]</th>  \n",
       "</tr>\n",
       "<tr>\n",
       "  <th>const</th>                                  <td>   -0.1239</td> <td>    0.056</td> <td>   -2.228</td> <td> 0.026</td> <td>   -0.233</td> <td>   -0.015</td>\n",
       "</tr>\n",
       "<tr>\n",
       "  <th>att_1_PhaseOut</th>                         <td>    0.2036</td> <td>    0.106</td> <td>    1.923</td> <td> 0.055</td> <td>   -0.004</td> <td>    0.411</td>\n",
       "</tr>\n",
       "<tr>\n",
       "  <th>att_1_StatusQuo</th>                        <td>   -0.2114</td> <td>    0.084</td> <td>   -2.512</td> <td> 0.012</td> <td>   -0.376</td> <td>   -0.046</td>\n",
       "</tr>\n",
       "<tr>\n",
       "  <th>att_1_Stop&Maintain</th>                    <td>   -0.2872</td> <td>    0.130</td> <td>   -2.203</td> <td> 0.028</td> <td>   -0.543</td> <td>   -0.032</td>\n",
       "</tr>\n",
       "<tr>\n",
       "  <th>att_1_Stop&Reduce</th>                      <td>    0.1712</td> <td>    0.140</td> <td>    1.224</td> <td> 0.221</td> <td>   -0.103</td> <td>    0.445</td>\n",
       "</tr>\n",
       "<tr>\n",
       "  <th>att_2_HighInvestment&Int</th>               <td>   -0.1737</td> <td>    0.128</td> <td>   -1.360</td> <td> 0.174</td> <td>   -0.424</td> <td>    0.077</td>\n",
       "</tr>\n",
       "<tr>\n",
       "  <th>att_2_HighInvestment&Int&Consideration</th> <td>   -0.0190</td> <td>    0.121</td> <td>   -0.157</td> <td> 0.875</td> <td>   -0.256</td> <td>    0.218</td>\n",
       "</tr>\n",
       "<tr>\n",
       "  <th>att_2_LowInvestment</th>                    <td>    0.0062</td> <td>    0.131</td> <td>    0.047</td> <td> 0.962</td> <td>   -0.251</td> <td>    0.264</td>\n",
       "</tr>\n",
       "<tr>\n",
       "  <th>att_2_LowInvestment&LowConsideration</th>   <td>    0.0627</td> <td>    0.065</td> <td>    0.965</td> <td> 0.335</td> <td>   -0.065</td> <td>    0.190</td>\n",
       "</tr>\n",
       "<tr>\n",
       "  <th>att_3_EnergyAccess</th>                     <td>   -0.2091</td> <td>    0.133</td> <td>   -1.572</td> <td> 0.116</td> <td>   -0.470</td> <td>    0.052</td>\n",
       "</tr>\n",
       "<tr>\n",
       "  <th>att_3_HealthEdu</th>                        <td>   -0.1532</td> <td>    0.166</td> <td>   -0.921</td> <td> 0.357</td> <td>   -0.479</td> <td>    0.173</td>\n",
       "</tr>\n",
       "<tr>\n",
       "  <th>att_3_LowPrices</th>                        <td>   -0.0633</td> <td>    0.136</td> <td>   -0.466</td> <td> 0.641</td> <td>   -0.329</td> <td>    0.203</td>\n",
       "</tr>\n",
       "<tr>\n",
       "  <th>att_3_NothingSoc</th>                       <td>    0.0136</td> <td>    0.125</td> <td>    0.109</td> <td> 0.913</td> <td>   -0.231</td> <td>    0.258</td>\n",
       "</tr>\n",
       "<tr>\n",
       "  <th>att_3_Transfers</th>                        <td>    0.2881</td> <td>    0.137</td> <td>    2.097</td> <td> 0.036</td> <td>    0.019</td> <td>    0.557</td>\n",
       "</tr>\n",
       "<tr>\n",
       "  <th>att_4_CreateJobs</th>                       <td>    0.0181</td> <td>    0.131</td> <td>    0.139</td> <td> 0.889</td> <td>   -0.238</td> <td>    0.274</td>\n",
       "</tr>\n",
       "<tr>\n",
       "  <th>att_4_EarlyPension</th>                     <td>    0.1730</td> <td>    0.124</td> <td>    1.394</td> <td> 0.163</td> <td>   -0.070</td> <td>    0.416</td>\n",
       "</tr>\n",
       "<tr>\n",
       "  <th>att_4_JobGuarantee</th>                     <td>    0.0343</td> <td>    0.104</td> <td>    0.330</td> <td> 0.741</td> <td>   -0.169</td> <td>    0.238</td>\n",
       "</tr>\n",
       "<tr>\n",
       "  <th>att_4_NothingEco</th>                       <td>   -0.0197</td> <td>    0.153</td> <td>   -0.129</td> <td> 0.898</td> <td>   -0.320</td> <td>    0.281</td>\n",
       "</tr>\n",
       "<tr>\n",
       "  <th>att_4_Retrain</th>                          <td>   -0.3297</td> <td>    0.113</td> <td>   -2.924</td> <td> 0.003</td> <td>   -0.551</td> <td>   -0.109</td>\n",
       "</tr>\n",
       "<tr>\n",
       "  <th>att_5_CentralGov</th>                       <td>    0.1901</td> <td>    0.234</td> <td>    0.812</td> <td> 0.417</td> <td>   -0.269</td> <td>    0.649</td>\n",
       "</tr>\n",
       "<tr>\n",
       "  <th>att_5_CivilNGO</th>                         <td>    0.0874</td> <td>    0.225</td> <td>    0.388</td> <td> 0.698</td> <td>   -0.355</td> <td>    0.529</td>\n",
       "</tr>\n",
       "<tr>\n",
       "  <th>att_5_EnergySector</th>                     <td>    0.0670</td> <td>    0.263</td> <td>    0.255</td> <td> 0.799</td> <td>   -0.448</td> <td>    0.582</td>\n",
       "</tr>\n",
       "<tr>\n",
       "  <th>att_5_LabourUnion</th>                      <td>    0.3040</td> <td>    0.230</td> <td>    1.321</td> <td> 0.187</td> <td>   -0.147</td> <td>    0.755</td>\n",
       "</tr>\n",
       "<tr>\n",
       "  <th>att_5_LocalGov</th>                         <td>   -0.2174</td> <td>    0.081</td> <td>   -2.690</td> <td> 0.007</td> <td>   -0.376</td> <td>   -0.059</td>\n",
       "</tr>\n",
       "<tr>\n",
       "  <th>att_5_Media</th>                            <td>   -0.1573</td> <td>    0.159</td> <td>   -0.989</td> <td> 0.323</td> <td>   -0.469</td> <td>    0.155</td>\n",
       "</tr>\n",
       "<tr>\n",
       "  <th>att_5_Researchers</th>                      <td>   -0.3977</td> <td>    0.099</td> <td>   -4.017</td> <td> 0.000</td> <td>   -0.592</td> <td>   -0.204</td>\n",
       "</tr>\n",
       "<tr>\n",
       "  <th>ID</th>                                     <td>    0.0470</td> <td>    0.017</td> <td>    2.739</td> <td> 0.006</td> <td>    0.013</td> <td>    0.081</td>\n",
       "</tr>\n",
       "</table>\n",
       "<table class=\"simpletable\">\n",
       "<tr>\n",
       "  <th>Omnibus:</th>       <td> 6.185</td> <th>  Durbin-Watson:     </th> <td>   1.984</td>\n",
       "</tr>\n",
       "<tr>\n",
       "  <th>Prob(Omnibus):</th> <td> 0.045</td> <th>  Jarque-Bera (JB):  </th> <td>   4.782</td>\n",
       "</tr>\n",
       "<tr>\n",
       "  <th>Skew:</th>          <td>-0.352</td> <th>  Prob(JB):          </th> <td>  0.0915</td>\n",
       "</tr>\n",
       "<tr>\n",
       "  <th>Kurtosis:</th>      <td> 2.389</td> <th>  Cond. No.          </th> <td>8.24e+16</td>\n",
       "</tr>\n",
       "</table><br/><br/>Notes:<br/>[1] Standard Errors are robust to cluster correlation (cluster)<br/>[2] The smallest eigenvalue is 9.27e-31. This might indicate that there are<br/>strong multicollinearity problems or that the design matrix is singular."
      ],
      "text/latex": [
       "\\begin{center}\n",
       "\\begin{tabular}{lclc}\n",
       "\\toprule\n",
       "\\textbf{Dep. Variable:}                             &     utility      & \\textbf{  R-squared:         } &     0.198   \\\\\n",
       "\\textbf{Model:}                                     &       OLS        & \\textbf{  Adj. R-squared:    } &     0.045   \\\\\n",
       "\\textbf{Method:}                                    &  Least Squares   & \\textbf{  F-statistic:       } &    0.5149   \\\\\n",
       "\\textbf{Date:}                                      & Tue, 08 Aug 2023 & \\textbf{  Prob (F-statistic):} &    0.845    \\\\\n",
       "\\textbf{Time:}                                      &     11:29:14     & \\textbf{  Log-Likelihood:    } &   -137.13   \\\\\n",
       "\\textbf{No. Observations:}                          &         132      & \\textbf{  AIC:               } &     318.3   \\\\\n",
       "\\textbf{Df Residuals:}                              &         110      & \\textbf{  BIC:               } &     381.7   \\\\\n",
       "\\textbf{Df Model:}                                  &          21      & \\textbf{                     } &             \\\\\n",
       "\\textbf{Covariance Type:}                           &     cluster      & \\textbf{                     } &             \\\\\n",
       "\\bottomrule\n",
       "\\end{tabular}\n",
       "\\begin{tabular}{lcccccc}\n",
       "                                                    & \\textbf{coef} & \\textbf{std err} & \\textbf{z} & \\textbf{P$> |$z$|$} & \\textbf{[0.025} & \\textbf{0.975]}  \\\\\n",
       "\\midrule\n",
       "\\textbf{const}                                      &      -0.1239  &        0.056     &    -2.228  &         0.026        &       -0.233    &       -0.015     \\\\\n",
       "\\textbf{att\\_1\\_PhaseOut}                           &       0.2036  &        0.106     &     1.923  &         0.055        &       -0.004    &        0.411     \\\\\n",
       "\\textbf{att\\_1\\_StatusQuo}                          &      -0.2114  &        0.084     &    -2.512  &         0.012        &       -0.376    &       -0.046     \\\\\n",
       "\\textbf{att\\_1\\_Stop\\&Maintain}                     &      -0.2872  &        0.130     &    -2.203  &         0.028        &       -0.543    &       -0.032     \\\\\n",
       "\\textbf{att\\_1\\_Stop\\&Reduce}                       &       0.1712  &        0.140     &     1.224  &         0.221        &       -0.103    &        0.445     \\\\\n",
       "\\textbf{att\\_2\\_HighInvestment\\&Int}                &      -0.1737  &        0.128     &    -1.360  &         0.174        &       -0.424    &        0.077     \\\\\n",
       "\\textbf{att\\_2\\_HighInvestment\\&Int\\&Consideration} &      -0.0190  &        0.121     &    -0.157  &         0.875        &       -0.256    &        0.218     \\\\\n",
       "\\textbf{att\\_2\\_LowInvestment}                      &       0.0062  &        0.131     &     0.047  &         0.962        &       -0.251    &        0.264     \\\\\n",
       "\\textbf{att\\_2\\_LowInvestment\\&LowConsideration}    &       0.0627  &        0.065     &     0.965  &         0.335        &       -0.065    &        0.190     \\\\\n",
       "\\textbf{att\\_3\\_EnergyAccess}                       &      -0.2091  &        0.133     &    -1.572  &         0.116        &       -0.470    &        0.052     \\\\\n",
       "\\textbf{att\\_3\\_HealthEdu}                          &      -0.1532  &        0.166     &    -0.921  &         0.357        &       -0.479    &        0.173     \\\\\n",
       "\\textbf{att\\_3\\_LowPrices}                          &      -0.0633  &        0.136     &    -0.466  &         0.641        &       -0.329    &        0.203     \\\\\n",
       "\\textbf{att\\_3\\_NothingSoc}                         &       0.0136  &        0.125     &     0.109  &         0.913        &       -0.231    &        0.258     \\\\\n",
       "\\textbf{att\\_3\\_Transfers}                          &       0.2881  &        0.137     &     2.097  &         0.036        &        0.019    &        0.557     \\\\\n",
       "\\textbf{att\\_4\\_CreateJobs}                         &       0.0181  &        0.131     &     0.139  &         0.889        &       -0.238    &        0.274     \\\\\n",
       "\\textbf{att\\_4\\_EarlyPension}                       &       0.1730  &        0.124     &     1.394  &         0.163        &       -0.070    &        0.416     \\\\\n",
       "\\textbf{att\\_4\\_JobGuarantee}                       &       0.0343  &        0.104     &     0.330  &         0.741        &       -0.169    &        0.238     \\\\\n",
       "\\textbf{att\\_4\\_NothingEco}                         &      -0.0197  &        0.153     &    -0.129  &         0.898        &       -0.320    &        0.281     \\\\\n",
       "\\textbf{att\\_4\\_Retrain}                            &      -0.3297  &        0.113     &    -2.924  &         0.003        &       -0.551    &       -0.109     \\\\\n",
       "\\textbf{att\\_5\\_CentralGov}                         &       0.1901  &        0.234     &     0.812  &         0.417        &       -0.269    &        0.649     \\\\\n",
       "\\textbf{att\\_5\\_CivilNGO}                           &       0.0874  &        0.225     &     0.388  &         0.698        &       -0.355    &        0.529     \\\\\n",
       "\\textbf{att\\_5\\_EnergySector}                       &       0.0670  &        0.263     &     0.255  &         0.799        &       -0.448    &        0.582     \\\\\n",
       "\\textbf{att\\_5\\_LabourUnion}                        &       0.3040  &        0.230     &     1.321  &         0.187        &       -0.147    &        0.755     \\\\\n",
       "\\textbf{att\\_5\\_LocalGov}                           &      -0.2174  &        0.081     &    -2.690  &         0.007        &       -0.376    &       -0.059     \\\\\n",
       "\\textbf{att\\_5\\_Media}                              &      -0.1573  &        0.159     &    -0.989  &         0.323        &       -0.469    &        0.155     \\\\\n",
       "\\textbf{att\\_5\\_Researchers}                        &      -0.3977  &        0.099     &    -4.017  &         0.000        &       -0.592    &       -0.204     \\\\\n",
       "\\textbf{ID}                                         &       0.0470  &        0.017     &     2.739  &         0.006        &        0.013    &        0.081     \\\\\n",
       "\\bottomrule\n",
       "\\end{tabular}\n",
       "\\begin{tabular}{lclc}\n",
       "\\textbf{Omnibus:}       &  6.185 & \\textbf{  Durbin-Watson:     } &    1.984  \\\\\n",
       "\\textbf{Prob(Omnibus):} &  0.045 & \\textbf{  Jarque-Bera (JB):  } &    4.782  \\\\\n",
       "\\textbf{Skew:}          & -0.352 & \\textbf{  Prob(JB):          } &   0.0915  \\\\\n",
       "\\textbf{Kurtosis:}      &  2.389 & \\textbf{  Cond. No.          } & 8.24e+16  \\\\\n",
       "\\bottomrule\n",
       "\\end{tabular}\n",
       "%\\caption{OLS Regression Results}\n",
       "\\end{center}\n",
       "\n",
       "Notes: \\newline\n",
       " [1] Standard Errors are robust to cluster correlation (cluster) \\newline\n",
       " [2] The smallest eigenvalue is 9.27e-31. This might indicate that there are \\newline\n",
       " strong multicollinearity problems or that the design matrix is singular."
      ],
      "text/plain": [
       "<class 'statsmodels.iolib.summary.Summary'>\n",
       "\"\"\"\n",
       "                            OLS Regression Results                            \n",
       "==============================================================================\n",
       "Dep. Variable:                utility   R-squared:                       0.198\n",
       "Model:                            OLS   Adj. R-squared:                  0.045\n",
       "Method:                 Least Squares   F-statistic:                    0.5149\n",
       "Date:                Tue, 08 Aug 2023   Prob (F-statistic):              0.845\n",
       "Time:                        11:29:14   Log-Likelihood:                -137.13\n",
       "No. Observations:                 132   AIC:                             318.3\n",
       "Df Residuals:                     110   BIC:                             381.7\n",
       "Df Model:                          21                                         \n",
       "Covariance Type:              cluster                                         \n",
       "==========================================================================================================\n",
       "                                             coef    std err          z      P>|z|      [0.025      0.975]\n",
       "----------------------------------------------------------------------------------------------------------\n",
       "const                                     -0.1239      0.056     -2.228      0.026      -0.233      -0.015\n",
       "att_1_PhaseOut                             0.2036      0.106      1.923      0.055      -0.004       0.411\n",
       "att_1_StatusQuo                           -0.2114      0.084     -2.512      0.012      -0.376      -0.046\n",
       "att_1_Stop&Maintain                       -0.2872      0.130     -2.203      0.028      -0.543      -0.032\n",
       "att_1_Stop&Reduce                          0.1712      0.140      1.224      0.221      -0.103       0.445\n",
       "att_2_HighInvestment&Int                  -0.1737      0.128     -1.360      0.174      -0.424       0.077\n",
       "att_2_HighInvestment&Int&Consideration    -0.0190      0.121     -0.157      0.875      -0.256       0.218\n",
       "att_2_LowInvestment                        0.0062      0.131      0.047      0.962      -0.251       0.264\n",
       "att_2_LowInvestment&LowConsideration       0.0627      0.065      0.965      0.335      -0.065       0.190\n",
       "att_3_EnergyAccess                        -0.2091      0.133     -1.572      0.116      -0.470       0.052\n",
       "att_3_HealthEdu                           -0.1532      0.166     -0.921      0.357      -0.479       0.173\n",
       "att_3_LowPrices                           -0.0633      0.136     -0.466      0.641      -0.329       0.203\n",
       "att_3_NothingSoc                           0.0136      0.125      0.109      0.913      -0.231       0.258\n",
       "att_3_Transfers                            0.2881      0.137      2.097      0.036       0.019       0.557\n",
       "att_4_CreateJobs                           0.0181      0.131      0.139      0.889      -0.238       0.274\n",
       "att_4_EarlyPension                         0.1730      0.124      1.394      0.163      -0.070       0.416\n",
       "att_4_JobGuarantee                         0.0343      0.104      0.330      0.741      -0.169       0.238\n",
       "att_4_NothingEco                          -0.0197      0.153     -0.129      0.898      -0.320       0.281\n",
       "att_4_Retrain                             -0.3297      0.113     -2.924      0.003      -0.551      -0.109\n",
       "att_5_CentralGov                           0.1901      0.234      0.812      0.417      -0.269       0.649\n",
       "att_5_CivilNGO                             0.0874      0.225      0.388      0.698      -0.355       0.529\n",
       "att_5_EnergySector                         0.0670      0.263      0.255      0.799      -0.448       0.582\n",
       "att_5_LabourUnion                          0.3040      0.230      1.321      0.187      -0.147       0.755\n",
       "att_5_LocalGov                            -0.2174      0.081     -2.690      0.007      -0.376      -0.059\n",
       "att_5_Media                               -0.1573      0.159     -0.989      0.323      -0.469       0.155\n",
       "att_5_Researchers                         -0.3977      0.099     -4.017      0.000      -0.592      -0.204\n",
       "ID                                         0.0470      0.017      2.739      0.006       0.013       0.081\n",
       "==============================================================================\n",
       "Omnibus:                        6.185   Durbin-Watson:                   1.984\n",
       "Prob(Omnibus):                  0.045   Jarque-Bera (JB):                4.782\n",
       "Skew:                          -0.352   Prob(JB):                       0.0915\n",
       "Kurtosis:                       2.389   Cond. No.                     8.24e+16\n",
       "==============================================================================\n",
       "\n",
       "Notes:\n",
       "[1] Standard Errors are robust to cluster correlation (cluster)\n",
       "[2] The smallest eigenvalue is 9.27e-31. This might indicate that there are\n",
       "strong multicollinearity problems or that the design matrix is singular.\n",
       "\"\"\""
      ]
     },
     "execution_count": 23,
     "metadata": {},
     "output_type": "execute_result"
    }
   ],
   "source": [
    "model.summary()"
   ]
  },
  {
   "cell_type": "code",
   "execution_count": 24,
   "metadata": {},
   "outputs": [],
   "source": [
    "model = load_model(OUT / \"models\" / \"model.pickle\")"
   ]
  },
  {
   "cell_type": "code",
   "execution_count": 25,
   "metadata": {},
   "outputs": [
    {
     "name": "stdout",
     "output_type": "stream",
     "text": [
      "Regression results for Attribute A:\n",
      "                            OLS Regression Results                            \n",
      "==============================================================================\n",
      "Dep. Variable:                utility   R-squared:                       0.198\n",
      "Model:                            OLS   Adj. R-squared:                  0.045\n",
      "Method:                 Least Squares   F-statistic:                    0.5149\n",
      "Date:                Tue, 08 Aug 2023   Prob (F-statistic):              0.845\n",
      "Time:                        11:31:15   Log-Likelihood:                -137.13\n",
      "No. Observations:                 132   AIC:                             318.3\n",
      "Df Residuals:                     110   BIC:                             381.7\n",
      "Df Model:                          21                                         \n",
      "Covariance Type:              cluster                                         \n",
      "==========================================================================================================\n",
      "                                             coef    std err          z      P>|z|      [0.025      0.975]\n",
      "----------------------------------------------------------------------------------------------------------\n",
      "const                                     -0.1239      0.056     -2.228      0.026      -0.233      -0.015\n",
      "att_1_PhaseOut                             0.2036      0.106      1.923      0.055      -0.004       0.411\n",
      "att_1_StatusQuo                           -0.2114      0.084     -2.512      0.012      -0.376      -0.046\n",
      "att_1_Stop&Maintain                       -0.2872      0.130     -2.203      0.028      -0.543      -0.032\n",
      "att_1_Stop&Reduce                          0.1712      0.140      1.224      0.221      -0.103       0.445\n",
      "att_2_HighInvestment&Int                  -0.1737      0.128     -1.360      0.174      -0.424       0.077\n",
      "att_2_HighInvestment&Int&Consideration    -0.0190      0.121     -0.157      0.875      -0.256       0.218\n",
      "att_2_LowInvestment                        0.0062      0.131      0.047      0.962      -0.251       0.264\n",
      "att_2_LowInvestment&LowConsideration       0.0627      0.065      0.965      0.335      -0.065       0.190\n",
      "att_3_EnergyAccess                        -0.2091      0.133     -1.572      0.116      -0.470       0.052\n",
      "att_3_HealthEdu                           -0.1532      0.166     -0.921      0.357      -0.479       0.173\n",
      "att_3_LowPrices                           -0.0633      0.136     -0.466      0.641      -0.329       0.203\n",
      "att_3_NothingSoc                           0.0136      0.125      0.109      0.913      -0.231       0.258\n",
      "att_3_Transfers                            0.2881      0.137      2.097      0.036       0.019       0.557\n",
      "att_4_CreateJobs                           0.0181      0.131      0.139      0.889      -0.238       0.274\n",
      "att_4_EarlyPension                         0.1730      0.124      1.394      0.163      -0.070       0.416\n",
      "att_4_JobGuarantee                         0.0343      0.104      0.330      0.741      -0.169       0.238\n",
      "att_4_NothingEco                          -0.0197      0.153     -0.129      0.898      -0.320       0.281\n",
      "att_4_Retrain                             -0.3297      0.113     -2.924      0.003      -0.551      -0.109\n",
      "att_5_CentralGov                           0.1901      0.234      0.812      0.417      -0.269       0.649\n",
      "att_5_CivilNGO                             0.0874      0.225      0.388      0.698      -0.355       0.529\n",
      "att_5_EnergySector                         0.0670      0.263      0.255      0.799      -0.448       0.582\n",
      "att_5_LabourUnion                          0.3040      0.230      1.321      0.187      -0.147       0.755\n",
      "att_5_LocalGov                            -0.2174      0.081     -2.690      0.007      -0.376      -0.059\n",
      "att_5_Media                               -0.1573      0.159     -0.989      0.323      -0.469       0.155\n",
      "att_5_Researchers                         -0.3977      0.099     -4.017      0.000      -0.592      -0.204\n",
      "ID                                         0.0470      0.017      2.739      0.006       0.013       0.081\n",
      "==============================================================================\n",
      "Omnibus:                        6.185   Durbin-Watson:                   1.984\n",
      "Prob(Omnibus):                  0.045   Jarque-Bera (JB):                4.782\n",
      "Skew:                          -0.352   Prob(JB):                       0.0915\n",
      "Kurtosis:                       2.389   Cond. No.                     8.24e+16\n",
      "==============================================================================\n",
      "\n",
      "Notes:\n",
      "[1] Standard Errors are robust to cluster correlation (cluster)\n",
      "[2] The smallest eigenvalue is 9.27e-31. This might indicate that there are\n",
      "strong multicollinearity problems or that the design matrix is singular.\n"
     ]
    },
    {
     "name": "stderr",
     "output_type": "stream",
     "text": [
      "c:\\ProgramData\\Anaconda3\\envs\\conjoint\\Lib\\site-packages\\statsmodels\\base\\model.py:1888: ValueWarning: covariance of constraints does not have full rank. The number of constraints is 26, but rank is 10\n",
      "  warnings.warn('covariance of constraints does not have full '\n"
     ]
    }
   ],
   "source": [
    "print(\"Regression results for Attribute A:\")\n",
    "print(model.summary())"
   ]
  },
  {
   "attachments": {},
   "cell_type": "markdown",
   "metadata": {},
   "source": [
    "## Plots"
   ]
  },
  {
   "attachments": {},
   "cell_type": "markdown",
   "metadata": {},
   "source": [
    "##### 1.1 Relative support plot (Intra)"
   ]
  },
  {
   "cell_type": "code",
   "execution_count": 26,
   "metadata": {},
   "outputs": [
    {
     "data": {
      "application/vnd.plotly.v1+json": {
       "config": {
        "plotlyServerURL": "https://plot.ly"
       },
       "data": [
        {
         "error_x": {
          "array": [
           0.22548044337268477,
           0.2627970111249138,
           0.2302045947789449,
           0.08079824792631544,
           0.15911769526605177,
           0.09900628968648356,
           0.2341734145079855
          ],
          "color": "red",
          "thickness": 1.5,
          "type": "data"
         },
         "marker": {
          "color": "darkgray",
          "size": 10
         },
         "mode": "markers",
         "orientation": "h",
         "showlegend": false,
         "type": "scatter",
         "x": [
          -0.10272541138694724,
          -0.12316326513864762,
          0.11386429050601354,
          -0.4075038481324921,
          -0.347485046445914,
          -0.5878934945520187,
          0
         ],
         "y": [
          "CivilNGO",
          "EnergySector",
          "LabourUnion",
          "LocalGov",
          "Media",
          "Researchers",
          "CentralGov"
         ]
        },
        {
         "error_x": {
          "array": [
           0.13053262401951515,
           0.12414960585356011,
           0.1038415668758847,
           0.11273165914473265,
           0.15333928991892115
          ],
          "color": "blue",
          "thickness": 1.5,
          "type": "data"
         },
         "marker": {
          "color": "darkgray",
          "size": 10
         },
         "mode": "markers",
         "orientation": "h",
         "showlegend": false,
         "type": "scatter",
         "x": [
          0.03786001409367407,
          0.1927550802658583,
          0.05403768716648613,
          -0.3099362579371039,
          0
         ],
         "y": [
          "CreateJobs",
          "EarlyPension",
          "JobGuarantee",
          "Retrain",
          "NothingEco"
         ]
        },
        {
         "error_x": {
          "array": [
           0.1664349539152884,
           0.1329897006325945,
           0.135736682554466,
           0.13741591240083761,
           0.12462894284953215
          ],
          "color": "green",
          "thickness": 1.5,
          "type": "data"
         },
         "marker": {
          "color": "darkgray",
          "size": 10
         },
         "mode": "markers",
         "orientation": "h",
         "showlegend": false,
         "type": "scatter",
         "x": [
          -0.16678594087110063,
          -0.22262760665585155,
          -0.07688087482835224,
          0.2745683863543623,
          0
         ],
         "y": [
          "HealthEdu",
          "EnergyAccess",
          "LowPrices",
          "Transfers",
          "NothingSoc"
         ]
        },
        {
         "error_x": {
          "array": [
           0.12775286940065247,
           0.12111697045020685,
           0.06497819568688383,
           0.1314675130061279
          ],
          "color": "orange",
          "thickness": 1.5,
          "type": "data"
         },
         "marker": {
          "color": "darkgray",
          "size": 10
         },
         "mode": "markers",
         "orientation": "h",
         "showlegend": false,
         "type": "scatter",
         "x": [
          -0.1799230838936237,
          -0.025221175619092498,
          0.05649781027372454,
          0
         ],
         "y": [
          "HighInvestment&Int",
          "HighInvestment&Int&Consideration",
          "LowInvestment&LowConsideration",
          "LowInvestment"
         ]
        },
        {
         "error_x": {
          "array": [
           0.10586990465097623,
           0.13980472903196053,
           0.13035612534707658,
           0.08415817507564742
          ],
          "color": "purple",
          "thickness": 1.5,
          "type": "data"
         },
         "marker": {
          "color": "darkgray",
          "size": 10
         },
         "mode": "markers",
         "orientation": "h",
         "showlegend": false,
         "type": "scatter",
         "x": [
          0.41497787767687333,
          0.38259670334859136,
          -0.07578654460543643,
          0
         ],
         "y": [
          "PhaseOut",
          "Stop&Reduce",
          "Stop&Maintain",
          "StatusQuo"
         ]
        }
       ],
       "layout": {
        "height": 600,
        "margin": {
         "b": 40,
         "l": 80,
         "r": 30,
         "t": 80
        },
        "shapes": [
         {
          "fillcolor": "red",
          "layer": "below",
          "opacity": 0.1,
          "type": "rect",
          "x0": -1.5,
          "x1": 1.5,
          "y0": 0,
          "y1": 6
         },
         {
          "fillcolor": "blue",
          "layer": "below",
          "opacity": 0.1,
          "type": "rect",
          "x0": -1.5,
          "x1": 1.5,
          "y0": 7,
          "y1": 11
         },
         {
          "fillcolor": "green",
          "layer": "below",
          "opacity": 0.1,
          "type": "rect",
          "x0": -1.5,
          "x1": 1.5,
          "y0": 12,
          "y1": 16
         },
         {
          "fillcolor": "orange",
          "layer": "below",
          "opacity": 0.1,
          "type": "rect",
          "x0": -1.5,
          "x1": 1.5,
          "y0": 17,
          "y1": 20
         },
         {
          "fillcolor": "purple",
          "layer": "below",
          "opacity": 0.1,
          "type": "rect",
          "x0": -1.5,
          "x1": 1.5,
          "y0": 21,
          "y1": 24
         },
         {
          "line": {
           "color": "gray",
           "dash": "dash",
           "width": 1
          },
          "type": "line",
          "x0": 0,
          "x1": 0,
          "y0": "CivilNGO",
          "y1": "StatusQuo"
         }
        ],
        "showlegend": true,
        "template": {
         "data": {
          "bar": [
           {
            "error_x": {
             "color": "#2a3f5f"
            },
            "error_y": {
             "color": "#2a3f5f"
            },
            "marker": {
             "line": {
              "color": "#E5ECF6",
              "width": 0.5
             },
             "pattern": {
              "fillmode": "overlay",
              "size": 10,
              "solidity": 0.2
             }
            },
            "type": "bar"
           }
          ],
          "barpolar": [
           {
            "marker": {
             "line": {
              "color": "#E5ECF6",
              "width": 0.5
             },
             "pattern": {
              "fillmode": "overlay",
              "size": 10,
              "solidity": 0.2
             }
            },
            "type": "barpolar"
           }
          ],
          "carpet": [
           {
            "aaxis": {
             "endlinecolor": "#2a3f5f",
             "gridcolor": "white",
             "linecolor": "white",
             "minorgridcolor": "white",
             "startlinecolor": "#2a3f5f"
            },
            "baxis": {
             "endlinecolor": "#2a3f5f",
             "gridcolor": "white",
             "linecolor": "white",
             "minorgridcolor": "white",
             "startlinecolor": "#2a3f5f"
            },
            "type": "carpet"
           }
          ],
          "choropleth": [
           {
            "colorbar": {
             "outlinewidth": 0,
             "ticks": ""
            },
            "type": "choropleth"
           }
          ],
          "contour": [
           {
            "colorbar": {
             "outlinewidth": 0,
             "ticks": ""
            },
            "colorscale": [
             [
              0,
              "#0d0887"
             ],
             [
              0.1111111111111111,
              "#46039f"
             ],
             [
              0.2222222222222222,
              "#7201a8"
             ],
             [
              0.3333333333333333,
              "#9c179e"
             ],
             [
              0.4444444444444444,
              "#bd3786"
             ],
             [
              0.5555555555555556,
              "#d8576b"
             ],
             [
              0.6666666666666666,
              "#ed7953"
             ],
             [
              0.7777777777777778,
              "#fb9f3a"
             ],
             [
              0.8888888888888888,
              "#fdca26"
             ],
             [
              1,
              "#f0f921"
             ]
            ],
            "type": "contour"
           }
          ],
          "contourcarpet": [
           {
            "colorbar": {
             "outlinewidth": 0,
             "ticks": ""
            },
            "type": "contourcarpet"
           }
          ],
          "heatmap": [
           {
            "colorbar": {
             "outlinewidth": 0,
             "ticks": ""
            },
            "colorscale": [
             [
              0,
              "#0d0887"
             ],
             [
              0.1111111111111111,
              "#46039f"
             ],
             [
              0.2222222222222222,
              "#7201a8"
             ],
             [
              0.3333333333333333,
              "#9c179e"
             ],
             [
              0.4444444444444444,
              "#bd3786"
             ],
             [
              0.5555555555555556,
              "#d8576b"
             ],
             [
              0.6666666666666666,
              "#ed7953"
             ],
             [
              0.7777777777777778,
              "#fb9f3a"
             ],
             [
              0.8888888888888888,
              "#fdca26"
             ],
             [
              1,
              "#f0f921"
             ]
            ],
            "type": "heatmap"
           }
          ],
          "heatmapgl": [
           {
            "colorbar": {
             "outlinewidth": 0,
             "ticks": ""
            },
            "colorscale": [
             [
              0,
              "#0d0887"
             ],
             [
              0.1111111111111111,
              "#46039f"
             ],
             [
              0.2222222222222222,
              "#7201a8"
             ],
             [
              0.3333333333333333,
              "#9c179e"
             ],
             [
              0.4444444444444444,
              "#bd3786"
             ],
             [
              0.5555555555555556,
              "#d8576b"
             ],
             [
              0.6666666666666666,
              "#ed7953"
             ],
             [
              0.7777777777777778,
              "#fb9f3a"
             ],
             [
              0.8888888888888888,
              "#fdca26"
             ],
             [
              1,
              "#f0f921"
             ]
            ],
            "type": "heatmapgl"
           }
          ],
          "histogram": [
           {
            "marker": {
             "pattern": {
              "fillmode": "overlay",
              "size": 10,
              "solidity": 0.2
             }
            },
            "type": "histogram"
           }
          ],
          "histogram2d": [
           {
            "colorbar": {
             "outlinewidth": 0,
             "ticks": ""
            },
            "colorscale": [
             [
              0,
              "#0d0887"
             ],
             [
              0.1111111111111111,
              "#46039f"
             ],
             [
              0.2222222222222222,
              "#7201a8"
             ],
             [
              0.3333333333333333,
              "#9c179e"
             ],
             [
              0.4444444444444444,
              "#bd3786"
             ],
             [
              0.5555555555555556,
              "#d8576b"
             ],
             [
              0.6666666666666666,
              "#ed7953"
             ],
             [
              0.7777777777777778,
              "#fb9f3a"
             ],
             [
              0.8888888888888888,
              "#fdca26"
             ],
             [
              1,
              "#f0f921"
             ]
            ],
            "type": "histogram2d"
           }
          ],
          "histogram2dcontour": [
           {
            "colorbar": {
             "outlinewidth": 0,
             "ticks": ""
            },
            "colorscale": [
             [
              0,
              "#0d0887"
             ],
             [
              0.1111111111111111,
              "#46039f"
             ],
             [
              0.2222222222222222,
              "#7201a8"
             ],
             [
              0.3333333333333333,
              "#9c179e"
             ],
             [
              0.4444444444444444,
              "#bd3786"
             ],
             [
              0.5555555555555556,
              "#d8576b"
             ],
             [
              0.6666666666666666,
              "#ed7953"
             ],
             [
              0.7777777777777778,
              "#fb9f3a"
             ],
             [
              0.8888888888888888,
              "#fdca26"
             ],
             [
              1,
              "#f0f921"
             ]
            ],
            "type": "histogram2dcontour"
           }
          ],
          "mesh3d": [
           {
            "colorbar": {
             "outlinewidth": 0,
             "ticks": ""
            },
            "type": "mesh3d"
           }
          ],
          "parcoords": [
           {
            "line": {
             "colorbar": {
              "outlinewidth": 0,
              "ticks": ""
             }
            },
            "type": "parcoords"
           }
          ],
          "pie": [
           {
            "automargin": true,
            "type": "pie"
           }
          ],
          "scatter": [
           {
            "fillpattern": {
             "fillmode": "overlay",
             "size": 10,
             "solidity": 0.2
            },
            "type": "scatter"
           }
          ],
          "scatter3d": [
           {
            "line": {
             "colorbar": {
              "outlinewidth": 0,
              "ticks": ""
             }
            },
            "marker": {
             "colorbar": {
              "outlinewidth": 0,
              "ticks": ""
             }
            },
            "type": "scatter3d"
           }
          ],
          "scattercarpet": [
           {
            "marker": {
             "colorbar": {
              "outlinewidth": 0,
              "ticks": ""
             }
            },
            "type": "scattercarpet"
           }
          ],
          "scattergeo": [
           {
            "marker": {
             "colorbar": {
              "outlinewidth": 0,
              "ticks": ""
             }
            },
            "type": "scattergeo"
           }
          ],
          "scattergl": [
           {
            "marker": {
             "colorbar": {
              "outlinewidth": 0,
              "ticks": ""
             }
            },
            "type": "scattergl"
           }
          ],
          "scattermapbox": [
           {
            "marker": {
             "colorbar": {
              "outlinewidth": 0,
              "ticks": ""
             }
            },
            "type": "scattermapbox"
           }
          ],
          "scatterpolar": [
           {
            "marker": {
             "colorbar": {
              "outlinewidth": 0,
              "ticks": ""
             }
            },
            "type": "scatterpolar"
           }
          ],
          "scatterpolargl": [
           {
            "marker": {
             "colorbar": {
              "outlinewidth": 0,
              "ticks": ""
             }
            },
            "type": "scatterpolargl"
           }
          ],
          "scatterternary": [
           {
            "marker": {
             "colorbar": {
              "outlinewidth": 0,
              "ticks": ""
             }
            },
            "type": "scatterternary"
           }
          ],
          "surface": [
           {
            "colorbar": {
             "outlinewidth": 0,
             "ticks": ""
            },
            "colorscale": [
             [
              0,
              "#0d0887"
             ],
             [
              0.1111111111111111,
              "#46039f"
             ],
             [
              0.2222222222222222,
              "#7201a8"
             ],
             [
              0.3333333333333333,
              "#9c179e"
             ],
             [
              0.4444444444444444,
              "#bd3786"
             ],
             [
              0.5555555555555556,
              "#d8576b"
             ],
             [
              0.6666666666666666,
              "#ed7953"
             ],
             [
              0.7777777777777778,
              "#fb9f3a"
             ],
             [
              0.8888888888888888,
              "#fdca26"
             ],
             [
              1,
              "#f0f921"
             ]
            ],
            "type": "surface"
           }
          ],
          "table": [
           {
            "cells": {
             "fill": {
              "color": "#EBF0F8"
             },
             "line": {
              "color": "white"
             }
            },
            "header": {
             "fill": {
              "color": "#C8D4E3"
             },
             "line": {
              "color": "white"
             }
            },
            "type": "table"
           }
          ]
         },
         "layout": {
          "annotationdefaults": {
           "arrowcolor": "#2a3f5f",
           "arrowhead": 0,
           "arrowwidth": 1
          },
          "autotypenumbers": "strict",
          "coloraxis": {
           "colorbar": {
            "outlinewidth": 0,
            "ticks": ""
           }
          },
          "colorscale": {
           "diverging": [
            [
             0,
             "#8e0152"
            ],
            [
             0.1,
             "#c51b7d"
            ],
            [
             0.2,
             "#de77ae"
            ],
            [
             0.3,
             "#f1b6da"
            ],
            [
             0.4,
             "#fde0ef"
            ],
            [
             0.5,
             "#f7f7f7"
            ],
            [
             0.6,
             "#e6f5d0"
            ],
            [
             0.7,
             "#b8e186"
            ],
            [
             0.8,
             "#7fbc41"
            ],
            [
             0.9,
             "#4d9221"
            ],
            [
             1,
             "#276419"
            ]
           ],
           "sequential": [
            [
             0,
             "#0d0887"
            ],
            [
             0.1111111111111111,
             "#46039f"
            ],
            [
             0.2222222222222222,
             "#7201a8"
            ],
            [
             0.3333333333333333,
             "#9c179e"
            ],
            [
             0.4444444444444444,
             "#bd3786"
            ],
            [
             0.5555555555555556,
             "#d8576b"
            ],
            [
             0.6666666666666666,
             "#ed7953"
            ],
            [
             0.7777777777777778,
             "#fb9f3a"
            ],
            [
             0.8888888888888888,
             "#fdca26"
            ],
            [
             1,
             "#f0f921"
            ]
           ],
           "sequentialminus": [
            [
             0,
             "#0d0887"
            ],
            [
             0.1111111111111111,
             "#46039f"
            ],
            [
             0.2222222222222222,
             "#7201a8"
            ],
            [
             0.3333333333333333,
             "#9c179e"
            ],
            [
             0.4444444444444444,
             "#bd3786"
            ],
            [
             0.5555555555555556,
             "#d8576b"
            ],
            [
             0.6666666666666666,
             "#ed7953"
            ],
            [
             0.7777777777777778,
             "#fb9f3a"
            ],
            [
             0.8888888888888888,
             "#fdca26"
            ],
            [
             1,
             "#f0f921"
            ]
           ]
          },
          "colorway": [
           "#636efa",
           "#EF553B",
           "#00cc96",
           "#ab63fa",
           "#FFA15A",
           "#19d3f3",
           "#FF6692",
           "#B6E880",
           "#FF97FF",
           "#FECB52"
          ],
          "font": {
           "color": "#2a3f5f"
          },
          "geo": {
           "bgcolor": "white",
           "lakecolor": "white",
           "landcolor": "#E5ECF6",
           "showlakes": true,
           "showland": true,
           "subunitcolor": "white"
          },
          "hoverlabel": {
           "align": "left"
          },
          "hovermode": "closest",
          "mapbox": {
           "style": "light"
          },
          "paper_bgcolor": "white",
          "plot_bgcolor": "#E5ECF6",
          "polar": {
           "angularaxis": {
            "gridcolor": "white",
            "linecolor": "white",
            "ticks": ""
           },
           "bgcolor": "#E5ECF6",
           "radialaxis": {
            "gridcolor": "white",
            "linecolor": "white",
            "ticks": ""
           }
          },
          "scene": {
           "xaxis": {
            "backgroundcolor": "#E5ECF6",
            "gridcolor": "white",
            "gridwidth": 2,
            "linecolor": "white",
            "showbackground": true,
            "ticks": "",
            "zerolinecolor": "white"
           },
           "yaxis": {
            "backgroundcolor": "#E5ECF6",
            "gridcolor": "white",
            "gridwidth": 2,
            "linecolor": "white",
            "showbackground": true,
            "ticks": "",
            "zerolinecolor": "white"
           },
           "zaxis": {
            "backgroundcolor": "#E5ECF6",
            "gridcolor": "white",
            "gridwidth": 2,
            "linecolor": "white",
            "showbackground": true,
            "ticks": "",
            "zerolinecolor": "white"
           }
          },
          "shapedefaults": {
           "line": {
            "color": "#2a3f5f"
           }
          },
          "ternary": {
           "aaxis": {
            "gridcolor": "white",
            "linecolor": "white",
            "ticks": ""
           },
           "baxis": {
            "gridcolor": "white",
            "linecolor": "white",
            "ticks": ""
           },
           "bgcolor": "#E5ECF6",
           "caxis": {
            "gridcolor": "white",
            "linecolor": "white",
            "ticks": ""
           }
          },
          "title": {
           "x": 0.05
          },
          "xaxis": {
           "automargin": true,
           "gridcolor": "white",
           "linecolor": "white",
           "ticks": "",
           "title": {
            "standoff": 15
           },
           "zerolinecolor": "white",
           "zerolinewidth": 2
          },
          "yaxis": {
           "automargin": true,
           "gridcolor": "white",
           "linecolor": "white",
           "ticks": "",
           "title": {
            "standoff": 15
           },
           "zerolinecolor": "white",
           "zerolinewidth": 2
          }
         }
        },
        "title": {
         "text": "Relative Rating Differences",
         "x": 0.62
        },
        "width": 1000,
        "xaxis": {
         "tickformat": ".2f",
         "title": {
          "text": ""
         },
         "zeroline": false
        },
        "yaxis": {
         "categoryarray": [
          "CivilNGO",
          "EnergySector",
          "LabourUnion",
          "LocalGov",
          "Media",
          "Researchers",
          "CentralGov"
         ],
         "categoryorder": "array",
         "title": {
          "text": "Attribute Levels"
         }
        }
       }
      }
     },
     "metadata": {},
     "output_type": "display_data"
    }
   ],
   "source": [
    "import plotly.graph_objects as go\n",
    "\n",
    "# Assuming 'model' is the variable that holds your regression results\n",
    "# Extract the coefficients and standard errors for each attribute level\n",
    "att_1_levels = ['PhaseOut', 'Stop&Reduce', 'Stop&Maintain', 'StatusQuo']\n",
    "att_2_levels = ['HighInvestment&Int', 'HighInvestment&Int&Consideration', 'LowInvestment&LowConsideration', 'LowInvestment']\n",
    "att_3_levels = ['HealthEdu', 'EnergyAccess', 'LowPrices', 'Transfers', 'NothingSoc']\n",
    "att_4_levels = ['CreateJobs', 'EarlyPension', 'JobGuarantee', 'Retrain', 'NothingEco']\n",
    "att_5_levels = ['CivilNGO', 'EnergySector', 'LabourUnion', 'LocalGov', 'Media', 'Researchers', 'CentralGov']\n",
    "\n",
    "\n",
    "\n",
    "#Remember to add att_6\n",
    "att_levels = [att_5_levels, att_4_levels, att_3_levels, att_2_levels, att_1_levels]\n",
    "\n",
    "att_colors = ['red', 'blue', 'green', 'orange', 'purple']  # Colors for each attribute group\n",
    "\n",
    "fig = go.Figure()\n",
    "\n",
    "total_levels = sum(len(levels) for levels in att_levels)\n",
    "\n",
    "# Loop through each attribute group and add the data to the plot\n",
    "for i, levels in enumerate(att_levels):\n",
    "    att_coefficients = [model.params[f'att_{5-i}_{level}'] for level in levels]\n",
    "    att_standard_errors = [model.bse[f'att_{5-i}_{level}'] for level in levels]\n",
    "\n",
    "    relative_differences = [coeff - att_coefficients[-1] for coeff in att_coefficients]\n",
    "\n",
    "    fig.add_trace(go.Scatter(\n",
    "        x=relative_differences,\n",
    "        y=levels,\n",
    "        mode='markers',\n",
    "        error_x=dict(type='data', array=att_standard_errors, color=att_colors[i], thickness=1.5),\n",
    "        marker=dict(color='darkgray', size=10),\n",
    "        orientation='h',\n",
    "        showlegend = False,\n",
    "    ))\n",
    "\n",
    "    fig.add_shape(\n",
    "        type=\"rect\",\n",
    "        x0=-1.5,  # Set a fixed value for x0, which is left side of the plot\n",
    "        x1=1.5,  # Set the width of the shape to 1000 (right side of the plot)\n",
    "        y0=total_levels - sum(len(l) for l in att_levels[i:]),  # Set y0 to the starting level index\n",
    "        y1=total_levels - sum(len(l) for l in att_levels[i:]) + len(levels) - 1,  # Set y1 to the ending level index\n",
    "        fillcolor=att_colors[i],\n",
    "        opacity=0.1,  # Set the opacity for a light transparent effect\n",
    "        layer=\"below\",  # Place the rectangle below the scatter plot markers\n",
    "    )\n",
    "\n",
    "# Add a vertical line at x=0 for reference\n",
    "fig.add_shape(type=\"line\", x0=0, x1=0, y0=att_5_levels[0], y1=att_1_levels[-1], line=dict(color=\"gray\", width=1, dash='dash'))\n",
    "\n",
    "# Update the layout of the error bar plot\n",
    "fig.update_layout(\n",
    "    title='Relative Rating Differences',\n",
    "    xaxis_title='',\n",
    "    yaxis_title='Attribute Levels',\n",
    "    yaxis=dict(categoryorder='array', categoryarray=att_5_levels),  # Set the categoryorder for y-axis based on att_1_levels\n",
    "    xaxis=dict(tickformat='.2f', zeroline=False),  # Remove x-axis zeroline\n",
    "    showlegend=True,  # Show legend with attribute names\n",
    "    margin=dict(l=80, r=30, b=40, t=80),\n",
    "    height=600,  # Set the height of the plot to 600 pixels\n",
    "    width=1000,\n",
    "    title_x=0.62,\n",
    ")\n",
    "\n",
    "# Show the interactive error bar plot\n",
    "fig.show()\n"
   ]
  },
  {
   "attachments": {},
   "cell_type": "markdown",
   "metadata": {},
   "source": [
    "Make it into MM Marginal Means!"
   ]
  },
  {
   "attachments": {},
   "cell_type": "markdown",
   "metadata": {},
   "source": [
    "##### 1.2 Rating attributes with a Normalization Method.\n",
    "\n",
    "*Normalizing the coefficients involves transforming them to a common scale, typically between 0 and 1. This makes it easier to compare the relative importance of different attributes.*\n",
    "\n",
    "\n",
    "To aggregate the importance scores for different levels of the same attribute and obtain an overall importance score for each attribute, you can calculate a weighted average or sum of the importance scores of its individual levels. Here's how you can do it:\n",
    "\n",
    "Calculate Normalized Importance Scores (NIS) for Attribute Levels:\n",
    "\n",
    "Follow the normalization method as described earlier to calculate the normalized importance scores (NIS) for each attribute level.\n",
    "Aggregate Importance Scores for Each Attribute:\n",
    "\n",
    "a. Weighted Average Method:\n",
    "\n",
    "Calculate the weighted average importance score for each attribute by taking the sum of the products of each level's NIS and its corresponding weight (frequency or probability of that level's occurrence in the choice sets).\n",
    "This method considers both the relative importance of each level and its likelihood of being chosen in the experiment.\n",
    "b. Simple Sum Method:\n",
    "\n",
    "Sum up the normalized importance scores (NIS) of all levels within an attribute.\n",
    "This method treats all levels equally in terms of their contribution to the overall importance score.\n",
    "Attribute Importance Ranking:\n",
    "\n",
    "Rank the attributes based on the aggregated importance scores. Higher scores indicate greater importance.\n",
    "Example using the Weighted Average Method:\n",
    "\n",
    "Let's consider an example with attribute \"att_1\" from your regression results. You have four levels: \"PhaseOut,\" \"StatusQuo,\" \"Stop&Maintain,\" and \"Stop&Reduce.\" You've already calculated the normalized importance scores (NIS) for each level as follows:\n",
    "\n",
    "NIS(PhaseOut) = 0.8810 / 0.8810 = 1.0000\n",
    "NIS(StatusQuo) = 0.2979 / 0.8810 = 0.3379\n",
    "NIS(Stop&Maintain) = 0.1471 / 0.8810 = 0.1668\n",
    "NIS(Stop&Reduce) = 0.9077 / 0.8810 = 1.0302\n",
    "Let's assume that the frequency (or probability) of each level's occurrence in the choice sets is as follows:\n",
    "\n",
    "PhaseOut: 30%\n",
    "StatusQuo: 20%\n",
    "Stop&Maintain: 25%\n",
    "Stop&Reduce: 25%\n",
    "Now, calculate the weighted average importance score for \"att_1\":\n",
    "Weighted Average Importance Score for att_1 = (NIS(PhaseOut) * 0.30) + (NIS(StatusQuo) * 0.20) + (NIS(Stop&Maintain) * 0.25) + (NIS(Stop&Reduce) * 0.25)\n",
    "Weighted Average Importance Score for att_1 = (1.0000 * 0.30) + (0.3379 * 0.20) + (0.1668 * 0.25) + (1.0302 * 0.25) ≈ 0.5623\n",
    "\n",
    "Repeat this process for each attribute to obtain aggregated importance scores, and then rank the attributes based on these scores.\n",
    "\n",
    "Remember that the choice of the weighting scheme (equal weights, frequency-based weights, or other relevant weights) depends on your specific context and research design."
   ]
  },
  {
   "attachments": {},
   "cell_type": "markdown",
   "metadata": {},
   "source": [
    "##### Plot freq"
   ]
  },
  {
   "cell_type": "code",
   "execution_count": 25,
   "metadata": {},
   "outputs": [],
   "source": [
    "freq = pd.read_csv(OUT / 'data' / 'data_freq.csv')"
   ]
  },
  {
   "attachments": {},
   "cell_type": "markdown",
   "metadata": {},
   "source": [
    "NIS"
   ]
  },
  {
   "cell_type": "code",
   "execution_count": null,
   "metadata": {},
   "outputs": [],
   "source": []
  },
  {
   "attachments": {},
   "cell_type": "markdown",
   "metadata": {},
   "source": [
    "##### 1.3 General support plot for phase out"
   ]
  },
  {
   "cell_type": "code",
   "execution_count": null,
   "metadata": {},
   "outputs": [],
   "source": []
  },
  {
   "attachments": {},
   "cell_type": "markdown",
   "metadata": {},
   "source": [
    "##### 1.4 Maybe: PCA Analysis:\n",
    "\n",
    "Data Preparation:\n",
    "\n",
    "Prepare your DCE data matrix, where each row represents a respondent's choice set, and columns represent different attribute levels.\n",
    "Standardization:\n",
    "\n",
    "Standardize the data by subtracting the mean and dividing by the standard deviation for each attribute. This ensures that all attributes are on similar scales and prevents attributes with larger variances from dominating the PCA.\n",
    "Perform PCA:\n",
    "\n",
    "Apply PCA to the standardized data matrix. The output of PCA will include the principal components and their associated eigenvalues.\n",
    "Interpretation:\n",
    "\n",
    "Examine the explained variance for each principal component. This helps you understand how much of the total variance in the data each component explains.\n",
    "Look at the loadings (weights) of the original attributes on each principal component. These loadings indicate the strength and direction of the relationship between the attribute and the principal component.\n",
    "Attribute Relationships:\n",
    "\n",
    "PCA can provide insights into how attributes are related to each other. For example, attributes that have high loadings on the same principal component are positively correlated, while those with opposite loadings are negatively correlated.\n",
    "Decision Support:\n",
    "\n",
    "While PCA itself may not directly provide attribute importance scores for policy package choices, the derived principal components can help you identify patterns or relationships that might influence choices. These insights can then be used in conjunction with other methods to understand attribute importance."
   ]
  }
 ],
 "metadata": {
  "kernelspec": {
   "display_name": "conjoint",
   "language": "python",
   "name": "python3"
  },
  "language_info": {
   "codemirror_mode": {
    "name": "ipython",
    "version": 3
   },
   "file_extension": ".py",
   "mimetype": "text/x-python",
   "name": "python",
   "nbconvert_exporter": "python",
   "pygments_lexer": "ipython3",
   "version": "3.11.4"
  },
  "orig_nbformat": 4
 },
 "nbformat": 4,
 "nbformat_minor": 2
}
