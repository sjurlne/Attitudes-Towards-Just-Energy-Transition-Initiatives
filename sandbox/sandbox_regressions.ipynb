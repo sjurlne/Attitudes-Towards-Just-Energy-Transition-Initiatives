{
 "cells": [
  {
   "cell_type": "code",
   "execution_count": 1,
   "metadata": {},
   "outputs": [],
   "source": [
    "%load_ext autoreload\n",
    "%autoreload 2\n",
    "\n",
    "import pandas as pd\n",
    "import statsmodels.api as sm\n",
    "import os\n",
    "import sys\n",
    "\n",
    "sys.path.insert(0, os.path.abspath('../developer'))\n",
    "\n",
    "from config import MOCK_DATA, CODE, OUT\n",
    "from developer.utilities import read_yaml\n",
    "from developer.analysis.model import load_model\n",
    "import re"
   ]
  },
  {
   "cell_type": "code",
   "execution_count": 10,
   "metadata": {},
   "outputs": [],
   "source": [
    "df_total = pd.read_csv(OUT / \"data\" / \"data_regression.csv\")"
   ]
  },
  {
   "attachments": {},
   "cell_type": "markdown",
   "metadata": {},
   "source": [
    "##### regression"
   ]
  },
  {
   "cell_type": "code",
   "execution_count": 5,
   "metadata": {},
   "outputs": [],
   "source": [
    "# Select the design matrix (explanatory variables) and the outcome variables\n",
    "outcome = 'utility'\n",
    "explanatory_vars = [col for col in df_total.columns if \"att\" in col]\n",
    "\n",
    "X = df_total[explanatory_vars].astype(int)\n",
    "y = df_total[outcome].astype(int)"
   ]
  },
  {
   "cell_type": "code",
   "execution_count": 6,
   "metadata": {},
   "outputs": [],
   "source": [
    "X = sm.add_constant(X)\n",
    "model = sm.OLS(y, X).fit()"
   ]
  },
  {
   "cell_type": "code",
   "execution_count": null,
   "metadata": {},
   "outputs": [],
   "source": []
  },
  {
   "cell_type": "code",
   "execution_count": 7,
   "metadata": {},
   "outputs": [
    {
     "name": "stdout",
     "output_type": "stream",
     "text": [
      "Regression results for Attribute A:\n",
      "                            OLS Regression Results                            \n",
      "==============================================================================\n",
      "Dep. Variable:                utility   R-squared:                       0.171\n",
      "Model:                            OLS   Adj. R-squared:                  0.022\n",
      "Method:                 Least Squares   F-statistic:                     1.144\n",
      "Date:                Mon, 07 Aug 2023   Prob (F-statistic):              0.317\n",
      "Time:                        12:38:38   Log-Likelihood:                -218.23\n",
      "No. Observations:                 132   AIC:                             478.5\n",
      "Df Residuals:                     111   BIC:                             539.0\n",
      "Df Model:                          20                                         \n",
      "Covariance Type:            nonrobust                                         \n",
      "==========================================================================================================\n",
      "                                             coef    std err          t      P>|t|      [0.025      0.975]\n",
      "----------------------------------------------------------------------------------------------------------\n",
      "const                                      2.2338      0.062     36.128      0.000       2.111       2.356\n",
      "att_1_PhaseOut                             0.8810      0.237      3.718      0.000       0.411       1.351\n",
      "att_1_StatusQuo                            0.2979      0.221      1.347      0.181      -0.140       0.736\n",
      "att_1_Stop&Maintain                        0.1471      0.233      0.631      0.529      -0.314       0.609\n",
      "att_1_Stop&Reduce                          0.9077      0.213      4.264      0.000       0.486       1.330\n",
      "att_2_HighInvestment&Int                   0.3940      0.229      1.718      0.089      -0.060       0.848\n",
      "att_2_HighInvestment&Int&Consideration     0.5361      0.228      2.355      0.020       0.085       0.987\n",
      "att_2_LowInvestment                        0.5776      0.220      2.628      0.010       0.142       1.013\n",
      "att_2_LowInvestment&LowConsideration       0.7261      0.229      3.169      0.002       0.272       1.180\n",
      "att_3_EnergyAccess                         0.0403      0.254      0.158      0.874      -0.464       0.545\n",
      "att_3_HealthEdu                            0.2461      0.238      1.034      0.303      -0.225       0.718\n",
      "att_3_LowPrices                            0.4633      0.293      1.579      0.117      -0.118       1.045\n",
      "att_3_NothingSoc                           0.4679      0.254      1.843      0.068      -0.035       0.971\n",
      "att_3_Transfers                            1.0162      0.282      3.606      0.000       0.458       1.575\n",
      "att_4_CreateJobs                           0.4902      0.250      1.958      0.053      -0.006       0.986\n",
      "att_4_EarlyPension                         0.7348      0.286      2.569      0.012       0.168       1.302\n",
      "att_4_JobGuarantee                         0.5672      0.256      2.219      0.029       0.061       1.074\n",
      "att_4_NothingEco                           0.6819      0.243      2.801      0.006       0.200       1.164\n",
      "att_4_Retrain                             -0.2403      0.283     -0.848      0.398      -0.802       0.321\n",
      "att_5_CentralGov                           0.4544      0.341      1.332      0.186      -0.222       1.130\n",
      "att_5_CivilNGO                             0.5033      0.305      1.650      0.102      -0.101       1.108\n",
      "att_5_EnergySector                         0.4210      0.310      1.358      0.177      -0.193       1.035\n",
      "att_5_LabourUnion                          0.9499      0.316      3.002      0.003       0.323       1.577\n",
      "att_5_LocalGov                             0.0354      0.309      0.115      0.909      -0.576       0.647\n",
      "att_5_Media                                0.2015      0.319      0.632      0.529      -0.430       0.833\n",
      "att_5_Researchers                         -0.3317      0.307     -1.081      0.282      -0.940       0.276\n",
      "==============================================================================\n",
      "Omnibus:                        4.919   Durbin-Watson:                   1.884\n",
      "Prob(Omnibus):                  0.085   Jarque-Bera (JB):                4.211\n",
      "Skew:                          -0.347   Prob(JB):                        0.122\n",
      "Kurtosis:                       2.467   Cond. No.                     2.05e+16\n",
      "==============================================================================\n",
      "\n",
      "Notes:\n",
      "[1] Standard Errors assume that the covariance matrix of the errors is correctly specified.\n",
      "[2] The smallest eigenvalue is 6.49e-31. This might indicate that there are\n",
      "strong multicollinearity problems or that the design matrix is singular.\n"
     ]
    }
   ],
   "source": [
    "print(\"Regression results for Attribute A:\")\n",
    "print(model.summary())"
   ]
  },
  {
   "attachments": {},
   "cell_type": "markdown",
   "metadata": {},
   "source": [
    "## Plots"
   ]
  },
  {
   "attachments": {},
   "cell_type": "markdown",
   "metadata": {},
   "source": [
    "##### 1.1 Relative support plot"
   ]
  },
  {
   "cell_type": "code",
   "execution_count": 9,
   "metadata": {},
   "outputs": [
    {
     "data": {
      "application/vnd.plotly.v1+json": {
       "config": {
        "plotlyServerURL": "https://plot.ly"
       },
       "data": [
        {
         "error_x": {
          "array": [
           0.3050475303789823,
           0.3100215719797042,
           0.3164082074039923,
           0.30866138888493005,
           0.3189161935138902,
           0.3067886369870438,
           0.3410815878691046
          ],
          "color": "red",
          "thickness": 1.5,
          "type": "data"
         },
         "marker": {
          "color": "darkgray",
          "size": 10
         },
         "mode": "markers",
         "orientation": "h",
         "showlegend": false,
         "type": "scatter",
         "x": [
          0.048945131199816805,
          -0.03335071268133749,
          0.4954906626988329,
          -0.4189673310567721,
          -0.25284262315286976,
          -0.7860495472626825,
          0
         ],
         "y": [
          "CivilNGO",
          "EnergySector",
          "LabourUnion",
          "LocalGov",
          "Media",
          "Researchers",
          "CentralGov"
         ]
        },
        {
         "error_x": {
          "array": [
           0.25037783709854394,
           0.28601055967637457,
           0.25562921353517926,
           0.28332135173200057,
           0.24339392960288544
          ],
          "color": "blue",
          "thickness": 1.5,
          "type": "data"
         },
         "marker": {
          "color": "darkgray",
          "size": 10
         },
         "mode": "markers",
         "orientation": "h",
         "showlegend": false,
         "type": "scatter",
         "x": [
          -0.19164244594187413,
          0.05294930971743306,
          -0.1146522052262069,
          -0.9221451119733599,
          0
         ],
         "y": [
          "CreateJobs",
          "EarlyPension",
          "JobGuarantee",
          "Retrain",
          "NothingEco"
         ]
        },
        {
         "error_x": {
          "array": [
           0.2379993404934021,
           0.25449235051475566,
           0.29343692934058024,
           0.2817698273444425,
           0.2539040917485906
          ],
          "color": "green",
          "thickness": 1.5,
          "type": "data"
         },
         "marker": {
          "color": "darkgray",
          "size": 10
         },
         "mode": "markers",
         "orientation": "h",
         "showlegend": false,
         "type": "scatter",
         "x": [
          -0.22173140358769966,
          -0.4275460563387238,
          -0.004570504774608963,
          0.5483418999958461,
          0
         ],
         "y": [
          "HealthEdu",
          "EnergyAccess",
          "LowPrices",
          "Transfers",
          "NothingSoc"
         ]
        },
        {
         "error_x": {
          "array": [
           0.22931999561782448,
           0.22765234196356515,
           0.2291010639494975,
           0.21978935803291358
          ],
          "color": "orange",
          "thickness": 1.5,
          "type": "data"
         },
         "marker": {
          "color": "darkgray",
          "size": 10
         },
         "mode": "markers",
         "orientation": "h",
         "showlegend": false,
         "type": "scatter",
         "x": [
          -0.18367129883242972,
          -0.04155349887244131,
          0.14846593602052582,
          0
         ],
         "y": [
          "HighInvestment&Int",
          "HighInvestment&Int&Consideration",
          "LowInvestment&LowConsideration",
          "LowInvestment"
         ]
        },
        {
         "error_x": {
          "array": [
           0.23696259011580023,
           0.21289500538742825,
           0.23290995034621137,
           0.2212197943301435
          ],
          "color": "purple",
          "thickness": 1.5,
          "type": "data"
         },
         "marker": {
          "color": "darkgray",
          "size": 10
         },
         "mode": "markers",
         "orientation": "h",
         "showlegend": false,
         "type": "scatter",
         "x": [
          0.5831157887463306,
          0.6098039952864579,
          -0.1508511830299889,
          0
         ],
         "y": [
          "PhaseOut",
          "Stop&Reduce",
          "Stop&Maintain",
          "StatusQuo"
         ]
        }
       ],
       "layout": {
        "height": 600,
        "margin": {
         "b": 40,
         "l": 80,
         "r": 30,
         "t": 80
        },
        "shapes": [
         {
          "fillcolor": "red",
          "layer": "below",
          "opacity": 0.1,
          "type": "rect",
          "x0": -1.5,
          "x1": 1.5,
          "y0": 0,
          "y1": 6
         },
         {
          "fillcolor": "blue",
          "layer": "below",
          "opacity": 0.1,
          "type": "rect",
          "x0": -1.5,
          "x1": 1.5,
          "y0": 7,
          "y1": 11
         },
         {
          "fillcolor": "green",
          "layer": "below",
          "opacity": 0.1,
          "type": "rect",
          "x0": -1.5,
          "x1": 1.5,
          "y0": 12,
          "y1": 16
         },
         {
          "fillcolor": "orange",
          "layer": "below",
          "opacity": 0.1,
          "type": "rect",
          "x0": -1.5,
          "x1": 1.5,
          "y0": 17,
          "y1": 20
         },
         {
          "fillcolor": "purple",
          "layer": "below",
          "opacity": 0.1,
          "type": "rect",
          "x0": -1.5,
          "x1": 1.5,
          "y0": 21,
          "y1": 24
         },
         {
          "line": {
           "color": "gray",
           "dash": "dash",
           "width": 1
          },
          "type": "line",
          "x0": 0,
          "x1": 0,
          "y0": "CivilNGO",
          "y1": "StatusQuo"
         }
        ],
        "showlegend": true,
        "template": {
         "data": {
          "bar": [
           {
            "error_x": {
             "color": "#2a3f5f"
            },
            "error_y": {
             "color": "#2a3f5f"
            },
            "marker": {
             "line": {
              "color": "#E5ECF6",
              "width": 0.5
             },
             "pattern": {
              "fillmode": "overlay",
              "size": 10,
              "solidity": 0.2
             }
            },
            "type": "bar"
           }
          ],
          "barpolar": [
           {
            "marker": {
             "line": {
              "color": "#E5ECF6",
              "width": 0.5
             },
             "pattern": {
              "fillmode": "overlay",
              "size": 10,
              "solidity": 0.2
             }
            },
            "type": "barpolar"
           }
          ],
          "carpet": [
           {
            "aaxis": {
             "endlinecolor": "#2a3f5f",
             "gridcolor": "white",
             "linecolor": "white",
             "minorgridcolor": "white",
             "startlinecolor": "#2a3f5f"
            },
            "baxis": {
             "endlinecolor": "#2a3f5f",
             "gridcolor": "white",
             "linecolor": "white",
             "minorgridcolor": "white",
             "startlinecolor": "#2a3f5f"
            },
            "type": "carpet"
           }
          ],
          "choropleth": [
           {
            "colorbar": {
             "outlinewidth": 0,
             "ticks": ""
            },
            "type": "choropleth"
           }
          ],
          "contour": [
           {
            "colorbar": {
             "outlinewidth": 0,
             "ticks": ""
            },
            "colorscale": [
             [
              0,
              "#0d0887"
             ],
             [
              0.1111111111111111,
              "#46039f"
             ],
             [
              0.2222222222222222,
              "#7201a8"
             ],
             [
              0.3333333333333333,
              "#9c179e"
             ],
             [
              0.4444444444444444,
              "#bd3786"
             ],
             [
              0.5555555555555556,
              "#d8576b"
             ],
             [
              0.6666666666666666,
              "#ed7953"
             ],
             [
              0.7777777777777778,
              "#fb9f3a"
             ],
             [
              0.8888888888888888,
              "#fdca26"
             ],
             [
              1,
              "#f0f921"
             ]
            ],
            "type": "contour"
           }
          ],
          "contourcarpet": [
           {
            "colorbar": {
             "outlinewidth": 0,
             "ticks": ""
            },
            "type": "contourcarpet"
           }
          ],
          "heatmap": [
           {
            "colorbar": {
             "outlinewidth": 0,
             "ticks": ""
            },
            "colorscale": [
             [
              0,
              "#0d0887"
             ],
             [
              0.1111111111111111,
              "#46039f"
             ],
             [
              0.2222222222222222,
              "#7201a8"
             ],
             [
              0.3333333333333333,
              "#9c179e"
             ],
             [
              0.4444444444444444,
              "#bd3786"
             ],
             [
              0.5555555555555556,
              "#d8576b"
             ],
             [
              0.6666666666666666,
              "#ed7953"
             ],
             [
              0.7777777777777778,
              "#fb9f3a"
             ],
             [
              0.8888888888888888,
              "#fdca26"
             ],
             [
              1,
              "#f0f921"
             ]
            ],
            "type": "heatmap"
           }
          ],
          "heatmapgl": [
           {
            "colorbar": {
             "outlinewidth": 0,
             "ticks": ""
            },
            "colorscale": [
             [
              0,
              "#0d0887"
             ],
             [
              0.1111111111111111,
              "#46039f"
             ],
             [
              0.2222222222222222,
              "#7201a8"
             ],
             [
              0.3333333333333333,
              "#9c179e"
             ],
             [
              0.4444444444444444,
              "#bd3786"
             ],
             [
              0.5555555555555556,
              "#d8576b"
             ],
             [
              0.6666666666666666,
              "#ed7953"
             ],
             [
              0.7777777777777778,
              "#fb9f3a"
             ],
             [
              0.8888888888888888,
              "#fdca26"
             ],
             [
              1,
              "#f0f921"
             ]
            ],
            "type": "heatmapgl"
           }
          ],
          "histogram": [
           {
            "marker": {
             "pattern": {
              "fillmode": "overlay",
              "size": 10,
              "solidity": 0.2
             }
            },
            "type": "histogram"
           }
          ],
          "histogram2d": [
           {
            "colorbar": {
             "outlinewidth": 0,
             "ticks": ""
            },
            "colorscale": [
             [
              0,
              "#0d0887"
             ],
             [
              0.1111111111111111,
              "#46039f"
             ],
             [
              0.2222222222222222,
              "#7201a8"
             ],
             [
              0.3333333333333333,
              "#9c179e"
             ],
             [
              0.4444444444444444,
              "#bd3786"
             ],
             [
              0.5555555555555556,
              "#d8576b"
             ],
             [
              0.6666666666666666,
              "#ed7953"
             ],
             [
              0.7777777777777778,
              "#fb9f3a"
             ],
             [
              0.8888888888888888,
              "#fdca26"
             ],
             [
              1,
              "#f0f921"
             ]
            ],
            "type": "histogram2d"
           }
          ],
          "histogram2dcontour": [
           {
            "colorbar": {
             "outlinewidth": 0,
             "ticks": ""
            },
            "colorscale": [
             [
              0,
              "#0d0887"
             ],
             [
              0.1111111111111111,
              "#46039f"
             ],
             [
              0.2222222222222222,
              "#7201a8"
             ],
             [
              0.3333333333333333,
              "#9c179e"
             ],
             [
              0.4444444444444444,
              "#bd3786"
             ],
             [
              0.5555555555555556,
              "#d8576b"
             ],
             [
              0.6666666666666666,
              "#ed7953"
             ],
             [
              0.7777777777777778,
              "#fb9f3a"
             ],
             [
              0.8888888888888888,
              "#fdca26"
             ],
             [
              1,
              "#f0f921"
             ]
            ],
            "type": "histogram2dcontour"
           }
          ],
          "mesh3d": [
           {
            "colorbar": {
             "outlinewidth": 0,
             "ticks": ""
            },
            "type": "mesh3d"
           }
          ],
          "parcoords": [
           {
            "line": {
             "colorbar": {
              "outlinewidth": 0,
              "ticks": ""
             }
            },
            "type": "parcoords"
           }
          ],
          "pie": [
           {
            "automargin": true,
            "type": "pie"
           }
          ],
          "scatter": [
           {
            "fillpattern": {
             "fillmode": "overlay",
             "size": 10,
             "solidity": 0.2
            },
            "type": "scatter"
           }
          ],
          "scatter3d": [
           {
            "line": {
             "colorbar": {
              "outlinewidth": 0,
              "ticks": ""
             }
            },
            "marker": {
             "colorbar": {
              "outlinewidth": 0,
              "ticks": ""
             }
            },
            "type": "scatter3d"
           }
          ],
          "scattercarpet": [
           {
            "marker": {
             "colorbar": {
              "outlinewidth": 0,
              "ticks": ""
             }
            },
            "type": "scattercarpet"
           }
          ],
          "scattergeo": [
           {
            "marker": {
             "colorbar": {
              "outlinewidth": 0,
              "ticks": ""
             }
            },
            "type": "scattergeo"
           }
          ],
          "scattergl": [
           {
            "marker": {
             "colorbar": {
              "outlinewidth": 0,
              "ticks": ""
             }
            },
            "type": "scattergl"
           }
          ],
          "scattermapbox": [
           {
            "marker": {
             "colorbar": {
              "outlinewidth": 0,
              "ticks": ""
             }
            },
            "type": "scattermapbox"
           }
          ],
          "scatterpolar": [
           {
            "marker": {
             "colorbar": {
              "outlinewidth": 0,
              "ticks": ""
             }
            },
            "type": "scatterpolar"
           }
          ],
          "scatterpolargl": [
           {
            "marker": {
             "colorbar": {
              "outlinewidth": 0,
              "ticks": ""
             }
            },
            "type": "scatterpolargl"
           }
          ],
          "scatterternary": [
           {
            "marker": {
             "colorbar": {
              "outlinewidth": 0,
              "ticks": ""
             }
            },
            "type": "scatterternary"
           }
          ],
          "surface": [
           {
            "colorbar": {
             "outlinewidth": 0,
             "ticks": ""
            },
            "colorscale": [
             [
              0,
              "#0d0887"
             ],
             [
              0.1111111111111111,
              "#46039f"
             ],
             [
              0.2222222222222222,
              "#7201a8"
             ],
             [
              0.3333333333333333,
              "#9c179e"
             ],
             [
              0.4444444444444444,
              "#bd3786"
             ],
             [
              0.5555555555555556,
              "#d8576b"
             ],
             [
              0.6666666666666666,
              "#ed7953"
             ],
             [
              0.7777777777777778,
              "#fb9f3a"
             ],
             [
              0.8888888888888888,
              "#fdca26"
             ],
             [
              1,
              "#f0f921"
             ]
            ],
            "type": "surface"
           }
          ],
          "table": [
           {
            "cells": {
             "fill": {
              "color": "#EBF0F8"
             },
             "line": {
              "color": "white"
             }
            },
            "header": {
             "fill": {
              "color": "#C8D4E3"
             },
             "line": {
              "color": "white"
             }
            },
            "type": "table"
           }
          ]
         },
         "layout": {
          "annotationdefaults": {
           "arrowcolor": "#2a3f5f",
           "arrowhead": 0,
           "arrowwidth": 1
          },
          "autotypenumbers": "strict",
          "coloraxis": {
           "colorbar": {
            "outlinewidth": 0,
            "ticks": ""
           }
          },
          "colorscale": {
           "diverging": [
            [
             0,
             "#8e0152"
            ],
            [
             0.1,
             "#c51b7d"
            ],
            [
             0.2,
             "#de77ae"
            ],
            [
             0.3,
             "#f1b6da"
            ],
            [
             0.4,
             "#fde0ef"
            ],
            [
             0.5,
             "#f7f7f7"
            ],
            [
             0.6,
             "#e6f5d0"
            ],
            [
             0.7,
             "#b8e186"
            ],
            [
             0.8,
             "#7fbc41"
            ],
            [
             0.9,
             "#4d9221"
            ],
            [
             1,
             "#276419"
            ]
           ],
           "sequential": [
            [
             0,
             "#0d0887"
            ],
            [
             0.1111111111111111,
             "#46039f"
            ],
            [
             0.2222222222222222,
             "#7201a8"
            ],
            [
             0.3333333333333333,
             "#9c179e"
            ],
            [
             0.4444444444444444,
             "#bd3786"
            ],
            [
             0.5555555555555556,
             "#d8576b"
            ],
            [
             0.6666666666666666,
             "#ed7953"
            ],
            [
             0.7777777777777778,
             "#fb9f3a"
            ],
            [
             0.8888888888888888,
             "#fdca26"
            ],
            [
             1,
             "#f0f921"
            ]
           ],
           "sequentialminus": [
            [
             0,
             "#0d0887"
            ],
            [
             0.1111111111111111,
             "#46039f"
            ],
            [
             0.2222222222222222,
             "#7201a8"
            ],
            [
             0.3333333333333333,
             "#9c179e"
            ],
            [
             0.4444444444444444,
             "#bd3786"
            ],
            [
             0.5555555555555556,
             "#d8576b"
            ],
            [
             0.6666666666666666,
             "#ed7953"
            ],
            [
             0.7777777777777778,
             "#fb9f3a"
            ],
            [
             0.8888888888888888,
             "#fdca26"
            ],
            [
             1,
             "#f0f921"
            ]
           ]
          },
          "colorway": [
           "#636efa",
           "#EF553B",
           "#00cc96",
           "#ab63fa",
           "#FFA15A",
           "#19d3f3",
           "#FF6692",
           "#B6E880",
           "#FF97FF",
           "#FECB52"
          ],
          "font": {
           "color": "#2a3f5f"
          },
          "geo": {
           "bgcolor": "white",
           "lakecolor": "white",
           "landcolor": "#E5ECF6",
           "showlakes": true,
           "showland": true,
           "subunitcolor": "white"
          },
          "hoverlabel": {
           "align": "left"
          },
          "hovermode": "closest",
          "mapbox": {
           "style": "light"
          },
          "paper_bgcolor": "white",
          "plot_bgcolor": "#E5ECF6",
          "polar": {
           "angularaxis": {
            "gridcolor": "white",
            "linecolor": "white",
            "ticks": ""
           },
           "bgcolor": "#E5ECF6",
           "radialaxis": {
            "gridcolor": "white",
            "linecolor": "white",
            "ticks": ""
           }
          },
          "scene": {
           "xaxis": {
            "backgroundcolor": "#E5ECF6",
            "gridcolor": "white",
            "gridwidth": 2,
            "linecolor": "white",
            "showbackground": true,
            "ticks": "",
            "zerolinecolor": "white"
           },
           "yaxis": {
            "backgroundcolor": "#E5ECF6",
            "gridcolor": "white",
            "gridwidth": 2,
            "linecolor": "white",
            "showbackground": true,
            "ticks": "",
            "zerolinecolor": "white"
           },
           "zaxis": {
            "backgroundcolor": "#E5ECF6",
            "gridcolor": "white",
            "gridwidth": 2,
            "linecolor": "white",
            "showbackground": true,
            "ticks": "",
            "zerolinecolor": "white"
           }
          },
          "shapedefaults": {
           "line": {
            "color": "#2a3f5f"
           }
          },
          "ternary": {
           "aaxis": {
            "gridcolor": "white",
            "linecolor": "white",
            "ticks": ""
           },
           "baxis": {
            "gridcolor": "white",
            "linecolor": "white",
            "ticks": ""
           },
           "bgcolor": "#E5ECF6",
           "caxis": {
            "gridcolor": "white",
            "linecolor": "white",
            "ticks": ""
           }
          },
          "title": {
           "x": 0.05
          },
          "xaxis": {
           "automargin": true,
           "gridcolor": "white",
           "linecolor": "white",
           "ticks": "",
           "title": {
            "standoff": 15
           },
           "zerolinecolor": "white",
           "zerolinewidth": 2
          },
          "yaxis": {
           "automargin": true,
           "gridcolor": "white",
           "linecolor": "white",
           "ticks": "",
           "title": {
            "standoff": 15
           },
           "zerolinecolor": "white",
           "zerolinewidth": 2
          }
         }
        },
        "title": {
         "text": "Relative Rating Differences",
         "x": 0.62
        },
        "width": 1000,
        "xaxis": {
         "tickformat": ".2f",
         "title": {
          "text": ""
         },
         "zeroline": false
        },
        "yaxis": {
         "categoryarray": [
          "CivilNGO",
          "EnergySector",
          "LabourUnion",
          "LocalGov",
          "Media",
          "Researchers",
          "CentralGov"
         ],
         "categoryorder": "array",
         "title": {
          "text": "Attribute Levels"
         }
        }
       }
      }
     },
     "metadata": {},
     "output_type": "display_data"
    }
   ],
   "source": [
    "import plotly.graph_objects as go\n",
    "\n",
    "# Assuming 'model' is the variable that holds your regression results\n",
    "# Extract the coefficients and standard errors for each attribute level\n",
    "att_1_levels = ['PhaseOut', 'Stop&Reduce', 'Stop&Maintain', 'StatusQuo']\n",
    "att_2_levels = ['HighInvestment&Int', 'HighInvestment&Int&Consideration', 'LowInvestment&LowConsideration', 'LowInvestment']\n",
    "att_3_levels = ['HealthEdu', 'EnergyAccess', 'LowPrices', 'Transfers', 'NothingSoc']\n",
    "att_4_levels = ['CreateJobs', 'EarlyPension', 'JobGuarantee', 'Retrain', 'NothingEco']\n",
    "att_5_levels = ['CivilNGO', 'EnergySector', 'LabourUnion', 'LocalGov', 'Media', 'Researchers', 'CentralGov']\n",
    "\n",
    "att_levels = [att_5_levels, att_4_levels, att_3_levels, att_2_levels, att_1_levels]\n",
    "\n",
    "att_colors = ['red', 'blue', 'green', 'orange', 'purple']  # Colors for each attribute group\n",
    "\n",
    "fig = go.Figure()\n",
    "\n",
    "total_levels = sum(len(levels) for levels in att_levels)\n",
    "\n",
    "# Loop through each attribute group and add the data to the plot\n",
    "for i, levels in enumerate(att_levels):\n",
    "    att_coefficients = [model.params[f'att_{5-i}_{level}'] for level in levels]\n",
    "    att_standard_errors = [model.bse[f'att_{5-i}_{level}'] for level in levels]\n",
    "\n",
    "    relative_differences = [coeff - att_coefficients[-1] for coeff in att_coefficients]\n",
    "\n",
    "    fig.add_trace(go.Scatter(\n",
    "        x=relative_differences,\n",
    "        y=levels,\n",
    "        mode='markers',\n",
    "        error_x=dict(type='data', array=att_standard_errors, color=att_colors[i], thickness=1.5),\n",
    "        marker=dict(color='darkgray', size=10),\n",
    "        orientation='h',\n",
    "        showlegend = False,\n",
    "    ))\n",
    "\n",
    "    fig.add_shape(\n",
    "        type=\"rect\",\n",
    "        x0=-1.5,  # Set a fixed value for x0, which is left side of the plot\n",
    "        x1=1.5,  # Set the width of the shape to 1000 (right side of the plot)\n",
    "        y0=total_levels - sum(len(l) for l in att_levels[i:]),  # Set y0 to the starting level index\n",
    "        y1=total_levels - sum(len(l) for l in att_levels[i:]) + len(levels) - 1,  # Set y1 to the ending level index\n",
    "        fillcolor=att_colors[i],\n",
    "        opacity=0.1,  # Set the opacity for a light transparent effect\n",
    "        layer=\"below\",  # Place the rectangle below the scatter plot markers\n",
    "    )\n",
    "\n",
    "# Add a vertical line at x=0 for reference\n",
    "fig.add_shape(type=\"line\", x0=0, x1=0, y0=att_5_levels[0], y1=att_1_levels[-1], line=dict(color=\"gray\", width=1, dash='dash'))\n",
    "\n",
    "# Update the layout of the error bar plot\n",
    "fig.update_layout(\n",
    "    title='Relative Rating Differences',\n",
    "    xaxis_title='',\n",
    "    yaxis_title='Attribute Levels',\n",
    "    yaxis=dict(categoryorder='array', categoryarray=att_5_levels),  # Set the categoryorder for y-axis based on att_1_levels\n",
    "    xaxis=dict(tickformat='.2f', zeroline=False),  # Remove x-axis zeroline\n",
    "    showlegend=True,  # Show legend with attribute names\n",
    "    margin=dict(l=80, r=30, b=40, t=80),\n",
    "    height=600,  # Set the height of the plot to 600 pixels\n",
    "    width=1000,\n",
    "    title_x=0.62,\n",
    ")\n",
    "\n",
    "# Show the interactive error bar plot\n",
    "fig.show()\n"
   ]
  },
  {
   "cell_type": "code",
   "execution_count": null,
   "metadata": {},
   "outputs": [],
   "source": []
  }
 ],
 "metadata": {
  "kernelspec": {
   "display_name": "conjoint",
   "language": "python",
   "name": "python3"
  },
  "language_info": {
   "codemirror_mode": {
    "name": "ipython",
    "version": 3
   },
   "file_extension": ".py",
   "mimetype": "text/x-python",
   "name": "python",
   "nbconvert_exporter": "python",
   "pygments_lexer": "ipython3",
   "version": "3.11.4"
  },
  "orig_nbformat": 4
 },
 "nbformat": 4,
 "nbformat_minor": 2
}
