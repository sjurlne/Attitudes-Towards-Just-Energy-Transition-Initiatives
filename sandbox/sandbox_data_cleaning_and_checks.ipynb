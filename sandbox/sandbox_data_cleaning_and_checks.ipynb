{
 "cells": [
  {
   "cell_type": "code",
   "execution_count": 9,
   "metadata": {},
   "outputs": [
    {
     "name": "stdout",
     "output_type": "stream",
     "text": [
      "The autoreload extension is already loaded. To reload it, use:\n",
      "  %reload_ext autoreload\n"
     ]
    }
   ],
   "source": [
    "%load_ext autoreload\n",
    "%autoreload 2\n",
    "\n",
    "import pandas as pd\n",
    "import os\n",
    "import sys\n",
    "\n",
    "sys.path.insert(0, os.path.abspath('../developer'))\n",
    "\n",
    "from config import MOCK_DATA, CODE, OUT, IN\n",
    "from developer.utilities import read_yaml"
   ]
  },
  {
   "attachments": {},
   "cell_type": "markdown",
   "metadata": {},
   "source": [
    "#### Clean Data and make it into long format"
   ]
  },
  {
   "cell_type": "code",
   "execution_count": 3,
   "metadata": {},
   "outputs": [],
   "source": [
    "def clean_data(df, specs, renaming_specs):\n",
    "    \"\"\"Cleans and preprocesses the input DataFrame according to provided specifications.\n",
    "\n",
    "    Parameters:\n",
    "        df (pandas.DataFrame): The input DataFrame containing raw data to be cleaned.\n",
    "        specs (dict): A dictionary containing specifications for data cleaning and preprocessing.\n",
    "        renaming_specs (dict): A dictionary containing specifications for renaming attribute and utility names.\n",
    "\n",
    "    Returns:\n",
    "        pandas.DataFrame: A cleaned and preprocessed DataFrame following the specified operations.\n",
    "\n",
    "    See Also:\n",
    "        _inconsistency: An internal function used to compute the inconsistency indicator.\n",
    "\n",
    "    \"\"\"\n",
    "    # Initial Cleaning\n",
    "    df = df.drop([0, 1])\n",
    "    \n",
    "    df = df.replace(renaming_specs['utility'])\n",
    "    df = df.replace(renaming_specs['treatment'])\n",
    "    df = df.replace(renaming_specs['trust'])\n",
    "    df = df.replace(renaming_specs['locationFilter'])\n",
    "    for category in list(renaming_specs['attributes'].keys()):\n",
    "        if category == 'soc_distributive':\n",
    "            columns_to_replace = df.filter(like='att_2').columns\n",
    "            \n",
    "            # Replace values in selected columns\n",
    "            df[columns_to_replace] = df[columns_to_replace].replace(renaming_specs['attributes'][category])\n",
    "\n",
    "        else:    \n",
    "            df = df.replace(renaming_specs['attributes'][category])\n",
    "\n",
    "    # Keep Variables\n",
    "    variable_specs = specs[\"variables\"]\n",
    "    groups_of_vars = variable_specs.keys()\n",
    "    vars_to_keep=[]\n",
    "    for group in groups_of_vars:\n",
    "        vars_to_keep += variable_specs[group][\"names\"]\n",
    "\n",
    "    df = df[vars_to_keep]\n",
    "\n",
    "    # Transform types\n",
    "    for group in groups_of_vars:\n",
    "        if variable_specs[group][\"type\"] == 'categorical':\n",
    "            df[variable_specs[group][\"names\"]] = df[variable_specs[group][\"names\"]].astype('category')\n",
    "\n",
    "        elif variable_specs[group][\"type\"] == 'numerical':\n",
    "            df[variable_specs[group][\"names\"]] = df[variable_specs[group][\"names\"]].astype('int')\n",
    "\n",
    "        else:\n",
    "            continue\n",
    "\n",
    "    \n",
    "    df['ID'] = range(1, len(df) + 1)\n",
    "    #df = df.set_index(\"ID\")\n",
    "\n",
    "    # Add inconsistency indicator\n",
    "    df = _inconsistency(df)\n",
    "    df = _trust_ID(df)\n",
    "    df = _coal_region(df)\n",
    "\n",
    "    return df\n",
    "\n",
    "def _trust_ID(df):\n",
    "    df[['trust_in_governement_1', 'trust_in_governement_2', 'trust_in_governement_3']] = df[['trust_in_governement_1', 'trust_in_governement_2', 'trust_in_governement_3']].astype(int)\n",
    "    df['trust_average'] = df[['trust_in_governement_1', 'trust_in_governement_2', 'trust_in_governement_3']].mean(axis=1)\n",
    "    df['trust_ID'] = df['trust_average'] >= 5\n",
    "\n",
    "    return df\n",
    "\n",
    "def _inconsistency(df):\n",
    "    \"\"\"Looks for inconsistency between preferred package and  choices and likert rating\"\"\"\n",
    "    \n",
    "    for round in range(1,7):\n",
    "        df[f'likert_choice_{round}_A'] = df[f'likert_{round}_1'] >= df[f'likert_{round}_2']\n",
    "        df[f'likert_choice_{round}_B'] = df[f'likert_{round}_1'] <= df[f'likert_{round}_2']\n",
    "    \n",
    "        df[f'inconsistency_{round}'] = ((df[f'likert_choice_{round}_A'] == 0) & (df[f'choice_set_{round}'] == 'A')) | ((df[f'likert_choice_{round}_B'] == 0) & (df[f'choice_set_{round}'] == 'B'))\n",
    "    \n",
    "    return df\n",
    "\n",
    "def _coal_region(df):\n",
    "    df['coal_region'] = (df['locationFilter'] == 1).astype(int)\n",
    "\n",
    "    return df\n",
    "\n",
    "def make_long(df, renaming_specs):\n",
    "    \"\"\"Transforms the wide-format survey daya into a long-format DataFrame with repeated measures.\n",
    "\n",
    "    This function takes the wide format from the raw survey data, where each row represents a participant\n",
    "    and each column corresponds different settings for the different choice sets across multiple rounds. \n",
    "    It converts the DataFrame into a long format, with each row representing an individual choice round, \n",
    "    associated with the participant and the round.\n",
    "\n",
    "    Parameters:\n",
    "        df (pandas.DataFrame): The input DataFrame in wide format with participant data and multiple rounds.\n",
    "\n",
    "    Returns:\n",
    "        pandas.DataFrame: A long-format DataFrame.\n",
    "\n",
    "    \"\"\"\n",
    "\n",
    "    long_df = pd.DataFrame()\n",
    "    for round in range(1,7):\n",
    "        df_temp = df[['ID',\n",
    "                      'treatment_status',\n",
    "                      'trust_in_governement_1',\n",
    "                      'trust_in_governement_2',\n",
    "                      'trust_in_governement_3',\n",
    "                      'trust_average',\n",
    "                      'trust_ID',\n",
    "                      'coal_region',\n",
    "                      f'round_{round}_att_1_a', \n",
    "                      f'round_{round}_att_1_b',\n",
    "                      f'round_{round}_att_2_a', \n",
    "                      f'round_{round}_att_2_b', \n",
    "                      f'round_{round}_att_3_a', \n",
    "                      f'round_{round}_att_3_b', \n",
    "                      f'round_{round}_att_4_a', \n",
    "                      f'round_{round}_att_4_b', \n",
    "                      f'round_{round}_att_5_a', \n",
    "                      f'round_{round}_att_5_b', \n",
    "                      f'round_{round}_att_6_a', \n",
    "                      f'round_{round}_att_6_b',  \n",
    "                      f'choice_set_{round}', \n",
    "                      f'likert_{round}_1', \n",
    "                      f'likert_{round}_2',\n",
    "                      f'inconsistency_{round}']].copy()\n",
    "        df_temp['round'] = round\n",
    "        df_temp = df_temp.rename(columns={\n",
    "            f'round_{round}_att_1_a' : renaming_specs[\"new_names\"][0], \n",
    "            f'round_{round}_att_1_b' : renaming_specs[\"new_names\"][1],\n",
    "            f'round_{round}_att_2_a' : renaming_specs[\"new_names\"][2], \n",
    "            f'round_{round}_att_2_b' : renaming_specs[\"new_names\"][3], \n",
    "            f'round_{round}_att_3_a' : renaming_specs[\"new_names\"][4], \n",
    "            f'round_{round}_att_3_b' : renaming_specs[\"new_names\"][5], \n",
    "            f'round_{round}_att_4_a' : renaming_specs[\"new_names\"][6], \n",
    "            f'round_{round}_att_4_b' : renaming_specs[\"new_names\"][7], \n",
    "            f'round_{round}_att_5_a' : renaming_specs[\"new_names\"][8], \n",
    "            f'round_{round}_att_5_b' : renaming_specs[\"new_names\"][9], \n",
    "            f'round_{round}_att_6_a' : renaming_specs[\"new_names\"][10], \n",
    "            f'round_{round}_att_6_b' : renaming_specs[\"new_names\"][11], \n",
    "            f'choice_set_{round}' : 'choice', \n",
    "            f'likert_{round}_1' : 'utility_A',\n",
    "            f'likert_{round}_2' : 'utility_B',\n",
    "            f'inconsistency_{round}' :  'inconsistent'\n",
    "        })\n",
    "        long_df = pd.concat([long_df, df_temp])\n",
    "\n",
    "    first_columns = ['ID', 'round']\n",
    "    all_cols = long_df.columns\n",
    "\n",
    "    new_order = first_columns + [c for c in all_cols if c not in first_columns]\n",
    "\n",
    "    long_df = long_df[new_order]\n",
    "    long_df = long_df.set_index(['ID', 'round'])\n",
    "    long_df = long_df.sort_index()\n",
    "    \n",
    "    return long_df\n",
    "\n",
    "def make_dummy(df, renaming_specs):\n",
    "    # Create dummy variables for each attribute level\n",
    "    attribute_cols = renaming_specs['new_names']\n",
    "    df_with_dummies = pd.get_dummies(df, columns=attribute_cols)\n",
    "\n",
    "    return df_with_dummies\n",
    "\n",
    "def make_ready_for_regression(df_with_dummies):\n",
    "    A_columns = [c for c in list(df_with_dummies.columns) if \"_A\" in c] + [\"inconsistent\", \"treatment_status\", \"trust_ID\", \"coal_region\"]\n",
    "    B_columns = [c for c in list(df_with_dummies.columns) if \"_B\" in c] + [\"inconsistent\", \"treatment_status\", \"trust_ID\", \"coal_region\"]\n",
    "    new_columns = [col.replace( '_A', '') for col in A_columns]\n",
    "\n",
    "    df_A = df_with_dummies[A_columns].copy()\n",
    "    df_A.columns = new_columns\n",
    "    df_A[\"package\"] = \"A\"\n",
    "    df_B = df_with_dummies[B_columns].copy()\n",
    "    df_B.columns = new_columns\n",
    "    df_B[\"package\"] = \"B\"\n",
    "    total = pd.concat([df_A, df_B])\n",
    "    \n",
    "    total = total.reset_index()\n",
    "    total = total.set_index(['ID', 'round', 'package'])\n",
    "\n",
    "    total = _set_support_dummy(total)\n",
    "    total = standardize(total, 'utility')\n",
    "\n",
    "    return total\n",
    "\n",
    "def make_long_descriptive(df):\n",
    "    df = df.copy()\n",
    "    A_columns = [c for c in list(df.columns) if \"_A\" in c] + [\"inconsistent\", \"treatment_status\", \"trust_ID\", \"coal_region\"]\n",
    "    B_columns = [c for c in list(df.columns) if \"_A\" in c] + [\"inconsistent\", \"treatment_status\", \"trust_ID\", \"coal_region\"]\n",
    "    new_columns = [col.replace( '_A', '') for col in A_columns]\n",
    "\n",
    "    df_A = df[A_columns].copy()\n",
    "    df_A.columns = new_columns\n",
    "    df_A[\"package\"] = \"A\"\n",
    "    df_B = df[B_columns].copy()\n",
    "    df_B.columns = new_columns\n",
    "    df_B[\"package\"] = \"B\"\n",
    "    df = pd.concat([df_A, df_B])\n",
    "\n",
    "    df = df.reset_index()\n",
    "    df = df.set_index(['ID', 'round', 'package'])\n",
    "\n",
    "    df = _set_support_dummy(df)\n",
    "\n",
    "    return df\n",
    "\n",
    "def _set_support_dummy(df):\n",
    "\n",
    "    df['support'] = df['utility'] >= 5\n",
    "    df['unsupport'] = df['utility'] <= 3\n",
    "\n",
    "    return df\n",
    "\n",
    "def frequencies(conjoint_reg):\n",
    "    \n",
    "    frequency_table =  {}\n",
    "    groups = ['att_1', 'att_2','att_3', 'att_4', 'att_5', 'att_6'] #add 6\n",
    "    for group in groups:\n",
    "        total = sum(dict(conjoint_reg.filter(like=group).sum()).values())\n",
    "        frequency_table[group] = {key.replace(f'{group}_', '') : (value / total).round(2) for key, value in dict(conjoint_reg.filter(like=group).sum()).items()}\n",
    "    frequency_table = pd.DataFrame(frequency_table).sum(axis=1)\n",
    "    frequency_table = pd.DataFrame(frequency_table, columns=[\"frequency\"])\n",
    "\n",
    "    frequency_table = frequency_table.rename_axis(\"Attribute_level\")\n",
    "    return frequency_table\n",
    "\n",
    "def standardize(df, column):\n",
    "    df[f'{column}_standardized'] = (df[column] - df[column].mean()) / df[column].std()\n",
    "\n",
    "    return df\n",
    "\n"
   ]
  },
  {
   "cell_type": "code",
   "execution_count": 10,
   "metadata": {},
   "outputs": [],
   "source": [
    "conjoint = pd.read_csv(IN / \"first_sample.csv\", encoding='utf8')\n",
    "specs = read_yaml(CODE / \"data_management\" / \"specs.yaml\")\n",
    "renaming_specs = read_yaml(CODE / \"data_management\" / \"renaming_replacing.yaml\")\n",
    "\n",
    "conjoint = clean_data(conjoint, specs, renaming_specs)\n",
    "conjoint_long = make_long(conjoint,renaming_specs)\n",
    "conjoint_long_descript = make_long_descriptive(conjoint_long)\n",
    "conjoint_dummy = make_dummy(conjoint_long, renaming_specs)\n",
    "conjoint_reg = make_ready_for_regression(conjoint_dummy)\n",
    "\n",
    "#inspect=conjoint.filter(like='attribute_').iloc[2]"
   ]
  },
  {
   "cell_type": "code",
   "execution_count": 18,
   "metadata": {},
   "outputs": [
    {
     "data": {
      "text/plain": [
       "array(['As this survey is aiming to collected responses across all age groups and regions across India...\\n\\n \\n\\nPlease provide us with information of which region you are from:',\n",
       "       '{\"ImportId\":\"QID96\"}', 'West Bengal',\n",
       "       'Dadra and Nagar Haveli and Daman & Diu', 'Ladakh', 'Tripura',\n",
       "       'Uttar Pradesh', 'Puducherry'], dtype=object)"
      ]
     },
     "execution_count": 18,
     "metadata": {},
     "output_type": "execute_result"
    }
   ],
   "source": [
    "conjoint = pd.read_csv(MOCK_DATA / \"new_mock_data.csv\", encoding='cp1252')\n",
    "\n",
    "conjoint['locationFilter'].unique()"
   ]
  },
  {
   "attachments": {},
   "cell_type": "markdown",
   "metadata": {},
   "source": [
    "### Frequency data and checks\n",
    "\n",
    "Checks: How often do each variable show up."
   ]
  },
  {
   "cell_type": "code",
   "execution_count": 6,
   "metadata": {},
   "outputs": [],
   "source": [
    "#conjoint_dummy.columns.str.startswith('att')\n",
    "def frequencies(conjoint_reg):\n",
    "    \n",
    "    frequency_table =  {}\n",
    "    groups = ['att_1', 'att_2','att_3', 'att_4', 'att_5'] #add 6\n",
    "    for group in groups:\n",
    "        total = sum(dict(conjoint_reg.filter(like=group).sum()).values())\n",
    "        frequency_table[group] = {key.replace(f'{group}_', '') : (value / total).round(2) for key, value in dict(conjoint_reg.filter(like=group).sum()).items()}\n",
    "    frequency_table = pd.DataFrame(frequency_table).sum(axis=1)\n",
    "    frequency_table = pd.DataFrame(frequency_table, columns=[\"frequency\"])\n",
    "\n",
    "    frequency_table = frequency_table.rename_axis(\"Attribute_level\")\n",
    "    return frequency_table\n",
    "\n"
   ]
  },
  {
   "cell_type": "code",
   "execution_count": 7,
   "metadata": {},
   "outputs": [
    {
     "data": {
      "text/html": [
       "<div>\n",
       "<style scoped>\n",
       "    .dataframe tbody tr th:only-of-type {\n",
       "        vertical-align: middle;\n",
       "    }\n",
       "\n",
       "    .dataframe tbody tr th {\n",
       "        vertical-align: top;\n",
       "    }\n",
       "\n",
       "    .dataframe thead th {\n",
       "        text-align: right;\n",
       "    }\n",
       "</style>\n",
       "<table border=\"1\" class=\"dataframe\">\n",
       "  <thead>\n",
       "    <tr style=\"text-align: right;\">\n",
       "      <th></th>\n",
       "      <th>frequency</th>\n",
       "    </tr>\n",
       "    <tr>\n",
       "      <th>Attribute_level</th>\n",
       "      <th></th>\n",
       "    </tr>\n",
       "  </thead>\n",
       "  <tbody>\n",
       "    <tr>\n",
       "      <th>Eliminate&amp;UseAllOther</th>\n",
       "      <td>0.25</td>\n",
       "    </tr>\n",
       "    <tr>\n",
       "      <th>Eliminate&amp;UseRenewables</th>\n",
       "      <td>0.24</td>\n",
       "    </tr>\n",
       "    <tr>\n",
       "      <th>Reduce&amp;IncreaseAllOther</th>\n",
       "      <td>0.26</td>\n",
       "    </tr>\n",
       "    <tr>\n",
       "      <th>Reduce&amp;IncreaseRenewables</th>\n",
       "      <td>0.25</td>\n",
       "    </tr>\n",
       "    <tr>\n",
       "      <th>EnergyAccess</th>\n",
       "      <td>0.25</td>\n",
       "    </tr>\n",
       "    <tr>\n",
       "      <th>InsureWorkers</th>\n",
       "      <td>0.22</td>\n",
       "    </tr>\n",
       "    <tr>\n",
       "      <th>LowPrices</th>\n",
       "      <td>0.28</td>\n",
       "    </tr>\n",
       "    <tr>\n",
       "      <th>NothingSoc</th>\n",
       "      <td>0.26</td>\n",
       "    </tr>\n",
       "    <tr>\n",
       "      <th>IdentityCoalRegions</th>\n",
       "      <td>0.24</td>\n",
       "    </tr>\n",
       "    <tr>\n",
       "      <th>IndustryCoalRegions</th>\n",
       "      <td>0.26</td>\n",
       "    </tr>\n",
       "    <tr>\n",
       "      <th>NothingEco</th>\n",
       "      <td>0.25</td>\n",
       "    </tr>\n",
       "    <tr>\n",
       "      <th>WorkersCoalRegion</th>\n",
       "      <td>0.25</td>\n",
       "    </tr>\n",
       "    <tr>\n",
       "      <th>Gov&amp;Businesses</th>\n",
       "      <td>0.18</td>\n",
       "    </tr>\n",
       "    <tr>\n",
       "      <th>Gov&amp;CivilSociety</th>\n",
       "      <td>0.16</td>\n",
       "    </tr>\n",
       "    <tr>\n",
       "      <th>Gov&amp;LaborUnions</th>\n",
       "      <td>0.15</td>\n",
       "    </tr>\n",
       "    <tr>\n",
       "      <th>Gov&amp;LocalGov</th>\n",
       "      <td>0.18</td>\n",
       "    </tr>\n",
       "    <tr>\n",
       "      <th>Gov&amp;Researchers</th>\n",
       "      <td>0.16</td>\n",
       "    </tr>\n",
       "    <tr>\n",
       "      <th>GovAlone</th>\n",
       "      <td>0.18</td>\n",
       "    </tr>\n",
       "    <tr>\n",
       "      <th>Fin&amp;TechSupport</th>\n",
       "      <td>0.22</td>\n",
       "    </tr>\n",
       "    <tr>\n",
       "      <th>FinSupportOnly</th>\n",
       "      <td>0.25</td>\n",
       "    </tr>\n",
       "    <tr>\n",
       "      <th>NoInterference</th>\n",
       "      <td>0.23</td>\n",
       "    </tr>\n",
       "    <tr>\n",
       "      <th>TechSupportOnly</th>\n",
       "      <td>0.29</td>\n",
       "    </tr>\n",
       "  </tbody>\n",
       "</table>\n",
       "</div>"
      ],
      "text/plain": [
       "                           frequency\n",
       "Attribute_level                     \n",
       "Eliminate&UseAllOther           0.25\n",
       "Eliminate&UseRenewables         0.24\n",
       "Reduce&IncreaseAllOther         0.26\n",
       "Reduce&IncreaseRenewables       0.25\n",
       "EnergyAccess                    0.25\n",
       "InsureWorkers                   0.22\n",
       "LowPrices                       0.28\n",
       "NothingSoc                      0.26\n",
       "IdentityCoalRegions             0.24\n",
       "IndustryCoalRegions             0.26\n",
       "NothingEco                      0.25\n",
       "WorkersCoalRegion               0.25\n",
       "Gov&Businesses                  0.18\n",
       "Gov&CivilSociety                0.16\n",
       "Gov&LaborUnions                 0.15\n",
       "Gov&LocalGov                    0.18\n",
       "Gov&Researchers                 0.16\n",
       "GovAlone                        0.18\n",
       "Fin&TechSupport                 0.22\n",
       "FinSupportOnly                  0.25\n",
       "NoInterference                  0.23\n",
       "TechSupportOnly                 0.29"
      ]
     },
     "execution_count": 7,
     "metadata": {},
     "output_type": "execute_result"
    }
   ],
   "source": [
    "frequencies(conjoint_reg)"
   ]
  },
  {
   "cell_type": "code",
   "execution_count": 31,
   "metadata": {},
   "outputs": [
    {
     "data": {
      "application/vnd.plotly.v1+json": {
       "config": {
        "plotlyServerURL": "https://plot.ly"
       },
       "data": [
        {
         "autobinx": false,
         "histnorm": "probability density",
         "legendgroup": "DurationMin",
         "marker": {
          "color": "rgb(31, 119, 180)"
         },
         "name": "DurationMin",
         "opacity": 0.7,
         "type": "histogram",
         "x": [
          4.233333333333333,
          3.933333333333333,
          7.083333333333333,
          6.716666666666667,
          3.75,
          4.116666666666666,
          6.233333333333333,
          4.05,
          6.75,
          8.45,
          4.933333333333334,
          7.816666666666666,
          7.933333333333334,
          7.25,
          14.916666666666666,
          15.033333333333333,
          14.833333333333334,
          3.0166666666666666,
          18.666666666666668,
          12.516666666666667,
          19.566666666666666,
          18.65,
          18.95,
          18.15,
          5.616666666666666,
          5.566666666666666,
          17.966666666666665,
          18.966666666666665,
          8.166666666666666,
          12.283333333333333,
          14.083333333333334,
          8.083333333333334,
          14.183333333333334,
          23.766666666666666,
          16.85,
          14.65,
          27.15,
          24.666666666666668,
          11.183333333333334,
          8.3,
          41.2,
          20.7,
          10.266666666666667,
          4.633333333333334,
          10.933333333333334,
          14.783333333333333,
          4.35,
          51.1,
          5.783333333333333,
          18.033333333333335,
          5.95,
          10.35,
          47.68333333333333,
          17.516666666666666,
          21.55,
          15.8,
          11.433333333333334,
          26.15,
          11.366666666666667,
          6.783333333333333,
          7.266666666666667,
          5.8,
          78.83333333333333,
          9.233333333333333,
          10.033333333333333,
          10.166666666666666,
          37.11666666666667,
          10.533333333333333,
          21.883333333333333,
          16.716666666666665,
          6.483333333333333,
          9.833333333333334,
          6.233333333333333,
          10.316666666666666,
          14.716666666666667,
          24.733333333333334,
          13.066666666666666,
          27.45,
          10.766666666666667,
          29.366666666666667,
          6.633333333333334,
          5.216666666666667,
          13.283333333333333,
          11.8,
          13.983333333333333,
          99.66666666666667,
          4.8,
          9.3,
          47.733333333333334,
          13.85,
          11.433333333333334,
          6.55,
          3.216666666666667,
          13.45,
          10.866666666666667,
          9.416666666666666,
          10.766666666666667,
          23.933333333333334,
          23.166666666666668,
          20.266666666666666,
          104.81666666666666,
          4.733333333333333,
          11.516666666666667,
          2.8666666666666667,
          36.28333333333333,
          35.46666666666667,
          8.916666666666666,
          35.86666666666667,
          11.966666666666667,
          126.28333333333333,
          7.3,
          23.85,
          14.166666666666666,
          38.6,
          7.95
         ],
         "xaxis": "x",
         "xbins": {
          "end": 126.28333333333333,
          "size": 2,
          "start": 2.8666666666666667
         },
         "yaxis": "y"
        },
        {
         "legendgroup": "DurationMin",
         "marker": {
          "color": "rgb(31, 119, 180)"
         },
         "mode": "lines",
         "name": "DurationMin",
         "showlegend": false,
         "type": "scatter",
         "x": [
          2.8666666666666667,
          3.1135,
          3.360333333333333,
          3.6071666666666666,
          3.854,
          4.100833333333333,
          4.347666666666667,
          4.5945,
          4.841333333333333,
          5.088166666666666,
          5.335,
          5.581833333333334,
          5.828666666666667,
          6.0755,
          6.322333333333334,
          6.569166666666667,
          6.816000000000001,
          7.062833333333334,
          7.309666666666667,
          7.5565,
          7.803333333333333,
          8.050166666666668,
          8.297,
          8.543833333333334,
          8.790666666666667,
          9.037500000000001,
          9.284333333333334,
          9.531166666666667,
          9.778,
          10.024833333333333,
          10.271666666666667,
          10.518500000000001,
          10.765333333333334,
          11.012166666666667,
          11.259,
          11.505833333333335,
          11.752666666666666,
          11.999500000000001,
          12.246333333333334,
          12.493166666666667,
          12.74,
          12.986833333333335,
          13.233666666666668,
          13.480500000000001,
          13.727333333333336,
          13.974166666666667,
          14.221000000000002,
          14.467833333333335,
          14.714666666666668,
          14.961500000000001,
          15.208333333333336,
          15.455166666666667,
          15.702000000000002,
          15.948833333333335,
          16.195666666666668,
          16.4425,
          16.689333333333334,
          16.936166666666665,
          17.183,
          17.429833333333335,
          17.676666666666666,
          17.9235,
          18.170333333333335,
          18.417166666666667,
          18.664,
          18.910833333333336,
          19.157666666666668,
          19.404500000000002,
          19.651333333333334,
          19.89816666666667,
          20.145000000000003,
          20.391833333333334,
          20.638666666666666,
          20.885500000000004,
          21.132333333333335,
          21.379166666666666,
          21.626,
          21.872833333333336,
          22.119666666666667,
          22.366500000000002,
          22.613333333333333,
          22.860166666666668,
          23.107000000000003,
          23.353833333333334,
          23.60066666666667,
          23.847500000000004,
          24.094333333333335,
          24.341166666666666,
          24.588000000000005,
          24.834833333333336,
          25.081666666666667,
          25.328500000000002,
          25.575333333333337,
          25.822166666666668,
          26.069000000000003,
          26.315833333333334,
          26.56266666666667,
          26.809500000000003,
          27.056333333333335,
          27.303166666666666,
          27.550000000000004,
          27.796833333333336,
          28.043666666666667,
          28.2905,
          28.537333333333336,
          28.784166666666668,
          29.031000000000002,
          29.277833333333334,
          29.52466666666667,
          29.771500000000003,
          30.018333333333334,
          30.265166666666666,
          30.512000000000004,
          30.758833333333335,
          31.005666666666666,
          31.2525,
          31.499333333333336,
          31.746166666666667,
          31.993000000000002,
          32.23983333333333,
          32.486666666666665,
          32.7335,
          32.980333333333334,
          33.22716666666666,
          33.474000000000004,
          33.72083333333333,
          33.967666666666666,
          34.2145,
          34.461333333333336,
          34.70816666666666,
          34.955000000000005,
          35.20183333333333,
          35.44866666666667,
          35.6955,
          35.94233333333334,
          36.189166666666665,
          36.436,
          36.68283333333334,
          36.92966666666667,
          37.176500000000004,
          37.42333333333334,
          37.67016666666667,
          37.917,
          38.163833333333336,
          38.410666666666664,
          38.657500000000006,
          38.90433333333334,
          39.15116666666667,
          39.398,
          39.64483333333334,
          39.891666666666666,
          40.1385,
          40.385333333333335,
          40.63216666666667,
          40.879000000000005,
          41.12583333333334,
          41.37266666666667,
          41.6195,
          41.86633333333334,
          42.113166666666665,
          42.36,
          42.60683333333334,
          42.85366666666667,
          43.100500000000004,
          43.34733333333334,
          43.594166666666666,
          43.841,
          44.087833333333336,
          44.33466666666667,
          44.581500000000005,
          44.82833333333334,
          45.07516666666667,
          45.322,
          45.56883333333334,
          45.815666666666665,
          46.0625,
          46.30933333333334,
          46.55616666666667,
          46.803000000000004,
          47.04983333333334,
          47.29666666666667,
          47.5435,
          47.790333333333336,
          48.037166666666664,
          48.284000000000006,
          48.53083333333334,
          48.77766666666667,
          49.0245,
          49.27133333333334,
          49.518166666666666,
          49.765,
          50.011833333333335,
          50.25866666666667,
          50.505500000000005,
          50.75233333333334,
          50.99916666666667,
          51.246,
          51.49283333333334,
          51.739666666666665,
          51.9865,
          52.23333333333334,
          52.48016666666667,
          52.727000000000004,
          52.97383333333334,
          53.220666666666666,
          53.4675,
          53.714333333333336,
          53.961166666666664,
          54.208000000000006,
          54.45483333333334,
          54.70166666666667,
          54.9485,
          55.19533333333334,
          55.442166666666665,
          55.689,
          55.93583333333334,
          56.18266666666667,
          56.429500000000004,
          56.67633333333334,
          56.92316666666667,
          57.17,
          57.41683333333334,
          57.663666666666664,
          57.910500000000006,
          58.15733333333334,
          58.40416666666667,
          58.651,
          58.89783333333334,
          59.144666666666666,
          59.3915,
          59.638333333333335,
          59.88516666666667,
          60.132000000000005,
          60.37883333333334,
          60.62566666666667,
          60.8725,
          61.11933333333334,
          61.366166666666665,
          61.613,
          61.85983333333334,
          62.10666666666667,
          62.353500000000004,
          62.60033333333334,
          62.847166666666666,
          63.094,
          63.340833333333336,
          63.587666666666664,
          63.834500000000006,
          64.08133333333333,
          64.32816666666666,
          64.575,
          64.82183333333333,
          65.06866666666666,
          65.3155,
          65.56233333333334,
          65.80916666666667,
          66.056,
          66.30283333333334,
          66.54966666666667,
          66.7965,
          67.04333333333334,
          67.29016666666666,
          67.53699999999999,
          67.78383333333333,
          68.03066666666666,
          68.27749999999999,
          68.52433333333333,
          68.77116666666666,
          69.018,
          69.26483333333333,
          69.51166666666666,
          69.7585,
          70.00533333333333,
          70.25216666666665,
          70.49900000000001,
          70.74583333333334,
          70.99266666666666,
          71.2395,
          71.48633333333333,
          71.73316666666666,
          71.98,
          72.22683333333333,
          72.47366666666666,
          72.7205,
          72.96733333333333,
          73.21416666666666,
          73.461,
          73.70783333333333,
          73.95466666666665,
          74.20150000000001,
          74.44833333333334,
          74.69516666666667,
          74.94200000000001,
          75.18883333333333,
          75.43566666666666,
          75.6825,
          75.92933333333333,
          76.17616666666666,
          76.423,
          76.66983333333333,
          76.91666666666666,
          77.1635,
          77.41033333333333,
          77.65716666666665,
          77.904,
          78.15083333333334,
          78.39766666666667,
          78.64450000000001,
          78.89133333333334,
          79.13816666666666,
          79.385,
          79.63183333333333,
          79.87866666666666,
          80.1255,
          80.37233333333333,
          80.61916666666666,
          80.866,
          81.11283333333333,
          81.35966666666666,
          81.6065,
          81.85333333333332,
          82.10016666666667,
          82.34700000000001,
          82.59383333333334,
          82.84066666666666,
          83.0875,
          83.33433333333333,
          83.58116666666666,
          83.828,
          84.07483333333333,
          84.32166666666666,
          84.5685,
          84.81533333333333,
          85.06216666666666,
          85.309,
          85.55583333333333,
          85.80266666666667,
          86.04950000000001,
          86.29633333333334,
          86.54316666666666,
          86.79,
          87.03683333333333,
          87.28366666666666,
          87.5305,
          87.77733333333333,
          88.02416666666666,
          88.271,
          88.51783333333333,
          88.76466666666666,
          89.0115,
          89.25833333333333,
          89.50516666666665,
          89.75200000000001,
          89.99883333333334,
          90.24566666666666,
          90.4925,
          90.73933333333333,
          90.98616666666666,
          91.233,
          91.47983333333333,
          91.72666666666666,
          91.9735,
          92.22033333333333,
          92.46716666666666,
          92.714,
          92.96083333333333,
          93.20766666666665,
          93.45450000000001,
          93.70133333333334,
          93.94816666666667,
          94.19500000000001,
          94.44183333333334,
          94.68866666666666,
          94.9355,
          95.18233333333333,
          95.42916666666666,
          95.676,
          95.92283333333333,
          96.16966666666666,
          96.4165,
          96.66333333333333,
          96.91016666666665,
          97.157,
          97.40383333333334,
          97.65066666666667,
          97.89750000000001,
          98.14433333333334,
          98.39116666666666,
          98.638,
          98.88483333333333,
          99.13166666666666,
          99.3785,
          99.62533333333333,
          99.87216666666666,
          100.119,
          100.36583333333333,
          100.61266666666666,
          100.8595,
          101.10633333333332,
          101.35316666666667,
          101.60000000000001,
          101.84683333333334,
          102.09366666666666,
          102.3405,
          102.58733333333333,
          102.83416666666666,
          103.081,
          103.32783333333333,
          103.57466666666666,
          103.8215,
          104.06833333333333,
          104.31516666666666,
          104.562,
          104.80883333333333,
          105.05566666666665,
          105.30250000000001,
          105.54933333333334,
          105.79616666666666,
          106.043,
          106.28983333333333,
          106.53666666666666,
          106.7835,
          107.03033333333333,
          107.27716666666666,
          107.524,
          107.77083333333333,
          108.01766666666666,
          108.2645,
          108.51133333333333,
          108.75816666666665,
          109.00500000000001,
          109.25183333333334,
          109.49866666666667,
          109.7455,
          109.99233333333333,
          110.23916666666666,
          110.486,
          110.73283333333333,
          110.97966666666666,
          111.2265,
          111.47333333333333,
          111.72016666666666,
          111.967,
          112.21383333333333,
          112.46066666666665,
          112.7075,
          112.95433333333334,
          113.20116666666667,
          113.44800000000001,
          113.69483333333334,
          113.94166666666666,
          114.1885,
          114.43533333333333,
          114.68216666666666,
          114.929,
          115.17583333333333,
          115.42266666666666,
          115.6695,
          115.91633333333333,
          116.16316666666665,
          116.41,
          116.65683333333334,
          116.90366666666667,
          117.15050000000001,
          117.39733333333334,
          117.64416666666666,
          117.891,
          118.13783333333333,
          118.38466666666666,
          118.6315,
          118.87833333333333,
          119.12516666666666,
          119.372,
          119.61883333333333,
          119.86566666666666,
          120.1125,
          120.35933333333332,
          120.60616666666667,
          120.85300000000001,
          121.09983333333334,
          121.34666666666666,
          121.5935,
          121.84033333333333,
          122.08716666666666,
          122.334,
          122.58083333333333,
          122.82766666666666,
          123.0745,
          123.32133333333333,
          123.56816666666666,
          123.815,
          124.06183333333333,
          124.30866666666665,
          124.55550000000001,
          124.80233333333334,
          125.04916666666666,
          125.296,
          125.54283333333333,
          125.78966666666666,
          126.0365
         ],
         "xaxis": "x",
         "y": [
          0.02530752713686504,
          0.025892121294375996,
          0.026468590113271788,
          0.027035918497889035,
          0.027593101252771115,
          0.02813914652165053,
          0.02867307919404531,
          0.02919394426143336,
          0.02970081010521481,
          0.030192771699046158,
          0.030668953708631225,
          0.031128513472674545,
          0.031570643849441575,
          0.03199457591421838,
          0.032399581493913844,
          0.03278497552609473,
          0.033150118230875804,
          0.03349441708529482,
          0.033817328591079124,
          0.034118359828039,
          0.03439706978669912,
          0.03465307047518668,
          0.03488602779682394,
          0.03509566219631257,
          0.035281749073834016,
          0.03544411896781407,
          0.035582657508500884,
          0.03569730514586892,
          0.03578805665668249,
          0.035854960436816206,
          0.03589811758613082,
          0.03591768079433097,
          0.03591385303727988,
          0.035886886094207766,
          0.03583707889711988,
          0.0357647757244821,
          0.03567036425193258,
          0.03555427347333356,
          0.03541697150593818,
          0.0352589632937976,
          0.03508078822377947,
          0.03488301766870535,
          0.03466625247214616,
          0.03443112038934471,
          0.03417827349856224,
          0.033908385596880836,
          0.03362214959413482,
          0.033320274918202795,
          0.03300348494436801,
          0.03267251446085958,
          0.032328107182024876,
          0.031971013319861345,
          0.03160198722386289,
          0.03122178509831934,
          0.030831162805352377,
          0.03043087376109103,
          0.030021666931486723,
          0.02960428493335235,
          0.029179462245291662,
          0.028747923532265955,
          0.02831038208663942,
          0.02786753838765282,
          0.027420078780408426,
          0.026968674274611866,
          0.026513979462513396,
          0.026056631554731053,
          0.02559724953192072,
          0.025136433409592273,
          0.02467476361275866,
          0.024212800456546817,
          0.02375108372840334,
          0.023290132367090436,
          0.022830444233293883,
          0.022372495966353947,
          0.021916742921382116,
          0.021463619180841883,
          0.021013537634548947,
          0.020566890121984708,
          0.02012404763081106,
          0.019685360545529194,
          0.019251158940329027,
          0.01882175291033101,
          0.01839743293562441,
          0.01797847027274829,
          0.01756511736854324,
          0.017157608291616225,
          0.016756159177003058,
          0.01636096867997977,
          0.015972218435358492,
          0.015590073519001992,
          0.015214682908697003,
          0.014846179941937258,
          0.014484682768575226,
          0.014130294796704024,
          0.013783105130523318,
          0.013443188999319126,
          0.013110608177046323,
          0.01278541139233754,
          0.0124676347290722,
          0.012157302017920547,
          0.0118544252195273,
          0.011559004800216627,
          0.011271030101282045,
          0.010990479703071527,
          0.010717321785188102,
          0.010451514484199476,
          0.01019300625028804,
          0.009941736204274678,
          0.009697634496417504,
          0.009460622668322793,
          0.009230614019210296,
          0.009007513977652749,
          0.008791220479761871,
          0.008581624354623117,
          0.008378609717593131,
          0.008182054371870164,
          0.007991830218532133,
          0.007807803675013757,
          0.00762983610176691,
          0.007457784236620495,
          0.007291500636131764,
          0.007130834123003914,
          0.006975630238437589,
          0.006825731698091055,
          0.006680978850147487,
          0.006541210133830571,
          0.006406262536574937,
          0.0062759720479467745,
          0.006150174108324426,
          0.00602870405029038,
          0.005911397530655346,
          0.00579809095103263,
          0.005688621864906968,
          0.005582829369195868,
          0.005480554478382503,
          0.005381640479406306,
          0.005285933265629095,
          0.005193281648348633,
          0.005103537644506383,
          0.005016556739428663,
          0.0049321981236486925,
          0.004850324903077037,
          0.004770804282017991,
          0.004693507718765213,
          0.00461831105374894,
          0.004545094610445762,
          0.004473743269497417,
          0.004404146516713624,
          0.004336198465853459,
          0.004269797857286756,
          0.004204848033828935,
          0.004141256895217614,
          0.0040789368328545995,
          0.0040178046465711055,
          0.003957781445285458,
          0.0038987925335103304,
          0.003840767285729433,
          0.0037836390107016263,
          0.003727344807763204,
          0.0036718254171868997,
          0.0036170250666197764,
          0.003562891315562359,
          0.0035093748997692617,
          0.003456429577349124,
          0.0034040119782200655,
          0.0033520814584386007,
          0.0033005999607669655,
          0.003249531882678584,
          0.003198843952826231,
          0.003148505116815179,
          0.0030984864329366146,
          0.003048760978327626,
          0.002999303765835574,
          0.002950091671679413,
          0.0029011033738205842,
          0.0028523193007841258,
          0.002803721590508557,
          0.0027552940586527226,
          0.002707022175651252,
          0.0026588930516885825,
          0.0026108954286562557,
          0.0025630196780702216,
          0.0025152578038549304,
          0.002467603448849476,
          0.002420051903858306,
          0.0023726001180546653,
          0.0023252467095489773,
          0.0022779919749559437,
          0.002230837896832646,
          0.0021837881479140724,
          0.002136848091141483,
          0.0020900247745609343,
          0.002043326920263115,
          0.001996764906639304,
          0.001950350743340413,
          0.0019040980384445164,
          0.001858021957461564,
          0.001812139173929912,
          0.0017664678114863524,
          0.0017210273774174363,
          0.0016758386878236247,
          0.0016309237846471797,
          0.0015863058449285528,
          0.0015420090827626828,
          0.0014980586445249488,
          0.0014544804980252872,
          0.001411301316327546,
          0.0013685483570381872,
          0.0013262493379240308,
          0.0012844323097618907,
          0.0012431255273536671,
          0.0012023573196587875,
          0.0011621559600016422,
          0.0011225495373053454,
          0.0010835658292850745,
          0.001045232178505051,
          0.0010075753721634263,
          0.0009706215264200358,
          0.0009343959760237975,
          0.000898923169930634,
          0.000864226573530185,
          0.0008303285780214286,
          0.0007972504173946516,
          0.0007650120933914147,
          0.000733632308726195,
          0.0007031284087645107,
          0.0006735163317638059,
          0.000644810567696041,
          0.0006170241255860695,
          0.0005901685092184063,
          0.0005642537009877513,
          0.0005392881535965554,
          0.0005152787892366649,
          0.0004922310058324076,
          0.0004701486898697363,
          0.0004490342352909682,
          0.0004288885678972694,
          0.0004097111746717451,
          0.00039150013741500687,
          0.0003742521700721525,
          0.00035796265912543725,
          0.00034262570643015704,
          0.0003282341738822723,
          0.00031477972932463145,
          0.0003022528931239664,
          0.0002906430848825711,
          0.00027993866978624066,
          0.00027012700413295575,
          0.00026119447963436653,
          0.00025312656613359747,
          0.0002459078524375804,
          0.00023952208501925277,
          0.00023395220440375702,
          0.00022918037911254753,
          0.00022518803709919657,
          0.0002219558946700258,
          0.00021946398294069608,
          0.0002176916719358936,
          0.0002166176924925617,
          0.00021622015617714523,
          0.0002164765734734347,
          0.00021736387053930165,
          0.000218858404867438,
          0.0002209359802167164,
          0.00022357186120664998,
          0.0002267407879873561,
          0.0002304169914111972,
          0.000234574209139752,
          0.0002391857031208991,
          0.00024422427886552873,
          0.0002496623069418717,
          0.00025547174708772996,
          0.00026162417531724804,
          0.00026809081436956437,
          0.0002748425678120132,
          0.00028185005807097337,
          0.0002890836686193745,
          0.0002965135905017963,
          0.0003041098733265819,
          0.0003118424807999965,
          0.0003196813508208189,
          0.00032759646009549744,
          0.0003355578931747977,
          0.0003435359157533436,
          0.00035150105201435056,
          0.00035942416574377624,
          0.00036727654488173786,
          0.00037502998912504774,
          0.00038265690014365795,
          0.00039013037392629724,
          0.0003974242947271608,
          0.00040451343004668913,
          0.0004113735260456389,
          0.00041798140276329786,
          0.0004243150484880541,
          0.0004303537126119227,
          0.0004360779962902541,
          0.0004414699402238408,
          0.0004465131088829986,
          0.0004511926705020358,
          0.00045549547218763485,
          0.0004594101095059976,
          0.0004629269899408951,
          0.000466038389647735,
          0.0004687385029671068,
          0.00047102348420455367,
          0.00047289148123115163,
          0.0004743426605113259,
          0.00047537922321970943,
          0.0004760054121671667,
          0.0004762275093168197,
          0.0004760538237333958,
          0.0004754946698728866,
          0.0004745623361837574,
          0.0004732710440551616,
          0.0004716368972112326,
          0.0004696778217129665,
          0.0004674134967899274,
          0.00046486527678252866,
          0.0004620561045314465,
          0.0004590104166034521,
          0.00045575404079214825,
          0.00045231408637751,
          0.00044871882766942824,
          0.00044499758139744514,
          0.00044118057854137805,
          0.0004372988312254453,
          0.0004333839953217514,
          0.00042946822942761006,
          0.00042558405089514943,
          0.00042176418960112303,
          0.00041804144014990504,
          0.0004144485132035242,
          0.00041101788662941156,
          0.00040778165714963323,
          0.0004047713931649126,
          0.0004020179894130825,
          0.00039955152410497594,
          0.00039740111916148425,
          0.0003955948041539032,
          0.00039415938452600223,
          0.00039312031465082547,
          0.0003925015762483128,
          0.000392325562661681,
          0.0003926129694613799,
          0.00039338269181554215,
          0.00039465172903537416,
          0.0003964350966730614,
          0.000398745746518624,
          0.0004015944948108548,
          0.00040498995894611335,
          0.00040893850293737357,
          0.0004134441918445695,
          0.0004185087553659667,
          0.0004241315607490154,
          0.00043030959514783144,
          0.00043703745752315666,
          0.00044430736014924253,
          0.0004521091397605472,
          0.00046043027833941077,
          0.0004692559335138905,
          0.0004785689785026272,
          0.0004883500515110037,
          0.0004985776144498381,
          0.0005092280208144732,
          0.000520275592528348,
          0.0005316927055210443,
          0.0005434498837763401,
          0.0005555159015511972,
          0.0005678578934318232,
          0.0005804414718581508,
          0.0005932308517134779,
          0.0006061889815417084,
          0.000619277680920831,
          0.0006324577834882661,
          0.0006456892850816494,
          0.000658931496427824,
          0.0006721431997835033,
          0.0006852828089036051,
          0.0006983085316877786,
          0.0007111785348326489,
          0.0007238511097968746,
          0.0007362848393686386,
          0.0007484387641109251,
          0.0007602725479491222,
          0.0007717466421583257,
          0.0007828224470044621,
          0.0007934624702941902,
          0.0008036304820935101,
          0.0008132916648844221,
          0.0008224127584426895,
          0.0008309621987379925,
          0.0008389102501803644,
          0.0008462291305638755,
          0.0008528931280898073,
          0.0008588787098870975,
          0.0008641646214873009,
          0.0008687319767545756,
          0.0008725643378179902,
          0.000875647784603437,
          0.0008779709736153244,
          0.0008795251856736474,
          0.0008803043623695821,
          0.0008803051310620263,
          0.0008795268182980807,
          0.0008779714516018597,
          0.0008756437496378028,
          0.0008725511008163545,
          0.0008687035304710061,
          0.0008641136567958259,
          0.0008587966357912519,
          0.0008527700955226681,
          0.0008460540600507377,
          0.0008386708634441645,
          0.000830645054334218,
          0.0008220032915155987,
          0.0008127742311397726,
          0.0008029884060844663,
          0.0007926780981164823,
          0.0007818772034940361,
          0.0007706210926794455,
          0.0007589464648530919,
          0.000746891197935034,
          0.0007344941948315892,
          0.0007217952266306095,
          0.0007088347734711652,
          0.000695653863811035,
          0.000682293912809053,
          0.0006687965605290439,
          0.0006552035106581611,
          0.0006415563704151262,
          0.000627896492303483,
          0.0006142648183417595,
          0.0006007017273768808,
          0.0005872468860593405,
          0.0005739391040291522,
          0.0005608161938306128,
          0.0005479148360417959,
          0.0005352704500717657,
          0.0005229170710451256,
          0.0005108872331598495,
          0.0004992118598707751,
          0.00048792016121781837,
          0.00047703953858514443,
          0.00046659549714534723,
          0.0004566115662113447,
          0.0004471092276882076,
          0.0004381078527876824,
          0.0004296246471397224,
          0.0004216746044079314,
          0.00041427046848943464,
          0.0004074227043542732,
          0.00040113947755489505,
          0.00039542664241257506,
          0.0003902877388645658,
          0.0003857239979332519,
          0.0003817343557565006,
          0.0003783154760965506,
          0.00037546178122304687,
          0.00037316549104404436,
          0.0003714166703368574,
          0.00037020328390835987,
          0.0003695112594916691,
          0.0003693245581629653,
          0.00036962525203846177,
          0.000370393608987192,
          0.00037160818407034333,
          0.0003732459173923451,
          0.00037528223802289756,
          0.00037769117362269,
          0.0003804454653788423,
          0.00038351668782929534,
          0.0003868753731286419,
          0.0003904911392815092,
          0.0003943328218438025,
          0.0003983686085671917,
          0.0004025661764385103,
          0.0004068928305435005,
          0.0004113156441639805,
          0.00041580159949933785,
          0.00042031772838759467,
          0.00042483125238853653,
          0.0004293097215818078,
          0.000433721151426805,
          0.0004380341570289052,
          0.00044221808415831283,
          0.0004462431363738067,
          0.00045008049761409934,
          0.00045370244963452,
          0.00045708248368637767,
          0.00046019540586069265,
          0.000463017435546973,
          0.0004655262964912998,
          0.0004677012999759946,
          0.00046952341968545144,
          0.0004709753578690055,
          0.0004720416024617289,
          0.00047270847487742716,
          0.0004729641682444447,
          0.000472798775913751
         ],
         "yaxis": "y"
        }
       ],
       "layout": {
        "barmode": "overlay",
        "hovermode": "closest",
        "legend": {
         "traceorder": "reversed"
        },
        "template": {
         "data": {
          "bar": [
           {
            "error_x": {
             "color": "#2a3f5f"
            },
            "error_y": {
             "color": "#2a3f5f"
            },
            "marker": {
             "line": {
              "color": "#E5ECF6",
              "width": 0.5
             },
             "pattern": {
              "fillmode": "overlay",
              "size": 10,
              "solidity": 0.2
             }
            },
            "type": "bar"
           }
          ],
          "barpolar": [
           {
            "marker": {
             "line": {
              "color": "#E5ECF6",
              "width": 0.5
             },
             "pattern": {
              "fillmode": "overlay",
              "size": 10,
              "solidity": 0.2
             }
            },
            "type": "barpolar"
           }
          ],
          "carpet": [
           {
            "aaxis": {
             "endlinecolor": "#2a3f5f",
             "gridcolor": "white",
             "linecolor": "white",
             "minorgridcolor": "white",
             "startlinecolor": "#2a3f5f"
            },
            "baxis": {
             "endlinecolor": "#2a3f5f",
             "gridcolor": "white",
             "linecolor": "white",
             "minorgridcolor": "white",
             "startlinecolor": "#2a3f5f"
            },
            "type": "carpet"
           }
          ],
          "choropleth": [
           {
            "colorbar": {
             "outlinewidth": 0,
             "ticks": ""
            },
            "type": "choropleth"
           }
          ],
          "contour": [
           {
            "colorbar": {
             "outlinewidth": 0,
             "ticks": ""
            },
            "colorscale": [
             [
              0,
              "#0d0887"
             ],
             [
              0.1111111111111111,
              "#46039f"
             ],
             [
              0.2222222222222222,
              "#7201a8"
             ],
             [
              0.3333333333333333,
              "#9c179e"
             ],
             [
              0.4444444444444444,
              "#bd3786"
             ],
             [
              0.5555555555555556,
              "#d8576b"
             ],
             [
              0.6666666666666666,
              "#ed7953"
             ],
             [
              0.7777777777777778,
              "#fb9f3a"
             ],
             [
              0.8888888888888888,
              "#fdca26"
             ],
             [
              1,
              "#f0f921"
             ]
            ],
            "type": "contour"
           }
          ],
          "contourcarpet": [
           {
            "colorbar": {
             "outlinewidth": 0,
             "ticks": ""
            },
            "type": "contourcarpet"
           }
          ],
          "heatmap": [
           {
            "colorbar": {
             "outlinewidth": 0,
             "ticks": ""
            },
            "colorscale": [
             [
              0,
              "#0d0887"
             ],
             [
              0.1111111111111111,
              "#46039f"
             ],
             [
              0.2222222222222222,
              "#7201a8"
             ],
             [
              0.3333333333333333,
              "#9c179e"
             ],
             [
              0.4444444444444444,
              "#bd3786"
             ],
             [
              0.5555555555555556,
              "#d8576b"
             ],
             [
              0.6666666666666666,
              "#ed7953"
             ],
             [
              0.7777777777777778,
              "#fb9f3a"
             ],
             [
              0.8888888888888888,
              "#fdca26"
             ],
             [
              1,
              "#f0f921"
             ]
            ],
            "type": "heatmap"
           }
          ],
          "heatmapgl": [
           {
            "colorbar": {
             "outlinewidth": 0,
             "ticks": ""
            },
            "colorscale": [
             [
              0,
              "#0d0887"
             ],
             [
              0.1111111111111111,
              "#46039f"
             ],
             [
              0.2222222222222222,
              "#7201a8"
             ],
             [
              0.3333333333333333,
              "#9c179e"
             ],
             [
              0.4444444444444444,
              "#bd3786"
             ],
             [
              0.5555555555555556,
              "#d8576b"
             ],
             [
              0.6666666666666666,
              "#ed7953"
             ],
             [
              0.7777777777777778,
              "#fb9f3a"
             ],
             [
              0.8888888888888888,
              "#fdca26"
             ],
             [
              1,
              "#f0f921"
             ]
            ],
            "type": "heatmapgl"
           }
          ],
          "histogram": [
           {
            "marker": {
             "pattern": {
              "fillmode": "overlay",
              "size": 10,
              "solidity": 0.2
             }
            },
            "type": "histogram"
           }
          ],
          "histogram2d": [
           {
            "colorbar": {
             "outlinewidth": 0,
             "ticks": ""
            },
            "colorscale": [
             [
              0,
              "#0d0887"
             ],
             [
              0.1111111111111111,
              "#46039f"
             ],
             [
              0.2222222222222222,
              "#7201a8"
             ],
             [
              0.3333333333333333,
              "#9c179e"
             ],
             [
              0.4444444444444444,
              "#bd3786"
             ],
             [
              0.5555555555555556,
              "#d8576b"
             ],
             [
              0.6666666666666666,
              "#ed7953"
             ],
             [
              0.7777777777777778,
              "#fb9f3a"
             ],
             [
              0.8888888888888888,
              "#fdca26"
             ],
             [
              1,
              "#f0f921"
             ]
            ],
            "type": "histogram2d"
           }
          ],
          "histogram2dcontour": [
           {
            "colorbar": {
             "outlinewidth": 0,
             "ticks": ""
            },
            "colorscale": [
             [
              0,
              "#0d0887"
             ],
             [
              0.1111111111111111,
              "#46039f"
             ],
             [
              0.2222222222222222,
              "#7201a8"
             ],
             [
              0.3333333333333333,
              "#9c179e"
             ],
             [
              0.4444444444444444,
              "#bd3786"
             ],
             [
              0.5555555555555556,
              "#d8576b"
             ],
             [
              0.6666666666666666,
              "#ed7953"
             ],
             [
              0.7777777777777778,
              "#fb9f3a"
             ],
             [
              0.8888888888888888,
              "#fdca26"
             ],
             [
              1,
              "#f0f921"
             ]
            ],
            "type": "histogram2dcontour"
           }
          ],
          "mesh3d": [
           {
            "colorbar": {
             "outlinewidth": 0,
             "ticks": ""
            },
            "type": "mesh3d"
           }
          ],
          "parcoords": [
           {
            "line": {
             "colorbar": {
              "outlinewidth": 0,
              "ticks": ""
             }
            },
            "type": "parcoords"
           }
          ],
          "pie": [
           {
            "automargin": true,
            "type": "pie"
           }
          ],
          "scatter": [
           {
            "fillpattern": {
             "fillmode": "overlay",
             "size": 10,
             "solidity": 0.2
            },
            "type": "scatter"
           }
          ],
          "scatter3d": [
           {
            "line": {
             "colorbar": {
              "outlinewidth": 0,
              "ticks": ""
             }
            },
            "marker": {
             "colorbar": {
              "outlinewidth": 0,
              "ticks": ""
             }
            },
            "type": "scatter3d"
           }
          ],
          "scattercarpet": [
           {
            "marker": {
             "colorbar": {
              "outlinewidth": 0,
              "ticks": ""
             }
            },
            "type": "scattercarpet"
           }
          ],
          "scattergeo": [
           {
            "marker": {
             "colorbar": {
              "outlinewidth": 0,
              "ticks": ""
             }
            },
            "type": "scattergeo"
           }
          ],
          "scattergl": [
           {
            "marker": {
             "colorbar": {
              "outlinewidth": 0,
              "ticks": ""
             }
            },
            "type": "scattergl"
           }
          ],
          "scattermapbox": [
           {
            "marker": {
             "colorbar": {
              "outlinewidth": 0,
              "ticks": ""
             }
            },
            "type": "scattermapbox"
           }
          ],
          "scatterpolar": [
           {
            "marker": {
             "colorbar": {
              "outlinewidth": 0,
              "ticks": ""
             }
            },
            "type": "scatterpolar"
           }
          ],
          "scatterpolargl": [
           {
            "marker": {
             "colorbar": {
              "outlinewidth": 0,
              "ticks": ""
             }
            },
            "type": "scatterpolargl"
           }
          ],
          "scatterternary": [
           {
            "marker": {
             "colorbar": {
              "outlinewidth": 0,
              "ticks": ""
             }
            },
            "type": "scatterternary"
           }
          ],
          "surface": [
           {
            "colorbar": {
             "outlinewidth": 0,
             "ticks": ""
            },
            "colorscale": [
             [
              0,
              "#0d0887"
             ],
             [
              0.1111111111111111,
              "#46039f"
             ],
             [
              0.2222222222222222,
              "#7201a8"
             ],
             [
              0.3333333333333333,
              "#9c179e"
             ],
             [
              0.4444444444444444,
              "#bd3786"
             ],
             [
              0.5555555555555556,
              "#d8576b"
             ],
             [
              0.6666666666666666,
              "#ed7953"
             ],
             [
              0.7777777777777778,
              "#fb9f3a"
             ],
             [
              0.8888888888888888,
              "#fdca26"
             ],
             [
              1,
              "#f0f921"
             ]
            ],
            "type": "surface"
           }
          ],
          "table": [
           {
            "cells": {
             "fill": {
              "color": "#EBF0F8"
             },
             "line": {
              "color": "white"
             }
            },
            "header": {
             "fill": {
              "color": "#C8D4E3"
             },
             "line": {
              "color": "white"
             }
            },
            "type": "table"
           }
          ]
         },
         "layout": {
          "annotationdefaults": {
           "arrowcolor": "#2a3f5f",
           "arrowhead": 0,
           "arrowwidth": 1
          },
          "autotypenumbers": "strict",
          "coloraxis": {
           "colorbar": {
            "outlinewidth": 0,
            "ticks": ""
           }
          },
          "colorscale": {
           "diverging": [
            [
             0,
             "#8e0152"
            ],
            [
             0.1,
             "#c51b7d"
            ],
            [
             0.2,
             "#de77ae"
            ],
            [
             0.3,
             "#f1b6da"
            ],
            [
             0.4,
             "#fde0ef"
            ],
            [
             0.5,
             "#f7f7f7"
            ],
            [
             0.6,
             "#e6f5d0"
            ],
            [
             0.7,
             "#b8e186"
            ],
            [
             0.8,
             "#7fbc41"
            ],
            [
             0.9,
             "#4d9221"
            ],
            [
             1,
             "#276419"
            ]
           ],
           "sequential": [
            [
             0,
             "#0d0887"
            ],
            [
             0.1111111111111111,
             "#46039f"
            ],
            [
             0.2222222222222222,
             "#7201a8"
            ],
            [
             0.3333333333333333,
             "#9c179e"
            ],
            [
             0.4444444444444444,
             "#bd3786"
            ],
            [
             0.5555555555555556,
             "#d8576b"
            ],
            [
             0.6666666666666666,
             "#ed7953"
            ],
            [
             0.7777777777777778,
             "#fb9f3a"
            ],
            [
             0.8888888888888888,
             "#fdca26"
            ],
            [
             1,
             "#f0f921"
            ]
           ],
           "sequentialminus": [
            [
             0,
             "#0d0887"
            ],
            [
             0.1111111111111111,
             "#46039f"
            ],
            [
             0.2222222222222222,
             "#7201a8"
            ],
            [
             0.3333333333333333,
             "#9c179e"
            ],
            [
             0.4444444444444444,
             "#bd3786"
            ],
            [
             0.5555555555555556,
             "#d8576b"
            ],
            [
             0.6666666666666666,
             "#ed7953"
            ],
            [
             0.7777777777777778,
             "#fb9f3a"
            ],
            [
             0.8888888888888888,
             "#fdca26"
            ],
            [
             1,
             "#f0f921"
            ]
           ]
          },
          "colorway": [
           "#636efa",
           "#EF553B",
           "#00cc96",
           "#ab63fa",
           "#FFA15A",
           "#19d3f3",
           "#FF6692",
           "#B6E880",
           "#FF97FF",
           "#FECB52"
          ],
          "font": {
           "color": "#2a3f5f"
          },
          "geo": {
           "bgcolor": "white",
           "lakecolor": "white",
           "landcolor": "#E5ECF6",
           "showlakes": true,
           "showland": true,
           "subunitcolor": "white"
          },
          "hoverlabel": {
           "align": "left"
          },
          "hovermode": "closest",
          "mapbox": {
           "style": "light"
          },
          "paper_bgcolor": "white",
          "plot_bgcolor": "#E5ECF6",
          "polar": {
           "angularaxis": {
            "gridcolor": "white",
            "linecolor": "white",
            "ticks": ""
           },
           "bgcolor": "#E5ECF6",
           "radialaxis": {
            "gridcolor": "white",
            "linecolor": "white",
            "ticks": ""
           }
          },
          "scene": {
           "xaxis": {
            "backgroundcolor": "#E5ECF6",
            "gridcolor": "white",
            "gridwidth": 2,
            "linecolor": "white",
            "showbackground": true,
            "ticks": "",
            "zerolinecolor": "white"
           },
           "yaxis": {
            "backgroundcolor": "#E5ECF6",
            "gridcolor": "white",
            "gridwidth": 2,
            "linecolor": "white",
            "showbackground": true,
            "ticks": "",
            "zerolinecolor": "white"
           },
           "zaxis": {
            "backgroundcolor": "#E5ECF6",
            "gridcolor": "white",
            "gridwidth": 2,
            "linecolor": "white",
            "showbackground": true,
            "ticks": "",
            "zerolinecolor": "white"
           }
          },
          "shapedefaults": {
           "line": {
            "color": "#2a3f5f"
           }
          },
          "ternary": {
           "aaxis": {
            "gridcolor": "white",
            "linecolor": "white",
            "ticks": ""
           },
           "baxis": {
            "gridcolor": "white",
            "linecolor": "white",
            "ticks": ""
           },
           "bgcolor": "#E5ECF6",
           "caxis": {
            "gridcolor": "white",
            "linecolor": "white",
            "ticks": ""
           }
          },
          "title": {
           "x": 0.05
          },
          "xaxis": {
           "automargin": true,
           "gridcolor": "white",
           "linecolor": "white",
           "ticks": "",
           "title": {
            "standoff": 15
           },
           "zerolinecolor": "white",
           "zerolinewidth": 2
          },
          "yaxis": {
           "automargin": true,
           "gridcolor": "white",
           "linecolor": "white",
           "ticks": "",
           "title": {
            "standoff": 15
           },
           "zerolinecolor": "white",
           "zerolinewidth": 2
          }
         }
        },
        "title": {
         "text": "Density Plot with Smooth Line"
        },
        "xaxis": {
         "anchor": "y2",
         "domain": [
          0,
          1
         ],
         "title": {
          "text": "Value"
         },
         "zeroline": false
        },
        "yaxis": {
         "anchor": "free",
         "domain": [
          0,
          1
         ],
         "position": 0,
         "title": {
          "text": "Density"
         }
        }
       }
      }
     },
     "metadata": {},
     "output_type": "display_data"
    }
   ],
   "source": [
    "import plotly.express as px\n",
    "import plotly.figure_factory as ff\n",
    "\n",
    "clean_data = pd.read_csv(OUT / \"data\" / \"data_clean.csv\")\n",
    "\n",
    "clean_data['DurationMin'] = clean_data['Duration (in seconds)'] / 60\n",
    "\n",
    "fig = ff.create_distplot([clean_data['DurationMin']], ['DurationMin'], show_curve=True, show_rug=False, bin_size=2.0)\n",
    "\n",
    "# Update the layout if needed\n",
    "fig.update_layout(title='Density Plot with Smooth Line', xaxis_title='Value', yaxis_title='Density')\n",
    "\n",
    "\n",
    "# Show the plot\n",
    "fig.show()"
   ]
  }
 ],
 "metadata": {
  "kernelspec": {
   "display_name": "conjoint",
   "language": "python",
   "name": "python3"
  },
  "language_info": {
   "codemirror_mode": {
    "name": "ipython",
    "version": 3
   },
   "file_extension": ".py",
   "mimetype": "text/x-python",
   "name": "python",
   "nbconvert_exporter": "python",
   "pygments_lexer": "ipython3",
   "version": "3.11.4"
  },
  "orig_nbformat": 4
 },
 "nbformat": 4,
 "nbformat_minor": 2
}
