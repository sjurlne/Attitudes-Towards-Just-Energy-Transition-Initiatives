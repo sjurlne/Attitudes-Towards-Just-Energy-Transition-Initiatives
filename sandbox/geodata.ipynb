{
 "cells": [
  {
   "cell_type": "code",
   "execution_count": 1,
   "metadata": {},
   "outputs": [
    {
     "name": "stdout",
     "output_type": "stream",
     "text": [
      "The coordinates (28.6139, 77.209) are in the state of Delhi\n"
     ]
    }
   ],
   "source": [
    "from geopy.geocoders import Nominatim\n",
    "from geopy.exc import GeocoderTimedOut\n",
    "\n",
    "geolocator = Nominatim(user_agent=\"myGeocoder\")\n",
    "\n",
    "def get_state_from_coordinates(latitude, longitude):\n",
    "    try:\n",
    "        location = geolocator.reverse((latitude, longitude), exactly_one=True)\n",
    "        address = location.raw['address']\n",
    "        state = address.get('state', '')\n",
    "        return state\n",
    "    except GeocoderTimedOut:\n",
    "        return get_state_from_coordinates(latitude, longitude)  # Retry on timeout\n",
    "\n",
    "latitude = 28.6139  # Replace with your latitude\n",
    "longitude = 77.2090  # Replace with your longitude\n",
    "\n",
    "state = get_state_from_coordinates(latitude, longitude)\n",
    "print(f\"The coordinates ({latitude}, {longitude}) are in the state of {state}\")\n"
   ]
  }
 ],
 "metadata": {
  "kernelspec": {
   "display_name": "conjoint",
   "language": "python",
   "name": "python3"
  },
  "language_info": {
   "codemirror_mode": {
    "name": "ipython",
    "version": 3
   },
   "file_extension": ".py",
   "mimetype": "text/x-python",
   "name": "python",
   "nbconvert_exporter": "python",
   "pygments_lexer": "ipython3",
   "version": "3.11.4"
  },
  "orig_nbformat": 4
 },
 "nbformat": 4,
 "nbformat_minor": 2
}
